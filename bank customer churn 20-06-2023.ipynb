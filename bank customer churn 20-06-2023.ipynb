{
 "cells": [
  {
   "cell_type": "code",
   "execution_count": 1,
   "id": "a58e9710",
   "metadata": {},
   "outputs": [],
   "source": [
    "import pandas as pd\n",
    "import numpy as np\n",
    "import matplotlib.pyplot as plt\n",
    "import seaborn as sns\n"
   ]
  },
  {
   "cell_type": "code",
   "execution_count": 2,
   "id": "73144050",
   "metadata": {},
   "outputs": [
    {
     "data": {
      "text/html": [
       "<div>\n",
       "<style scoped>\n",
       "    .dataframe tbody tr th:only-of-type {\n",
       "        vertical-align: middle;\n",
       "    }\n",
       "\n",
       "    .dataframe tbody tr th {\n",
       "        vertical-align: top;\n",
       "    }\n",
       "\n",
       "    .dataframe thead th {\n",
       "        text-align: right;\n",
       "    }\n",
       "</style>\n",
       "<table border=\"1\" class=\"dataframe\">\n",
       "  <thead>\n",
       "    <tr style=\"text-align: right;\">\n",
       "      <th></th>\n",
       "      <th>RowNumber</th>\n",
       "      <th>CustomerId</th>\n",
       "      <th>Surname</th>\n",
       "      <th>CreditScore</th>\n",
       "      <th>Geography</th>\n",
       "      <th>Gender</th>\n",
       "      <th>Age</th>\n",
       "      <th>Tenure</th>\n",
       "      <th>Balance</th>\n",
       "      <th>NumOfProducts</th>\n",
       "      <th>HasCrCard</th>\n",
       "      <th>IsActiveMember</th>\n",
       "      <th>EstimatedSalary</th>\n",
       "      <th>Exited</th>\n",
       "      <th>Complain</th>\n",
       "      <th>Satisfaction Score</th>\n",
       "      <th>Card Type</th>\n",
       "      <th>Point Earned</th>\n",
       "    </tr>\n",
       "  </thead>\n",
       "  <tbody>\n",
       "    <tr>\n",
       "      <th>0</th>\n",
       "      <td>1</td>\n",
       "      <td>15634602</td>\n",
       "      <td>Hargrave</td>\n",
       "      <td>619</td>\n",
       "      <td>France</td>\n",
       "      <td>Female</td>\n",
       "      <td>42</td>\n",
       "      <td>2</td>\n",
       "      <td>0.00</td>\n",
       "      <td>1</td>\n",
       "      <td>1</td>\n",
       "      <td>1</td>\n",
       "      <td>101348.88</td>\n",
       "      <td>1</td>\n",
       "      <td>1</td>\n",
       "      <td>2</td>\n",
       "      <td>DIAMOND</td>\n",
       "      <td>464</td>\n",
       "    </tr>\n",
       "    <tr>\n",
       "      <th>1</th>\n",
       "      <td>2</td>\n",
       "      <td>15647311</td>\n",
       "      <td>Hill</td>\n",
       "      <td>608</td>\n",
       "      <td>Spain</td>\n",
       "      <td>Female</td>\n",
       "      <td>41</td>\n",
       "      <td>1</td>\n",
       "      <td>83807.86</td>\n",
       "      <td>1</td>\n",
       "      <td>0</td>\n",
       "      <td>1</td>\n",
       "      <td>112542.58</td>\n",
       "      <td>0</td>\n",
       "      <td>1</td>\n",
       "      <td>3</td>\n",
       "      <td>DIAMOND</td>\n",
       "      <td>456</td>\n",
       "    </tr>\n",
       "    <tr>\n",
       "      <th>2</th>\n",
       "      <td>3</td>\n",
       "      <td>15619304</td>\n",
       "      <td>Onio</td>\n",
       "      <td>502</td>\n",
       "      <td>France</td>\n",
       "      <td>Female</td>\n",
       "      <td>42</td>\n",
       "      <td>8</td>\n",
       "      <td>159660.80</td>\n",
       "      <td>3</td>\n",
       "      <td>1</td>\n",
       "      <td>0</td>\n",
       "      <td>113931.57</td>\n",
       "      <td>1</td>\n",
       "      <td>1</td>\n",
       "      <td>3</td>\n",
       "      <td>DIAMOND</td>\n",
       "      <td>377</td>\n",
       "    </tr>\n",
       "    <tr>\n",
       "      <th>3</th>\n",
       "      <td>4</td>\n",
       "      <td>15701354</td>\n",
       "      <td>Boni</td>\n",
       "      <td>699</td>\n",
       "      <td>France</td>\n",
       "      <td>Female</td>\n",
       "      <td>39</td>\n",
       "      <td>1</td>\n",
       "      <td>0.00</td>\n",
       "      <td>2</td>\n",
       "      <td>0</td>\n",
       "      <td>0</td>\n",
       "      <td>93826.63</td>\n",
       "      <td>0</td>\n",
       "      <td>0</td>\n",
       "      <td>5</td>\n",
       "      <td>GOLD</td>\n",
       "      <td>350</td>\n",
       "    </tr>\n",
       "    <tr>\n",
       "      <th>4</th>\n",
       "      <td>5</td>\n",
       "      <td>15737888</td>\n",
       "      <td>Mitchell</td>\n",
       "      <td>850</td>\n",
       "      <td>Spain</td>\n",
       "      <td>Female</td>\n",
       "      <td>43</td>\n",
       "      <td>2</td>\n",
       "      <td>125510.82</td>\n",
       "      <td>1</td>\n",
       "      <td>1</td>\n",
       "      <td>1</td>\n",
       "      <td>79084.10</td>\n",
       "      <td>0</td>\n",
       "      <td>0</td>\n",
       "      <td>5</td>\n",
       "      <td>GOLD</td>\n",
       "      <td>425</td>\n",
       "    </tr>\n",
       "    <tr>\n",
       "      <th>...</th>\n",
       "      <td>...</td>\n",
       "      <td>...</td>\n",
       "      <td>...</td>\n",
       "      <td>...</td>\n",
       "      <td>...</td>\n",
       "      <td>...</td>\n",
       "      <td>...</td>\n",
       "      <td>...</td>\n",
       "      <td>...</td>\n",
       "      <td>...</td>\n",
       "      <td>...</td>\n",
       "      <td>...</td>\n",
       "      <td>...</td>\n",
       "      <td>...</td>\n",
       "      <td>...</td>\n",
       "      <td>...</td>\n",
       "      <td>...</td>\n",
       "      <td>...</td>\n",
       "    </tr>\n",
       "    <tr>\n",
       "      <th>9995</th>\n",
       "      <td>9996</td>\n",
       "      <td>15606229</td>\n",
       "      <td>Obijiaku</td>\n",
       "      <td>771</td>\n",
       "      <td>France</td>\n",
       "      <td>Male</td>\n",
       "      <td>39</td>\n",
       "      <td>5</td>\n",
       "      <td>0.00</td>\n",
       "      <td>2</td>\n",
       "      <td>1</td>\n",
       "      <td>0</td>\n",
       "      <td>96270.64</td>\n",
       "      <td>0</td>\n",
       "      <td>0</td>\n",
       "      <td>1</td>\n",
       "      <td>DIAMOND</td>\n",
       "      <td>300</td>\n",
       "    </tr>\n",
       "    <tr>\n",
       "      <th>9996</th>\n",
       "      <td>9997</td>\n",
       "      <td>15569892</td>\n",
       "      <td>Johnstone</td>\n",
       "      <td>516</td>\n",
       "      <td>France</td>\n",
       "      <td>Male</td>\n",
       "      <td>35</td>\n",
       "      <td>10</td>\n",
       "      <td>57369.61</td>\n",
       "      <td>1</td>\n",
       "      <td>1</td>\n",
       "      <td>1</td>\n",
       "      <td>101699.77</td>\n",
       "      <td>0</td>\n",
       "      <td>0</td>\n",
       "      <td>5</td>\n",
       "      <td>PLATINUM</td>\n",
       "      <td>771</td>\n",
       "    </tr>\n",
       "    <tr>\n",
       "      <th>9997</th>\n",
       "      <td>9998</td>\n",
       "      <td>15584532</td>\n",
       "      <td>Liu</td>\n",
       "      <td>709</td>\n",
       "      <td>France</td>\n",
       "      <td>Female</td>\n",
       "      <td>36</td>\n",
       "      <td>7</td>\n",
       "      <td>0.00</td>\n",
       "      <td>1</td>\n",
       "      <td>0</td>\n",
       "      <td>1</td>\n",
       "      <td>42085.58</td>\n",
       "      <td>1</td>\n",
       "      <td>1</td>\n",
       "      <td>3</td>\n",
       "      <td>SILVER</td>\n",
       "      <td>564</td>\n",
       "    </tr>\n",
       "    <tr>\n",
       "      <th>9998</th>\n",
       "      <td>9999</td>\n",
       "      <td>15682355</td>\n",
       "      <td>Sabbatini</td>\n",
       "      <td>772</td>\n",
       "      <td>Germany</td>\n",
       "      <td>Male</td>\n",
       "      <td>42</td>\n",
       "      <td>3</td>\n",
       "      <td>75075.31</td>\n",
       "      <td>2</td>\n",
       "      <td>1</td>\n",
       "      <td>0</td>\n",
       "      <td>92888.52</td>\n",
       "      <td>1</td>\n",
       "      <td>1</td>\n",
       "      <td>2</td>\n",
       "      <td>GOLD</td>\n",
       "      <td>339</td>\n",
       "    </tr>\n",
       "    <tr>\n",
       "      <th>9999</th>\n",
       "      <td>10000</td>\n",
       "      <td>15628319</td>\n",
       "      <td>Walker</td>\n",
       "      <td>792</td>\n",
       "      <td>France</td>\n",
       "      <td>Female</td>\n",
       "      <td>28</td>\n",
       "      <td>4</td>\n",
       "      <td>130142.79</td>\n",
       "      <td>1</td>\n",
       "      <td>1</td>\n",
       "      <td>0</td>\n",
       "      <td>38190.78</td>\n",
       "      <td>0</td>\n",
       "      <td>0</td>\n",
       "      <td>3</td>\n",
       "      <td>DIAMOND</td>\n",
       "      <td>911</td>\n",
       "    </tr>\n",
       "  </tbody>\n",
       "</table>\n",
       "<p>10000 rows × 18 columns</p>\n",
       "</div>"
      ],
      "text/plain": [
       "      RowNumber  CustomerId    Surname  CreditScore Geography  Gender  Age  \\\n",
       "0             1    15634602   Hargrave          619    France  Female   42   \n",
       "1             2    15647311       Hill          608     Spain  Female   41   \n",
       "2             3    15619304       Onio          502    France  Female   42   \n",
       "3             4    15701354       Boni          699    France  Female   39   \n",
       "4             5    15737888   Mitchell          850     Spain  Female   43   \n",
       "...         ...         ...        ...          ...       ...     ...  ...   \n",
       "9995       9996    15606229   Obijiaku          771    France    Male   39   \n",
       "9996       9997    15569892  Johnstone          516    France    Male   35   \n",
       "9997       9998    15584532        Liu          709    France  Female   36   \n",
       "9998       9999    15682355  Sabbatini          772   Germany    Male   42   \n",
       "9999      10000    15628319     Walker          792    France  Female   28   \n",
       "\n",
       "      Tenure    Balance  NumOfProducts  HasCrCard  IsActiveMember  \\\n",
       "0          2       0.00              1          1               1   \n",
       "1          1   83807.86              1          0               1   \n",
       "2          8  159660.80              3          1               0   \n",
       "3          1       0.00              2          0               0   \n",
       "4          2  125510.82              1          1               1   \n",
       "...      ...        ...            ...        ...             ...   \n",
       "9995       5       0.00              2          1               0   \n",
       "9996      10   57369.61              1          1               1   \n",
       "9997       7       0.00              1          0               1   \n",
       "9998       3   75075.31              2          1               0   \n",
       "9999       4  130142.79              1          1               0   \n",
       "\n",
       "      EstimatedSalary  Exited  Complain  Satisfaction Score Card Type  \\\n",
       "0           101348.88       1         1                   2   DIAMOND   \n",
       "1           112542.58       0         1                   3   DIAMOND   \n",
       "2           113931.57       1         1                   3   DIAMOND   \n",
       "3            93826.63       0         0                   5      GOLD   \n",
       "4            79084.10       0         0                   5      GOLD   \n",
       "...               ...     ...       ...                 ...       ...   \n",
       "9995         96270.64       0         0                   1   DIAMOND   \n",
       "9996        101699.77       0         0                   5  PLATINUM   \n",
       "9997         42085.58       1         1                   3    SILVER   \n",
       "9998         92888.52       1         1                   2      GOLD   \n",
       "9999         38190.78       0         0                   3   DIAMOND   \n",
       "\n",
       "      Point Earned  \n",
       "0              464  \n",
       "1              456  \n",
       "2              377  \n",
       "3              350  \n",
       "4              425  \n",
       "...            ...  \n",
       "9995           300  \n",
       "9996           771  \n",
       "9997           564  \n",
       "9998           339  \n",
       "9999           911  \n",
       "\n",
       "[10000 rows x 18 columns]"
      ]
     },
     "execution_count": 2,
     "metadata": {},
     "output_type": "execute_result"
    }
   ],
   "source": [
    "df =  pd.read_csv('Customer-Churn-Records.csv')\n",
    "df"
   ]
  },
  {
   "cell_type": "code",
   "execution_count": 3,
   "id": "81ae5a06",
   "metadata": {},
   "outputs": [
    {
     "name": "stdout",
     "output_type": "stream",
     "text": [
      "<class 'pandas.core.frame.DataFrame'>\n",
      "RangeIndex: 10000 entries, 0 to 9999\n",
      "Data columns (total 18 columns):\n",
      " #   Column              Non-Null Count  Dtype  \n",
      "---  ------              --------------  -----  \n",
      " 0   RowNumber           10000 non-null  int64  \n",
      " 1   CustomerId          10000 non-null  int64  \n",
      " 2   Surname             10000 non-null  object \n",
      " 3   CreditScore         10000 non-null  int64  \n",
      " 4   Geography           10000 non-null  object \n",
      " 5   Gender              10000 non-null  object \n",
      " 6   Age                 10000 non-null  int64  \n",
      " 7   Tenure              10000 non-null  int64  \n",
      " 8   Balance             10000 non-null  float64\n",
      " 9   NumOfProducts       10000 non-null  int64  \n",
      " 10  HasCrCard           10000 non-null  int64  \n",
      " 11  IsActiveMember      10000 non-null  int64  \n",
      " 12  EstimatedSalary     10000 non-null  float64\n",
      " 13  Exited              10000 non-null  int64  \n",
      " 14  Complain            10000 non-null  int64  \n",
      " 15  Satisfaction Score  10000 non-null  int64  \n",
      " 16  Card Type           10000 non-null  object \n",
      " 17  Point Earned        10000 non-null  int64  \n",
      "dtypes: float64(2), int64(12), object(4)\n",
      "memory usage: 1.4+ MB\n"
     ]
    }
   ],
   "source": [
    "df.info()"
   ]
  },
  {
   "cell_type": "code",
   "execution_count": 4,
   "id": "114ebe61",
   "metadata": {},
   "outputs": [
    {
     "data": {
      "text/plain": [
       "RowNumber             0\n",
       "CustomerId            0\n",
       "Surname               0\n",
       "CreditScore           0\n",
       "Geography             0\n",
       "Gender                0\n",
       "Age                   0\n",
       "Tenure                0\n",
       "Balance               0\n",
       "NumOfProducts         0\n",
       "HasCrCard             0\n",
       "IsActiveMember        0\n",
       "EstimatedSalary       0\n",
       "Exited                0\n",
       "Complain              0\n",
       "Satisfaction Score    0\n",
       "Card Type             0\n",
       "Point Earned          0\n",
       "dtype: int64"
      ]
     },
     "execution_count": 4,
     "metadata": {},
     "output_type": "execute_result"
    }
   ],
   "source": [
    "df.isna().sum()"
   ]
  },
  {
   "cell_type": "code",
   "execution_count": 5,
   "id": "6b81b37f",
   "metadata": {},
   "outputs": [],
   "source": [
    "df1 = df.drop('RowNumber',axis = 1)"
   ]
  },
  {
   "cell_type": "code",
   "execution_count": 6,
   "id": "7ca7d2ce",
   "metadata": {},
   "outputs": [],
   "source": [
    "df2 = df1.drop('CustomerId',axis = 1) "
   ]
  },
  {
   "cell_type": "code",
   "execution_count": 7,
   "id": "fa28a925",
   "metadata": {},
   "outputs": [],
   "source": [
    "df = df2.drop('Surname',axis = 1) "
   ]
  },
  {
   "cell_type": "code",
   "execution_count": 8,
   "id": "d4f56814",
   "metadata": {},
   "outputs": [
    {
     "data": {
      "text/html": [
       "<div>\n",
       "<style scoped>\n",
       "    .dataframe tbody tr th:only-of-type {\n",
       "        vertical-align: middle;\n",
       "    }\n",
       "\n",
       "    .dataframe tbody tr th {\n",
       "        vertical-align: top;\n",
       "    }\n",
       "\n",
       "    .dataframe thead th {\n",
       "        text-align: right;\n",
       "    }\n",
       "</style>\n",
       "<table border=\"1\" class=\"dataframe\">\n",
       "  <thead>\n",
       "    <tr style=\"text-align: right;\">\n",
       "      <th></th>\n",
       "      <th>CreditScore</th>\n",
       "      <th>Geography</th>\n",
       "      <th>Gender</th>\n",
       "      <th>Age</th>\n",
       "      <th>Tenure</th>\n",
       "      <th>Balance</th>\n",
       "      <th>NumOfProducts</th>\n",
       "      <th>HasCrCard</th>\n",
       "      <th>IsActiveMember</th>\n",
       "      <th>EstimatedSalary</th>\n",
       "      <th>Exited</th>\n",
       "      <th>Complain</th>\n",
       "      <th>Satisfaction Score</th>\n",
       "      <th>Card Type</th>\n",
       "      <th>Point Earned</th>\n",
       "    </tr>\n",
       "  </thead>\n",
       "  <tbody>\n",
       "    <tr>\n",
       "      <th>0</th>\n",
       "      <td>619</td>\n",
       "      <td>France</td>\n",
       "      <td>Female</td>\n",
       "      <td>42</td>\n",
       "      <td>2</td>\n",
       "      <td>0.00</td>\n",
       "      <td>1</td>\n",
       "      <td>1</td>\n",
       "      <td>1</td>\n",
       "      <td>101348.88</td>\n",
       "      <td>1</td>\n",
       "      <td>1</td>\n",
       "      <td>2</td>\n",
       "      <td>DIAMOND</td>\n",
       "      <td>464</td>\n",
       "    </tr>\n",
       "    <tr>\n",
       "      <th>1</th>\n",
       "      <td>608</td>\n",
       "      <td>Spain</td>\n",
       "      <td>Female</td>\n",
       "      <td>41</td>\n",
       "      <td>1</td>\n",
       "      <td>83807.86</td>\n",
       "      <td>1</td>\n",
       "      <td>0</td>\n",
       "      <td>1</td>\n",
       "      <td>112542.58</td>\n",
       "      <td>0</td>\n",
       "      <td>1</td>\n",
       "      <td>3</td>\n",
       "      <td>DIAMOND</td>\n",
       "      <td>456</td>\n",
       "    </tr>\n",
       "    <tr>\n",
       "      <th>2</th>\n",
       "      <td>502</td>\n",
       "      <td>France</td>\n",
       "      <td>Female</td>\n",
       "      <td>42</td>\n",
       "      <td>8</td>\n",
       "      <td>159660.80</td>\n",
       "      <td>3</td>\n",
       "      <td>1</td>\n",
       "      <td>0</td>\n",
       "      <td>113931.57</td>\n",
       "      <td>1</td>\n",
       "      <td>1</td>\n",
       "      <td>3</td>\n",
       "      <td>DIAMOND</td>\n",
       "      <td>377</td>\n",
       "    </tr>\n",
       "    <tr>\n",
       "      <th>3</th>\n",
       "      <td>699</td>\n",
       "      <td>France</td>\n",
       "      <td>Female</td>\n",
       "      <td>39</td>\n",
       "      <td>1</td>\n",
       "      <td>0.00</td>\n",
       "      <td>2</td>\n",
       "      <td>0</td>\n",
       "      <td>0</td>\n",
       "      <td>93826.63</td>\n",
       "      <td>0</td>\n",
       "      <td>0</td>\n",
       "      <td>5</td>\n",
       "      <td>GOLD</td>\n",
       "      <td>350</td>\n",
       "    </tr>\n",
       "    <tr>\n",
       "      <th>4</th>\n",
       "      <td>850</td>\n",
       "      <td>Spain</td>\n",
       "      <td>Female</td>\n",
       "      <td>43</td>\n",
       "      <td>2</td>\n",
       "      <td>125510.82</td>\n",
       "      <td>1</td>\n",
       "      <td>1</td>\n",
       "      <td>1</td>\n",
       "      <td>79084.10</td>\n",
       "      <td>0</td>\n",
       "      <td>0</td>\n",
       "      <td>5</td>\n",
       "      <td>GOLD</td>\n",
       "      <td>425</td>\n",
       "    </tr>\n",
       "    <tr>\n",
       "      <th>...</th>\n",
       "      <td>...</td>\n",
       "      <td>...</td>\n",
       "      <td>...</td>\n",
       "      <td>...</td>\n",
       "      <td>...</td>\n",
       "      <td>...</td>\n",
       "      <td>...</td>\n",
       "      <td>...</td>\n",
       "      <td>...</td>\n",
       "      <td>...</td>\n",
       "      <td>...</td>\n",
       "      <td>...</td>\n",
       "      <td>...</td>\n",
       "      <td>...</td>\n",
       "      <td>...</td>\n",
       "    </tr>\n",
       "    <tr>\n",
       "      <th>9995</th>\n",
       "      <td>771</td>\n",
       "      <td>France</td>\n",
       "      <td>Male</td>\n",
       "      <td>39</td>\n",
       "      <td>5</td>\n",
       "      <td>0.00</td>\n",
       "      <td>2</td>\n",
       "      <td>1</td>\n",
       "      <td>0</td>\n",
       "      <td>96270.64</td>\n",
       "      <td>0</td>\n",
       "      <td>0</td>\n",
       "      <td>1</td>\n",
       "      <td>DIAMOND</td>\n",
       "      <td>300</td>\n",
       "    </tr>\n",
       "    <tr>\n",
       "      <th>9996</th>\n",
       "      <td>516</td>\n",
       "      <td>France</td>\n",
       "      <td>Male</td>\n",
       "      <td>35</td>\n",
       "      <td>10</td>\n",
       "      <td>57369.61</td>\n",
       "      <td>1</td>\n",
       "      <td>1</td>\n",
       "      <td>1</td>\n",
       "      <td>101699.77</td>\n",
       "      <td>0</td>\n",
       "      <td>0</td>\n",
       "      <td>5</td>\n",
       "      <td>PLATINUM</td>\n",
       "      <td>771</td>\n",
       "    </tr>\n",
       "    <tr>\n",
       "      <th>9997</th>\n",
       "      <td>709</td>\n",
       "      <td>France</td>\n",
       "      <td>Female</td>\n",
       "      <td>36</td>\n",
       "      <td>7</td>\n",
       "      <td>0.00</td>\n",
       "      <td>1</td>\n",
       "      <td>0</td>\n",
       "      <td>1</td>\n",
       "      <td>42085.58</td>\n",
       "      <td>1</td>\n",
       "      <td>1</td>\n",
       "      <td>3</td>\n",
       "      <td>SILVER</td>\n",
       "      <td>564</td>\n",
       "    </tr>\n",
       "    <tr>\n",
       "      <th>9998</th>\n",
       "      <td>772</td>\n",
       "      <td>Germany</td>\n",
       "      <td>Male</td>\n",
       "      <td>42</td>\n",
       "      <td>3</td>\n",
       "      <td>75075.31</td>\n",
       "      <td>2</td>\n",
       "      <td>1</td>\n",
       "      <td>0</td>\n",
       "      <td>92888.52</td>\n",
       "      <td>1</td>\n",
       "      <td>1</td>\n",
       "      <td>2</td>\n",
       "      <td>GOLD</td>\n",
       "      <td>339</td>\n",
       "    </tr>\n",
       "    <tr>\n",
       "      <th>9999</th>\n",
       "      <td>792</td>\n",
       "      <td>France</td>\n",
       "      <td>Female</td>\n",
       "      <td>28</td>\n",
       "      <td>4</td>\n",
       "      <td>130142.79</td>\n",
       "      <td>1</td>\n",
       "      <td>1</td>\n",
       "      <td>0</td>\n",
       "      <td>38190.78</td>\n",
       "      <td>0</td>\n",
       "      <td>0</td>\n",
       "      <td>3</td>\n",
       "      <td>DIAMOND</td>\n",
       "      <td>911</td>\n",
       "    </tr>\n",
       "  </tbody>\n",
       "</table>\n",
       "<p>10000 rows × 15 columns</p>\n",
       "</div>"
      ],
      "text/plain": [
       "      CreditScore Geography  Gender  Age  Tenure    Balance  NumOfProducts  \\\n",
       "0             619    France  Female   42       2       0.00              1   \n",
       "1             608     Spain  Female   41       1   83807.86              1   \n",
       "2             502    France  Female   42       8  159660.80              3   \n",
       "3             699    France  Female   39       1       0.00              2   \n",
       "4             850     Spain  Female   43       2  125510.82              1   \n",
       "...           ...       ...     ...  ...     ...        ...            ...   \n",
       "9995          771    France    Male   39       5       0.00              2   \n",
       "9996          516    France    Male   35      10   57369.61              1   \n",
       "9997          709    France  Female   36       7       0.00              1   \n",
       "9998          772   Germany    Male   42       3   75075.31              2   \n",
       "9999          792    France  Female   28       4  130142.79              1   \n",
       "\n",
       "      HasCrCard  IsActiveMember  EstimatedSalary  Exited  Complain  \\\n",
       "0             1               1        101348.88       1         1   \n",
       "1             0               1        112542.58       0         1   \n",
       "2             1               0        113931.57       1         1   \n",
       "3             0               0         93826.63       0         0   \n",
       "4             1               1         79084.10       0         0   \n",
       "...         ...             ...              ...     ...       ...   \n",
       "9995          1               0         96270.64       0         0   \n",
       "9996          1               1        101699.77       0         0   \n",
       "9997          0               1         42085.58       1         1   \n",
       "9998          1               0         92888.52       1         1   \n",
       "9999          1               0         38190.78       0         0   \n",
       "\n",
       "      Satisfaction Score Card Type  Point Earned  \n",
       "0                      2   DIAMOND           464  \n",
       "1                      3   DIAMOND           456  \n",
       "2                      3   DIAMOND           377  \n",
       "3                      5      GOLD           350  \n",
       "4                      5      GOLD           425  \n",
       "...                  ...       ...           ...  \n",
       "9995                   1   DIAMOND           300  \n",
       "9996                   5  PLATINUM           771  \n",
       "9997                   3    SILVER           564  \n",
       "9998                   2      GOLD           339  \n",
       "9999                   3   DIAMOND           911  \n",
       "\n",
       "[10000 rows x 15 columns]"
      ]
     },
     "execution_count": 8,
     "metadata": {},
     "output_type": "execute_result"
    }
   ],
   "source": [
    "df"
   ]
  },
  {
   "cell_type": "code",
   "execution_count": 9,
   "id": "d04d8fd8",
   "metadata": {},
   "outputs": [
    {
     "data": {
      "text/plain": [
       "array(['DIAMOND', 'GOLD', 'SILVER', 'PLATINUM'], dtype=object)"
      ]
     },
     "execution_count": 9,
     "metadata": {},
     "output_type": "execute_result"
    }
   ],
   "source": [
    "df['Card Type'].unique()"
   ]
  },
  {
   "cell_type": "code",
   "execution_count": 10,
   "id": "a22d7f2e",
   "metadata": {},
   "outputs": [
    {
     "data": {
      "text/plain": [
       "array([2, 3, 5, 4, 1], dtype=int64)"
      ]
     },
     "execution_count": 10,
     "metadata": {},
     "output_type": "execute_result"
    }
   ],
   "source": [
    "df['Satisfaction Score'].unique()"
   ]
  },
  {
   "cell_type": "code",
   "execution_count": 11,
   "id": "9574e7a8",
   "metadata": {},
   "outputs": [
    {
     "data": {
      "text/plain": [
       "array(['France', 'Spain', 'Germany'], dtype=object)"
      ]
     },
     "execution_count": 11,
     "metadata": {},
     "output_type": "execute_result"
    }
   ],
   "source": [
    "df['Geography'].unique()"
   ]
  },
  {
   "cell_type": "code",
   "execution_count": 12,
   "id": "ceb3617d",
   "metadata": {},
   "outputs": [
    {
     "data": {
      "text/plain": [
       "array(['Female', 'Male'], dtype=object)"
      ]
     },
     "execution_count": 12,
     "metadata": {},
     "output_type": "execute_result"
    }
   ],
   "source": [
    "df['Gender'].unique()"
   ]
  },
  {
   "cell_type": "code",
   "execution_count": 13,
   "id": "01842d32",
   "metadata": {},
   "outputs": [
    {
     "data": {
      "image/png": "[encoded data removed]",
      "text/plain": [
       "<Figure size 500x500 with 1 Axes>"
      ]
     },
     "metadata": {},
     "output_type": "display_data"
    }
   ],
   "source": [
    "sns.displot(df['Age'])\n",
    "plt.show()"
   ]
  },
  {
   "cell_type": "code",
   "execution_count": 14,
   "id": "00c51e05",
   "metadata": {},
   "outputs": [
    {
     "data": {
      "image/png": "[encoded data removed]",
      "text/plain": [
       "<Figure size 500x500 with 1 Axes>"
      ]
     },
     "metadata": {},
     "output_type": "display_data"
    }
   ],
   "source": [
    "sns.displot(df['Tenure'])\n",
    "plt.show()"
   ]
  },
  {
   "cell_type": "code",
   "execution_count": 15,
   "id": "15faa9f9",
   "metadata": {},
   "outputs": [],
   "source": [
    "df_dummies = pd.get_dummies(df,drop_first=True)"
   ]
  },
  {
   "cell_type": "code",
   "execution_count": 16,
   "id": "3dff502b",
   "metadata": {},
   "outputs": [
    {
     "data": {
      "text/html": [
       "<div>\n",
       "<style scoped>\n",
       "    .dataframe tbody tr th:only-of-type {\n",
       "        vertical-align: middle;\n",
       "    }\n",
       "\n",
       "    .dataframe tbody tr th {\n",
       "        vertical-align: top;\n",
       "    }\n",
       "\n",
       "    .dataframe thead th {\n",
       "        text-align: right;\n",
       "    }\n",
       "</style>\n",
       "<table border=\"1\" class=\"dataframe\">\n",
       "  <thead>\n",
       "    <tr style=\"text-align: right;\">\n",
       "      <th></th>\n",
       "      <th>CreditScore</th>\n",
       "      <th>Age</th>\n",
       "      <th>Tenure</th>\n",
       "      <th>Balance</th>\n",
       "      <th>NumOfProducts</th>\n",
       "      <th>HasCrCard</th>\n",
       "      <th>IsActiveMember</th>\n",
       "      <th>EstimatedSalary</th>\n",
       "      <th>Exited</th>\n",
       "      <th>Complain</th>\n",
       "      <th>Satisfaction Score</th>\n",
       "      <th>Point Earned</th>\n",
       "      <th>Geography_Germany</th>\n",
       "      <th>Geography_Spain</th>\n",
       "      <th>Gender_Male</th>\n",
       "      <th>Card Type_GOLD</th>\n",
       "      <th>Card Type_PLATINUM</th>\n",
       "      <th>Card Type_SILVER</th>\n",
       "    </tr>\n",
       "  </thead>\n",
       "  <tbody>\n",
       "    <tr>\n",
       "      <th>0</th>\n",
       "      <td>619</td>\n",
       "      <td>42</td>\n",
       "      <td>2</td>\n",
       "      <td>0.00</td>\n",
       "      <td>1</td>\n",
       "      <td>1</td>\n",
       "      <td>1</td>\n",
       "      <td>101348.88</td>\n",
       "      <td>1</td>\n",
       "      <td>1</td>\n",
       "      <td>2</td>\n",
       "      <td>464</td>\n",
       "      <td>0</td>\n",
       "      <td>0</td>\n",
       "      <td>0</td>\n",
       "      <td>0</td>\n",
       "      <td>0</td>\n",
       "      <td>0</td>\n",
       "    </tr>\n",
       "    <tr>\n",
       "      <th>1</th>\n",
       "      <td>608</td>\n",
       "      <td>41</td>\n",
       "      <td>1</td>\n",
       "      <td>83807.86</td>\n",
       "      <td>1</td>\n",
       "      <td>0</td>\n",
       "      <td>1</td>\n",
       "      <td>112542.58</td>\n",
       "      <td>0</td>\n",
       "      <td>1</td>\n",
       "      <td>3</td>\n",
       "      <td>456</td>\n",
       "      <td>0</td>\n",
       "      <td>1</td>\n",
       "      <td>0</td>\n",
       "      <td>0</td>\n",
       "      <td>0</td>\n",
       "      <td>0</td>\n",
       "    </tr>\n",
       "    <tr>\n",
       "      <th>2</th>\n",
       "      <td>502</td>\n",
       "      <td>42</td>\n",
       "      <td>8</td>\n",
       "      <td>159660.80</td>\n",
       "      <td>3</td>\n",
       "      <td>1</td>\n",
       "      <td>0</td>\n",
       "      <td>113931.57</td>\n",
       "      <td>1</td>\n",
       "      <td>1</td>\n",
       "      <td>3</td>\n",
       "      <td>377</td>\n",
       "      <td>0</td>\n",
       "      <td>0</td>\n",
       "      <td>0</td>\n",
       "      <td>0</td>\n",
       "      <td>0</td>\n",
       "      <td>0</td>\n",
       "    </tr>\n",
       "    <tr>\n",
       "      <th>3</th>\n",
       "      <td>699</td>\n",
       "      <td>39</td>\n",
       "      <td>1</td>\n",
       "      <td>0.00</td>\n",
       "      <td>2</td>\n",
       "      <td>0</td>\n",
       "      <td>0</td>\n",
       "      <td>93826.63</td>\n",
       "      <td>0</td>\n",
       "      <td>0</td>\n",
       "      <td>5</td>\n",
       "      <td>350</td>\n",
       "      <td>0</td>\n",
       "      <td>0</td>\n",
       "      <td>0</td>\n",
       "      <td>1</td>\n",
       "      <td>0</td>\n",
       "      <td>0</td>\n",
       "    </tr>\n",
       "    <tr>\n",
       "      <th>4</th>\n",
       "      <td>850</td>\n",
       "      <td>43</td>\n",
       "      <td>2</td>\n",
       "      <td>125510.82</td>\n",
       "      <td>1</td>\n",
       "      <td>1</td>\n",
       "      <td>1</td>\n",
       "      <td>79084.10</td>\n",
       "      <td>0</td>\n",
       "      <td>0</td>\n",
       "      <td>5</td>\n",
       "      <td>425</td>\n",
       "      <td>0</td>\n",
       "      <td>1</td>\n",
       "      <td>0</td>\n",
       "      <td>1</td>\n",
       "      <td>0</td>\n",
       "      <td>0</td>\n",
       "    </tr>\n",
       "    <tr>\n",
       "      <th>...</th>\n",
       "      <td>...</td>\n",
       "      <td>...</td>\n",
       "      <td>...</td>\n",
       "      <td>...</td>\n",
       "      <td>...</td>\n",
       "      <td>...</td>\n",
       "      <td>...</td>\n",
       "      <td>...</td>\n",
       "      <td>...</td>\n",
       "      <td>...</td>\n",
       "      <td>...</td>\n",
       "      <td>...</td>\n",
       "      <td>...</td>\n",
       "      <td>...</td>\n",
       "      <td>...</td>\n",
       "      <td>...</td>\n",
       "      <td>...</td>\n",
       "      <td>...</td>\n",
       "    </tr>\n",
       "    <tr>\n",
       "      <th>9995</th>\n",
       "      <td>771</td>\n",
       "      <td>39</td>\n",
       "      <td>5</td>\n",
       "      <td>0.00</td>\n",
       "      <td>2</td>\n",
       "      <td>1</td>\n",
       "      <td>0</td>\n",
       "      <td>96270.64</td>\n",
       "      <td>0</td>\n",
       "      <td>0</td>\n",
       "      <td>1</td>\n",
       "      <td>300</td>\n",
       "      <td>0</td>\n",
       "      <td>0</td>\n",
       "      <td>1</td>\n",
       "      <td>0</td>\n",
       "      <td>0</td>\n",
       "      <td>0</td>\n",
       "    </tr>\n",
       "    <tr>\n",
       "      <th>9996</th>\n",
       "      <td>516</td>\n",
       "      <td>35</td>\n",
       "      <td>10</td>\n",
       "      <td>57369.61</td>\n",
       "      <td>1</td>\n",
       "      <td>1</td>\n",
       "      <td>1</td>\n",
       "      <td>101699.77</td>\n",
       "      <td>0</td>\n",
       "      <td>0</td>\n",
       "      <td>5</td>\n",
       "      <td>771</td>\n",
       "      <td>0</td>\n",
       "      <td>0</td>\n",
       "      <td>1</td>\n",
       "      <td>0</td>\n",
       "      <td>1</td>\n",
       "      <td>0</td>\n",
       "    </tr>\n",
       "    <tr>\n",
       "      <th>9997</th>\n",
       "      <td>709</td>\n",
       "      <td>36</td>\n",
       "      <td>7</td>\n",
       "      <td>0.00</td>\n",
       "      <td>1</td>\n",
       "      <td>0</td>\n",
       "      <td>1</td>\n",
       "      <td>42085.58</td>\n",
       "      <td>1</td>\n",
       "      <td>1</td>\n",
       "      <td>3</td>\n",
       "      <td>564</td>\n",
       "      <td>0</td>\n",
       "      <td>0</td>\n",
       "      <td>0</td>\n",
       "      <td>0</td>\n",
       "      <td>0</td>\n",
       "      <td>1</td>\n",
       "    </tr>\n",
       "    <tr>\n",
       "      <th>9998</th>\n",
       "      <td>772</td>\n",
       "      <td>42</td>\n",
       "      <td>3</td>\n",
       "      <td>75075.31</td>\n",
       "      <td>2</td>\n",
       "      <td>1</td>\n",
       "      <td>0</td>\n",
       "      <td>92888.52</td>\n",
       "      <td>1</td>\n",
       "      <td>1</td>\n",
       "      <td>2</td>\n",
       "      <td>339</td>\n",
       "      <td>1</td>\n",
       "      <td>0</td>\n",
       "      <td>1</td>\n",
       "      <td>1</td>\n",
       "      <td>0</td>\n",
       "      <td>0</td>\n",
       "    </tr>\n",
       "    <tr>\n",
       "      <th>9999</th>\n",
       "      <td>792</td>\n",
       "      <td>28</td>\n",
       "      <td>4</td>\n",
       "      <td>130142.79</td>\n",
       "      <td>1</td>\n",
       "      <td>1</td>\n",
       "      <td>0</td>\n",
       "      <td>38190.78</td>\n",
       "      <td>0</td>\n",
       "      <td>0</td>\n",
       "      <td>3</td>\n",
       "      <td>911</td>\n",
       "      <td>0</td>\n",
       "      <td>0</td>\n",
       "      <td>0</td>\n",
       "      <td>0</td>\n",
       "      <td>0</td>\n",
       "      <td>0</td>\n",
       "    </tr>\n",
       "  </tbody>\n",
       "</table>\n",
       "<p>10000 rows × 18 columns</p>\n",
       "</div>"
      ],
      "text/plain": [
       "      CreditScore  Age  Tenure    Balance  NumOfProducts  HasCrCard  \\\n",
       "0             619   42       2       0.00              1          1   \n",
       "1             608   41       1   83807.86              1          0   \n",
       "2             502   42       8  159660.80              3          1   \n",
       "3             699   39       1       0.00              2          0   \n",
       "4             850   43       2  125510.82              1          1   \n",
       "...           ...  ...     ...        ...            ...        ...   \n",
       "9995          771   39       5       0.00              2          1   \n",
       "9996          516   35      10   57369.61              1          1   \n",
       "9997          709   36       7       0.00              1          0   \n",
       "9998          772   42       3   75075.31              2          1   \n",
       "9999          792   28       4  130142.79              1          1   \n",
       "\n",
       "      IsActiveMember  EstimatedSalary  Exited  Complain  Satisfaction Score  \\\n",
       "0                  1        101348.88       1         1                   2   \n",
       "1                  1        112542.58       0         1                   3   \n",
       "2                  0        113931.57       1         1                   3   \n",
       "3                  0         93826.63       0         0                   5   \n",
       "4                  1         79084.10       0         0                   5   \n",
       "...              ...              ...     ...       ...                 ...   \n",
       "9995               0         96270.64       0         0                   1   \n",
       "9996               1        101699.77       0         0                   5   \n",
       "9997               1         42085.58       1         1                   3   \n",
       "9998               0         92888.52       1         1                   2   \n",
       "9999               0         38190.78       0         0                   3   \n",
       "\n",
       "      Point Earned  Geography_Germany  Geography_Spain  Gender_Male  \\\n",
       "0              464                  0                0            0   \n",
       "1              456                  0                1            0   \n",
       "2              377                  0                0            0   \n",
       "3              350                  0                0            0   \n",
       "4              425                  0                1            0   \n",
       "...            ...                ...              ...          ...   \n",
       "9995           300                  0                0            1   \n",
       "9996           771                  0                0            1   \n",
       "9997           564                  0                0            0   \n",
       "9998           339                  1                0            1   \n",
       "9999           911                  0                0            0   \n",
       "\n",
       "      Card Type_GOLD  Card Type_PLATINUM  Card Type_SILVER  \n",
       "0                  0                   0                 0  \n",
       "1                  0                   0                 0  \n",
       "2                  0                   0                 0  \n",
       "3                  1                   0                 0  \n",
       "4                  1                   0                 0  \n",
       "...              ...                 ...               ...  \n",
       "9995               0                   0                 0  \n",
       "9996               0                   1                 0  \n",
       "9997               0                   0                 1  \n",
       "9998               1                   0                 0  \n",
       "9999               0                   0                 0  \n",
       "\n",
       "[10000 rows x 18 columns]"
      ]
     },
     "execution_count": 16,
     "metadata": {},
     "output_type": "execute_result"
    }
   ],
   "source": [
    "df_dummies"
   ]
  },
  {
   "cell_type": "code",
   "execution_count": 17,
   "id": "03253b3b",
   "metadata": {},
   "outputs": [],
   "source": [
    "X = df_dummies.drop(columns='Exited')\n",
    "Y = df['Exited']"
   ]
  },
  {
   "cell_type": "code",
   "execution_count": 18,
   "id": "0b2879de",
   "metadata": {},
   "outputs": [],
   "source": [
    "from sklearn.model_selection import train_test_split\n",
    "x_train,x_test,y_train,y_test = train_test_split(X,Y,test_size=0.2,random_state=0)"
   ]
  },
  {
   "cell_type": "code",
   "execution_count": 19,
   "id": "68b1210b",
   "metadata": {},
   "outputs": [
    {
     "data": {
      "text/plain": [
       "(2000, 17)"
      ]
     },
     "execution_count": 19,
     "metadata": {},
     "output_type": "execute_result"
    }
   ],
   "source": [
    "x_test.shape"
   ]
  },
  {
   "cell_type": "code",
   "execution_count": 20,
   "id": "71778b7d",
   "metadata": {},
   "outputs": [
    {
     "data": {
      "text/plain": [
       "(8000, 17)"
      ]
     },
     "execution_count": 20,
     "metadata": {},
     "output_type": "execute_result"
    }
   ],
   "source": [
    "x_train.shape"
   ]
  },
  {
   "cell_type": "code",
   "execution_count": 21,
   "id": "c0b51c1f",
   "metadata": {},
   "outputs": [],
   "source": [
    "from sklearn.preprocessing import StandardScaler\n",
    "sc = StandardScaler()\n",
    "x_train = sc.fit_transform(x_train)\n",
    "x_test = sc.transform(x_test)"
   ]
  },
  {
   "cell_type": "code",
   "execution_count": 22,
   "id": "e64d6f44",
   "metadata": {},
   "outputs": [],
   "source": [
    "from keras.models import Sequential\n",
    "from keras.layers import Dense"
   ]
  },
  {
   "cell_type": "code",
   "execution_count": 25,
   "id": "0a63aa38",
   "metadata": {},
   "outputs": [],
   "source": [
    "model = Sequential()\n",
    "model.add(Dense(units=6, activation='relu', input_dim=17, kernel_initializer=\"uniform\"))\n",
    "model.add(Dense(units=6, activation='relu', kernel_initializer=\"uniform\"))\n",
    "model.add(Dense(units=1, activation='sigmoid', kernel_initializer=\"uniform\"))\n",
    "\n",
    "model.compile(optimizer='adam', loss='binary_crossentropy', metrics=['accuracy'])\n"
   ]
  },
  {
   "cell_type": "code",
   "execution_count": 26,
   "id": "70326e02",
   "metadata": {},
   "outputs": [
    {
     "name": "stdout",
     "output_type": "stream",
     "text": [
      "Epoch 1/20\n",
      "800/800 [==============================] - 6s 4ms/step - loss: 0.2881 - accuracy: 0.8521\n",
      "Epoch 2/20\n",
      "800/800 [==============================] - 3s 4ms/step - loss: 0.1109 - accuracy: 0.9984\n",
      "Epoch 3/20\n",
      "800/800 [==============================] - 3s 4ms/step - loss: 0.0761 - accuracy: 0.9984\n",
      "Epoch 4/20\n",
      "800/800 [==============================] - 3s 4ms/step - loss: 0.0534 - accuracy: 0.9984\n",
      "Epoch 5/20\n",
      "800/800 [==============================] - 3s 4ms/step - loss: 0.0387 - accuracy: 0.9984\n",
      "Epoch 6/20\n",
      "800/800 [==============================] - 3s 4ms/step - loss: 0.0291 - accuracy: 0.9984\n",
      "Epoch 7/20\n",
      "800/800 [==============================] - 3s 4ms/step - loss: 0.0228 - accuracy: 0.9984\n",
      "Epoch 8/20\n",
      "800/800 [==============================] - 3s 4ms/step - loss: 0.0187 - accuracy: 0.9984\n",
      "Epoch 9/20\n",
      "800/800 [==============================] - 3s 4ms/step - loss: 0.0158 - accuracy: 0.9984\n",
      "Epoch 10/20\n",
      "800/800 [==============================] - 3s 4ms/step - loss: 0.0139 - accuracy: 0.9984\n",
      "Epoch 11/20\n",
      "800/800 [==============================] - 3s 4ms/step - loss: 0.0127 - accuracy: 0.9984\n",
      "Epoch 12/20\n",
      "800/800 [==============================] - 3s 4ms/step - loss: 0.0119 - accuracy: 0.9984\n",
      "Epoch 13/20\n",
      "800/800 [==============================] - 3s 4ms/step - loss: 0.0114 - accuracy: 0.9984\n",
      "Epoch 14/20\n",
      "800/800 [==============================] - 3s 4ms/step - loss: 0.0109 - accuracy: 0.9984\n",
      "Epoch 15/20\n",
      "800/800 [==============================] - 3s 4ms/step - loss: 0.0108 - accuracy: 0.9984\n",
      "Epoch 16/20\n",
      "800/800 [==============================] - 3s 4ms/step - loss: 0.0104 - accuracy: 0.9984\n",
      "Epoch 17/20\n",
      "800/800 [==============================] - 3s 4ms/step - loss: 0.0103 - accuracy: 0.9984\n",
      "Epoch 18/20\n",
      "800/800 [==============================] - 3s 4ms/step - loss: 0.0103 - accuracy: 0.9984\n",
      "Epoch 19/20\n",
      "800/800 [==============================] - 3s 4ms/step - loss: 0.0103 - accuracy: 0.9984\n",
      "Epoch 20/20\n",
      "800/800 [==============================] - 3s 4ms/step - loss: 0.0100 - accuracy: 0.9984\n"
     ]
    },
    {
     "data": {
      "text/plain": [
       "<keras.callbacks.History at 0x1df2765aa90>"
      ]
     },
     "execution_count": 26,
     "metadata": {},
     "output_type": "execute_result"
    }
   ],
   "source": [
    "model.fit(x_train,y_train , batch_size= 10, epochs=20)"
   ]
  },
  {
   "cell_type": "code",
   "execution_count": 27,
   "id": "cc722e15",
   "metadata": {},
   "outputs": [
    {
     "name": "stdout",
     "output_type": "stream",
     "text": [
      "63/63 [==============================] - 1s 4ms/step\n"
     ]
    }
   ],
   "source": [
    "y_pred_test = model.predict(x_test)\n",
    "y_pred_test = (y_pred_test > 0.5)"
   ]
  },
  {
   "cell_type": "code",
   "execution_count": 28,
   "id": "6b24d685",
   "metadata": {},
   "outputs": [
    {
     "name": "stdout",
     "output_type": "stream",
     "text": [
      "250/250 [==============================] - 1s 4ms/step\n"
     ]
    }
   ],
   "source": [
    "y_pred_train = model.predict(x_train)\n",
    "y_pred_train = (y_pred_train > 0.5)"
   ]
  },
  {
   "cell_type": "code",
   "execution_count": 29,
   "id": "964e6c04",
   "metadata": {},
   "outputs": [
    {
     "name": "stdout",
     "output_type": "stream",
     "text": [
      "R2 for train_data 0.998375\n"
     ]
    }
   ],
   "source": [
    "from sklearn.metrics import accuracy_score , confusion_matrix\n",
    "print(\"R2 for train_data\",accuracy_score(y_train,y_pred_train))"
   ]
  },
  {
   "cell_type": "code",
   "execution_count": 30,
   "id": "74a0bf62",
   "metadata": {},
   "outputs": [
    {
     "name": "stdout",
     "output_type": "stream",
     "text": [
      "R2 for test_data 0.9995\n"
     ]
    },
    {
     "data": {
      "text/plain": [
       "array([[1595,    0],\n",
       "       [   1,  404]], dtype=int64)"
      ]
     },
     "execution_count": 30,
     "metadata": {},
     "output_type": "execute_result"
    }
   ],
   "source": [
    "from sklearn.metrics import accuracy_score , confusion_matrix\n",
    "#print(\"R2 for train_data\",accuracy_score(y_train,y_pred_train))\n",
    "print(\"R2 for test_data\",accuracy_score(y_test,y_pred_test))\n",
    "\n",
    "confusion_matrix(y_test,y_pred_test)"
   ]
  },
  {
   "cell_type": "code",
   "execution_count": 31,
   "id": "45abb6bd",
   "metadata": {},
   "outputs": [],
   "source": [
    "from sklearn.metrics import accuracy_score , confusion_matrix"
   ]
  },
  {
   "cell_type": "code",
   "execution_count": 32,
   "id": "9a4ce1d3",
   "metadata": {},
   "outputs": [
    {
     "data": {
      "text/plain": [
       "array([[1595,    0],\n",
       "       [   1,  404]], dtype=int64)"
      ]
     },
     "execution_count": 32,
     "metadata": {},
     "output_type": "execute_result"
    }
   ],
   "source": [
    "confusion_matrix(y_test , y_pred_test)"
   ]
  },
  {
   "cell_type": "code",
   "execution_count": 56,
   "id": "ad85010f",
   "metadata": {},
   "outputs": [],
   "source": [
    "def build_cross_classifier():\n",
    "    model  = Sequential()\n",
    "    model.add(Dense(units=6, activation='relu', input_dim=17, kernel_initializer=\"uniform\"))\n",
    "    model.add(Dense(units=6, activation='relu', kernel_initializer=\"uniform\"))\n",
    "    model.add(Dense(units=1, activation='sigmoid', kernel_initializer=\"uniform\"))\n",
    "\n",
    "    model.compile(optimizer='adam', loss='binary_crossentropy', metrics=['accuracy'])\n",
    "    return model\n",
    "    \n",
    "    "
   ]
  },
  {
   "cell_type": "code",
   "execution_count": 44,
   "id": "9641a5ff",
   "metadata": {},
   "outputs": [
    {
     "name": "stdout",
     "output_type": "stream",
     "text": [
      "Requirement already satisfied: scikeras in c:\\users\\shubh\\anaconda3\\lib\\site-packages (0.10.0)\n",
      "Requirement already satisfied: packaging>=0.21 in c:\\users\\shubh\\anaconda3\\lib\\site-packages (from scikeras) (21.3)\n",
      "Requirement already satisfied: scikit-learn>=1.0.0 in c:\\users\\shubh\\anaconda3\\lib\\site-packages (from scikeras) (1.0.2)\n",
      "Requirement already satisfied: pyparsing!=3.0.5,>=2.0.2 in c:\\users\\shubh\\anaconda3\\lib\\site-packages (from packaging>=0.21->scikeras) (3.0.9)\n",
      "Requirement already satisfied: numpy>=1.14.6 in c:\\users\\shubh\\anaconda3\\lib\\site-packages (from scikit-learn>=1.0.0->scikeras) (1.23.5)\n",
      "Requirement already satisfied: threadpoolctl>=2.0.0 in c:\\users\\shubh\\anaconda3\\lib\\site-packages (from scikit-learn>=1.0.0->scikeras) (2.2.0)\n",
      "Requirement already satisfied: joblib>=0.11 in c:\\users\\shubh\\anaconda3\\lib\\site-packages (from scikit-learn>=1.0.0->scikeras) (1.2.0)\n",
      "Requirement already satisfied: scipy>=1.1.0 in c:\\users\\shubh\\anaconda3\\lib\\site-packages (from scikit-learn>=1.0.0->scikeras) (1.9.1)\n",
      "Note: you may need to restart the kernel to use updated packages.\n"
     ]
    }
   ],
   "source": [
    "pip install scikeras"
   ]
  },
  {
   "cell_type": "code",
   "execution_count": 52,
   "id": "a17403be",
   "metadata": {},
   "outputs": [],
   "source": [
    "\n",
    "from scikeras.wrappers import KerasClassifier"
   ]
  },
  {
   "cell_type": "code",
   "execution_count": 61,
   "id": "6081a45c",
   "metadata": {},
   "outputs": [],
   "source": [
    "model = KerasClassifier(build_cross_classifier, batch_size = 10 , epochs = 44)"
   ]
  },
  {
   "cell_type": "code",
   "execution_count": 62,
   "id": "8d1c5ff9",
   "metadata": {},
   "outputs": [
    {
     "name": "stdout",
     "output_type": "stream",
     "text": [
      "Epoch 1/44\n",
      "800/800 [==============================] - 9s 5ms/step - loss: 0.5691 - accuracy: 0.7839\n",
      "Epoch 2/44\n",
      "800/800 [==============================] - 4s 5ms/step - loss: 0.5191 - accuracy: 0.7962\n",
      "Epoch 3/44\n",
      "800/800 [==============================] - 4s 5ms/step - loss: 0.5093 - accuracy: 0.7962\n",
      "Epoch 4/44\n",
      "800/800 [==============================] - 5s 7ms/step - loss: 0.5092 - accuracy: 0.7962\n",
      "Epoch 5/44\n",
      "800/800 [==============================] - 5s 6ms/step - loss: 0.5036 - accuracy: 0.7962\n",
      "Epoch 6/44\n",
      "800/800 [==============================] - 4s 5ms/step - loss: 0.5030 - accuracy: 0.7962\n",
      "Epoch 7/44\n",
      "800/800 [==============================] - 4s 4ms/step - loss: 0.5033 - accuracy: 0.7962\n",
      "Epoch 8/44\n",
      "800/800 [==============================] - 4s 5ms/step - loss: 0.5027 - accuracy: 0.7962\n",
      "Epoch 9/44\n",
      "800/800 [==============================] - 4s 5ms/step - loss: 0.5006 - accuracy: 0.7962\n",
      "Epoch 10/44\n",
      "800/800 [==============================] - 4s 4ms/step - loss: 0.5002 - accuracy: 0.7962\n",
      "Epoch 11/44\n",
      "800/800 [==============================] - 3s 4ms/step - loss: 0.4983 - accuracy: 0.7962\n",
      "Epoch 12/44\n",
      "800/800 [==============================] - 6s 7ms/step - loss: 0.4998 - accuracy: 0.7962\n",
      "Epoch 13/44\n",
      "800/800 [==============================] - 6s 8ms/step - loss: 0.4994 - accuracy: 0.7962\n",
      "Epoch 14/44\n",
      "800/800 [==============================] - 6s 7ms/step - loss: 0.4989 - accuracy: 0.7962\n",
      "Epoch 15/44\n",
      "800/800 [==============================] - 6s 7ms/step - loss: 0.4986 - accuracy: 0.7962\n",
      "Epoch 16/44\n",
      "800/800 [==============================] - 4s 5ms/step - loss: 0.4990 - accuracy: 0.7962\n",
      "Epoch 17/44\n",
      "800/800 [==============================] - 4s 5ms/step - loss: 0.4990 - accuracy: 0.7962\n",
      "Epoch 18/44\n",
      "800/800 [==============================] - 4s 6ms/step - loss: 0.4987 - accuracy: 0.7962\n",
      "Epoch 19/44\n",
      "800/800 [==============================] - 4s 5ms/step - loss: 0.4983 - accuracy: 0.7962\n",
      "Epoch 20/44\n",
      "800/800 [==============================] - 5s 6ms/step - loss: 0.4981 - accuracy: 0.7962\n",
      "Epoch 21/44\n",
      "800/800 [==============================] - 6s 8ms/step - loss: 0.4988 - accuracy: 0.7962\n",
      "Epoch 22/44\n",
      "800/800 [==============================] - 4s 5ms/step - loss: 0.5000 - accuracy: 0.7962\n",
      "Epoch 23/44\n",
      "800/800 [==============================] - 4s 5ms/step - loss: 0.4983 - accuracy: 0.7962\n",
      "Epoch 24/44\n",
      "800/800 [==============================] - 6s 8ms/step - loss: 0.4979 - accuracy: 0.7962\n",
      "Epoch 25/44\n",
      "800/800 [==============================] - 6s 7ms/step - loss: 0.4990 - accuracy: 0.7962\n",
      "Epoch 26/44\n",
      "800/800 [==============================] - 4s 5ms/step - loss: 0.4981 - accuracy: 0.7962\n",
      "Epoch 27/44\n",
      "800/800 [==============================] - 4s 5ms/step - loss: 0.4976 - accuracy: 0.7962\n",
      "Epoch 28/44\n",
      "800/800 [==============================] - 4s 5ms/step - loss: 0.4985 - accuracy: 0.7962\n",
      "Epoch 29/44\n",
      "800/800 [==============================] - 4s 5ms/step - loss: 0.4975 - accuracy: 0.7962\n",
      "Epoch 30/44\n",
      "800/800 [==============================] - 4s 5ms/step - loss: 0.4979 - accuracy: 0.7962\n",
      "Epoch 31/44\n",
      "800/800 [==============================] - 4s 6ms/step - loss: 0.5017 - accuracy: 0.7962\n",
      "Epoch 32/44\n",
      "800/800 [==============================] - 6s 7ms/step - loss: 0.5043 - accuracy: 0.7962\n",
      "Epoch 33/44\n",
      "800/800 [==============================] - 6s 7ms/step - loss: 0.5044 - accuracy: 0.7962\n",
      "Epoch 34/44\n",
      "800/800 [==============================] - 6s 8ms/step - loss: 0.5042 - accuracy: 0.7962\n",
      "Epoch 35/44\n",
      "800/800 [==============================] - 5s 7ms/step - loss: 0.5039 - accuracy: 0.7962\n",
      "Epoch 36/44\n",
      "800/800 [==============================] - 6s 8ms/step - loss: 0.5042 - accuracy: 0.7962\n",
      "Epoch 37/44\n",
      "800/800 [==============================] - 4s 5ms/step - loss: 0.5044 - accuracy: 0.7962\n",
      "Epoch 38/44\n",
      "800/800 [==============================] - 4s 5ms/step - loss: 0.5042 - accuracy: 0.7962\n",
      "Epoch 39/44\n",
      "800/800 [==============================] - 4s 4ms/step - loss: 0.5014 - accuracy: 0.7962\n",
      "Epoch 40/44\n",
      "800/800 [==============================] - 4s 5ms/step - loss: 0.5017 - accuracy: 0.7962\n",
      "Epoch 41/44\n",
      "800/800 [==============================] - 5s 7ms/step - loss: 0.5004 - accuracy: 0.7962\n",
      "Epoch 42/44\n",
      "800/800 [==============================] - 5s 7ms/step - loss: 0.4993 - accuracy: 0.7962\n",
      "Epoch 43/44\n",
      "800/800 [==============================] - 4s 5ms/step - loss: 0.4989 - accuracy: 0.7962\n",
      "Epoch 44/44\n",
      "800/800 [==============================] - 5s 7ms/step - loss: 0.4986 - accuracy: 0.7962\n",
      "200/200 [==============================] - 1s 5ms/step\n",
      "Epoch 1/44\n",
      "800/800 [==============================] - 10s 8ms/step - loss: 0.5277 - accuracy: 0.7960\n",
      "Epoch 2/44\n",
      "800/800 [==============================] - 4s 6ms/step - loss: 0.5157 - accuracy: 0.7962\n",
      "Epoch 3/44\n",
      "800/800 [==============================] - 5s 6ms/step - loss: 0.5106 - accuracy: 0.7962\n",
      "Epoch 4/44\n",
      "800/800 [==============================] - 5s 6ms/step - loss: 0.5059 - accuracy: 0.7962\n",
      "Epoch 5/44\n",
      "800/800 [==============================] - 5s 7ms/step - loss: 0.5072 - accuracy: 0.7962\n",
      "Epoch 6/44\n",
      "800/800 [==============================] - 5s 6ms/step - loss: 0.5046 - accuracy: 0.7962\n",
      "Epoch 7/44\n",
      "800/800 [==============================] - 4s 5ms/step - loss: 0.5020 - accuracy: 0.7962\n",
      "Epoch 8/44\n",
      "800/800 [==============================] - 5s 6ms/step - loss: 0.5001 - accuracy: 0.7962\n",
      "Epoch 9/44\n",
      "800/800 [==============================] - 4s 5ms/step - loss: 0.5020 - accuracy: 0.7962\n",
      "Epoch 10/44\n",
      "800/800 [==============================] - 4s 5ms/step - loss: 0.4992 - accuracy: 0.7962\n",
      "Epoch 11/44\n",
      "800/800 [==============================] - 4s 5ms/step - loss: 0.4990 - accuracy: 0.7962\n",
      "Epoch 12/44\n",
      "800/800 [==============================] - 5s 6ms/step - loss: 0.4999 - accuracy: 0.7962\n",
      "Epoch 13/44\n",
      "800/800 [==============================] - 5s 7ms/step - loss: 0.4988 - accuracy: 0.7962\n",
      "Epoch 14/44\n",
      "800/800 [==============================] - 6s 7ms/step - loss: 0.5013 - accuracy: 0.7960\n",
      "Epoch 15/44\n",
      "800/800 [==============================] - 5s 6ms/step - loss: 0.4984 - accuracy: 0.7962\n",
      "Epoch 16/44\n",
      "800/800 [==============================] - 5s 6ms/step - loss: 0.4991 - accuracy: 0.7962\n",
      "Epoch 17/44\n",
      "800/800 [==============================] - 5s 7ms/step - loss: 0.4984 - accuracy: 0.7962\n",
      "Epoch 18/44\n",
      "800/800 [==============================] - 4s 5ms/step - loss: 0.4984 - accuracy: 0.7962\n",
      "Epoch 19/44\n",
      "800/800 [==============================] - 4s 5ms/step - loss: 0.4985 - accuracy: 0.7962\n",
      "Epoch 20/44\n",
      "800/800 [==============================] - 4s 5ms/step - loss: 0.4987 - accuracy: 0.7962\n",
      "Epoch 21/44\n",
      "800/800 [==============================] - 4s 5ms/step - loss: 0.5021 - accuracy: 0.7962\n",
      "Epoch 22/44\n",
      "800/800 [==============================] - 4s 5ms/step - loss: 0.4981 - accuracy: 0.7962\n",
      "Epoch 23/44\n",
      "800/800 [==============================] - 4s 5ms/step - loss: 0.4989 - accuracy: 0.7962\n",
      "Epoch 24/44\n",
      "800/800 [==============================] - 4s 5ms/step - loss: 0.4987 - accuracy: 0.7962\n",
      "Epoch 25/44\n",
      "800/800 [==============================] - 3s 4ms/step - loss: 0.4982 - accuracy: 0.7962\n",
      "Epoch 26/44\n",
      "800/800 [==============================] - 4s 4ms/step - loss: 0.4987 - accuracy: 0.7962\n",
      "Epoch 27/44\n",
      "800/800 [==============================] - 4s 5ms/step - loss: 0.4988 - accuracy: 0.7962\n",
      "Epoch 28/44\n",
      "800/800 [==============================] - 4s 5ms/step - loss: 0.4974 - accuracy: 0.7962\n",
      "Epoch 29/44\n",
      "800/800 [==============================] - 3s 4ms/step - loss: 0.4982 - accuracy: 0.7962\n",
      "Epoch 30/44\n",
      "800/800 [==============================] - 3s 4ms/step - loss: 0.4977 - accuracy: 0.7962\n",
      "Epoch 31/44\n",
      "800/800 [==============================] - 3s 4ms/step - loss: 0.4981 - accuracy: 0.7962\n",
      "Epoch 32/44\n",
      "800/800 [==============================] - 3s 4ms/step - loss: 0.4973 - accuracy: 0.7962\n",
      "Epoch 33/44\n",
      "800/800 [==============================] - 3s 4ms/step - loss: 0.4976 - accuracy: 0.7962\n",
      "Epoch 34/44\n",
      "800/800 [==============================] - 3s 4ms/step - loss: 0.4981 - accuracy: 0.7962\n",
      "Epoch 35/44\n",
      "800/800 [==============================] - 3s 4ms/step - loss: 0.4982 - accuracy: 0.7962\n",
      "Epoch 36/44\n",
      "800/800 [==============================] - 3s 4ms/step - loss: 0.4983 - accuracy: 0.7962\n",
      "Epoch 37/44\n",
      "800/800 [==============================] - 4s 5ms/step - loss: 0.4989 - accuracy: 0.7962\n",
      "Epoch 38/44\n",
      "800/800 [==============================] - 3s 4ms/step - loss: 0.4979 - accuracy: 0.7962\n",
      "Epoch 39/44\n",
      "800/800 [==============================] - 3s 4ms/step - loss: 0.4965 - accuracy: 0.7962\n",
      "Epoch 40/44\n",
      "800/800 [==============================] - 3s 4ms/step - loss: 0.4979 - accuracy: 0.7962\n",
      "Epoch 41/44\n",
      "800/800 [==============================] - 3s 4ms/step - loss: 0.4989 - accuracy: 0.7962\n",
      "Epoch 42/44\n",
      "800/800 [==============================] - 3s 4ms/step - loss: 0.4980 - accuracy: 0.7962\n",
      "Epoch 43/44\n",
      "800/800 [==============================] - 3s 4ms/step - loss: 0.4996 - accuracy: 0.7962\n",
      "Epoch 44/44\n",
      "800/800 [==============================] - 4s 5ms/step - loss: 0.4987 - accuracy: 0.7962\n",
      "200/200 [==============================] - 1s 3ms/step\n",
      "WARNING:tensorflow:Detecting that an object or model or tf.train.Checkpoint is being deleted with unrestored values. See the following logs for the specific values in question. To silence these warnings, use `status.expect_partial()`. See https://www.tensorflow.org/api_docs/python/tf/train/Checkpoint#restorefor details about the status object returned by the restore function.\n"
     ]
    },
    {
     "name": "stderr",
     "output_type": "stream",
     "text": [
      "WARNING:tensorflow:Detecting that an object or model or tf.train.Checkpoint is being deleted with unrestored values. See the following logs for the specific values in question. To silence these warnings, use `status.expect_partial()`. See https://www.tensorflow.org/api_docs/python/tf/train/Checkpoint#restorefor details about the status object returned by the restore function.\n"
     ]
    },
    {
     "name": "stdout",
     "output_type": "stream",
     "text": [
      "WARNING:tensorflow:Value in checkpoint could not be found in the restored object: (root).keras_api.metrics.0.total\n"
     ]
    },
    {
     "name": "stderr",
     "output_type": "stream",
     "text": [
      "WARNING:tensorflow:Value in checkpoint could not be found in the restored object: (root).keras_api.metrics.0.total\n"
     ]
    },
    {
     "name": "stdout",
     "output_type": "stream",
     "text": [
      "WARNING:tensorflow:Value in checkpoint could not be found in the restored object: (root).keras_api.metrics.0.count\n"
     ]
    },
    {
     "name": "stderr",
     "output_type": "stream",
     "text": [
      "WARNING:tensorflow:Value in checkpoint could not be found in the restored object: (root).keras_api.metrics.0.count\n"
     ]
    },
    {
     "name": "stdout",
     "output_type": "stream",
     "text": [
      "WARNING:tensorflow:Value in checkpoint could not be found in the restored object: (root).keras_api.metrics.1.total\n"
     ]
    },
    {
     "name": "stderr",
     "output_type": "stream",
     "text": [
      "WARNING:tensorflow:Value in checkpoint could not be found in the restored object: (root).keras_api.metrics.1.total\n"
     ]
    },
    {
     "name": "stdout",
     "output_type": "stream",
     "text": [
      "WARNING:tensorflow:Value in checkpoint could not be found in the restored object: (root).keras_api.metrics.1.count\n"
     ]
    },
    {
     "name": "stderr",
     "output_type": "stream",
     "text": [
      "WARNING:tensorflow:Value in checkpoint could not be found in the restored object: (root).keras_api.metrics.1.count\n"
     ]
    },
    {
     "name": "stdout",
     "output_type": "stream",
     "text": [
      "WARNING:tensorflow:Detecting that an object or model or tf.train.Checkpoint is being deleted with unrestored values. See the following logs for the specific values in question. To silence these warnings, use `status.expect_partial()`. See https://www.tensorflow.org/api_docs/python/tf/train/Checkpoint#restorefor details about the status object returned by the restore function.\n"
     ]
    },
    {
     "name": "stderr",
     "output_type": "stream",
     "text": [
      "WARNING:tensorflow:Detecting that an object or model or tf.train.Checkpoint is being deleted with unrestored values. See the following logs for the specific values in question. To silence these warnings, use `status.expect_partial()`. See https://www.tensorflow.org/api_docs/python/tf/train/Checkpoint#restorefor details about the status object returned by the restore function.\n"
     ]
    },
    {
     "name": "stdout",
     "output_type": "stream",
     "text": [
      "WARNING:tensorflow:Value in checkpoint could not be found in the restored object: (root).keras_api.metrics.0.total\n"
     ]
    },
    {
     "name": "stderr",
     "output_type": "stream",
     "text": [
      "WARNING:tensorflow:Value in checkpoint could not be found in the restored object: (root).keras_api.metrics.0.total\n"
     ]
    },
    {
     "name": "stdout",
     "output_type": "stream",
     "text": [
      "WARNING:tensorflow:Value in checkpoint could not be found in the restored object: (root).keras_api.metrics.0.count\n"
     ]
    },
    {
     "name": "stderr",
     "output_type": "stream",
     "text": [
      "WARNING:tensorflow:Value in checkpoint could not be found in the restored object: (root).keras_api.metrics.0.count\n"
     ]
    },
    {
     "name": "stdout",
     "output_type": "stream",
     "text": [
      "WARNING:tensorflow:Value in checkpoint could not be found in the restored object: (root).keras_api.metrics.1.total\n"
     ]
    },
    {
     "name": "stderr",
     "output_type": "stream",
     "text": [
      "WARNING:tensorflow:Value in checkpoint could not be found in the restored object: (root).keras_api.metrics.1.total\n"
     ]
    },
    {
     "name": "stdout",
     "output_type": "stream",
     "text": [
      "WARNING:tensorflow:Value in checkpoint could not be found in the restored object: (root).keras_api.metrics.1.count\n"
     ]
    },
    {
     "name": "stderr",
     "output_type": "stream",
     "text": [
      "WARNING:tensorflow:Value in checkpoint could not be found in the restored object: (root).keras_api.metrics.1.count\n"
     ]
    },
    {
     "name": "stdout",
     "output_type": "stream",
     "text": [
      "WARNING:tensorflow:Detecting that an object or model or tf.train.Checkpoint is being deleted with unrestored values. See the following logs for the specific values in question. To silence these warnings, use `status.expect_partial()`. See https://www.tensorflow.org/api_docs/python/tf/train/Checkpoint#restorefor details about the status object returned by the restore function.\n"
     ]
    },
    {
     "name": "stderr",
     "output_type": "stream",
     "text": [
      "WARNING:tensorflow:Detecting that an object or model or tf.train.Checkpoint is being deleted with unrestored values. See the following logs for the specific values in question. To silence these warnings, use `status.expect_partial()`. See https://www.tensorflow.org/api_docs/python/tf/train/Checkpoint#restorefor details about the status object returned by the restore function.\n"
     ]
    },
    {
     "name": "stdout",
     "output_type": "stream",
     "text": [
      "WARNING:tensorflow:Value in checkpoint could not be found in the restored object: (root).keras_api.metrics.0.total\n"
     ]
    },
    {
     "name": "stderr",
     "output_type": "stream",
     "text": [
      "WARNING:tensorflow:Value in checkpoint could not be found in the restored object: (root).keras_api.metrics.0.total\n"
     ]
    },
    {
     "name": "stdout",
     "output_type": "stream",
     "text": [
      "WARNING:tensorflow:Value in checkpoint could not be found in the restored object: (root).keras_api.metrics.0.count\n"
     ]
    },
    {
     "name": "stderr",
     "output_type": "stream",
     "text": [
      "WARNING:tensorflow:Value in checkpoint could not be found in the restored object: (root).keras_api.metrics.0.count\n"
     ]
    },
    {
     "name": "stdout",
     "output_type": "stream",
     "text": [
      "WARNING:tensorflow:Value in checkpoint could not be found in the restored object: (root).keras_api.metrics.1.total\n"
     ]
    },
    {
     "name": "stderr",
     "output_type": "stream",
     "text": [
      "WARNING:tensorflow:Value in checkpoint could not be found in the restored object: (root).keras_api.metrics.1.total\n"
     ]
    },
    {
     "name": "stdout",
     "output_type": "stream",
     "text": [
      "WARNING:tensorflow:Value in checkpoint could not be found in the restored object: (root).keras_api.metrics.1.count\n"
     ]
    },
    {
     "name": "stderr",
     "output_type": "stream",
     "text": [
      "WARNING:tensorflow:Value in checkpoint could not be found in the restored object: (root).keras_api.metrics.1.count\n"
     ]
    },
    {
     "name": "stdout",
     "output_type": "stream",
     "text": [
      "WARNING:tensorflow:Detecting that an object or model or tf.train.Checkpoint is being deleted with unrestored values. See the following logs for the specific values in question. To silence these warnings, use `status.expect_partial()`. See https://www.tensorflow.org/api_docs/python/tf/train/Checkpoint#restorefor details about the status object returned by the restore function.\n"
     ]
    },
    {
     "name": "stderr",
     "output_type": "stream",
     "text": [
      "WARNING:tensorflow:Detecting that an object or model or tf.train.Checkpoint is being deleted with unrestored values. See the following logs for the specific values in question. To silence these warnings, use `status.expect_partial()`. See https://www.tensorflow.org/api_docs/python/tf/train/Checkpoint#restorefor details about the status object returned by the restore function.\n"
     ]
    },
    {
     "name": "stdout",
     "output_type": "stream",
     "text": [
      "WARNING:tensorflow:Value in checkpoint could not be found in the restored object: (root).keras_api.metrics.0.total\n"
     ]
    },
    {
     "name": "stderr",
     "output_type": "stream",
     "text": [
      "WARNING:tensorflow:Value in checkpoint could not be found in the restored object: (root).keras_api.metrics.0.total\n"
     ]
    },
    {
     "name": "stdout",
     "output_type": "stream",
     "text": [
      "WARNING:tensorflow:Value in checkpoint could not be found in the restored object: (root).keras_api.metrics.0.count\n"
     ]
    },
    {
     "name": "stderr",
     "output_type": "stream",
     "text": [
      "WARNING:tensorflow:Value in checkpoint could not be found in the restored object: (root).keras_api.metrics.0.count\n"
     ]
    },
    {
     "name": "stdout",
     "output_type": "stream",
     "text": [
      "WARNING:tensorflow:Value in checkpoint could not be found in the restored object: (root).keras_api.metrics.1.total\n"
     ]
    },
    {
     "name": "stderr",
     "output_type": "stream",
     "text": [
      "WARNING:tensorflow:Value in checkpoint could not be found in the restored object: (root).keras_api.metrics.1.total\n"
     ]
    },
    {
     "name": "stdout",
     "output_type": "stream",
     "text": [
      "WARNING:tensorflow:Value in checkpoint could not be found in the restored object: (root).keras_api.metrics.1.count\n"
     ]
    },
    {
     "name": "stderr",
     "output_type": "stream",
     "text": [
      "WARNING:tensorflow:Value in checkpoint could not be found in the restored object: (root).keras_api.metrics.1.count\n"
     ]
    },
    {
     "name": "stdout",
     "output_type": "stream",
     "text": [
      "WARNING:tensorflow:Detecting that an object or model or tf.train.Checkpoint is being deleted with unrestored values. See the following logs for the specific values in question. To silence these warnings, use `status.expect_partial()`. See https://www.tensorflow.org/api_docs/python/tf/train/Checkpoint#restorefor details about the status object returned by the restore function.\n"
     ]
    },
    {
     "name": "stderr",
     "output_type": "stream",
     "text": [
      "WARNING:tensorflow:Detecting that an object or model or tf.train.Checkpoint is being deleted with unrestored values. See the following logs for the specific values in question. To silence these warnings, use `status.expect_partial()`. See https://www.tensorflow.org/api_docs/python/tf/train/Checkpoint#restorefor details about the status object returned by the restore function.\n"
     ]
    },
    {
     "name": "stdout",
     "output_type": "stream",
     "text": [
      "WARNING:tensorflow:Value in checkpoint could not be found in the restored object: (root).keras_api.metrics.0.total\n"
     ]
    },
    {
     "name": "stderr",
     "output_type": "stream",
     "text": [
      "WARNING:tensorflow:Value in checkpoint could not be found in the restored object: (root).keras_api.metrics.0.total\n"
     ]
    },
    {
     "name": "stdout",
     "output_type": "stream",
     "text": [
      "WARNING:tensorflow:Value in checkpoint could not be found in the restored object: (root).keras_api.metrics.0.count\n"
     ]
    },
    {
     "name": "stderr",
     "output_type": "stream",
     "text": [
      "WARNING:tensorflow:Value in checkpoint could not be found in the restored object: (root).keras_api.metrics.0.count\n"
     ]
    },
    {
     "name": "stdout",
     "output_type": "stream",
     "text": [
      "WARNING:tensorflow:Value in checkpoint could not be found in the restored object: (root).keras_api.metrics.1.total\n"
     ]
    },
    {
     "name": "stderr",
     "output_type": "stream",
     "text": [
      "WARNING:tensorflow:Value in checkpoint could not be found in the restored object: (root).keras_api.metrics.1.total\n"
     ]
    },
    {
     "name": "stdout",
     "output_type": "stream",
     "text": [
      "WARNING:tensorflow:Value in checkpoint could not be found in the restored object: (root).keras_api.metrics.1.count\n"
     ]
    },
    {
     "name": "stderr",
     "output_type": "stream",
     "text": [
      "WARNING:tensorflow:Value in checkpoint could not be found in the restored object: (root).keras_api.metrics.1.count\n"
     ]
    },
    {
     "name": "stdout",
     "output_type": "stream",
     "text": [
      "WARNING:tensorflow:Detecting that an object or model or tf.train.Checkpoint is being deleted with unrestored values. See the following logs for the specific values in question. To silence these warnings, use `status.expect_partial()`. See https://www.tensorflow.org/api_docs/python/tf/train/Checkpoint#restorefor details about the status object returned by the restore function.\n"
     ]
    },
    {
     "name": "stderr",
     "output_type": "stream",
     "text": [
      "WARNING:tensorflow:Detecting that an object or model or tf.train.Checkpoint is being deleted with unrestored values. See the following logs for the specific values in question. To silence these warnings, use `status.expect_partial()`. See https://www.tensorflow.org/api_docs/python/tf/train/Checkpoint#restorefor details about the status object returned by the restore function.\n"
     ]
    },
    {
     "name": "stdout",
     "output_type": "stream",
     "text": [
      "WARNING:tensorflow:Value in checkpoint could not be found in the restored object: (root).keras_api.metrics.0.total\n"
     ]
    },
    {
     "name": "stderr",
     "output_type": "stream",
     "text": [
      "WARNING:tensorflow:Value in checkpoint could not be found in the restored object: (root).keras_api.metrics.0.total\n"
     ]
    },
    {
     "name": "stdout",
     "output_type": "stream",
     "text": [
      "WARNING:tensorflow:Value in checkpoint could not be found in the restored object: (root).keras_api.metrics.0.count\n"
     ]
    },
    {
     "name": "stderr",
     "output_type": "stream",
     "text": [
      "WARNING:tensorflow:Value in checkpoint could not be found in the restored object: (root).keras_api.metrics.0.count\n"
     ]
    },
    {
     "name": "stdout",
     "output_type": "stream",
     "text": [
      "WARNING:tensorflow:Value in checkpoint could not be found in the restored object: (root).keras_api.metrics.1.total\n"
     ]
    },
    {
     "name": "stderr",
     "output_type": "stream",
     "text": [
      "WARNING:tensorflow:Value in checkpoint could not be found in the restored object: (root).keras_api.metrics.1.total\n"
     ]
    },
    {
     "name": "stdout",
     "output_type": "stream",
     "text": [
      "WARNING:tensorflow:Value in checkpoint could not be found in the restored object: (root).keras_api.metrics.1.count\n"
     ]
    },
    {
     "name": "stderr",
     "output_type": "stream",
     "text": [
      "WARNING:tensorflow:Value in checkpoint could not be found in the restored object: (root).keras_api.metrics.1.count\n"
     ]
    },
    {
     "name": "stdout",
     "output_type": "stream",
     "text": [
      "Epoch 1/44\n",
      "800/800 [==============================] - 5s 4ms/step - loss: 0.5709 - accuracy: 0.7862\n",
      "Epoch 2/44\n",
      "800/800 [==============================] - 3s 4ms/step - loss: 0.5215 - accuracy: 0.7962\n",
      "Epoch 3/44\n",
      "800/800 [==============================] - 3s 4ms/step - loss: 0.5131 - accuracy: 0.7962\n",
      "Epoch 4/44\n",
      "800/800 [==============================] - 2s 3ms/step - loss: 0.5082 - accuracy: 0.7962\n",
      "Epoch 5/44\n",
      "800/800 [==============================] - 2s 3ms/step - loss: 0.5088 - accuracy: 0.7962\n",
      "Epoch 6/44\n",
      "800/800 [==============================] - 2s 3ms/step - loss: 0.5035 - accuracy: 0.7962\n",
      "Epoch 7/44\n",
      "800/800 [==============================] - 2s 3ms/step - loss: 0.5039 - accuracy: 0.7962\n",
      "Epoch 8/44\n",
      "800/800 [==============================] - 2s 3ms/step - loss: 0.5023 - accuracy: 0.7962\n",
      "Epoch 9/44\n",
      "800/800 [==============================] - 2s 3ms/step - loss: 0.4997 - accuracy: 0.7962\n",
      "Epoch 10/44\n",
      "800/800 [==============================] - 2s 3ms/step - loss: 0.5001 - accuracy: 0.7962\n",
      "Epoch 11/44\n",
      "800/800 [==============================] - 2s 3ms/step - loss: 0.4994 - accuracy: 0.7962\n",
      "Epoch 12/44\n",
      "800/800 [==============================] - 2s 3ms/step - loss: 0.5000 - accuracy: 0.7962\n",
      "Epoch 13/44\n",
      "800/800 [==============================] - 2s 3ms/step - loss: 0.4994 - accuracy: 0.7962\n",
      "Epoch 14/44\n",
      "800/800 [==============================] - 2s 3ms/step - loss: 0.5010 - accuracy: 0.7962\n",
      "Epoch 15/44\n",
      "800/800 [==============================] - 2s 3ms/step - loss: 0.4987 - accuracy: 0.7962\n",
      "Epoch 16/44\n",
      "800/800 [==============================] - 2s 3ms/step - loss: 0.5008 - accuracy: 0.7962\n",
      "Epoch 17/44\n",
      "800/800 [==============================] - 2s 3ms/step - loss: 0.5004 - accuracy: 0.7962\n",
      "Epoch 18/44\n",
      "800/800 [==============================] - 2s 3ms/step - loss: 0.5002 - accuracy: 0.7962\n",
      "Epoch 19/44\n",
      "800/800 [==============================] - 2s 3ms/step - loss: 0.5004 - accuracy: 0.7962\n",
      "Epoch 20/44\n",
      "800/800 [==============================] - 2s 3ms/step - loss: 0.5005 - accuracy: 0.7962\n",
      "Epoch 21/44\n",
      "800/800 [==============================] - 2s 3ms/step - loss: 0.5001 - accuracy: 0.7962\n",
      "Epoch 22/44\n",
      "800/800 [==============================] - 2s 3ms/step - loss: 0.5000 - accuracy: 0.7962\n",
      "Epoch 23/44\n",
      "800/800 [==============================] - 2s 3ms/step - loss: 0.4996 - accuracy: 0.7962\n",
      "Epoch 24/44\n",
      "800/800 [==============================] - 2s 3ms/step - loss: 0.5018 - accuracy: 0.7962\n",
      "Epoch 25/44\n",
      "800/800 [==============================] - 2s 3ms/step - loss: 0.5012 - accuracy: 0.7962\n",
      "Epoch 26/44\n",
      "800/800 [==============================] - 2s 3ms/step - loss: 0.4993 - accuracy: 0.7962\n",
      "Epoch 27/44\n",
      "800/800 [==============================] - 2s 3ms/step - loss: 0.4989 - accuracy: 0.7962\n",
      "Epoch 28/44\n",
      "800/800 [==============================] - 2s 3ms/step - loss: 0.4982 - accuracy: 0.7962\n",
      "Epoch 29/44\n",
      "800/800 [==============================] - 2s 3ms/step - loss: 0.4976 - accuracy: 0.7962\n",
      "Epoch 30/44\n",
      "800/800 [==============================] - 2s 3ms/step - loss: 0.4986 - accuracy: 0.7962\n",
      "Epoch 31/44\n",
      "800/800 [==============================] - 2s 3ms/step - loss: 0.4979 - accuracy: 0.7962\n",
      "Epoch 32/44\n",
      "800/800 [==============================] - 2s 3ms/step - loss: 0.4989 - accuracy: 0.7962\n",
      "Epoch 33/44\n",
      "800/800 [==============================] - 2s 3ms/step - loss: 0.4982 - accuracy: 0.7962\n",
      "Epoch 34/44\n",
      "800/800 [==============================] - 2s 3ms/step - loss: 0.4983 - accuracy: 0.7962\n",
      "Epoch 35/44\n",
      "800/800 [==============================] - 3s 3ms/step - loss: 0.4981 - accuracy: 0.7962\n",
      "Epoch 36/44\n",
      "800/800 [==============================] - 3s 3ms/step - loss: 0.4986 - accuracy: 0.7962\n",
      "Epoch 37/44\n",
      "800/800 [==============================] - 2s 3ms/step - loss: 0.4981 - accuracy: 0.7962\n",
      "Epoch 38/44\n",
      "800/800 [==============================] - 2s 3ms/step - loss: 0.4982 - accuracy: 0.7962\n",
      "Epoch 39/44\n",
      "800/800 [==============================] - 2s 3ms/step - loss: 0.4985 - accuracy: 0.7962\n",
      "Epoch 40/44\n",
      "800/800 [==============================] - 2s 3ms/step - loss: 0.4988 - accuracy: 0.7962\n",
      "Epoch 41/44\n",
      "800/800 [==============================] - 2s 3ms/step - loss: 0.4986 - accuracy: 0.7962\n",
      "Epoch 42/44\n",
      "800/800 [==============================] - 2s 3ms/step - loss: 0.4982 - accuracy: 0.7962\n",
      "Epoch 43/44\n",
      "800/800 [==============================] - 2s 3ms/step - loss: 0.4983 - accuracy: 0.7962\n",
      "Epoch 44/44\n",
      "800/800 [==============================] - 2s 3ms/step - loss: 0.4981 - accuracy: 0.7962\n",
      "200/200 [==============================] - 1s 2ms/step\n",
      "Epoch 1/44\n",
      "800/800 [==============================] - 3s 3ms/step - loss: 0.5867 - accuracy: 0.7909\n",
      "Epoch 2/44\n",
      "800/800 [==============================] - 2s 3ms/step - loss: 0.5208 - accuracy: 0.7961\n",
      "Epoch 3/44\n",
      "800/800 [==============================] - 2s 3ms/step - loss: 0.5169 - accuracy: 0.7961\n",
      "Epoch 4/44\n",
      "800/800 [==============================] - 2s 3ms/step - loss: 0.5126 - accuracy: 0.7961\n",
      "Epoch 5/44\n",
      "800/800 [==============================] - 2s 3ms/step - loss: 0.5097 - accuracy: 0.7961\n",
      "Epoch 6/44\n",
      "800/800 [==============================] - 2s 3ms/step - loss: 0.5078 - accuracy: 0.7961\n",
      "Epoch 7/44\n",
      "800/800 [==============================] - 2s 3ms/step - loss: 0.5041 - accuracy: 0.7961\n",
      "Epoch 8/44\n",
      "800/800 [==============================] - 2s 3ms/step - loss: 0.5034 - accuracy: 0.7961\n",
      "Epoch 9/44\n",
      "800/800 [==============================] - 2s 3ms/step - loss: 0.5036 - accuracy: 0.7961\n",
      "Epoch 10/44\n",
      "800/800 [==============================] - 2s 3ms/step - loss: 0.5011 - accuracy: 0.7961\n",
      "Epoch 11/44\n",
      "800/800 [==============================] - 2s 3ms/step - loss: 0.5025 - accuracy: 0.7961\n",
      "Epoch 12/44\n",
      "800/800 [==============================] - 2s 3ms/step - loss: 0.5015 - accuracy: 0.7961\n",
      "Epoch 13/44\n",
      "800/800 [==============================] - 2s 3ms/step - loss: 0.5015 - accuracy: 0.7961\n",
      "Epoch 14/44\n",
      "800/800 [==============================] - 2s 3ms/step - loss: 0.5005 - accuracy: 0.7961\n",
      "Epoch 15/44\n",
      "800/800 [==============================] - 3s 3ms/step - loss: 0.5001 - accuracy: 0.7961\n",
      "Epoch 16/44\n",
      "800/800 [==============================] - 2s 3ms/step - loss: 0.5007 - accuracy: 0.7961\n",
      "Epoch 17/44\n",
      "800/800 [==============================] - 2s 3ms/step - loss: 0.5003 - accuracy: 0.7961\n",
      "Epoch 18/44\n",
      "800/800 [==============================] - 2s 3ms/step - loss: 0.5010 - accuracy: 0.7961\n",
      "Epoch 19/44\n",
      "800/800 [==============================] - 2s 3ms/step - loss: 0.4997 - accuracy: 0.7961\n",
      "Epoch 20/44\n",
      "800/800 [==============================] - 2s 3ms/step - loss: 0.5007 - accuracy: 0.7961\n",
      "Epoch 21/44\n",
      "800/800 [==============================] - 2s 3ms/step - loss: 0.5009 - accuracy: 0.7961\n",
      "Epoch 22/44\n",
      "800/800 [==============================] - 2s 3ms/step - loss: 0.5001 - accuracy: 0.7961\n",
      "Epoch 23/44\n",
      "800/800 [==============================] - 2s 3ms/step - loss: 0.4999 - accuracy: 0.7961\n",
      "Epoch 24/44\n",
      "800/800 [==============================] - 2s 3ms/step - loss: 0.5053 - accuracy: 0.7961\n",
      "Epoch 25/44\n",
      "800/800 [==============================] - 2s 3ms/step - loss: 0.5047 - accuracy: 0.7961\n",
      "Epoch 26/44\n",
      "800/800 [==============================] - 2s 3ms/step - loss: 0.5051 - accuracy: 0.7961\n",
      "Epoch 27/44\n",
      "800/800 [==============================] - 3s 3ms/step - loss: 0.5027 - accuracy: 0.7961\n",
      "Epoch 28/44\n",
      "800/800 [==============================] - 2s 3ms/step - loss: 0.5004 - accuracy: 0.7961\n",
      "Epoch 29/44\n",
      "800/800 [==============================] - 2s 3ms/step - loss: 0.4996 - accuracy: 0.7961\n",
      "Epoch 30/44\n",
      "800/800 [==============================] - 2s 3ms/step - loss: 0.4993 - accuracy: 0.7961\n",
      "Epoch 31/44\n",
      "800/800 [==============================] - 2s 3ms/step - loss: 0.5000 - accuracy: 0.7961\n",
      "Epoch 32/44\n",
      "800/800 [==============================] - 2s 3ms/step - loss: 0.4996 - accuracy: 0.7961\n",
      "Epoch 33/44\n",
      "800/800 [==============================] - 2s 3ms/step - loss: 0.5005 - accuracy: 0.7961\n",
      "Epoch 34/44\n",
      "800/800 [==============================] - 2s 3ms/step - loss: 0.4995 - accuracy: 0.7961\n",
      "Epoch 35/44\n",
      "800/800 [==============================] - 2s 3ms/step - loss: 0.4991 - accuracy: 0.7961\n",
      "Epoch 36/44\n",
      "800/800 [==============================] - 2s 3ms/step - loss: 0.4999 - accuracy: 0.7961\n",
      "Epoch 37/44\n",
      "800/800 [==============================] - 2s 3ms/step - loss: 0.5031 - accuracy: 0.7961\n",
      "Epoch 38/44\n",
      "800/800 [==============================] - 2s 3ms/step - loss: 0.5051 - accuracy: 0.7961\n",
      "Epoch 39/44\n",
      "800/800 [==============================] - 2s 3ms/step - loss: 0.5051 - accuracy: 0.7961\n",
      "Epoch 40/44\n",
      "800/800 [==============================] - 2s 3ms/step - loss: 0.5052 - accuracy: 0.7961\n",
      "Epoch 41/44\n",
      "800/800 [==============================] - 2s 3ms/step - loss: 0.5053 - accuracy: 0.7961\n",
      "Epoch 42/44\n",
      "800/800 [==============================] - 2s 3ms/step - loss: 0.5054 - accuracy: 0.7961\n",
      "Epoch 43/44\n",
      "800/800 [==============================] - 2s 3ms/step - loss: 0.5055 - accuracy: 0.7961\n",
      "Epoch 44/44\n",
      "800/800 [==============================] - 2s 3ms/step - loss: 0.5055 - accuracy: 0.7961\n",
      "200/200 [==============================] - 1s 2ms/step\n",
      "Epoch 1/44\n",
      "800/800 [==============================] - 4s 3ms/step - loss: 0.6177 - accuracy: 0.7719\n",
      "Epoch 2/44\n",
      "800/800 [==============================] - 2s 3ms/step - loss: 0.5178 - accuracy: 0.7961\n",
      "Epoch 3/44\n",
      "800/800 [==============================] - 2s 3ms/step - loss: 0.5128 - accuracy: 0.7961\n",
      "Epoch 4/44\n",
      "800/800 [==============================] - 2s 3ms/step - loss: 0.5108 - accuracy: 0.7961\n",
      "Epoch 5/44\n",
      "800/800 [==============================] - 2s 3ms/step - loss: 0.5088 - accuracy: 0.7961\n",
      "Epoch 6/44\n",
      "800/800 [==============================] - 2s 3ms/step - loss: 0.5065 - accuracy: 0.7961\n",
      "Epoch 7/44\n",
      "800/800 [==============================] - 2s 3ms/step - loss: 0.5074 - accuracy: 0.7961\n",
      "Epoch 8/44\n",
      "800/800 [==============================] - 2s 3ms/step - loss: 0.5027 - accuracy: 0.7961\n",
      "Epoch 9/44\n",
      "800/800 [==============================] - 3s 3ms/step - loss: 0.5025 - accuracy: 0.7961\n",
      "Epoch 10/44\n",
      "800/800 [==============================] - 2s 3ms/step - loss: 0.5017 - accuracy: 0.7961\n",
      "Epoch 11/44\n",
      "800/800 [==============================] - 2s 3ms/step - loss: 0.5000 - accuracy: 0.7961\n",
      "Epoch 12/44\n",
      "800/800 [==============================] - 2s 3ms/step - loss: 0.5014 - accuracy: 0.7961\n",
      "Epoch 13/44\n",
      "800/800 [==============================] - 2s 3ms/step - loss: 0.4994 - accuracy: 0.7961\n",
      "Epoch 14/44\n",
      "800/800 [==============================] - 2s 3ms/step - loss: 0.5002 - accuracy: 0.7961\n",
      "Epoch 15/44\n",
      "800/800 [==============================] - 2s 3ms/step - loss: 0.5020 - accuracy: 0.7961\n",
      "Epoch 16/44\n",
      "800/800 [==============================] - 2s 3ms/step - loss: 0.4998 - accuracy: 0.7961\n",
      "Epoch 17/44\n",
      "800/800 [==============================] - 2s 3ms/step - loss: 0.5017 - accuracy: 0.7961\n",
      "Epoch 18/44\n",
      "800/800 [==============================] - 2s 3ms/step - loss: 0.4994 - accuracy: 0.7961\n",
      "Epoch 19/44\n",
      "800/800 [==============================] - 2s 3ms/step - loss: 0.4992 - accuracy: 0.7959\n",
      "Epoch 20/44\n",
      "800/800 [==============================] - 3s 3ms/step - loss: 0.4991 - accuracy: 0.7961\n",
      "Epoch 21/44\n",
      "800/800 [==============================] - 2s 3ms/step - loss: 0.4998 - accuracy: 0.7961\n",
      "Epoch 22/44\n",
      "800/800 [==============================] - 2s 3ms/step - loss: 0.4997 - accuracy: 0.7961\n",
      "Epoch 23/44\n",
      "800/800 [==============================] - 2s 3ms/step - loss: 0.4997 - accuracy: 0.7960\n",
      "Epoch 24/44\n",
      "800/800 [==============================] - 2s 3ms/step - loss: 0.5033 - accuracy: 0.7961\n",
      "Epoch 25/44\n",
      "800/800 [==============================] - 2s 3ms/step - loss: 0.5042 - accuracy: 0.7961\n",
      "Epoch 26/44\n",
      "800/800 [==============================] - 3s 3ms/step - loss: 0.5040 - accuracy: 0.7961\n",
      "Epoch 27/44\n",
      "800/800 [==============================] - 2s 3ms/step - loss: 0.5040 - accuracy: 0.7961\n",
      "Epoch 28/44\n",
      "800/800 [==============================] - 2s 3ms/step - loss: 0.5021 - accuracy: 0.7961\n",
      "Epoch 29/44\n",
      "800/800 [==============================] - 2s 3ms/step - loss: 0.4993 - accuracy: 0.7961\n",
      "Epoch 30/44\n",
      "800/800 [==============================] - 2s 3ms/step - loss: 0.4998 - accuracy: 0.7961\n",
      "Epoch 31/44\n",
      "800/800 [==============================] - 2s 3ms/step - loss: 0.4994 - accuracy: 0.7961\n",
      "Epoch 32/44\n",
      "800/800 [==============================] - 2s 3ms/step - loss: 0.4989 - accuracy: 0.7961\n",
      "Epoch 33/44\n",
      "800/800 [==============================] - 2s 3ms/step - loss: 0.5000 - accuracy: 0.7961\n",
      "Epoch 34/44\n",
      "800/800 [==============================] - 2s 3ms/step - loss: 0.5011 - accuracy: 0.7961\n",
      "Epoch 35/44\n",
      "800/800 [==============================] - 2s 3ms/step - loss: 0.5047 - accuracy: 0.7961\n",
      "Epoch 36/44\n",
      "800/800 [==============================] - 3s 3ms/step - loss: 0.5048 - accuracy: 0.7961\n",
      "Epoch 37/44\n",
      "800/800 [==============================] - 2s 3ms/step - loss: 0.5045 - accuracy: 0.7961\n",
      "Epoch 38/44\n",
      "800/800 [==============================] - 2s 3ms/step - loss: 0.5026 - accuracy: 0.7961\n",
      "Epoch 39/44\n",
      "800/800 [==============================] - 2s 3ms/step - loss: 0.5011 - accuracy: 0.7961\n",
      "Epoch 40/44\n",
      "800/800 [==============================] - 2s 3ms/step - loss: 0.5001 - accuracy: 0.7961\n",
      "Epoch 41/44\n",
      "800/800 [==============================] - 2s 3ms/step - loss: 0.4996 - accuracy: 0.7961\n",
      "Epoch 42/44\n",
      "800/800 [==============================] - 2s 3ms/step - loss: 0.4991 - accuracy: 0.7961\n",
      "Epoch 43/44\n",
      "800/800 [==============================] - 2s 3ms/step - loss: 0.4989 - accuracy: 0.7961\n",
      "Epoch 44/44\n",
      "800/800 [==============================] - 2s 3ms/step - loss: 0.4988 - accuracy: 0.7961\n",
      "200/200 [==============================] - 1s 2ms/step\n"
     ]
    }
   ],
   "source": [
    "from sklearn.model_selection import cross_val_score\n",
    "accuracies = cross_val_score(model ,X,Y, cv=5)"
   ]
  },
  {
   "cell_type": "code",
   "execution_count": 63,
   "id": "faa7e591",
   "metadata": {},
   "outputs": [
    {
     "name": "stdout",
     "output_type": "stream",
     "text": [
      "[0.796  0.796  0.796  0.7965 0.7965]\n"
     ]
    },
    {
     "data": {
      "text/plain": [
       "0.7962"
      ]
     },
     "execution_count": 63,
     "metadata": {},
     "output_type": "execute_result"
    }
   ],
   "source": [
    "print(accuracies)\n",
    "accuracies.mean()"
   ]
  },
  {
   "cell_type": "code",
   "execution_count": null,
   "id": "bffce5ba",
   "metadata": {},
   "outputs": [
    {
     "name": "stderr",
     "output_type": "stream",
     "text": [
      "WARNING:absl:Found untraced functions such as _update_step_xla while saving (showing 1 of 1). These functions will not be directly callable after loading.\n"
     ]
    },
    {
     "name": "stdout",
     "output_type": "stream",
     "text": [
      "INFO:tensorflow:Assets written to: C:\\Users\\shubh\\AppData\\Local\\Temp\\tmp15e1abla\\assets\n"
     ]
    },
    {
     "name": "stderr",
     "output_type": "stream",
     "text": [
      "INFO:tensorflow:Assets written to: C:\\Users\\shubh\\AppData\\Local\\Temp\\tmp15e1abla\\assets\n",
      "WARNING:absl:Found untraced functions such as _update_step_xla while saving (showing 1 of 1). These functions will not be directly callable after loading.\n"
     ]
    },
    {
     "name": "stdout",
     "output_type": "stream",
     "text": [
      "INFO:tensorflow:Assets written to: C:\\Users\\shubh\\AppData\\Local\\Temp\\tmpjnpcorfe\\assets\n"
     ]
    },
    {
     "name": "stderr",
     "output_type": "stream",
     "text": [
      "INFO:tensorflow:Assets written to: C:\\Users\\shubh\\AppData\\Local\\Temp\\tmpjnpcorfe\\assets\n"
     ]
    },
    {
     "name": "stdout",
     "output_type": "stream",
     "text": [
      "Epoch 1/50\n",
      "640/640 [==============================] - 4s 4ms/step - loss: 0.3316 - accuracy: 0.8089\n",
      "Epoch 2/50\n",
      "640/640 [==============================] - 3s 4ms/step - loss: 0.1242 - accuracy: 0.9986\n",
      "Epoch 3/50\n",
      "640/640 [==============================] - 3s 4ms/step - loss: 0.0906 - accuracy: 0.9987\n",
      "Epoch 4/50\n",
      "640/640 [==============================] - 3s 4ms/step - loss: 0.0666 - accuracy: 0.9987\n",
      "Epoch 5/50\n",
      "640/640 [==============================] - 3s 4ms/step - loss: 0.0497 - accuracy: 0.9987\n",
      "Epoch 6/50\n",
      "640/640 [==============================] - 3s 4ms/step - loss: 0.0377 - accuracy: 0.9987\n",
      "Epoch 7/50\n",
      "640/640 [==============================] - 3s 4ms/step - loss: 0.0294 - accuracy: 0.9987\n",
      "Epoch 8/50\n",
      "640/640 [==============================] - 3s 4ms/step - loss: 0.0232 - accuracy: 0.9987\n",
      "Epoch 9/50\n",
      "640/640 [==============================] - 3s 4ms/step - loss: 0.0187 - accuracy: 0.9987\n",
      "Epoch 10/50\n",
      "640/640 [==============================] - 3s 4ms/step - loss: 0.0155 - accuracy: 0.9989\n",
      "Epoch 11/50\n",
      "640/640 [==============================] - 3s 4ms/step - loss: 0.0133 - accuracy: 0.9987\n",
      "Epoch 12/50\n",
      "640/640 [==============================] - 3s 4ms/step - loss: 0.0115 - accuracy: 0.9987\n",
      "Epoch 13/50\n",
      "640/640 [==============================] - 3s 4ms/step - loss: 0.0103 - accuracy: 0.9987\n",
      "Epoch 14/50\n",
      "640/640 [==============================] - 3s 4ms/step - loss: 0.0095 - accuracy: 0.9987\n",
      "Epoch 15/50\n",
      "640/640 [==============================] - 3s 4ms/step - loss: 0.0087 - accuracy: 0.9989\n",
      "Epoch 16/50\n",
      "640/640 [==============================] - 3s 4ms/step - loss: 0.0082 - accuracy: 0.9989\n",
      "Epoch 17/50\n",
      "640/640 [==============================] - 3s 4ms/step - loss: 0.0080 - accuracy: 0.9989\n",
      "Epoch 18/50\n",
      "640/640 [==============================] - 3s 4ms/step - loss: 0.0076 - accuracy: 0.9989\n",
      "Epoch 19/50\n",
      "640/640 [==============================] - 3s 4ms/step - loss: 0.0075 - accuracy: 0.9989\n",
      "Epoch 20/50\n",
      "640/640 [==============================] - 3s 4ms/step - loss: 0.0074 - accuracy: 0.9989\n",
      "Epoch 21/50\n",
      "640/640 [==============================] - 3s 4ms/step - loss: 0.0072 - accuracy: 0.9989\n",
      "Epoch 22/50\n",
      "640/640 [==============================] - 3s 5ms/step - loss: 0.0071 - accuracy: 0.9989\n",
      "Epoch 23/50\n",
      "640/640 [==============================] - 3s 5ms/step - loss: 0.0071 - accuracy: 0.9989\n",
      "Epoch 24/50\n",
      "640/640 [==============================] - 3s 5ms/step - loss: 0.0070 - accuracy: 0.9989\n",
      "Epoch 25/50\n",
      "640/640 [==============================] - 3s 5ms/step - loss: 0.0070 - accuracy: 0.9989\n",
      "Epoch 26/50\n",
      "640/640 [==============================] - 3s 5ms/step - loss: 0.0070 - accuracy: 0.9989\n",
      "Epoch 27/50\n",
      "640/640 [==============================] - 3s 5ms/step - loss: 0.0070 - accuracy: 0.9989\n",
      "Epoch 28/50\n",
      "640/640 [==============================] - 3s 5ms/step - loss: 0.0069 - accuracy: 0.9989\n",
      "Epoch 29/50\n",
      "640/640 [==============================] - 3s 4ms/step - loss: 0.0072 - accuracy: 0.9987\n",
      "Epoch 30/50\n",
      "640/640 [==============================] - 3s 4ms/step - loss: 0.0069 - accuracy: 0.9989\n",
      "Epoch 31/50\n",
      "640/640 [==============================] - 3s 4ms/step - loss: 0.0069 - accuracy: 0.9989\n",
      "Epoch 32/50\n",
      "640/640 [==============================] - 3s 4ms/step - loss: 0.0069 - accuracy: 0.9989\n",
      "Epoch 33/50\n",
      "640/640 [==============================] - 3s 4ms/step - loss: 0.0069 - accuracy: 0.9989\n",
      "Epoch 34/50\n",
      "640/640 [==============================] - 3s 4ms/step - loss: 0.0069 - accuracy: 0.9989\n",
      "Epoch 35/50\n",
      "640/640 [==============================] - 3s 4ms/step - loss: 0.0069 - accuracy: 0.9989\n",
      "Epoch 36/50\n",
      "640/640 [==============================] - 3s 4ms/step - loss: 0.0068 - accuracy: 0.9989\n",
      "Epoch 37/50\n",
      "640/640 [==============================] - 3s 4ms/step - loss: 0.0068 - accuracy: 0.9989\n",
      "Epoch 38/50\n",
      "640/640 [==============================] - 3s 4ms/step - loss: 0.0068 - accuracy: 0.9989\n",
      "Epoch 39/50\n",
      "640/640 [==============================] - 3s 4ms/step - loss: 0.0068 - accuracy: 0.9989\n",
      "Epoch 40/50\n",
      "640/640 [==============================] - 3s 4ms/step - loss: 0.0068 - accuracy: 0.9989\n",
      "Epoch 41/50\n",
      "640/640 [==============================] - 3s 4ms/step - loss: 0.0068 - accuracy: 0.9989\n",
      "Epoch 42/50\n",
      "640/640 [==============================] - 3s 4ms/step - loss: 0.0068 - accuracy: 0.9989\n",
      "Epoch 43/50\n",
      "640/640 [==============================] - 3s 4ms/step - loss: 0.0068 - accuracy: 0.9989\n",
      "Epoch 44/50\n",
      "640/640 [==============================] - 3s 4ms/step - loss: 0.0068 - accuracy: 0.9989\n",
      "Epoch 45/50\n",
      "640/640 [==============================] - 4s 6ms/step - loss: 0.0071 - accuracy: 0.9987\n",
      "Epoch 46/50\n",
      "640/640 [==============================] - 3s 5ms/step - loss: 0.0068 - accuracy: 0.9989\n",
      "Epoch 47/50\n",
      "640/640 [==============================] - 3s 4ms/step - loss: 0.0068 - accuracy: 0.9989\n",
      "Epoch 48/50\n",
      "640/640 [==============================] - 3s 4ms/step - loss: 0.0068 - accuracy: 0.9989\n",
      "Epoch 49/50\n",
      "640/640 [==============================] - 3s 4ms/step - loss: 0.0068 - accuracy: 0.9989\n",
      "Epoch 50/50\n",
      "640/640 [==============================] - 3s 4ms/step - loss: 0.0068 - accuracy: 0.9989\n",
      "160/160 [==============================] - 1s 3ms/step\n"
     ]
    },
    {
     "name": "stderr",
     "output_type": "stream",
     "text": [
      "WARNING:absl:Found untraced functions such as _update_step_xla while saving (showing 1 of 1). These functions will not be directly callable after loading.\n"
     ]
    },
    {
     "name": "stdout",
     "output_type": "stream",
     "text": [
      "INFO:tensorflow:Assets written to: C:\\Users\\shubh\\AppData\\Local\\Temp\\tmpj4l0t8b2\\assets\n"
     ]
    },
    {
     "name": "stderr",
     "output_type": "stream",
     "text": [
      "INFO:tensorflow:Assets written to: C:\\Users\\shubh\\AppData\\Local\\Temp\\tmpj4l0t8b2\\assets\n"
     ]
    },
    {
     "name": "stdout",
     "output_type": "stream",
     "text": [
      "Epoch 1/50\n",
      "640/640 [==============================] - 4s 4ms/step - loss: 0.3142 - accuracy: 0.8591\n",
      "Epoch 2/50\n",
      "640/640 [==============================] - 3s 4ms/step - loss: 0.0588 - accuracy: 0.9984\n",
      "Epoch 3/50\n",
      "640/640 [==============================] - 3s 4ms/step - loss: 0.0236 - accuracy: 0.9984\n",
      "Epoch 4/50\n",
      "640/640 [==============================] - 3s 4ms/step - loss: 0.0146 - accuracy: 0.9984\n",
      "Epoch 5/50\n",
      "640/640 [==============================] - 3s 4ms/step - loss: 0.0117 - accuracy: 0.9984\n",
      "Epoch 6/50\n",
      "640/640 [==============================] - 3s 4ms/step - loss: 0.0108 - accuracy: 0.9984\n",
      "Epoch 7/50\n",
      "640/640 [==============================] - 3s 4ms/step - loss: 0.0103 - accuracy: 0.9984\n",
      "Epoch 8/50\n",
      "640/640 [==============================] - 3s 4ms/step - loss: 0.0100 - accuracy: 0.9984\n",
      "Epoch 9/50\n",
      "640/640 [==============================] - 3s 4ms/step - loss: 0.0099 - accuracy: 0.9984\n",
      "Epoch 10/50\n",
      "640/640 [==============================] - 3s 4ms/step - loss: 0.0097 - accuracy: 0.9984\n",
      "Epoch 11/50\n",
      "640/640 [==============================] - 3s 4ms/step - loss: 0.0098 - accuracy: 0.9983\n",
      "Epoch 12/50\n",
      "640/640 [==============================] - 3s 4ms/step - loss: 0.0098 - accuracy: 0.9984\n",
      "Epoch 13/50\n",
      "640/640 [==============================] - 3s 4ms/step - loss: 0.0097 - accuracy: 0.9984\n",
      "Epoch 14/50\n",
      "640/640 [==============================] - 3s 4ms/step - loss: 0.0095 - accuracy: 0.9984\n",
      "Epoch 15/50\n",
      "640/640 [==============================] - 3s 4ms/step - loss: 0.0097 - accuracy: 0.9984\n",
      "Epoch 16/50\n",
      "640/640 [==============================] - 3s 4ms/step - loss: 0.0095 - accuracy: 0.9984\n",
      "Epoch 17/50\n",
      "640/640 [==============================] - 3s 4ms/step - loss: 0.0093 - accuracy: 0.9983\n",
      "Epoch 18/50\n",
      "640/640 [==============================] - 3s 4ms/step - loss: 0.0093 - accuracy: 0.9983\n",
      "Epoch 19/50\n",
      "640/640 [==============================] - 3s 4ms/step - loss: 0.0094 - accuracy: 0.9984\n",
      "Epoch 20/50\n",
      "640/640 [==============================] - 3s 4ms/step - loss: 0.0092 - accuracy: 0.9984\n",
      "Epoch 21/50\n",
      "640/640 [==============================] - 3s 4ms/step - loss: 0.0092 - accuracy: 0.9984\n",
      "Epoch 22/50\n",
      "640/640 [==============================] - 3s 4ms/step - loss: 0.0090 - accuracy: 0.9984\n",
      "Epoch 23/50\n",
      "640/640 [==============================] - 3s 4ms/step - loss: 0.0091 - accuracy: 0.9984\n",
      "Epoch 24/50\n",
      "640/640 [==============================] - 3s 4ms/step - loss: 0.0088 - accuracy: 0.9984\n",
      "Epoch 25/50\n",
      "640/640 [==============================] - 3s 4ms/step - loss: 0.0089 - accuracy: 0.9984\n",
      "Epoch 26/50\n",
      "640/640 [==============================] - 3s 4ms/step - loss: 0.0087 - accuracy: 0.9984\n",
      "Epoch 27/50\n",
      "640/640 [==============================] - 3s 4ms/step - loss: 0.0090 - accuracy: 0.9984\n",
      "Epoch 28/50\n",
      "640/640 [==============================] - 3s 4ms/step - loss: 0.0086 - accuracy: 0.9984\n",
      "Epoch 29/50\n",
      "640/640 [==============================] - 3s 4ms/step - loss: 0.0086 - accuracy: 0.9984\n",
      "Epoch 30/50\n",
      "640/640 [==============================] - 3s 4ms/step - loss: 0.0083 - accuracy: 0.9984\n",
      "Epoch 31/50\n",
      "640/640 [==============================] - 3s 5ms/step - loss: 0.0087 - accuracy: 0.9984\n",
      "Epoch 32/50\n",
      "640/640 [==============================] - 4s 6ms/step - loss: 0.0083 - accuracy: 0.9984\n",
      "Epoch 33/50\n",
      "640/640 [==============================] - 3s 5ms/step - loss: 0.0084 - accuracy: 0.9984\n",
      "Epoch 34/50\n",
      "640/640 [==============================] - 3s 4ms/step - loss: 0.0081 - accuracy: 0.9986\n",
      "Epoch 35/50\n",
      "640/640 [==============================] - 3s 5ms/step - loss: 0.0083 - accuracy: 0.9984\n",
      "Epoch 36/50\n",
      "640/640 [==============================] - 3s 5ms/step - loss: 0.0082 - accuracy: 0.9984\n",
      "Epoch 37/50\n",
      "640/640 [==============================] - 4s 6ms/step - loss: 0.0079 - accuracy: 0.9987\n",
      "Epoch 38/50\n",
      "640/640 [==============================] - 3s 5ms/step - loss: 0.0080 - accuracy: 0.9986\n",
      "Epoch 39/50\n",
      "640/640 [==============================] - 3s 5ms/step - loss: 0.0081 - accuracy: 0.9984\n",
      "Epoch 40/50\n",
      "640/640 [==============================] - 3s 5ms/step - loss: 0.0078 - accuracy: 0.9986\n",
      "Epoch 41/50\n",
      "640/640 [==============================] - 3s 5ms/step - loss: 0.0079 - accuracy: 0.9984\n",
      "Epoch 42/50\n",
      "640/640 [==============================] - 3s 5ms/step - loss: 0.0077 - accuracy: 0.9984\n",
      "Epoch 43/50\n",
      "640/640 [==============================] - 3s 4ms/step - loss: 0.0077 - accuracy: 0.9989\n",
      "Epoch 44/50\n",
      "640/640 [==============================] - 3s 4ms/step - loss: 0.0077 - accuracy: 0.9987\n",
      "Epoch 45/50\n",
      "640/640 [==============================] - 3s 4ms/step - loss: 0.0076 - accuracy: 0.9987\n",
      "Epoch 46/50\n",
      "640/640 [==============================] - 3s 5ms/step - loss: 0.0076 - accuracy: 0.9984\n",
      "Epoch 47/50\n",
      "640/640 [==============================] - 3s 5ms/step - loss: 0.0075 - accuracy: 0.9987\n",
      "Epoch 48/50\n",
      "640/640 [==============================] - 3s 5ms/step - loss: 0.0077 - accuracy: 0.9986\n",
      "Epoch 49/50\n",
      "640/640 [==============================] - 3s 4ms/step - loss: 0.0074 - accuracy: 0.9986\n",
      "Epoch 50/50\n",
      "640/640 [==============================] - 3s 4ms/step - loss: 0.0076 - accuracy: 0.9986\n",
      "160/160 [==============================] - 1s 3ms/step\n"
     ]
    },
    {
     "name": "stderr",
     "output_type": "stream",
     "text": [
      "WARNING:absl:Found untraced functions such as _update_step_xla while saving (showing 1 of 1). These functions will not be directly callable after loading.\n"
     ]
    },
    {
     "name": "stdout",
     "output_type": "stream",
     "text": [
      "INFO:tensorflow:Assets written to: C:\\Users\\shubh\\AppData\\Local\\Temp\\tmpo09pf66t\\assets\n"
     ]
    },
    {
     "name": "stderr",
     "output_type": "stream",
     "text": [
      "INFO:tensorflow:Assets written to: C:\\Users\\shubh\\AppData\\Local\\Temp\\tmpo09pf66t\\assets\n"
     ]
    },
    {
     "name": "stdout",
     "output_type": "stream",
     "text": [
      "Epoch 1/50\n",
      "640/640 [==============================] - 4s 4ms/step - loss: 0.3348 - accuracy: 0.8052\n",
      "Epoch 2/50\n",
      "640/640 [==============================] - 3s 4ms/step - loss: 0.1273 - accuracy: 0.9980\n",
      "Epoch 3/50\n",
      "640/640 [==============================] - 3s 4ms/step - loss: 0.0939 - accuracy: 0.9983\n",
      "Epoch 4/50\n",
      "640/640 [==============================] - 3s 4ms/step - loss: 0.0703 - accuracy: 0.9983\n",
      "Epoch 5/50\n",
      "640/640 [==============================] - 3s 4ms/step - loss: 0.0532 - accuracy: 0.9983\n",
      "Epoch 6/50\n",
      "640/640 [==============================] - 3s 4ms/step - loss: 0.0413 - accuracy: 0.9983\n",
      "Epoch 7/50\n",
      "640/640 [==============================] - 3s 4ms/step - loss: 0.0327 - accuracy: 0.9983\n",
      "Epoch 8/50\n",
      "640/640 [==============================] - 3s 4ms/step - loss: 0.0264 - accuracy: 0.9983\n",
      "Epoch 9/50\n",
      "640/640 [==============================] - 3s 4ms/step - loss: 0.0222 - accuracy: 0.9983\n",
      "Epoch 10/50\n",
      "640/640 [==============================] - 3s 4ms/step - loss: 0.0188 - accuracy: 0.9983\n",
      "Epoch 11/50\n",
      "640/640 [==============================] - 3s 4ms/step - loss: 0.0167 - accuracy: 0.9983\n",
      "Epoch 12/50\n",
      "640/640 [==============================] - 3s 4ms/step - loss: 0.0148 - accuracy: 0.9983\n",
      "Epoch 13/50\n",
      "640/640 [==============================] - 3s 4ms/step - loss: 0.0139 - accuracy: 0.9983\n",
      "Epoch 14/50\n",
      "640/640 [==============================] - 3s 4ms/step - loss: 0.0129 - accuracy: 0.9983\n",
      "Epoch 15/50\n",
      "640/640 [==============================] - 3s 4ms/step - loss: 0.0123 - accuracy: 0.9983\n",
      "Epoch 16/50\n",
      "640/640 [==============================] - 3s 4ms/step - loss: 0.0115 - accuracy: 0.9984\n",
      "Epoch 17/50\n",
      "640/640 [==============================] - 3s 4ms/step - loss: 0.0117 - accuracy: 0.9983\n",
      "Epoch 18/50\n",
      "640/640 [==============================] - 3s 4ms/step - loss: 0.0114 - accuracy: 0.9983\n",
      "Epoch 19/50\n",
      "640/640 [==============================] - 3s 4ms/step - loss: 0.0112 - accuracy: 0.9983\n",
      "Epoch 20/50\n",
      "640/640 [==============================] - 3s 4ms/step - loss: 0.0111 - accuracy: 0.9983\n",
      "Epoch 21/50\n",
      "640/640 [==============================] - 3s 4ms/step - loss: 0.0110 - accuracy: 0.9983\n",
      "Epoch 22/50\n",
      "640/640 [==============================] - 3s 4ms/step - loss: 0.0108 - accuracy: 0.9983\n",
      "Epoch 23/50\n",
      "640/640 [==============================] - 3s 4ms/step - loss: 0.0109 - accuracy: 0.9983\n",
      "Epoch 24/50\n",
      "640/640 [==============================] - 3s 4ms/step - loss: 0.0108 - accuracy: 0.9983\n",
      "Epoch 25/50\n",
      "640/640 [==============================] - 3s 4ms/step - loss: 0.0107 - accuracy: 0.9983\n",
      "Epoch 26/50\n",
      "640/640 [==============================] - 3s 4ms/step - loss: 0.0104 - accuracy: 0.9983\n",
      "Epoch 27/50\n",
      "640/640 [==============================] - 3s 4ms/step - loss: 0.0107 - accuracy: 0.9983\n",
      "Epoch 28/50\n",
      "640/640 [==============================] - 3s 4ms/step - loss: 0.0106 - accuracy: 0.9983\n",
      "Epoch 29/50\n",
      "640/640 [==============================] - 3s 4ms/step - loss: 0.0105 - accuracy: 0.9983\n",
      "Epoch 30/50\n",
      "640/640 [==============================] - 3s 4ms/step - loss: 0.0105 - accuracy: 0.9983\n",
      "Epoch 31/50\n",
      "640/640 [==============================] - 3s 4ms/step - loss: 0.0105 - accuracy: 0.9983\n",
      "Epoch 32/50\n",
      "640/640 [==============================] - 3s 4ms/step - loss: 0.0105 - accuracy: 0.9983\n",
      "Epoch 33/50\n",
      "640/640 [==============================] - 3s 4ms/step - loss: 0.0105 - accuracy: 0.9981\n",
      "Epoch 34/50\n",
      "640/640 [==============================] - 3s 4ms/step - loss: 0.0105 - accuracy: 0.9983\n",
      "Epoch 35/50\n",
      "640/640 [==============================] - 3s 4ms/step - loss: 0.0103 - accuracy: 0.9983\n",
      "Epoch 36/50\n",
      "640/640 [==============================] - 3s 4ms/step - loss: 0.0106 - accuracy: 0.9983\n",
      "Epoch 37/50\n",
      "640/640 [==============================] - 3s 4ms/step - loss: 0.0103 - accuracy: 0.9983\n",
      "Epoch 38/50\n",
      "640/640 [==============================] - 3s 4ms/step - loss: 0.0105 - accuracy: 0.9983\n",
      "Epoch 39/50\n",
      "640/640 [==============================] - 3s 4ms/step - loss: 0.0104 - accuracy: 0.9983\n",
      "Epoch 40/50\n",
      "640/640 [==============================] - 3s 5ms/step - loss: 0.0106 - accuracy: 0.9983\n",
      "Epoch 41/50\n",
      "640/640 [==============================] - 3s 5ms/step - loss: 0.0104 - accuracy: 0.9983\n",
      "Epoch 42/50\n",
      "640/640 [==============================] - 4s 6ms/step - loss: 0.0103 - accuracy: 0.9983\n",
      "Epoch 43/50\n",
      "640/640 [==============================] - 3s 5ms/step - loss: 0.0104 - accuracy: 0.9983\n",
      "Epoch 44/50\n",
      "640/640 [==============================] - 3s 4ms/step - loss: 0.0105 - accuracy: 0.9983\n",
      "Epoch 45/50\n",
      "640/640 [==============================] - 3s 5ms/step - loss: 0.0105 - accuracy: 0.9981\n",
      "Epoch 46/50\n",
      "640/640 [==============================] - 3s 5ms/step - loss: 0.0104 - accuracy: 0.9983\n",
      "Epoch 47/50\n",
      "640/640 [==============================] - 3s 4ms/step - loss: 0.0104 - accuracy: 0.9981\n",
      "Epoch 48/50\n",
      "640/640 [==============================] - 3s 4ms/step - loss: 0.0104 - accuracy: 0.9983\n",
      "Epoch 49/50\n",
      "640/640 [==============================] - 3s 5ms/step - loss: 0.0104 - accuracy: 0.9981\n",
      "Epoch 50/50\n",
      "640/640 [==============================] - 3s 4ms/step - loss: 0.0104 - accuracy: 0.9983\n",
      "160/160 [==============================] - 1s 4ms/step\n"
     ]
    },
    {
     "name": "stderr",
     "output_type": "stream",
     "text": [
      "WARNING:absl:Found untraced functions such as _update_step_xla while saving (showing 1 of 1). These functions will not be directly callable after loading.\n"
     ]
    },
    {
     "name": "stdout",
     "output_type": "stream",
     "text": [
      "INFO:tensorflow:Assets written to: C:\\Users\\shubh\\AppData\\Local\\Temp\\tmpno24opak\\assets\n"
     ]
    },
    {
     "name": "stderr",
     "output_type": "stream",
     "text": [
      "INFO:tensorflow:Assets written to: C:\\Users\\shubh\\AppData\\Local\\Temp\\tmpno24opak\\assets\n"
     ]
    },
    {
     "name": "stdout",
     "output_type": "stream",
     "text": [
      "Epoch 1/50\n",
      "640/640 [==============================] - 4s 4ms/step - loss: 0.3255 - accuracy: 0.8498\n",
      "Epoch 2/50\n",
      "640/640 [==============================] - 3s 4ms/step - loss: 0.0619 - accuracy: 0.9984\n",
      "Epoch 3/50\n",
      "640/640 [==============================] - 3s 4ms/step - loss: 0.0231 - accuracy: 0.9984\n",
      "Epoch 4/50\n",
      "640/640 [==============================] - 3s 4ms/step - loss: 0.0142 - accuracy: 0.9984\n",
      "Epoch 5/50\n",
      "640/640 [==============================] - 3s 4ms/step - loss: 0.0115 - accuracy: 0.9984\n",
      "Epoch 6/50\n",
      "640/640 [==============================] - 3s 4ms/step - loss: 0.0106 - accuracy: 0.9984\n",
      "Epoch 7/50\n",
      "640/640 [==============================] - 3s 4ms/step - loss: 0.0101 - accuracy: 0.9984\n",
      "Epoch 8/50\n",
      "640/640 [==============================] - 3s 4ms/step - loss: 0.0101 - accuracy: 0.9984\n",
      "Epoch 9/50\n",
      "640/640 [==============================] - 3s 4ms/step - loss: 0.0098 - accuracy: 0.9984\n",
      "Epoch 10/50\n",
      "640/640 [==============================] - 3s 4ms/step - loss: 0.0099 - accuracy: 0.9984\n",
      "Epoch 11/50\n",
      "640/640 [==============================] - 3s 4ms/step - loss: 0.0097 - accuracy: 0.9984\n",
      "Epoch 12/50\n",
      "640/640 [==============================] - 3s 4ms/step - loss: 0.0097 - accuracy: 0.9984\n",
      "Epoch 13/50\n",
      "640/640 [==============================] - 3s 4ms/step - loss: 0.0096 - accuracy: 0.9984\n",
      "Epoch 14/50\n",
      "640/640 [==============================] - 3s 4ms/step - loss: 0.0097 - accuracy: 0.9984\n",
      "Epoch 15/50\n",
      "640/640 [==============================] - 3s 5ms/step - loss: 0.0097 - accuracy: 0.9984\n",
      "Epoch 16/50\n",
      "640/640 [==============================] - 3s 4ms/step - loss: 0.0095 - accuracy: 0.9984\n",
      "Epoch 17/50\n",
      "640/640 [==============================] - 3s 4ms/step - loss: 0.0095 - accuracy: 0.9984\n",
      "Epoch 18/50\n",
      "640/640 [==============================] - 3s 4ms/step - loss: 0.0096 - accuracy: 0.9984\n",
      "Epoch 19/50\n",
      "640/640 [==============================] - 3s 4ms/step - loss: 0.0096 - accuracy: 0.9984\n",
      "Epoch 20/50\n",
      "640/640 [==============================] - 3s 4ms/step - loss: 0.0096 - accuracy: 0.9984\n",
      "Epoch 21/50\n",
      "640/640 [==============================] - 3s 4ms/step - loss: 0.0093 - accuracy: 0.9984\n",
      "Epoch 22/50\n",
      "640/640 [==============================] - 3s 4ms/step - loss: 0.0096 - accuracy: 0.9984\n",
      "Epoch 23/50\n",
      "640/640 [==============================] - 3s 4ms/step - loss: 0.0095 - accuracy: 0.9984\n",
      "Epoch 24/50\n",
      "640/640 [==============================] - 3s 4ms/step - loss: 0.0092 - accuracy: 0.9984\n",
      "Epoch 25/50\n",
      "640/640 [==============================] - 3s 4ms/step - loss: 0.0094 - accuracy: 0.9984\n",
      "Epoch 26/50\n",
      "640/640 [==============================] - 3s 4ms/step - loss: 0.0092 - accuracy: 0.9984\n",
      "Epoch 27/50\n",
      "640/640 [==============================] - 3s 4ms/step - loss: 0.0093 - accuracy: 0.9984\n",
      "Epoch 28/50\n",
      "640/640 [==============================] - 3s 4ms/step - loss: 0.0094 - accuracy: 0.9984\n",
      "Epoch 29/50\n",
      "640/640 [==============================] - 3s 4ms/step - loss: 0.0093 - accuracy: 0.9984\n",
      "Epoch 30/50\n",
      "640/640 [==============================] - 3s 4ms/step - loss: 0.0093 - accuracy: 0.9984\n",
      "Epoch 31/50\n",
      "640/640 [==============================] - 3s 4ms/step - loss: 0.0091 - accuracy: 0.9984\n",
      "Epoch 32/50\n",
      "640/640 [==============================] - 3s 4ms/step - loss: 0.0090 - accuracy: 0.9984\n",
      "Epoch 33/50\n",
      "640/640 [==============================] - 3s 4ms/step - loss: 0.0093 - accuracy: 0.9984\n",
      "Epoch 34/50\n",
      "640/640 [==============================] - 3s 4ms/step - loss: 0.0090 - accuracy: 0.9984\n",
      "Epoch 35/50\n",
      "640/640 [==============================] - 3s 5ms/step - loss: 0.0092 - accuracy: 0.9984\n",
      "Epoch 36/50\n",
      "640/640 [==============================] - 3s 4ms/step - loss: 0.0089 - accuracy: 0.9984\n",
      "Epoch 37/50\n",
      "640/640 [==============================] - 3s 4ms/step - loss: 0.0091 - accuracy: 0.9984\n",
      "Epoch 38/50\n",
      "640/640 [==============================] - 3s 4ms/step - loss: 0.0090 - accuracy: 0.9984\n",
      "Epoch 39/50\n",
      "640/640 [==============================] - 3s 4ms/step - loss: 0.0091 - accuracy: 0.9984\n",
      "Epoch 40/50\n",
      "640/640 [==============================] - 3s 5ms/step - loss: 0.0088 - accuracy: 0.9986\n",
      "Epoch 41/50\n",
      "640/640 [==============================] - 3s 5ms/step - loss: 0.0091 - accuracy: 0.9984\n",
      "Epoch 42/50\n",
      "640/640 [==============================] - 3s 5ms/step - loss: 0.0088 - accuracy: 0.9984\n",
      "Epoch 43/50\n",
      "640/640 [==============================] - 3s 4ms/step - loss: 0.0089 - accuracy: 0.9984\n",
      "Epoch 44/50\n",
      "640/640 [==============================] - 3s 4ms/step - loss: 0.0087 - accuracy: 0.9986\n",
      "Epoch 45/50\n",
      "640/640 [==============================] - 3s 4ms/step - loss: 0.0090 - accuracy: 0.9984\n",
      "Epoch 46/50\n",
      "640/640 [==============================] - 3s 4ms/step - loss: 0.0087 - accuracy: 0.9984\n",
      "Epoch 47/50\n",
      "640/640 [==============================] - 3s 4ms/step - loss: 0.0089 - accuracy: 0.9984\n",
      "Epoch 48/50\n",
      "640/640 [==============================] - 3s 4ms/step - loss: 0.0086 - accuracy: 0.9986\n",
      "Epoch 49/50\n",
      "640/640 [==============================] - 3s 4ms/step - loss: 0.0087 - accuracy: 0.9984\n",
      "Epoch 50/50\n",
      "640/640 [==============================] - 3s 4ms/step - loss: 0.0087 - accuracy: 0.9986\n",
      "160/160 [==============================] - 1s 3ms/step\n"
     ]
    },
    {
     "name": "stderr",
     "output_type": "stream",
     "text": [
      "WARNING:absl:Found untraced functions such as _update_step_xla while saving (showing 1 of 1). These functions will not be directly callable after loading.\n"
     ]
    },
    {
     "name": "stdout",
     "output_type": "stream",
     "text": [
      "INFO:tensorflow:Assets written to: C:\\Users\\shubh\\AppData\\Local\\Temp\\tmpchb3ynb5\\assets\n"
     ]
    },
    {
     "name": "stderr",
     "output_type": "stream",
     "text": [
      "INFO:tensorflow:Assets written to: C:\\Users\\shubh\\AppData\\Local\\Temp\\tmpchb3ynb5\\assets\n"
     ]
    },
    {
     "name": "stdout",
     "output_type": "stream",
     "text": [
      "Epoch 1/50\n",
      "640/640 [==============================] - 4s 4ms/step - loss: 0.3218 - accuracy: 0.8516\n",
      "Epoch 2/50\n",
      "640/640 [==============================] - 3s 4ms/step - loss: 0.0615 - accuracy: 0.9980\n",
      "Epoch 3/50\n",
      "640/640 [==============================] - 3s 4ms/step - loss: 0.0247 - accuracy: 0.9980\n",
      "Epoch 4/50\n",
      "640/640 [==============================] - 3s 4ms/step - loss: 0.0160 - accuracy: 0.9980\n",
      "Epoch 5/50\n",
      "640/640 [==============================] - 3s 4ms/step - loss: 0.0138 - accuracy: 0.9980\n",
      "Epoch 6/50\n",
      "640/640 [==============================] - 3s 4ms/step - loss: 0.0128 - accuracy: 0.9980\n",
      "Epoch 7/50\n",
      "640/640 [==============================] - 3s 4ms/step - loss: 0.0125 - accuracy: 0.9980\n",
      "Epoch 8/50\n",
      "640/640 [==============================] - 3s 4ms/step - loss: 0.0122 - accuracy: 0.9980\n",
      "Epoch 9/50\n",
      "640/640 [==============================] - 3s 4ms/step - loss: 0.0119 - accuracy: 0.9980\n",
      "Epoch 10/50\n",
      "640/640 [==============================] - 3s 4ms/step - loss: 0.0122 - accuracy: 0.9978\n",
      "Epoch 11/50\n",
      "640/640 [==============================] - 3s 4ms/step - loss: 0.0117 - accuracy: 0.9980\n",
      "Epoch 12/50\n",
      "640/640 [==============================] - 3s 4ms/step - loss: 0.0116 - accuracy: 0.9980\n",
      "Epoch 13/50\n",
      "640/640 [==============================] - 3s 4ms/step - loss: 0.0118 - accuracy: 0.9980\n",
      "Epoch 14/50\n",
      "640/640 [==============================] - 3s 4ms/step - loss: 0.0117 - accuracy: 0.9980\n",
      "Epoch 15/50\n",
      "640/640 [==============================] - 3s 4ms/step - loss: 0.0116 - accuracy: 0.9980\n",
      "Epoch 16/50\n",
      "640/640 [==============================] - 3s 4ms/step - loss: 0.0114 - accuracy: 0.9980\n",
      "Epoch 17/50\n",
      "640/640 [==============================] - 3s 4ms/step - loss: 0.0115 - accuracy: 0.9980\n",
      "Epoch 18/50\n",
      "640/640 [==============================] - 3s 4ms/step - loss: 0.0112 - accuracy: 0.9980\n",
      "Epoch 19/50\n",
      "640/640 [==============================] - 3s 4ms/step - loss: 0.0111 - accuracy: 0.9981\n",
      "Epoch 20/50\n",
      "640/640 [==============================] - 3s 4ms/step - loss: 0.0112 - accuracy: 0.9980\n",
      "Epoch 21/50\n",
      "640/640 [==============================] - 3s 4ms/step - loss: 0.0113 - accuracy: 0.9980\n",
      "Epoch 22/50\n",
      "640/640 [==============================] - 3s 4ms/step - loss: 0.0111 - accuracy: 0.9980\n",
      "Epoch 23/50\n",
      "640/640 [==============================] - 3s 4ms/step - loss: 0.0112 - accuracy: 0.9980\n",
      "Epoch 24/50\n",
      "640/640 [==============================] - 3s 4ms/step - loss: 0.0106 - accuracy: 0.9978\n",
      "Epoch 25/50\n",
      "640/640 [==============================] - 3s 4ms/step - loss: 0.0110 - accuracy: 0.9980\n",
      "Epoch 26/50\n",
      "640/640 [==============================] - 3s 4ms/step - loss: 0.0108 - accuracy: 0.9981\n",
      "Epoch 27/50\n",
      "640/640 [==============================] - 3s 4ms/step - loss: 0.0108 - accuracy: 0.9980\n",
      "Epoch 28/50\n",
      "640/640 [==============================] - 3s 4ms/step - loss: 0.0108 - accuracy: 0.9980\n",
      "Epoch 29/50\n",
      "640/640 [==============================] - 3s 4ms/step - loss: 0.0106 - accuracy: 0.9980\n",
      "Epoch 30/50\n",
      "640/640 [==============================] - 3s 4ms/step - loss: 0.0107 - accuracy: 0.9981\n",
      "Epoch 31/50\n",
      "640/640 [==============================] - 3s 4ms/step - loss: 0.0109 - accuracy: 0.9980\n",
      "Epoch 32/50\n",
      "640/640 [==============================] - 3s 4ms/step - loss: 0.0103 - accuracy: 0.9981\n",
      "Epoch 33/50\n",
      "640/640 [==============================] - 3s 4ms/step - loss: 0.0106 - accuracy: 0.9980\n",
      "Epoch 34/50\n",
      "640/640 [==============================] - 3s 4ms/step - loss: 0.0105 - accuracy: 0.9980\n",
      "Epoch 35/50\n",
      "640/640 [==============================] - 3s 4ms/step - loss: 0.0104 - accuracy: 0.9980\n",
      "Epoch 36/50\n",
      "640/640 [==============================] - 3s 4ms/step - loss: 0.0103 - accuracy: 0.9981\n",
      "Epoch 37/50\n",
      "640/640 [==============================] - 3s 4ms/step - loss: 0.0103 - accuracy: 0.9981\n",
      "Epoch 38/50\n",
      "640/640 [==============================] - 3s 4ms/step - loss: 0.0103 - accuracy: 0.9983\n",
      "Epoch 39/50\n",
      "640/640 [==============================] - 3s 4ms/step - loss: 0.0102 - accuracy: 0.9983\n",
      "Epoch 40/50\n",
      "640/640 [==============================] - 3s 4ms/step - loss: 0.0102 - accuracy: 0.9983\n",
      "Epoch 41/50\n",
      "640/640 [==============================] - 3s 4ms/step - loss: 0.0104 - accuracy: 0.9980\n",
      "Epoch 42/50\n",
      "640/640 [==============================] - 3s 4ms/step - loss: 0.0101 - accuracy: 0.9981\n",
      "Epoch 43/50\n",
      "640/640 [==============================] - 3s 4ms/step - loss: 0.0100 - accuracy: 0.9981\n",
      "Epoch 44/50\n",
      "640/640 [==============================] - 3s 4ms/step - loss: 0.0099 - accuracy: 0.9984\n",
      "Epoch 45/50\n",
      "640/640 [==============================] - 3s 4ms/step - loss: 0.0101 - accuracy: 0.9981\n",
      "Epoch 46/50\n",
      "640/640 [==============================] - 3s 4ms/step - loss: 0.0099 - accuracy: 0.9983\n",
      "Epoch 47/50\n",
      "640/640 [==============================] - 3s 4ms/step - loss: 0.0098 - accuracy: 0.9981\n",
      "Epoch 48/50\n",
      "640/640 [==============================] - 3s 4ms/step - loss: 0.0098 - accuracy: 0.9983\n",
      "Epoch 49/50\n",
      "640/640 [==============================] - 3s 4ms/step - loss: 0.0098 - accuracy: 0.9983\n",
      "Epoch 50/50\n",
      "640/640 [==============================] - 3s 4ms/step - loss: 0.0097 - accuracy: 0.9984\n",
      "160/160 [==============================] - 1s 3ms/step\n"
     ]
    },
    {
     "name": "stderr",
     "output_type": "stream",
     "text": [
      "WARNING:absl:Found untraced functions such as _update_step_xla while saving (showing 1 of 1). These functions will not be directly callable after loading.\n"
     ]
    },
    {
     "name": "stdout",
     "output_type": "stream",
     "text": [
      "INFO:tensorflow:Assets written to: C:\\Users\\shubh\\AppData\\Local\\Temp\\tmpi8o4wr6t\\assets\n"
     ]
    },
    {
     "name": "stderr",
     "output_type": "stream",
     "text": [
      "INFO:tensorflow:Assets written to: C:\\Users\\shubh\\AppData\\Local\\Temp\\tmpi8o4wr6t\\assets\n"
     ]
    },
    {
     "name": "stdout",
     "output_type": "stream",
     "text": [
      "Epoch 1/50\n",
      "640/640 [==============================] - 4s 4ms/step - loss: 0.3299 - accuracy: 0.8323\n",
      "Epoch 2/50\n",
      "640/640 [==============================] - 3s 4ms/step - loss: 0.0648 - accuracy: 0.9987\n",
      "Epoch 3/50\n",
      "640/640 [==============================] - 3s 4ms/step - loss: 0.0214 - accuracy: 0.9987\n",
      "Epoch 4/50\n",
      "640/640 [==============================] - 3s 4ms/step - loss: 0.0119 - accuracy: 0.9987\n",
      "Epoch 5/50\n",
      "640/640 [==============================] - 3s 4ms/step - loss: 0.0092 - accuracy: 0.9987\n",
      "Epoch 6/50\n",
      "640/640 [==============================] - 3s 4ms/step - loss: 0.0082 - accuracy: 0.9986\n",
      "Epoch 7/50\n",
      "640/640 [==============================] - 3s 4ms/step - loss: 0.0076 - accuracy: 0.9987\n",
      "Epoch 8/50\n",
      "640/640 [==============================] - 3s 4ms/step - loss: 0.0073 - accuracy: 0.9987\n",
      "Epoch 9/50\n",
      "640/640 [==============================] - 3s 4ms/step - loss: 0.0073 - accuracy: 0.9987\n",
      "Epoch 10/50\n",
      "640/640 [==============================] - 3s 4ms/step - loss: 0.0071 - accuracy: 0.9987\n",
      "Epoch 11/50\n",
      "640/640 [==============================] - 3s 5ms/step - loss: 0.0071 - accuracy: 0.9989\n",
      "Epoch 12/50\n",
      "640/640 [==============================] - 3s 4ms/step - loss: 0.0072 - accuracy: 0.9987\n",
      "Epoch 13/50\n",
      "640/640 [==============================] - 3s 4ms/step - loss: 0.0069 - accuracy: 0.9989\n",
      "Epoch 14/50\n",
      "640/640 [==============================] - 3s 4ms/step - loss: 0.0072 - accuracy: 0.9986\n",
      "Epoch 15/50\n",
      "640/640 [==============================] - 3s 5ms/step - loss: 0.0070 - accuracy: 0.9987\n",
      "Epoch 16/50\n",
      "640/640 [==============================] - 3s 4ms/step - loss: 0.0073 - accuracy: 0.9987\n",
      "Epoch 17/50\n",
      "640/640 [==============================] - 3s 5ms/step - loss: 0.0069 - accuracy: 0.9989\n",
      "Epoch 18/50\n",
      "640/640 [==============================] - 3s 4ms/step - loss: 0.0069 - accuracy: 0.9989\n",
      "Epoch 19/50\n",
      "640/640 [==============================] - 3s 4ms/step - loss: 0.0069 - accuracy: 0.9989\n",
      "Epoch 20/50\n",
      "640/640 [==============================] - 3s 4ms/step - loss: 0.0069 - accuracy: 0.9989\n",
      "Epoch 21/50\n",
      "640/640 [==============================] - 3s 5ms/step - loss: 0.0069 - accuracy: 0.9989\n",
      "Epoch 22/50\n",
      "640/640 [==============================] - 3s 5ms/step - loss: 0.0069 - accuracy: 0.9989\n",
      "Epoch 23/50\n",
      "640/640 [==============================] - 3s 4ms/step - loss: 0.0069 - accuracy: 0.9989\n",
      "Epoch 24/50\n",
      "640/640 [==============================] - 3s 4ms/step - loss: 0.0069 - accuracy: 0.9989\n",
      "Epoch 25/50\n",
      "640/640 [==============================] - 3s 4ms/step - loss: 0.0069 - accuracy: 0.9989\n",
      "Epoch 26/50\n",
      "640/640 [==============================] - 3s 4ms/step - loss: 0.0069 - accuracy: 0.9989\n",
      "Epoch 27/50\n",
      "640/640 [==============================] - 3s 5ms/step - loss: 0.0068 - accuracy: 0.9989\n",
      "Epoch 28/50\n",
      "640/640 [==============================] - 3s 5ms/step - loss: 0.0068 - accuracy: 0.9989\n",
      "Epoch 29/50\n",
      "640/640 [==============================] - 3s 4ms/step - loss: 0.0068 - accuracy: 0.9989\n",
      "Epoch 30/50\n",
      "640/640 [==============================] - 3s 5ms/step - loss: 0.0068 - accuracy: 0.9989\n",
      "Epoch 31/50\n",
      "640/640 [==============================] - 3s 5ms/step - loss: 0.0069 - accuracy: 0.9989\n",
      "Epoch 32/50\n",
      "640/640 [==============================] - 3s 5ms/step - loss: 0.0075 - accuracy: 0.9987\n",
      "Epoch 33/50\n",
      "640/640 [==============================] - 3s 5ms/step - loss: 0.0068 - accuracy: 0.9989\n",
      "Epoch 34/50\n",
      "640/640 [==============================] - 4s 6ms/step - loss: 0.0068 - accuracy: 0.9989\n",
      "Epoch 35/50\n",
      "640/640 [==============================] - 3s 5ms/step - loss: 0.0068 - accuracy: 0.9989\n",
      "Epoch 36/50\n",
      "640/640 [==============================] - 3s 5ms/step - loss: 0.0069 - accuracy: 0.9989\n",
      "Epoch 37/50\n",
      "640/640 [==============================] - 3s 5ms/step - loss: 0.0068 - accuracy: 0.9989\n",
      "Epoch 38/50\n",
      "640/640 [==============================] - 3s 5ms/step - loss: 0.0068 - accuracy: 0.9989\n",
      "Epoch 39/50\n",
      "640/640 [==============================] - 3s 5ms/step - loss: 0.0068 - accuracy: 0.9989\n",
      "Epoch 40/50\n",
      "640/640 [==============================] - 3s 5ms/step - loss: 0.0068 - accuracy: 0.9989\n",
      "Epoch 41/50\n",
      "640/640 [==============================] - 3s 4ms/step - loss: 0.0068 - accuracy: 0.9989\n",
      "Epoch 42/50\n",
      "640/640 [==============================] - 3s 4ms/step - loss: 0.0068 - accuracy: 0.9989\n",
      "Epoch 43/50\n",
      "640/640 [==============================] - 3s 4ms/step - loss: 0.0068 - accuracy: 0.9989\n",
      "Epoch 44/50\n",
      "640/640 [==============================] - 3s 4ms/step - loss: 0.0069 - accuracy: 0.9989\n",
      "Epoch 45/50\n",
      "640/640 [==============================] - 3s 4ms/step - loss: 0.0068 - accuracy: 0.9989\n",
      "Epoch 46/50\n",
      "640/640 [==============================] - 3s 4ms/step - loss: 0.0068 - accuracy: 0.9989\n",
      "Epoch 47/50\n",
      "640/640 [==============================] - 3s 5ms/step - loss: 0.0068 - accuracy: 0.9989\n",
      "Epoch 48/50\n",
      "640/640 [==============================] - 3s 5ms/step - loss: 0.0071 - accuracy: 0.9987\n",
      "Epoch 49/50\n",
      "640/640 [==============================] - 3s 4ms/step - loss: 0.0069 - accuracy: 0.9989\n",
      "Epoch 50/50\n",
      "640/640 [==============================] - 3s 4ms/step - loss: 0.0068 - accuracy: 0.9989\n",
      "WARNING:tensorflow:Detecting that an object or model or tf.train.Checkpoint is being deleted with unrestored values. See the following logs for the specific values in question. To silence these warnings, use `status.expect_partial()`. See https://www.tensorflow.org/api_docs/python/tf/train/Checkpoint#restorefor details about the status object returned by the restore function.\n"
     ]
    },
    {
     "name": "stderr",
     "output_type": "stream",
     "text": [
      "WARNING:tensorflow:Detecting that an object or model or tf.train.Checkpoint is being deleted with unrestored values. See the following logs for the specific values in question. To silence these warnings, use `status.expect_partial()`. See https://www.tensorflow.org/api_docs/python/tf/train/Checkpoint#restorefor details about the status object returned by the restore function.\n"
     ]
    },
    {
     "name": "stdout",
     "output_type": "stream",
     "text": [
      "WARNING:tensorflow:Value in checkpoint could not be found in the restored object: (root).keras_api.metrics.0.total\n"
     ]
    },
    {
     "name": "stderr",
     "output_type": "stream",
     "text": [
      "WARNING:tensorflow:Value in checkpoint could not be found in the restored object: (root).keras_api.metrics.0.total\n"
     ]
    },
    {
     "name": "stdout",
     "output_type": "stream",
     "text": [
      "WARNING:tensorflow:Value in checkpoint could not be found in the restored object: (root).keras_api.metrics.0.count\n"
     ]
    },
    {
     "name": "stderr",
     "output_type": "stream",
     "text": [
      "WARNING:tensorflow:Value in checkpoint could not be found in the restored object: (root).keras_api.metrics.0.count\n"
     ]
    },
    {
     "name": "stdout",
     "output_type": "stream",
     "text": [
      "WARNING:tensorflow:Value in checkpoint could not be found in the restored object: (root).keras_api.metrics.1.total\n"
     ]
    },
    {
     "name": "stderr",
     "output_type": "stream",
     "text": [
      "WARNING:tensorflow:Value in checkpoint could not be found in the restored object: (root).keras_api.metrics.1.total\n"
     ]
    },
    {
     "name": "stdout",
     "output_type": "stream",
     "text": [
      "WARNING:tensorflow:Value in checkpoint could not be found in the restored object: (root).keras_api.metrics.1.count\n"
     ]
    },
    {
     "name": "stderr",
     "output_type": "stream",
     "text": [
      "WARNING:tensorflow:Value in checkpoint could not be found in the restored object: (root).keras_api.metrics.1.count\n"
     ]
    },
    {
     "name": "stdout",
     "output_type": "stream",
     "text": [
      "WARNING:tensorflow:Detecting that an object or model or tf.train.Checkpoint is being deleted with unrestored values. See the following logs for the specific values in question. To silence these warnings, use `status.expect_partial()`. See https://www.tensorflow.org/api_docs/python/tf/train/Checkpoint#restorefor details about the status object returned by the restore function.\n"
     ]
    },
    {
     "name": "stderr",
     "output_type": "stream",
     "text": [
      "WARNING:tensorflow:Detecting that an object or model or tf.train.Checkpoint is being deleted with unrestored values. See the following logs for the specific values in question. To silence these warnings, use `status.expect_partial()`. See https://www.tensorflow.org/api_docs/python/tf/train/Checkpoint#restorefor details about the status object returned by the restore function.\n"
     ]
    },
    {
     "name": "stdout",
     "output_type": "stream",
     "text": [
      "WARNING:tensorflow:Value in checkpoint could not be found in the restored object: (root).keras_api.metrics.0.total\n"
     ]
    },
    {
     "name": "stderr",
     "output_type": "stream",
     "text": [
      "WARNING:tensorflow:Value in checkpoint could not be found in the restored object: (root).keras_api.metrics.0.total\n"
     ]
    },
    {
     "name": "stdout",
     "output_type": "stream",
     "text": [
      "WARNING:tensorflow:Value in checkpoint could not be found in the restored object: (root).keras_api.metrics.0.count\n"
     ]
    },
    {
     "name": "stderr",
     "output_type": "stream",
     "text": [
      "WARNING:tensorflow:Value in checkpoint could not be found in the restored object: (root).keras_api.metrics.0.count\n"
     ]
    },
    {
     "name": "stdout",
     "output_type": "stream",
     "text": [
      "WARNING:tensorflow:Value in checkpoint could not be found in the restored object: (root).keras_api.metrics.1.total\n"
     ]
    },
    {
     "name": "stderr",
     "output_type": "stream",
     "text": [
      "WARNING:tensorflow:Value in checkpoint could not be found in the restored object: (root).keras_api.metrics.1.total\n"
     ]
    },
    {
     "name": "stdout",
     "output_type": "stream",
     "text": [
      "WARNING:tensorflow:Value in checkpoint could not be found in the restored object: (root).keras_api.metrics.1.count\n"
     ]
    },
    {
     "name": "stderr",
     "output_type": "stream",
     "text": [
      "WARNING:tensorflow:Value in checkpoint could not be found in the restored object: (root).keras_api.metrics.1.count\n"
     ]
    },
    {
     "name": "stdout",
     "output_type": "stream",
     "text": [
      "WARNING:tensorflow:Detecting that an object or model or tf.train.Checkpoint is being deleted with unrestored values. See the following logs for the specific values in question. To silence these warnings, use `status.expect_partial()`. See https://www.tensorflow.org/api_docs/python/tf/train/Checkpoint#restorefor details about the status object returned by the restore function.\n"
     ]
    },
    {
     "name": "stderr",
     "output_type": "stream",
     "text": [
      "WARNING:tensorflow:Detecting that an object or model or tf.train.Checkpoint is being deleted with unrestored values. See the following logs for the specific values in question. To silence these warnings, use `status.expect_partial()`. See https://www.tensorflow.org/api_docs/python/tf/train/Checkpoint#restorefor details about the status object returned by the restore function.\n"
     ]
    },
    {
     "name": "stdout",
     "output_type": "stream",
     "text": [
      "WARNING:tensorflow:Value in checkpoint could not be found in the restored object: (root).keras_api.metrics.0.total\n"
     ]
    },
    {
     "name": "stderr",
     "output_type": "stream",
     "text": [
      "WARNING:tensorflow:Value in checkpoint could not be found in the restored object: (root).keras_api.metrics.0.total\n"
     ]
    },
    {
     "name": "stdout",
     "output_type": "stream",
     "text": [
      "WARNING:tensorflow:Value in checkpoint could not be found in the restored object: (root).keras_api.metrics.0.count\n"
     ]
    },
    {
     "name": "stderr",
     "output_type": "stream",
     "text": [
      "WARNING:tensorflow:Value in checkpoint could not be found in the restored object: (root).keras_api.metrics.0.count\n"
     ]
    },
    {
     "name": "stdout",
     "output_type": "stream",
     "text": [
      "WARNING:tensorflow:Value in checkpoint could not be found in the restored object: (root).keras_api.metrics.1.total\n"
     ]
    },
    {
     "name": "stderr",
     "output_type": "stream",
     "text": [
      "WARNING:tensorflow:Value in checkpoint could not be found in the restored object: (root).keras_api.metrics.1.total\n"
     ]
    },
    {
     "name": "stdout",
     "output_type": "stream",
     "text": [
      "WARNING:tensorflow:Value in checkpoint could not be found in the restored object: (root).keras_api.metrics.1.count\n"
     ]
    },
    {
     "name": "stderr",
     "output_type": "stream",
     "text": [
      "WARNING:tensorflow:Value in checkpoint could not be found in the restored object: (root).keras_api.metrics.1.count\n"
     ]
    },
    {
     "name": "stdout",
     "output_type": "stream",
     "text": [
      "WARNING:tensorflow:Detecting that an object or model or tf.train.Checkpoint is being deleted with unrestored values. See the following logs for the specific values in question. To silence these warnings, use `status.expect_partial()`. See https://www.tensorflow.org/api_docs/python/tf/train/Checkpoint#restorefor details about the status object returned by the restore function.\n"
     ]
    },
    {
     "name": "stderr",
     "output_type": "stream",
     "text": [
      "WARNING:tensorflow:Detecting that an object or model or tf.train.Checkpoint is being deleted with unrestored values. See the following logs for the specific values in question. To silence these warnings, use `status.expect_partial()`. See https://www.tensorflow.org/api_docs/python/tf/train/Checkpoint#restorefor details about the status object returned by the restore function.\n"
     ]
    },
    {
     "name": "stdout",
     "output_type": "stream",
     "text": [
      "WARNING:tensorflow:Value in checkpoint could not be found in the restored object: (root).keras_api.metrics.0.total\n"
     ]
    },
    {
     "name": "stderr",
     "output_type": "stream",
     "text": [
      "WARNING:tensorflow:Value in checkpoint could not be found in the restored object: (root).keras_api.metrics.0.total\n"
     ]
    },
    {
     "name": "stdout",
     "output_type": "stream",
     "text": [
      "WARNING:tensorflow:Value in checkpoint could not be found in the restored object: (root).keras_api.metrics.0.count\n"
     ]
    },
    {
     "name": "stderr",
     "output_type": "stream",
     "text": [
      "WARNING:tensorflow:Value in checkpoint could not be found in the restored object: (root).keras_api.metrics.0.count\n"
     ]
    },
    {
     "name": "stdout",
     "output_type": "stream",
     "text": [
      "WARNING:tensorflow:Value in checkpoint could not be found in the restored object: (root).keras_api.metrics.1.total\n"
     ]
    },
    {
     "name": "stderr",
     "output_type": "stream",
     "text": [
      "WARNING:tensorflow:Value in checkpoint could not be found in the restored object: (root).keras_api.metrics.1.total\n"
     ]
    },
    {
     "name": "stdout",
     "output_type": "stream",
     "text": [
      "WARNING:tensorflow:Value in checkpoint could not be found in the restored object: (root).keras_api.metrics.1.count\n"
     ]
    },
    {
     "name": "stderr",
     "output_type": "stream",
     "text": [
      "WARNING:tensorflow:Value in checkpoint could not be found in the restored object: (root).keras_api.metrics.1.count\n"
     ]
    },
    {
     "name": "stdout",
     "output_type": "stream",
     "text": [
      "160/160 [==============================] - 2s 3ms/step\n"
     ]
    },
    {
     "name": "stderr",
     "output_type": "stream",
     "text": [
      "WARNING:absl:Found untraced functions such as _update_step_xla while saving (showing 1 of 1). These functions will not be directly callable after loading.\n"
     ]
    },
    {
     "name": "stdout",
     "output_type": "stream",
     "text": [
      "INFO:tensorflow:Assets written to: C:\\Users\\shubh\\AppData\\Local\\Temp\\tmp6d86cc4n\\assets\n"
     ]
    },
    {
     "name": "stderr",
     "output_type": "stream",
     "text": [
      "INFO:tensorflow:Assets written to: C:\\Users\\shubh\\AppData\\Local\\Temp\\tmp6d86cc4n\\assets\n"
     ]
    },
    {
     "name": "stdout",
     "output_type": "stream",
     "text": [
      "Epoch 1/50\n",
      "640/640 [==============================] - 5s 4ms/step - loss: 0.3325 - accuracy: 0.8037\n",
      "Epoch 2/50\n",
      "640/640 [==============================] - 3s 4ms/step - loss: 0.1269 - accuracy: 0.9984\n",
      "Epoch 3/50\n",
      "640/640 [==============================] - 3s 4ms/step - loss: 0.0932 - accuracy: 0.9984\n",
      "Epoch 4/50\n",
      "640/640 [==============================] - 3s 5ms/step - loss: 0.0693 - accuracy: 0.9984\n",
      "Epoch 5/50\n",
      "640/640 [==============================] - 3s 5ms/step - loss: 0.0523 - accuracy: 0.9984\n",
      "Epoch 6/50\n",
      "640/640 [==============================] - 3s 5ms/step - loss: 0.0405 - accuracy: 0.9984\n",
      "Epoch 7/50\n",
      "640/640 [==============================] - 4s 6ms/step - loss: 0.0320 - accuracy: 0.9984\n",
      "Epoch 8/50\n",
      "640/640 [==============================] - 3s 5ms/step - loss: 0.0258 - accuracy: 0.9984\n",
      "Epoch 9/50\n",
      "640/640 [==============================] - 3s 5ms/step - loss: 0.0216 - accuracy: 0.9984\n",
      "Epoch 10/50\n",
      "640/640 [==============================] - 3s 5ms/step - loss: 0.0182 - accuracy: 0.9984\n",
      "Epoch 11/50\n",
      "640/640 [==============================] - 3s 5ms/step - loss: 0.0161 - accuracy: 0.9984\n",
      "Epoch 12/50\n",
      "640/640 [==============================] - 3s 5ms/step - loss: 0.0143 - accuracy: 0.9984\n",
      "Epoch 13/50\n",
      "640/640 [==============================] - 3s 5ms/step - loss: 0.0132 - accuracy: 0.9984\n",
      "Epoch 14/50\n",
      "640/640 [==============================] - 3s 5ms/step - loss: 0.0121 - accuracy: 0.9984\n",
      "Epoch 15/50\n",
      "640/640 [==============================] - 3s 5ms/step - loss: 0.0116 - accuracy: 0.9984\n",
      "Epoch 16/50\n",
      "640/640 [==============================] - 3s 4ms/step - loss: 0.0111 - accuracy: 0.9984\n",
      "Epoch 17/50\n",
      "640/640 [==============================] - 3s 5ms/step - loss: 0.0109 - accuracy: 0.9984\n",
      "Epoch 18/50\n",
      "640/640 [==============================] - 3s 4ms/step - loss: 0.0106 - accuracy: 0.9984\n",
      "Epoch 19/50\n",
      "640/640 [==============================] - 3s 5ms/step - loss: 0.0105 - accuracy: 0.9984\n",
      "Epoch 20/50\n",
      "640/640 [==============================] - 3s 4ms/step - loss: 0.0103 - accuracy: 0.9984\n",
      "Epoch 21/50\n",
      "640/640 [==============================] - 3s 4ms/step - loss: 0.0102 - accuracy: 0.9984\n",
      "Epoch 22/50\n",
      "640/640 [==============================] - 3s 5ms/step - loss: 0.0100 - accuracy: 0.9984\n",
      "Epoch 23/50\n",
      "640/640 [==============================] - 3s 5ms/step - loss: 0.0099 - accuracy: 0.9984\n",
      "Epoch 24/50\n",
      "640/640 [==============================] - 3s 5ms/step - loss: 0.0100 - accuracy: 0.9984\n",
      "Epoch 25/50\n",
      "640/640 [==============================] - 3s 5ms/step - loss: 0.0100 - accuracy: 0.9984\n",
      "Epoch 26/50\n",
      "640/640 [==============================] - 3s 5ms/step - loss: 0.0099 - accuracy: 0.9984\n",
      "Epoch 27/50\n",
      "640/640 [==============================] - 3s 5ms/step - loss: 0.0099 - accuracy: 0.9984\n",
      "Epoch 28/50\n",
      "640/640 [==============================] - 3s 5ms/step - loss: 0.0097 - accuracy: 0.9984\n",
      "Epoch 29/50\n",
      "640/640 [==============================] - 3s 4ms/step - loss: 0.0098 - accuracy: 0.9984\n",
      "Epoch 30/50\n",
      "640/640 [==============================] - 2s 4ms/step - loss: 0.0098 - accuracy: 0.9984\n",
      "Epoch 31/50\n",
      "640/640 [==============================] - 3s 4ms/step - loss: 0.0097 - accuracy: 0.9984\n",
      "Epoch 32/50\n",
      "640/640 [==============================] - 3s 5ms/step - loss: 0.0096 - accuracy: 0.9983\n",
      "Epoch 33/50\n",
      "640/640 [==============================] - 3s 5ms/step - loss: 0.0097 - accuracy: 0.9983\n",
      "Epoch 34/50\n",
      "640/640 [==============================] - 3s 5ms/step - loss: 0.0097 - accuracy: 0.9984\n",
      "Epoch 35/50\n",
      "640/640 [==============================] - 3s 5ms/step - loss: 0.0098 - accuracy: 0.9984\n",
      "Epoch 36/50\n",
      "640/640 [==============================] - 3s 5ms/step - loss: 0.0095 - accuracy: 0.9984\n",
      "Epoch 37/50\n",
      "640/640 [==============================] - 3s 5ms/step - loss: 0.0097 - accuracy: 0.9984\n",
      "Epoch 38/50\n",
      "640/640 [==============================] - 3s 5ms/step - loss: 0.0099 - accuracy: 0.9984\n",
      "Epoch 39/50\n",
      "640/640 [==============================] - 3s 5ms/step - loss: 0.0096 - accuracy: 0.9984\n",
      "Epoch 40/50\n",
      "640/640 [==============================] - 3s 5ms/step - loss: 0.0096 - accuracy: 0.9984\n",
      "Epoch 41/50\n",
      "640/640 [==============================] - 3s 5ms/step - loss: 0.0097 - accuracy: 0.9984\n",
      "Epoch 42/50\n",
      "640/640 [==============================] - 3s 5ms/step - loss: 0.0097 - accuracy: 0.9984\n",
      "Epoch 43/50\n",
      "640/640 [==============================] - 3s 5ms/step - loss: 0.0097 - accuracy: 0.9984\n",
      "Epoch 44/50\n",
      "640/640 [==============================] - 3s 5ms/step - loss: 0.0097 - accuracy: 0.9984\n",
      "Epoch 45/50\n",
      "640/640 [==============================] - 3s 5ms/step - loss: 0.0097 - accuracy: 0.9984\n",
      "Epoch 46/50\n",
      "640/640 [==============================] - 3s 5ms/step - loss: 0.0097 - accuracy: 0.9984\n",
      "Epoch 47/50\n",
      "640/640 [==============================] - 3s 5ms/step - loss: 0.0096 - accuracy: 0.9984\n",
      "Epoch 48/50\n",
      "640/640 [==============================] - 3s 5ms/step - loss: 0.0097 - accuracy: 0.9984\n",
      "Epoch 49/50\n",
      "640/640 [==============================] - 3s 5ms/step - loss: 0.0097 - accuracy: 0.9983\n",
      "Epoch 50/50\n",
      "640/640 [==============================] - 3s 5ms/step - loss: 0.0096 - accuracy: 0.9984\n",
      "160/160 [==============================] - 1s 4ms/step\n"
     ]
    },
    {
     "name": "stderr",
     "output_type": "stream",
     "text": [
      "WARNING:absl:Found untraced functions such as _update_step_xla while saving (showing 1 of 1). These functions will not be directly callable after loading.\n"
     ]
    },
    {
     "name": "stdout",
     "output_type": "stream",
     "text": [
      "INFO:tensorflow:Assets written to: C:\\Users\\shubh\\AppData\\Local\\Temp\\tmpagp9owd2\\assets\n"
     ]
    },
    {
     "name": "stderr",
     "output_type": "stream",
     "text": [
      "INFO:tensorflow:Assets written to: C:\\Users\\shubh\\AppData\\Local\\Temp\\tmpagp9owd2\\assets\n"
     ]
    },
    {
     "name": "stdout",
     "output_type": "stream",
     "text": [
      "Epoch 1/50\n",
      "640/640 [==============================] - 4s 4ms/step - loss: 0.3251 - accuracy: 0.8473\n",
      "Epoch 2/50\n",
      "640/640 [==============================] - 3s 4ms/step - loss: 0.0627 - accuracy: 0.9983\n",
      "Epoch 3/50\n",
      "640/640 [==============================] - 3s 4ms/step - loss: 0.0241 - accuracy: 0.9983\n",
      "Epoch 4/50\n",
      "640/640 [==============================] - 3s 5ms/step - loss: 0.0152 - accuracy: 0.9983\n",
      "Epoch 5/50\n",
      "640/640 [==============================] - 3s 5ms/step - loss: 0.0125 - accuracy: 0.9983\n",
      "Epoch 6/50\n",
      "640/640 [==============================] - 3s 5ms/step - loss: 0.0114 - accuracy: 0.9983\n",
      "Epoch 7/50\n",
      "640/640 [==============================] - 3s 5ms/step - loss: 0.0110 - accuracy: 0.9983\n",
      "Epoch 8/50\n",
      "640/640 [==============================] - 3s 5ms/step - loss: 0.0108 - accuracy: 0.9983\n",
      "Epoch 9/50\n",
      "640/640 [==============================] - 3s 5ms/step - loss: 0.0106 - accuracy: 0.9983\n",
      "Epoch 10/50\n",
      "640/640 [==============================] - 3s 5ms/step - loss: 0.0106 - accuracy: 0.9983\n",
      "Epoch 11/50\n",
      "640/640 [==============================] - 4s 6ms/step - loss: 0.0105 - accuracy: 0.9983\n",
      "Epoch 12/50\n",
      "640/640 [==============================] - 4s 6ms/step - loss: 0.0103 - accuracy: 0.9983\n",
      "Epoch 13/50\n",
      "640/640 [==============================] - 3s 5ms/step - loss: 0.0105 - accuracy: 0.9983\n",
      "Epoch 14/50\n",
      "640/640 [==============================] - 3s 5ms/step - loss: 0.0104 - accuracy: 0.9983\n",
      "Epoch 15/50\n",
      "640/640 [==============================] - 4s 6ms/step - loss: 0.0104 - accuracy: 0.9983\n",
      "Epoch 16/50\n",
      "640/640 [==============================] - 4s 6ms/step - loss: 0.0104 - accuracy: 0.9983\n",
      "Epoch 17/50\n",
      "640/640 [==============================] - 3s 5ms/step - loss: 0.0104 - accuracy: 0.9983\n",
      "Epoch 18/50\n",
      "640/640 [==============================] - 4s 6ms/step - loss: 0.0102 - accuracy: 0.9983\n",
      "Epoch 19/50\n",
      "640/640 [==============================] - 5s 8ms/step - loss: 0.0104 - accuracy: 0.9983\n",
      "Epoch 20/50\n",
      "640/640 [==============================] - 4s 6ms/step - loss: 0.0103 - accuracy: 0.9981\n",
      "Epoch 21/50\n",
      "640/640 [==============================] - 3s 4ms/step - loss: 0.0103 - accuracy: 0.9983\n",
      "Epoch 22/50\n",
      "640/640 [==============================] - 3s 4ms/step - loss: 0.0103 - accuracy: 0.9981\n",
      "Epoch 23/50\n",
      "640/640 [==============================] - 3s 4ms/step - loss: 0.0100 - accuracy: 0.9983\n",
      "Epoch 24/50\n",
      "640/640 [==============================] - 3s 4ms/step - loss: 0.0103 - accuracy: 0.9983\n",
      "Epoch 25/50\n",
      "640/640 [==============================] - 3s 4ms/step - loss: 0.0100 - accuracy: 0.9983\n",
      "Epoch 26/50\n",
      "640/640 [==============================] - 3s 4ms/step - loss: 0.0102 - accuracy: 0.9983\n",
      "Epoch 27/50\n",
      "640/640 [==============================] - 3s 4ms/step - loss: 0.0102 - accuracy: 0.9983\n",
      "Epoch 28/50\n",
      "640/640 [==============================] - 3s 4ms/step - loss: 0.0101 - accuracy: 0.9983\n",
      "Epoch 29/50\n",
      "640/640 [==============================] - 3s 4ms/step - loss: 0.0101 - accuracy: 0.9983\n",
      "Epoch 30/50\n",
      "640/640 [==============================] - 3s 4ms/step - loss: 0.0099 - accuracy: 0.9983\n",
      "Epoch 31/50\n",
      "640/640 [==============================] - 3s 4ms/step - loss: 0.0102 - accuracy: 0.9983\n",
      "Epoch 32/50\n",
      "640/640 [==============================] - 3s 4ms/step - loss: 0.0099 - accuracy: 0.9983\n",
      "Epoch 33/50\n",
      "640/640 [==============================] - 3s 4ms/step - loss: 0.0099 - accuracy: 0.9983\n",
      "Epoch 34/50\n",
      "640/640 [==============================] - 3s 4ms/step - loss: 0.0101 - accuracy: 0.9981\n",
      "Epoch 35/50\n",
      "640/640 [==============================] - 3s 5ms/step - loss: 0.0098 - accuracy: 0.9983\n",
      "Epoch 36/50\n",
      "640/640 [==============================] - 3s 4ms/step - loss: 0.0097 - accuracy: 0.9983\n",
      "Epoch 37/50\n",
      "640/640 [==============================] - 3s 4ms/step - loss: 0.0099 - accuracy: 0.9983\n",
      "Epoch 38/50\n",
      "640/640 [==============================] - 3s 4ms/step - loss: 0.0096 - accuracy: 0.9983\n",
      "Epoch 39/50\n",
      "640/640 [==============================] - 3s 4ms/step - loss: 0.0095 - accuracy: 0.9984\n",
      "Epoch 40/50\n",
      "640/640 [==============================] - 3s 4ms/step - loss: 0.0098 - accuracy: 0.9983\n",
      "Epoch 41/50\n",
      "640/640 [==============================] - 3s 4ms/step - loss: 0.0096 - accuracy: 0.9983\n",
      "Epoch 42/50\n",
      "640/640 [==============================] - 4s 6ms/step - loss: 0.0094 - accuracy: 0.9984\n",
      "Epoch 43/50\n",
      "640/640 [==============================] - 3s 4ms/step - loss: 0.0095 - accuracy: 0.9983\n",
      "Epoch 44/50\n",
      "640/640 [==============================] - 3s 4ms/step - loss: 0.0096 - accuracy: 0.9983\n",
      "Epoch 45/50\n",
      "640/640 [==============================] - 3s 4ms/step - loss: 0.0092 - accuracy: 0.9984\n",
      "Epoch 46/50\n",
      "640/640 [==============================] - 3s 4ms/step - loss: 0.0091 - accuracy: 0.9983\n",
      "Epoch 47/50\n",
      "640/640 [==============================] - 3s 4ms/step - loss: 0.0095 - accuracy: 0.9983\n",
      "Epoch 48/50\n",
      "640/640 [==============================] - 3s 4ms/step - loss: 0.0092 - accuracy: 0.9984\n",
      "Epoch 49/50\n",
      "640/640 [==============================] - 3s 4ms/step - loss: 0.0093 - accuracy: 0.9981\n",
      "Epoch 50/50\n",
      "640/640 [==============================] - 3s 4ms/step - loss: 0.0090 - accuracy: 0.9984\n",
      "160/160 [==============================] - 1s 3ms/step\n"
     ]
    },
    {
     "name": "stderr",
     "output_type": "stream",
     "text": [
      "WARNING:absl:Found untraced functions such as _update_step_xla while saving (showing 1 of 1). These functions will not be directly callable after loading.\n"
     ]
    },
    {
     "name": "stdout",
     "output_type": "stream",
     "text": [
      "INFO:tensorflow:Assets written to: C:\\Users\\shubh\\AppData\\Local\\Temp\\tmpocsstv16\\assets\n"
     ]
    },
    {
     "name": "stderr",
     "output_type": "stream",
     "text": [
      "INFO:tensorflow:Assets written to: C:\\Users\\shubh\\AppData\\Local\\Temp\\tmpocsstv16\\assets\n"
     ]
    },
    {
     "name": "stdout",
     "output_type": "stream",
     "text": [
      "Epoch 1/50\n",
      "640/640 [==============================] - 4s 4ms/step - loss: 0.3344 - accuracy: 0.8042\n",
      "Epoch 2/50\n",
      "640/640 [==============================] - 3s 4ms/step - loss: 0.1265 - accuracy: 0.9980\n",
      "Epoch 3/50\n",
      "640/640 [==============================] - 4s 6ms/step - loss: 0.0930 - accuracy: 0.9984\n",
      "Epoch 4/50\n",
      "640/640 [==============================] - 3s 5ms/step - loss: 0.0689 - accuracy: 0.9984\n",
      "Epoch 5/50\n",
      "640/640 [==============================] - 3s 5ms/step - loss: 0.0520 - accuracy: 0.9984\n",
      "Epoch 6/50\n",
      "640/640 [==============================] - 4s 6ms/step - loss: 0.0401 - accuracy: 0.9984\n",
      "Epoch 7/50\n",
      "640/640 [==============================] - 3s 5ms/step - loss: 0.0315 - accuracy: 0.9984\n",
      "Epoch 8/50\n",
      "640/640 [==============================] - 3s 5ms/step - loss: 0.0253 - accuracy: 0.9984\n",
      "Epoch 9/50\n",
      "640/640 [==============================] - 3s 4ms/step - loss: 0.0212 - accuracy: 0.9984\n",
      "Epoch 10/50\n",
      "640/640 [==============================] - 3s 4ms/step - loss: 0.0180 - accuracy: 0.9984\n",
      "Epoch 11/50\n",
      "640/640 [==============================] - 2s 4ms/step - loss: 0.0157 - accuracy: 0.9984\n",
      "Epoch 12/50\n",
      "640/640 [==============================] - 3s 4ms/step - loss: 0.0141 - accuracy: 0.9984\n",
      "Epoch 13/50\n",
      "640/640 [==============================] - 3s 4ms/step - loss: 0.0129 - accuracy: 0.9984\n",
      "Epoch 14/50\n",
      "640/640 [==============================] - 3s 5ms/step - loss: 0.0121 - accuracy: 0.9984\n",
      "Epoch 15/50\n",
      "640/640 [==============================] - 3s 4ms/step - loss: 0.0115 - accuracy: 0.9984\n",
      "Epoch 16/50\n",
      "640/640 [==============================] - 3s 4ms/step - loss: 0.0109 - accuracy: 0.9984\n",
      "Epoch 17/50\n",
      "640/640 [==============================] - 3s 5ms/step - loss: 0.0108 - accuracy: 0.9984\n",
      "Epoch 18/50\n",
      "640/640 [==============================] - 3s 4ms/step - loss: 0.0104 - accuracy: 0.9984\n",
      "Epoch 19/50\n",
      "640/640 [==============================] - 3s 5ms/step - loss: 0.0104 - accuracy: 0.9984\n",
      "Epoch 20/50\n",
      "640/640 [==============================] - 3s 5ms/step - loss: 0.0100 - accuracy: 0.9984\n",
      "Epoch 21/50\n",
      "640/640 [==============================] - 3s 5ms/step - loss: 0.0101 - accuracy: 0.9984\n",
      "Epoch 22/50\n",
      "640/640 [==============================] - 3s 5ms/step - loss: 0.0098 - accuracy: 0.9984\n",
      "Epoch 23/50\n",
      "640/640 [==============================] - 3s 4ms/step - loss: 0.0100 - accuracy: 0.9984\n",
      "Epoch 24/50\n",
      "640/640 [==============================] - 3s 5ms/step - loss: 0.0098 - accuracy: 0.9984\n",
      "Epoch 25/50\n",
      "640/640 [==============================] - 3s 4ms/step - loss: 0.0098 - accuracy: 0.9984\n",
      "Epoch 26/50\n",
      "640/640 [==============================] - 3s 4ms/step - loss: 0.0098 - accuracy: 0.9984\n",
      "Epoch 27/50\n",
      "640/640 [==============================] - 3s 4ms/step - loss: 0.0097 - accuracy: 0.9984\n",
      "Epoch 28/50\n",
      "640/640 [==============================] - 3s 4ms/step - loss: 0.0097 - accuracy: 0.9984\n",
      "Epoch 29/50\n",
      "640/640 [==============================] - 3s 4ms/step - loss: 0.0097 - accuracy: 0.9984\n",
      "Epoch 30/50\n",
      "640/640 [==============================] - 3s 5ms/step - loss: 0.0097 - accuracy: 0.9984\n",
      "Epoch 31/50\n",
      "640/640 [==============================] - 3s 4ms/step - loss: 0.0097 - accuracy: 0.9984\n",
      "Epoch 32/50\n",
      "640/640 [==============================] - 3s 4ms/step - loss: 0.0097 - accuracy: 0.9984\n",
      "Epoch 33/50\n",
      "640/640 [==============================] - 3s 4ms/step - loss: 0.0097 - accuracy: 0.9984\n",
      "Epoch 34/50\n",
      "640/640 [==============================] - 3s 4ms/step - loss: 0.0096 - accuracy: 0.9984\n",
      "Epoch 35/50\n",
      "640/640 [==============================] - 3s 4ms/step - loss: 0.0097 - accuracy: 0.9984\n",
      "Epoch 36/50\n",
      "640/640 [==============================] - 3s 4ms/step - loss: 0.0096 - accuracy: 0.9984\n",
      "Epoch 37/50\n",
      "640/640 [==============================] - 3s 4ms/step - loss: 0.0096 - accuracy: 0.9984\n",
      "Epoch 38/50\n",
      "640/640 [==============================] - 3s 4ms/step - loss: 0.0097 - accuracy: 0.9984\n",
      "Epoch 39/50\n",
      "640/640 [==============================] - 3s 4ms/step - loss: 0.0096 - accuracy: 0.9984\n",
      "Epoch 40/50\n",
      "640/640 [==============================] - 3s 4ms/step - loss: 0.0096 - accuracy: 0.9984\n",
      "Epoch 41/50\n",
      "640/640 [==============================] - 3s 4ms/step - loss: 0.0096 - accuracy: 0.9984\n",
      "Epoch 42/50\n",
      "640/640 [==============================] - 3s 5ms/step - loss: 0.0095 - accuracy: 0.9984\n",
      "Epoch 43/50\n",
      "640/640 [==============================] - 3s 4ms/step - loss: 0.0096 - accuracy: 0.9984\n",
      "Epoch 44/50\n",
      "640/640 [==============================] - 3s 4ms/step - loss: 0.0097 - accuracy: 0.9984\n",
      "Epoch 45/50\n",
      "640/640 [==============================] - 3s 4ms/step - loss: 0.0096 - accuracy: 0.9984\n",
      "Epoch 46/50\n",
      "640/640 [==============================] - 3s 4ms/step - loss: 0.0096 - accuracy: 0.9984\n",
      "Epoch 47/50\n",
      "640/640 [==============================] - 4s 7ms/step - loss: 0.0096 - accuracy: 0.9984\n",
      "Epoch 48/50\n",
      "640/640 [==============================] - 4s 6ms/step - loss: 0.0096 - accuracy: 0.9984\n",
      "Epoch 49/50\n",
      "640/640 [==============================] - 3s 5ms/step - loss: 0.0096 - accuracy: 0.9984\n",
      "Epoch 50/50\n",
      "640/640 [==============================] - 3s 5ms/step - loss: 0.0096 - accuracy: 0.9984\n",
      "160/160 [==============================] - 1s 5ms/step\n"
     ]
    },
    {
     "name": "stderr",
     "output_type": "stream",
     "text": [
      "WARNING:absl:Found untraced functions such as _update_step_xla while saving (showing 1 of 1). These functions will not be directly callable after loading.\n"
     ]
    },
    {
     "name": "stdout",
     "output_type": "stream",
     "text": [
      "INFO:tensorflow:Assets written to: C:\\Users\\shubh\\AppData\\Local\\Temp\\tmpfkphm0ut\\assets\n"
     ]
    },
    {
     "name": "stderr",
     "output_type": "stream",
     "text": [
      "INFO:tensorflow:Assets written to: C:\\Users\\shubh\\AppData\\Local\\Temp\\tmpfkphm0ut\\assets\n"
     ]
    },
    {
     "name": "stdout",
     "output_type": "stream",
     "text": [
      "Epoch 1/50\n",
      "640/640 [==============================] - 5s 5ms/step - loss: 0.3340 - accuracy: 0.8058\n",
      "Epoch 2/50\n",
      "640/640 [==============================] - 3s 5ms/step - loss: 0.1275 - accuracy: 0.9977\n",
      "Epoch 3/50\n",
      "640/640 [==============================] - 3s 5ms/step - loss: 0.0939 - accuracy: 0.9980\n",
      "Epoch 4/50\n",
      "640/640 [==============================] - 4s 6ms/step - loss: 0.0702 - accuracy: 0.9980\n",
      "Epoch 5/50\n",
      "640/640 [==============================] - 4s 6ms/step - loss: 0.0533 - accuracy: 0.9980\n",
      "Epoch 6/50\n",
      "640/640 [==============================] - 4s 5ms/step - loss: 0.0416 - accuracy: 0.9980\n",
      "Epoch 7/50\n",
      "640/640 [==============================] - 3s 4ms/step - loss: 0.0332 - accuracy: 0.9980\n",
      "Epoch 8/50\n",
      "640/640 [==============================] - 3s 5ms/step - loss: 0.0272 - accuracy: 0.9980\n",
      "Epoch 9/50\n",
      "640/640 [==============================] - 3s 4ms/step - loss: 0.0229 - accuracy: 0.9980\n",
      "Epoch 10/50\n",
      "640/640 [==============================] - 3s 5ms/step - loss: 0.0200 - accuracy: 0.9980\n",
      "Epoch 11/50\n",
      "640/640 [==============================] - 3s 5ms/step - loss: 0.0177 - accuracy: 0.9980\n",
      "Epoch 12/50\n",
      "640/640 [==============================] - 3s 5ms/step - loss: 0.0161 - accuracy: 0.9980\n",
      "Epoch 13/50\n",
      "640/640 [==============================] - 3s 5ms/step - loss: 0.0151 - accuracy: 0.9980\n",
      "Epoch 14/50\n",
      "640/640 [==============================] - 3s 5ms/step - loss: 0.0141 - accuracy: 0.9980\n",
      "Epoch 15/50\n",
      "640/640 [==============================] - 3s 5ms/step - loss: 0.0137 - accuracy: 0.9980\n",
      "Epoch 16/50\n",
      "640/640 [==============================] - 3s 4ms/step - loss: 0.0133 - accuracy: 0.9980\n",
      "Epoch 17/50\n",
      "640/640 [==============================] - 3s 4ms/step - loss: 0.0129 - accuracy: 0.9980\n",
      "Epoch 18/50\n",
      "640/640 [==============================] - 3s 4ms/step - loss: 0.0129 - accuracy: 0.9980\n",
      "Epoch 19/50\n",
      "640/640 [==============================] - 3s 4ms/step - loss: 0.0127 - accuracy: 0.9980\n",
      "Epoch 20/50\n",
      "640/640 [==============================] - 3s 4ms/step - loss: 0.0124 - accuracy: 0.9980\n",
      "Epoch 21/50\n",
      "640/640 [==============================] - 3s 4ms/step - loss: 0.0124 - accuracy: 0.9980\n",
      "Epoch 22/50\n",
      "640/640 [==============================] - 3s 4ms/step - loss: 0.0124 - accuracy: 0.9980\n",
      "Epoch 23/50\n",
      "640/640 [==============================] - 3s 4ms/step - loss: 0.0123 - accuracy: 0.9980\n",
      "Epoch 24/50\n",
      "640/640 [==============================] - 3s 4ms/step - loss: 0.0123 - accuracy: 0.9978\n",
      "Epoch 25/50\n",
      "640/640 [==============================] - 3s 4ms/step - loss: 0.0121 - accuracy: 0.9980\n",
      "Epoch 26/50\n",
      "640/640 [==============================] - 3s 4ms/step - loss: 0.0122 - accuracy: 0.9978\n",
      "Epoch 27/50\n",
      "640/640 [==============================] - 3s 4ms/step - loss: 0.0122 - accuracy: 0.9980\n",
      "Epoch 28/50\n",
      "640/640 [==============================] - 3s 4ms/step - loss: 0.0118 - accuracy: 0.9980\n",
      "Epoch 29/50\n",
      "640/640 [==============================] - 3s 4ms/step - loss: 0.0121 - accuracy: 0.9980\n",
      "Epoch 30/50\n",
      "640/640 [==============================] - 3s 4ms/step - loss: 0.0121 - accuracy: 0.9980\n",
      "Epoch 31/50\n",
      "640/640 [==============================] - 3s 4ms/step - loss: 0.0121 - accuracy: 0.9980\n",
      "Epoch 32/50\n",
      "640/640 [==============================] - 4s 6ms/step - loss: 0.0121 - accuracy: 0.9978\n",
      "Epoch 33/50\n",
      "640/640 [==============================] - 4s 6ms/step - loss: 0.0120 - accuracy: 0.9980\n",
      "Epoch 34/50\n",
      "640/640 [==============================] - 3s 5ms/step - loss: 0.0120 - accuracy: 0.9980\n",
      "Epoch 35/50\n",
      "640/640 [==============================] - 4s 6ms/step - loss: 0.0120 - accuracy: 0.9980\n",
      "Epoch 36/50\n",
      "640/640 [==============================] - 3s 4ms/step - loss: 0.0119 - accuracy: 0.9978\n",
      "Epoch 37/50\n",
      "640/640 [==============================] - 3s 4ms/step - loss: 0.0121 - accuracy: 0.9980\n",
      "Epoch 38/50\n",
      "640/640 [==============================] - 3s 4ms/step - loss: 0.0119 - accuracy: 0.9980\n",
      "Epoch 39/50\n",
      "640/640 [==============================] - 3s 4ms/step - loss: 0.0119 - accuracy: 0.9980\n",
      "Epoch 40/50\n",
      "640/640 [==============================] - 3s 4ms/step - loss: 0.0120 - accuracy: 0.9980\n",
      "Epoch 41/50\n",
      "640/640 [==============================] - 3s 4ms/step - loss: 0.0118 - accuracy: 0.9980\n",
      "Epoch 42/50\n",
      "640/640 [==============================] - 3s 4ms/step - loss: 0.0120 - accuracy: 0.9980\n",
      "Epoch 43/50\n",
      "640/640 [==============================] - 3s 4ms/step - loss: 0.0119 - accuracy: 0.9980\n",
      "Epoch 44/50\n",
      "640/640 [==============================] - 3s 4ms/step - loss: 0.0118 - accuracy: 0.9980\n",
      "Epoch 45/50\n",
      "640/640 [==============================] - 3s 4ms/step - loss: 0.0120 - accuracy: 0.9980\n",
      "Epoch 46/50\n",
      "640/640 [==============================] - 3s 4ms/step - loss: 0.0118 - accuracy: 0.9980\n",
      "Epoch 47/50\n",
      "640/640 [==============================] - 3s 4ms/step - loss: 0.0119 - accuracy: 0.9980\n",
      "Epoch 48/50\n",
      "640/640 [==============================] - 3s 5ms/step - loss: 0.0118 - accuracy: 0.9980\n",
      "Epoch 49/50\n",
      "640/640 [==============================] - 3s 4ms/step - loss: 0.0119 - accuracy: 0.9980\n",
      "Epoch 50/50\n",
      "640/640 [==============================] - 3s 4ms/step - loss: 0.0118 - accuracy: 0.9980\n",
      "160/160 [==============================] - 1s 3ms/step\n"
     ]
    },
    {
     "name": "stderr",
     "output_type": "stream",
     "text": [
      "WARNING:absl:Found untraced functions such as _update_step_xla while saving (showing 1 of 1). These functions will not be directly callable after loading.\n"
     ]
    },
    {
     "name": "stdout",
     "output_type": "stream",
     "text": [
      "INFO:tensorflow:Assets written to: C:\\Users\\shubh\\AppData\\Local\\Temp\\tmpv4pwibxe\\assets\n"
     ]
    },
    {
     "name": "stderr",
     "output_type": "stream",
     "text": [
      "INFO:tensorflow:Assets written to: C:\\Users\\shubh\\AppData\\Local\\Temp\\tmpv4pwibxe\\assets\n"
     ]
    },
    {
     "name": "stdout",
     "output_type": "stream",
     "text": [
      "WARNING:tensorflow:Detecting that an object or model or tf.train.Checkpoint is being deleted with unrestored values. See the following logs for the specific values in question. To silence these warnings, use `status.expect_partial()`. See https://www.tensorflow.org/api_docs/python/tf/train/Checkpoint#restorefor details about the status object returned by the restore function.\n"
     ]
    },
    {
     "name": "stderr",
     "output_type": "stream",
     "text": [
      "WARNING:tensorflow:Detecting that an object or model or tf.train.Checkpoint is being deleted with unrestored values. See the following logs for the specific values in question. To silence these warnings, use `status.expect_partial()`. See https://www.tensorflow.org/api_docs/python/tf/train/Checkpoint#restorefor details about the status object returned by the restore function.\n"
     ]
    },
    {
     "name": "stdout",
     "output_type": "stream",
     "text": [
      "WARNING:tensorflow:Value in checkpoint could not be found in the restored object: (root).keras_api.metrics.0.total\n"
     ]
    },
    {
     "name": "stderr",
     "output_type": "stream",
     "text": [
      "WARNING:tensorflow:Value in checkpoint could not be found in the restored object: (root).keras_api.metrics.0.total\n"
     ]
    },
    {
     "name": "stdout",
     "output_type": "stream",
     "text": [
      "WARNING:tensorflow:Value in checkpoint could not be found in the restored object: (root).keras_api.metrics.0.count\n"
     ]
    },
    {
     "name": "stderr",
     "output_type": "stream",
     "text": [
      "WARNING:tensorflow:Value in checkpoint could not be found in the restored object: (root).keras_api.metrics.0.count\n"
     ]
    },
    {
     "name": "stdout",
     "output_type": "stream",
     "text": [
      "WARNING:tensorflow:Value in checkpoint could not be found in the restored object: (root).keras_api.metrics.1.total\n"
     ]
    },
    {
     "name": "stderr",
     "output_type": "stream",
     "text": [
      "WARNING:tensorflow:Value in checkpoint could not be found in the restored object: (root).keras_api.metrics.1.total\n"
     ]
    },
    {
     "name": "stdout",
     "output_type": "stream",
     "text": [
      "WARNING:tensorflow:Value in checkpoint could not be found in the restored object: (root).keras_api.metrics.1.count\n"
     ]
    },
    {
     "name": "stderr",
     "output_type": "stream",
     "text": [
      "WARNING:tensorflow:Value in checkpoint could not be found in the restored object: (root).keras_api.metrics.1.count\n"
     ]
    },
    {
     "name": "stdout",
     "output_type": "stream",
     "text": [
      "WARNING:tensorflow:Detecting that an object or model or tf.train.Checkpoint is being deleted with unrestored values. See the following logs for the specific values in question. To silence these warnings, use `status.expect_partial()`. See https://www.tensorflow.org/api_docs/python/tf/train/Checkpoint#restorefor details about the status object returned by the restore function.\n"
     ]
    },
    {
     "name": "stderr",
     "output_type": "stream",
     "text": [
      "WARNING:tensorflow:Detecting that an object or model or tf.train.Checkpoint is being deleted with unrestored values. See the following logs for the specific values in question. To silence these warnings, use `status.expect_partial()`. See https://www.tensorflow.org/api_docs/python/tf/train/Checkpoint#restorefor details about the status object returned by the restore function.\n"
     ]
    },
    {
     "name": "stdout",
     "output_type": "stream",
     "text": [
      "WARNING:tensorflow:Value in checkpoint could not be found in the restored object: (root).keras_api.metrics.0.total\n"
     ]
    },
    {
     "name": "stderr",
     "output_type": "stream",
     "text": [
      "WARNING:tensorflow:Value in checkpoint could not be found in the restored object: (root).keras_api.metrics.0.total\n"
     ]
    },
    {
     "name": "stdout",
     "output_type": "stream",
     "text": [
      "WARNING:tensorflow:Value in checkpoint could not be found in the restored object: (root).keras_api.metrics.0.count\n"
     ]
    },
    {
     "name": "stderr",
     "output_type": "stream",
     "text": [
      "WARNING:tensorflow:Value in checkpoint could not be found in the restored object: (root).keras_api.metrics.0.count\n"
     ]
    },
    {
     "name": "stdout",
     "output_type": "stream",
     "text": [
      "WARNING:tensorflow:Value in checkpoint could not be found in the restored object: (root).keras_api.metrics.1.total\n"
     ]
    },
    {
     "name": "stderr",
     "output_type": "stream",
     "text": [
      "WARNING:tensorflow:Value in checkpoint could not be found in the restored object: (root).keras_api.metrics.1.total\n"
     ]
    },
    {
     "name": "stdout",
     "output_type": "stream",
     "text": [
      "WARNING:tensorflow:Value in checkpoint could not be found in the restored object: (root).keras_api.metrics.1.count\n"
     ]
    },
    {
     "name": "stderr",
     "output_type": "stream",
     "text": [
      "WARNING:tensorflow:Value in checkpoint could not be found in the restored object: (root).keras_api.metrics.1.count\n"
     ]
    },
    {
     "name": "stdout",
     "output_type": "stream",
     "text": [
      "WARNING:tensorflow:Detecting that an object or model or tf.train.Checkpoint is being deleted with unrestored values. See the following logs for the specific values in question. To silence these warnings, use `status.expect_partial()`. See https://www.tensorflow.org/api_docs/python/tf/train/Checkpoint#restorefor details about the status object returned by the restore function.\n"
     ]
    },
    {
     "name": "stderr",
     "output_type": "stream",
     "text": [
      "WARNING:tensorflow:Detecting that an object or model or tf.train.Checkpoint is being deleted with unrestored values. See the following logs for the specific values in question. To silence these warnings, use `status.expect_partial()`. See https://www.tensorflow.org/api_docs/python/tf/train/Checkpoint#restorefor details about the status object returned by the restore function.\n"
     ]
    },
    {
     "name": "stdout",
     "output_type": "stream",
     "text": [
      "WARNING:tensorflow:Value in checkpoint could not be found in the restored object: (root).keras_api.metrics.0.total\n"
     ]
    },
    {
     "name": "stderr",
     "output_type": "stream",
     "text": [
      "WARNING:tensorflow:Value in checkpoint could not be found in the restored object: (root).keras_api.metrics.0.total\n"
     ]
    },
    {
     "name": "stdout",
     "output_type": "stream",
     "text": [
      "WARNING:tensorflow:Value in checkpoint could not be found in the restored object: (root).keras_api.metrics.0.count\n"
     ]
    },
    {
     "name": "stderr",
     "output_type": "stream",
     "text": [
      "WARNING:tensorflow:Value in checkpoint could not be found in the restored object: (root).keras_api.metrics.0.count\n"
     ]
    },
    {
     "name": "stdout",
     "output_type": "stream",
     "text": [
      "WARNING:tensorflow:Value in checkpoint could not be found in the restored object: (root).keras_api.metrics.1.total\n"
     ]
    },
    {
     "name": "stderr",
     "output_type": "stream",
     "text": [
      "WARNING:tensorflow:Value in checkpoint could not be found in the restored object: (root).keras_api.metrics.1.total\n"
     ]
    },
    {
     "name": "stdout",
     "output_type": "stream",
     "text": [
      "WARNING:tensorflow:Value in checkpoint could not be found in the restored object: (root).keras_api.metrics.1.count\n"
     ]
    },
    {
     "name": "stderr",
     "output_type": "stream",
     "text": [
      "WARNING:tensorflow:Value in checkpoint could not be found in the restored object: (root).keras_api.metrics.1.count\n"
     ]
    },
    {
     "name": "stdout",
     "output_type": "stream",
     "text": [
      "WARNING:tensorflow:Detecting that an object or model or tf.train.Checkpoint is being deleted with unrestored values. See the following logs for the specific values in question. To silence these warnings, use `status.expect_partial()`. See https://www.tensorflow.org/api_docs/python/tf/train/Checkpoint#restorefor details about the status object returned by the restore function.\n"
     ]
    },
    {
     "name": "stderr",
     "output_type": "stream",
     "text": [
      "WARNING:tensorflow:Detecting that an object or model or tf.train.Checkpoint is being deleted with unrestored values. See the following logs for the specific values in question. To silence these warnings, use `status.expect_partial()`. See https://www.tensorflow.org/api_docs/python/tf/train/Checkpoint#restorefor details about the status object returned by the restore function.\n"
     ]
    },
    {
     "name": "stdout",
     "output_type": "stream",
     "text": [
      "WARNING:tensorflow:Value in checkpoint could not be found in the restored object: (root).keras_api.metrics.0.total\n"
     ]
    },
    {
     "name": "stderr",
     "output_type": "stream",
     "text": [
      "WARNING:tensorflow:Value in checkpoint could not be found in the restored object: (root).keras_api.metrics.0.total\n"
     ]
    },
    {
     "name": "stdout",
     "output_type": "stream",
     "text": [
      "WARNING:tensorflow:Value in checkpoint could not be found in the restored object: (root).keras_api.metrics.0.count\n"
     ]
    },
    {
     "name": "stderr",
     "output_type": "stream",
     "text": [
      "WARNING:tensorflow:Value in checkpoint could not be found in the restored object: (root).keras_api.metrics.0.count\n"
     ]
    },
    {
     "name": "stdout",
     "output_type": "stream",
     "text": [
      "WARNING:tensorflow:Value in checkpoint could not be found in the restored object: (root).keras_api.metrics.1.total\n"
     ]
    },
    {
     "name": "stderr",
     "output_type": "stream",
     "text": [
      "WARNING:tensorflow:Value in checkpoint could not be found in the restored object: (root).keras_api.metrics.1.total\n"
     ]
    },
    {
     "name": "stdout",
     "output_type": "stream",
     "text": [
      "WARNING:tensorflow:Value in checkpoint could not be found in the restored object: (root).keras_api.metrics.1.count\n"
     ]
    },
    {
     "name": "stderr",
     "output_type": "stream",
     "text": [
      "WARNING:tensorflow:Value in checkpoint could not be found in the restored object: (root).keras_api.metrics.1.count\n"
     ]
    },
    {
     "name": "stdout",
     "output_type": "stream",
     "text": [
      "WARNING:tensorflow:Detecting that an object or model or tf.train.Checkpoint is being deleted with unrestored values. See the following logs for the specific values in question. To silence these warnings, use `status.expect_partial()`. See https://www.tensorflow.org/api_docs/python/tf/train/Checkpoint#restorefor details about the status object returned by the restore function.\n"
     ]
    },
    {
     "name": "stderr",
     "output_type": "stream",
     "text": [
      "WARNING:tensorflow:Detecting that an object or model or tf.train.Checkpoint is being deleted with unrestored values. See the following logs for the specific values in question. To silence these warnings, use `status.expect_partial()`. See https://www.tensorflow.org/api_docs/python/tf/train/Checkpoint#restorefor details about the status object returned by the restore function.\n"
     ]
    },
    {
     "name": "stdout",
     "output_type": "stream",
     "text": [
      "WARNING:tensorflow:Value in checkpoint could not be found in the restored object: (root).keras_api.metrics.0.total\n"
     ]
    },
    {
     "name": "stderr",
     "output_type": "stream",
     "text": [
      "WARNING:tensorflow:Value in checkpoint could not be found in the restored object: (root).keras_api.metrics.0.total\n"
     ]
    },
    {
     "name": "stdout",
     "output_type": "stream",
     "text": [
      "WARNING:tensorflow:Value in checkpoint could not be found in the restored object: (root).keras_api.metrics.0.count\n"
     ]
    },
    {
     "name": "stderr",
     "output_type": "stream",
     "text": [
      "WARNING:tensorflow:Value in checkpoint could not be found in the restored object: (root).keras_api.metrics.0.count\n"
     ]
    },
    {
     "name": "stdout",
     "output_type": "stream",
     "text": [
      "WARNING:tensorflow:Value in checkpoint could not be found in the restored object: (root).keras_api.metrics.1.total\n"
     ]
    },
    {
     "name": "stderr",
     "output_type": "stream",
     "text": [
      "WARNING:tensorflow:Value in checkpoint could not be found in the restored object: (root).keras_api.metrics.1.total\n"
     ]
    },
    {
     "name": "stdout",
     "output_type": "stream",
     "text": [
      "WARNING:tensorflow:Value in checkpoint could not be found in the restored object: (root).keras_api.metrics.1.count\n"
     ]
    },
    {
     "name": "stderr",
     "output_type": "stream",
     "text": [
      "WARNING:tensorflow:Value in checkpoint could not be found in the restored object: (root).keras_api.metrics.1.count\n"
     ]
    },
    {
     "name": "stdout",
     "output_type": "stream",
     "text": [
      "Epoch 1/100\n",
      "640/640 [==============================] - 4s 4ms/step - loss: 0.3329 - accuracy: 0.8050\n",
      "Epoch 2/100\n",
      "640/640 [==============================] - 3s 4ms/step - loss: 0.1250 - accuracy: 0.9984\n",
      "Epoch 3/100\n",
      "640/640 [==============================] - 3s 4ms/step - loss: 0.0911 - accuracy: 0.9987\n",
      "Epoch 4/100\n",
      "640/640 [==============================] - 3s 4ms/step - loss: 0.0669 - accuracy: 0.9987\n",
      "Epoch 5/100\n",
      "640/640 [==============================] - 3s 4ms/step - loss: 0.0499 - accuracy: 0.9987\n",
      "Epoch 6/100\n",
      "640/640 [==============================] - 3s 4ms/step - loss: 0.0379 - accuracy: 0.9987\n",
      "Epoch 7/100\n",
      "640/640 [==============================] - 3s 4ms/step - loss: 0.0293 - accuracy: 0.9987\n",
      "Epoch 8/100\n",
      "640/640 [==============================] - 3s 4ms/step - loss: 0.0232 - accuracy: 0.9987\n",
      "Epoch 9/100\n",
      "640/640 [==============================] - 3s 4ms/step - loss: 0.0188 - accuracy: 0.9987\n",
      "Epoch 10/100\n",
      "640/640 [==============================] - 3s 4ms/step - loss: 0.0155 - accuracy: 0.9987\n",
      "Epoch 11/100\n",
      "640/640 [==============================] - 3s 4ms/step - loss: 0.0131 - accuracy: 0.9987\n",
      "Epoch 12/100\n",
      "640/640 [==============================] - 3s 4ms/step - loss: 0.0113 - accuracy: 0.9989\n",
      "Epoch 13/100\n",
      "640/640 [==============================] - 3s 4ms/step - loss: 0.0105 - accuracy: 0.9986\n",
      "Epoch 14/100\n",
      "640/640 [==============================] - 3s 4ms/step - loss: 0.0094 - accuracy: 0.9987\n",
      "Epoch 15/100\n",
      "640/640 [==============================] - 3s 4ms/step - loss: 0.0087 - accuracy: 0.9989\n",
      "Epoch 16/100\n",
      "640/640 [==============================] - 3s 4ms/step - loss: 0.0083 - accuracy: 0.9989\n",
      "Epoch 17/100\n",
      "640/640 [==============================] - 3s 4ms/step - loss: 0.0080 - accuracy: 0.9989\n",
      "Epoch 18/100\n",
      "640/640 [==============================] - 3s 4ms/step - loss: 0.0076 - accuracy: 0.9989\n",
      "Epoch 19/100\n",
      "640/640 [==============================] - 3s 4ms/step - loss: 0.0075 - accuracy: 0.9989\n",
      "Epoch 20/100\n",
      "640/640 [==============================] - 3s 4ms/step - loss: 0.0073 - accuracy: 0.9989\n",
      "Epoch 21/100\n",
      "640/640 [==============================] - 3s 4ms/step - loss: 0.0072 - accuracy: 0.9989\n",
      "Epoch 22/100\n",
      "640/640 [==============================] - 3s 4ms/step - loss: 0.0072 - accuracy: 0.9989\n",
      "Epoch 23/100\n",
      "640/640 [==============================] - 3s 4ms/step - loss: 0.0071 - accuracy: 0.9989\n",
      "Epoch 24/100\n",
      "640/640 [==============================] - 3s 4ms/step - loss: 0.0071 - accuracy: 0.9989\n",
      "Epoch 25/100\n",
      "640/640 [==============================] - 3s 4ms/step - loss: 0.0071 - accuracy: 0.9987\n",
      "Epoch 26/100\n",
      "640/640 [==============================] - 3s 4ms/step - loss: 0.0071 - accuracy: 0.9989\n",
      "Epoch 27/100\n",
      "640/640 [==============================] - 3s 4ms/step - loss: 0.0069 - accuracy: 0.9989\n",
      "Epoch 28/100\n",
      "640/640 [==============================] - 3s 4ms/step - loss: 0.0069 - accuracy: 0.9989\n",
      "Epoch 29/100\n",
      "640/640 [==============================] - 3s 4ms/step - loss: 0.0069 - accuracy: 0.9989\n",
      "Epoch 30/100\n",
      "640/640 [==============================] - 3s 4ms/step - loss: 0.0069 - accuracy: 0.9989\n",
      "Epoch 31/100\n",
      "640/640 [==============================] - 3s 4ms/step - loss: 0.0069 - accuracy: 0.9989\n",
      "Epoch 32/100\n",
      "640/640 [==============================] - 3s 4ms/step - loss: 0.0069 - accuracy: 0.9989\n",
      "Epoch 33/100\n",
      "640/640 [==============================] - 3s 4ms/step - loss: 0.0069 - accuracy: 0.9989\n",
      "Epoch 34/100\n",
      "640/640 [==============================] - 3s 5ms/step - loss: 0.0069 - accuracy: 0.9989\n",
      "Epoch 35/100\n",
      "640/640 [==============================] - 3s 4ms/step - loss: 0.0068 - accuracy: 0.9989\n",
      "Epoch 36/100\n",
      "640/640 [==============================] - 3s 4ms/step - loss: 0.0068 - accuracy: 0.9989\n",
      "Epoch 37/100\n",
      "640/640 [==============================] - 3s 5ms/step - loss: 0.0068 - accuracy: 0.9989\n",
      "Epoch 38/100\n",
      "640/640 [==============================] - 3s 4ms/step - loss: 0.0068 - accuracy: 0.9989\n",
      "Epoch 39/100\n",
      "640/640 [==============================] - 3s 4ms/step - loss: 0.0069 - accuracy: 0.9989\n",
      "Epoch 40/100\n",
      "640/640 [==============================] - 3s 4ms/step - loss: 0.0074 - accuracy: 0.9987\n",
      "Epoch 41/100\n",
      "640/640 [==============================] - 3s 4ms/step - loss: 0.0068 - accuracy: 0.9989\n",
      "Epoch 42/100\n",
      "640/640 [==============================] - 3s 4ms/step - loss: 0.0068 - accuracy: 0.9989\n",
      "Epoch 43/100\n",
      "640/640 [==============================] - 3s 4ms/step - loss: 0.0068 - accuracy: 0.9989\n",
      "Epoch 44/100\n",
      "640/640 [==============================] - 3s 4ms/step - loss: 0.0068 - accuracy: 0.9989\n",
      "Epoch 45/100\n",
      "640/640 [==============================] - 3s 4ms/step - loss: 0.0068 - accuracy: 0.9989\n",
      "Epoch 46/100\n",
      "640/640 [==============================] - 3s 4ms/step - loss: 0.0068 - accuracy: 0.9989\n",
      "Epoch 47/100\n",
      "640/640 [==============================] - 3s 4ms/step - loss: 0.0068 - accuracy: 0.9989\n",
      "Epoch 48/100\n",
      "640/640 [==============================] - 3s 4ms/step - loss: 0.0068 - accuracy: 0.9989\n",
      "Epoch 49/100\n",
      "640/640 [==============================] - 3s 4ms/step - loss: 0.0068 - accuracy: 0.9989\n",
      "Epoch 50/100\n",
      "640/640 [==============================] - 3s 4ms/step - loss: 0.0068 - accuracy: 0.9989\n",
      "Epoch 51/100\n",
      "640/640 [==============================] - 3s 4ms/step - loss: 0.0068 - accuracy: 0.9989\n",
      "Epoch 52/100\n",
      "640/640 [==============================] - 3s 5ms/step - loss: 0.0068 - accuracy: 0.9989\n",
      "Epoch 53/100\n",
      "640/640 [==============================] - 3s 4ms/step - loss: 0.0068 - accuracy: 0.9989\n",
      "Epoch 54/100\n",
      "640/640 [==============================] - 3s 4ms/step - loss: 0.0068 - accuracy: 0.9989\n",
      "Epoch 55/100\n",
      "640/640 [==============================] - 3s 4ms/step - loss: 0.0069 - accuracy: 0.9989\n",
      "Epoch 56/100\n",
      "640/640 [==============================] - 3s 4ms/step - loss: 0.0068 - accuracy: 0.9989\n",
      "Epoch 57/100\n",
      "640/640 [==============================] - 3s 4ms/step - loss: 0.0074 - accuracy: 0.9987\n",
      "Epoch 58/100\n",
      "640/640 [==============================] - 3s 4ms/step - loss: 0.0068 - accuracy: 0.9989\n",
      "Epoch 59/100\n",
      "640/640 [==============================] - 3s 4ms/step - loss: 0.0068 - accuracy: 0.9989\n",
      "Epoch 60/100\n",
      "640/640 [==============================] - 3s 4ms/step - loss: 0.0068 - accuracy: 0.9989\n",
      "Epoch 61/100\n",
      "640/640 [==============================] - 3s 4ms/step - loss: 0.0068 - accuracy: 0.9989\n",
      "Epoch 62/100\n",
      "640/640 [==============================] - 3s 4ms/step - loss: 0.0068 - accuracy: 0.9989\n",
      "Epoch 63/100\n",
      "640/640 [==============================] - 3s 4ms/step - loss: 0.0068 - accuracy: 0.9989\n",
      "Epoch 64/100\n",
      "640/640 [==============================] - 3s 4ms/step - loss: 0.0068 - accuracy: 0.9989\n",
      "Epoch 65/100\n",
      "640/640 [==============================] - 3s 4ms/step - loss: 0.0068 - accuracy: 0.9989\n",
      "Epoch 66/100\n",
      "640/640 [==============================] - 3s 4ms/step - loss: 0.0068 - accuracy: 0.9989\n",
      "Epoch 67/100\n",
      "640/640 [==============================] - 3s 4ms/step - loss: 0.0068 - accuracy: 0.9989\n",
      "Epoch 68/100\n",
      "640/640 [==============================] - 3s 5ms/step - loss: 0.0068 - accuracy: 0.9989\n",
      "Epoch 69/100\n",
      "640/640 [==============================] - 3s 5ms/step - loss: 0.0068 - accuracy: 0.9989\n",
      "Epoch 70/100\n",
      "640/640 [==============================] - 3s 4ms/step - loss: 0.0068 - accuracy: 0.9989\n",
      "Epoch 71/100\n",
      "640/640 [==============================] - 3s 4ms/step - loss: 0.0068 - accuracy: 0.9989\n",
      "Epoch 72/100\n",
      "640/640 [==============================] - 3s 4ms/step - loss: 0.0068 - accuracy: 0.9989\n",
      "Epoch 73/100\n",
      "640/640 [==============================] - 3s 4ms/step - loss: 0.0068 - accuracy: 0.9989\n",
      "Epoch 74/100\n",
      "640/640 [==============================] - 4s 6ms/step - loss: 0.0073 - accuracy: 0.9987\n",
      "Epoch 75/100\n",
      "640/640 [==============================] - 3s 4ms/step - loss: 0.0068 - accuracy: 0.9989\n",
      "Epoch 76/100\n",
      "640/640 [==============================] - 3s 4ms/step - loss: 0.0068 - accuracy: 0.9989\n",
      "Epoch 77/100\n",
      "640/640 [==============================] - 3s 4ms/step - loss: 0.0068 - accuracy: 0.9989\n",
      "Epoch 78/100\n",
      "640/640 [==============================] - 3s 4ms/step - loss: 0.0068 - accuracy: 0.9989\n",
      "Epoch 79/100\n",
      "640/640 [==============================] - 3s 4ms/step - loss: 0.0068 - accuracy: 0.9989\n",
      "Epoch 80/100\n",
      "640/640 [==============================] - 3s 4ms/step - loss: 0.0068 - accuracy: 0.9989\n",
      "Epoch 81/100\n",
      "640/640 [==============================] - 3s 4ms/step - loss: 0.0068 - accuracy: 0.9989\n",
      "Epoch 82/100\n",
      "640/640 [==============================] - 4s 6ms/step - loss: 0.0068 - accuracy: 0.9989\n",
      "Epoch 83/100\n",
      "640/640 [==============================] - 4s 6ms/step - loss: 0.0068 - accuracy: 0.9989\n",
      "Epoch 84/100\n",
      "640/640 [==============================] - 3s 5ms/step - loss: 0.0068 - accuracy: 0.9989\n",
      "Epoch 85/100\n",
      "640/640 [==============================] - 3s 4ms/step - loss: 0.0068 - accuracy: 0.9989\n",
      "Epoch 86/100\n",
      "640/640 [==============================] - 3s 5ms/step - loss: 0.0068 - accuracy: 0.9989\n",
      "Epoch 87/100\n",
      "640/640 [==============================] - 4s 6ms/step - loss: 0.0068 - accuracy: 0.9989\n",
      "Epoch 88/100\n",
      "640/640 [==============================] - 3s 4ms/step - loss: 0.0068 - accuracy: 0.9989\n",
      "Epoch 89/100\n",
      "640/640 [==============================] - 3s 4ms/step - loss: 0.0068 - accuracy: 0.9989\n",
      "Epoch 90/100\n",
      "640/640 [==============================] - 3s 4ms/step - loss: 0.0068 - accuracy: 0.9989\n",
      "Epoch 91/100\n",
      "640/640 [==============================] - 3s 4ms/step - loss: 0.0068 - accuracy: 0.9989\n",
      "Epoch 92/100\n",
      "640/640 [==============================] - 3s 4ms/step - loss: 0.0068 - accuracy: 0.9989\n",
      "Epoch 93/100\n",
      "640/640 [==============================] - 3s 4ms/step - loss: 0.0068 - accuracy: 0.9989\n",
      "Epoch 94/100\n",
      "640/640 [==============================] - 3s 4ms/step - loss: 0.0068 - accuracy: 0.9989\n",
      "Epoch 95/100\n",
      "640/640 [==============================] - 3s 4ms/step - loss: 0.0068 - accuracy: 0.9989\n",
      "Epoch 96/100\n",
      "640/640 [==============================] - 3s 4ms/step - loss: 0.0068 - accuracy: 0.9989\n",
      "Epoch 97/100\n",
      "640/640 [==============================] - 3s 4ms/step - loss: 0.0068 - accuracy: 0.9989\n",
      "Epoch 98/100\n",
      "640/640 [==============================] - 3s 5ms/step - loss: 0.0068 - accuracy: 0.9989\n",
      "Epoch 99/100\n",
      "640/640 [==============================] - 3s 5ms/step - loss: 0.0068 - accuracy: 0.9989\n",
      "Epoch 100/100\n",
      "640/640 [==============================] - 3s 4ms/step - loss: 0.0068 - accuracy: 0.9989\n",
      "160/160 [==============================] - 1s 3ms/step\n"
     ]
    },
    {
     "name": "stderr",
     "output_type": "stream",
     "text": [
      "WARNING:absl:Found untraced functions such as _update_step_xla while saving (showing 1 of 1). These functions will not be directly callable after loading.\n"
     ]
    },
    {
     "name": "stdout",
     "output_type": "stream",
     "text": [
      "INFO:tensorflow:Assets written to: C:\\Users\\shubh\\AppData\\Local\\Temp\\tmpmvhowava\\assets\n"
     ]
    },
    {
     "name": "stderr",
     "output_type": "stream",
     "text": [
      "INFO:tensorflow:Assets written to: C:\\Users\\shubh\\AppData\\Local\\Temp\\tmpmvhowava\\assets\n"
     ]
    },
    {
     "name": "stdout",
     "output_type": "stream",
     "text": [
      "Epoch 1/100\n",
      "640/640 [==============================] - 5s 4ms/step - loss: 0.3350 - accuracy: 0.8025\n",
      "Epoch 2/100\n",
      "640/640 [==============================] - 3s 4ms/step - loss: 0.1273 - accuracy: 0.9983\n",
      "Epoch 3/100\n",
      "640/640 [==============================] - 3s 4ms/step - loss: 0.0939 - accuracy: 0.9984\n",
      "Epoch 4/100\n",
      "640/640 [==============================] - 3s 4ms/step - loss: 0.0700 - accuracy: 0.9984\n",
      "Epoch 5/100\n",
      "640/640 [==============================] - 3s 4ms/step - loss: 0.0528 - accuracy: 0.9984\n",
      "Epoch 6/100\n",
      "640/640 [==============================] - 3s 4ms/step - loss: 0.0408 - accuracy: 0.9984\n",
      "Epoch 7/100\n",
      "640/640 [==============================] - 3s 4ms/step - loss: 0.0323 - accuracy: 0.9984\n",
      "Epoch 8/100\n",
      "640/640 [==============================] - 3s 4ms/step - loss: 0.0261 - accuracy: 0.9984\n",
      "Epoch 9/100\n",
      "640/640 [==============================] - 3s 4ms/step - loss: 0.0217 - accuracy: 0.9984\n",
      "Epoch 10/100\n",
      "640/640 [==============================] - 3s 4ms/step - loss: 0.0183 - accuracy: 0.9984\n",
      "Epoch 11/100\n",
      "640/640 [==============================] - 3s 4ms/step - loss: 0.0162 - accuracy: 0.9984\n",
      "Epoch 12/100\n",
      "640/640 [==============================] - 3s 4ms/step - loss: 0.0144 - accuracy: 0.9984\n",
      "Epoch 13/100\n",
      "640/640 [==============================] - 3s 4ms/step - loss: 0.0132 - accuracy: 0.9984\n",
      "Epoch 14/100\n",
      "640/640 [==============================] - 3s 4ms/step - loss: 0.0123 - accuracy: 0.9984\n",
      "Epoch 15/100\n",
      "640/640 [==============================] - 3s 4ms/step - loss: 0.0116 - accuracy: 0.9984\n",
      "Epoch 16/100\n",
      "640/640 [==============================] - 3s 4ms/step - loss: 0.0112 - accuracy: 0.9984\n",
      "Epoch 17/100\n",
      "640/640 [==============================] - 3s 4ms/step - loss: 0.0109 - accuracy: 0.9984\n",
      "Epoch 18/100\n",
      "640/640 [==============================] - 3s 4ms/step - loss: 0.0107 - accuracy: 0.9984\n",
      "Epoch 19/100\n",
      "640/640 [==============================] - 3s 4ms/step - loss: 0.0104 - accuracy: 0.9984\n",
      "Epoch 20/100\n",
      "640/640 [==============================] - 3s 4ms/step - loss: 0.0103 - accuracy: 0.9984\n",
      "Epoch 21/100\n",
      "640/640 [==============================] - 3s 4ms/step - loss: 0.0102 - accuracy: 0.9984\n",
      "Epoch 22/100\n",
      "640/640 [==============================] - 3s 4ms/step - loss: 0.0102 - accuracy: 0.9984\n",
      "Epoch 23/100\n",
      "640/640 [==============================] - 3s 4ms/step - loss: 0.0099 - accuracy: 0.9984\n",
      "Epoch 24/100\n",
      "640/640 [==============================] - 3s 5ms/step - loss: 0.0100 - accuracy: 0.9984\n",
      "Epoch 25/100\n",
      "640/640 [==============================] - 3s 4ms/step - loss: 0.0099 - accuracy: 0.9984\n",
      "Epoch 26/100\n",
      "640/640 [==============================] - 3s 4ms/step - loss: 0.0099 - accuracy: 0.9984\n",
      "Epoch 27/100\n",
      "640/640 [==============================] - 3s 4ms/step - loss: 0.0100 - accuracy: 0.9984\n",
      "Epoch 28/100\n",
      "640/640 [==============================] - 3s 4ms/step - loss: 0.0097 - accuracy: 0.9983\n",
      "Epoch 29/100\n",
      "640/640 [==============================] - 3s 4ms/step - loss: 0.0097 - accuracy: 0.9984\n",
      "Epoch 30/100\n",
      "640/640 [==============================] - 3s 4ms/step - loss: 0.0097 - accuracy: 0.9984\n",
      "Epoch 31/100\n",
      "640/640 [==============================] - 3s 4ms/step - loss: 0.0098 - accuracy: 0.9984\n",
      "Epoch 32/100\n",
      "640/640 [==============================] - 4s 6ms/step - loss: 0.0096 - accuracy: 0.9984\n",
      "Epoch 33/100\n",
      "640/640 [==============================] - 3s 5ms/step - loss: 0.0098 - accuracy: 0.9984\n",
      "Epoch 34/100\n",
      "640/640 [==============================] - 3s 4ms/step - loss: 0.0097 - accuracy: 0.9984\n",
      "Epoch 35/100\n",
      "640/640 [==============================] - 3s 4ms/step - loss: 0.0097 - accuracy: 0.9984\n",
      "Epoch 36/100\n",
      "640/640 [==============================] - 3s 4ms/step - loss: 0.0096 - accuracy: 0.9984\n",
      "Epoch 37/100\n",
      "640/640 [==============================] - 3s 4ms/step - loss: 0.0098 - accuracy: 0.9984\n",
      "Epoch 38/100\n",
      "640/640 [==============================] - 3s 4ms/step - loss: 0.0097 - accuracy: 0.9984\n",
      "Epoch 39/100\n",
      "640/640 [==============================] - 3s 4ms/step - loss: 0.0096 - accuracy: 0.9984\n",
      "Epoch 40/100\n",
      "640/640 [==============================] - 3s 4ms/step - loss: 0.0096 - accuracy: 0.9984\n",
      "Epoch 41/100\n",
      "640/640 [==============================] - 3s 4ms/step - loss: 0.0097 - accuracy: 0.9984\n",
      "Epoch 42/100\n",
      "640/640 [==============================] - 3s 4ms/step - loss: 0.0096 - accuracy: 0.9984\n",
      "Epoch 43/100\n",
      "640/640 [==============================] - 3s 4ms/step - loss: 0.0097 - accuracy: 0.9984\n",
      "Epoch 44/100\n",
      "640/640 [==============================] - 3s 4ms/step - loss: 0.0097 - accuracy: 0.9983\n",
      "Epoch 45/100\n",
      "640/640 [==============================] - 3s 4ms/step - loss: 0.0096 - accuracy: 0.9984\n",
      "Epoch 46/100\n",
      "640/640 [==============================] - 3s 4ms/step - loss: 0.0097 - accuracy: 0.9984\n",
      "Epoch 47/100\n",
      "640/640 [==============================] - 3s 4ms/step - loss: 0.0096 - accuracy: 0.9984\n",
      "Epoch 48/100\n",
      "640/640 [==============================] - 3s 4ms/step - loss: 0.0097 - accuracy: 0.9984\n",
      "Epoch 49/100\n",
      "640/640 [==============================] - 3s 4ms/step - loss: 0.0097 - accuracy: 0.9984\n",
      "Epoch 50/100\n",
      "640/640 [==============================] - 3s 4ms/step - loss: 0.0096 - accuracy: 0.9984\n",
      "Epoch 51/100\n",
      "640/640 [==============================] - 3s 4ms/step - loss: 0.0097 - accuracy: 0.9984\n",
      "Epoch 52/100\n",
      "640/640 [==============================] - 3s 4ms/step - loss: 0.0097 - accuracy: 0.9984\n",
      "Epoch 53/100\n",
      "640/640 [==============================] - 3s 4ms/step - loss: 0.0096 - accuracy: 0.9983\n",
      "Epoch 54/100\n",
      "640/640 [==============================] - 3s 4ms/step - loss: 0.0095 - accuracy: 0.9984\n",
      "Epoch 55/100\n",
      "640/640 [==============================] - 3s 4ms/step - loss: 0.0095 - accuracy: 0.9986\n",
      "Epoch 56/100\n",
      "640/640 [==============================] - 3s 4ms/step - loss: 0.0097 - accuracy: 0.9984\n",
      "Epoch 57/100\n",
      "640/640 [==============================] - 3s 4ms/step - loss: 0.0096 - accuracy: 0.9984\n",
      "Epoch 58/100\n",
      "640/640 [==============================] - 3s 4ms/step - loss: 0.0097 - accuracy: 0.9984\n",
      "Epoch 59/100\n",
      "640/640 [==============================] - 3s 4ms/step - loss: 0.0097 - accuracy: 0.9983\n",
      "Epoch 60/100\n",
      "640/640 [==============================] - 3s 4ms/step - loss: 0.0097 - accuracy: 0.9984\n",
      "Epoch 61/100\n",
      "640/640 [==============================] - 3s 4ms/step - loss: 0.0094 - accuracy: 0.9984\n",
      "Epoch 62/100\n",
      "640/640 [==============================] - 3s 4ms/step - loss: 0.0096 - accuracy: 0.9984\n",
      "Epoch 63/100\n",
      "640/640 [==============================] - 3s 5ms/step - loss: 0.0093 - accuracy: 0.9984\n",
      "Epoch 64/100\n",
      "640/640 [==============================] - 3s 4ms/step - loss: 0.0096 - accuracy: 0.9984\n",
      "Epoch 65/100\n",
      "640/640 [==============================] - 3s 4ms/step - loss: 0.0097 - accuracy: 0.9984\n",
      "Epoch 66/100\n",
      "640/640 [==============================] - 3s 4ms/step - loss: 0.0096 - accuracy: 0.9984\n",
      "Epoch 67/100\n",
      "640/640 [==============================] - 3s 4ms/step - loss: 0.0096 - accuracy: 0.9984\n",
      "Epoch 68/100\n",
      "640/640 [==============================] - 3s 4ms/step - loss: 0.0096 - accuracy: 0.9984\n",
      "Epoch 69/100\n",
      "640/640 [==============================] - 3s 4ms/step - loss: 0.0095 - accuracy: 0.9984\n",
      "Epoch 70/100\n",
      "640/640 [==============================] - 3s 4ms/step - loss: 0.0097 - accuracy: 0.9984\n",
      "Epoch 71/100\n",
      "640/640 [==============================] - 3s 4ms/step - loss: 0.0097 - accuracy: 0.9984\n",
      "Epoch 72/100\n",
      "640/640 [==============================] - 3s 4ms/step - loss: 0.0096 - accuracy: 0.9984\n",
      "Epoch 73/100\n",
      "640/640 [==============================] - 3s 5ms/step - loss: 0.0096 - accuracy: 0.9984\n",
      "Epoch 74/100\n",
      "640/640 [==============================] - 3s 4ms/step - loss: 0.0096 - accuracy: 0.9984\n",
      "Epoch 75/100\n",
      "640/640 [==============================] - 3s 4ms/step - loss: 0.0097 - accuracy: 0.9984\n",
      "Epoch 76/100\n",
      "640/640 [==============================] - 3s 4ms/step - loss: 0.0096 - accuracy: 0.9984\n",
      "Epoch 77/100\n",
      "640/640 [==============================] - 3s 4ms/step - loss: 0.0096 - accuracy: 0.9984\n",
      "Epoch 78/100\n",
      "640/640 [==============================] - 3s 5ms/step - loss: 0.0097 - accuracy: 0.9983\n",
      "Epoch 79/100\n",
      "640/640 [==============================] - 3s 4ms/step - loss: 0.0096 - accuracy: 0.9984\n",
      "Epoch 80/100\n",
      "640/640 [==============================] - 3s 4ms/step - loss: 0.0096 - accuracy: 0.9984\n",
      "Epoch 81/100\n",
      "640/640 [==============================] - 3s 4ms/step - loss: 0.0096 - accuracy: 0.9984\n",
      "Epoch 82/100\n",
      "640/640 [==============================] - 3s 4ms/step - loss: 0.0097 - accuracy: 0.9984\n",
      "Epoch 83/100\n",
      "640/640 [==============================] - 3s 4ms/step - loss: 0.0096 - accuracy: 0.9984\n",
      "Epoch 84/100\n",
      "640/640 [==============================] - 3s 4ms/step - loss: 0.0094 - accuracy: 0.9984\n",
      "Epoch 85/100\n",
      "640/640 [==============================] - 3s 4ms/step - loss: 0.0096 - accuracy: 0.9984\n",
      "Epoch 86/100\n",
      "640/640 [==============================] - 3s 5ms/step - loss: 0.0096 - accuracy: 0.9983\n",
      "Epoch 87/100\n",
      "640/640 [==============================] - 3s 4ms/step - loss: 0.0094 - accuracy: 0.9984\n",
      "Epoch 88/100\n",
      "640/640 [==============================] - 3s 4ms/step - loss: 0.0096 - accuracy: 0.9984\n",
      "Epoch 89/100\n",
      "640/640 [==============================] - 3s 4ms/step - loss: 0.0096 - accuracy: 0.9984\n",
      "Epoch 90/100\n",
      "640/640 [==============================] - 3s 5ms/step - loss: 0.0096 - accuracy: 0.9984\n",
      "Epoch 91/100\n",
      "640/640 [==============================] - 3s 4ms/step - loss: 0.0096 - accuracy: 0.9984\n",
      "Epoch 92/100\n",
      "640/640 [==============================] - 3s 4ms/step - loss: 0.0096 - accuracy: 0.9984\n",
      "Epoch 93/100\n",
      "640/640 [==============================] - 3s 4ms/step - loss: 0.0095 - accuracy: 0.9984\n",
      "Epoch 94/100\n",
      "640/640 [==============================] - 3s 4ms/step - loss: 0.0097 - accuracy: 0.9984\n",
      "Epoch 95/100\n",
      "640/640 [==============================] - 3s 4ms/step - loss: 0.0096 - accuracy: 0.9984\n",
      "Epoch 96/100\n",
      "640/640 [==============================] - 3s 5ms/step - loss: 0.0096 - accuracy: 0.9984\n",
      "Epoch 97/100\n",
      "640/640 [==============================] - 3s 4ms/step - loss: 0.0096 - accuracy: 0.9984\n",
      "Epoch 98/100\n",
      "640/640 [==============================] - 3s 4ms/step - loss: 0.0097 - accuracy: 0.9984\n",
      "Epoch 99/100\n",
      "640/640 [==============================] - 3s 4ms/step - loss: 0.0096 - accuracy: 0.9984\n",
      "Epoch 100/100\n",
      "640/640 [==============================] - 3s 4ms/step - loss: 0.0096 - accuracy: 0.9984\n",
      "160/160 [==============================] - 1s 3ms/step\n"
     ]
    },
    {
     "name": "stderr",
     "output_type": "stream",
     "text": [
      "WARNING:absl:Found untraced functions such as _update_step_xla while saving (showing 1 of 1). These functions will not be directly callable after loading.\n"
     ]
    },
    {
     "name": "stdout",
     "output_type": "stream",
     "text": [
      "INFO:tensorflow:Assets written to: C:\\Users\\shubh\\AppData\\Local\\Temp\\tmpan37e_s0\\assets\n"
     ]
    },
    {
     "name": "stderr",
     "output_type": "stream",
     "text": [
      "INFO:tensorflow:Assets written to: C:\\Users\\shubh\\AppData\\Local\\Temp\\tmpan37e_s0\\assets\n"
     ]
    },
    {
     "name": "stdout",
     "output_type": "stream",
     "text": [
      "Epoch 1/100\n",
      "640/640 [==============================] - 4s 4ms/step - loss: 0.3365 - accuracy: 0.7995\n",
      "Epoch 2/100\n",
      "640/640 [==============================] - 3s 4ms/step - loss: 0.1285 - accuracy: 0.9977\n",
      "Epoch 3/100\n",
      "640/640 [==============================] - 3s 4ms/step - loss: 0.0949 - accuracy: 0.9983\n",
      "Epoch 4/100\n",
      "640/640 [==============================] - 3s 4ms/step - loss: 0.0711 - accuracy: 0.9983\n",
      "Epoch 5/100\n",
      "640/640 [==============================] - 3s 4ms/step - loss: 0.0540 - accuracy: 0.9983\n",
      "Epoch 6/100\n",
      "640/640 [==============================] - 3s 4ms/step - loss: 0.0418 - accuracy: 0.9983\n",
      "Epoch 7/100\n",
      "640/640 [==============================] - 3s 4ms/step - loss: 0.0330 - accuracy: 0.9983\n",
      "Epoch 8/100\n",
      "640/640 [==============================] - 3s 4ms/step - loss: 0.0268 - accuracy: 0.9983\n",
      "Epoch 9/100\n",
      "640/640 [==============================] - 3s 4ms/step - loss: 0.0223 - accuracy: 0.9983\n",
      "Epoch 10/100\n",
      "640/640 [==============================] - 3s 4ms/step - loss: 0.0192 - accuracy: 0.9983\n",
      "Epoch 11/100\n",
      "640/640 [==============================] - 3s 4ms/step - loss: 0.0168 - accuracy: 0.9983\n",
      "Epoch 12/100\n",
      "640/640 [==============================] - 3s 4ms/step - loss: 0.0153 - accuracy: 0.9983\n",
      "Epoch 13/100\n",
      "640/640 [==============================] - 3s 4ms/step - loss: 0.0138 - accuracy: 0.9983\n",
      "Epoch 14/100\n",
      "640/640 [==============================] - 3s 5ms/step - loss: 0.0130 - accuracy: 0.9983\n",
      "Epoch 15/100\n",
      "640/640 [==============================] - 4s 7ms/step - loss: 0.0124 - accuracy: 0.9983\n",
      "Epoch 16/100\n",
      "640/640 [==============================] - 3s 4ms/step - loss: 0.0120 - accuracy: 0.9983\n",
      "Epoch 17/100\n",
      "640/640 [==============================] - 3s 4ms/step - loss: 0.0116 - accuracy: 0.9983\n",
      "Epoch 18/100\n",
      "640/640 [==============================] - 3s 4ms/step - loss: 0.0113 - accuracy: 0.9983\n",
      "Epoch 19/100\n",
      "640/640 [==============================] - 3s 4ms/step - loss: 0.0112 - accuracy: 0.9983\n",
      "Epoch 20/100\n",
      "640/640 [==============================] - 3s 4ms/step - loss: 0.0110 - accuracy: 0.9983\n",
      "Epoch 21/100\n",
      "640/640 [==============================] - 3s 4ms/step - loss: 0.0109 - accuracy: 0.9983\n",
      "Epoch 22/100\n",
      "640/640 [==============================] - 3s 4ms/step - loss: 0.0105 - accuracy: 0.9983\n",
      "Epoch 23/100\n",
      "640/640 [==============================] - 3s 4ms/step - loss: 0.0109 - accuracy: 0.9983\n",
      "Epoch 24/100\n",
      "640/640 [==============================] - 3s 4ms/step - loss: 0.0108 - accuracy: 0.9983\n",
      "Epoch 25/100\n",
      "640/640 [==============================] - 3s 4ms/step - loss: 0.0107 - accuracy: 0.9983\n",
      "Epoch 26/100\n",
      "640/640 [==============================] - 3s 4ms/step - loss: 0.0105 - accuracy: 0.9983\n",
      "Epoch 27/100\n",
      "640/640 [==============================] - 3s 4ms/step - loss: 0.0105 - accuracy: 0.9983\n",
      "Epoch 28/100\n",
      "640/640 [==============================] - 3s 4ms/step - loss: 0.0107 - accuracy: 0.9983\n",
      "Epoch 29/100\n",
      "640/640 [==============================] - 3s 4ms/step - loss: 0.0106 - accuracy: 0.9983\n",
      "Epoch 30/100\n",
      "640/640 [==============================] - 3s 5ms/step - loss: 0.0106 - accuracy: 0.9983\n",
      "Epoch 31/100\n",
      "640/640 [==============================] - 3s 4ms/step - loss: 0.0103 - accuracy: 0.9981\n",
      "Epoch 32/100\n",
      "640/640 [==============================] - 3s 4ms/step - loss: 0.0107 - accuracy: 0.9983\n",
      "Epoch 33/100\n",
      "640/640 [==============================] - 3s 4ms/step - loss: 0.0105 - accuracy: 0.9983\n",
      "Epoch 34/100\n",
      "640/640 [==============================] - 3s 4ms/step - loss: 0.0105 - accuracy: 0.9983\n",
      "Epoch 35/100\n",
      "640/640 [==============================] - 3s 4ms/step - loss: 0.0100 - accuracy: 0.9983\n",
      "Epoch 36/100\n",
      "640/640 [==============================] - 3s 4ms/step - loss: 0.0105 - accuracy: 0.9983\n",
      "Epoch 37/100\n",
      "640/640 [==============================] - 3s 4ms/step - loss: 0.0102 - accuracy: 0.9983\n",
      "Epoch 38/100\n",
      "640/640 [==============================] - 3s 4ms/step - loss: 0.0105 - accuracy: 0.9983\n",
      "Epoch 39/100\n",
      "640/640 [==============================] - 3s 4ms/step - loss: 0.0106 - accuracy: 0.9981\n",
      "Epoch 40/100\n",
      "640/640 [==============================] - 3s 4ms/step - loss: 0.0105 - accuracy: 0.9983\n",
      "Epoch 41/100\n",
      "640/640 [==============================] - 3s 4ms/step - loss: 0.0102 - accuracy: 0.9983\n",
      "Epoch 42/100\n",
      "640/640 [==============================] - 3s 4ms/step - loss: 0.0105 - accuracy: 0.9983\n",
      "Epoch 43/100\n",
      "640/640 [==============================] - 3s 4ms/step - loss: 0.0105 - accuracy: 0.9983\n",
      "Epoch 44/100\n",
      "640/640 [==============================] - 3s 4ms/step - loss: 0.0104 - accuracy: 0.9983\n",
      "Epoch 45/100\n",
      "640/640 [==============================] - 3s 4ms/step - loss: 0.0102 - accuracy: 0.9981\n",
      "Epoch 46/100\n",
      "640/640 [==============================] - 3s 5ms/step - loss: 0.0105 - accuracy: 0.9983\n",
      "Epoch 47/100\n",
      "640/640 [==============================] - 3s 4ms/step - loss: 0.0104 - accuracy: 0.9983\n",
      "Epoch 48/100\n",
      "640/640 [==============================] - 3s 4ms/step - loss: 0.0102 - accuracy: 0.9983\n",
      "Epoch 49/100\n",
      "640/640 [==============================] - 3s 4ms/step - loss: 0.0104 - accuracy: 0.9983\n",
      "Epoch 50/100\n",
      "640/640 [==============================] - 3s 4ms/step - loss: 0.0105 - accuracy: 0.9983\n",
      "Epoch 51/100\n",
      "640/640 [==============================] - 3s 4ms/step - loss: 0.0104 - accuracy: 0.9983\n",
      "Epoch 52/100\n",
      "640/640 [==============================] - 3s 4ms/step - loss: 0.0105 - accuracy: 0.9983\n",
      "Epoch 53/100\n",
      "640/640 [==============================] - 3s 4ms/step - loss: 0.0105 - accuracy: 0.9983\n",
      "Epoch 54/100\n",
      "640/640 [==============================] - 3s 5ms/step - loss: 0.0104 - accuracy: 0.9983\n",
      "Epoch 55/100\n",
      "640/640 [==============================] - 3s 4ms/step - loss: 0.0103 - accuracy: 0.9983\n",
      "Epoch 56/100\n",
      "640/640 [==============================] - 3s 4ms/step - loss: 0.0104 - accuracy: 0.9983\n",
      "Epoch 57/100\n",
      "640/640 [==============================] - 3s 4ms/step - loss: 0.0104 - accuracy: 0.9983\n",
      "Epoch 58/100\n",
      "640/640 [==============================] - 3s 4ms/step - loss: 0.0104 - accuracy: 0.9983\n",
      "Epoch 59/100\n",
      "640/640 [==============================] - 3s 4ms/step - loss: 0.0103 - accuracy: 0.9981\n",
      "Epoch 60/100\n",
      "640/640 [==============================] - 3s 4ms/step - loss: 0.0104 - accuracy: 0.9983\n",
      "Epoch 61/100\n",
      "640/640 [==============================] - 3s 4ms/step - loss: 0.0105 - accuracy: 0.9983\n",
      "Epoch 62/100\n",
      "640/640 [==============================] - 3s 4ms/step - loss: 0.0105 - accuracy: 0.9983\n",
      "Epoch 63/100\n",
      "640/640 [==============================] - 3s 4ms/step - loss: 0.0103 - accuracy: 0.9983\n",
      "Epoch 64/100\n",
      "640/640 [==============================] - 3s 5ms/step - loss: 0.0105 - accuracy: 0.9983\n",
      "Epoch 65/100\n",
      "640/640 [==============================] - 3s 5ms/step - loss: 0.0104 - accuracy: 0.9983\n",
      "Epoch 66/100\n",
      "640/640 [==============================] - 3s 5ms/step - loss: 0.0106 - accuracy: 0.9981\n",
      "Epoch 67/100\n",
      "640/640 [==============================] - 3s 5ms/step - loss: 0.0103 - accuracy: 0.9983\n",
      "Epoch 68/100\n",
      "640/640 [==============================] - 3s 5ms/step - loss: 0.0103 - accuracy: 0.9981\n",
      "Epoch 69/100\n",
      "640/640 [==============================] - 3s 4ms/step - loss: 0.0104 - accuracy: 0.9983\n",
      "Epoch 70/100\n",
      "640/640 [==============================] - 3s 4ms/step - loss: 0.0103 - accuracy: 0.9981\n",
      "Epoch 71/100\n",
      "640/640 [==============================] - 3s 4ms/step - loss: 0.0103 - accuracy: 0.9983\n",
      "Epoch 72/100\n",
      "640/640 [==============================] - 3s 4ms/step - loss: 0.0104 - accuracy: 0.9983\n",
      "Epoch 73/100\n",
      "640/640 [==============================] - 3s 4ms/step - loss: 0.0102 - accuracy: 0.9983\n",
      "Epoch 74/100\n",
      "640/640 [==============================] - 3s 4ms/step - loss: 0.0102 - accuracy: 0.9983\n",
      "Epoch 75/100\n",
      "640/640 [==============================] - 3s 4ms/step - loss: 0.0104 - accuracy: 0.9981\n",
      "Epoch 76/100\n",
      "640/640 [==============================] - 3s 4ms/step - loss: 0.0105 - accuracy: 0.9983\n",
      "Epoch 77/100\n",
      "640/640 [==============================] - 3s 4ms/step - loss: 0.0103 - accuracy: 0.9983\n",
      "Epoch 78/100\n",
      "640/640 [==============================] - 3s 4ms/step - loss: 0.0102 - accuracy: 0.9983\n",
      "Epoch 79/100\n",
      "640/640 [==============================] - 3s 4ms/step - loss: 0.0104 - accuracy: 0.9983\n",
      "Epoch 80/100\n",
      "640/640 [==============================] - 3s 4ms/step - loss: 0.0104 - accuracy: 0.9983\n",
      "Epoch 81/100\n",
      "640/640 [==============================] - 4s 6ms/step - loss: 0.0103 - accuracy: 0.9983\n",
      "Epoch 82/100\n",
      "640/640 [==============================] - 3s 4ms/step - loss: 0.0105 - accuracy: 0.9981\n",
      "Epoch 83/100\n",
      "640/640 [==============================] - 3s 4ms/step - loss: 0.0103 - accuracy: 0.9983\n",
      "Epoch 84/100\n",
      "640/640 [==============================] - 3s 4ms/step - loss: 0.0104 - accuracy: 0.9983\n",
      "Epoch 85/100\n",
      "640/640 [==============================] - 3s 4ms/step - loss: 0.0103 - accuracy: 0.9983\n",
      "Epoch 86/100\n",
      "640/640 [==============================] - 3s 4ms/step - loss: 0.0104 - accuracy: 0.9983\n",
      "Epoch 87/100\n",
      "640/640 [==============================] - 3s 4ms/step - loss: 0.0104 - accuracy: 0.9983\n",
      "Epoch 88/100\n",
      "640/640 [==============================] - 3s 4ms/step - loss: 0.0104 - accuracy: 0.9981\n",
      "Epoch 89/100\n",
      "640/640 [==============================] - 3s 4ms/step - loss: 0.0103 - accuracy: 0.9981\n",
      "Epoch 90/100\n",
      "640/640 [==============================] - 3s 4ms/step - loss: 0.0105 - accuracy: 0.9983\n",
      "Epoch 91/100\n",
      "640/640 [==============================] - 3s 4ms/step - loss: 0.0104 - accuracy: 0.9983\n",
      "Epoch 92/100\n",
      "640/640 [==============================] - 3s 5ms/step - loss: 0.0104 - accuracy: 0.9983\n",
      "Epoch 93/100\n",
      "640/640 [==============================] - 3s 4ms/step - loss: 0.0104 - accuracy: 0.9981\n",
      "Epoch 94/100\n",
      "640/640 [==============================] - 3s 4ms/step - loss: 0.0103 - accuracy: 0.9983\n",
      "Epoch 95/100\n",
      "640/640 [==============================] - 4s 6ms/step - loss: 0.0104 - accuracy: 0.9983\n",
      "Epoch 96/100\n",
      "640/640 [==============================] - 3s 4ms/step - loss: 0.0103 - accuracy: 0.9981\n",
      "Epoch 97/100\n",
      "640/640 [==============================] - 3s 4ms/step - loss: 0.0104 - accuracy: 0.9983\n",
      "Epoch 98/100\n",
      "640/640 [==============================] - 3s 4ms/step - loss: 0.0103 - accuracy: 0.9983\n",
      "Epoch 99/100\n",
      "640/640 [==============================] - 3s 5ms/step - loss: 0.0104 - accuracy: 0.9983\n",
      "Epoch 100/100\n",
      "640/640 [==============================] - 3s 4ms/step - loss: 0.0103 - accuracy: 0.9983\n",
      "160/160 [==============================] - 1s 3ms/step\n"
     ]
    },
    {
     "name": "stderr",
     "output_type": "stream",
     "text": [
      "WARNING:absl:Found untraced functions such as _update_step_xla while saving (showing 1 of 1). These functions will not be directly callable after loading.\n"
     ]
    },
    {
     "name": "stdout",
     "output_type": "stream",
     "text": [
      "INFO:tensorflow:Assets written to: C:\\Users\\shubh\\AppData\\Local\\Temp\\tmprbxgq7wd\\assets\n"
     ]
    },
    {
     "name": "stderr",
     "output_type": "stream",
     "text": [
      "INFO:tensorflow:Assets written to: C:\\Users\\shubh\\AppData\\Local\\Temp\\tmprbxgq7wd\\assets\n"
     ]
    },
    {
     "name": "stdout",
     "output_type": "stream",
     "text": [
      "Epoch 1/100\n",
      "640/640 [==============================] - 5s 4ms/step - loss: 0.3371 - accuracy: 0.8061\n",
      "Epoch 2/100\n",
      "640/640 [==============================] - 3s 4ms/step - loss: 0.1267 - accuracy: 0.9978\n",
      "Epoch 3/100\n",
      "640/640 [==============================] - 3s 4ms/step - loss: 0.0934 - accuracy: 0.9984\n",
      "Epoch 4/100\n",
      "640/640 [==============================] - 3s 4ms/step - loss: 0.0697 - accuracy: 0.9984\n",
      "Epoch 5/100\n",
      "640/640 [==============================] - 3s 4ms/step - loss: 0.0527 - accuracy: 0.9984\n",
      "Epoch 6/100\n",
      "640/640 [==============================] - 3s 5ms/step - loss: 0.0405 - accuracy: 0.9984\n",
      "Epoch 7/100\n",
      "640/640 [==============================] - 3s 4ms/step - loss: 0.0321 - accuracy: 0.9984\n",
      "Epoch 8/100\n",
      "640/640 [==============================] - 3s 4ms/step - loss: 0.0258 - accuracy: 0.9984\n",
      "Epoch 9/100\n",
      "640/640 [==============================] - 3s 4ms/step - loss: 0.0215 - accuracy: 0.9984\n",
      "Epoch 10/100\n",
      "640/640 [==============================] - 4s 7ms/step - loss: 0.0182 - accuracy: 0.9984\n",
      "Epoch 11/100\n",
      "640/640 [==============================] - 3s 4ms/step - loss: 0.0158 - accuracy: 0.9984\n",
      "Epoch 12/100\n",
      "640/640 [==============================] - 3s 4ms/step - loss: 0.0142 - accuracy: 0.9984\n",
      "Epoch 13/100\n",
      "640/640 [==============================] - 3s 4ms/step - loss: 0.0129 - accuracy: 0.9984\n",
      "Epoch 14/100\n",
      "640/640 [==============================] - 3s 4ms/step - loss: 0.0121 - accuracy: 0.9984\n",
      "Epoch 15/100\n",
      "640/640 [==============================] - 3s 4ms/step - loss: 0.0115 - accuracy: 0.9984\n",
      "Epoch 16/100\n",
      "640/640 [==============================] - 3s 4ms/step - loss: 0.0111 - accuracy: 0.9984\n",
      "Epoch 17/100\n",
      "640/640 [==============================] - 3s 4ms/step - loss: 0.0106 - accuracy: 0.9984\n",
      "Epoch 18/100\n",
      "640/640 [==============================] - 3s 4ms/step - loss: 0.0105 - accuracy: 0.9984\n",
      "Epoch 19/100\n",
      "640/640 [==============================] - 3s 4ms/step - loss: 0.0102 - accuracy: 0.9984\n",
      "Epoch 20/100\n",
      "640/640 [==============================] - 3s 4ms/step - loss: 0.0102 - accuracy: 0.9984\n",
      "Epoch 21/100\n",
      "640/640 [==============================] - 3s 4ms/step - loss: 0.0101 - accuracy: 0.9984\n",
      "Epoch 22/100\n",
      "640/640 [==============================] - 3s 4ms/step - loss: 0.0101 - accuracy: 0.9984\n",
      "Epoch 23/100\n",
      "640/640 [==============================] - 3s 4ms/step - loss: 0.0096 - accuracy: 0.9984\n",
      "Epoch 24/100\n",
      "640/640 [==============================] - 3s 4ms/step - loss: 0.0099 - accuracy: 0.9984\n",
      "Epoch 25/100\n",
      "640/640 [==============================] - 3s 4ms/step - loss: 0.0099 - accuracy: 0.9984\n",
      "Epoch 26/100\n",
      "640/640 [==============================] - 3s 4ms/step - loss: 0.0098 - accuracy: 0.9984\n",
      "Epoch 27/100\n",
      "640/640 [==============================] - 3s 4ms/step - loss: 0.0098 - accuracy: 0.9984\n",
      "Epoch 28/100\n",
      "640/640 [==============================] - 3s 4ms/step - loss: 0.0098 - accuracy: 0.9984\n",
      "Epoch 29/100\n",
      "640/640 [==============================] - 3s 4ms/step - loss: 0.0096 - accuracy: 0.9984\n",
      "Epoch 30/100\n",
      "640/640 [==============================] - 3s 4ms/step - loss: 0.0098 - accuracy: 0.9984\n",
      "Epoch 31/100\n",
      "640/640 [==============================] - 3s 4ms/step - loss: 0.0097 - accuracy: 0.9984\n",
      "Epoch 32/100\n",
      "640/640 [==============================] - 3s 4ms/step - loss: 0.0095 - accuracy: 0.9984\n",
      "Epoch 33/100\n",
      "640/640 [==============================] - 4s 6ms/step - loss: 0.0097 - accuracy: 0.9984\n",
      "Epoch 34/100\n",
      "640/640 [==============================] - 3s 4ms/step - loss: 0.0097 - accuracy: 0.9984\n",
      "Epoch 35/100\n",
      "640/640 [==============================] - 3s 4ms/step - loss: 0.0097 - accuracy: 0.9984\n",
      "Epoch 36/100\n",
      "640/640 [==============================] - 3s 4ms/step - loss: 0.0095 - accuracy: 0.9984\n",
      "Epoch 37/100\n",
      "640/640 [==============================] - 3s 5ms/step - loss: 0.0097 - accuracy: 0.9984\n",
      "Epoch 38/100\n",
      "640/640 [==============================] - 3s 4ms/step - loss: 0.0096 - accuracy: 0.9984\n",
      "Epoch 39/100\n",
      "640/640 [==============================] - 3s 4ms/step - loss: 0.0097 - accuracy: 0.9984\n",
      "Epoch 40/100\n",
      "640/640 [==============================] - 3s 4ms/step - loss: 0.0095 - accuracy: 0.9984\n",
      "Epoch 41/100\n",
      "640/640 [==============================] - 3s 4ms/step - loss: 0.0097 - accuracy: 0.9984\n",
      "Epoch 42/100\n",
      "640/640 [==============================] - 3s 4ms/step - loss: 0.0094 - accuracy: 0.9984\n",
      "Epoch 43/100\n",
      "640/640 [==============================] - 3s 4ms/step - loss: 0.0097 - accuracy: 0.9984\n",
      "Epoch 44/100\n",
      "640/640 [==============================] - 3s 4ms/step - loss: 0.0095 - accuracy: 0.9984\n",
      "Epoch 45/100\n",
      "640/640 [==============================] - 3s 4ms/step - loss: 0.0097 - accuracy: 0.9984\n",
      "Epoch 46/100\n",
      "640/640 [==============================] - 3s 4ms/step - loss: 0.0096 - accuracy: 0.9984\n",
      "Epoch 47/100\n",
      "640/640 [==============================] - 3s 4ms/step - loss: 0.0097 - accuracy: 0.9984\n",
      "Epoch 48/100\n",
      "640/640 [==============================] - 3s 4ms/step - loss: 0.0094 - accuracy: 0.9984\n",
      "Epoch 49/100\n",
      "640/640 [==============================] - 3s 4ms/step - loss: 0.0096 - accuracy: 0.9984\n",
      "Epoch 50/100\n",
      "640/640 [==============================] - 3s 4ms/step - loss: 0.0097 - accuracy: 0.9984\n",
      "Epoch 51/100\n",
      "640/640 [==============================] - 3s 4ms/step - loss: 0.0096 - accuracy: 0.9984\n",
      "Epoch 52/100\n",
      "640/640 [==============================] - 3s 4ms/step - loss: 0.0096 - accuracy: 0.9984\n",
      "Epoch 53/100\n",
      "640/640 [==============================] - 3s 4ms/step - loss: 0.0096 - accuracy: 0.9984\n",
      "Epoch 54/100\n",
      "640/640 [==============================] - 3s 4ms/step - loss: 0.0095 - accuracy: 0.9984\n",
      "Epoch 55/100\n",
      "640/640 [==============================] - 3s 4ms/step - loss: 0.0096 - accuracy: 0.9984\n",
      "Epoch 56/100\n",
      "640/640 [==============================] - 3s 4ms/step - loss: 0.0095 - accuracy: 0.9984\n",
      "Epoch 57/100\n",
      "640/640 [==============================] - 3s 4ms/step - loss: 0.0097 - accuracy: 0.9984\n",
      "Epoch 58/100\n",
      "640/640 [==============================] - 3s 4ms/step - loss: 0.0096 - accuracy: 0.9984\n",
      "Epoch 59/100\n",
      "640/640 [==============================] - 3s 4ms/step - loss: 0.0096 - accuracy: 0.9984\n",
      "Epoch 60/100\n",
      "640/640 [==============================] - 3s 5ms/step - loss: 0.0096 - accuracy: 0.9984\n",
      "Epoch 61/100\n",
      "640/640 [==============================] - 3s 4ms/step - loss: 0.0096 - accuracy: 0.9984\n",
      "Epoch 62/100\n",
      "640/640 [==============================] - 3s 4ms/step - loss: 0.0096 - accuracy: 0.9984\n",
      "Epoch 63/100\n",
      "640/640 [==============================] - 3s 4ms/step - loss: 0.0096 - accuracy: 0.9984\n",
      "Epoch 64/100\n",
      "640/640 [==============================] - 3s 4ms/step - loss: 0.0096 - accuracy: 0.9984\n",
      "Epoch 65/100\n",
      "640/640 [==============================] - 3s 4ms/step - loss: 0.0096 - accuracy: 0.9984\n",
      "Epoch 66/100\n",
      "640/640 [==============================] - 3s 4ms/step - loss: 0.0095 - accuracy: 0.9984\n",
      "Epoch 67/100\n",
      "640/640 [==============================] - 3s 5ms/step - loss: 0.0097 - accuracy: 0.9984\n",
      "Epoch 68/100\n",
      "640/640 [==============================] - 3s 4ms/step - loss: 0.0096 - accuracy: 0.9984\n",
      "Epoch 69/100\n",
      "640/640 [==============================] - 3s 4ms/step - loss: 0.0096 - accuracy: 0.9984\n",
      "Epoch 70/100\n",
      "640/640 [==============================] - 3s 4ms/step - loss: 0.0095 - accuracy: 0.9984\n",
      "Epoch 71/100\n",
      "640/640 [==============================] - 3s 4ms/step - loss: 0.0096 - accuracy: 0.9984\n",
      "Epoch 72/100\n",
      "640/640 [==============================] - 3s 4ms/step - loss: 0.0094 - accuracy: 0.9984\n",
      "Epoch 73/100\n",
      "640/640 [==============================] - 3s 5ms/step - loss: 0.0094 - accuracy: 0.9984\n",
      "Epoch 74/100\n",
      "640/640 [==============================] - 3s 4ms/step - loss: 0.0096 - accuracy: 0.9984\n",
      "Epoch 75/100\n",
      "640/640 [==============================] - 3s 4ms/step - loss: 0.0096 - accuracy: 0.9984\n",
      "Epoch 76/100\n",
      "640/640 [==============================] - 3s 4ms/step - loss: 0.0096 - accuracy: 0.9984\n",
      "Epoch 77/100\n",
      "640/640 [==============================] - 3s 4ms/step - loss: 0.0095 - accuracy: 0.9984\n",
      "Epoch 78/100\n",
      "640/640 [==============================] - 3s 4ms/step - loss: 0.0096 - accuracy: 0.9984\n",
      "Epoch 79/100\n",
      "640/640 [==============================] - 3s 4ms/step - loss: 0.0096 - accuracy: 0.9984\n",
      "Epoch 80/100\n",
      "640/640 [==============================] - 3s 4ms/step - loss: 0.0096 - accuracy: 0.9984\n",
      "Epoch 81/100\n",
      "640/640 [==============================] - 3s 4ms/step - loss: 0.0096 - accuracy: 0.9984\n",
      "Epoch 82/100\n",
      "640/640 [==============================] - 3s 4ms/step - loss: 0.0095 - accuracy: 0.9984\n",
      "Epoch 83/100\n",
      "640/640 [==============================] - 3s 4ms/step - loss: 0.0095 - accuracy: 0.9984\n",
      "Epoch 84/100\n",
      "640/640 [==============================] - 3s 4ms/step - loss: 0.0095 - accuracy: 0.9984\n",
      "Epoch 85/100\n",
      "640/640 [==============================] - 3s 4ms/step - loss: 0.0094 - accuracy: 0.9984\n",
      "Epoch 86/100\n",
      "640/640 [==============================] - 3s 4ms/step - loss: 0.0097 - accuracy: 0.9984\n",
      "Epoch 87/100\n",
      "640/640 [==============================] - 3s 4ms/step - loss: 0.0096 - accuracy: 0.9984\n",
      "Epoch 88/100\n",
      "640/640 [==============================] - 3s 4ms/step - loss: 0.0095 - accuracy: 0.9984\n",
      "Epoch 89/100\n",
      "640/640 [==============================] - 3s 4ms/step - loss: 0.0095 - accuracy: 0.9984\n",
      "Epoch 90/100\n",
      "640/640 [==============================] - 3s 5ms/step - loss: 0.0096 - accuracy: 0.9984\n",
      "Epoch 91/100\n",
      "640/640 [==============================] - 3s 4ms/step - loss: 0.0095 - accuracy: 0.9984\n",
      "Epoch 92/100\n",
      "640/640 [==============================] - 3s 4ms/step - loss: 0.0096 - accuracy: 0.9984\n",
      "Epoch 93/100\n",
      "640/640 [==============================] - 3s 4ms/step - loss: 0.0096 - accuracy: 0.9984\n",
      "Epoch 94/100\n",
      "640/640 [==============================] - 3s 4ms/step - loss: 0.0096 - accuracy: 0.9984\n",
      "Epoch 95/100\n",
      "640/640 [==============================] - 3s 4ms/step - loss: 0.0096 - accuracy: 0.9984\n",
      "Epoch 96/100\n",
      "640/640 [==============================] - 3s 5ms/step - loss: 0.0094 - accuracy: 0.9984\n",
      "Epoch 97/100\n",
      "640/640 [==============================] - 3s 4ms/step - loss: 0.0096 - accuracy: 0.9984\n",
      "Epoch 98/100\n",
      "640/640 [==============================] - 3s 5ms/step - loss: 0.0096 - accuracy: 0.9984\n",
      "Epoch 99/100\n",
      "640/640 [==============================] - 3s 4ms/step - loss: 0.0095 - accuracy: 0.9984\n",
      "Epoch 100/100\n",
      "640/640 [==============================] - 3s 4ms/step - loss: 0.0096 - accuracy: 0.9984\n",
      "160/160 [==============================] - 1s 3ms/step\n"
     ]
    },
    {
     "name": "stderr",
     "output_type": "stream",
     "text": [
      "WARNING:absl:Found untraced functions such as _update_step_xla while saving (showing 1 of 1). These functions will not be directly callable after loading.\n"
     ]
    },
    {
     "name": "stdout",
     "output_type": "stream",
     "text": [
      "INFO:tensorflow:Assets written to: C:\\Users\\shubh\\AppData\\Local\\Temp\\tmp_lock53j\\assets\n"
     ]
    },
    {
     "name": "stderr",
     "output_type": "stream",
     "text": [
      "INFO:tensorflow:Assets written to: C:\\Users\\shubh\\AppData\\Local\\Temp\\tmp_lock53j\\assets\n"
     ]
    },
    {
     "name": "stdout",
     "output_type": "stream",
     "text": [
      "Epoch 1/100\n",
      "640/640 [==============================] - 4s 4ms/step - loss: 0.3335 - accuracy: 0.7991\n",
      "Epoch 2/100\n",
      "640/640 [==============================] - 3s 4ms/step - loss: 0.1280 - accuracy: 0.9972\n",
      "Epoch 3/100\n",
      "640/640 [==============================] - 3s 4ms/step - loss: 0.0943 - accuracy: 0.9980\n",
      "Epoch 4/100\n",
      "640/640 [==============================] - 3s 4ms/step - loss: 0.0703 - accuracy: 0.9980\n",
      "Epoch 5/100\n",
      "640/640 [==============================] - 3s 4ms/step - loss: 0.0534 - accuracy: 0.9980\n",
      "Epoch 6/100\n",
      "640/640 [==============================] - 3s 4ms/step - loss: 0.0416 - accuracy: 0.9980\n",
      "Epoch 7/100\n",
      "640/640 [==============================] - 3s 4ms/step - loss: 0.0332 - accuracy: 0.9980\n",
      "Epoch 8/100\n",
      "640/640 [==============================] - 3s 5ms/step - loss: 0.0272 - accuracy: 0.9980\n",
      "Epoch 9/100\n",
      "640/640 [==============================] - 3s 5ms/step - loss: 0.0230 - accuracy: 0.9980\n",
      "Epoch 10/100\n",
      "640/640 [==============================] - 3s 5ms/step - loss: 0.0197 - accuracy: 0.9978\n",
      "Epoch 11/100\n",
      "640/640 [==============================] - 3s 4ms/step - loss: 0.0178 - accuracy: 0.9980\n",
      "Epoch 12/100\n",
      "640/640 [==============================] - 3s 4ms/step - loss: 0.0162 - accuracy: 0.9980\n",
      "Epoch 13/100\n",
      "640/640 [==============================] - 3s 5ms/step - loss: 0.0148 - accuracy: 0.9980\n",
      "Epoch 14/100\n",
      "640/640 [==============================] - 3s 4ms/step - loss: 0.0143 - accuracy: 0.9980\n",
      "Epoch 15/100\n",
      "640/640 [==============================] - 3s 4ms/step - loss: 0.0138 - accuracy: 0.9980\n",
      "Epoch 16/100\n",
      "640/640 [==============================] - 3s 5ms/step - loss: 0.0132 - accuracy: 0.9980\n",
      "Epoch 17/100\n",
      "640/640 [==============================] - 3s 5ms/step - loss: 0.0131 - accuracy: 0.9980\n",
      "Epoch 18/100\n",
      "640/640 [==============================] - 3s 4ms/step - loss: 0.0128 - accuracy: 0.9980\n",
      "Epoch 19/100\n",
      "640/640 [==============================] - 3s 4ms/step - loss: 0.0126 - accuracy: 0.9980\n",
      "Epoch 20/100\n",
      "640/640 [==============================] - 3s 4ms/step - loss: 0.0126 - accuracy: 0.9980\n",
      "Epoch 21/100\n",
      "640/640 [==============================] - 3s 4ms/step - loss: 0.0123 - accuracy: 0.9980\n",
      "Epoch 22/100\n",
      "640/640 [==============================] - 3s 4ms/step - loss: 0.0122 - accuracy: 0.9980\n",
      "Epoch 23/100\n",
      "640/640 [==============================] - 3s 5ms/step - loss: 0.0123 - accuracy: 0.9980\n",
      "Epoch 24/100\n",
      "640/640 [==============================] - 3s 4ms/step - loss: 0.0123 - accuracy: 0.9980\n",
      "Epoch 25/100\n",
      "640/640 [==============================] - 3s 4ms/step - loss: 0.0122 - accuracy: 0.9980\n",
      "Epoch 26/100\n",
      "640/640 [==============================] - 3s 5ms/step - loss: 0.0121 - accuracy: 0.9980\n",
      "Epoch 27/100\n",
      "640/640 [==============================] - 3s 4ms/step - loss: 0.0121 - accuracy: 0.9980\n",
      "Epoch 28/100\n",
      "640/640 [==============================] - 3s 5ms/step - loss: 0.0120 - accuracy: 0.9980\n",
      "Epoch 29/100\n",
      "640/640 [==============================] - 3s 4ms/step - loss: 0.0121 - accuracy: 0.9980\n",
      "Epoch 30/100\n",
      "640/640 [==============================] - 3s 4ms/step - loss: 0.0120 - accuracy: 0.9980\n",
      "Epoch 31/100\n",
      "640/640 [==============================] - 3s 4ms/step - loss: 0.0120 - accuracy: 0.9980\n",
      "Epoch 32/100\n",
      "640/640 [==============================] - 3s 5ms/step - loss: 0.0118 - accuracy: 0.9978\n",
      "Epoch 33/100\n",
      "640/640 [==============================] - 3s 4ms/step - loss: 0.0119 - accuracy: 0.9980\n",
      "Epoch 34/100\n",
      "640/640 [==============================] - 3s 4ms/step - loss: 0.0119 - accuracy: 0.9980\n",
      "Epoch 35/100\n",
      "640/640 [==============================] - 3s 4ms/step - loss: 0.0118 - accuracy: 0.9978\n",
      "Epoch 36/100\n",
      "640/640 [==============================] - 3s 4ms/step - loss: 0.0118 - accuracy: 0.9980\n",
      "Epoch 37/100\n",
      "640/640 [==============================] - 3s 4ms/step - loss: 0.0118 - accuracy: 0.9980\n",
      "Epoch 38/100\n",
      "640/640 [==============================] - 3s 4ms/step - loss: 0.0119 - accuracy: 0.9980\n",
      "Epoch 39/100\n",
      "640/640 [==============================] - 3s 5ms/step - loss: 0.0118 - accuracy: 0.9980\n",
      "Epoch 40/100\n",
      "640/640 [==============================] - 3s 4ms/step - loss: 0.0118 - accuracy: 0.9980\n",
      "Epoch 41/100\n",
      "640/640 [==============================] - 3s 4ms/step - loss: 0.0117 - accuracy: 0.9981\n",
      "Epoch 42/100\n",
      "640/640 [==============================] - 3s 4ms/step - loss: 0.0117 - accuracy: 0.9980\n",
      "Epoch 43/100\n",
      "640/640 [==============================] - 3s 4ms/step - loss: 0.0115 - accuracy: 0.9980\n",
      "Epoch 44/100\n",
      "640/640 [==============================] - 3s 4ms/step - loss: 0.0118 - accuracy: 0.9980\n",
      "Epoch 45/100\n",
      "640/640 [==============================] - 3s 5ms/step - loss: 0.0116 - accuracy: 0.9980\n",
      "Epoch 46/100\n",
      "640/640 [==============================] - 3s 5ms/step - loss: 0.0117 - accuracy: 0.9980\n",
      "Epoch 47/100\n",
      "640/640 [==============================] - 3s 4ms/step - loss: 0.0116 - accuracy: 0.9980\n",
      "Epoch 48/100\n",
      "640/640 [==============================] - 3s 4ms/step - loss: 0.0115 - accuracy: 0.9980\n",
      "Epoch 49/100\n",
      "640/640 [==============================] - 3s 4ms/step - loss: 0.0116 - accuracy: 0.9980\n",
      "Epoch 50/100\n",
      "640/640 [==============================] - 3s 4ms/step - loss: 0.0116 - accuracy: 0.9980\n",
      "Epoch 51/100\n",
      "640/640 [==============================] - 3s 4ms/step - loss: 0.0116 - accuracy: 0.9980\n",
      "Epoch 52/100\n",
      "640/640 [==============================] - 3s 5ms/step - loss: 0.0116 - accuracy: 0.9980\n",
      "Epoch 53/100\n",
      "640/640 [==============================] - 3s 4ms/step - loss: 0.0115 - accuracy: 0.9980\n",
      "Epoch 54/100\n",
      "640/640 [==============================] - 3s 4ms/step - loss: 0.0115 - accuracy: 0.9981\n",
      "Epoch 55/100\n",
      "640/640 [==============================] - 3s 4ms/step - loss: 0.0114 - accuracy: 0.9980\n",
      "Epoch 56/100\n",
      "640/640 [==============================] - 3s 4ms/step - loss: 0.0115 - accuracy: 0.9980\n",
      "Epoch 57/100\n",
      "640/640 [==============================] - 3s 5ms/step - loss: 0.0114 - accuracy: 0.9980\n",
      "Epoch 58/100\n",
      "640/640 [==============================] - 3s 4ms/step - loss: 0.0113 - accuracy: 0.9981\n",
      "Epoch 59/100\n",
      "640/640 [==============================] - 3s 4ms/step - loss: 0.0115 - accuracy: 0.9980\n",
      "Epoch 60/100\n",
      "640/640 [==============================] - 3s 4ms/step - loss: 0.0113 - accuracy: 0.9980\n",
      "Epoch 61/100\n",
      "640/640 [==============================] - 3s 4ms/step - loss: 0.0115 - accuracy: 0.9980\n",
      "Epoch 62/100\n",
      "640/640 [==============================] - 3s 5ms/step - loss: 0.0113 - accuracy: 0.9980\n",
      "Epoch 63/100\n",
      "640/640 [==============================] - 3s 4ms/step - loss: 0.0112 - accuracy: 0.9980\n",
      "Epoch 64/100\n",
      "640/640 [==============================] - 3s 4ms/step - loss: 0.0113 - accuracy: 0.9980\n",
      "Epoch 65/100\n",
      "640/640 [==============================] - 3s 4ms/step - loss: 0.0114 - accuracy: 0.9980\n",
      "Epoch 66/100\n",
      "640/640 [==============================] - 3s 5ms/step - loss: 0.0112 - accuracy: 0.9980\n",
      "Epoch 67/100\n",
      "640/640 [==============================] - 3s 4ms/step - loss: 0.0110 - accuracy: 0.9980\n",
      "Epoch 68/100\n",
      "640/640 [==============================] - 3s 4ms/step - loss: 0.0110 - accuracy: 0.9980\n",
      "Epoch 69/100\n",
      "640/640 [==============================] - 3s 4ms/step - loss: 0.0114 - accuracy: 0.9981\n",
      "Epoch 70/100\n",
      "640/640 [==============================] - 3s 5ms/step - loss: 0.0112 - accuracy: 0.9980\n",
      "Epoch 71/100\n",
      "640/640 [==============================] - 3s 4ms/step - loss: 0.0113 - accuracy: 0.9980\n",
      "Epoch 72/100\n",
      "640/640 [==============================] - 3s 4ms/step - loss: 0.0108 - accuracy: 0.9980\n",
      "Epoch 73/100\n",
      "640/640 [==============================] - 3s 5ms/step - loss: 0.0114 - accuracy: 0.9980\n",
      "Epoch 74/100\n",
      "640/640 [==============================] - 3s 4ms/step - loss: 0.0112 - accuracy: 0.9981\n",
      "Epoch 75/100\n",
      "640/640 [==============================] - 3s 4ms/step - loss: 0.0110 - accuracy: 0.9981\n",
      "Epoch 76/100\n",
      "640/640 [==============================] - 3s 4ms/step - loss: 0.0112 - accuracy: 0.9980\n",
      "Epoch 77/100\n",
      "640/640 [==============================] - 3s 5ms/step - loss: 0.0111 - accuracy: 0.9980\n",
      "Epoch 78/100\n",
      "640/640 [==============================] - 3s 4ms/step - loss: 0.0111 - accuracy: 0.9980\n",
      "Epoch 79/100\n",
      "640/640 [==============================] - 3s 4ms/step - loss: 0.0111 - accuracy: 0.9980\n",
      "Epoch 80/100\n",
      "640/640 [==============================] - 3s 4ms/step - loss: 0.0112 - accuracy: 0.9980\n",
      "Epoch 81/100\n",
      "640/640 [==============================] - 3s 5ms/step - loss: 0.0111 - accuracy: 0.9980\n",
      "Epoch 82/100\n",
      "640/640 [==============================] - 3s 4ms/step - loss: 0.0109 - accuracy: 0.9980\n",
      "Epoch 83/100\n",
      "640/640 [==============================] - 3s 4ms/step - loss: 0.0110 - accuracy: 0.9981\n",
      "Epoch 84/100\n",
      "640/640 [==============================] - 3s 4ms/step - loss: 0.0107 - accuracy: 0.9981\n",
      "Epoch 85/100\n",
      "640/640 [==============================] - 3s 4ms/step - loss: 0.0112 - accuracy: 0.9980\n",
      "Epoch 86/100\n",
      "640/640 [==============================] - 3s 4ms/step - loss: 0.0111 - accuracy: 0.9981\n",
      "Epoch 87/100\n",
      "640/640 [==============================] - 3s 4ms/step - loss: 0.0110 - accuracy: 0.9980\n",
      "Epoch 88/100\n",
      "640/640 [==============================] - 3s 4ms/step - loss: 0.0110 - accuracy: 0.9980\n",
      "Epoch 89/100\n",
      "640/640 [==============================] - 3s 4ms/step - loss: 0.0109 - accuracy: 0.9981\n",
      "Epoch 90/100\n",
      "640/640 [==============================] - 3s 4ms/step - loss: 0.0110 - accuracy: 0.9980\n",
      "Epoch 91/100\n",
      "640/640 [==============================] - 3s 4ms/step - loss: 0.0109 - accuracy: 0.9981\n",
      "Epoch 92/100\n",
      "640/640 [==============================] - 3s 4ms/step - loss: 0.0107 - accuracy: 0.9981\n",
      "Epoch 93/100\n",
      "640/640 [==============================] - 3s 4ms/step - loss: 0.0111 - accuracy: 0.9981\n",
      "Epoch 94/100\n",
      "640/640 [==============================] - 3s 4ms/step - loss: 0.0106 - accuracy: 0.9980\n",
      "Epoch 95/100\n",
      "640/640 [==============================] - 3s 5ms/step - loss: 0.0108 - accuracy: 0.9980\n",
      "Epoch 96/100\n",
      "640/640 [==============================] - 3s 4ms/step - loss: 0.0110 - accuracy: 0.9980\n",
      "Epoch 97/100\n",
      "640/640 [==============================] - 3s 4ms/step - loss: 0.0108 - accuracy: 0.9981\n",
      "Epoch 98/100\n",
      "640/640 [==============================] - 3s 4ms/step - loss: 0.0110 - accuracy: 0.9980\n",
      "Epoch 99/100\n",
      "640/640 [==============================] - 3s 4ms/step - loss: 0.0108 - accuracy: 0.9981\n",
      "Epoch 100/100\n",
      "640/640 [==============================] - 3s 4ms/step - loss: 0.0108 - accuracy: 0.9981\n",
      "160/160 [==============================] - 1s 4ms/step\n"
     ]
    },
    {
     "name": "stderr",
     "output_type": "stream",
     "text": [
      "WARNING:absl:Found untraced functions such as _update_step_xla while saving (showing 1 of 1). These functions will not be directly callable after loading.\n"
     ]
    },
    {
     "name": "stdout",
     "output_type": "stream",
     "text": [
      "INFO:tensorflow:Assets written to: C:\\Users\\shubh\\AppData\\Local\\Temp\\tmpxykjcjp7\\assets\n"
     ]
    },
    {
     "name": "stderr",
     "output_type": "stream",
     "text": [
      "INFO:tensorflow:Assets written to: C:\\Users\\shubh\\AppData\\Local\\Temp\\tmpxykjcjp7\\assets\n"
     ]
    },
    {
     "name": "stdout",
     "output_type": "stream",
     "text": [
      "WARNING:tensorflow:Detecting that an object or model or tf.train.Checkpoint is being deleted with unrestored values. See the following logs for the specific values in question. To silence these warnings, use `status.expect_partial()`. See https://www.tensorflow.org/api_docs/python/tf/train/Checkpoint#restorefor details about the status object returned by the restore function.\n"
     ]
    },
    {
     "name": "stderr",
     "output_type": "stream",
     "text": [
      "WARNING:tensorflow:Detecting that an object or model or tf.train.Checkpoint is being deleted with unrestored values. See the following logs for the specific values in question. To silence these warnings, use `status.expect_partial()`. See https://www.tensorflow.org/api_docs/python/tf/train/Checkpoint#restorefor details about the status object returned by the restore function.\n"
     ]
    },
    {
     "name": "stdout",
     "output_type": "stream",
     "text": [
      "WARNING:tensorflow:Value in checkpoint could not be found in the restored object: (root).keras_api.metrics.0.total\n"
     ]
    },
    {
     "name": "stderr",
     "output_type": "stream",
     "text": [
      "WARNING:tensorflow:Value in checkpoint could not be found in the restored object: (root).keras_api.metrics.0.total\n"
     ]
    },
    {
     "name": "stdout",
     "output_type": "stream",
     "text": [
      "WARNING:tensorflow:Value in checkpoint could not be found in the restored object: (root).keras_api.metrics.0.count\n"
     ]
    },
    {
     "name": "stderr",
     "output_type": "stream",
     "text": [
      "WARNING:tensorflow:Value in checkpoint could not be found in the restored object: (root).keras_api.metrics.0.count\n"
     ]
    },
    {
     "name": "stdout",
     "output_type": "stream",
     "text": [
      "WARNING:tensorflow:Value in checkpoint could not be found in the restored object: (root).keras_api.metrics.1.total\n"
     ]
    },
    {
     "name": "stderr",
     "output_type": "stream",
     "text": [
      "WARNING:tensorflow:Value in checkpoint could not be found in the restored object: (root).keras_api.metrics.1.total\n"
     ]
    },
    {
     "name": "stdout",
     "output_type": "stream",
     "text": [
      "WARNING:tensorflow:Value in checkpoint could not be found in the restored object: (root).keras_api.metrics.1.count\n"
     ]
    },
    {
     "name": "stderr",
     "output_type": "stream",
     "text": [
      "WARNING:tensorflow:Value in checkpoint could not be found in the restored object: (root).keras_api.metrics.1.count\n"
     ]
    },
    {
     "name": "stdout",
     "output_type": "stream",
     "text": [
      "WARNING:tensorflow:Detecting that an object or model or tf.train.Checkpoint is being deleted with unrestored values. See the following logs for the specific values in question. To silence these warnings, use `status.expect_partial()`. See https://www.tensorflow.org/api_docs/python/tf/train/Checkpoint#restorefor details about the status object returned by the restore function.\n"
     ]
    },
    {
     "name": "stderr",
     "output_type": "stream",
     "text": [
      "WARNING:tensorflow:Detecting that an object or model or tf.train.Checkpoint is being deleted with unrestored values. See the following logs for the specific values in question. To silence these warnings, use `status.expect_partial()`. See https://www.tensorflow.org/api_docs/python/tf/train/Checkpoint#restorefor details about the status object returned by the restore function.\n"
     ]
    },
    {
     "name": "stdout",
     "output_type": "stream",
     "text": [
      "WARNING:tensorflow:Value in checkpoint could not be found in the restored object: (root).keras_api.metrics.0.total\n"
     ]
    },
    {
     "name": "stderr",
     "output_type": "stream",
     "text": [
      "WARNING:tensorflow:Value in checkpoint could not be found in the restored object: (root).keras_api.metrics.0.total\n"
     ]
    },
    {
     "name": "stdout",
     "output_type": "stream",
     "text": [
      "WARNING:tensorflow:Value in checkpoint could not be found in the restored object: (root).keras_api.metrics.0.count\n"
     ]
    },
    {
     "name": "stderr",
     "output_type": "stream",
     "text": [
      "WARNING:tensorflow:Value in checkpoint could not be found in the restored object: (root).keras_api.metrics.0.count\n"
     ]
    },
    {
     "name": "stdout",
     "output_type": "stream",
     "text": [
      "WARNING:tensorflow:Value in checkpoint could not be found in the restored object: (root).keras_api.metrics.1.total\n"
     ]
    },
    {
     "name": "stderr",
     "output_type": "stream",
     "text": [
      "WARNING:tensorflow:Value in checkpoint could not be found in the restored object: (root).keras_api.metrics.1.total\n"
     ]
    },
    {
     "name": "stdout",
     "output_type": "stream",
     "text": [
      "WARNING:tensorflow:Value in checkpoint could not be found in the restored object: (root).keras_api.metrics.1.count\n"
     ]
    },
    {
     "name": "stderr",
     "output_type": "stream",
     "text": [
      "WARNING:tensorflow:Value in checkpoint could not be found in the restored object: (root).keras_api.metrics.1.count\n"
     ]
    },
    {
     "name": "stdout",
     "output_type": "stream",
     "text": [
      "WARNING:tensorflow:Detecting that an object or model or tf.train.Checkpoint is being deleted with unrestored values. See the following logs for the specific values in question. To silence these warnings, use `status.expect_partial()`. See https://www.tensorflow.org/api_docs/python/tf/train/Checkpoint#restorefor details about the status object returned by the restore function.\n"
     ]
    },
    {
     "name": "stderr",
     "output_type": "stream",
     "text": [
      "WARNING:tensorflow:Detecting that an object or model or tf.train.Checkpoint is being deleted with unrestored values. See the following logs for the specific values in question. To silence these warnings, use `status.expect_partial()`. See https://www.tensorflow.org/api_docs/python/tf/train/Checkpoint#restorefor details about the status object returned by the restore function.\n"
     ]
    },
    {
     "name": "stdout",
     "output_type": "stream",
     "text": [
      "WARNING:tensorflow:Value in checkpoint could not be found in the restored object: (root).keras_api.metrics.0.total\n"
     ]
    },
    {
     "name": "stderr",
     "output_type": "stream",
     "text": [
      "WARNING:tensorflow:Value in checkpoint could not be found in the restored object: (root).keras_api.metrics.0.total\n"
     ]
    },
    {
     "name": "stdout",
     "output_type": "stream",
     "text": [
      "WARNING:tensorflow:Value in checkpoint could not be found in the restored object: (root).keras_api.metrics.0.count\n"
     ]
    },
    {
     "name": "stderr",
     "output_type": "stream",
     "text": [
      "WARNING:tensorflow:Value in checkpoint could not be found in the restored object: (root).keras_api.metrics.0.count\n"
     ]
    },
    {
     "name": "stdout",
     "output_type": "stream",
     "text": [
      "WARNING:tensorflow:Value in checkpoint could not be found in the restored object: (root).keras_api.metrics.1.total\n"
     ]
    },
    {
     "name": "stderr",
     "output_type": "stream",
     "text": [
      "WARNING:tensorflow:Value in checkpoint could not be found in the restored object: (root).keras_api.metrics.1.total\n"
     ]
    },
    {
     "name": "stdout",
     "output_type": "stream",
     "text": [
      "WARNING:tensorflow:Value in checkpoint could not be found in the restored object: (root).keras_api.metrics.1.count\n"
     ]
    },
    {
     "name": "stderr",
     "output_type": "stream",
     "text": [
      "WARNING:tensorflow:Value in checkpoint could not be found in the restored object: (root).keras_api.metrics.1.count\n"
     ]
    },
    {
     "name": "stdout",
     "output_type": "stream",
     "text": [
      "WARNING:tensorflow:Detecting that an object or model or tf.train.Checkpoint is being deleted with unrestored values. See the following logs for the specific values in question. To silence these warnings, use `status.expect_partial()`. See https://www.tensorflow.org/api_docs/python/tf/train/Checkpoint#restorefor details about the status object returned by the restore function.\n"
     ]
    },
    {
     "name": "stderr",
     "output_type": "stream",
     "text": [
      "WARNING:tensorflow:Detecting that an object or model or tf.train.Checkpoint is being deleted with unrestored values. See the following logs for the specific values in question. To silence these warnings, use `status.expect_partial()`. See https://www.tensorflow.org/api_docs/python/tf/train/Checkpoint#restorefor details about the status object returned by the restore function.\n"
     ]
    },
    {
     "name": "stdout",
     "output_type": "stream",
     "text": [
      "WARNING:tensorflow:Value in checkpoint could not be found in the restored object: (root).keras_api.metrics.0.total\n"
     ]
    },
    {
     "name": "stderr",
     "output_type": "stream",
     "text": [
      "WARNING:tensorflow:Value in checkpoint could not be found in the restored object: (root).keras_api.metrics.0.total\n"
     ]
    },
    {
     "name": "stdout",
     "output_type": "stream",
     "text": [
      "WARNING:tensorflow:Value in checkpoint could not be found in the restored object: (root).keras_api.metrics.0.count\n"
     ]
    },
    {
     "name": "stderr",
     "output_type": "stream",
     "text": [
      "WARNING:tensorflow:Value in checkpoint could not be found in the restored object: (root).keras_api.metrics.0.count\n"
     ]
    },
    {
     "name": "stdout",
     "output_type": "stream",
     "text": [
      "WARNING:tensorflow:Value in checkpoint could not be found in the restored object: (root).keras_api.metrics.1.total\n"
     ]
    },
    {
     "name": "stderr",
     "output_type": "stream",
     "text": [
      "WARNING:tensorflow:Value in checkpoint could not be found in the restored object: (root).keras_api.metrics.1.total\n"
     ]
    },
    {
     "name": "stdout",
     "output_type": "stream",
     "text": [
      "WARNING:tensorflow:Value in checkpoint could not be found in the restored object: (root).keras_api.metrics.1.count\n"
     ]
    },
    {
     "name": "stderr",
     "output_type": "stream",
     "text": [
      "WARNING:tensorflow:Value in checkpoint could not be found in the restored object: (root).keras_api.metrics.1.count\n"
     ]
    },
    {
     "name": "stdout",
     "output_type": "stream",
     "text": [
      "WARNING:tensorflow:Detecting that an object or model or tf.train.Checkpoint is being deleted with unrestored values. See the following logs for the specific values in question. To silence these warnings, use `status.expect_partial()`. See https://www.tensorflow.org/api_docs/python/tf/train/Checkpoint#restorefor details about the status object returned by the restore function.\n"
     ]
    },
    {
     "name": "stderr",
     "output_type": "stream",
     "text": [
      "WARNING:tensorflow:Detecting that an object or model or tf.train.Checkpoint is being deleted with unrestored values. See the following logs for the specific values in question. To silence these warnings, use `status.expect_partial()`. See https://www.tensorflow.org/api_docs/python/tf/train/Checkpoint#restorefor details about the status object returned by the restore function.\n"
     ]
    },
    {
     "name": "stdout",
     "output_type": "stream",
     "text": [
      "WARNING:tensorflow:Value in checkpoint could not be found in the restored object: (root).keras_api.metrics.0.total\n"
     ]
    },
    {
     "name": "stderr",
     "output_type": "stream",
     "text": [
      "WARNING:tensorflow:Value in checkpoint could not be found in the restored object: (root).keras_api.metrics.0.total\n"
     ]
    },
    {
     "name": "stdout",
     "output_type": "stream",
     "text": [
      "WARNING:tensorflow:Value in checkpoint could not be found in the restored object: (root).keras_api.metrics.0.count\n"
     ]
    },
    {
     "name": "stderr",
     "output_type": "stream",
     "text": [
      "WARNING:tensorflow:Value in checkpoint could not be found in the restored object: (root).keras_api.metrics.0.count\n"
     ]
    },
    {
     "name": "stdout",
     "output_type": "stream",
     "text": [
      "WARNING:tensorflow:Value in checkpoint could not be found in the restored object: (root).keras_api.metrics.1.total\n"
     ]
    },
    {
     "name": "stderr",
     "output_type": "stream",
     "text": [
      "WARNING:tensorflow:Value in checkpoint could not be found in the restored object: (root).keras_api.metrics.1.total\n"
     ]
    },
    {
     "name": "stdout",
     "output_type": "stream",
     "text": [
      "WARNING:tensorflow:Value in checkpoint could not be found in the restored object: (root).keras_api.metrics.1.count\n"
     ]
    },
    {
     "name": "stderr",
     "output_type": "stream",
     "text": [
      "WARNING:tensorflow:Value in checkpoint could not be found in the restored object: (root).keras_api.metrics.1.count\n"
     ]
    },
    {
     "name": "stdout",
     "output_type": "stream",
     "text": [
      "Epoch 1/100\n",
      "640/640 [==============================] - 5s 4ms/step - loss: 0.3315 - accuracy: 0.8048\n",
      "Epoch 2/100\n",
      "640/640 [==============================] - 3s 4ms/step - loss: 0.1248 - accuracy: 0.9983\n",
      "Epoch 3/100\n",
      "640/640 [==============================] - 3s 5ms/step - loss: 0.0908 - accuracy: 0.9987\n",
      "Epoch 4/100\n",
      "640/640 [==============================] - 3s 5ms/step - loss: 0.0668 - accuracy: 0.9987\n",
      "Epoch 5/100\n",
      "640/640 [==============================] - 3s 5ms/step - loss: 0.0499 - accuracy: 0.9987\n",
      "Epoch 6/100\n",
      "640/640 [==============================] - 3s 5ms/step - loss: 0.0378 - accuracy: 0.9987\n",
      "Epoch 7/100\n",
      "640/640 [==============================] - 3s 5ms/step - loss: 0.0292 - accuracy: 0.9987\n",
      "Epoch 8/100\n",
      "640/640 [==============================] - 3s 4ms/step - loss: 0.0232 - accuracy: 0.9987\n",
      "Epoch 9/100\n",
      "640/640 [==============================] - 3s 5ms/step - loss: 0.0188 - accuracy: 0.9987\n",
      "Epoch 10/100\n",
      "640/640 [==============================] - 3s 4ms/step - loss: 0.0154 - accuracy: 0.9989\n",
      "Epoch 11/100\n",
      "640/640 [==============================] - 3s 4ms/step - loss: 0.0133 - accuracy: 0.9987\n",
      "Epoch 12/100\n",
      "640/640 [==============================] - 3s 4ms/step - loss: 0.0115 - accuracy: 0.9987\n",
      "Epoch 13/100\n",
      "640/640 [==============================] - 3s 5ms/step - loss: 0.0103 - accuracy: 0.9987\n",
      "Epoch 14/100\n",
      "640/640 [==============================] - 3s 5ms/step - loss: 0.0094 - accuracy: 0.9987\n",
      "Epoch 15/100\n",
      "640/640 [==============================] - 3s 4ms/step - loss: 0.0088 - accuracy: 0.9989\n",
      "Epoch 16/100\n",
      "640/640 [==============================] - 3s 4ms/step - loss: 0.0082 - accuracy: 0.9989\n",
      "Epoch 17/100\n",
      "640/640 [==============================] - 3s 4ms/step - loss: 0.0079 - accuracy: 0.9989\n",
      "Epoch 18/100\n",
      "640/640 [==============================] - 3s 5ms/step - loss: 0.0077 - accuracy: 0.9989\n",
      "Epoch 19/100\n",
      "640/640 [==============================] - 3s 5ms/step - loss: 0.0075 - accuracy: 0.9989\n",
      "Epoch 20/100\n",
      "640/640 [==============================] - 3s 4ms/step - loss: 0.0075 - accuracy: 0.9989\n",
      "Epoch 21/100\n",
      "640/640 [==============================] - 3s 5ms/step - loss: 0.0072 - accuracy: 0.9989\n",
      "Epoch 22/100\n",
      "640/640 [==============================] - 3s 4ms/step - loss: 0.0072 - accuracy: 0.9989\n",
      "Epoch 23/100\n",
      "640/640 [==============================] - 3s 4ms/step - loss: 0.0071 - accuracy: 0.9989\n",
      "Epoch 24/100\n",
      "640/640 [==============================] - 3s 4ms/step - loss: 0.0070 - accuracy: 0.9989\n",
      "Epoch 25/100\n",
      "640/640 [==============================] - 3s 4ms/step - loss: 0.0070 - accuracy: 0.9989\n",
      "Epoch 26/100\n",
      "640/640 [==============================] - 3s 5ms/step - loss: 0.0070 - accuracy: 0.9989\n",
      "Epoch 27/100\n",
      "640/640 [==============================] - 3s 4ms/step - loss: 0.0069 - accuracy: 0.9989\n",
      "Epoch 28/100\n",
      "640/640 [==============================] - 3s 4ms/step - loss: 0.0069 - accuracy: 0.9989\n",
      "Epoch 29/100\n",
      "640/640 [==============================] - 3s 5ms/step - loss: 0.0069 - accuracy: 0.9989\n",
      "Epoch 30/100\n",
      "640/640 [==============================] - 3s 5ms/step - loss: 0.0069 - accuracy: 0.9989\n",
      "Epoch 31/100\n",
      "640/640 [==============================] - 3s 5ms/step - loss: 0.0069 - accuracy: 0.9989\n",
      "Epoch 32/100\n",
      "640/640 [==============================] - 3s 5ms/step - loss: 0.0069 - accuracy: 0.9989\n",
      "Epoch 33/100\n",
      "640/640 [==============================] - 3s 5ms/step - loss: 0.0069 - accuracy: 0.9989\n",
      "Epoch 34/100\n",
      "640/640 [==============================] - 3s 4ms/step - loss: 0.0069 - accuracy: 0.9989\n",
      "Epoch 35/100\n",
      "640/640 [==============================] - 3s 4ms/step - loss: 0.0069 - accuracy: 0.9989\n",
      "Epoch 36/100\n",
      "640/640 [==============================] - 3s 5ms/step - loss: 0.0068 - accuracy: 0.9989\n",
      "Epoch 37/100\n",
      "640/640 [==============================] - 3s 5ms/step - loss: 0.0068 - accuracy: 0.9989\n",
      "Epoch 38/100\n",
      "640/640 [==============================] - 3s 5ms/step - loss: 0.0068 - accuracy: 0.9989\n",
      "Epoch 39/100\n",
      "640/640 [==============================] - 3s 4ms/step - loss: 0.0069 - accuracy: 0.9989\n",
      "Epoch 40/100\n",
      "640/640 [==============================] - 3s 5ms/step - loss: 0.0070 - accuracy: 0.9987\n",
      "Epoch 41/100\n",
      "640/640 [==============================] - 3s 4ms/step - loss: 0.0068 - accuracy: 0.9989\n",
      "Epoch 42/100\n",
      "640/640 [==============================] - 3s 5ms/step - loss: 0.0068 - accuracy: 0.9989\n",
      "Epoch 43/100\n",
      "640/640 [==============================] - 3s 4ms/step - loss: 0.0068 - accuracy: 0.9989\n",
      "Epoch 44/100\n",
      "640/640 [==============================] - 3s 5ms/step - loss: 0.0068 - accuracy: 0.9989\n",
      "Epoch 45/100\n",
      "640/640 [==============================] - 3s 4ms/step - loss: 0.0068 - accuracy: 0.9989\n",
      "Epoch 46/100\n",
      "640/640 [==============================] - 3s 5ms/step - loss: 0.0068 - accuracy: 0.9989\n",
      "Epoch 47/100\n",
      "640/640 [==============================] - 3s 4ms/step - loss: 0.0068 - accuracy: 0.9989\n",
      "Epoch 48/100\n",
      "640/640 [==============================] - 3s 5ms/step - loss: 0.0068 - accuracy: 0.9989\n",
      "Epoch 49/100\n",
      "640/640 [==============================] - 3s 4ms/step - loss: 0.0068 - accuracy: 0.9989\n",
      "Epoch 50/100\n",
      "640/640 [==============================] - 3s 4ms/step - loss: 0.0068 - accuracy: 0.9989\n",
      "Epoch 51/100\n",
      "640/640 [==============================] - 3s 5ms/step - loss: 0.0068 - accuracy: 0.9989\n",
      "Epoch 52/100\n",
      "640/640 [==============================] - 3s 4ms/step - loss: 0.0068 - accuracy: 0.9989\n",
      "Epoch 53/100\n",
      "640/640 [==============================] - 3s 5ms/step - loss: 0.0071 - accuracy: 0.9987\n",
      "Epoch 54/100\n",
      "640/640 [==============================] - 3s 5ms/step - loss: 0.0068 - accuracy: 0.9989\n",
      "Epoch 55/100\n",
      "640/640 [==============================] - 3s 4ms/step - loss: 0.0068 - accuracy: 0.9989\n",
      "Epoch 56/100\n",
      "640/640 [==============================] - 3s 5ms/step - loss: 0.0068 - accuracy: 0.9989\n",
      "Epoch 57/100\n",
      "640/640 [==============================] - 3s 5ms/step - loss: 0.0068 - accuracy: 0.9989\n",
      "Epoch 58/100\n",
      "640/640 [==============================] - 3s 5ms/step - loss: 0.0068 - accuracy: 0.9989\n",
      "Epoch 59/100\n",
      "640/640 [==============================] - 3s 5ms/step - loss: 0.0068 - accuracy: 0.9989\n",
      "Epoch 60/100\n",
      "640/640 [==============================] - 3s 5ms/step - loss: 0.0068 - accuracy: 0.9989\n",
      "Epoch 61/100\n",
      "640/640 [==============================] - 3s 4ms/step - loss: 0.0068 - accuracy: 0.9989\n",
      "Epoch 62/100\n",
      "640/640 [==============================] - 3s 5ms/step - loss: 0.0068 - accuracy: 0.9989\n",
      "Epoch 63/100\n",
      "640/640 [==============================] - 3s 5ms/step - loss: 0.0068 - accuracy: 0.9989\n",
      "Epoch 64/100\n",
      "640/640 [==============================] - 3s 5ms/step - loss: 0.0068 - accuracy: 0.9989\n",
      "Epoch 65/100\n",
      "640/640 [==============================] - 3s 5ms/step - loss: 0.0068 - accuracy: 0.9989\n",
      "Epoch 66/100\n",
      "640/640 [==============================] - 3s 4ms/step - loss: 0.0068 - accuracy: 0.9989\n",
      "Epoch 67/100\n",
      "640/640 [==============================] - 3s 5ms/step - loss: 0.0068 - accuracy: 0.9989\n",
      "Epoch 68/100\n",
      "640/640 [==============================] - 3s 4ms/step - loss: 0.0068 - accuracy: 0.9989\n",
      "Epoch 69/100\n",
      "640/640 [==============================] - 3s 5ms/step - loss: 0.0068 - accuracy: 0.9989\n",
      "Epoch 70/100\n",
      "640/640 [==============================] - 3s 5ms/step - loss: 0.0068 - accuracy: 0.9989\n",
      "Epoch 71/100\n",
      "640/640 [==============================] - 3s 5ms/step - loss: 0.0068 - accuracy: 0.9989\n",
      "Epoch 72/100\n",
      "640/640 [==============================] - 3s 5ms/step - loss: 0.0068 - accuracy: 0.9989\n",
      "Epoch 73/100\n",
      "640/640 [==============================] - 3s 4ms/step - loss: 0.0068 - accuracy: 0.9989\n",
      "Epoch 74/100\n",
      "640/640 [==============================] - 3s 5ms/step - loss: 0.0068 - accuracy: 0.9989\n",
      "Epoch 75/100\n",
      "640/640 [==============================] - 3s 5ms/step - loss: 0.0069 - accuracy: 0.9989\n",
      "Epoch 76/100\n",
      "640/640 [==============================] - 3s 5ms/step - loss: 0.0068 - accuracy: 0.9989\n",
      "Epoch 77/100\n",
      "640/640 [==============================] - 3s 4ms/step - loss: 0.0068 - accuracy: 0.9989\n",
      "Epoch 78/100\n",
      "640/640 [==============================] - 3s 5ms/step - loss: 0.0068 - accuracy: 0.9989\n",
      "Epoch 79/100\n",
      "640/640 [==============================] - 3s 4ms/step - loss: 0.0068 - accuracy: 0.9989\n",
      "Epoch 80/100\n",
      "640/640 [==============================] - 3s 5ms/step - loss: 0.0068 - accuracy: 0.9989\n",
      "Epoch 81/100\n",
      "640/640 [==============================] - 3s 4ms/step - loss: 0.0068 - accuracy: 0.9989\n",
      "Epoch 82/100\n",
      "640/640 [==============================] - 3s 5ms/step - loss: 0.0068 - accuracy: 0.9989\n",
      "Epoch 83/100\n",
      "640/640 [==============================] - 3s 4ms/step - loss: 0.0068 - accuracy: 0.9989\n",
      "Epoch 84/100\n",
      "640/640 [==============================] - 3s 5ms/step - loss: 0.0068 - accuracy: 0.9989\n",
      "Epoch 85/100\n",
      "640/640 [==============================] - 3s 4ms/step - loss: 0.0068 - accuracy: 0.9989\n",
      "Epoch 86/100\n",
      "640/640 [==============================] - 3s 5ms/step - loss: 0.0068 - accuracy: 0.9989\n",
      "Epoch 87/100\n",
      "640/640 [==============================] - 3s 4ms/step - loss: 0.0068 - accuracy: 0.9989\n",
      "Epoch 88/100\n",
      "640/640 [==============================] - 3s 4ms/step - loss: 0.0068 - accuracy: 0.9989\n",
      "Epoch 89/100\n",
      "640/640 [==============================] - 3s 4ms/step - loss: 0.0068 - accuracy: 0.9989\n",
      "Epoch 90/100\n",
      "640/640 [==============================] - 3s 4ms/step - loss: 0.0068 - accuracy: 0.9989\n",
      "Epoch 91/100\n",
      "640/640 [==============================] - 3s 4ms/step - loss: 0.0068 - accuracy: 0.9989\n",
      "Epoch 92/100\n",
      "640/640 [==============================] - 3s 4ms/step - loss: 0.0068 - accuracy: 0.9989\n",
      "Epoch 93/100\n",
      "640/640 [==============================] - 3s 5ms/step - loss: 0.0068 - accuracy: 0.9989\n",
      "Epoch 94/100\n",
      "640/640 [==============================] - 3s 4ms/step - loss: 0.0068 - accuracy: 0.9989\n",
      "Epoch 95/100\n",
      "640/640 [==============================] - 3s 4ms/step - loss: 0.0068 - accuracy: 0.9989\n",
      "Epoch 96/100\n",
      "640/640 [==============================] - 3s 4ms/step - loss: 0.0068 - accuracy: 0.9989\n",
      "Epoch 97/100\n",
      "640/640 [==============================] - 3s 4ms/step - loss: 0.0072 - accuracy: 0.9987\n",
      "Epoch 98/100\n",
      "640/640 [==============================] - 3s 4ms/step - loss: 0.0068 - accuracy: 0.9989\n",
      "Epoch 99/100\n",
      "640/640 [==============================] - 3s 5ms/step - loss: 0.0068 - accuracy: 0.9989\n",
      "Epoch 100/100\n",
      "640/640 [==============================] - 3s 5ms/step - loss: 0.0068 - accuracy: 0.9989\n",
      "160/160 [==============================] - 1s 4ms/step\n"
     ]
    },
    {
     "name": "stderr",
     "output_type": "stream",
     "text": [
      "WARNING:absl:Found untraced functions such as _update_step_xla while saving (showing 1 of 1). These functions will not be directly callable after loading.\n"
     ]
    },
    {
     "name": "stdout",
     "output_type": "stream",
     "text": [
      "INFO:tensorflow:Assets written to: C:\\Users\\shubh\\AppData\\Local\\Temp\\tmp5ytie50k\\assets\n"
     ]
    },
    {
     "name": "stderr",
     "output_type": "stream",
     "text": [
      "INFO:tensorflow:Assets written to: C:\\Users\\shubh\\AppData\\Local\\Temp\\tmp5ytie50k\\assets\n"
     ]
    },
    {
     "name": "stdout",
     "output_type": "stream",
     "text": [
      "Epoch 1/100\n",
      "640/640 [==============================] - 5s 5ms/step - loss: 0.3349 - accuracy: 0.8048\n",
      "Epoch 2/100\n",
      "640/640 [==============================] - 3s 4ms/step - loss: 0.1272 - accuracy: 0.9983\n",
      "Epoch 3/100\n",
      "640/640 [==============================] - 3s 4ms/step - loss: 0.0938 - accuracy: 0.9984\n",
      "Epoch 4/100\n",
      "640/640 [==============================] - 3s 5ms/step - loss: 0.0698 - accuracy: 0.9984\n",
      "Epoch 5/100\n",
      "640/640 [==============================] - 3s 4ms/step - loss: 0.0528 - accuracy: 0.9984\n",
      "Epoch 6/100\n",
      "640/640 [==============================] - 3s 4ms/step - loss: 0.0406 - accuracy: 0.9984\n",
      "Epoch 7/100\n",
      "640/640 [==============================] - 3s 5ms/step - loss: 0.0321 - accuracy: 0.9984\n",
      "Epoch 8/100\n",
      "640/640 [==============================] - 3s 4ms/step - loss: 0.0262 - accuracy: 0.9984\n",
      "Epoch 9/100\n",
      "640/640 [==============================] - 3s 4ms/step - loss: 0.0216 - accuracy: 0.9984\n",
      "Epoch 10/100\n",
      "640/640 [==============================] - 3s 5ms/step - loss: 0.0184 - accuracy: 0.9984\n",
      "Epoch 11/100\n",
      "640/640 [==============================] - 3s 5ms/step - loss: 0.0161 - accuracy: 0.9984\n",
      "Epoch 12/100\n",
      "640/640 [==============================] - 3s 4ms/step - loss: 0.0144 - accuracy: 0.9984\n",
      "Epoch 13/100\n",
      "640/640 [==============================] - 3s 4ms/step - loss: 0.0133 - accuracy: 0.9984\n",
      "Epoch 14/100\n",
      "640/640 [==============================] - 3s 4ms/step - loss: 0.0123 - accuracy: 0.9984\n",
      "Epoch 15/100\n",
      "640/640 [==============================] - 3s 4ms/step - loss: 0.0116 - accuracy: 0.9984\n",
      "Epoch 16/100\n",
      "640/640 [==============================] - 3s 5ms/step - loss: 0.0112 - accuracy: 0.9984\n",
      "Epoch 17/100\n",
      "640/640 [==============================] - 3s 5ms/step - loss: 0.0105 - accuracy: 0.9984\n",
      "Epoch 18/100\n",
      "640/640 [==============================] - 3s 4ms/step - loss: 0.0106 - accuracy: 0.9984\n",
      "Epoch 19/100\n",
      "640/640 [==============================] - 3s 4ms/step - loss: 0.0104 - accuracy: 0.9984\n",
      "Epoch 20/100\n",
      "640/640 [==============================] - 3s 5ms/step - loss: 0.0104 - accuracy: 0.9984\n",
      "Epoch 21/100\n",
      "640/640 [==============================] - 3s 5ms/step - loss: 0.0101 - accuracy: 0.9984\n",
      "Epoch 22/100\n",
      "640/640 [==============================] - 3s 4ms/step - loss: 0.0101 - accuracy: 0.9984\n",
      "Epoch 23/100\n",
      "640/640 [==============================] - 3s 4ms/step - loss: 0.0101 - accuracy: 0.9984\n",
      "Epoch 24/100\n",
      "640/640 [==============================] - 3s 4ms/step - loss: 0.0100 - accuracy: 0.9984\n",
      "Epoch 25/100\n",
      "640/640 [==============================] - 3s 4ms/step - loss: 0.0100 - accuracy: 0.9984\n",
      "Epoch 26/100\n",
      "640/640 [==============================] - 3s 5ms/step - loss: 0.0099 - accuracy: 0.9983\n",
      "Epoch 27/100\n",
      "640/640 [==============================] - 3s 4ms/step - loss: 0.0098 - accuracy: 0.9984\n",
      "Epoch 28/100\n",
      "640/640 [==============================] - 3s 4ms/step - loss: 0.0099 - accuracy: 0.9984\n",
      "Epoch 29/100\n",
      "640/640 [==============================] - 3s 5ms/step - loss: 0.0097 - accuracy: 0.9984\n",
      "Epoch 30/100\n",
      "640/640 [==============================] - 3s 4ms/step - loss: 0.0096 - accuracy: 0.9984\n",
      "Epoch 31/100\n",
      "640/640 [==============================] - 3s 4ms/step - loss: 0.0099 - accuracy: 0.9984\n",
      "Epoch 32/100\n",
      "640/640 [==============================] - 3s 4ms/step - loss: 0.0098 - accuracy: 0.9984\n",
      "Epoch 33/100\n",
      "640/640 [==============================] - 3s 5ms/step - loss: 0.0097 - accuracy: 0.9984\n",
      "Epoch 34/100\n",
      "640/640 [==============================] - 3s 5ms/step - loss: 0.0097 - accuracy: 0.9984\n",
      "Epoch 35/100\n",
      "640/640 [==============================] - 3s 4ms/step - loss: 0.0098 - accuracy: 0.9984\n",
      "Epoch 36/100\n",
      "640/640 [==============================] - 3s 4ms/step - loss: 0.0098 - accuracy: 0.9984\n",
      "Epoch 37/100\n",
      "640/640 [==============================] - 3s 4ms/step - loss: 0.0098 - accuracy: 0.9983\n",
      "Epoch 38/100\n",
      "640/640 [==============================] - 3s 5ms/step - loss: 0.0096 - accuracy: 0.9984\n",
      "Epoch 39/100\n",
      "640/640 [==============================] - 3s 4ms/step - loss: 0.0097 - accuracy: 0.9984\n",
      "Epoch 40/100\n",
      "640/640 [==============================] - 3s 4ms/step - loss: 0.0097 - accuracy: 0.9984\n",
      "Epoch 41/100\n",
      "640/640 [==============================] - 3s 4ms/step - loss: 0.0097 - accuracy: 0.9984\n",
      "Epoch 42/100\n",
      "640/640 [==============================] - 3s 5ms/step - loss: 0.0095 - accuracy: 0.9984\n",
      "Epoch 43/100\n",
      "640/640 [==============================] - 3s 5ms/step - loss: 0.0097 - accuracy: 0.9983\n",
      "Epoch 44/100\n",
      "640/640 [==============================] - 3s 4ms/step - loss: 0.0095 - accuracy: 0.9984\n",
      "Epoch 45/100\n",
      "640/640 [==============================] - 3s 4ms/step - loss: 0.0097 - accuracy: 0.9984\n",
      "Epoch 46/100\n",
      "640/640 [==============================] - 3s 5ms/step - loss: 0.0094 - accuracy: 0.9984\n",
      "Epoch 47/100\n",
      "640/640 [==============================] - 3s 5ms/step - loss: 0.0098 - accuracy: 0.9984\n",
      "Epoch 48/100\n",
      "640/640 [==============================] - 3s 4ms/step - loss: 0.0096 - accuracy: 0.9984\n",
      "Epoch 49/100\n",
      "640/640 [==============================] - 3s 4ms/step - loss: 0.0096 - accuracy: 0.9984\n",
      "Epoch 50/100\n",
      "640/640 [==============================] - 3s 5ms/step - loss: 0.0097 - accuracy: 0.9984\n",
      "Epoch 51/100\n",
      "640/640 [==============================] - 3s 4ms/step - loss: 0.0097 - accuracy: 0.9984\n",
      "Epoch 52/100\n",
      "640/640 [==============================] - 3s 4ms/step - loss: 0.0095 - accuracy: 0.9983\n",
      "Epoch 53/100\n",
      "640/640 [==============================] - 3s 4ms/step - loss: 0.0097 - accuracy: 0.9984\n",
      "Epoch 54/100\n",
      "640/640 [==============================] - 3s 4ms/step - loss: 0.0093 - accuracy: 0.9984\n",
      "Epoch 55/100\n",
      "640/640 [==============================] - 3s 4ms/step - loss: 0.0097 - accuracy: 0.9984\n",
      "Epoch 56/100\n",
      "640/640 [==============================] - 3s 4ms/step - loss: 0.0096 - accuracy: 0.9984\n",
      "Epoch 57/100\n",
      "640/640 [==============================] - 3s 5ms/step - loss: 0.0095 - accuracy: 0.9984\n",
      "Epoch 58/100\n",
      "640/640 [==============================] - 3s 5ms/step - loss: 0.0097 - accuracy: 0.9984\n",
      "Epoch 59/100\n",
      "640/640 [==============================] - 3s 5ms/step - loss: 0.0096 - accuracy: 0.9984\n",
      "Epoch 60/100\n",
      "640/640 [==============================] - 3s 4ms/step - loss: 0.0096 - accuracy: 0.9983\n",
      "Epoch 61/100\n",
      "640/640 [==============================] - 3s 5ms/step - loss: 0.0097 - accuracy: 0.9984\n",
      "Epoch 62/100\n",
      "640/640 [==============================] - 3s 4ms/step - loss: 0.0095 - accuracy: 0.9984\n",
      "Epoch 63/100\n",
      "640/640 [==============================] - 3s 5ms/step - loss: 0.0097 - accuracy: 0.9984\n",
      "Epoch 64/100\n",
      "640/640 [==============================] - 3s 4ms/step - loss: 0.0096 - accuracy: 0.9984\n",
      "Epoch 65/100\n",
      "640/640 [==============================] - 3s 5ms/step - loss: 0.0096 - accuracy: 0.9983\n",
      "Epoch 66/100\n",
      "640/640 [==============================] - 3s 5ms/step - loss: 0.0096 - accuracy: 0.9984\n",
      "Epoch 67/100\n",
      "640/640 [==============================] - 3s 4ms/step - loss: 0.0096 - accuracy: 0.9984\n",
      "Epoch 68/100\n",
      "640/640 [==============================] - 3s 4ms/step - loss: 0.0096 - accuracy: 0.9984\n",
      "Epoch 69/100\n",
      "640/640 [==============================] - 3s 5ms/step - loss: 0.0096 - accuracy: 0.9984\n",
      "Epoch 70/100\n",
      "640/640 [==============================] - 3s 5ms/step - loss: 0.0096 - accuracy: 0.9984\n",
      "Epoch 71/100\n",
      "640/640 [==============================] - 3s 4ms/step - loss: 0.0096 - accuracy: 0.9984\n",
      "Epoch 72/100\n",
      "640/640 [==============================] - 3s 5ms/step - loss: 0.0097 - accuracy: 0.9984\n",
      "Epoch 73/100\n",
      "640/640 [==============================] - 3s 4ms/step - loss: 0.0096 - accuracy: 0.9984\n",
      "Epoch 74/100\n",
      "640/640 [==============================] - 3s 5ms/step - loss: 0.0097 - accuracy: 0.9984\n",
      "Epoch 75/100\n",
      "640/640 [==============================] - 3s 4ms/step - loss: 0.0096 - accuracy: 0.9984\n",
      "Epoch 76/100\n",
      "640/640 [==============================] - 3s 4ms/step - loss: 0.0095 - accuracy: 0.9984\n",
      "Epoch 77/100\n",
      "640/640 [==============================] - 3s 4ms/step - loss: 0.0097 - accuracy: 0.9984\n",
      "Epoch 78/100\n",
      "640/640 [==============================] - 3s 4ms/step - loss: 0.0095 - accuracy: 0.9984\n",
      "Epoch 79/100\n",
      "640/640 [==============================] - 3s 5ms/step - loss: 0.0098 - accuracy: 0.9983\n",
      "Epoch 80/100\n",
      "640/640 [==============================] - 3s 4ms/step - loss: 0.0096 - accuracy: 0.9984\n",
      "Epoch 81/100\n",
      "640/640 [==============================] - 3s 4ms/step - loss: 0.0097 - accuracy: 0.9984\n",
      "Epoch 82/100\n",
      "640/640 [==============================] - 3s 4ms/step - loss: 0.0095 - accuracy: 0.9984\n",
      "Epoch 83/100\n",
      "640/640 [==============================] - 3s 4ms/step - loss: 0.0097 - accuracy: 0.9984\n",
      "Epoch 84/100\n",
      "640/640 [==============================] - 3s 4ms/step - loss: 0.0095 - accuracy: 0.9984\n",
      "Epoch 85/100\n",
      "640/640 [==============================] - 3s 4ms/step - loss: 0.0097 - accuracy: 0.9984\n",
      "Epoch 86/100\n",
      "640/640 [==============================] - 3s 4ms/step - loss: 0.0096 - accuracy: 0.9984\n",
      "Epoch 87/100\n",
      "640/640 [==============================] - 3s 4ms/step - loss: 0.0096 - accuracy: 0.9984\n",
      "Epoch 88/100\n",
      "640/640 [==============================] - 3s 4ms/step - loss: 0.0095 - accuracy: 0.9984\n",
      "Epoch 89/100\n",
      "640/640 [==============================] - 3s 4ms/step - loss: 0.0097 - accuracy: 0.9984\n",
      "Epoch 90/100\n",
      "640/640 [==============================] - 3s 5ms/step - loss: 0.0096 - accuracy: 0.9984\n",
      "Epoch 91/100\n",
      "640/640 [==============================] - 3s 4ms/step - loss: 0.0096 - accuracy: 0.9984\n",
      "Epoch 92/100\n",
      "640/640 [==============================] - 3s 5ms/step - loss: 0.0096 - accuracy: 0.9984\n",
      "Epoch 93/100\n",
      "640/640 [==============================] - 3s 4ms/step - loss: 0.0095 - accuracy: 0.9984\n",
      "Epoch 94/100\n",
      "640/640 [==============================] - 3s 4ms/step - loss: 0.0097 - accuracy: 0.9983\n",
      "Epoch 95/100\n",
      "640/640 [==============================] - 3s 4ms/step - loss: 0.0095 - accuracy: 0.9984\n",
      "Epoch 96/100\n",
      "640/640 [==============================] - 3s 4ms/step - loss: 0.0097 - accuracy: 0.9984\n",
      "Epoch 97/100\n",
      "640/640 [==============================] - 3s 4ms/step - loss: 0.0096 - accuracy: 0.9984\n",
      "Epoch 98/100\n",
      "640/640 [==============================] - 3s 4ms/step - loss: 0.0095 - accuracy: 0.9983\n",
      "Epoch 99/100\n",
      "640/640 [==============================] - 3s 4ms/step - loss: 0.0096 - accuracy: 0.9984\n",
      "Epoch 100/100\n",
      "640/640 [==============================] - 3s 4ms/step - loss: 0.0095 - accuracy: 0.9983\n",
      "160/160 [==============================] - 1s 3ms/step\n"
     ]
    },
    {
     "name": "stderr",
     "output_type": "stream",
     "text": [
      "WARNING:absl:Found untraced functions such as _update_step_xla while saving (showing 1 of 1). These functions will not be directly callable after loading.\n"
     ]
    },
    {
     "name": "stdout",
     "output_type": "stream",
     "text": [
      "INFO:tensorflow:Assets written to: C:\\Users\\shubh\\AppData\\Local\\Temp\\tmpitxh31et\\assets\n"
     ]
    },
    {
     "name": "stderr",
     "output_type": "stream",
     "text": [
      "INFO:tensorflow:Assets written to: C:\\Users\\shubh\\AppData\\Local\\Temp\\tmpitxh31et\\assets\n"
     ]
    },
    {
     "name": "stdout",
     "output_type": "stream",
     "text": [
      "Epoch 1/100\n",
      "640/640 [==============================] - 5s 4ms/step - loss: 0.3160 - accuracy: 0.8616\n",
      "Epoch 2/100\n",
      "640/640 [==============================] - 3s 4ms/step - loss: 0.0592 - accuracy: 0.9983\n",
      "Epoch 3/100\n",
      "640/640 [==============================] - 3s 4ms/step - loss: 0.0239 - accuracy: 0.9983\n",
      "Epoch 4/100\n",
      "640/640 [==============================] - 3s 4ms/step - loss: 0.0152 - accuracy: 0.9983\n",
      "Epoch 5/100\n",
      "640/640 [==============================] - 3s 4ms/step - loss: 0.0125 - accuracy: 0.9983\n",
      "Epoch 6/100\n",
      "640/640 [==============================] - 3s 4ms/step - loss: 0.0114 - accuracy: 0.9983\n",
      "Epoch 7/100\n",
      "640/640 [==============================] - 3s 4ms/step - loss: 0.0109 - accuracy: 0.9983\n",
      "Epoch 8/100\n",
      "640/640 [==============================] - 3s 4ms/step - loss: 0.0108 - accuracy: 0.9983\n",
      "Epoch 9/100\n",
      "640/640 [==============================] - 3s 4ms/step - loss: 0.0106 - accuracy: 0.9983\n",
      "Epoch 10/100\n",
      "640/640 [==============================] - 3s 4ms/step - loss: 0.0106 - accuracy: 0.9983\n",
      "Epoch 11/100\n",
      "640/640 [==============================] - 3s 4ms/step - loss: 0.0105 - accuracy: 0.9983\n",
      "Epoch 12/100\n",
      "640/640 [==============================] - 3s 4ms/step - loss: 0.0103 - accuracy: 0.9983\n",
      "Epoch 13/100\n",
      "640/640 [==============================] - 3s 5ms/step - loss: 0.0105 - accuracy: 0.9983\n",
      "Epoch 14/100\n",
      "640/640 [==============================] - 3s 4ms/step - loss: 0.0105 - accuracy: 0.9983\n",
      "Epoch 15/100\n",
      "640/640 [==============================] - 3s 5ms/step - loss: 0.0104 - accuracy: 0.9983\n",
      "Epoch 16/100\n",
      "640/640 [==============================] - 3s 5ms/step - loss: 0.0104 - accuracy: 0.9981\n",
      "Epoch 17/100\n",
      "640/640 [==============================] - 3s 4ms/step - loss: 0.0103 - accuracy: 0.9983\n",
      "Epoch 18/100\n",
      "640/640 [==============================] - 3s 5ms/step - loss: 0.0104 - accuracy: 0.9981\n",
      "Epoch 19/100\n",
      "640/640 [==============================] - 3s 4ms/step - loss: 0.0103 - accuracy: 0.9983\n",
      "Epoch 20/100\n",
      "640/640 [==============================] - 3s 4ms/step - loss: 0.0101 - accuracy: 0.9983\n",
      "Epoch 21/100\n",
      "640/640 [==============================] - 3s 5ms/step - loss: 0.0099 - accuracy: 0.9983\n",
      "Epoch 22/100\n",
      "640/640 [==============================] - 3s 5ms/step - loss: 0.0103 - accuracy: 0.9983\n",
      "Epoch 23/100\n",
      "640/640 [==============================] - 3s 5ms/step - loss: 0.0102 - accuracy: 0.9983\n",
      "Epoch 24/100\n",
      "640/640 [==============================] - 3s 4ms/step - loss: 0.0102 - accuracy: 0.9983\n",
      "Epoch 25/100\n",
      "640/640 [==============================] - 3s 4ms/step - loss: 0.0100 - accuracy: 0.9983\n",
      "Epoch 26/100\n",
      "640/640 [==============================] - 3s 5ms/step - loss: 0.0099 - accuracy: 0.9983\n",
      "Epoch 27/100\n",
      "640/640 [==============================] - 3s 5ms/step - loss: 0.0101 - accuracy: 0.9983\n",
      "Epoch 28/100\n",
      "640/640 [==============================] - 3s 4ms/step - loss: 0.0101 - accuracy: 0.9981\n",
      "Epoch 29/100\n",
      "640/640 [==============================] - 3s 5ms/step - loss: 0.0098 - accuracy: 0.9983\n",
      "Epoch 30/100\n",
      "640/640 [==============================] - 3s 5ms/step - loss: 0.0098 - accuracy: 0.9983\n",
      "Epoch 31/100\n",
      "640/640 [==============================] - 3s 4ms/step - loss: 0.0098 - accuracy: 0.9983\n",
      "Epoch 32/100\n",
      "640/640 [==============================] - 3s 5ms/step - loss: 0.0098 - accuracy: 0.9983\n",
      "Epoch 33/100\n",
      "640/640 [==============================] - 3s 5ms/step - loss: 0.0096 - accuracy: 0.9983\n",
      "Epoch 34/100\n",
      "640/640 [==============================] - 3s 5ms/step - loss: 0.0097 - accuracy: 0.9983\n",
      "Epoch 35/100\n",
      "640/640 [==============================] - 3s 5ms/step - loss: 0.0099 - accuracy: 0.9983\n",
      "Epoch 36/100\n",
      "640/640 [==============================] - 3s 5ms/step - loss: 0.0097 - accuracy: 0.9983\n",
      "Epoch 37/100\n",
      "640/640 [==============================] - 3s 5ms/step - loss: 0.0097 - accuracy: 0.9983\n",
      "Epoch 38/100\n",
      "640/640 [==============================] - 3s 4ms/step - loss: 0.0094 - accuracy: 0.9983\n",
      "Epoch 39/100\n",
      "640/640 [==============================] - 3s 5ms/step - loss: 0.0096 - accuracy: 0.9983\n",
      "Epoch 40/100\n",
      "640/640 [==============================] - 3s 5ms/step - loss: 0.0094 - accuracy: 0.9984\n",
      "Epoch 41/100\n",
      "640/640 [==============================] - 3s 5ms/step - loss: 0.0097 - accuracy: 0.9983\n",
      "Epoch 42/100\n",
      "640/640 [==============================] - 3s 5ms/step - loss: 0.0094 - accuracy: 0.9983\n",
      "Epoch 43/100\n",
      "640/640 [==============================] - 3s 5ms/step - loss: 0.0096 - accuracy: 0.9983\n",
      "Epoch 44/100\n",
      "640/640 [==============================] - 3s 5ms/step - loss: 0.0091 - accuracy: 0.9983\n",
      "Epoch 45/100\n",
      "640/640 [==============================] - 3s 5ms/step - loss: 0.0095 - accuracy: 0.9984\n",
      "Epoch 46/100\n",
      "640/640 [==============================] - 3s 5ms/step - loss: 0.0092 - accuracy: 0.9983\n",
      "Epoch 47/100\n",
      "640/640 [==============================] - 3s 5ms/step - loss: 0.0092 - accuracy: 0.9983\n",
      "Epoch 48/100\n",
      "640/640 [==============================] - 3s 5ms/step - loss: 0.0092 - accuracy: 0.9983\n",
      "Epoch 49/100\n",
      "640/640 [==============================] - 3s 5ms/step - loss: 0.0092 - accuracy: 0.9984\n",
      "Epoch 50/100\n",
      "640/640 [==============================] - 3s 4ms/step - loss: 0.0089 - accuracy: 0.9984\n",
      "Epoch 51/100\n",
      "640/640 [==============================] - 3s 5ms/step - loss: 0.0092 - accuracy: 0.9984\n",
      "Epoch 52/100\n",
      "640/640 [==============================] - 3s 4ms/step - loss: 0.0090 - accuracy: 0.9983\n",
      "Epoch 53/100\n",
      "640/640 [==============================] - 3s 4ms/step - loss: 0.0088 - accuracy: 0.9984\n",
      "Epoch 54/100\n",
      "640/640 [==============================] - 3s 5ms/step - loss: 0.0089 - accuracy: 0.9984\n",
      "Epoch 55/100\n",
      "640/640 [==============================] - 3s 4ms/step - loss: 0.0089 - accuracy: 0.9984\n",
      "Epoch 56/100\n",
      "640/640 [==============================] - 3s 5ms/step - loss: 0.0087 - accuracy: 0.9984\n",
      "Epoch 57/100\n",
      "640/640 [==============================] - 3s 4ms/step - loss: 0.0088 - accuracy: 0.9986\n",
      "Epoch 58/100\n",
      "640/640 [==============================] - 3s 5ms/step - loss: 0.0087 - accuracy: 0.9984\n",
      "Epoch 59/100\n",
      "640/640 [==============================] - 4s 6ms/step - loss: 0.0088 - accuracy: 0.9986\n",
      "Epoch 60/100\n",
      "640/640 [==============================] - 4s 6ms/step - loss: 0.0086 - accuracy: 0.9986\n",
      "Epoch 61/100\n",
      "640/640 [==============================] - 3s 5ms/step - loss: 0.0087 - accuracy: 0.9984\n",
      "Epoch 62/100\n",
      "640/640 [==============================] - 3s 5ms/step - loss: 0.0087 - accuracy: 0.9986\n",
      "Epoch 63/100\n",
      "640/640 [==============================] - 3s 5ms/step - loss: 0.0085 - accuracy: 0.9984\n",
      "Epoch 64/100\n",
      "640/640 [==============================] - 3s 5ms/step - loss: 0.0086 - accuracy: 0.9986\n",
      "Epoch 65/100\n",
      "640/640 [==============================] - 3s 5ms/step - loss: 0.0086 - accuracy: 0.9986\n",
      "Epoch 66/100\n",
      "640/640 [==============================] - 3s 5ms/step - loss: 0.0085 - accuracy: 0.9986\n",
      "Epoch 67/100\n",
      "640/640 [==============================] - 3s 5ms/step - loss: 0.0083 - accuracy: 0.9986\n",
      "Epoch 68/100\n",
      "640/640 [==============================] - 3s 4ms/step - loss: 0.0087 - accuracy: 0.9986\n",
      "Epoch 69/100\n",
      "640/640 [==============================] - 3s 5ms/step - loss: 0.0083 - accuracy: 0.9986\n",
      "Epoch 70/100\n",
      "640/640 [==============================] - 3s 4ms/step - loss: 0.0083 - accuracy: 0.9986\n",
      "Epoch 71/100\n",
      "640/640 [==============================] - 3s 4ms/step - loss: 0.0085 - accuracy: 0.9984\n",
      "Epoch 72/100\n",
      "640/640 [==============================] - 3s 5ms/step - loss: 0.0084 - accuracy: 0.9986\n",
      "Epoch 73/100\n",
      "640/640 [==============================] - 3s 5ms/step - loss: 0.0083 - accuracy: 0.9986\n",
      "Epoch 74/100\n",
      "640/640 [==============================] - 3s 4ms/step - loss: 0.0082 - accuracy: 0.9986\n",
      "Epoch 75/100\n",
      "640/640 [==============================] - 3s 5ms/step - loss: 0.0082 - accuracy: 0.9986\n",
      "Epoch 76/100\n",
      "640/640 [==============================] - 3s 4ms/step - loss: 0.0083 - accuracy: 0.9986\n",
      "Epoch 77/100\n",
      "640/640 [==============================] - 3s 4ms/step - loss: 0.0083 - accuracy: 0.9986\n",
      "Epoch 78/100\n",
      "640/640 [==============================] - 3s 4ms/step - loss: 0.0083 - accuracy: 0.9986\n",
      "Epoch 79/100\n",
      "640/640 [==============================] - 3s 5ms/step - loss: 0.0083 - accuracy: 0.9986\n",
      "Epoch 80/100\n",
      "640/640 [==============================] - 3s 4ms/step - loss: 0.0082 - accuracy: 0.9986\n",
      "Epoch 81/100\n",
      "640/640 [==============================] - 3s 4ms/step - loss: 0.0081 - accuracy: 0.9986\n",
      "Epoch 82/100\n",
      "640/640 [==============================] - 3s 4ms/step - loss: 0.0082 - accuracy: 0.9986\n",
      "Epoch 83/100\n",
      "640/640 [==============================] - 3s 5ms/step - loss: 0.0080 - accuracy: 0.9986\n",
      "Epoch 84/100\n",
      "640/640 [==============================] - 3s 4ms/step - loss: 0.0081 - accuracy: 0.9986\n",
      "Epoch 85/100\n",
      "640/640 [==============================] - 3s 4ms/step - loss: 0.0082 - accuracy: 0.9986\n",
      "Epoch 86/100\n",
      "640/640 [==============================] - 3s 5ms/step - loss: 0.0080 - accuracy: 0.9986\n",
      "Epoch 87/100\n",
      "640/640 [==============================] - 3s 5ms/step - loss: 0.0081 - accuracy: 0.9986\n",
      "Epoch 88/100\n",
      "640/640 [==============================] - 3s 5ms/step - loss: 0.0080 - accuracy: 0.9986\n",
      "Epoch 89/100\n",
      "640/640 [==============================] - 3s 4ms/step - loss: 0.0080 - accuracy: 0.9986\n",
      "Epoch 90/100\n",
      "640/640 [==============================] - 3s 4ms/step - loss: 0.0079 - accuracy: 0.9986\n",
      "Epoch 91/100\n",
      "640/640 [==============================] - 3s 5ms/step - loss: 0.0080 - accuracy: 0.9986\n",
      "Epoch 92/100\n",
      "640/640 [==============================] - 3s 5ms/step - loss: 0.0079 - accuracy: 0.9986\n",
      "Epoch 93/100\n",
      "640/640 [==============================] - 3s 5ms/step - loss: 0.0079 - accuracy: 0.9986\n",
      "Epoch 94/100\n",
      "640/640 [==============================] - 3s 5ms/step - loss: 0.0079 - accuracy: 0.9986\n",
      "Epoch 95/100\n",
      "640/640 [==============================] - 3s 5ms/step - loss: 0.0081 - accuracy: 0.9986\n",
      "Epoch 96/100\n",
      "640/640 [==============================] - 3s 4ms/step - loss: 0.0079 - accuracy: 0.9986\n",
      "Epoch 97/100\n",
      "640/640 [==============================] - 3s 5ms/step - loss: 0.0079 - accuracy: 0.9986\n",
      "Epoch 98/100\n",
      "640/640 [==============================] - 3s 4ms/step - loss: 0.0079 - accuracy: 0.9986\n",
      "Epoch 99/100\n",
      "640/640 [==============================] - 3s 5ms/step - loss: 0.0078 - accuracy: 0.9987\n",
      "Epoch 100/100\n",
      "640/640 [==============================] - 3s 4ms/step - loss: 0.0079 - accuracy: 0.9986\n",
      "160/160 [==============================] - 1s 4ms/step\n"
     ]
    },
    {
     "name": "stderr",
     "output_type": "stream",
     "text": [
      "WARNING:absl:Found untraced functions such as _update_step_xla while saving (showing 1 of 1). These functions will not be directly callable after loading.\n"
     ]
    },
    {
     "name": "stdout",
     "output_type": "stream",
     "text": [
      "INFO:tensorflow:Assets written to: C:\\Users\\shubh\\AppData\\Local\\Temp\\tmpqynwj6f8\\assets\n"
     ]
    },
    {
     "name": "stderr",
     "output_type": "stream",
     "text": [
      "INFO:tensorflow:Assets written to: C:\\Users\\shubh\\AppData\\Local\\Temp\\tmpqynwj6f8\\assets\n"
     ]
    },
    {
     "name": "stdout",
     "output_type": "stream",
     "text": [
      "Epoch 1/100\n",
      "640/640 [==============================] - 5s 5ms/step - loss: 0.3352 - accuracy: 0.8002\n",
      "Epoch 2/100\n",
      "640/640 [==============================] - 3s 4ms/step - loss: 0.1269 - accuracy: 0.9981\n",
      "Epoch 3/100\n",
      "640/640 [==============================] - 3s 4ms/step - loss: 0.0931 - accuracy: 0.9984\n",
      "Epoch 4/100\n",
      "640/640 [==============================] - 3s 4ms/step - loss: 0.0693 - accuracy: 0.9984\n",
      "Epoch 5/100\n",
      "640/640 [==============================] - 3s 4ms/step - loss: 0.0523 - accuracy: 0.9984\n",
      "Epoch 6/100\n",
      "640/640 [==============================] - 3s 4ms/step - loss: 0.0402 - accuracy: 0.9984\n",
      "Epoch 7/100\n",
      "640/640 [==============================] - 3s 5ms/step - loss: 0.0318 - accuracy: 0.9984\n",
      "Epoch 8/100\n",
      "640/640 [==============================] - 3s 5ms/step - loss: 0.0256 - accuracy: 0.9984\n",
      "Epoch 9/100\n",
      "640/640 [==============================] - 3s 4ms/step - loss: 0.0211 - accuracy: 0.9984\n",
      "Epoch 10/100\n",
      "640/640 [==============================] - 3s 5ms/step - loss: 0.0181 - accuracy: 0.9984\n",
      "Epoch 11/100\n",
      "640/640 [==============================] - 3s 5ms/step - loss: 0.0158 - accuracy: 0.9984\n",
      "Epoch 12/100\n",
      "640/640 [==============================] - 3s 5ms/step - loss: 0.0141 - accuracy: 0.9984\n",
      "Epoch 13/100\n",
      "640/640 [==============================] - 3s 5ms/step - loss: 0.0129 - accuracy: 0.9984\n",
      "Epoch 14/100\n",
      "640/640 [==============================] - 3s 5ms/step - loss: 0.0119 - accuracy: 0.9984\n",
      "Epoch 15/100\n",
      "640/640 [==============================] - 3s 4ms/step - loss: 0.0115 - accuracy: 0.9984\n",
      "Epoch 16/100\n",
      "640/640 [==============================] - 3s 5ms/step - loss: 0.0111 - accuracy: 0.9984\n",
      "Epoch 17/100\n",
      "640/640 [==============================] - 3s 5ms/step - loss: 0.0107 - accuracy: 0.9984\n",
      "Epoch 18/100\n",
      "640/640 [==============================] - 3s 5ms/step - loss: 0.0104 - accuracy: 0.9984\n",
      "Epoch 19/100\n",
      "640/640 [==============================] - 3s 4ms/step - loss: 0.0103 - accuracy: 0.9984\n",
      "Epoch 20/100\n",
      "640/640 [==============================] - 3s 5ms/step - loss: 0.0101 - accuracy: 0.9984\n",
      "Epoch 21/100\n",
      "640/640 [==============================] - 3s 5ms/step - loss: 0.0101 - accuracy: 0.9984\n",
      "Epoch 22/100\n",
      "640/640 [==============================] - 3s 4ms/step - loss: 0.0100 - accuracy: 0.9984\n",
      "Epoch 23/100\n",
      "640/640 [==============================] - 3s 4ms/step - loss: 0.0099 - accuracy: 0.9984\n",
      "Epoch 24/100\n",
      "640/640 [==============================] - 3s 4ms/step - loss: 0.0098 - accuracy: 0.9984\n",
      "Epoch 25/100\n",
      "640/640 [==============================] - 3s 5ms/step - loss: 0.0098 - accuracy: 0.9984\n",
      "Epoch 26/100\n",
      "640/640 [==============================] - 3s 4ms/step - loss: 0.0098 - accuracy: 0.9984\n",
      "Epoch 27/100\n",
      "640/640 [==============================] - 3s 5ms/step - loss: 0.0098 - accuracy: 0.9984\n",
      "Epoch 28/100\n",
      "640/640 [==============================] - 3s 5ms/step - loss: 0.0097 - accuracy: 0.9984\n",
      "Epoch 29/100\n",
      "640/640 [==============================] - 3s 5ms/step - loss: 0.0097 - accuracy: 0.9984\n",
      "Epoch 30/100\n",
      "640/640 [==============================] - 3s 4ms/step - loss: 0.0097 - accuracy: 0.9984\n",
      "Epoch 31/100\n",
      "640/640 [==============================] - 3s 4ms/step - loss: 0.0097 - accuracy: 0.9984\n",
      "Epoch 32/100\n",
      "640/640 [==============================] - 3s 5ms/step - loss: 0.0098 - accuracy: 0.9984\n",
      "Epoch 33/100\n",
      "640/640 [==============================] - 3s 4ms/step - loss: 0.0096 - accuracy: 0.9984\n",
      "Epoch 34/100\n",
      "640/640 [==============================] - 3s 4ms/step - loss: 0.0096 - accuracy: 0.9984\n",
      "Epoch 35/100\n",
      "640/640 [==============================] - 3s 4ms/step - loss: 0.0097 - accuracy: 0.9984\n",
      "Epoch 36/100\n",
      "640/640 [==============================] - 3s 4ms/step - loss: 0.0096 - accuracy: 0.9984\n",
      "Epoch 37/100\n",
      "640/640 [==============================] - 3s 4ms/step - loss: 0.0096 - accuracy: 0.9984\n",
      "Epoch 38/100\n",
      "640/640 [==============================] - 3s 5ms/step - loss: 0.0095 - accuracy: 0.9984\n",
      "Epoch 39/100\n",
      "640/640 [==============================] - 3s 4ms/step - loss: 0.0097 - accuracy: 0.9984\n",
      "Epoch 40/100\n",
      "640/640 [==============================] - 3s 4ms/step - loss: 0.0097 - accuracy: 0.9984\n",
      "Epoch 41/100\n",
      "640/640 [==============================] - 3s 4ms/step - loss: 0.0097 - accuracy: 0.9984\n",
      "Epoch 42/100\n",
      "640/640 [==============================] - 3s 4ms/step - loss: 0.0096 - accuracy: 0.9984\n",
      "Epoch 43/100\n",
      "640/640 [==============================] - 3s 5ms/step - loss: 0.0095 - accuracy: 0.9984\n",
      "Epoch 44/100\n",
      "640/640 [==============================] - 3s 5ms/step - loss: 0.0096 - accuracy: 0.9984\n",
      "Epoch 45/100\n",
      "640/640 [==============================] - 3s 4ms/step - loss: 0.0097 - accuracy: 0.9984\n",
      "Epoch 46/100\n",
      "640/640 [==============================] - 3s 4ms/step - loss: 0.0096 - accuracy: 0.9984\n",
      "Epoch 47/100\n",
      "640/640 [==============================] - 3s 4ms/step - loss: 0.0094 - accuracy: 0.9984\n",
      "Epoch 48/100\n",
      "640/640 [==============================] - 3s 4ms/step - loss: 0.0097 - accuracy: 0.9984\n",
      "Epoch 49/100\n",
      "640/640 [==============================] - 3s 4ms/step - loss: 0.0097 - accuracy: 0.9984\n",
      "Epoch 50/100\n",
      "640/640 [==============================] - 3s 4ms/step - loss: 0.0095 - accuracy: 0.9984\n",
      "Epoch 51/100\n",
      "640/640 [==============================] - 3s 5ms/step - loss: 0.0095 - accuracy: 0.9984\n",
      "Epoch 52/100\n",
      "640/640 [==============================] - 3s 5ms/step - loss: 0.0093 - accuracy: 0.9984\n",
      "Epoch 53/100\n",
      "640/640 [==============================] - 3s 5ms/step - loss: 0.0096 - accuracy: 0.9984\n",
      "Epoch 54/100\n",
      "640/640 [==============================] - 3s 4ms/step - loss: 0.0096 - accuracy: 0.9984\n",
      "Epoch 55/100\n",
      "640/640 [==============================] - 3s 4ms/step - loss: 0.0096 - accuracy: 0.9984\n",
      "Epoch 56/100\n",
      "640/640 [==============================] - 3s 4ms/step - loss: 0.0096 - accuracy: 0.9984\n",
      "Epoch 57/100\n",
      "640/640 [==============================] - 3s 4ms/step - loss: 0.0096 - accuracy: 0.9984\n",
      "Epoch 58/100\n",
      "640/640 [==============================] - 3s 5ms/step - loss: 0.0096 - accuracy: 0.9984\n",
      "Epoch 59/100\n",
      "640/640 [==============================] - 3s 4ms/step - loss: 0.0095 - accuracy: 0.9984\n",
      "Epoch 60/100\n",
      "640/640 [==============================] - 3s 5ms/step - loss: 0.0096 - accuracy: 0.9984\n",
      "Epoch 61/100\n",
      "640/640 [==============================] - 3s 5ms/step - loss: 0.0097 - accuracy: 0.9984\n",
      "Epoch 62/100\n",
      "640/640 [==============================] - 4s 6ms/step - loss: 0.0096 - accuracy: 0.9984\n",
      "Epoch 63/100\n",
      "640/640 [==============================] - 3s 5ms/step - loss: 0.0096 - accuracy: 0.9984\n",
      "Epoch 64/100\n",
      "640/640 [==============================] - 3s 4ms/step - loss: 0.0095 - accuracy: 0.9984\n",
      "Epoch 65/100\n",
      "640/640 [==============================] - 3s 5ms/step - loss: 0.0097 - accuracy: 0.9984\n",
      "Epoch 66/100\n",
      "640/640 [==============================] - 3s 4ms/step - loss: 0.0094 - accuracy: 0.9984\n",
      "Epoch 67/100\n",
      "640/640 [==============================] - 3s 5ms/step - loss: 0.0096 - accuracy: 0.9984\n",
      "Epoch 68/100\n",
      "640/640 [==============================] - 3s 5ms/step - loss: 0.0095 - accuracy: 0.9984\n",
      "Epoch 69/100\n",
      "640/640 [==============================] - 3s 5ms/step - loss: 0.0094 - accuracy: 0.9984\n",
      "Epoch 70/100\n",
      "640/640 [==============================] - 3s 5ms/step - loss: 0.0096 - accuracy: 0.9984\n",
      "Epoch 71/100\n",
      "640/640 [==============================] - 3s 4ms/step - loss: 0.0096 - accuracy: 0.9984\n",
      "Epoch 72/100\n",
      "640/640 [==============================] - 3s 5ms/step - loss: 0.0096 - accuracy: 0.9984\n",
      "Epoch 73/100\n",
      "640/640 [==============================] - 3s 5ms/step - loss: 0.0097 - accuracy: 0.9984\n",
      "Epoch 74/100\n",
      "640/640 [==============================] - 3s 4ms/step - loss: 0.0096 - accuracy: 0.9984\n",
      "Epoch 75/100\n",
      "640/640 [==============================] - 3s 5ms/step - loss: 0.0096 - accuracy: 0.9984\n",
      "Epoch 76/100\n",
      "640/640 [==============================] - 3s 4ms/step - loss: 0.0096 - accuracy: 0.9984\n",
      "Epoch 77/100\n",
      "640/640 [==============================] - 3s 5ms/step - loss: 0.0096 - accuracy: 0.9984\n",
      "Epoch 78/100\n",
      "640/640 [==============================] - 3s 5ms/step - loss: 0.0096 - accuracy: 0.9984\n",
      "Epoch 79/100\n",
      "640/640 [==============================] - 3s 5ms/step - loss: 0.0096 - accuracy: 0.9984\n",
      "Epoch 80/100\n",
      "640/640 [==============================] - 3s 5ms/step - loss: 0.0094 - accuracy: 0.9984\n",
      "Epoch 81/100\n",
      "640/640 [==============================] - 3s 4ms/step - loss: 0.0097 - accuracy: 0.9984\n",
      "Epoch 82/100\n",
      "640/640 [==============================] - 3s 4ms/step - loss: 0.0096 - accuracy: 0.9984\n",
      "Epoch 83/100\n",
      "640/640 [==============================] - 3s 4ms/step - loss: 0.0095 - accuracy: 0.9984\n",
      "Epoch 84/100\n",
      "640/640 [==============================] - 3s 4ms/step - loss: 0.0095 - accuracy: 0.9984\n",
      "Epoch 85/100\n",
      "640/640 [==============================] - 3s 5ms/step - loss: 0.0096 - accuracy: 0.9984\n",
      "Epoch 86/100\n",
      "640/640 [==============================] - 3s 4ms/step - loss: 0.0095 - accuracy: 0.9984\n",
      "Epoch 87/100\n",
      "640/640 [==============================] - 3s 4ms/step - loss: 0.0093 - accuracy: 0.9984\n",
      "Epoch 88/100\n",
      "640/640 [==============================] - 3s 5ms/step - loss: 0.0097 - accuracy: 0.9984\n",
      "Epoch 89/100\n",
      "640/640 [==============================] - 3s 5ms/step - loss: 0.0096 - accuracy: 0.9984\n",
      "Epoch 90/100\n",
      "640/640 [==============================] - 3s 4ms/step - loss: 0.0096 - accuracy: 0.9984\n",
      "Epoch 91/100\n",
      "640/640 [==============================] - 3s 5ms/step - loss: 0.0096 - accuracy: 0.9984\n",
      "Epoch 92/100\n",
      "640/640 [==============================] - 3s 4ms/step - loss: 0.0094 - accuracy: 0.9984\n",
      "Epoch 93/100\n",
      "640/640 [==============================] - 3s 5ms/step - loss: 0.0095 - accuracy: 0.9984\n",
      "Epoch 94/100\n",
      "640/640 [==============================] - 3s 5ms/step - loss: 0.0096 - accuracy: 0.9984\n",
      "Epoch 95/100\n",
      "640/640 [==============================] - 3s 5ms/step - loss: 0.0096 - accuracy: 0.9984\n",
      "Epoch 96/100\n",
      "640/640 [==============================] - 3s 4ms/step - loss: 0.0096 - accuracy: 0.9984\n",
      "Epoch 97/100\n",
      "640/640 [==============================] - 3s 4ms/step - loss: 0.0096 - accuracy: 0.9984\n",
      "Epoch 98/100\n",
      "640/640 [==============================] - 3s 4ms/step - loss: 0.0095 - accuracy: 0.9984\n",
      "Epoch 99/100\n",
      "640/640 [==============================] - 3s 5ms/step - loss: 0.0095 - accuracy: 0.9984\n",
      "Epoch 100/100\n",
      "640/640 [==============================] - 3s 5ms/step - loss: 0.0096 - accuracy: 0.9984\n",
      "160/160 [==============================] - 1s 4ms/step\n"
     ]
    },
    {
     "name": "stderr",
     "output_type": "stream",
     "text": [
      "WARNING:absl:Found untraced functions such as _update_step_xla while saving (showing 1 of 1). These functions will not be directly callable after loading.\n"
     ]
    },
    {
     "name": "stdout",
     "output_type": "stream",
     "text": [
      "INFO:tensorflow:Assets written to: C:\\Users\\shubh\\AppData\\Local\\Temp\\tmpvcmep5as\\assets\n"
     ]
    },
    {
     "name": "stderr",
     "output_type": "stream",
     "text": [
      "INFO:tensorflow:Assets written to: C:\\Users\\shubh\\AppData\\Local\\Temp\\tmpvcmep5as\\assets\n"
     ]
    },
    {
     "name": "stdout",
     "output_type": "stream",
     "text": [
      "Epoch 1/100\n",
      "640/640 [==============================] - 5s 5ms/step - loss: 0.3212 - accuracy: 0.8553\n",
      "Epoch 2/100\n",
      "640/640 [==============================] - 3s 4ms/step - loss: 0.0615 - accuracy: 0.9980\n",
      "Epoch 3/100\n",
      "640/640 [==============================] - 3s 5ms/step - loss: 0.0252 - accuracy: 0.9980\n",
      "Epoch 4/100\n",
      "640/640 [==============================] - 3s 5ms/step - loss: 0.0165 - accuracy: 0.9980\n",
      "Epoch 5/100\n",
      "640/640 [==============================] - 3s 4ms/step - loss: 0.0138 - accuracy: 0.9980\n",
      "Epoch 6/100\n",
      "640/640 [==============================] - 3s 5ms/step - loss: 0.0128 - accuracy: 0.9980\n",
      "Epoch 7/100\n",
      "640/640 [==============================] - 3s 5ms/step - loss: 0.0125 - accuracy: 0.9980\n",
      "Epoch 8/100\n",
      "640/640 [==============================] - 3s 4ms/step - loss: 0.0122 - accuracy: 0.9980\n",
      "Epoch 9/100\n",
      "640/640 [==============================] - 3s 5ms/step - loss: 0.0122 - accuracy: 0.9980\n",
      "Epoch 10/100\n",
      "640/640 [==============================] - 3s 5ms/step - loss: 0.0120 - accuracy: 0.9980\n",
      "Epoch 11/100\n",
      "640/640 [==============================] - 3s 5ms/step - loss: 0.0121 - accuracy: 0.9980\n",
      "Epoch 12/100\n",
      "640/640 [==============================] - 3s 5ms/step - loss: 0.0120 - accuracy: 0.9980\n",
      "Epoch 13/100\n",
      "640/640 [==============================] - 3s 5ms/step - loss: 0.0120 - accuracy: 0.9980\n",
      "Epoch 14/100\n",
      "640/640 [==============================] - 3s 5ms/step - loss: 0.0118 - accuracy: 0.9980\n",
      "Epoch 15/100\n",
      "640/640 [==============================] - 3s 5ms/step - loss: 0.0115 - accuracy: 0.9980\n",
      "Epoch 16/100\n",
      "640/640 [==============================] - 3s 5ms/step - loss: 0.0115 - accuracy: 0.9980\n",
      "Epoch 17/100\n",
      "640/640 [==============================] - 3s 5ms/step - loss: 0.0113 - accuracy: 0.9980\n",
      "Epoch 18/100\n",
      "640/640 [==============================] - 3s 5ms/step - loss: 0.0110 - accuracy: 0.9980\n",
      "Epoch 19/100\n",
      "640/640 [==============================] - 3s 5ms/step - loss: 0.0109 - accuracy: 0.9980\n",
      "Epoch 20/100\n",
      "640/640 [==============================] - 3s 5ms/step - loss: 0.0106 - accuracy: 0.9980\n",
      "Epoch 21/100\n",
      "640/640 [==============================] - 3s 5ms/step - loss: 0.0105 - accuracy: 0.9981\n",
      "Epoch 22/100\n",
      "640/640 [==============================] - 3s 5ms/step - loss: 0.0105 - accuracy: 0.9980\n",
      "Epoch 23/100\n",
      "640/640 [==============================] - 3s 5ms/step - loss: 0.0101 - accuracy: 0.9980\n",
      "Epoch 24/100\n",
      "640/640 [==============================] - 3s 5ms/step - loss: 0.0103 - accuracy: 0.9980\n",
      "Epoch 25/100\n",
      "640/640 [==============================] - 3s 5ms/step - loss: 0.0100 - accuracy: 0.9980\n",
      "Epoch 26/100\n",
      "640/640 [==============================] - 3s 5ms/step - loss: 0.0100 - accuracy: 0.9980\n",
      "Epoch 27/100\n",
      "640/640 [==============================] - 3s 5ms/step - loss: 0.0098 - accuracy: 0.9980\n",
      "Epoch 28/100\n",
      "640/640 [==============================] - 3s 5ms/step - loss: 0.0098 - accuracy: 0.9981\n",
      "Epoch 29/100\n",
      "640/640 [==============================] - 3s 5ms/step - loss: 0.0097 - accuracy: 0.9980\n",
      "Epoch 30/100\n",
      "640/640 [==============================] - 3s 5ms/step - loss: 0.0093 - accuracy: 0.9983\n",
      "Epoch 31/100\n",
      "640/640 [==============================] - 3s 5ms/step - loss: 0.0098 - accuracy: 0.9980\n",
      "Epoch 32/100\n",
      "640/640 [==============================] - 3s 5ms/step - loss: 0.0096 - accuracy: 0.9980\n",
      "Epoch 33/100\n",
      "640/640 [==============================] - 3s 5ms/step - loss: 0.0095 - accuracy: 0.9980\n",
      "Epoch 34/100\n",
      "640/640 [==============================] - 3s 5ms/step - loss: 0.0093 - accuracy: 0.9981\n",
      "Epoch 35/100\n",
      "640/640 [==============================] - 3s 5ms/step - loss: 0.0094 - accuracy: 0.9981\n",
      "Epoch 36/100\n",
      "640/640 [==============================] - 3s 5ms/step - loss: 0.0092 - accuracy: 0.9981\n",
      "Epoch 37/100\n",
      "640/640 [==============================] - 3s 5ms/step - loss: 0.0094 - accuracy: 0.9981\n",
      "Epoch 38/100\n",
      "640/640 [==============================] - 3s 5ms/step - loss: 0.0090 - accuracy: 0.9981\n",
      "Epoch 39/100\n",
      "640/640 [==============================] - 3s 5ms/step - loss: 0.0090 - accuracy: 0.9983\n",
      "Epoch 40/100\n",
      "640/640 [==============================] - 3s 5ms/step - loss: 0.0092 - accuracy: 0.9983\n",
      "Epoch 41/100\n",
      "640/640 [==============================] - 3s 5ms/step - loss: 0.0089 - accuracy: 0.9981\n",
      "Epoch 42/100\n",
      "640/640 [==============================] - 3s 4ms/step - loss: 0.0089 - accuracy: 0.9983\n",
      "Epoch 43/100\n",
      "640/640 [==============================] - 3s 5ms/step - loss: 0.0087 - accuracy: 0.9983\n",
      "Epoch 44/100\n",
      "640/640 [==============================] - 3s 5ms/step - loss: 0.0087 - accuracy: 0.9981\n",
      "Epoch 45/100\n",
      "640/640 [==============================] - 3s 5ms/step - loss: 0.0082 - accuracy: 0.9983\n",
      "Epoch 46/100\n",
      "640/640 [==============================] - 3s 5ms/step - loss: 0.0087 - accuracy: 0.9983\n",
      "Epoch 47/100\n",
      "640/640 [==============================] - 3s 5ms/step - loss: 0.0086 - accuracy: 0.9983\n",
      "Epoch 48/100\n",
      "640/640 [==============================] - 3s 5ms/step - loss: 0.0085 - accuracy: 0.9983\n",
      "Epoch 49/100\n",
      "640/640 [==============================] - 3s 5ms/step - loss: 0.0083 - accuracy: 0.9984\n",
      "Epoch 50/100\n",
      "640/640 [==============================] - 3s 5ms/step - loss: 0.0084 - accuracy: 0.9983\n",
      "Epoch 51/100\n",
      "640/640 [==============================] - 3s 5ms/step - loss: 0.0083 - accuracy: 0.9983\n",
      "Epoch 52/100\n",
      "640/640 [==============================] - 3s 4ms/step - loss: 0.0082 - accuracy: 0.9983\n",
      "Epoch 53/100\n",
      "640/640 [==============================] - 3s 4ms/step - loss: 0.0082 - accuracy: 0.9983\n",
      "Epoch 54/100\n",
      "640/640 [==============================] - 3s 5ms/step - loss: 0.0081 - accuracy: 0.9983\n",
      "Epoch 55/100\n",
      "640/640 [==============================] - 3s 4ms/step - loss: 0.0081 - accuracy: 0.9984\n",
      "Epoch 56/100\n",
      "640/640 [==============================] - 3s 5ms/step - loss: 0.0081 - accuracy: 0.9983\n",
      "Epoch 57/100\n",
      "640/640 [==============================] - 3s 4ms/step - loss: 0.0082 - accuracy: 0.9984\n",
      "Epoch 58/100\n",
      "640/640 [==============================] - 3s 5ms/step - loss: 0.0079 - accuracy: 0.9983\n",
      "Epoch 59/100\n",
      "640/640 [==============================] - 3s 4ms/step - loss: 0.0079 - accuracy: 0.9984\n",
      "Epoch 60/100\n",
      "640/640 [==============================] - 3s 5ms/step - loss: 0.0080 - accuracy: 0.9983\n",
      "Epoch 61/100\n",
      "640/640 [==============================] - 3s 5ms/step - loss: 0.0079 - accuracy: 0.9983\n",
      "Epoch 62/100\n",
      "640/640 [==============================] - 3s 5ms/step - loss: 0.0077 - accuracy: 0.9983\n",
      "Epoch 63/100\n",
      "640/640 [==============================] - 3s 5ms/step - loss: 0.0077 - accuracy: 0.9984\n",
      "Epoch 64/100\n",
      "640/640 [==============================] - 3s 5ms/step - loss: 0.0079 - accuracy: 0.9983\n",
      "Epoch 65/100\n",
      "640/640 [==============================] - 3s 5ms/step - loss: 0.0078 - accuracy: 0.9984\n",
      "Epoch 66/100\n",
      "640/640 [==============================] - 3s 5ms/step - loss: 0.0076 - accuracy: 0.9984\n",
      "Epoch 67/100\n",
      "640/640 [==============================] - 3s 5ms/step - loss: 0.0075 - accuracy: 0.9984\n",
      "Epoch 68/100\n",
      "640/640 [==============================] - 3s 5ms/step - loss: 0.0077 - accuracy: 0.9981\n",
      "Epoch 69/100\n",
      "640/640 [==============================] - 3s 5ms/step - loss: 0.0077 - accuracy: 0.9984\n",
      "Epoch 70/100\n",
      "640/640 [==============================] - 3s 5ms/step - loss: 0.0075 - accuracy: 0.9981\n",
      "Epoch 71/100\n",
      "640/640 [==============================] - 3s 5ms/step - loss: 0.0075 - accuracy: 0.9983\n",
      "Epoch 72/100\n",
      "640/640 [==============================] - 3s 5ms/step - loss: 0.0075 - accuracy: 0.9984\n",
      "Epoch 73/100\n",
      "640/640 [==============================] - 3s 5ms/step - loss: 0.0075 - accuracy: 0.9983\n",
      "Epoch 74/100\n",
      "640/640 [==============================] - 3s 5ms/step - loss: 0.0075 - accuracy: 0.9984\n",
      "Epoch 75/100\n",
      "640/640 [==============================] - 3s 5ms/step - loss: 0.0073 - accuracy: 0.9984\n",
      "Epoch 76/100\n",
      "640/640 [==============================] - 3s 5ms/step - loss: 0.0076 - accuracy: 0.9984\n",
      "Epoch 77/100\n",
      "640/640 [==============================] - 3s 5ms/step - loss: 0.0072 - accuracy: 0.9984\n",
      "Epoch 78/100\n",
      "640/640 [==============================] - 3s 5ms/step - loss: 0.0074 - accuracy: 0.9983\n",
      "Epoch 79/100\n",
      "640/640 [==============================] - 3s 5ms/step - loss: 0.0074 - accuracy: 0.9984\n",
      "Epoch 80/100\n",
      "640/640 [==============================] - 3s 5ms/step - loss: 0.0072 - accuracy: 0.9984\n",
      "Epoch 81/100\n",
      "640/640 [==============================] - 3s 5ms/step - loss: 0.0074 - accuracy: 0.9984\n",
      "Epoch 82/100\n",
      "640/640 [==============================] - 3s 4ms/step - loss: 0.0071 - accuracy: 0.9984\n",
      "Epoch 83/100\n",
      "640/640 [==============================] - 3s 5ms/step - loss: 0.0072 - accuracy: 0.9984\n",
      "Epoch 84/100\n",
      "640/640 [==============================] - 3s 4ms/step - loss: 0.0071 - accuracy: 0.9984\n",
      "Epoch 85/100\n",
      "640/640 [==============================] - 3s 5ms/step - loss: 0.0075 - accuracy: 0.9983\n",
      "Epoch 86/100\n",
      "640/640 [==============================] - 3s 5ms/step - loss: 0.0071 - accuracy: 0.9984\n",
      "Epoch 87/100\n",
      "640/640 [==============================] - 3s 5ms/step - loss: 0.0070 - accuracy: 0.9984\n",
      "Epoch 88/100\n",
      "640/640 [==============================] - 3s 5ms/step - loss: 0.0073 - accuracy: 0.9984\n",
      "Epoch 89/100\n",
      "640/640 [==============================] - 3s 5ms/step - loss: 0.0070 - accuracy: 0.9984\n",
      "Epoch 90/100\n",
      "640/640 [==============================] - 3s 5ms/step - loss: 0.0071 - accuracy: 0.9984\n",
      "Epoch 91/100\n",
      "640/640 [==============================] - 3s 5ms/step - loss: 0.0071 - accuracy: 0.9984\n",
      "Epoch 92/100\n",
      "640/640 [==============================] - 3s 5ms/step - loss: 0.0070 - accuracy: 0.9984\n",
      "Epoch 93/100\n",
      "640/640 [==============================] - 3s 5ms/step - loss: 0.0072 - accuracy: 0.9984\n",
      "Epoch 94/100\n",
      "640/640 [==============================] - 3s 5ms/step - loss: 0.0069 - accuracy: 0.9983\n",
      "Epoch 95/100\n",
      "640/640 [==============================] - 3s 5ms/step - loss: 0.0070 - accuracy: 0.9984\n",
      "Epoch 96/100\n",
      "640/640 [==============================] - 3s 5ms/step - loss: 0.0069 - accuracy: 0.9984\n",
      "Epoch 97/100\n",
      "640/640 [==============================] - 3s 5ms/step - loss: 0.0070 - accuracy: 0.9984\n",
      "Epoch 98/100\n",
      "640/640 [==============================] - 3s 5ms/step - loss: 0.0067 - accuracy: 0.9981\n",
      "Epoch 99/100\n",
      "640/640 [==============================] - 3s 5ms/step - loss: 0.0069 - accuracy: 0.9986\n",
      "Epoch 100/100\n",
      "640/640 [==============================] - 3s 5ms/step - loss: 0.0071 - accuracy: 0.9984\n",
      "160/160 [==============================] - 1s 7ms/step\n"
     ]
    },
    {
     "name": "stderr",
     "output_type": "stream",
     "text": [
      "WARNING:absl:Found untraced functions such as _update_step_xla while saving (showing 1 of 1). These functions will not be directly callable after loading.\n"
     ]
    },
    {
     "name": "stdout",
     "output_type": "stream",
     "text": [
      "WARNING:tensorflow:Detecting that an object or model or tf.train.Checkpoint is being deleted with unrestored values. See the following logs for the specific values in question. To silence these warnings, use `status.expect_partial()`. See https://www.tensorflow.org/api_docs/python/tf/train/Checkpoint#restorefor details about the status object returned by the restore function.\n"
     ]
    },
    {
     "name": "stderr",
     "output_type": "stream",
     "text": [
      "WARNING:tensorflow:Detecting that an object or model or tf.train.Checkpoint is being deleted with unrestored values. See the following logs for the specific values in question. To silence these warnings, use `status.expect_partial()`. See https://www.tensorflow.org/api_docs/python/tf/train/Checkpoint#restorefor details about the status object returned by the restore function.\n"
     ]
    },
    {
     "name": "stdout",
     "output_type": "stream",
     "text": [
      "WARNING:tensorflow:Value in checkpoint could not be found in the restored object: (root).keras_api.metrics.0.total\n"
     ]
    },
    {
     "name": "stderr",
     "output_type": "stream",
     "text": [
      "WARNING:tensorflow:Value in checkpoint could not be found in the restored object: (root).keras_api.metrics.0.total\n"
     ]
    },
    {
     "name": "stdout",
     "output_type": "stream",
     "text": [
      "WARNING:tensorflow:Value in checkpoint could not be found in the restored object: (root).keras_api.metrics.0.count\n"
     ]
    },
    {
     "name": "stderr",
     "output_type": "stream",
     "text": [
      "WARNING:tensorflow:Value in checkpoint could not be found in the restored object: (root).keras_api.metrics.0.count\n"
     ]
    },
    {
     "name": "stdout",
     "output_type": "stream",
     "text": [
      "WARNING:tensorflow:Value in checkpoint could not be found in the restored object: (root).keras_api.metrics.1.total\n"
     ]
    },
    {
     "name": "stderr",
     "output_type": "stream",
     "text": [
      "WARNING:tensorflow:Value in checkpoint could not be found in the restored object: (root).keras_api.metrics.1.total\n"
     ]
    },
    {
     "name": "stdout",
     "output_type": "stream",
     "text": [
      "WARNING:tensorflow:Value in checkpoint could not be found in the restored object: (root).keras_api.metrics.1.count\n"
     ]
    },
    {
     "name": "stderr",
     "output_type": "stream",
     "text": [
      "WARNING:tensorflow:Value in checkpoint could not be found in the restored object: (root).keras_api.metrics.1.count\n"
     ]
    },
    {
     "name": "stdout",
     "output_type": "stream",
     "text": [
      "WARNING:tensorflow:Detecting that an object or model or tf.train.Checkpoint is being deleted with unrestored values. See the following logs for the specific values in question. To silence these warnings, use `status.expect_partial()`. See https://www.tensorflow.org/api_docs/python/tf/train/Checkpoint#restorefor details about the status object returned by the restore function.\n"
     ]
    },
    {
     "name": "stderr",
     "output_type": "stream",
     "text": [
      "WARNING:tensorflow:Detecting that an object or model or tf.train.Checkpoint is being deleted with unrestored values. See the following logs for the specific values in question. To silence these warnings, use `status.expect_partial()`. See https://www.tensorflow.org/api_docs/python/tf/train/Checkpoint#restorefor details about the status object returned by the restore function.\n"
     ]
    },
    {
     "name": "stdout",
     "output_type": "stream",
     "text": [
      "WARNING:tensorflow:Value in checkpoint could not be found in the restored object: (root).keras_api.metrics.0.total\n"
     ]
    },
    {
     "name": "stderr",
     "output_type": "stream",
     "text": [
      "WARNING:tensorflow:Value in checkpoint could not be found in the restored object: (root).keras_api.metrics.0.total\n"
     ]
    },
    {
     "name": "stdout",
     "output_type": "stream",
     "text": [
      "WARNING:tensorflow:Value in checkpoint could not be found in the restored object: (root).keras_api.metrics.0.count\n"
     ]
    },
    {
     "name": "stderr",
     "output_type": "stream",
     "text": [
      "WARNING:tensorflow:Value in checkpoint could not be found in the restored object: (root).keras_api.metrics.0.count\n"
     ]
    },
    {
     "name": "stdout",
     "output_type": "stream",
     "text": [
      "WARNING:tensorflow:Value in checkpoint could not be found in the restored object: (root).keras_api.metrics.1.total\n"
     ]
    },
    {
     "name": "stderr",
     "output_type": "stream",
     "text": [
      "WARNING:tensorflow:Value in checkpoint could not be found in the restored object: (root).keras_api.metrics.1.total\n"
     ]
    },
    {
     "name": "stdout",
     "output_type": "stream",
     "text": [
      "WARNING:tensorflow:Value in checkpoint could not be found in the restored object: (root).keras_api.metrics.1.count\n"
     ]
    },
    {
     "name": "stderr",
     "output_type": "stream",
     "text": [
      "WARNING:tensorflow:Value in checkpoint could not be found in the restored object: (root).keras_api.metrics.1.count\n"
     ]
    },
    {
     "name": "stdout",
     "output_type": "stream",
     "text": [
      "WARNING:tensorflow:Detecting that an object or model or tf.train.Checkpoint is being deleted with unrestored values. See the following logs for the specific values in question. To silence these warnings, use `status.expect_partial()`. See https://www.tensorflow.org/api_docs/python/tf/train/Checkpoint#restorefor details about the status object returned by the restore function.\n"
     ]
    },
    {
     "name": "stderr",
     "output_type": "stream",
     "text": [
      "WARNING:tensorflow:Detecting that an object or model or tf.train.Checkpoint is being deleted with unrestored values. See the following logs for the specific values in question. To silence these warnings, use `status.expect_partial()`. See https://www.tensorflow.org/api_docs/python/tf/train/Checkpoint#restorefor details about the status object returned by the restore function.\n"
     ]
    },
    {
     "name": "stdout",
     "output_type": "stream",
     "text": [
      "WARNING:tensorflow:Value in checkpoint could not be found in the restored object: (root).keras_api.metrics.0.total\n"
     ]
    },
    {
     "name": "stderr",
     "output_type": "stream",
     "text": [
      "WARNING:tensorflow:Value in checkpoint could not be found in the restored object: (root).keras_api.metrics.0.total\n"
     ]
    },
    {
     "name": "stdout",
     "output_type": "stream",
     "text": [
      "WARNING:tensorflow:Value in checkpoint could not be found in the restored object: (root).keras_api.metrics.0.count\n"
     ]
    },
    {
     "name": "stderr",
     "output_type": "stream",
     "text": [
      "WARNING:tensorflow:Value in checkpoint could not be found in the restored object: (root).keras_api.metrics.0.count\n"
     ]
    },
    {
     "name": "stdout",
     "output_type": "stream",
     "text": [
      "WARNING:tensorflow:Value in checkpoint could not be found in the restored object: (root).keras_api.metrics.1.total\n"
     ]
    },
    {
     "name": "stderr",
     "output_type": "stream",
     "text": [
      "WARNING:tensorflow:Value in checkpoint could not be found in the restored object: (root).keras_api.metrics.1.total\n"
     ]
    },
    {
     "name": "stdout",
     "output_type": "stream",
     "text": [
      "WARNING:tensorflow:Value in checkpoint could not be found in the restored object: (root).keras_api.metrics.1.count\n"
     ]
    },
    {
     "name": "stderr",
     "output_type": "stream",
     "text": [
      "WARNING:tensorflow:Value in checkpoint could not be found in the restored object: (root).keras_api.metrics.1.count\n"
     ]
    },
    {
     "name": "stdout",
     "output_type": "stream",
     "text": [
      "WARNING:tensorflow:Detecting that an object or model or tf.train.Checkpoint is being deleted with unrestored values. See the following logs for the specific values in question. To silence these warnings, use `status.expect_partial()`. See https://www.tensorflow.org/api_docs/python/tf/train/Checkpoint#restorefor details about the status object returned by the restore function.\n"
     ]
    },
    {
     "name": "stderr",
     "output_type": "stream",
     "text": [
      "WARNING:tensorflow:Detecting that an object or model or tf.train.Checkpoint is being deleted with unrestored values. See the following logs for the specific values in question. To silence these warnings, use `status.expect_partial()`. See https://www.tensorflow.org/api_docs/python/tf/train/Checkpoint#restorefor details about the status object returned by the restore function.\n"
     ]
    },
    {
     "name": "stdout",
     "output_type": "stream",
     "text": [
      "WARNING:tensorflow:Value in checkpoint could not be found in the restored object: (root).keras_api.metrics.0.total\n"
     ]
    },
    {
     "name": "stderr",
     "output_type": "stream",
     "text": [
      "WARNING:tensorflow:Value in checkpoint could not be found in the restored object: (root).keras_api.metrics.0.total\n"
     ]
    },
    {
     "name": "stdout",
     "output_type": "stream",
     "text": [
      "WARNING:tensorflow:Value in checkpoint could not be found in the restored object: (root).keras_api.metrics.0.count\n"
     ]
    },
    {
     "name": "stderr",
     "output_type": "stream",
     "text": [
      "WARNING:tensorflow:Value in checkpoint could not be found in the restored object: (root).keras_api.metrics.0.count\n"
     ]
    },
    {
     "name": "stdout",
     "output_type": "stream",
     "text": [
      "WARNING:tensorflow:Value in checkpoint could not be found in the restored object: (root).keras_api.metrics.1.total\n"
     ]
    },
    {
     "name": "stderr",
     "output_type": "stream",
     "text": [
      "WARNING:tensorflow:Value in checkpoint could not be found in the restored object: (root).keras_api.metrics.1.total\n"
     ]
    },
    {
     "name": "stdout",
     "output_type": "stream",
     "text": [
      "WARNING:tensorflow:Value in checkpoint could not be found in the restored object: (root).keras_api.metrics.1.count\n"
     ]
    },
    {
     "name": "stderr",
     "output_type": "stream",
     "text": [
      "WARNING:tensorflow:Value in checkpoint could not be found in the restored object: (root).keras_api.metrics.1.count\n"
     ]
    },
    {
     "name": "stdout",
     "output_type": "stream",
     "text": [
      "WARNING:tensorflow:Detecting that an object or model or tf.train.Checkpoint is being deleted with unrestored values. See the following logs for the specific values in question. To silence these warnings, use `status.expect_partial()`. See https://www.tensorflow.org/api_docs/python/tf/train/Checkpoint#restorefor details about the status object returned by the restore function.\n"
     ]
    },
    {
     "name": "stderr",
     "output_type": "stream",
     "text": [
      "WARNING:tensorflow:Detecting that an object or model or tf.train.Checkpoint is being deleted with unrestored values. See the following logs for the specific values in question. To silence these warnings, use `status.expect_partial()`. See https://www.tensorflow.org/api_docs/python/tf/train/Checkpoint#restorefor details about the status object returned by the restore function.\n"
     ]
    },
    {
     "name": "stdout",
     "output_type": "stream",
     "text": [
      "WARNING:tensorflow:Value in checkpoint could not be found in the restored object: (root).keras_api.metrics.0.total\n"
     ]
    },
    {
     "name": "stderr",
     "output_type": "stream",
     "text": [
      "WARNING:tensorflow:Value in checkpoint could not be found in the restored object: (root).keras_api.metrics.0.total\n"
     ]
    },
    {
     "name": "stdout",
     "output_type": "stream",
     "text": [
      "WARNING:tensorflow:Value in checkpoint could not be found in the restored object: (root).keras_api.metrics.0.count\n"
     ]
    },
    {
     "name": "stderr",
     "output_type": "stream",
     "text": [
      "WARNING:tensorflow:Value in checkpoint could not be found in the restored object: (root).keras_api.metrics.0.count\n"
     ]
    },
    {
     "name": "stdout",
     "output_type": "stream",
     "text": [
      "WARNING:tensorflow:Value in checkpoint could not be found in the restored object: (root).keras_api.metrics.1.total\n"
     ]
    },
    {
     "name": "stderr",
     "output_type": "stream",
     "text": [
      "WARNING:tensorflow:Value in checkpoint could not be found in the restored object: (root).keras_api.metrics.1.total\n"
     ]
    },
    {
     "name": "stdout",
     "output_type": "stream",
     "text": [
      "WARNING:tensorflow:Value in checkpoint could not be found in the restored object: (root).keras_api.metrics.1.count\n"
     ]
    },
    {
     "name": "stderr",
     "output_type": "stream",
     "text": [
      "WARNING:tensorflow:Value in checkpoint could not be found in the restored object: (root).keras_api.metrics.1.count\n"
     ]
    },
    {
     "name": "stdout",
     "output_type": "stream",
     "text": [
      "INFO:tensorflow:Assets written to: C:\\Users\\shubh\\AppData\\Local\\Temp\\tmphoqbid3h\\assets\n"
     ]
    },
    {
     "name": "stderr",
     "output_type": "stream",
     "text": [
      "INFO:tensorflow:Assets written to: C:\\Users\\shubh\\AppData\\Local\\Temp\\tmphoqbid3h\\assets\n"
     ]
    },
    {
     "name": "stdout",
     "output_type": "stream",
     "text": [
      "Epoch 1/50\n",
      "320/320 [==============================] - 3s 5ms/step - loss: 0.4788 - accuracy: 0.7945\n",
      "Epoch 2/50\n",
      "320/320 [==============================] - 2s 5ms/step - loss: 0.1790 - accuracy: 0.8294\n",
      "Epoch 3/50\n",
      "320/320 [==============================] - 2s 5ms/step - loss: 0.1322 - accuracy: 0.9977\n",
      "Epoch 4/50\n",
      "320/320 [==============================] - 1s 5ms/step - loss: 0.1110 - accuracy: 0.9987\n",
      "Epoch 5/50\n",
      "320/320 [==============================] - 1s 5ms/step - loss: 0.0936 - accuracy: 0.9987\n",
      "Epoch 6/50\n",
      "320/320 [==============================] - 2s 5ms/step - loss: 0.0792 - accuracy: 0.9987\n",
      "Epoch 7/50\n",
      "320/320 [==============================] - 1s 5ms/step - loss: 0.0673 - accuracy: 0.9987\n",
      "Epoch 8/50\n",
      "320/320 [==============================] - 2s 5ms/step - loss: 0.0574 - accuracy: 0.9987\n",
      "Epoch 9/50\n",
      "320/320 [==============================] - 1s 5ms/step - loss: 0.0492 - accuracy: 0.9987\n",
      "Epoch 10/50\n",
      "320/320 [==============================] - 2s 5ms/step - loss: 0.0424 - accuracy: 0.9987\n",
      "Epoch 11/50\n",
      "320/320 [==============================] - 2s 5ms/step - loss: 0.0368 - accuracy: 0.9987\n",
      "Epoch 12/50\n",
      "320/320 [==============================] - 2s 5ms/step - loss: 0.0321 - accuracy: 0.9987\n",
      "Epoch 13/50\n",
      "320/320 [==============================] - 2s 5ms/step - loss: 0.0281 - accuracy: 0.9987\n",
      "Epoch 14/50\n",
      "320/320 [==============================] - 2s 5ms/step - loss: 0.0248 - accuracy: 0.9987\n",
      "Epoch 15/50\n",
      "320/320 [==============================] - 2s 5ms/step - loss: 0.0220 - accuracy: 0.9987\n",
      "Epoch 16/50\n",
      "320/320 [==============================] - 1s 5ms/step - loss: 0.0196 - accuracy: 0.9989\n",
      "Epoch 17/50\n",
      "320/320 [==============================] - 2s 5ms/step - loss: 0.0176 - accuracy: 0.9987\n",
      "Epoch 18/50\n",
      "320/320 [==============================] - 1s 5ms/step - loss: 0.0160 - accuracy: 0.9987\n",
      "Epoch 19/50\n",
      "320/320 [==============================] - 1s 5ms/step - loss: 0.0146 - accuracy: 0.9987\n",
      "Epoch 20/50\n",
      "320/320 [==============================] - 2s 5ms/step - loss: 0.0134 - accuracy: 0.9987\n",
      "Epoch 21/50\n",
      "320/320 [==============================] - 2s 5ms/step - loss: 0.0123 - accuracy: 0.9989\n",
      "Epoch 22/50\n",
      "320/320 [==============================] - 2s 5ms/step - loss: 0.0114 - accuracy: 0.9989\n",
      "Epoch 23/50\n",
      "320/320 [==============================] - 1s 4ms/step - loss: 0.0107 - accuracy: 0.9989\n",
      "Epoch 24/50\n",
      "320/320 [==============================] - 2s 5ms/step - loss: 0.0100 - accuracy: 0.9989\n",
      "Epoch 25/50\n",
      "320/320 [==============================] - 2s 5ms/step - loss: 0.0096 - accuracy: 0.9989\n",
      "Epoch 26/50\n",
      "320/320 [==============================] - 1s 5ms/step - loss: 0.0092 - accuracy: 0.9987\n",
      "Epoch 27/50\n",
      "320/320 [==============================] - 2s 5ms/step - loss: 0.0088 - accuracy: 0.9989\n",
      "Epoch 28/50\n",
      "320/320 [==============================] - 2s 5ms/step - loss: 0.0084 - accuracy: 0.9989\n",
      "Epoch 29/50\n",
      "320/320 [==============================] - 2s 5ms/step - loss: 0.0082 - accuracy: 0.9989\n",
      "Epoch 30/50\n",
      "320/320 [==============================] - 2s 5ms/step - loss: 0.0080 - accuracy: 0.9989\n",
      "Epoch 31/50\n",
      "320/320 [==============================] - 1s 5ms/step - loss: 0.0078 - accuracy: 0.9989\n",
      "Epoch 32/50\n",
      "320/320 [==============================] - 2s 5ms/step - loss: 0.0076 - accuracy: 0.9989\n",
      "Epoch 33/50\n",
      "320/320 [==============================] - 1s 5ms/step - loss: 0.0075 - accuracy: 0.9989\n",
      "Epoch 34/50\n",
      "320/320 [==============================] - 1s 5ms/step - loss: 0.0074 - accuracy: 0.9989\n",
      "Epoch 35/50\n",
      "320/320 [==============================] - 1s 4ms/step - loss: 0.0073 - accuracy: 0.9989\n",
      "Epoch 36/50\n",
      "320/320 [==============================] - 2s 5ms/step - loss: 0.0073 - accuracy: 0.9989\n",
      "Epoch 37/50\n",
      "320/320 [==============================] - 2s 5ms/step - loss: 0.0072 - accuracy: 0.9989\n",
      "Epoch 38/50\n",
      "320/320 [==============================] - 2s 5ms/step - loss: 0.0071 - accuracy: 0.9989\n",
      "Epoch 39/50\n",
      "320/320 [==============================] - 1s 5ms/step - loss: 0.0071 - accuracy: 0.9989\n",
      "Epoch 40/50\n",
      "320/320 [==============================] - 1s 5ms/step - loss: 0.0071 - accuracy: 0.9989\n",
      "Epoch 41/50\n",
      "320/320 [==============================] - 1s 5ms/step - loss: 0.0070 - accuracy: 0.9989\n",
      "Epoch 42/50\n",
      "320/320 [==============================] - 1s 5ms/step - loss: 0.0070 - accuracy: 0.9989\n",
      "Epoch 43/50\n",
      "320/320 [==============================] - 2s 5ms/step - loss: 0.0070 - accuracy: 0.9989\n",
      "Epoch 44/50\n",
      "320/320 [==============================] - 1s 5ms/step - loss: 0.0070 - accuracy: 0.9989\n",
      "Epoch 45/50\n",
      "320/320 [==============================] - 1s 5ms/step - loss: 0.0069 - accuracy: 0.9989\n",
      "Epoch 46/50\n",
      "320/320 [==============================] - 1s 5ms/step - loss: 0.0069 - accuracy: 0.9989\n",
      "Epoch 47/50\n",
      "320/320 [==============================] - 2s 5ms/step - loss: 0.0069 - accuracy: 0.9989\n",
      "Epoch 48/50\n",
      "320/320 [==============================] - 1s 5ms/step - loss: 0.0069 - accuracy: 0.9989\n",
      "Epoch 49/50\n",
      "320/320 [==============================] - 1s 5ms/step - loss: 0.0069 - accuracy: 0.9989\n",
      "Epoch 50/50\n",
      "320/320 [==============================] - 1s 5ms/step - loss: 0.0069 - accuracy: 0.9989\n",
      "80/80 [==============================] - 1s 4ms/step\n"
     ]
    },
    {
     "name": "stderr",
     "output_type": "stream",
     "text": [
      "WARNING:absl:Found untraced functions such as _update_step_xla while saving (showing 1 of 1). These functions will not be directly callable after loading.\n"
     ]
    },
    {
     "name": "stdout",
     "output_type": "stream",
     "text": [
      "INFO:tensorflow:Assets written to: C:\\Users\\shubh\\AppData\\Local\\Temp\\tmpxvmbsuxj\\assets\n"
     ]
    },
    {
     "name": "stderr",
     "output_type": "stream",
     "text": [
      "INFO:tensorflow:Assets written to: C:\\Users\\shubh\\AppData\\Local\\Temp\\tmpxvmbsuxj\\assets\n"
     ]
    },
    {
     "name": "stdout",
     "output_type": "stream",
     "text": [
      "Epoch 1/50\n",
      "320/320 [==============================] - 3s 4ms/step - loss: 0.4815 - accuracy: 0.7947\n",
      "Epoch 2/50\n",
      "320/320 [==============================] - 1s 5ms/step - loss: 0.1795 - accuracy: 0.8298\n",
      "Epoch 3/50\n",
      "320/320 [==============================] - 1s 5ms/step - loss: 0.1343 - accuracy: 0.9980\n",
      "Epoch 4/50\n",
      "320/320 [==============================] - 1s 4ms/step - loss: 0.1136 - accuracy: 0.9984\n",
      "Epoch 5/50\n",
      "320/320 [==============================] - 1s 5ms/step - loss: 0.0964 - accuracy: 0.9984\n",
      "Epoch 6/50\n",
      "320/320 [==============================] - 1s 5ms/step - loss: 0.0821 - accuracy: 0.9984\n",
      "Epoch 7/50\n",
      "320/320 [==============================] - 1s 5ms/step - loss: 0.0701 - accuracy: 0.9984\n",
      "Epoch 8/50\n",
      "320/320 [==============================] - 1s 4ms/step - loss: 0.0602 - accuracy: 0.9984\n",
      "Epoch 9/50\n",
      "320/320 [==============================] - 2s 5ms/step - loss: 0.0520 - accuracy: 0.9984\n",
      "Epoch 10/50\n",
      "320/320 [==============================] - 1s 5ms/step - loss: 0.0452 - accuracy: 0.9984\n",
      "Epoch 11/50\n",
      "320/320 [==============================] - 1s 5ms/step - loss: 0.0395 - accuracy: 0.9984\n",
      "Epoch 12/50\n",
      "320/320 [==============================] - 1s 5ms/step - loss: 0.0347 - accuracy: 0.9984\n",
      "Epoch 13/50\n",
      "320/320 [==============================] - 1s 4ms/step - loss: 0.0308 - accuracy: 0.9984\n",
      "Epoch 14/50\n",
      "320/320 [==============================] - 1s 4ms/step - loss: 0.0275 - accuracy: 0.9984\n",
      "Epoch 15/50\n",
      "320/320 [==============================] - 2s 5ms/step - loss: 0.0247 - accuracy: 0.9984\n",
      "Epoch 16/50\n",
      "320/320 [==============================] - 2s 5ms/step - loss: 0.0223 - accuracy: 0.9984\n",
      "Epoch 17/50\n",
      "320/320 [==============================] - 1s 5ms/step - loss: 0.0203 - accuracy: 0.9984\n",
      "Epoch 18/50\n",
      "320/320 [==============================] - 2s 5ms/step - loss: 0.0187 - accuracy: 0.9984\n",
      "Epoch 19/50\n",
      "320/320 [==============================] - 1s 5ms/step - loss: 0.0172 - accuracy: 0.9984\n",
      "Epoch 20/50\n",
      "320/320 [==============================] - 1s 4ms/step - loss: 0.0160 - accuracy: 0.9984\n",
      "Epoch 21/50\n",
      "320/320 [==============================] - 1s 4ms/step - loss: 0.0150 - accuracy: 0.9984\n",
      "Epoch 22/50\n",
      "320/320 [==============================] - 1s 4ms/step - loss: 0.0141 - accuracy: 0.9984\n",
      "Epoch 23/50\n",
      "320/320 [==============================] - 1s 4ms/step - loss: 0.0134 - accuracy: 0.9984\n",
      "Epoch 24/50\n",
      "320/320 [==============================] - 2s 6ms/step - loss: 0.0127 - accuracy: 0.9984\n",
      "Epoch 25/50\n",
      "320/320 [==============================] - 1s 5ms/step - loss: 0.0122 - accuracy: 0.9984\n",
      "Epoch 26/50\n",
      "320/320 [==============================] - 1s 4ms/step - loss: 0.0118 - accuracy: 0.9984\n",
      "Epoch 27/50\n",
      "320/320 [==============================] - 1s 4ms/step - loss: 0.0114 - accuracy: 0.9984\n",
      "Epoch 28/50\n",
      "320/320 [==============================] - 1s 4ms/step - loss: 0.0111 - accuracy: 0.9984\n",
      "Epoch 29/50\n",
      "320/320 [==============================] - 1s 5ms/step - loss: 0.0108 - accuracy: 0.9984\n",
      "Epoch 30/50\n",
      "320/320 [==============================] - 1s 4ms/step - loss: 0.0106 - accuracy: 0.9984\n",
      "Epoch 31/50\n",
      "320/320 [==============================] - 1s 5ms/step - loss: 0.0104 - accuracy: 0.9984\n",
      "Epoch 32/50\n",
      "320/320 [==============================] - 2s 5ms/step - loss: 0.0102 - accuracy: 0.9984\n",
      "Epoch 33/50\n",
      "320/320 [==============================] - 1s 4ms/step - loss: 0.0100 - accuracy: 0.9984\n",
      "Epoch 34/50\n",
      "320/320 [==============================] - 1s 4ms/step - loss: 0.0099 - accuracy: 0.9984\n",
      "Epoch 35/50\n",
      "320/320 [==============================] - 1s 5ms/step - loss: 0.0098 - accuracy: 0.9984\n",
      "Epoch 36/50\n",
      "320/320 [==============================] - 1s 5ms/step - loss: 0.0099 - accuracy: 0.9984\n",
      "Epoch 37/50\n",
      "320/320 [==============================] - 1s 4ms/step - loss: 0.0097 - accuracy: 0.9984\n",
      "Epoch 38/50\n",
      "320/320 [==============================] - 1s 5ms/step - loss: 0.0096 - accuracy: 0.9984\n",
      "Epoch 39/50\n",
      "320/320 [==============================] - 1s 4ms/step - loss: 0.0096 - accuracy: 0.9984\n",
      "Epoch 40/50\n",
      "320/320 [==============================] - 1s 4ms/step - loss: 0.0094 - accuracy: 0.9984\n",
      "Epoch 41/50\n",
      "320/320 [==============================] - 1s 4ms/step - loss: 0.0095 - accuracy: 0.9984\n",
      "Epoch 42/50\n",
      "320/320 [==============================] - 2s 5ms/step - loss: 0.0093 - accuracy: 0.9984\n",
      "Epoch 43/50\n",
      "320/320 [==============================] - 1s 5ms/step - loss: 0.0093 - accuracy: 0.9984\n",
      "Epoch 44/50\n",
      "320/320 [==============================] - 1s 5ms/step - loss: 0.0093 - accuracy: 0.9984\n",
      "Epoch 45/50\n",
      "320/320 [==============================] - 1s 4ms/step - loss: 0.0092 - accuracy: 0.9984\n",
      "Epoch 46/50\n",
      "320/320 [==============================] - 1s 5ms/step - loss: 0.0092 - accuracy: 0.9984\n",
      "Epoch 47/50\n",
      "320/320 [==============================] - 1s 4ms/step - loss: 0.0092 - accuracy: 0.9984\n",
      "Epoch 48/50\n",
      "320/320 [==============================] - 1s 5ms/step - loss: 0.0091 - accuracy: 0.9984\n",
      "Epoch 49/50\n",
      "320/320 [==============================] - 2s 5ms/step - loss: 0.0090 - accuracy: 0.9984\n",
      "Epoch 50/50\n",
      "320/320 [==============================] - 1s 5ms/step - loss: 0.0089 - accuracy: 0.9986\n",
      "80/80 [==============================] - 1s 4ms/step\n"
     ]
    },
    {
     "name": "stderr",
     "output_type": "stream",
     "text": [
      "WARNING:absl:Found untraced functions such as _update_step_xla while saving (showing 1 of 1). These functions will not be directly callable after loading.\n"
     ]
    },
    {
     "name": "stdout",
     "output_type": "stream",
     "text": [
      "INFO:tensorflow:Assets written to: C:\\Users\\shubh\\AppData\\Local\\Temp\\tmpg172r6o3\\assets\n"
     ]
    },
    {
     "name": "stderr",
     "output_type": "stream",
     "text": [
      "INFO:tensorflow:Assets written to: C:\\Users\\shubh\\AppData\\Local\\Temp\\tmpg172r6o3\\assets\n"
     ]
    },
    {
     "name": "stdout",
     "output_type": "stream",
     "text": [
      "Epoch 1/50\n",
      "320/320 [==============================] - 3s 5ms/step - loss: 0.4767 - accuracy: 0.7952\n",
      "Epoch 2/50\n",
      "320/320 [==============================] - 2s 5ms/step - loss: 0.1808 - accuracy: 0.8305\n",
      "Epoch 3/50\n",
      "320/320 [==============================] - 1s 5ms/step - loss: 0.1341 - accuracy: 0.9977\n",
      "Epoch 4/50\n",
      "320/320 [==============================] - 2s 5ms/step - loss: 0.1131 - accuracy: 0.9983\n",
      "Epoch 5/50\n",
      "320/320 [==============================] - 1s 5ms/step - loss: 0.0960 - accuracy: 0.9983\n",
      "Epoch 6/50\n",
      "320/320 [==============================] - 2s 5ms/step - loss: 0.0816 - accuracy: 0.9983\n",
      "Epoch 7/50\n",
      "320/320 [==============================] - 2s 6ms/step - loss: 0.0697 - accuracy: 0.9983\n",
      "Epoch 8/50\n",
      "320/320 [==============================] - 2s 5ms/step - loss: 0.0599 - accuracy: 0.9983\n",
      "Epoch 9/50\n",
      "320/320 [==============================] - 1s 5ms/step - loss: 0.0517 - accuracy: 0.9983\n",
      "Epoch 10/50\n",
      "320/320 [==============================] - 1s 5ms/step - loss: 0.0451 - accuracy: 0.9983\n",
      "Epoch 11/50\n",
      "320/320 [==============================] - 1s 5ms/step - loss: 0.0395 - accuracy: 0.9983\n",
      "Epoch 12/50\n",
      "320/320 [==============================] - 1s 5ms/step - loss: 0.0348 - accuracy: 0.9983\n",
      "Epoch 13/50\n",
      "320/320 [==============================] - 1s 5ms/step - loss: 0.0308 - accuracy: 0.9983\n",
      "Epoch 14/50\n",
      "320/320 [==============================] - 2s 5ms/step - loss: 0.0277 - accuracy: 0.9983\n",
      "Epoch 15/50\n",
      "320/320 [==============================] - 1s 5ms/step - loss: 0.0248 - accuracy: 0.9983\n",
      "Epoch 16/50\n",
      "320/320 [==============================] - 1s 4ms/step - loss: 0.0227 - accuracy: 0.9983\n",
      "Epoch 17/50\n",
      "320/320 [==============================] - 1s 4ms/step - loss: 0.0207 - accuracy: 0.9983\n",
      "Epoch 18/50\n",
      "320/320 [==============================] - 2s 5ms/step - loss: 0.0191 - accuracy: 0.9983\n",
      "Epoch 19/50\n",
      "320/320 [==============================] - 2s 5ms/step - loss: 0.0175 - accuracy: 0.9983\n",
      "Epoch 20/50\n",
      "320/320 [==============================] - 2s 5ms/step - loss: 0.0166 - accuracy: 0.9983\n",
      "Epoch 21/50\n",
      "320/320 [==============================] - 2s 5ms/step - loss: 0.0155 - accuracy: 0.9983\n",
      "Epoch 22/50\n",
      "320/320 [==============================] - 1s 5ms/step - loss: 0.0146 - accuracy: 0.9983\n",
      "Epoch 23/50\n",
      "320/320 [==============================] - 1s 5ms/step - loss: 0.0140 - accuracy: 0.9983\n",
      "Epoch 24/50\n",
      "320/320 [==============================] - 2s 5ms/step - loss: 0.0133 - accuracy: 0.9983\n",
      "Epoch 25/50\n",
      "320/320 [==============================] - 2s 5ms/step - loss: 0.0129 - accuracy: 0.9983\n",
      "Epoch 26/50\n",
      "320/320 [==============================] - 1s 4ms/step - loss: 0.0124 - accuracy: 0.9983\n",
      "Epoch 27/50\n",
      "320/320 [==============================] - 1s 5ms/step - loss: 0.0122 - accuracy: 0.9983\n",
      "Epoch 28/50\n",
      "320/320 [==============================] - 1s 5ms/step - loss: 0.0117 - accuracy: 0.9983\n",
      "Epoch 29/50\n",
      "320/320 [==============================] - 2s 5ms/step - loss: 0.0117 - accuracy: 0.9983\n",
      "Epoch 30/50\n",
      "320/320 [==============================] - 1s 5ms/step - loss: 0.0113 - accuracy: 0.9983\n",
      "Epoch 31/50\n",
      "320/320 [==============================] - 2s 5ms/step - loss: 0.0112 - accuracy: 0.9983\n",
      "Epoch 32/50\n",
      "320/320 [==============================] - 2s 5ms/step - loss: 0.0110 - accuracy: 0.9983\n",
      "Epoch 33/50\n",
      "320/320 [==============================] - 1s 4ms/step - loss: 0.0110 - accuracy: 0.9983\n",
      "Epoch 34/50\n",
      "320/320 [==============================] - 1s 5ms/step - loss: 0.0108 - accuracy: 0.9983\n",
      "Epoch 35/50\n",
      "320/320 [==============================] - 2s 5ms/step - loss: 0.0108 - accuracy: 0.9983\n",
      "Epoch 36/50\n",
      "320/320 [==============================] - 1s 4ms/step - loss: 0.0107 - accuracy: 0.9983\n",
      "Epoch 37/50\n",
      "320/320 [==============================] - 2s 5ms/step - loss: 0.0106 - accuracy: 0.9983\n",
      "Epoch 38/50\n",
      "320/320 [==============================] - 2s 6ms/step - loss: 0.0106 - accuracy: 0.9981\n",
      "Epoch 39/50\n",
      "320/320 [==============================] - 1s 4ms/step - loss: 0.0105 - accuracy: 0.9983\n",
      "Epoch 40/50\n",
      "320/320 [==============================] - 1s 5ms/step - loss: 0.0105 - accuracy: 0.9981\n",
      "Epoch 41/50\n",
      "320/320 [==============================] - 1s 5ms/step - loss: 0.0104 - accuracy: 0.9983\n",
      "Epoch 42/50\n",
      "320/320 [==============================] - 1s 5ms/step - loss: 0.0104 - accuracy: 0.9983\n",
      "Epoch 43/50\n",
      "320/320 [==============================] - 1s 5ms/step - loss: 0.0102 - accuracy: 0.9983\n",
      "Epoch 44/50\n",
      "320/320 [==============================] - 2s 5ms/step - loss: 0.0103 - accuracy: 0.9983\n",
      "Epoch 45/50\n",
      "320/320 [==============================] - 1s 4ms/step - loss: 0.0104 - accuracy: 0.9983\n",
      "Epoch 46/50\n",
      "320/320 [==============================] - 1s 5ms/step - loss: 0.0103 - accuracy: 0.9983\n",
      "Epoch 47/50\n",
      "320/320 [==============================] - 1s 5ms/step - loss: 0.0103 - accuracy: 0.9983\n",
      "Epoch 48/50\n",
      "320/320 [==============================] - 2s 5ms/step - loss: 0.0103 - accuracy: 0.9983\n",
      "Epoch 49/50\n",
      "320/320 [==============================] - 2s 5ms/step - loss: 0.0102 - accuracy: 0.9983\n",
      "Epoch 50/50\n",
      "320/320 [==============================] - 1s 5ms/step - loss: 0.0102 - accuracy: 0.9983\n",
      "80/80 [==============================] - 1s 4ms/step\n"
     ]
    },
    {
     "name": "stderr",
     "output_type": "stream",
     "text": [
      "WARNING:absl:Found untraced functions such as _update_step_xla while saving (showing 1 of 1). These functions will not be directly callable after loading.\n"
     ]
    },
    {
     "name": "stdout",
     "output_type": "stream",
     "text": [
      "INFO:tensorflow:Assets written to: C:\\Users\\shubh\\AppData\\Local\\Temp\\tmpi3pyz751\\assets\n"
     ]
    },
    {
     "name": "stderr",
     "output_type": "stream",
     "text": [
      "INFO:tensorflow:Assets written to: C:\\Users\\shubh\\AppData\\Local\\Temp\\tmpi3pyz751\\assets\n"
     ]
    },
    {
     "name": "stdout",
     "output_type": "stream",
     "text": [
      "Epoch 1/50\n",
      "320/320 [==============================] - 3s 5ms/step - loss: 0.4783 - accuracy: 0.7952\n",
      "Epoch 2/50\n",
      "320/320 [==============================] - 1s 4ms/step - loss: 0.1797 - accuracy: 0.8298\n",
      "Epoch 3/50\n",
      "320/320 [==============================] - 1s 5ms/step - loss: 0.1334 - accuracy: 0.9973\n",
      "Epoch 4/50\n",
      "320/320 [==============================] - 2s 5ms/step - loss: 0.1125 - accuracy: 0.9984\n",
      "Epoch 5/50\n",
      "320/320 [==============================] - 1s 4ms/step - loss: 0.0952 - accuracy: 0.9984\n",
      "Epoch 6/50\n",
      "320/320 [==============================] - 2s 5ms/step - loss: 0.0809 - accuracy: 0.9984\n",
      "Epoch 7/50\n",
      "320/320 [==============================] - 1s 5ms/step - loss: 0.0690 - accuracy: 0.9984\n",
      "Epoch 8/50\n",
      "320/320 [==============================] - 1s 5ms/step - loss: 0.0592 - accuracy: 0.9984\n",
      "Epoch 9/50\n",
      "320/320 [==============================] - 1s 5ms/step - loss: 0.0511 - accuracy: 0.9984\n",
      "Epoch 10/50\n",
      "320/320 [==============================] - 1s 4ms/step - loss: 0.0443 - accuracy: 0.9984\n",
      "Epoch 11/50\n",
      "320/320 [==============================] - 2s 5ms/step - loss: 0.0387 - accuracy: 0.9984\n",
      "Epoch 12/50\n",
      "320/320 [==============================] - 1s 4ms/step - loss: 0.0341 - accuracy: 0.9984\n",
      "Epoch 13/50\n",
      "320/320 [==============================] - 1s 5ms/step - loss: 0.0302 - accuracy: 0.9984\n",
      "Epoch 14/50\n",
      "320/320 [==============================] - 1s 4ms/step - loss: 0.0268 - accuracy: 0.9984\n",
      "Epoch 15/50\n",
      "320/320 [==============================] - 1s 5ms/step - loss: 0.0242 - accuracy: 0.9984\n",
      "Epoch 16/50\n",
      "320/320 [==============================] - 1s 4ms/step - loss: 0.0217 - accuracy: 0.9984\n",
      "Epoch 17/50\n",
      "320/320 [==============================] - 1s 5ms/step - loss: 0.0200 - accuracy: 0.9984\n",
      "Epoch 18/50\n",
      "320/320 [==============================] - 1s 5ms/step - loss: 0.0183 - accuracy: 0.9984\n",
      "Epoch 19/50\n",
      "320/320 [==============================] - 1s 5ms/step - loss: 0.0169 - accuracy: 0.9984\n",
      "Epoch 20/50\n",
      "320/320 [==============================] - 2s 5ms/step - loss: 0.0157 - accuracy: 0.9984\n",
      "Epoch 21/50\n",
      "320/320 [==============================] - 1s 4ms/step - loss: 0.0147 - accuracy: 0.9984\n",
      "Epoch 22/50\n",
      "320/320 [==============================] - 2s 5ms/step - loss: 0.0139 - accuracy: 0.9984\n",
      "Epoch 23/50\n",
      "320/320 [==============================] - 1s 5ms/step - loss: 0.0131 - accuracy: 0.9984\n",
      "Epoch 24/50\n",
      "320/320 [==============================] - 1s 5ms/step - loss: 0.0125 - accuracy: 0.9984\n",
      "Epoch 25/50\n",
      "320/320 [==============================] - 2s 5ms/step - loss: 0.0121 - accuracy: 0.9984\n",
      "Epoch 26/50\n",
      "320/320 [==============================] - 2s 6ms/step - loss: 0.0116 - accuracy: 0.9984\n",
      "Epoch 27/50\n",
      "320/320 [==============================] - 2s 5ms/step - loss: 0.0113 - accuracy: 0.9984\n",
      "Epoch 28/50\n",
      "320/320 [==============================] - 1s 5ms/step - loss: 0.0110 - accuracy: 0.9984\n",
      "Epoch 29/50\n",
      "320/320 [==============================] - 2s 5ms/step - loss: 0.0108 - accuracy: 0.9984\n",
      "Epoch 30/50\n",
      "320/320 [==============================] - 1s 5ms/step - loss: 0.0106 - accuracy: 0.9984\n",
      "Epoch 31/50\n",
      "320/320 [==============================] - 2s 5ms/step - loss: 0.0104 - accuracy: 0.9984\n",
      "Epoch 32/50\n",
      "320/320 [==============================] - 1s 4ms/step - loss: 0.0103 - accuracy: 0.9984\n",
      "Epoch 33/50\n",
      "320/320 [==============================] - 2s 5ms/step - loss: 0.0102 - accuracy: 0.9984\n",
      "Epoch 34/50\n",
      "320/320 [==============================] - 1s 5ms/step - loss: 0.0101 - accuracy: 0.9984\n",
      "Epoch 35/50\n",
      "320/320 [==============================] - 1s 5ms/step - loss: 0.0100 - accuracy: 0.9984\n",
      "Epoch 36/50\n",
      "320/320 [==============================] - 1s 5ms/step - loss: 0.0100 - accuracy: 0.9984\n",
      "Epoch 37/50\n",
      "320/320 [==============================] - 1s 5ms/step - loss: 0.0099 - accuracy: 0.9984\n",
      "Epoch 38/50\n",
      "320/320 [==============================] - 2s 5ms/step - loss: 0.0098 - accuracy: 0.9984\n",
      "Epoch 39/50\n",
      "320/320 [==============================] - 1s 5ms/step - loss: 0.0098 - accuracy: 0.9984\n",
      "Epoch 40/50\n",
      "320/320 [==============================] - 1s 5ms/step - loss: 0.0097 - accuracy: 0.9984\n",
      "Epoch 41/50\n",
      "320/320 [==============================] - 1s 4ms/step - loss: 0.0097 - accuracy: 0.9984\n",
      "Epoch 42/50\n",
      "320/320 [==============================] - 1s 4ms/step - loss: 0.0095 - accuracy: 0.9984\n",
      "Epoch 43/50\n",
      "320/320 [==============================] - 1s 5ms/step - loss: 0.0096 - accuracy: 0.9984\n",
      "Epoch 44/50\n",
      "320/320 [==============================] - 1s 4ms/step - loss: 0.0096 - accuracy: 0.9984\n",
      "Epoch 45/50\n",
      "320/320 [==============================] - 1s 5ms/step - loss: 0.0095 - accuracy: 0.9984\n",
      "Epoch 46/50\n",
      "320/320 [==============================] - 2s 5ms/step - loss: 0.0096 - accuracy: 0.9984\n",
      "Epoch 47/50\n",
      "320/320 [==============================] - 1s 4ms/step - loss: 0.0095 - accuracy: 0.9984\n",
      "Epoch 48/50\n",
      "320/320 [==============================] - 1s 5ms/step - loss: 0.0096 - accuracy: 0.9984\n",
      "Epoch 49/50\n",
      "320/320 [==============================] - 1s 5ms/step - loss: 0.0095 - accuracy: 0.9984\n",
      "Epoch 50/50\n",
      "320/320 [==============================] - 1s 4ms/step - loss: 0.0094 - accuracy: 0.9984\n",
      "80/80 [==============================] - 1s 4ms/step\n"
     ]
    },
    {
     "name": "stderr",
     "output_type": "stream",
     "text": [
      "WARNING:absl:Found untraced functions such as _update_step_xla while saving (showing 1 of 1). These functions will not be directly callable after loading.\n"
     ]
    },
    {
     "name": "stdout",
     "output_type": "stream",
     "text": [
      "INFO:tensorflow:Assets written to: C:\\Users\\shubh\\AppData\\Local\\Temp\\tmpv2zaskh2\\assets\n"
     ]
    },
    {
     "name": "stderr",
     "output_type": "stream",
     "text": [
      "INFO:tensorflow:Assets written to: C:\\Users\\shubh\\AppData\\Local\\Temp\\tmpv2zaskh2\\assets\n"
     ]
    },
    {
     "name": "stdout",
     "output_type": "stream",
     "text": [
      "Epoch 1/50\n",
      "320/320 [==============================] - 3s 5ms/step - loss: 0.4776 - accuracy: 0.7953\n",
      "Epoch 2/50\n",
      "320/320 [==============================] - 1s 4ms/step - loss: 0.1797 - accuracy: 0.8331\n",
      "Epoch 3/50\n",
      "320/320 [==============================] - 1s 4ms/step - loss: 0.1338 - accuracy: 0.9975\n",
      "Epoch 4/50\n",
      "320/320 [==============================] - 2s 5ms/step - loss: 0.1130 - accuracy: 0.9980\n",
      "Epoch 5/50\n",
      "320/320 [==============================] - 1s 4ms/step - loss: 0.0958 - accuracy: 0.9980\n",
      "Epoch 6/50\n",
      "320/320 [==============================] - 1s 5ms/step - loss: 0.0816 - accuracy: 0.9980\n",
      "Epoch 7/50\n",
      "320/320 [==============================] - 1s 5ms/step - loss: 0.0699 - accuracy: 0.9980\n",
      "Epoch 8/50\n",
      "320/320 [==============================] - 1s 5ms/step - loss: 0.0602 - accuracy: 0.9980\n",
      "Epoch 9/50\n",
      "320/320 [==============================] - 2s 5ms/step - loss: 0.0521 - accuracy: 0.9980\n",
      "Epoch 10/50\n",
      "320/320 [==============================] - 1s 5ms/step - loss: 0.0455 - accuracy: 0.9980\n",
      "Epoch 11/50\n",
      "320/320 [==============================] - 2s 5ms/step - loss: 0.0399 - accuracy: 0.9980\n",
      "Epoch 12/50\n",
      "320/320 [==============================] - 1s 5ms/step - loss: 0.0355 - accuracy: 0.9980\n",
      "Epoch 13/50\n",
      "320/320 [==============================] - 2s 5ms/step - loss: 0.0315 - accuracy: 0.9980\n",
      "Epoch 14/50\n",
      "320/320 [==============================] - 2s 5ms/step - loss: 0.0285 - accuracy: 0.9980\n",
      "Epoch 15/50\n",
      "320/320 [==============================] - 1s 4ms/step - loss: 0.0258 - accuracy: 0.9980\n",
      "Epoch 16/50\n",
      "320/320 [==============================] - 1s 5ms/step - loss: 0.0233 - accuracy: 0.9980\n",
      "Epoch 17/50\n",
      "320/320 [==============================] - 1s 5ms/step - loss: 0.0216 - accuracy: 0.9980\n",
      "Epoch 18/50\n",
      "320/320 [==============================] - 2s 5ms/step - loss: 0.0201 - accuracy: 0.9980\n",
      "Epoch 19/50\n",
      "320/320 [==============================] - 1s 5ms/step - loss: 0.0187 - accuracy: 0.9980\n",
      "Epoch 20/50\n",
      "320/320 [==============================] - 2s 5ms/step - loss: 0.0175 - accuracy: 0.9980\n",
      "Epoch 21/50\n",
      "320/320 [==============================] - 2s 5ms/step - loss: 0.0166 - accuracy: 0.9980\n",
      "Epoch 22/50\n",
      "320/320 [==============================] - 1s 5ms/step - loss: 0.0158 - accuracy: 0.9980\n",
      "Epoch 23/50\n",
      "320/320 [==============================] - 1s 5ms/step - loss: 0.0152 - accuracy: 0.9980\n",
      "Epoch 24/50\n",
      "320/320 [==============================] - 2s 5ms/step - loss: 0.0147 - accuracy: 0.9980\n",
      "Epoch 25/50\n",
      "320/320 [==============================] - 2s 5ms/step - loss: 0.0142 - accuracy: 0.9980\n",
      "Epoch 26/50\n",
      "320/320 [==============================] - 2s 5ms/step - loss: 0.0137 - accuracy: 0.9980\n",
      "Epoch 27/50\n",
      "320/320 [==============================] - 1s 5ms/step - loss: 0.0134 - accuracy: 0.9980\n",
      "Epoch 28/50\n",
      "320/320 [==============================] - 1s 4ms/step - loss: 0.0129 - accuracy: 0.9980\n",
      "Epoch 29/50\n",
      "320/320 [==============================] - 2s 5ms/step - loss: 0.0130 - accuracy: 0.9980\n",
      "Epoch 30/50\n",
      "320/320 [==============================] - 1s 5ms/step - loss: 0.0129 - accuracy: 0.9980\n",
      "Epoch 31/50\n",
      "320/320 [==============================] - 1s 5ms/step - loss: 0.0126 - accuracy: 0.9980\n",
      "Epoch 32/50\n",
      "320/320 [==============================] - 1s 4ms/step - loss: 0.0125 - accuracy: 0.9978\n",
      "Epoch 33/50\n",
      "320/320 [==============================] - 1s 5ms/step - loss: 0.0124 - accuracy: 0.9980\n",
      "Epoch 34/50\n",
      "320/320 [==============================] - 2s 5ms/step - loss: 0.0124 - accuracy: 0.9980\n",
      "Epoch 35/50\n",
      "320/320 [==============================] - 1s 5ms/step - loss: 0.0122 - accuracy: 0.9980\n",
      "Epoch 36/50\n",
      "320/320 [==============================] - 2s 5ms/step - loss: 0.0123 - accuracy: 0.9980\n",
      "Epoch 37/50\n",
      "320/320 [==============================] - 2s 5ms/step - loss: 0.0120 - accuracy: 0.9980\n",
      "Epoch 38/50\n",
      "320/320 [==============================] - 1s 5ms/step - loss: 0.0121 - accuracy: 0.9980\n",
      "Epoch 39/50\n",
      "320/320 [==============================] - 2s 5ms/step - loss: 0.0121 - accuracy: 0.9980\n",
      "Epoch 40/50\n",
      "320/320 [==============================] - 2s 5ms/step - loss: 0.0120 - accuracy: 0.9980\n",
      "Epoch 41/50\n",
      "320/320 [==============================] - 1s 5ms/step - loss: 0.0120 - accuracy: 0.9980\n",
      "Epoch 42/50\n",
      "320/320 [==============================] - 2s 5ms/step - loss: 0.0120 - accuracy: 0.9980\n",
      "Epoch 43/50\n",
      "320/320 [==============================] - 1s 5ms/step - loss: 0.0120 - accuracy: 0.9980\n",
      "Epoch 44/50\n",
      "320/320 [==============================] - 2s 5ms/step - loss: 0.0119 - accuracy: 0.9980\n",
      "Epoch 45/50\n",
      "320/320 [==============================] - 1s 5ms/step - loss: 0.0119 - accuracy: 0.9980\n",
      "Epoch 46/50\n",
      "320/320 [==============================] - 2s 5ms/step - loss: 0.0118 - accuracy: 0.9980\n",
      "Epoch 47/50\n",
      "320/320 [==============================] - 2s 5ms/step - loss: 0.0119 - accuracy: 0.9980\n",
      "Epoch 48/50\n",
      "320/320 [==============================] - 2s 5ms/step - loss: 0.0120 - accuracy: 0.9980\n",
      "Epoch 49/50\n",
      "320/320 [==============================] - 1s 5ms/step - loss: 0.0119 - accuracy: 0.9980\n",
      "Epoch 50/50\n",
      "320/320 [==============================] - 1s 5ms/step - loss: 0.0117 - accuracy: 0.9980\n",
      "80/80 [==============================] - 1s 4ms/step\n",
      "WARNING:tensorflow:Detecting that an object or model or tf.train.Checkpoint is being deleted with unrestored values. See the following logs for the specific values in question. To silence these warnings, use `status.expect_partial()`. See https://www.tensorflow.org/api_docs/python/tf/train/Checkpoint#restorefor details about the status object returned by the restore function.\n"
     ]
    },
    {
     "name": "stderr",
     "output_type": "stream",
     "text": [
      "WARNING:tensorflow:Detecting that an object or model or tf.train.Checkpoint is being deleted with unrestored values. See the following logs for the specific values in question. To silence these warnings, use `status.expect_partial()`. See https://www.tensorflow.org/api_docs/python/tf/train/Checkpoint#restorefor details about the status object returned by the restore function.\n"
     ]
    },
    {
     "name": "stdout",
     "output_type": "stream",
     "text": [
      "WARNING:tensorflow:Value in checkpoint could not be found in the restored object: (root).keras_api.metrics.0.total\n"
     ]
    },
    {
     "name": "stderr",
     "output_type": "stream",
     "text": [
      "WARNING:tensorflow:Value in checkpoint could not be found in the restored object: (root).keras_api.metrics.0.total\n"
     ]
    },
    {
     "name": "stdout",
     "output_type": "stream",
     "text": [
      "WARNING:tensorflow:Value in checkpoint could not be found in the restored object: (root).keras_api.metrics.0.count\n"
     ]
    },
    {
     "name": "stderr",
     "output_type": "stream",
     "text": [
      "WARNING:tensorflow:Value in checkpoint could not be found in the restored object: (root).keras_api.metrics.0.count\n"
     ]
    },
    {
     "name": "stdout",
     "output_type": "stream",
     "text": [
      "WARNING:tensorflow:Value in checkpoint could not be found in the restored object: (root).keras_api.metrics.1.total\n"
     ]
    },
    {
     "name": "stderr",
     "output_type": "stream",
     "text": [
      "WARNING:tensorflow:Value in checkpoint could not be found in the restored object: (root).keras_api.metrics.1.total\n"
     ]
    },
    {
     "name": "stdout",
     "output_type": "stream",
     "text": [
      "WARNING:tensorflow:Value in checkpoint could not be found in the restored object: (root).keras_api.metrics.1.count\n"
     ]
    },
    {
     "name": "stderr",
     "output_type": "stream",
     "text": [
      "WARNING:tensorflow:Value in checkpoint could not be found in the restored object: (root).keras_api.metrics.1.count\n"
     ]
    },
    {
     "name": "stdout",
     "output_type": "stream",
     "text": [
      "WARNING:tensorflow:Detecting that an object or model or tf.train.Checkpoint is being deleted with unrestored values. See the following logs for the specific values in question. To silence these warnings, use `status.expect_partial()`. See https://www.tensorflow.org/api_docs/python/tf/train/Checkpoint#restorefor details about the status object returned by the restore function.\n"
     ]
    },
    {
     "name": "stderr",
     "output_type": "stream",
     "text": [
      "WARNING:tensorflow:Detecting that an object or model or tf.train.Checkpoint is being deleted with unrestored values. See the following logs for the specific values in question. To silence these warnings, use `status.expect_partial()`. See https://www.tensorflow.org/api_docs/python/tf/train/Checkpoint#restorefor details about the status object returned by the restore function.\n"
     ]
    },
    {
     "name": "stdout",
     "output_type": "stream",
     "text": [
      "WARNING:tensorflow:Value in checkpoint could not be found in the restored object: (root).keras_api.metrics.0.total\n"
     ]
    },
    {
     "name": "stderr",
     "output_type": "stream",
     "text": [
      "WARNING:tensorflow:Value in checkpoint could not be found in the restored object: (root).keras_api.metrics.0.total\n"
     ]
    },
    {
     "name": "stdout",
     "output_type": "stream",
     "text": [
      "WARNING:tensorflow:Value in checkpoint could not be found in the restored object: (root).keras_api.metrics.0.count\n"
     ]
    },
    {
     "name": "stderr",
     "output_type": "stream",
     "text": [
      "WARNING:tensorflow:Value in checkpoint could not be found in the restored object: (root).keras_api.metrics.0.count\n"
     ]
    },
    {
     "name": "stdout",
     "output_type": "stream",
     "text": [
      "WARNING:tensorflow:Value in checkpoint could not be found in the restored object: (root).keras_api.metrics.1.total\n"
     ]
    },
    {
     "name": "stderr",
     "output_type": "stream",
     "text": [
      "WARNING:tensorflow:Value in checkpoint could not be found in the restored object: (root).keras_api.metrics.1.total\n"
     ]
    },
    {
     "name": "stdout",
     "output_type": "stream",
     "text": [
      "WARNING:tensorflow:Value in checkpoint could not be found in the restored object: (root).keras_api.metrics.1.count\n"
     ]
    },
    {
     "name": "stderr",
     "output_type": "stream",
     "text": [
      "WARNING:tensorflow:Value in checkpoint could not be found in the restored object: (root).keras_api.metrics.1.count\n"
     ]
    },
    {
     "name": "stdout",
     "output_type": "stream",
     "text": [
      "WARNING:tensorflow:Detecting that an object or model or tf.train.Checkpoint is being deleted with unrestored values. See the following logs for the specific values in question. To silence these warnings, use `status.expect_partial()`. See https://www.tensorflow.org/api_docs/python/tf/train/Checkpoint#restorefor details about the status object returned by the restore function.\n"
     ]
    },
    {
     "name": "stderr",
     "output_type": "stream",
     "text": [
      "WARNING:tensorflow:Detecting that an object or model or tf.train.Checkpoint is being deleted with unrestored values. See the following logs for the specific values in question. To silence these warnings, use `status.expect_partial()`. See https://www.tensorflow.org/api_docs/python/tf/train/Checkpoint#restorefor details about the status object returned by the restore function.\n"
     ]
    },
    {
     "name": "stdout",
     "output_type": "stream",
     "text": [
      "WARNING:tensorflow:Value in checkpoint could not be found in the restored object: (root).keras_api.metrics.0.total\n"
     ]
    },
    {
     "name": "stderr",
     "output_type": "stream",
     "text": [
      "WARNING:tensorflow:Value in checkpoint could not be found in the restored object: (root).keras_api.metrics.0.total\n"
     ]
    },
    {
     "name": "stdout",
     "output_type": "stream",
     "text": [
      "WARNING:tensorflow:Value in checkpoint could not be found in the restored object: (root).keras_api.metrics.0.count\n"
     ]
    },
    {
     "name": "stderr",
     "output_type": "stream",
     "text": [
      "WARNING:tensorflow:Value in checkpoint could not be found in the restored object: (root).keras_api.metrics.0.count\n"
     ]
    },
    {
     "name": "stdout",
     "output_type": "stream",
     "text": [
      "WARNING:tensorflow:Value in checkpoint could not be found in the restored object: (root).keras_api.metrics.1.total\n"
     ]
    },
    {
     "name": "stderr",
     "output_type": "stream",
     "text": [
      "WARNING:tensorflow:Value in checkpoint could not be found in the restored object: (root).keras_api.metrics.1.total\n"
     ]
    },
    {
     "name": "stdout",
     "output_type": "stream",
     "text": [
      "WARNING:tensorflow:Value in checkpoint could not be found in the restored object: (root).keras_api.metrics.1.count\n"
     ]
    },
    {
     "name": "stderr",
     "output_type": "stream",
     "text": [
      "WARNING:tensorflow:Value in checkpoint could not be found in the restored object: (root).keras_api.metrics.1.count\n"
     ]
    },
    {
     "name": "stdout",
     "output_type": "stream",
     "text": [
      "WARNING:tensorflow:Detecting that an object or model or tf.train.Checkpoint is being deleted with unrestored values. See the following logs for the specific values in question. To silence these warnings, use `status.expect_partial()`. See https://www.tensorflow.org/api_docs/python/tf/train/Checkpoint#restorefor details about the status object returned by the restore function.\n"
     ]
    },
    {
     "name": "stderr",
     "output_type": "stream",
     "text": [
      "WARNING:tensorflow:Detecting that an object or model or tf.train.Checkpoint is being deleted with unrestored values. See the following logs for the specific values in question. To silence these warnings, use `status.expect_partial()`. See https://www.tensorflow.org/api_docs/python/tf/train/Checkpoint#restorefor details about the status object returned by the restore function.\n"
     ]
    },
    {
     "name": "stdout",
     "output_type": "stream",
     "text": [
      "WARNING:tensorflow:Value in checkpoint could not be found in the restored object: (root).keras_api.metrics.0.total\n"
     ]
    },
    {
     "name": "stderr",
     "output_type": "stream",
     "text": [
      "WARNING:tensorflow:Value in checkpoint could not be found in the restored object: (root).keras_api.metrics.0.total\n"
     ]
    },
    {
     "name": "stdout",
     "output_type": "stream",
     "text": [
      "WARNING:tensorflow:Value in checkpoint could not be found in the restored object: (root).keras_api.metrics.0.count\n"
     ]
    },
    {
     "name": "stderr",
     "output_type": "stream",
     "text": [
      "WARNING:tensorflow:Value in checkpoint could not be found in the restored object: (root).keras_api.metrics.0.count\n"
     ]
    },
    {
     "name": "stdout",
     "output_type": "stream",
     "text": [
      "WARNING:tensorflow:Value in checkpoint could not be found in the restored object: (root).keras_api.metrics.1.total\n"
     ]
    },
    {
     "name": "stderr",
     "output_type": "stream",
     "text": [
      "WARNING:tensorflow:Value in checkpoint could not be found in the restored object: (root).keras_api.metrics.1.total\n"
     ]
    },
    {
     "name": "stdout",
     "output_type": "stream",
     "text": [
      "WARNING:tensorflow:Value in checkpoint could not be found in the restored object: (root).keras_api.metrics.1.count\n"
     ]
    },
    {
     "name": "stderr",
     "output_type": "stream",
     "text": [
      "WARNING:tensorflow:Value in checkpoint could not be found in the restored object: (root).keras_api.metrics.1.count\n"
     ]
    },
    {
     "name": "stdout",
     "output_type": "stream",
     "text": [
      "WARNING:tensorflow:Detecting that an object or model or tf.train.Checkpoint is being deleted with unrestored values. See the following logs for the specific values in question. To silence these warnings, use `status.expect_partial()`. See https://www.tensorflow.org/api_docs/python/tf/train/Checkpoint#restorefor details about the status object returned by the restore function.\n"
     ]
    },
    {
     "name": "stderr",
     "output_type": "stream",
     "text": [
      "WARNING:tensorflow:Detecting that an object or model or tf.train.Checkpoint is being deleted with unrestored values. See the following logs for the specific values in question. To silence these warnings, use `status.expect_partial()`. See https://www.tensorflow.org/api_docs/python/tf/train/Checkpoint#restorefor details about the status object returned by the restore function.\n"
     ]
    },
    {
     "name": "stdout",
     "output_type": "stream",
     "text": [
      "WARNING:tensorflow:Value in checkpoint could not be found in the restored object: (root).keras_api.metrics.0.total\n"
     ]
    },
    {
     "name": "stderr",
     "output_type": "stream",
     "text": [
      "WARNING:tensorflow:Value in checkpoint could not be found in the restored object: (root).keras_api.metrics.0.total\n"
     ]
    },
    {
     "name": "stdout",
     "output_type": "stream",
     "text": [
      "WARNING:tensorflow:Value in checkpoint could not be found in the restored object: (root).keras_api.metrics.0.count\n"
     ]
    },
    {
     "name": "stderr",
     "output_type": "stream",
     "text": [
      "WARNING:tensorflow:Value in checkpoint could not be found in the restored object: (root).keras_api.metrics.0.count\n"
     ]
    },
    {
     "name": "stdout",
     "output_type": "stream",
     "text": [
      "WARNING:tensorflow:Value in checkpoint could not be found in the restored object: (root).keras_api.metrics.1.total\n"
     ]
    },
    {
     "name": "stderr",
     "output_type": "stream",
     "text": [
      "WARNING:tensorflow:Value in checkpoint could not be found in the restored object: (root).keras_api.metrics.1.total\n"
     ]
    },
    {
     "name": "stdout",
     "output_type": "stream",
     "text": [
      "WARNING:tensorflow:Value in checkpoint could not be found in the restored object: (root).keras_api.metrics.1.count\n"
     ]
    },
    {
     "name": "stderr",
     "output_type": "stream",
     "text": [
      "WARNING:tensorflow:Value in checkpoint could not be found in the restored object: (root).keras_api.metrics.1.count\n",
      "WARNING:absl:Found untraced functions such as _update_step_xla while saving (showing 1 of 1). These functions will not be directly callable after loading.\n"
     ]
    },
    {
     "name": "stdout",
     "output_type": "stream",
     "text": [
      "INFO:tensorflow:Assets written to: C:\\Users\\shubh\\AppData\\Local\\Temp\\tmpclnwra8u\\assets\n"
     ]
    },
    {
     "name": "stderr",
     "output_type": "stream",
     "text": [
      "INFO:tensorflow:Assets written to: C:\\Users\\shubh\\AppData\\Local\\Temp\\tmpclnwra8u\\assets\n"
     ]
    },
    {
     "name": "stdout",
     "output_type": "stream",
     "text": [
      "Epoch 1/50\n",
      "320/320 [==============================] - 4s 5ms/step - loss: 0.4780 - accuracy: 0.7942\n",
      "Epoch 2/50\n",
      "320/320 [==============================] - 1s 5ms/step - loss: 0.1787 - accuracy: 0.8320\n",
      "Epoch 3/50\n",
      "320/320 [==============================] - 1s 5ms/step - loss: 0.1321 - accuracy: 0.9978\n",
      "Epoch 4/50\n",
      "320/320 [==============================] - 1s 5ms/step - loss: 0.1109 - accuracy: 0.9987\n",
      "Epoch 5/50\n",
      "320/320 [==============================] - 1s 5ms/step - loss: 0.0936 - accuracy: 0.9987\n",
      "Epoch 6/50\n",
      "320/320 [==============================] - 1s 5ms/step - loss: 0.0792 - accuracy: 0.9987\n",
      "Epoch 7/50\n",
      "320/320 [==============================] - 2s 5ms/step - loss: 0.0672 - accuracy: 0.9987\n",
      "Epoch 8/50\n",
      "320/320 [==============================] - 1s 5ms/step - loss: 0.0574 - accuracy: 0.9987\n",
      "Epoch 9/50\n",
      "320/320 [==============================] - 1s 5ms/step - loss: 0.0492 - accuracy: 0.9987\n",
      "Epoch 10/50\n",
      "320/320 [==============================] - 1s 5ms/step - loss: 0.0423 - accuracy: 0.9987\n",
      "Epoch 11/50\n",
      "320/320 [==============================] - 1s 5ms/step - loss: 0.0368 - accuracy: 0.9987\n",
      "Epoch 12/50\n",
      "320/320 [==============================] - 1s 5ms/step - loss: 0.0320 - accuracy: 0.9987\n",
      "Epoch 13/50\n",
      "320/320 [==============================] - 1s 5ms/step - loss: 0.0281 - accuracy: 0.9987\n",
      "Epoch 14/50\n",
      "320/320 [==============================] - 2s 5ms/step - loss: 0.0247 - accuracy: 0.9987\n",
      "Epoch 15/50\n",
      "320/320 [==============================] - 2s 5ms/step - loss: 0.0220 - accuracy: 0.9987\n",
      "Epoch 16/50\n",
      "320/320 [==============================] - 2s 5ms/step - loss: 0.0196 - accuracy: 0.9987\n",
      "Epoch 17/50\n",
      "320/320 [==============================] - 1s 5ms/step - loss: 0.0177 - accuracy: 0.9987\n",
      "Epoch 18/50\n",
      "320/320 [==============================] - 1s 5ms/step - loss: 0.0159 - accuracy: 0.9987\n",
      "Epoch 19/50\n",
      "320/320 [==============================] - 2s 5ms/step - loss: 0.0145 - accuracy: 0.9989\n",
      "Epoch 20/50\n",
      "320/320 [==============================] - 2s 5ms/step - loss: 0.0133 - accuracy: 0.9989\n",
      "Epoch 21/50\n",
      "320/320 [==============================] - 2s 5ms/step - loss: 0.0123 - accuracy: 0.9987\n",
      "Epoch 22/50\n",
      "320/320 [==============================] - 1s 5ms/step - loss: 0.0114 - accuracy: 0.9989\n",
      "Epoch 23/50\n",
      "320/320 [==============================] - 2s 5ms/step - loss: 0.0107 - accuracy: 0.9989\n",
      "Epoch 24/50\n",
      "320/320 [==============================] - 2s 5ms/step - loss: 0.0100 - accuracy: 0.9989\n",
      "Epoch 25/50\n",
      "320/320 [==============================] - 1s 5ms/step - loss: 0.0095 - accuracy: 0.9989\n",
      "Epoch 26/50\n",
      "320/320 [==============================] - 1s 5ms/step - loss: 0.0091 - accuracy: 0.9989\n",
      "Epoch 27/50\n",
      "320/320 [==============================] - 1s 5ms/step - loss: 0.0087 - accuracy: 0.9989\n",
      "Epoch 28/50\n",
      "320/320 [==============================] - 2s 5ms/step - loss: 0.0084 - accuracy: 0.9989\n",
      "Epoch 29/50\n",
      "320/320 [==============================] - 2s 5ms/step - loss: 0.0081 - accuracy: 0.9989\n",
      "Epoch 30/50\n",
      "320/320 [==============================] - 1s 4ms/step - loss: 0.0079 - accuracy: 0.9989\n",
      "Epoch 31/50\n",
      "320/320 [==============================] - 1s 5ms/step - loss: 0.0077 - accuracy: 0.9989\n",
      "Epoch 32/50\n",
      "320/320 [==============================] - 2s 5ms/step - loss: 0.0076 - accuracy: 0.9989\n",
      "Epoch 33/50\n",
      "320/320 [==============================] - 1s 4ms/step - loss: 0.0075 - accuracy: 0.9989\n",
      "Epoch 34/50\n",
      "320/320 [==============================] - 1s 5ms/step - loss: 0.0074 - accuracy: 0.9989\n",
      "Epoch 35/50\n",
      "320/320 [==============================] - 2s 5ms/step - loss: 0.0073 - accuracy: 0.9989\n",
      "Epoch 36/50\n",
      "320/320 [==============================] - 1s 5ms/step - loss: 0.0072 - accuracy: 0.9989\n",
      "Epoch 37/50\n",
      "320/320 [==============================] - 1s 4ms/step - loss: 0.0072 - accuracy: 0.9989\n",
      "Epoch 38/50\n",
      "320/320 [==============================] - 2s 6ms/step - loss: 0.0071 - accuracy: 0.9989\n",
      "Epoch 39/50\n",
      "320/320 [==============================] - 1s 4ms/step - loss: 0.0071 - accuracy: 0.9989\n",
      "Epoch 40/50\n",
      "320/320 [==============================] - 1s 5ms/step - loss: 0.0070 - accuracy: 0.9989\n",
      "Epoch 41/50\n",
      "320/320 [==============================] - 1s 5ms/step - loss: 0.0070 - accuracy: 0.9989\n",
      "Epoch 42/50\n",
      "320/320 [==============================] - 2s 5ms/step - loss: 0.0070 - accuracy: 0.9989\n",
      "Epoch 43/50\n",
      "320/320 [==============================] - 1s 5ms/step - loss: 0.0070 - accuracy: 0.9989\n",
      "Epoch 44/50\n",
      "320/320 [==============================] - 1s 5ms/step - loss: 0.0070 - accuracy: 0.9989\n",
      "Epoch 45/50\n",
      "320/320 [==============================] - 2s 5ms/step - loss: 0.0069 - accuracy: 0.9989\n",
      "Epoch 46/50\n",
      "320/320 [==============================] - 1s 5ms/step - loss: 0.0069 - accuracy: 0.9989\n",
      "Epoch 47/50\n",
      "320/320 [==============================] - 1s 5ms/step - loss: 0.0069 - accuracy: 0.9989\n",
      "Epoch 48/50\n",
      "320/320 [==============================] - 1s 5ms/step - loss: 0.0069 - accuracy: 0.9989\n",
      "Epoch 49/50\n",
      "320/320 [==============================] - 2s 5ms/step - loss: 0.0069 - accuracy: 0.9989\n",
      "Epoch 50/50\n",
      "320/320 [==============================] - 2s 5ms/step - loss: 0.0069 - accuracy: 0.9989\n",
      "80/80 [==============================] - 1s 4ms/step\n"
     ]
    },
    {
     "name": "stderr",
     "output_type": "stream",
     "text": [
      "WARNING:absl:Found untraced functions such as _update_step_xla while saving (showing 1 of 1). These functions will not be directly callable after loading.\n"
     ]
    },
    {
     "name": "stdout",
     "output_type": "stream",
     "text": [
      "INFO:tensorflow:Assets written to: C:\\Users\\shubh\\AppData\\Local\\Temp\\tmpgz3qflfj\\assets\n"
     ]
    },
    {
     "name": "stderr",
     "output_type": "stream",
     "text": [
      "INFO:tensorflow:Assets written to: C:\\Users\\shubh\\AppData\\Local\\Temp\\tmpgz3qflfj\\assets\n"
     ]
    },
    {
     "name": "stdout",
     "output_type": "stream",
     "text": [
      "Epoch 1/50\n",
      "320/320 [==============================] - 3s 5ms/step - loss: 0.4782 - accuracy: 0.7953\n",
      "Epoch 2/50\n",
      "320/320 [==============================] - 1s 5ms/step - loss: 0.1798 - accuracy: 0.8308\n",
      "Epoch 3/50\n",
      "320/320 [==============================] - 2s 5ms/step - loss: 0.1340 - accuracy: 0.9978\n",
      "Epoch 4/50\n",
      "320/320 [==============================] - 1s 5ms/step - loss: 0.1130 - accuracy: 0.9984\n",
      "Epoch 5/50\n",
      "320/320 [==============================] - 2s 5ms/step - loss: 0.0959 - accuracy: 0.9984\n",
      "Epoch 6/50\n",
      "320/320 [==============================] - 1s 5ms/step - loss: 0.0815 - accuracy: 0.9984\n",
      "Epoch 7/50\n",
      "320/320 [==============================] - 1s 5ms/step - loss: 0.0697 - accuracy: 0.9984\n",
      "Epoch 8/50\n",
      "320/320 [==============================] - 1s 5ms/step - loss: 0.0598 - accuracy: 0.9984\n",
      "Epoch 9/50\n",
      "320/320 [==============================] - 2s 5ms/step - loss: 0.0516 - accuracy: 0.9984\n",
      "Epoch 10/50\n",
      "320/320 [==============================] - 2s 5ms/step - loss: 0.0449 - accuracy: 0.9984\n",
      "Epoch 11/50\n",
      "320/320 [==============================] - 1s 5ms/step - loss: 0.0393 - accuracy: 0.9984\n",
      "Epoch 12/50\n",
      "320/320 [==============================] - 1s 5ms/step - loss: 0.0345 - accuracy: 0.9984\n",
      "Epoch 13/50\n",
      "320/320 [==============================] - 1s 5ms/step - loss: 0.0306 - accuracy: 0.9984\n",
      "Epoch 14/50\n",
      "320/320 [==============================] - 1s 4ms/step - loss: 0.0273 - accuracy: 0.9984\n",
      "Epoch 15/50\n",
      "320/320 [==============================] - 2s 5ms/step - loss: 0.0246 - accuracy: 0.9984\n",
      "Epoch 16/50\n",
      "320/320 [==============================] - 1s 5ms/step - loss: 0.0222 - accuracy: 0.9984\n",
      "Epoch 17/50\n",
      "320/320 [==============================] - 2s 5ms/step - loss: 0.0202 - accuracy: 0.9984\n",
      "Epoch 18/50\n",
      "320/320 [==============================] - 1s 5ms/step - loss: 0.0185 - accuracy: 0.9984\n",
      "Epoch 19/50\n",
      "320/320 [==============================] - 2s 5ms/step - loss: 0.0171 - accuracy: 0.9984\n",
      "Epoch 20/50\n",
      "320/320 [==============================] - 1s 4ms/step - loss: 0.0159 - accuracy: 0.9984\n",
      "Epoch 21/50\n",
      "320/320 [==============================] - 2s 5ms/step - loss: 0.0149 - accuracy: 0.9984\n",
      "Epoch 22/50\n",
      "320/320 [==============================] - 1s 5ms/step - loss: 0.0139 - accuracy: 0.9984\n",
      "Epoch 23/50\n",
      "320/320 [==============================] - 2s 5ms/step - loss: 0.0133 - accuracy: 0.9984\n",
      "Epoch 24/50\n",
      "320/320 [==============================] - 1s 5ms/step - loss: 0.0127 - accuracy: 0.9984\n",
      "Epoch 25/50\n",
      "320/320 [==============================] - 2s 5ms/step - loss: 0.0122 - accuracy: 0.9984\n",
      "Epoch 26/50\n",
      "320/320 [==============================] - 2s 5ms/step - loss: 0.0118 - accuracy: 0.9984\n",
      "Epoch 27/50\n",
      "320/320 [==============================] - 1s 5ms/step - loss: 0.0114 - accuracy: 0.9984\n",
      "Epoch 28/50\n",
      "320/320 [==============================] - 2s 5ms/step - loss: 0.0110 - accuracy: 0.9984\n",
      "Epoch 29/50\n",
      "320/320 [==============================] - 2s 5ms/step - loss: 0.0108 - accuracy: 0.9984\n",
      "Epoch 30/50\n",
      "320/320 [==============================] - 1s 5ms/step - loss: 0.0105 - accuracy: 0.9984\n",
      "Epoch 31/50\n",
      "320/320 [==============================] - 2s 5ms/step - loss: 0.0103 - accuracy: 0.9984\n",
      "Epoch 32/50\n",
      "320/320 [==============================] - 1s 5ms/step - loss: 0.0102 - accuracy: 0.9984\n",
      "Epoch 33/50\n",
      "320/320 [==============================] - 2s 5ms/step - loss: 0.0101 - accuracy: 0.9984\n",
      "Epoch 34/50\n",
      "320/320 [==============================] - 1s 5ms/step - loss: 0.0099 - accuracy: 0.9984\n",
      "Epoch 35/50\n",
      "320/320 [==============================] - 1s 4ms/step - loss: 0.0099 - accuracy: 0.9984\n",
      "Epoch 36/50\n",
      "320/320 [==============================] - 2s 5ms/step - loss: 0.0097 - accuracy: 0.9984\n",
      "Epoch 37/50\n",
      "320/320 [==============================] - 1s 5ms/step - loss: 0.0093 - accuracy: 0.9984\n",
      "Epoch 38/50\n",
      "320/320 [==============================] - 2s 5ms/step - loss: 0.0098 - accuracy: 0.9984\n",
      "Epoch 39/50\n",
      "320/320 [==============================] - 2s 5ms/step - loss: 0.0096 - accuracy: 0.9984\n",
      "Epoch 40/50\n",
      "320/320 [==============================] - 1s 5ms/step - loss: 0.0095 - accuracy: 0.9984\n",
      "Epoch 41/50\n",
      "320/320 [==============================] - 1s 5ms/step - loss: 0.0094 - accuracy: 0.9984\n",
      "Epoch 42/50\n",
      "320/320 [==============================] - 2s 5ms/step - loss: 0.0094 - accuracy: 0.9984\n",
      "Epoch 43/50\n",
      "320/320 [==============================] - 2s 5ms/step - loss: 0.0093 - accuracy: 0.9984\n",
      "Epoch 44/50\n",
      "320/320 [==============================] - 2s 5ms/step - loss: 0.0093 - accuracy: 0.9984\n",
      "Epoch 45/50\n",
      "320/320 [==============================] - 1s 5ms/step - loss: 0.0094 - accuracy: 0.9984\n",
      "Epoch 46/50\n",
      "320/320 [==============================] - 2s 5ms/step - loss: 0.0093 - accuracy: 0.9984\n",
      "Epoch 47/50\n",
      "320/320 [==============================] - 1s 5ms/step - loss: 0.0091 - accuracy: 0.9984\n",
      "Epoch 48/50\n",
      "320/320 [==============================] - 2s 5ms/step - loss: 0.0093 - accuracy: 0.9984\n",
      "Epoch 49/50\n",
      "320/320 [==============================] - 2s 5ms/step - loss: 0.0092 - accuracy: 0.9984\n",
      "Epoch 50/50\n",
      "320/320 [==============================] - 1s 5ms/step - loss: 0.0091 - accuracy: 0.9984\n",
      "80/80 [==============================] - 0s 4ms/step\n"
     ]
    },
    {
     "name": "stderr",
     "output_type": "stream",
     "text": [
      "WARNING:absl:Found untraced functions such as _update_step_xla while saving (showing 1 of 1). These functions will not be directly callable after loading.\n"
     ]
    },
    {
     "name": "stdout",
     "output_type": "stream",
     "text": [
      "INFO:tensorflow:Assets written to: C:\\Users\\shubh\\AppData\\Local\\Temp\\tmp0_6xslpk\\assets\n"
     ]
    },
    {
     "name": "stderr",
     "output_type": "stream",
     "text": [
      "INFO:tensorflow:Assets written to: C:\\Users\\shubh\\AppData\\Local\\Temp\\tmp0_6xslpk\\assets\n"
     ]
    },
    {
     "name": "stdout",
     "output_type": "stream",
     "text": [
      "Epoch 1/50\n",
      "320/320 [==============================] - 3s 5ms/step - loss: 0.4761 - accuracy: 0.7950\n",
      "Epoch 2/50\n",
      "320/320 [==============================] - 1s 4ms/step - loss: 0.1800 - accuracy: 0.8316\n",
      "Epoch 3/50\n",
      "320/320 [==============================] - 2s 5ms/step - loss: 0.1338 - accuracy: 0.9980\n",
      "Epoch 4/50\n",
      "320/320 [==============================] - 1s 4ms/step - loss: 0.1128 - accuracy: 0.9983\n",
      "Epoch 5/50\n",
      "320/320 [==============================] - 1s 4ms/step - loss: 0.0956 - accuracy: 0.9983\n",
      "Epoch 6/50\n",
      "320/320 [==============================] - 1s 4ms/step - loss: 0.0814 - accuracy: 0.9983\n",
      "Epoch 7/50\n",
      "320/320 [==============================] - 1s 5ms/step - loss: 0.0695 - accuracy: 0.9983\n",
      "Epoch 8/50\n",
      "320/320 [==============================] - 1s 5ms/step - loss: 0.0597 - accuracy: 0.9983\n",
      "Epoch 9/50\n",
      "320/320 [==============================] - 2s 5ms/step - loss: 0.0516 - accuracy: 0.9983\n",
      "Epoch 10/50\n",
      "320/320 [==============================] - 1s 4ms/step - loss: 0.0449 - accuracy: 0.9983\n",
      "Epoch 11/50\n",
      "320/320 [==============================] - 2s 5ms/step - loss: 0.0393 - accuracy: 0.9983\n",
      "Epoch 12/50\n",
      "320/320 [==============================] - 2s 5ms/step - loss: 0.0347 - accuracy: 0.9983\n",
      "Epoch 13/50\n",
      "320/320 [==============================] - 1s 5ms/step - loss: 0.0308 - accuracy: 0.9983\n",
      "Epoch 14/50\n",
      "320/320 [==============================] - 1s 5ms/step - loss: 0.0275 - accuracy: 0.9983\n",
      "Epoch 15/50\n",
      "320/320 [==============================] - 2s 5ms/step - loss: 0.0250 - accuracy: 0.9983\n",
      "Epoch 16/50\n",
      "320/320 [==============================] - 1s 4ms/step - loss: 0.0226 - accuracy: 0.9983\n",
      "Epoch 17/50\n",
      "320/320 [==============================] - 1s 5ms/step - loss: 0.0207 - accuracy: 0.9983\n",
      "Epoch 18/50\n",
      "320/320 [==============================] - 2s 5ms/step - loss: 0.0190 - accuracy: 0.9983\n",
      "Epoch 19/50\n",
      "320/320 [==============================] - 1s 4ms/step - loss: 0.0176 - accuracy: 0.9983\n",
      "Epoch 20/50\n",
      "320/320 [==============================] - 1s 5ms/step - loss: 0.0164 - accuracy: 0.9983\n",
      "Epoch 21/50\n",
      "320/320 [==============================] - 1s 4ms/step - loss: 0.0155 - accuracy: 0.9983\n",
      "Epoch 22/50\n",
      "320/320 [==============================] - 1s 5ms/step - loss: 0.0145 - accuracy: 0.9983\n",
      "Epoch 23/50\n",
      "320/320 [==============================] - 1s 4ms/step - loss: 0.0140 - accuracy: 0.9983\n",
      "Epoch 24/50\n",
      "320/320 [==============================] - 2s 5ms/step - loss: 0.0134 - accuracy: 0.9983\n",
      "Epoch 25/50\n",
      "320/320 [==============================] - 2s 5ms/step - loss: 0.0129 - accuracy: 0.9983\n",
      "Epoch 26/50\n",
      "320/320 [==============================] - 2s 5ms/step - loss: 0.0124 - accuracy: 0.9983\n",
      "Epoch 27/50\n",
      "320/320 [==============================] - 1s 4ms/step - loss: 0.0121 - accuracy: 0.9983\n",
      "Epoch 28/50\n",
      "320/320 [==============================] - 1s 4ms/step - loss: 0.0119 - accuracy: 0.9983\n",
      "Epoch 29/50\n",
      "320/320 [==============================] - 1s 5ms/step - loss: 0.0115 - accuracy: 0.9983\n",
      "Epoch 30/50\n",
      "320/320 [==============================] - 2s 5ms/step - loss: 0.0114 - accuracy: 0.9983\n",
      "Epoch 31/50\n",
      "320/320 [==============================] - 1s 4ms/step - loss: 0.0112 - accuracy: 0.9983\n",
      "Epoch 32/50\n",
      "320/320 [==============================] - 1s 4ms/step - loss: 0.0111 - accuracy: 0.9983\n",
      "Epoch 33/50\n",
      "320/320 [==============================] - 1s 4ms/step - loss: 0.0109 - accuracy: 0.9983\n",
      "Epoch 34/50\n",
      "320/320 [==============================] - 1s 5ms/step - loss: 0.0109 - accuracy: 0.9983\n",
      "Epoch 35/50\n",
      "320/320 [==============================] - 1s 4ms/step - loss: 0.0107 - accuracy: 0.9983\n",
      "Epoch 36/50\n",
      "320/320 [==============================] - 2s 5ms/step - loss: 0.0107 - accuracy: 0.9983\n",
      "Epoch 37/50\n",
      "320/320 [==============================] - 2s 5ms/step - loss: 0.0106 - accuracy: 0.9983\n",
      "Epoch 38/50\n",
      "320/320 [==============================] - 2s 5ms/step - loss: 0.0105 - accuracy: 0.9983\n",
      "Epoch 39/50\n",
      "320/320 [==============================] - 1s 4ms/step - loss: 0.0106 - accuracy: 0.9983\n",
      "Epoch 40/50\n",
      "320/320 [==============================] - 1s 5ms/step - loss: 0.0105 - accuracy: 0.9983\n",
      "Epoch 41/50\n",
      "320/320 [==============================] - 1s 5ms/step - loss: 0.0103 - accuracy: 0.9983\n",
      "Epoch 42/50\n",
      "320/320 [==============================] - 1s 5ms/step - loss: 0.0104 - accuracy: 0.9983\n",
      "Epoch 43/50\n",
      "320/320 [==============================] - 1s 4ms/step - loss: 0.0103 - accuracy: 0.9983\n",
      "Epoch 44/50\n",
      "320/320 [==============================] - 2s 5ms/step - loss: 0.0104 - accuracy: 0.9983\n",
      "Epoch 45/50\n",
      "320/320 [==============================] - 1s 4ms/step - loss: 0.0104 - accuracy: 0.9983\n",
      "Epoch 46/50\n",
      "320/320 [==============================] - 1s 4ms/step - loss: 0.0103 - accuracy: 0.9983\n",
      "Epoch 47/50\n",
      "320/320 [==============================] - 1s 5ms/step - loss: 0.0104 - accuracy: 0.9981\n",
      "Epoch 48/50\n",
      "320/320 [==============================] - 2s 5ms/step - loss: 0.0103 - accuracy: 0.9983\n",
      "Epoch 49/50\n",
      "320/320 [==============================] - 1s 4ms/step - loss: 0.0103 - accuracy: 0.9983\n",
      "Epoch 50/50\n",
      "320/320 [==============================] - 1s 5ms/step - loss: 0.0103 - accuracy: 0.9983\n",
      "80/80 [==============================] - 0s 3ms/step\n"
     ]
    },
    {
     "name": "stderr",
     "output_type": "stream",
     "text": [
      "WARNING:absl:Found untraced functions such as _update_step_xla while saving (showing 1 of 1). These functions will not be directly callable after loading.\n"
     ]
    },
    {
     "name": "stdout",
     "output_type": "stream",
     "text": [
      "INFO:tensorflow:Assets written to: C:\\Users\\shubh\\AppData\\Local\\Temp\\tmp_tts1dty\\assets\n"
     ]
    },
    {
     "name": "stderr",
     "output_type": "stream",
     "text": [
      "INFO:tensorflow:Assets written to: C:\\Users\\shubh\\AppData\\Local\\Temp\\tmp_tts1dty\\assets\n"
     ]
    },
    {
     "name": "stdout",
     "output_type": "stream",
     "text": [
      "Epoch 1/50\n",
      "320/320 [==============================] - 3s 5ms/step - loss: 0.4817 - accuracy: 0.7953\n",
      "Epoch 2/50\n",
      "320/320 [==============================] - 1s 4ms/step - loss: 0.1808 - accuracy: 0.8261\n",
      "Epoch 3/50\n",
      "320/320 [==============================] - 1s 4ms/step - loss: 0.1338 - accuracy: 0.9970\n",
      "Epoch 4/50\n",
      "320/320 [==============================] - 1s 4ms/step - loss: 0.1128 - accuracy: 0.9984\n",
      "Epoch 5/50\n",
      "320/320 [==============================] - 2s 6ms/step - loss: 0.0956 - accuracy: 0.9984\n",
      "Epoch 6/50\n",
      "320/320 [==============================] - 1s 4ms/step - loss: 0.0812 - accuracy: 0.9984\n",
      "Epoch 7/50\n",
      "320/320 [==============================] - 1s 4ms/step - loss: 0.0693 - accuracy: 0.9984\n",
      "Epoch 8/50\n",
      "320/320 [==============================] - 1s 4ms/step - loss: 0.0594 - accuracy: 0.9984\n",
      "Epoch 9/50\n",
      "320/320 [==============================] - 1s 4ms/step - loss: 0.0513 - accuracy: 0.9984\n",
      "Epoch 10/50\n",
      "320/320 [==============================] - 1s 4ms/step - loss: 0.0445 - accuracy: 0.9984\n",
      "Epoch 11/50\n",
      "320/320 [==============================] - 1s 4ms/step - loss: 0.0389 - accuracy: 0.9984\n",
      "Epoch 12/50\n",
      "320/320 [==============================] - 1s 4ms/step - loss: 0.0342 - accuracy: 0.9984\n",
      "Epoch 13/50\n",
      "320/320 [==============================] - 1s 5ms/step - loss: 0.0303 - accuracy: 0.9984\n",
      "Epoch 14/50\n",
      "320/320 [==============================] - 1s 4ms/step - loss: 0.0271 - accuracy: 0.9984\n",
      "Epoch 15/50\n",
      "320/320 [==============================] - 2s 5ms/step - loss: 0.0242 - accuracy: 0.9984\n",
      "Epoch 16/50\n",
      "320/320 [==============================] - 1s 4ms/step - loss: 0.0219 - accuracy: 0.9984\n",
      "Epoch 17/50\n",
      "320/320 [==============================] - 1s 5ms/step - loss: 0.0200 - accuracy: 0.9984\n",
      "Epoch 18/50\n",
      "320/320 [==============================] - 1s 4ms/step - loss: 0.0183 - accuracy: 0.9984\n",
      "Epoch 19/50\n",
      "320/320 [==============================] - 1s 4ms/step - loss: 0.0168 - accuracy: 0.9984\n",
      "Epoch 20/50\n",
      "320/320 [==============================] - 1s 4ms/step - loss: 0.0158 - accuracy: 0.9984\n",
      "Epoch 21/50\n",
      "320/320 [==============================] - 1s 4ms/step - loss: 0.0147 - accuracy: 0.9984\n",
      "Epoch 22/50\n",
      "320/320 [==============================] - 1s 4ms/step - loss: 0.0139 - accuracy: 0.9984\n",
      "Epoch 23/50\n",
      "320/320 [==============================] - 2s 5ms/step - loss: 0.0131 - accuracy: 0.9984\n",
      "Epoch 24/50\n",
      "320/320 [==============================] - 1s 5ms/step - loss: 0.0125 - accuracy: 0.9984\n",
      "Epoch 25/50\n",
      "320/320 [==============================] - 2s 5ms/step - loss: 0.0121 - accuracy: 0.9984\n",
      "Epoch 26/50\n",
      "320/320 [==============================] - 1s 4ms/step - loss: 0.0115 - accuracy: 0.9984\n",
      "Epoch 27/50\n",
      "320/320 [==============================] - 1s 5ms/step - loss: 0.0114 - accuracy: 0.9984\n",
      "Epoch 28/50\n",
      "320/320 [==============================] - 1s 5ms/step - loss: 0.0110 - accuracy: 0.9984\n",
      "Epoch 29/50\n",
      "320/320 [==============================] - 1s 5ms/step - loss: 0.0108 - accuracy: 0.9984\n",
      "Epoch 30/50\n",
      "320/320 [==============================] - 1s 5ms/step - loss: 0.0106 - accuracy: 0.9984\n",
      "Epoch 31/50\n",
      "320/320 [==============================] - 2s 5ms/step - loss: 0.0105 - accuracy: 0.9984\n",
      "Epoch 32/50\n",
      "320/320 [==============================] - 1s 5ms/step - loss: 0.0103 - accuracy: 0.9984\n",
      "Epoch 33/50\n",
      "320/320 [==============================] - 1s 5ms/step - loss: 0.0102 - accuracy: 0.9984\n",
      "Epoch 34/50\n",
      "320/320 [==============================] - 1s 5ms/step - loss: 0.0101 - accuracy: 0.9984\n",
      "Epoch 35/50\n",
      "320/320 [==============================] - 1s 4ms/step - loss: 0.0100 - accuracy: 0.9984\n",
      "Epoch 36/50\n",
      "320/320 [==============================] - 1s 4ms/step - loss: 0.0099 - accuracy: 0.9984\n",
      "Epoch 37/50\n",
      "320/320 [==============================] - 2s 5ms/step - loss: 0.0098 - accuracy: 0.9984\n",
      "Epoch 38/50\n",
      "320/320 [==============================] - 1s 5ms/step - loss: 0.0098 - accuracy: 0.9984\n",
      "Epoch 39/50\n",
      "320/320 [==============================] - 1s 4ms/step - loss: 0.0098 - accuracy: 0.9984\n",
      "Epoch 40/50\n",
      "320/320 [==============================] - 2s 5ms/step - loss: 0.0097 - accuracy: 0.9984\n",
      "Epoch 41/50\n",
      "320/320 [==============================] - 2s 5ms/step - loss: 0.0098 - accuracy: 0.9984\n",
      "Epoch 42/50\n",
      "320/320 [==============================] - 2s 5ms/step - loss: 0.0097 - accuracy: 0.9984\n",
      "Epoch 43/50\n",
      "320/320 [==============================] - 2s 5ms/step - loss: 0.0097 - accuracy: 0.9984\n",
      "Epoch 44/50\n",
      "320/320 [==============================] - 1s 4ms/step - loss: 0.0096 - accuracy: 0.9984\n",
      "Epoch 45/50\n",
      "320/320 [==============================] - 2s 5ms/step - loss: 0.0096 - accuracy: 0.9984\n",
      "Epoch 46/50\n",
      "320/320 [==============================] - 2s 5ms/step - loss: 0.0096 - accuracy: 0.9984\n",
      "Epoch 47/50\n",
      "320/320 [==============================] - 2s 5ms/step - loss: 0.0095 - accuracy: 0.9984\n",
      "Epoch 48/50\n",
      "320/320 [==============================] - 2s 5ms/step - loss: 0.0096 - accuracy: 0.9984\n",
      "Epoch 49/50\n",
      "320/320 [==============================] - 2s 5ms/step - loss: 0.0094 - accuracy: 0.9984\n",
      "Epoch 50/50\n",
      "320/320 [==============================] - 1s 5ms/step - loss: 0.0095 - accuracy: 0.9984\n",
      "80/80 [==============================] - 1s 4ms/step\n"
     ]
    },
    {
     "name": "stderr",
     "output_type": "stream",
     "text": [
      "WARNING:absl:Found untraced functions such as _update_step_xla while saving (showing 1 of 1). These functions will not be directly callable after loading.\n"
     ]
    },
    {
     "name": "stdout",
     "output_type": "stream",
     "text": [
      "INFO:tensorflow:Assets written to: C:\\Users\\shubh\\AppData\\Local\\Temp\\tmpfs5in1eh\\assets\n"
     ]
    },
    {
     "name": "stderr",
     "output_type": "stream",
     "text": [
      "INFO:tensorflow:Assets written to: C:\\Users\\shubh\\AppData\\Local\\Temp\\tmpfs5in1eh\\assets\n"
     ]
    },
    {
     "name": "stdout",
     "output_type": "stream",
     "text": [
      "Epoch 1/50\n",
      "320/320 [==============================] - 4s 6ms/step - loss: 0.4759 - accuracy: 0.7952\n",
      "Epoch 2/50\n",
      "320/320 [==============================] - 1s 4ms/step - loss: 0.1819 - accuracy: 0.8286\n",
      "Epoch 3/50\n",
      "320/320 [==============================] - 2s 5ms/step - loss: 0.1345 - accuracy: 0.9970\n",
      "Epoch 4/50\n",
      "320/320 [==============================] - 1s 5ms/step - loss: 0.1136 - accuracy: 0.9980\n",
      "Epoch 5/50\n",
      "320/320 [==============================] - 2s 6ms/step - loss: 0.0963 - accuracy: 0.9980\n",
      "Epoch 6/50\n",
      "320/320 [==============================] - 2s 6ms/step - loss: 0.0820 - accuracy: 0.9980\n",
      "Epoch 7/50\n",
      "320/320 [==============================] - 2s 5ms/step - loss: 0.0701 - accuracy: 0.9980\n",
      "Epoch 8/50\n",
      "320/320 [==============================] - 1s 5ms/step - loss: 0.0604 - accuracy: 0.9980\n",
      "Epoch 9/50\n",
      "320/320 [==============================] - 2s 5ms/step - loss: 0.0523 - accuracy: 0.9980\n",
      "Epoch 10/50\n",
      "320/320 [==============================] - 2s 5ms/step - loss: 0.0457 - accuracy: 0.9980\n",
      "Epoch 11/50\n",
      "320/320 [==============================] - 2s 5ms/step - loss: 0.0401 - accuracy: 0.9980\n",
      "Epoch 12/50\n",
      "320/320 [==============================] - 1s 4ms/step - loss: 0.0355 - accuracy: 0.9980\n",
      "Epoch 13/50\n",
      "320/320 [==============================] - 2s 5ms/step - loss: 0.0316 - accuracy: 0.9980\n",
      "Epoch 14/50\n",
      "320/320 [==============================] - 2s 5ms/step - loss: 0.0285 - accuracy: 0.9980\n",
      "Epoch 15/50\n",
      "320/320 [==============================] - 1s 5ms/step - loss: 0.0255 - accuracy: 0.9980\n",
      "Epoch 16/50\n",
      "320/320 [==============================] - 1s 5ms/step - loss: 0.0235 - accuracy: 0.9980\n",
      "Epoch 17/50\n",
      "320/320 [==============================] - 1s 5ms/step - loss: 0.0217 - accuracy: 0.9980\n",
      "Epoch 18/50\n",
      "320/320 [==============================] - 2s 5ms/step - loss: 0.0200 - accuracy: 0.9980\n",
      "Epoch 19/50\n",
      "320/320 [==============================] - 1s 5ms/step - loss: 0.0187 - accuracy: 0.9980\n",
      "Epoch 20/50\n",
      "320/320 [==============================] - 2s 6ms/step - loss: 0.0176 - accuracy: 0.9980\n",
      "Epoch 21/50\n",
      "320/320 [==============================] - 2s 5ms/step - loss: 0.0166 - accuracy: 0.9980\n",
      "Epoch 22/50\n",
      "320/320 [==============================] - 2s 5ms/step - loss: 0.0157 - accuracy: 0.9980\n",
      "Epoch 23/50\n",
      "320/320 [==============================] - 1s 4ms/step - loss: 0.0152 - accuracy: 0.9980\n",
      "Epoch 24/50\n",
      "320/320 [==============================] - 2s 5ms/step - loss: 0.0146 - accuracy: 0.9980\n",
      "Epoch 25/50\n",
      "320/320 [==============================] - 2s 5ms/step - loss: 0.0141 - accuracy: 0.9980\n",
      "Epoch 26/50\n",
      "320/320 [==============================] - 2s 5ms/step - loss: 0.0137 - accuracy: 0.9980\n",
      "Epoch 27/50\n",
      "320/320 [==============================] - 2s 5ms/step - loss: 0.0134 - accuracy: 0.9980\n",
      "Epoch 28/50\n",
      "320/320 [==============================] - 2s 5ms/step - loss: 0.0132 - accuracy: 0.9980\n",
      "Epoch 29/50\n",
      "320/320 [==============================] - 2s 5ms/step - loss: 0.0129 - accuracy: 0.9980\n",
      "Epoch 30/50\n",
      "320/320 [==============================] - 2s 5ms/step - loss: 0.0128 - accuracy: 0.9980\n",
      "Epoch 31/50\n",
      "320/320 [==============================] - 2s 5ms/step - loss: 0.0126 - accuracy: 0.9980\n",
      "Epoch 32/50\n",
      "320/320 [==============================] - 2s 5ms/step - loss: 0.0124 - accuracy: 0.9980\n",
      "Epoch 33/50\n",
      "320/320 [==============================] - 2s 5ms/step - loss: 0.0124 - accuracy: 0.9980\n",
      "Epoch 34/50\n",
      "320/320 [==============================] - 2s 5ms/step - loss: 0.0121 - accuracy: 0.9980\n",
      "Epoch 35/50\n",
      "320/320 [==============================] - 1s 5ms/step - loss: 0.0123 - accuracy: 0.9980\n",
      "Epoch 36/50\n",
      "320/320 [==============================] - 2s 5ms/step - loss: 0.0121 - accuracy: 0.9980\n",
      "Epoch 37/50\n",
      "320/320 [==============================] - 1s 5ms/step - loss: 0.0122 - accuracy: 0.9980\n",
      "Epoch 38/50\n",
      "320/320 [==============================] - 2s 5ms/step - loss: 0.0122 - accuracy: 0.9980\n",
      "Epoch 39/50\n",
      "320/320 [==============================] - 1s 5ms/step - loss: 0.0121 - accuracy: 0.9980\n",
      "Epoch 40/50\n",
      "320/320 [==============================] - 2s 5ms/step - loss: 0.0120 - accuracy: 0.9980\n",
      "Epoch 41/50\n",
      "320/320 [==============================] - 2s 5ms/step - loss: 0.0119 - accuracy: 0.9980\n",
      "Epoch 42/50\n",
      "320/320 [==============================] - 1s 5ms/step - loss: 0.0119 - accuracy: 0.9980\n",
      "Epoch 43/50\n",
      "320/320 [==============================] - 1s 4ms/step - loss: 0.0119 - accuracy: 0.9980\n",
      "Epoch 44/50\n",
      "320/320 [==============================] - 2s 5ms/step - loss: 0.0120 - accuracy: 0.9980\n",
      "Epoch 45/50\n",
      "320/320 [==============================] - 2s 6ms/step - loss: 0.0119 - accuracy: 0.9980\n",
      "Epoch 46/50\n",
      "320/320 [==============================] - 1s 5ms/step - loss: 0.0119 - accuracy: 0.9980\n",
      "Epoch 47/50\n",
      "320/320 [==============================] - 1s 5ms/step - loss: 0.0118 - accuracy: 0.9980\n",
      "Epoch 48/50\n",
      "320/320 [==============================] - 1s 5ms/step - loss: 0.0119 - accuracy: 0.9980\n",
      "Epoch 49/50\n",
      "320/320 [==============================] - 1s 5ms/step - loss: 0.0118 - accuracy: 0.9980\n",
      "Epoch 50/50\n",
      "320/320 [==============================] - 1s 5ms/step - loss: 0.0118 - accuracy: 0.9980\n",
      "80/80 [==============================] - 1s 4ms/step\n",
      "WARNING:tensorflow:Detecting that an object or model or tf.train.Checkpoint is being deleted with unrestored values. See the following logs for the specific values in question. To silence these warnings, use `status.expect_partial()`. See https://www.tensorflow.org/api_docs/python/tf/train/Checkpoint#restorefor details about the status object returned by the restore function.\n"
     ]
    },
    {
     "name": "stderr",
     "output_type": "stream",
     "text": [
      "WARNING:tensorflow:Detecting that an object or model or tf.train.Checkpoint is being deleted with unrestored values. See the following logs for the specific values in question. To silence these warnings, use `status.expect_partial()`. See https://www.tensorflow.org/api_docs/python/tf/train/Checkpoint#restorefor details about the status object returned by the restore function.\n"
     ]
    },
    {
     "name": "stdout",
     "output_type": "stream",
     "text": [
      "WARNING:tensorflow:Value in checkpoint could not be found in the restored object: (root).keras_api.metrics.0.total\n"
     ]
    },
    {
     "name": "stderr",
     "output_type": "stream",
     "text": [
      "WARNING:tensorflow:Value in checkpoint could not be found in the restored object: (root).keras_api.metrics.0.total\n"
     ]
    },
    {
     "name": "stdout",
     "output_type": "stream",
     "text": [
      "WARNING:tensorflow:Value in checkpoint could not be found in the restored object: (root).keras_api.metrics.0.count\n"
     ]
    },
    {
     "name": "stderr",
     "output_type": "stream",
     "text": [
      "WARNING:tensorflow:Value in checkpoint could not be found in the restored object: (root).keras_api.metrics.0.count\n"
     ]
    },
    {
     "name": "stdout",
     "output_type": "stream",
     "text": [
      "WARNING:tensorflow:Value in checkpoint could not be found in the restored object: (root).keras_api.metrics.1.total\n"
     ]
    },
    {
     "name": "stderr",
     "output_type": "stream",
     "text": [
      "WARNING:tensorflow:Value in checkpoint could not be found in the restored object: (root).keras_api.metrics.1.total\n"
     ]
    },
    {
     "name": "stdout",
     "output_type": "stream",
     "text": [
      "WARNING:tensorflow:Value in checkpoint could not be found in the restored object: (root).keras_api.metrics.1.count\n"
     ]
    },
    {
     "name": "stderr",
     "output_type": "stream",
     "text": [
      "WARNING:tensorflow:Value in checkpoint could not be found in the restored object: (root).keras_api.metrics.1.count\n"
     ]
    },
    {
     "name": "stdout",
     "output_type": "stream",
     "text": [
      "WARNING:tensorflow:Detecting that an object or model or tf.train.Checkpoint is being deleted with unrestored values. See the following logs for the specific values in question. To silence these warnings, use `status.expect_partial()`. See https://www.tensorflow.org/api_docs/python/tf/train/Checkpoint#restorefor details about the status object returned by the restore function.\n"
     ]
    },
    {
     "name": "stderr",
     "output_type": "stream",
     "text": [
      "WARNING:tensorflow:Detecting that an object or model or tf.train.Checkpoint is being deleted with unrestored values. See the following logs for the specific values in question. To silence these warnings, use `status.expect_partial()`. See https://www.tensorflow.org/api_docs/python/tf/train/Checkpoint#restorefor details about the status object returned by the restore function.\n"
     ]
    },
    {
     "name": "stdout",
     "output_type": "stream",
     "text": [
      "WARNING:tensorflow:Value in checkpoint could not be found in the restored object: (root).keras_api.metrics.0.total\n"
     ]
    },
    {
     "name": "stderr",
     "output_type": "stream",
     "text": [
      "WARNING:tensorflow:Value in checkpoint could not be found in the restored object: (root).keras_api.metrics.0.total\n"
     ]
    },
    {
     "name": "stdout",
     "output_type": "stream",
     "text": [
      "WARNING:tensorflow:Value in checkpoint could not be found in the restored object: (root).keras_api.metrics.0.count\n"
     ]
    },
    {
     "name": "stderr",
     "output_type": "stream",
     "text": [
      "WARNING:tensorflow:Value in checkpoint could not be found in the restored object: (root).keras_api.metrics.0.count\n"
     ]
    },
    {
     "name": "stdout",
     "output_type": "stream",
     "text": [
      "WARNING:tensorflow:Value in checkpoint could not be found in the restored object: (root).keras_api.metrics.1.total\n"
     ]
    },
    {
     "name": "stderr",
     "output_type": "stream",
     "text": [
      "WARNING:tensorflow:Value in checkpoint could not be found in the restored object: (root).keras_api.metrics.1.total\n"
     ]
    },
    {
     "name": "stdout",
     "output_type": "stream",
     "text": [
      "WARNING:tensorflow:Value in checkpoint could not be found in the restored object: (root).keras_api.metrics.1.count\n"
     ]
    },
    {
     "name": "stderr",
     "output_type": "stream",
     "text": [
      "WARNING:tensorflow:Value in checkpoint could not be found in the restored object: (root).keras_api.metrics.1.count\n"
     ]
    },
    {
     "name": "stdout",
     "output_type": "stream",
     "text": [
      "WARNING:tensorflow:Detecting that an object or model or tf.train.Checkpoint is being deleted with unrestored values. See the following logs for the specific values in question. To silence these warnings, use `status.expect_partial()`. See https://www.tensorflow.org/api_docs/python/tf/train/Checkpoint#restorefor details about the status object returned by the restore function.\n"
     ]
    },
    {
     "name": "stderr",
     "output_type": "stream",
     "text": [
      "WARNING:tensorflow:Detecting that an object or model or tf.train.Checkpoint is being deleted with unrestored values. See the following logs for the specific values in question. To silence these warnings, use `status.expect_partial()`. See https://www.tensorflow.org/api_docs/python/tf/train/Checkpoint#restorefor details about the status object returned by the restore function.\n"
     ]
    },
    {
     "name": "stdout",
     "output_type": "stream",
     "text": [
      "WARNING:tensorflow:Value in checkpoint could not be found in the restored object: (root).keras_api.metrics.0.total\n"
     ]
    },
    {
     "name": "stderr",
     "output_type": "stream",
     "text": [
      "WARNING:tensorflow:Value in checkpoint could not be found in the restored object: (root).keras_api.metrics.0.total\n"
     ]
    },
    {
     "name": "stdout",
     "output_type": "stream",
     "text": [
      "WARNING:tensorflow:Value in checkpoint could not be found in the restored object: (root).keras_api.metrics.0.count\n"
     ]
    },
    {
     "name": "stderr",
     "output_type": "stream",
     "text": [
      "WARNING:tensorflow:Value in checkpoint could not be found in the restored object: (root).keras_api.metrics.0.count\n"
     ]
    },
    {
     "name": "stdout",
     "output_type": "stream",
     "text": [
      "WARNING:tensorflow:Value in checkpoint could not be found in the restored object: (root).keras_api.metrics.1.total\n"
     ]
    },
    {
     "name": "stderr",
     "output_type": "stream",
     "text": [
      "WARNING:tensorflow:Value in checkpoint could not be found in the restored object: (root).keras_api.metrics.1.total\n"
     ]
    },
    {
     "name": "stdout",
     "output_type": "stream",
     "text": [
      "WARNING:tensorflow:Value in checkpoint could not be found in the restored object: (root).keras_api.metrics.1.count\n"
     ]
    },
    {
     "name": "stderr",
     "output_type": "stream",
     "text": [
      "WARNING:tensorflow:Value in checkpoint could not be found in the restored object: (root).keras_api.metrics.1.count\n"
     ]
    },
    {
     "name": "stdout",
     "output_type": "stream",
     "text": [
      "WARNING:tensorflow:Detecting that an object or model or tf.train.Checkpoint is being deleted with unrestored values. See the following logs for the specific values in question. To silence these warnings, use `status.expect_partial()`. See https://www.tensorflow.org/api_docs/python/tf/train/Checkpoint#restorefor details about the status object returned by the restore function.\n"
     ]
    },
    {
     "name": "stderr",
     "output_type": "stream",
     "text": [
      "WARNING:tensorflow:Detecting that an object or model or tf.train.Checkpoint is being deleted with unrestored values. See the following logs for the specific values in question. To silence these warnings, use `status.expect_partial()`. See https://www.tensorflow.org/api_docs/python/tf/train/Checkpoint#restorefor details about the status object returned by the restore function.\n"
     ]
    },
    {
     "name": "stdout",
     "output_type": "stream",
     "text": [
      "WARNING:tensorflow:Value in checkpoint could not be found in the restored object: (root).keras_api.metrics.0.total\n"
     ]
    },
    {
     "name": "stderr",
     "output_type": "stream",
     "text": [
      "WARNING:tensorflow:Value in checkpoint could not be found in the restored object: (root).keras_api.metrics.0.total\n"
     ]
    },
    {
     "name": "stdout",
     "output_type": "stream",
     "text": [
      "WARNING:tensorflow:Value in checkpoint could not be found in the restored object: (root).keras_api.metrics.0.count\n"
     ]
    },
    {
     "name": "stderr",
     "output_type": "stream",
     "text": [
      "WARNING:tensorflow:Value in checkpoint could not be found in the restored object: (root).keras_api.metrics.0.count\n"
     ]
    },
    {
     "name": "stdout",
     "output_type": "stream",
     "text": [
      "WARNING:tensorflow:Value in checkpoint could not be found in the restored object: (root).keras_api.metrics.1.total\n"
     ]
    },
    {
     "name": "stderr",
     "output_type": "stream",
     "text": [
      "WARNING:tensorflow:Value in checkpoint could not be found in the restored object: (root).keras_api.metrics.1.total\n"
     ]
    },
    {
     "name": "stdout",
     "output_type": "stream",
     "text": [
      "WARNING:tensorflow:Value in checkpoint could not be found in the restored object: (root).keras_api.metrics.1.count\n"
     ]
    },
    {
     "name": "stderr",
     "output_type": "stream",
     "text": [
      "WARNING:tensorflow:Value in checkpoint could not be found in the restored object: (root).keras_api.metrics.1.count\n"
     ]
    },
    {
     "name": "stdout",
     "output_type": "stream",
     "text": [
      "WARNING:tensorflow:Detecting that an object or model or tf.train.Checkpoint is being deleted with unrestored values. See the following logs for the specific values in question. To silence these warnings, use `status.expect_partial()`. See https://www.tensorflow.org/api_docs/python/tf/train/Checkpoint#restorefor details about the status object returned by the restore function.\n"
     ]
    },
    {
     "name": "stderr",
     "output_type": "stream",
     "text": [
      "WARNING:tensorflow:Detecting that an object or model or tf.train.Checkpoint is being deleted with unrestored values. See the following logs for the specific values in question. To silence these warnings, use `status.expect_partial()`. See https://www.tensorflow.org/api_docs/python/tf/train/Checkpoint#restorefor details about the status object returned by the restore function.\n"
     ]
    },
    {
     "name": "stdout",
     "output_type": "stream",
     "text": [
      "WARNING:tensorflow:Value in checkpoint could not be found in the restored object: (root).keras_api.metrics.0.total\n"
     ]
    },
    {
     "name": "stderr",
     "output_type": "stream",
     "text": [
      "WARNING:tensorflow:Value in checkpoint could not be found in the restored object: (root).keras_api.metrics.0.total\n"
     ]
    },
    {
     "name": "stdout",
     "output_type": "stream",
     "text": [
      "WARNING:tensorflow:Value in checkpoint could not be found in the restored object: (root).keras_api.metrics.0.count\n"
     ]
    },
    {
     "name": "stderr",
     "output_type": "stream",
     "text": [
      "WARNING:tensorflow:Value in checkpoint could not be found in the restored object: (root).keras_api.metrics.0.count\n"
     ]
    },
    {
     "name": "stdout",
     "output_type": "stream",
     "text": [
      "WARNING:tensorflow:Value in checkpoint could not be found in the restored object: (root).keras_api.metrics.1.total\n"
     ]
    },
    {
     "name": "stderr",
     "output_type": "stream",
     "text": [
      "WARNING:tensorflow:Value in checkpoint could not be found in the restored object: (root).keras_api.metrics.1.total\n"
     ]
    },
    {
     "name": "stdout",
     "output_type": "stream",
     "text": [
      "WARNING:tensorflow:Value in checkpoint could not be found in the restored object: (root).keras_api.metrics.1.count\n"
     ]
    },
    {
     "name": "stderr",
     "output_type": "stream",
     "text": [
      "WARNING:tensorflow:Value in checkpoint could not be found in the restored object: (root).keras_api.metrics.1.count\n",
      "WARNING:absl:Found untraced functions such as _update_step_xla while saving (showing 1 of 1). These functions will not be directly callable after loading.\n"
     ]
    },
    {
     "name": "stdout",
     "output_type": "stream",
     "text": [
      "INFO:tensorflow:Assets written to: C:\\Users\\shubh\\AppData\\Local\\Temp\\tmpuqfl4440\\assets\n"
     ]
    },
    {
     "name": "stderr",
     "output_type": "stream",
     "text": [
      "INFO:tensorflow:Assets written to: C:\\Users\\shubh\\AppData\\Local\\Temp\\tmpuqfl4440\\assets\n"
     ]
    },
    {
     "name": "stdout",
     "output_type": "stream",
     "text": [
      "Epoch 1/100\n",
      "320/320 [==============================] - 3s 5ms/step - loss: 0.4782 - accuracy: 0.7942\n",
      "Epoch 2/100\n",
      "320/320 [==============================] - 1s 4ms/step - loss: 0.1807 - accuracy: 0.8248\n",
      "Epoch 3/100\n",
      "320/320 [==============================] - 2s 5ms/step - loss: 0.1328 - accuracy: 0.9981\n",
      "Epoch 4/100\n",
      "320/320 [==============================] - 1s 5ms/step - loss: 0.1116 - accuracy: 0.9987\n",
      "Epoch 5/100\n",
      "320/320 [==============================] - 1s 5ms/step - loss: 0.0942 - accuracy: 0.9987\n",
      "Epoch 6/100\n",
      "320/320 [==============================] - 1s 5ms/step - loss: 0.0797 - accuracy: 0.9987\n",
      "Epoch 7/100\n",
      "320/320 [==============================] - 1s 4ms/step - loss: 0.0677 - accuracy: 0.9987\n",
      "Epoch 8/100\n",
      "320/320 [==============================] - 2s 5ms/step - loss: 0.0578 - accuracy: 0.9987\n",
      "Epoch 9/100\n",
      "320/320 [==============================] - 1s 5ms/step - loss: 0.0495 - accuracy: 0.9987\n",
      "Epoch 10/100\n",
      "320/320 [==============================] - 2s 5ms/step - loss: 0.0427 - accuracy: 0.9987\n",
      "Epoch 11/100\n",
      "320/320 [==============================] - 1s 5ms/step - loss: 0.0370 - accuracy: 0.9987\n",
      "Epoch 12/100\n",
      "320/320 [==============================] - 2s 6ms/step - loss: 0.0322 - accuracy: 0.9987\n",
      "Epoch 13/100\n",
      "320/320 [==============================] - 1s 4ms/step - loss: 0.0283 - accuracy: 0.9987\n",
      "Epoch 14/100\n",
      "320/320 [==============================] - 1s 5ms/step - loss: 0.0249 - accuracy: 0.9987\n",
      "Epoch 15/100\n",
      "320/320 [==============================] - 2s 5ms/step - loss: 0.0221 - accuracy: 0.9987\n",
      "Epoch 16/100\n",
      "320/320 [==============================] - 1s 4ms/step - loss: 0.0196 - accuracy: 0.9989\n",
      "Epoch 17/100\n",
      "320/320 [==============================] - 1s 5ms/step - loss: 0.0178 - accuracy: 0.9987\n",
      "Epoch 18/100\n",
      "320/320 [==============================] - 2s 5ms/step - loss: 0.0160 - accuracy: 0.9987\n",
      "Epoch 19/100\n",
      "320/320 [==============================] - 2s 5ms/step - loss: 0.0146 - accuracy: 0.9987\n",
      "Epoch 20/100\n",
      "320/320 [==============================] - 1s 5ms/step - loss: 0.0133 - accuracy: 0.9989\n",
      "Epoch 21/100\n",
      "320/320 [==============================] - 2s 5ms/step - loss: 0.0124 - accuracy: 0.9987\n",
      "Epoch 22/100\n",
      "320/320 [==============================] - 1s 4ms/step - loss: 0.0115 - accuracy: 0.9989\n",
      "Epoch 23/100\n",
      "320/320 [==============================] - 1s 5ms/step - loss: 0.0107 - accuracy: 0.9989\n",
      "Epoch 24/100\n",
      "320/320 [==============================] - 2s 5ms/step - loss: 0.0101 - accuracy: 0.9989\n",
      "Epoch 25/100\n",
      "320/320 [==============================] - 2s 5ms/step - loss: 0.0096 - accuracy: 0.9989\n",
      "Epoch 26/100\n",
      "320/320 [==============================] - 1s 5ms/step - loss: 0.0091 - accuracy: 0.9989\n",
      "Epoch 27/100\n",
      "320/320 [==============================] - 2s 5ms/step - loss: 0.0087 - accuracy: 0.9989\n",
      "Epoch 28/100\n",
      "320/320 [==============================] - 1s 5ms/step - loss: 0.0084 - accuracy: 0.9989\n",
      "Epoch 29/100\n",
      "320/320 [==============================] - 1s 4ms/step - loss: 0.0082 - accuracy: 0.9989\n",
      "Epoch 30/100\n",
      "320/320 [==============================] - 1s 5ms/step - loss: 0.0079 - accuracy: 0.9989\n",
      "Epoch 31/100\n",
      "320/320 [==============================] - 1s 5ms/step - loss: 0.0078 - accuracy: 0.9989\n",
      "Epoch 32/100\n",
      "320/320 [==============================] - 1s 5ms/step - loss: 0.0076 - accuracy: 0.9989\n",
      "Epoch 33/100\n",
      "320/320 [==============================] - 2s 5ms/step - loss: 0.0075 - accuracy: 0.9989\n",
      "Epoch 34/100\n",
      "320/320 [==============================] - 1s 4ms/step - loss: 0.0074 - accuracy: 0.9989\n",
      "Epoch 35/100\n",
      "320/320 [==============================] - 2s 5ms/step - loss: 0.0073 - accuracy: 0.9989\n",
      "Epoch 36/100\n",
      "320/320 [==============================] - 1s 5ms/step - loss: 0.0073 - accuracy: 0.9989\n",
      "Epoch 37/100\n",
      "320/320 [==============================] - 2s 5ms/step - loss: 0.0072 - accuracy: 0.9989\n",
      "Epoch 38/100\n",
      "320/320 [==============================] - 1s 4ms/step - loss: 0.0071 - accuracy: 0.9989\n",
      "Epoch 39/100\n",
      "320/320 [==============================] - 2s 5ms/step - loss: 0.0071 - accuracy: 0.9989\n",
      "Epoch 40/100\n",
      "320/320 [==============================] - 1s 5ms/step - loss: 0.0071 - accuracy: 0.9989\n",
      "Epoch 41/100\n",
      "320/320 [==============================] - 1s 5ms/step - loss: 0.0070 - accuracy: 0.9989\n",
      "Epoch 42/100\n",
      "320/320 [==============================] - 1s 4ms/step - loss: 0.0070 - accuracy: 0.9989\n",
      "Epoch 43/100\n",
      "320/320 [==============================] - 1s 5ms/step - loss: 0.0070 - accuracy: 0.9989\n",
      "Epoch 44/100\n",
      "320/320 [==============================] - 1s 4ms/step - loss: 0.0070 - accuracy: 0.9989\n",
      "Epoch 45/100\n",
      "320/320 [==============================] - 2s 5ms/step - loss: 0.0069 - accuracy: 0.9989\n",
      "Epoch 46/100\n",
      "320/320 [==============================] - 2s 5ms/step - loss: 0.0069 - accuracy: 0.9989\n",
      "Epoch 47/100\n",
      "320/320 [==============================] - 2s 5ms/step - loss: 0.0069 - accuracy: 0.9989\n",
      "Epoch 48/100\n",
      "320/320 [==============================] - 2s 5ms/step - loss: 0.0069 - accuracy: 0.9989\n",
      "Epoch 49/100\n",
      "320/320 [==============================] - 1s 5ms/step - loss: 0.0069 - accuracy: 0.9989\n",
      "Epoch 50/100\n",
      "320/320 [==============================] - 1s 5ms/step - loss: 0.0069 - accuracy: 0.9989\n",
      "Epoch 51/100\n",
      "320/320 [==============================] - 1s 5ms/step - loss: 0.0069 - accuracy: 0.9989\n",
      "Epoch 52/100\n",
      "320/320 [==============================] - 2s 5ms/step - loss: 0.0069 - accuracy: 0.9989\n",
      "Epoch 53/100\n",
      "320/320 [==============================] - 1s 5ms/step - loss: 0.0069 - accuracy: 0.9989\n",
      "Epoch 54/100\n",
      "320/320 [==============================] - 1s 4ms/step - loss: 0.0069 - accuracy: 0.9989\n",
      "Epoch 55/100\n",
      "320/320 [==============================] - 2s 5ms/step - loss: 0.0069 - accuracy: 0.9989\n",
      "Epoch 56/100\n",
      "320/320 [==============================] - 1s 5ms/step - loss: 0.0069 - accuracy: 0.9989\n",
      "Epoch 57/100\n",
      "320/320 [==============================] - 2s 5ms/step - loss: 0.0069 - accuracy: 0.9989\n",
      "Epoch 58/100\n",
      "320/320 [==============================] - 1s 5ms/step - loss: 0.0068 - accuracy: 0.9989\n",
      "Epoch 59/100\n",
      "320/320 [==============================] - 1s 4ms/step - loss: 0.0068 - accuracy: 0.9989\n",
      "Epoch 60/100\n",
      "320/320 [==============================] - 1s 5ms/step - loss: 0.0068 - accuracy: 0.9989\n",
      "Epoch 61/100\n",
      "320/320 [==============================] - 2s 5ms/step - loss: 0.0068 - accuracy: 0.9989\n",
      "Epoch 62/100\n",
      "320/320 [==============================] - 2s 5ms/step - loss: 0.0068 - accuracy: 0.9989\n",
      "Epoch 63/100\n",
      "320/320 [==============================] - 1s 4ms/step - loss: 0.0068 - accuracy: 0.9989\n",
      "Epoch 64/100\n",
      "320/320 [==============================] - 1s 5ms/step - loss: 0.0068 - accuracy: 0.9989\n",
      "Epoch 65/100\n",
      "320/320 [==============================] - 1s 5ms/step - loss: 0.0068 - accuracy: 0.9989\n",
      "Epoch 66/100\n",
      "320/320 [==============================] - 2s 5ms/step - loss: 0.0068 - accuracy: 0.9989\n",
      "Epoch 67/100\n",
      "320/320 [==============================] - 1s 5ms/step - loss: 0.0068 - accuracy: 0.9989\n",
      "Epoch 68/100\n",
      "320/320 [==============================] - 2s 5ms/step - loss: 0.0068 - accuracy: 0.9989\n",
      "Epoch 69/100\n",
      "320/320 [==============================] - 2s 5ms/step - loss: 0.0068 - accuracy: 0.9989\n",
      "Epoch 70/100\n",
      "320/320 [==============================] - 2s 5ms/step - loss: 0.0068 - accuracy: 0.9989\n",
      "Epoch 71/100\n",
      "320/320 [==============================] - 2s 6ms/step - loss: 0.0068 - accuracy: 0.9989\n",
      "Epoch 72/100\n",
      "320/320 [==============================] - 1s 4ms/step - loss: 0.0068 - accuracy: 0.9989\n",
      "Epoch 73/100\n",
      "320/320 [==============================] - 1s 4ms/step - loss: 0.0068 - accuracy: 0.9989\n",
      "Epoch 74/100\n",
      "320/320 [==============================] - 1s 5ms/step - loss: 0.0068 - accuracy: 0.9989\n",
      "Epoch 75/100\n",
      "320/320 [==============================] - 1s 4ms/step - loss: 0.0068 - accuracy: 0.9989\n",
      "Epoch 76/100\n",
      "320/320 [==============================] - 1s 5ms/step - loss: 0.0068 - accuracy: 0.9989\n",
      "Epoch 77/100\n",
      "320/320 [==============================] - 1s 4ms/step - loss: 0.0068 - accuracy: 0.9989\n",
      "Epoch 78/100\n",
      "320/320 [==============================] - 2s 5ms/step - loss: 0.0068 - accuracy: 0.9989\n",
      "Epoch 79/100\n",
      "320/320 [==============================] - 1s 4ms/step - loss: 0.0068 - accuracy: 0.9989\n",
      "Epoch 80/100\n",
      "320/320 [==============================] - 1s 5ms/step - loss: 0.0068 - accuracy: 0.9989\n",
      "Epoch 81/100\n",
      "320/320 [==============================] - 1s 4ms/step - loss: 0.0068 - accuracy: 0.9989\n",
      "Epoch 82/100\n",
      "320/320 [==============================] - 1s 5ms/step - loss: 0.0068 - accuracy: 0.9989\n",
      "Epoch 83/100\n",
      "320/320 [==============================] - 1s 4ms/step - loss: 0.0068 - accuracy: 0.9989\n",
      "Epoch 84/100\n",
      "320/320 [==============================] - 1s 5ms/step - loss: 0.0068 - accuracy: 0.9989\n",
      "Epoch 85/100\n",
      "320/320 [==============================] - 1s 4ms/step - loss: 0.0068 - accuracy: 0.9989\n",
      "Epoch 86/100\n",
      "320/320 [==============================] - 1s 4ms/step - loss: 0.0070 - accuracy: 0.9987\n",
      "Epoch 87/100\n",
      "320/320 [==============================] - 1s 5ms/step - loss: 0.0068 - accuracy: 0.9989\n",
      "Epoch 88/100\n",
      "320/320 [==============================] - 1s 4ms/step - loss: 0.0068 - accuracy: 0.9989\n",
      "Epoch 89/100\n",
      "320/320 [==============================] - 1s 5ms/step - loss: 0.0068 - accuracy: 0.9989\n",
      "Epoch 90/100\n",
      "320/320 [==============================] - 1s 4ms/step - loss: 0.0068 - accuracy: 0.9989\n",
      "Epoch 91/100\n",
      "320/320 [==============================] - 2s 5ms/step - loss: 0.0068 - accuracy: 0.9989\n",
      "Epoch 92/100\n",
      "320/320 [==============================] - 2s 5ms/step - loss: 0.0068 - accuracy: 0.9989\n",
      "Epoch 93/100\n",
      "320/320 [==============================] - 1s 5ms/step - loss: 0.0068 - accuracy: 0.9989\n",
      "Epoch 94/100\n",
      "320/320 [==============================] - 1s 5ms/step - loss: 0.0068 - accuracy: 0.9989\n",
      "Epoch 95/100\n",
      "320/320 [==============================] - 2s 5ms/step - loss: 0.0068 - accuracy: 0.9989\n",
      "Epoch 96/100\n",
      "320/320 [==============================] - 1s 5ms/step - loss: 0.0068 - accuracy: 0.9989\n",
      "Epoch 97/100\n",
      "320/320 [==============================] - 1s 5ms/step - loss: 0.0068 - accuracy: 0.9989\n",
      "Epoch 98/100\n",
      "320/320 [==============================] - 1s 4ms/step - loss: 0.0068 - accuracy: 0.9989\n",
      "Epoch 99/100\n",
      "320/320 [==============================] - 2s 5ms/step - loss: 0.0068 - accuracy: 0.9989\n",
      "Epoch 100/100\n",
      "320/320 [==============================] - 1s 4ms/step - loss: 0.0068 - accuracy: 0.9989\n",
      "80/80 [==============================] - 1s 5ms/step\n"
     ]
    },
    {
     "name": "stderr",
     "output_type": "stream",
     "text": [
      "WARNING:absl:Found untraced functions such as _update_step_xla while saving (showing 1 of 1). These functions will not be directly callable after loading.\n"
     ]
    },
    {
     "name": "stdout",
     "output_type": "stream",
     "text": [
      "INFO:tensorflow:Assets written to: C:\\Users\\shubh\\AppData\\Local\\Temp\\tmpj5bqrrg4\\assets\n"
     ]
    },
    {
     "name": "stderr",
     "output_type": "stream",
     "text": [
      "INFO:tensorflow:Assets written to: C:\\Users\\shubh\\AppData\\Local\\Temp\\tmpj5bqrrg4\\assets\n"
     ]
    },
    {
     "name": "stdout",
     "output_type": "stream",
     "text": [
      "Epoch 1/100\n",
      "320/320 [==============================] - 3s 5ms/step - loss: 0.4771 - accuracy: 0.7948\n",
      "Epoch 2/100\n",
      "320/320 [==============================] - 2s 5ms/step - loss: 0.1801 - accuracy: 0.8306\n",
      "Epoch 3/100\n",
      "320/320 [==============================] - 1s 4ms/step - loss: 0.1340 - accuracy: 0.9980\n",
      "Epoch 4/100\n",
      "320/320 [==============================] - 2s 5ms/step - loss: 0.1131 - accuracy: 0.9984\n",
      "Epoch 5/100\n",
      "320/320 [==============================] - 1s 5ms/step - loss: 0.0958 - accuracy: 0.9984\n",
      "Epoch 6/100\n",
      "320/320 [==============================] - 1s 5ms/step - loss: 0.0815 - accuracy: 0.9984\n",
      "Epoch 7/100\n",
      "320/320 [==============================] - 2s 5ms/step - loss: 0.0695 - accuracy: 0.9984\n",
      "Epoch 8/100\n",
      "320/320 [==============================] - 1s 4ms/step - loss: 0.0598 - accuracy: 0.9984\n",
      "Epoch 9/100\n",
      "320/320 [==============================] - 2s 5ms/step - loss: 0.0516 - accuracy: 0.9984\n",
      "Epoch 10/100\n",
      "320/320 [==============================] - 1s 4ms/step - loss: 0.0449 - accuracy: 0.9984\n",
      "Epoch 11/100\n",
      "320/320 [==============================] - 1s 5ms/step - loss: 0.0392 - accuracy: 0.9984\n",
      "Epoch 12/100\n",
      "320/320 [==============================] - 2s 5ms/step - loss: 0.0345 - accuracy: 0.9984\n",
      "Epoch 13/100\n",
      "320/320 [==============================] - 1s 5ms/step - loss: 0.0306 - accuracy: 0.9984\n",
      "Epoch 14/100\n",
      "320/320 [==============================] - 1s 5ms/step - loss: 0.0273 - accuracy: 0.9984\n",
      "Epoch 15/100\n",
      "320/320 [==============================] - 1s 5ms/step - loss: 0.0245 - accuracy: 0.9984\n",
      "Epoch 16/100\n",
      "320/320 [==============================] - 1s 5ms/step - loss: 0.0222 - accuracy: 0.9984\n",
      "Epoch 17/100\n",
      "320/320 [==============================] - 1s 5ms/step - loss: 0.0203 - accuracy: 0.9984\n",
      "Epoch 18/100\n",
      "320/320 [==============================] - 2s 5ms/step - loss: 0.0185 - accuracy: 0.9984\n",
      "Epoch 19/100\n",
      "320/320 [==============================] - 1s 4ms/step - loss: 0.0172 - accuracy: 0.9984\n",
      "Epoch 20/100\n",
      "320/320 [==============================] - 2s 5ms/step - loss: 0.0159 - accuracy: 0.9984\n",
      "Epoch 21/100\n",
      "320/320 [==============================] - 1s 5ms/step - loss: 0.0150 - accuracy: 0.9984\n",
      "Epoch 22/100\n",
      "320/320 [==============================] - 1s 4ms/step - loss: 0.0140 - accuracy: 0.9984\n",
      "Epoch 23/100\n",
      "320/320 [==============================] - 2s 5ms/step - loss: 0.0134 - accuracy: 0.9984\n",
      "Epoch 24/100\n",
      "320/320 [==============================] - 2s 5ms/step - loss: 0.0128 - accuracy: 0.9984\n",
      "Epoch 25/100\n",
      "320/320 [==============================] - 2s 5ms/step - loss: 0.0122 - accuracy: 0.9983\n",
      "Epoch 26/100\n",
      "320/320 [==============================] - 2s 5ms/step - loss: 0.0118 - accuracy: 0.9984\n",
      "Epoch 27/100\n",
      "320/320 [==============================] - 2s 5ms/step - loss: 0.0115 - accuracy: 0.9984\n",
      "Epoch 28/100\n",
      "320/320 [==============================] - 2s 5ms/step - loss: 0.0112 - accuracy: 0.9984\n",
      "Epoch 29/100\n",
      "320/320 [==============================] - 1s 4ms/step - loss: 0.0109 - accuracy: 0.9984\n",
      "Epoch 30/100\n",
      "320/320 [==============================] - 2s 5ms/step - loss: 0.0107 - accuracy: 0.9984\n",
      "Epoch 31/100\n",
      "320/320 [==============================] - 2s 5ms/step - loss: 0.0104 - accuracy: 0.9984\n",
      "Epoch 32/100\n",
      "320/320 [==============================] - 1s 5ms/step - loss: 0.0103 - accuracy: 0.9984\n",
      "Epoch 33/100\n",
      "320/320 [==============================] - 2s 5ms/step - loss: 0.0102 - accuracy: 0.9984\n",
      "Epoch 34/100\n",
      "320/320 [==============================] - 1s 5ms/step - loss: 0.0101 - accuracy: 0.9984\n",
      "Epoch 35/100\n",
      "320/320 [==============================] - 2s 5ms/step - loss: 0.0100 - accuracy: 0.9984\n",
      "Epoch 36/100\n",
      "320/320 [==============================] - 1s 5ms/step - loss: 0.0099 - accuracy: 0.9984\n",
      "Epoch 37/100\n",
      "320/320 [==============================] - 2s 5ms/step - loss: 0.0098 - accuracy: 0.9984\n",
      "Epoch 38/100\n",
      "320/320 [==============================] - 2s 5ms/step - loss: 0.0096 - accuracy: 0.9984\n",
      "Epoch 39/100\n",
      "320/320 [==============================] - 1s 5ms/step - loss: 0.0097 - accuracy: 0.9984\n",
      "Epoch 40/100\n",
      "320/320 [==============================] - 2s 5ms/step - loss: 0.0098 - accuracy: 0.9984\n",
      "Epoch 41/100\n",
      "320/320 [==============================] - 1s 5ms/step - loss: 0.0096 - accuracy: 0.9984\n",
      "Epoch 42/100\n",
      "320/320 [==============================] - 2s 5ms/step - loss: 0.0095 - accuracy: 0.9984\n",
      "Epoch 43/100\n",
      "320/320 [==============================] - 2s 6ms/step - loss: 0.0095 - accuracy: 0.9984\n",
      "Epoch 44/100\n",
      "320/320 [==============================] - 2s 5ms/step - loss: 0.0095 - accuracy: 0.9984\n",
      "Epoch 45/100\n",
      "320/320 [==============================] - 1s 5ms/step - loss: 0.0095 - accuracy: 0.9984\n",
      "Epoch 46/100\n",
      "320/320 [==============================] - 2s 5ms/step - loss: 0.0094 - accuracy: 0.9984\n",
      "Epoch 47/100\n",
      "320/320 [==============================] - 1s 4ms/step - loss: 0.0093 - accuracy: 0.9984\n",
      "Epoch 48/100\n",
      "320/320 [==============================] - 2s 5ms/step - loss: 0.0092 - accuracy: 0.9984\n",
      "Epoch 49/100\n",
      "320/320 [==============================] - 2s 5ms/step - loss: 0.0091 - accuracy: 0.9984\n",
      "Epoch 50/100\n",
      "320/320 [==============================] - 1s 5ms/step - loss: 0.0091 - accuracy: 0.9984\n",
      "Epoch 51/100\n",
      "320/320 [==============================] - 2s 5ms/step - loss: 0.0090 - accuracy: 0.9984\n",
      "Epoch 52/100\n",
      "320/320 [==============================] - 2s 5ms/step - loss: 0.0088 - accuracy: 0.9984\n",
      "Epoch 53/100\n",
      "320/320 [==============================] - 1s 5ms/step - loss: 0.0088 - accuracy: 0.9984\n",
      "Epoch 54/100\n",
      "320/320 [==============================] - 2s 5ms/step - loss: 0.0085 - accuracy: 0.9986\n",
      "Epoch 55/100\n",
      "320/320 [==============================] - 2s 5ms/step - loss: 0.0087 - accuracy: 0.9984\n",
      "Epoch 56/100\n",
      "320/320 [==============================] - 1s 5ms/step - loss: 0.0087 - accuracy: 0.9984\n",
      "Epoch 57/100\n",
      "320/320 [==============================] - 1s 5ms/step - loss: 0.0086 - accuracy: 0.9984\n",
      "Epoch 58/100\n",
      "320/320 [==============================] - 1s 5ms/step - loss: 0.0083 - accuracy: 0.9984\n",
      "Epoch 59/100\n",
      "320/320 [==============================] - 1s 4ms/step - loss: 0.0086 - accuracy: 0.9984\n",
      "Epoch 60/100\n",
      "320/320 [==============================] - 1s 5ms/step - loss: 0.0085 - accuracy: 0.9984\n",
      "Epoch 61/100\n",
      "320/320 [==============================] - 2s 5ms/step - loss: 0.0085 - accuracy: 0.9984\n",
      "Epoch 62/100\n",
      "320/320 [==============================] - 1s 5ms/step - loss: 0.0084 - accuracy: 0.9984\n",
      "Epoch 63/100\n",
      "320/320 [==============================] - 2s 5ms/step - loss: 0.0084 - accuracy: 0.9986\n",
      "Epoch 64/100\n",
      "320/320 [==============================] - 1s 4ms/step - loss: 0.0083 - accuracy: 0.9984\n",
      "Epoch 65/100\n",
      "320/320 [==============================] - 2s 5ms/step - loss: 0.0083 - accuracy: 0.9984\n",
      "Epoch 66/100\n",
      "320/320 [==============================] - 1s 5ms/step - loss: 0.0082 - accuracy: 0.9984\n",
      "Epoch 67/100\n",
      "320/320 [==============================] - 1s 5ms/step - loss: 0.0083 - accuracy: 0.9984\n",
      "Epoch 68/100\n",
      "320/320 [==============================] - 2s 5ms/step - loss: 0.0082 - accuracy: 0.9986\n",
      "Epoch 69/100\n",
      "320/320 [==============================] - 2s 5ms/step - loss: 0.0082 - accuracy: 0.9986\n",
      "Epoch 70/100\n",
      "320/320 [==============================] - 2s 5ms/step - loss: 0.0082 - accuracy: 0.9984\n",
      "Epoch 71/100\n",
      "320/320 [==============================] - 1s 5ms/step - loss: 0.0082 - accuracy: 0.9984\n",
      "Epoch 72/100\n",
      "320/320 [==============================] - 1s 5ms/step - loss: 0.0081 - accuracy: 0.9984\n",
      "Epoch 73/100\n",
      "320/320 [==============================] - 2s 5ms/step - loss: 0.0081 - accuracy: 0.9984\n",
      "Epoch 74/100\n",
      "320/320 [==============================] - 2s 5ms/step - loss: 0.0080 - accuracy: 0.9984\n",
      "Epoch 75/100\n",
      "320/320 [==============================] - 1s 5ms/step - loss: 0.0081 - accuracy: 0.9986\n",
      "Epoch 76/100\n",
      "320/320 [==============================] - 2s 5ms/step - loss: 0.0080 - accuracy: 0.9986\n",
      "Epoch 77/100\n",
      "320/320 [==============================] - 2s 5ms/step - loss: 0.0080 - accuracy: 0.9984\n",
      "Epoch 78/100\n",
      "320/320 [==============================] - 2s 5ms/step - loss: 0.0080 - accuracy: 0.9986\n",
      "Epoch 79/100\n",
      "320/320 [==============================] - 1s 5ms/step - loss: 0.0079 - accuracy: 0.9987\n",
      "Epoch 80/100\n",
      "320/320 [==============================] - 1s 5ms/step - loss: 0.0079 - accuracy: 0.9984\n",
      "Epoch 81/100\n",
      "320/320 [==============================] - 2s 5ms/step - loss: 0.0079 - accuracy: 0.9987\n",
      "Epoch 82/100\n",
      "320/320 [==============================] - 2s 5ms/step - loss: 0.0079 - accuracy: 0.9984\n",
      "Epoch 83/100\n",
      "320/320 [==============================] - 1s 4ms/step - loss: 0.0077 - accuracy: 0.9987\n",
      "Epoch 84/100\n",
      "320/320 [==============================] - 2s 6ms/step - loss: 0.0079 - accuracy: 0.9987\n",
      "Epoch 85/100\n",
      "320/320 [==============================] - 1s 5ms/step - loss: 0.0079 - accuracy: 0.9986\n",
      "Epoch 86/100\n",
      "320/320 [==============================] - 1s 5ms/step - loss: 0.0078 - accuracy: 0.9986\n",
      "Epoch 87/100\n",
      "320/320 [==============================] - 1s 4ms/step - loss: 0.0078 - accuracy: 0.9987\n",
      "Epoch 88/100\n",
      "320/320 [==============================] - 1s 4ms/step - loss: 0.0078 - accuracy: 0.9986\n",
      "Epoch 89/100\n",
      "320/320 [==============================] - 1s 4ms/step - loss: 0.0077 - accuracy: 0.9987\n",
      "Epoch 90/100\n",
      "320/320 [==============================] - 2s 5ms/step - loss: 0.0077 - accuracy: 0.9986\n",
      "Epoch 91/100\n",
      "320/320 [==============================] - 1s 4ms/step - loss: 0.0078 - accuracy: 0.9987\n",
      "Epoch 92/100\n",
      "320/320 [==============================] - 1s 5ms/step - loss: 0.0075 - accuracy: 0.9987\n",
      "Epoch 93/100\n",
      "320/320 [==============================] - 1s 5ms/step - loss: 0.0077 - accuracy: 0.9984\n",
      "Epoch 94/100\n",
      "320/320 [==============================] - 2s 5ms/step - loss: 0.0075 - accuracy: 0.9987\n",
      "Epoch 95/100\n",
      "320/320 [==============================] - 2s 5ms/step - loss: 0.0076 - accuracy: 0.9987\n",
      "Epoch 96/100\n",
      "320/320 [==============================] - 1s 5ms/step - loss: 0.0076 - accuracy: 0.9987\n",
      "Epoch 97/100\n",
      "320/320 [==============================] - 1s 5ms/step - loss: 0.0075 - accuracy: 0.9987\n",
      "Epoch 98/100\n",
      "320/320 [==============================] - 1s 4ms/step - loss: 0.0076 - accuracy: 0.9987\n",
      "Epoch 99/100\n",
      "320/320 [==============================] - 1s 5ms/step - loss: 0.0074 - accuracy: 0.9987\n",
      "Epoch 100/100\n",
      "320/320 [==============================] - 1s 4ms/step - loss: 0.0075 - accuracy: 0.9987\n",
      "80/80 [==============================] - 0s 3ms/step\n"
     ]
    },
    {
     "name": "stderr",
     "output_type": "stream",
     "text": [
      "WARNING:absl:Found untraced functions such as _update_step_xla while saving (showing 1 of 1). These functions will not be directly callable after loading.\n"
     ]
    },
    {
     "name": "stdout",
     "output_type": "stream",
     "text": [
      "INFO:tensorflow:Assets written to: C:\\Users\\shubh\\AppData\\Local\\Temp\\tmpo4_2be53\\assets\n"
     ]
    },
    {
     "name": "stderr",
     "output_type": "stream",
     "text": [
      "INFO:tensorflow:Assets written to: C:\\Users\\shubh\\AppData\\Local\\Temp\\tmpo4_2be53\\assets\n"
     ]
    },
    {
     "name": "stdout",
     "output_type": "stream",
     "text": [
      "Epoch 1/100\n",
      "320/320 [==============================] - 3s 5ms/step - loss: 0.4795 - accuracy: 0.7952\n",
      "Epoch 2/100\n",
      "320/320 [==============================] - 1s 5ms/step - loss: 0.1791 - accuracy: 0.8334\n",
      "Epoch 3/100\n",
      "320/320 [==============================] - 1s 5ms/step - loss: 0.1339 - accuracy: 0.9980\n",
      "Epoch 4/100\n",
      "320/320 [==============================] - 1s 4ms/step - loss: 0.1131 - accuracy: 0.9983\n",
      "Epoch 5/100\n",
      "320/320 [==============================] - 2s 5ms/step - loss: 0.0960 - accuracy: 0.9983\n",
      "Epoch 6/100\n",
      "320/320 [==============================] - 1s 5ms/step - loss: 0.0816 - accuracy: 0.9983\n",
      "Epoch 7/100\n",
      "320/320 [==============================] - 2s 5ms/step - loss: 0.0698 - accuracy: 0.9983\n",
      "Epoch 8/100\n",
      "320/320 [==============================] - 1s 5ms/step - loss: 0.0600 - accuracy: 0.9983\n",
      "Epoch 9/100\n",
      "320/320 [==============================] - 2s 5ms/step - loss: 0.0518 - accuracy: 0.9983\n",
      "Epoch 10/100\n",
      "320/320 [==============================] - 1s 5ms/step - loss: 0.0451 - accuracy: 0.9983\n",
      "Epoch 11/100\n",
      "320/320 [==============================] - 1s 5ms/step - loss: 0.0395 - accuracy: 0.9983\n",
      "Epoch 12/100\n",
      "320/320 [==============================] - 2s 5ms/step - loss: 0.0349 - accuracy: 0.9983\n",
      "Epoch 13/100\n",
      "320/320 [==============================] - 1s 4ms/step - loss: 0.0310 - accuracy: 0.9983\n",
      "Epoch 14/100\n",
      "320/320 [==============================] - 1s 4ms/step - loss: 0.0277 - accuracy: 0.9983\n",
      "Epoch 15/100\n",
      "320/320 [==============================] - 1s 5ms/step - loss: 0.0249 - accuracy: 0.9983\n",
      "Epoch 16/100\n",
      "320/320 [==============================] - 1s 5ms/step - loss: 0.0227 - accuracy: 0.9983\n",
      "Epoch 17/100\n",
      "320/320 [==============================] - 1s 5ms/step - loss: 0.0207 - accuracy: 0.9983\n",
      "Epoch 18/100\n",
      "320/320 [==============================] - 1s 5ms/step - loss: 0.0191 - accuracy: 0.9983\n",
      "Epoch 19/100\n",
      "320/320 [==============================] - 1s 5ms/step - loss: 0.0176 - accuracy: 0.9983\n",
      "Epoch 20/100\n",
      "320/320 [==============================] - 1s 4ms/step - loss: 0.0165 - accuracy: 0.9983\n",
      "Epoch 21/100\n",
      "320/320 [==============================] - 2s 5ms/step - loss: 0.0153 - accuracy: 0.9983\n",
      "Epoch 22/100\n",
      "320/320 [==============================] - 1s 4ms/step - loss: 0.0147 - accuracy: 0.9983\n",
      "Epoch 23/100\n",
      "320/320 [==============================] - 1s 5ms/step - loss: 0.0139 - accuracy: 0.9983\n",
      "Epoch 24/100\n",
      "320/320 [==============================] - 1s 5ms/step - loss: 0.0134 - accuracy: 0.9983\n",
      "Epoch 25/100\n",
      "320/320 [==============================] - 1s 4ms/step - loss: 0.0128 - accuracy: 0.9983\n",
      "Epoch 26/100\n",
      "320/320 [==============================] - 2s 6ms/step - loss: 0.0124 - accuracy: 0.9983\n",
      "Epoch 27/100\n",
      "320/320 [==============================] - 1s 5ms/step - loss: 0.0120 - accuracy: 0.9983\n",
      "Epoch 28/100\n",
      "320/320 [==============================] - 2s 5ms/step - loss: 0.0117 - accuracy: 0.9983\n",
      "Epoch 29/100\n",
      "320/320 [==============================] - 1s 5ms/step - loss: 0.0116 - accuracy: 0.9983\n",
      "Epoch 30/100\n",
      "320/320 [==============================] - 1s 4ms/step - loss: 0.0114 - accuracy: 0.9983\n",
      "Epoch 31/100\n",
      "320/320 [==============================] - 1s 5ms/step - loss: 0.0112 - accuracy: 0.9983\n",
      "Epoch 32/100\n",
      "320/320 [==============================] - 1s 4ms/step - loss: 0.0112 - accuracy: 0.9983\n",
      "Epoch 33/100\n",
      "320/320 [==============================] - 2s 5ms/step - loss: 0.0108 - accuracy: 0.9983\n",
      "Epoch 34/100\n",
      "320/320 [==============================] - 2s 5ms/step - loss: 0.0108 - accuracy: 0.9983\n",
      "Epoch 35/100\n",
      "320/320 [==============================] - 1s 5ms/step - loss: 0.0109 - accuracy: 0.9983\n",
      "Epoch 36/100\n",
      "320/320 [==============================] - 1s 4ms/step - loss: 0.0107 - accuracy: 0.9983\n",
      "Epoch 37/100\n",
      "320/320 [==============================] - 2s 5ms/step - loss: 0.0106 - accuracy: 0.9983\n",
      "Epoch 38/100\n",
      "320/320 [==============================] - 1s 5ms/step - loss: 0.0106 - accuracy: 0.9983\n",
      "Epoch 39/100\n",
      "320/320 [==============================] - 1s 5ms/step - loss: 0.0106 - accuracy: 0.9983\n",
      "Epoch 40/100\n",
      "320/320 [==============================] - 1s 4ms/step - loss: 0.0105 - accuracy: 0.9983\n",
      "Epoch 41/100\n",
      "320/320 [==============================] - 1s 5ms/step - loss: 0.0104 - accuracy: 0.9983\n",
      "Epoch 42/100\n",
      "320/320 [==============================] - 1s 5ms/step - loss: 0.0104 - accuracy: 0.9983\n",
      "Epoch 43/100\n",
      "320/320 [==============================] - 1s 5ms/step - loss: 0.0105 - accuracy: 0.9983\n",
      "Epoch 44/100\n",
      "320/320 [==============================] - 1s 5ms/step - loss: 0.0105 - accuracy: 0.9983\n",
      "Epoch 45/100\n",
      "320/320 [==============================] - 2s 5ms/step - loss: 0.0104 - accuracy: 0.9983\n",
      "Epoch 46/100\n",
      "320/320 [==============================] - 1s 4ms/step - loss: 0.0104 - accuracy: 0.9983\n",
      "Epoch 47/100\n",
      "320/320 [==============================] - 1s 5ms/step - loss: 0.0103 - accuracy: 0.9983\n",
      "Epoch 48/100\n",
      "320/320 [==============================] - 1s 5ms/step - loss: 0.0103 - accuracy: 0.9983\n",
      "Epoch 49/100\n",
      "320/320 [==============================] - 1s 5ms/step - loss: 0.0103 - accuracy: 0.9983\n",
      "Epoch 50/100\n",
      "320/320 [==============================] - 2s 5ms/step - loss: 0.0104 - accuracy: 0.9983\n",
      "Epoch 51/100\n",
      "320/320 [==============================] - 1s 4ms/step - loss: 0.0101 - accuracy: 0.9983\n",
      "Epoch 52/100\n",
      "320/320 [==============================] - 1s 5ms/step - loss: 0.0104 - accuracy: 0.9983\n",
      "Epoch 53/100\n",
      "320/320 [==============================] - 1s 4ms/step - loss: 0.0103 - accuracy: 0.9983\n",
      "Epoch 54/100\n",
      "320/320 [==============================] - 2s 6ms/step - loss: 0.0103 - accuracy: 0.9983\n",
      "Epoch 55/100\n",
      "320/320 [==============================] - 2s 5ms/step - loss: 0.0102 - accuracy: 0.9981\n",
      "Epoch 56/100\n",
      "320/320 [==============================] - 1s 4ms/step - loss: 0.0103 - accuracy: 0.9983\n",
      "Epoch 57/100\n",
      "320/320 [==============================] - 1s 4ms/step - loss: 0.0103 - accuracy: 0.9983\n",
      "Epoch 58/100\n",
      "320/320 [==============================] - 1s 5ms/step - loss: 0.0102 - accuracy: 0.9981\n",
      "Epoch 59/100\n",
      "320/320 [==============================] - 1s 5ms/step - loss: 0.0103 - accuracy: 0.9983\n",
      "Epoch 60/100\n",
      "320/320 [==============================] - 1s 4ms/step - loss: 0.0102 - accuracy: 0.9983\n",
      "Epoch 61/100\n",
      "320/320 [==============================] - 2s 5ms/step - loss: 0.0102 - accuracy: 0.9981\n",
      "Epoch 62/100\n",
      "320/320 [==============================] - 1s 5ms/step - loss: 0.0101 - accuracy: 0.9981\n",
      "Epoch 63/100\n",
      "320/320 [==============================] - 1s 5ms/step - loss: 0.0103 - accuracy: 0.9983\n",
      "Epoch 64/100\n",
      "320/320 [==============================] - 1s 4ms/step - loss: 0.0102 - accuracy: 0.9983\n",
      "Epoch 65/100\n",
      "320/320 [==============================] - 2s 5ms/step - loss: 0.0101 - accuracy: 0.9983\n",
      "Epoch 66/100\n",
      "320/320 [==============================] - 2s 5ms/step - loss: 0.0102 - accuracy: 0.9983\n",
      "Epoch 67/100\n",
      "320/320 [==============================] - 1s 5ms/step - loss: 0.0101 - accuracy: 0.9983\n",
      "Epoch 68/100\n",
      "320/320 [==============================] - 1s 5ms/step - loss: 0.0102 - accuracy: 0.9983\n",
      "Epoch 69/100\n",
      "320/320 [==============================] - 2s 5ms/step - loss: 0.0102 - accuracy: 0.9983\n",
      "Epoch 70/100\n",
      "320/320 [==============================] - 1s 5ms/step - loss: 0.0101 - accuracy: 0.9983\n",
      "Epoch 71/100\n",
      "320/320 [==============================] - 2s 5ms/step - loss: 0.0102 - accuracy: 0.9983\n",
      "Epoch 72/100\n",
      "320/320 [==============================] - 1s 4ms/step - loss: 0.0101 - accuracy: 0.9983\n",
      "Epoch 73/100\n",
      "320/320 [==============================] - 2s 5ms/step - loss: 0.0102 - accuracy: 0.9983\n",
      "Epoch 74/100\n",
      "320/320 [==============================] - 1s 5ms/step - loss: 0.0102 - accuracy: 0.9981\n",
      "Epoch 75/100\n",
      "320/320 [==============================] - 2s 5ms/step - loss: 0.0102 - accuracy: 0.9983\n",
      "Epoch 76/100\n",
      "320/320 [==============================] - 2s 5ms/step - loss: 0.0101 - accuracy: 0.9983\n",
      "Epoch 77/100\n",
      "320/320 [==============================] - 2s 5ms/step - loss: 0.0099 - accuracy: 0.9981\n",
      "Epoch 78/100\n",
      "320/320 [==============================] - 1s 5ms/step - loss: 0.0103 - accuracy: 0.9983\n",
      "Epoch 79/100\n",
      "320/320 [==============================] - 1s 5ms/step - loss: 0.0102 - accuracy: 0.9983\n",
      "Epoch 80/100\n",
      "320/320 [==============================] - 1s 4ms/step - loss: 0.0102 - accuracy: 0.9983\n",
      "Epoch 81/100\n",
      "320/320 [==============================] - 1s 5ms/step - loss: 0.0102 - accuracy: 0.9981\n",
      "Epoch 82/100\n",
      "320/320 [==============================] - 1s 4ms/step - loss: 0.0101 - accuracy: 0.9983\n",
      "Epoch 83/100\n",
      "320/320 [==============================] - 2s 5ms/step - loss: 0.0101 - accuracy: 0.9983\n",
      "Epoch 84/100\n",
      "320/320 [==============================] - 1s 5ms/step - loss: 0.0101 - accuracy: 0.9983\n",
      "Epoch 85/100\n",
      "320/320 [==============================] - 1s 4ms/step - loss: 0.0102 - accuracy: 0.9983\n",
      "Epoch 86/100\n",
      "320/320 [==============================] - 1s 5ms/step - loss: 0.0101 - accuracy: 0.9983\n",
      "Epoch 87/100\n",
      "320/320 [==============================] - 1s 5ms/step - loss: 0.0101 - accuracy: 0.9983\n",
      "Epoch 88/100\n",
      "320/320 [==============================] - 1s 4ms/step - loss: 0.0100 - accuracy: 0.9983\n",
      "Epoch 89/100\n",
      "320/320 [==============================] - 1s 5ms/step - loss: 0.0102 - accuracy: 0.9981\n",
      "Epoch 90/100\n",
      "320/320 [==============================] - 1s 4ms/step - loss: 0.0101 - accuracy: 0.9983\n",
      "Epoch 91/100\n",
      "320/320 [==============================] - 1s 5ms/step - loss: 0.0100 - accuracy: 0.9983\n",
      "Epoch 92/100\n",
      "320/320 [==============================] - 1s 5ms/step - loss: 0.0100 - accuracy: 0.9983\n",
      "Epoch 93/100\n",
      "320/320 [==============================] - 1s 4ms/step - loss: 0.0101 - accuracy: 0.9983\n",
      "Epoch 94/100\n",
      "320/320 [==============================] - 1s 5ms/step - loss: 0.0099 - accuracy: 0.9983\n",
      "Epoch 95/100\n",
      "320/320 [==============================] - 1s 5ms/step - loss: 0.0101 - accuracy: 0.9981\n",
      "Epoch 96/100\n",
      "320/320 [==============================] - 2s 5ms/step - loss: 0.0101 - accuracy: 0.9983\n",
      "Epoch 97/100\n",
      "320/320 [==============================] - 1s 4ms/step - loss: 0.0099 - accuracy: 0.9983\n",
      "Epoch 98/100\n",
      "320/320 [==============================] - 2s 5ms/step - loss: 0.0100 - accuracy: 0.9983\n",
      "Epoch 99/100\n",
      "320/320 [==============================] - 1s 4ms/step - loss: 0.0100 - accuracy: 0.9983\n",
      "Epoch 100/100\n",
      "320/320 [==============================] - 1s 4ms/step - loss: 0.0099 - accuracy: 0.9983\n",
      "80/80 [==============================] - 1s 4ms/step\n"
     ]
    },
    {
     "name": "stderr",
     "output_type": "stream",
     "text": [
      "WARNING:absl:Found untraced functions such as _update_step_xla while saving (showing 1 of 1). These functions will not be directly callable after loading.\n"
     ]
    },
    {
     "name": "stdout",
     "output_type": "stream",
     "text": [
      "INFO:tensorflow:Assets written to: C:\\Users\\shubh\\AppData\\Local\\Temp\\tmpx_ne0gws\\assets\n"
     ]
    },
    {
     "name": "stderr",
     "output_type": "stream",
     "text": [
      "INFO:tensorflow:Assets written to: C:\\Users\\shubh\\AppData\\Local\\Temp\\tmpx_ne0gws\\assets\n"
     ]
    },
    {
     "name": "stdout",
     "output_type": "stream",
     "text": [
      "Epoch 1/100\n",
      "320/320 [==============================] - 3s 5ms/step - loss: 0.4791 - accuracy: 0.7939\n",
      "Epoch 2/100\n",
      "320/320 [==============================] - 1s 5ms/step - loss: 0.1790 - accuracy: 0.8302\n",
      "Epoch 3/100\n",
      "320/320 [==============================] - 2s 5ms/step - loss: 0.1332 - accuracy: 0.9978\n",
      "Epoch 4/100\n",
      "320/320 [==============================] - 2s 5ms/step - loss: 0.1123 - accuracy: 0.9984\n",
      "Epoch 5/100\n",
      "320/320 [==============================] - 2s 5ms/step - loss: 0.0952 - accuracy: 0.9984\n",
      "Epoch 6/100\n",
      "320/320 [==============================] - 1s 5ms/step - loss: 0.0809 - accuracy: 0.9984\n",
      "Epoch 7/100\n",
      "320/320 [==============================] - 2s 5ms/step - loss: 0.0690 - accuracy: 0.9984\n",
      "Epoch 8/100\n",
      "320/320 [==============================] - 1s 5ms/step - loss: 0.0592 - accuracy: 0.9984\n",
      "Epoch 9/100\n",
      "320/320 [==============================] - 2s 5ms/step - loss: 0.0511 - accuracy: 0.9984\n",
      "Epoch 10/100\n",
      "320/320 [==============================] - 1s 5ms/step - loss: 0.0443 - accuracy: 0.9984\n",
      "Epoch 11/100\n",
      "320/320 [==============================] - 1s 5ms/step - loss: 0.0387 - accuracy: 0.9984\n",
      "Epoch 12/100\n",
      "320/320 [==============================] - 1s 5ms/step - loss: 0.0341 - accuracy: 0.9984\n",
      "Epoch 13/100\n",
      "320/320 [==============================] - 2s 5ms/step - loss: 0.0302 - accuracy: 0.9984\n",
      "Epoch 14/100\n",
      "320/320 [==============================] - 2s 6ms/step - loss: 0.0269 - accuracy: 0.9984\n",
      "Epoch 15/100\n",
      "320/320 [==============================] - 2s 6ms/step - loss: 0.0242 - accuracy: 0.9984\n",
      "Epoch 16/100\n",
      "320/320 [==============================] - 2s 5ms/step - loss: 0.0218 - accuracy: 0.9984\n",
      "Epoch 17/100\n",
      "320/320 [==============================] - 2s 5ms/step - loss: 0.0199 - accuracy: 0.9984\n",
      "Epoch 18/100\n",
      "320/320 [==============================] - 2s 5ms/step - loss: 0.0183 - accuracy: 0.9984\n",
      "Epoch 19/100\n",
      "320/320 [==============================] - 2s 6ms/step - loss: 0.0168 - accuracy: 0.9984\n",
      "Epoch 20/100\n",
      "320/320 [==============================] - 2s 5ms/step - loss: 0.0157 - accuracy: 0.9984\n",
      "Epoch 21/100\n",
      "320/320 [==============================] - 1s 5ms/step - loss: 0.0147 - accuracy: 0.9984\n",
      "Epoch 22/100\n",
      "320/320 [==============================] - 1s 5ms/step - loss: 0.0139 - accuracy: 0.9984\n",
      "Epoch 23/100\n",
      "320/320 [==============================] - 1s 5ms/step - loss: 0.0132 - accuracy: 0.9984\n",
      "Epoch 24/100\n",
      "320/320 [==============================] - 2s 5ms/step - loss: 0.0125 - accuracy: 0.9984\n",
      "Epoch 25/100\n",
      "320/320 [==============================] - 1s 5ms/step - loss: 0.0121 - accuracy: 0.9984\n",
      "Epoch 26/100\n",
      "320/320 [==============================] - 2s 5ms/step - loss: 0.0116 - accuracy: 0.9984\n",
      "Epoch 27/100\n",
      "320/320 [==============================] - 2s 5ms/step - loss: 0.0113 - accuracy: 0.9984\n",
      "Epoch 28/100\n",
      "320/320 [==============================] - 1s 5ms/step - loss: 0.0110 - accuracy: 0.9984\n",
      "Epoch 29/100\n",
      "320/320 [==============================] - 1s 5ms/step - loss: 0.0108 - accuracy: 0.9984\n",
      "Epoch 30/100\n",
      "320/320 [==============================] - 1s 5ms/step - loss: 0.0105 - accuracy: 0.9984\n",
      "Epoch 31/100\n",
      "320/320 [==============================] - 2s 5ms/step - loss: 0.0104 - accuracy: 0.9984\n",
      "Epoch 32/100\n",
      "320/320 [==============================] - 1s 5ms/step - loss: 0.0103 - accuracy: 0.9984\n",
      "Epoch 33/100\n",
      "320/320 [==============================] - 2s 5ms/step - loss: 0.0102 - accuracy: 0.9984\n",
      "Epoch 34/100\n",
      "320/320 [==============================] - 2s 5ms/step - loss: 0.0098 - accuracy: 0.9984\n",
      "Epoch 35/100\n",
      "320/320 [==============================] - 2s 5ms/step - loss: 0.0100 - accuracy: 0.9984\n",
      "Epoch 36/100\n",
      "320/320 [==============================] - 1s 5ms/step - loss: 0.0100 - accuracy: 0.9984\n",
      "Epoch 37/100\n",
      "320/320 [==============================] - 2s 5ms/step - loss: 0.0098 - accuracy: 0.9984\n",
      "Epoch 38/100\n",
      "320/320 [==============================] - 1s 5ms/step - loss: 0.0098 - accuracy: 0.9984\n",
      "Epoch 39/100\n",
      "320/320 [==============================] - 2s 6ms/step - loss: 0.0097 - accuracy: 0.9984\n",
      "Epoch 40/100\n",
      "320/320 [==============================] - 2s 5ms/step - loss: 0.0097 - accuracy: 0.9984\n",
      "Epoch 41/100\n",
      "320/320 [==============================] - 2s 5ms/step - loss: 0.0097 - accuracy: 0.9984\n",
      "Epoch 42/100\n",
      "320/320 [==============================] - 1s 5ms/step - loss: 0.0096 - accuracy: 0.9984\n",
      "Epoch 43/100\n",
      "320/320 [==============================] - 2s 5ms/step - loss: 0.0095 - accuracy: 0.9984\n",
      "Epoch 44/100\n",
      "320/320 [==============================] - 2s 5ms/step - loss: 0.0096 - accuracy: 0.9984\n",
      "Epoch 45/100\n",
      "320/320 [==============================] - 2s 5ms/step - loss: 0.0096 - accuracy: 0.9984\n",
      "Epoch 46/100\n",
      "320/320 [==============================] - 1s 5ms/step - loss: 0.0096 - accuracy: 0.9984\n",
      "Epoch 47/100\n",
      "320/320 [==============================] - 1s 5ms/step - loss: 0.0096 - accuracy: 0.9984\n",
      "Epoch 48/100\n",
      "320/320 [==============================] - 1s 5ms/step - loss: 0.0096 - accuracy: 0.9984\n",
      "Epoch 49/100\n",
      "320/320 [==============================] - 2s 5ms/step - loss: 0.0095 - accuracy: 0.9984\n",
      "Epoch 50/100\n",
      "320/320 [==============================] - 2s 5ms/step - loss: 0.0095 - accuracy: 0.9984\n",
      "Epoch 51/100\n",
      "320/320 [==============================] - 1s 4ms/step - loss: 0.0095 - accuracy: 0.9984\n",
      "Epoch 52/100\n",
      "320/320 [==============================] - 2s 5ms/step - loss: 0.0095 - accuracy: 0.9984\n",
      "Epoch 53/100\n",
      "320/320 [==============================] - 1s 5ms/step - loss: 0.0095 - accuracy: 0.9984\n",
      "Epoch 54/100\n",
      "320/320 [==============================] - 1s 5ms/step - loss: 0.0095 - accuracy: 0.9984\n",
      "Epoch 55/100\n",
      "320/320 [==============================] - 1s 5ms/step - loss: 0.0095 - accuracy: 0.9984\n",
      "Epoch 56/100\n",
      "320/320 [==============================] - 2s 5ms/step - loss: 0.0094 - accuracy: 0.9984\n",
      "Epoch 57/100\n",
      "320/320 [==============================] - 2s 5ms/step - loss: 0.0096 - accuracy: 0.9984\n",
      "Epoch 58/100\n",
      "320/320 [==============================] - 1s 5ms/step - loss: 0.0095 - accuracy: 0.9984\n",
      "Epoch 59/100\n",
      "320/320 [==============================] - 2s 5ms/step - loss: 0.0095 - accuracy: 0.9984\n",
      "Epoch 60/100\n",
      "320/320 [==============================] - 1s 4ms/step - loss: 0.0095 - accuracy: 0.9984\n",
      "Epoch 61/100\n",
      "320/320 [==============================] - 1s 5ms/step - loss: 0.0095 - accuracy: 0.9984\n",
      "Epoch 62/100\n",
      "320/320 [==============================] - 1s 5ms/step - loss: 0.0095 - accuracy: 0.9984\n",
      "Epoch 63/100\n",
      "320/320 [==============================] - 2s 5ms/step - loss: 0.0095 - accuracy: 0.9984\n",
      "Epoch 64/100\n",
      "320/320 [==============================] - 1s 4ms/step - loss: 0.0095 - accuracy: 0.9984\n",
      "Epoch 65/100\n",
      "320/320 [==============================] - 2s 5ms/step - loss: 0.0095 - accuracy: 0.9984\n",
      "Epoch 66/100\n",
      "320/320 [==============================] - 2s 5ms/step - loss: 0.0094 - accuracy: 0.9984\n",
      "Epoch 67/100\n",
      "320/320 [==============================] - 2s 5ms/step - loss: 0.0094 - accuracy: 0.9984\n",
      "Epoch 68/100\n",
      "320/320 [==============================] - 1s 5ms/step - loss: 0.0094 - accuracy: 0.9984\n",
      "Epoch 69/100\n",
      "320/320 [==============================] - 1s 4ms/step - loss: 0.0095 - accuracy: 0.9984\n",
      "Epoch 70/100\n",
      "320/320 [==============================] - 2s 5ms/step - loss: 0.0094 - accuracy: 0.9984\n",
      "Epoch 71/100\n",
      "320/320 [==============================] - 2s 5ms/step - loss: 0.0095 - accuracy: 0.9984\n",
      "Epoch 72/100\n",
      "320/320 [==============================] - 1s 5ms/step - loss: 0.0094 - accuracy: 0.9984\n",
      "Epoch 73/100\n",
      "320/320 [==============================] - 2s 6ms/step - loss: 0.0094 - accuracy: 0.9984\n",
      "Epoch 74/100\n",
      "320/320 [==============================] - 1s 5ms/step - loss: 0.0094 - accuracy: 0.9984\n",
      "Epoch 75/100\n",
      "320/320 [==============================] - 2s 5ms/step - loss: 0.0094 - accuracy: 0.9984\n",
      "Epoch 76/100\n",
      "320/320 [==============================] - 1s 5ms/step - loss: 0.0095 - accuracy: 0.9984\n",
      "Epoch 77/100\n",
      "320/320 [==============================] - 2s 5ms/step - loss: 0.0094 - accuracy: 0.9984\n",
      "Epoch 78/100\n",
      "320/320 [==============================] - 2s 5ms/step - loss: 0.0094 - accuracy: 0.9984\n",
      "Epoch 79/100\n",
      "320/320 [==============================] - 2s 5ms/step - loss: 0.0095 - accuracy: 0.9984\n",
      "Epoch 80/100\n",
      "320/320 [==============================] - 1s 5ms/step - loss: 0.0095 - accuracy: 0.9984\n",
      "Epoch 81/100\n",
      "320/320 [==============================] - 2s 5ms/step - loss: 0.0094 - accuracy: 0.9984\n",
      "Epoch 82/100\n",
      "320/320 [==============================] - 1s 5ms/step - loss: 0.0095 - accuracy: 0.9984\n",
      "Epoch 83/100\n",
      "320/320 [==============================] - 1s 5ms/step - loss: 0.0094 - accuracy: 0.9984\n",
      "Epoch 84/100\n",
      "320/320 [==============================] - 1s 5ms/step - loss: 0.0094 - accuracy: 0.9984\n",
      "Epoch 85/100\n",
      "320/320 [==============================] - 2s 5ms/step - loss: 0.0095 - accuracy: 0.9984\n",
      "Epoch 86/100\n",
      "320/320 [==============================] - 1s 5ms/step - loss: 0.0093 - accuracy: 0.9984\n",
      "Epoch 87/100\n",
      "320/320 [==============================] - 2s 5ms/step - loss: 0.0095 - accuracy: 0.9984\n",
      "Epoch 88/100\n",
      "320/320 [==============================] - 1s 5ms/step - loss: 0.0094 - accuracy: 0.9984\n",
      "Epoch 89/100\n",
      "320/320 [==============================] - 2s 5ms/step - loss: 0.0094 - accuracy: 0.9984\n",
      "Epoch 90/100\n",
      "320/320 [==============================] - 1s 4ms/step - loss: 0.0095 - accuracy: 0.9984\n",
      "Epoch 91/100\n",
      "320/320 [==============================] - 2s 5ms/step - loss: 0.0094 - accuracy: 0.9984\n",
      "Epoch 92/100\n",
      "320/320 [==============================] - 1s 5ms/step - loss: 0.0095 - accuracy: 0.9984\n",
      "Epoch 93/100\n",
      "320/320 [==============================] - 2s 5ms/step - loss: 0.0095 - accuracy: 0.9984\n",
      "Epoch 94/100\n",
      "320/320 [==============================] - 2s 5ms/step - loss: 0.0094 - accuracy: 0.9984\n",
      "Epoch 95/100\n",
      "320/320 [==============================] - 1s 5ms/step - loss: 0.0094 - accuracy: 0.9984\n",
      "Epoch 96/100\n",
      "320/320 [==============================] - 2s 5ms/step - loss: 0.0094 - accuracy: 0.9984\n",
      "Epoch 97/100\n",
      "320/320 [==============================] - 2s 5ms/step - loss: 0.0095 - accuracy: 0.9984\n",
      "Epoch 98/100\n",
      "320/320 [==============================] - 1s 5ms/step - loss: 0.0095 - accuracy: 0.9984\n",
      "Epoch 99/100\n",
      "320/320 [==============================] - 2s 6ms/step - loss: 0.0094 - accuracy: 0.9984\n",
      "Epoch 100/100\n",
      "320/320 [==============================] - 1s 5ms/step - loss: 0.0094 - accuracy: 0.9984\n",
      "80/80 [==============================] - 1s 4ms/step\n"
     ]
    },
    {
     "name": "stderr",
     "output_type": "stream",
     "text": [
      "WARNING:absl:Found untraced functions such as _update_step_xla while saving (showing 1 of 1). These functions will not be directly callable after loading.\n"
     ]
    },
    {
     "name": "stdout",
     "output_type": "stream",
     "text": [
      "INFO:tensorflow:Assets written to: C:\\Users\\shubh\\AppData\\Local\\Temp\\tmpmqfv2_b5\\assets\n"
     ]
    },
    {
     "name": "stderr",
     "output_type": "stream",
     "text": [
      "INFO:tensorflow:Assets written to: C:\\Users\\shubh\\AppData\\Local\\Temp\\tmpmqfv2_b5\\assets\n"
     ]
    },
    {
     "name": "stdout",
     "output_type": "stream",
     "text": [
      "Epoch 1/100\n",
      "320/320 [==============================] - 3s 5ms/step - loss: 0.4789 - accuracy: 0.7956\n",
      "Epoch 2/100\n",
      "320/320 [==============================] - 1s 5ms/step - loss: 0.1812 - accuracy: 0.8272\n",
      "Epoch 3/100\n",
      "320/320 [==============================] - 1s 5ms/step - loss: 0.1345 - accuracy: 0.9969\n",
      "Epoch 4/100\n",
      "320/320 [==============================] - 1s 5ms/step - loss: 0.1136 - accuracy: 0.9980\n",
      "Epoch 5/100\n",
      "320/320 [==============================] - 1s 5ms/step - loss: 0.0964 - accuracy: 0.9980\n",
      "Epoch 6/100\n",
      "320/320 [==============================] - 1s 4ms/step - loss: 0.0821 - accuracy: 0.9980\n",
      "Epoch 7/100\n",
      "320/320 [==============================] - 1s 4ms/step - loss: 0.0702 - accuracy: 0.9980\n",
      "Epoch 8/100\n",
      "320/320 [==============================] - 1s 5ms/step - loss: 0.0604 - accuracy: 0.9980\n",
      "Epoch 9/100\n",
      "320/320 [==============================] - 2s 5ms/step - loss: 0.0523 - accuracy: 0.9980\n",
      "Epoch 10/100\n",
      "320/320 [==============================] - 1s 5ms/step - loss: 0.0457 - accuracy: 0.9980\n",
      "Epoch 11/100\n",
      "320/320 [==============================] - 1s 4ms/step - loss: 0.0401 - accuracy: 0.9980\n",
      "Epoch 12/100\n",
      "320/320 [==============================] - 2s 5ms/step - loss: 0.0355 - accuracy: 0.9980\n",
      "Epoch 13/100\n",
      "320/320 [==============================] - 2s 5ms/step - loss: 0.0316 - accuracy: 0.9980\n",
      "Epoch 14/100\n",
      "320/320 [==============================] - 1s 5ms/step - loss: 0.0285 - accuracy: 0.9980\n",
      "Epoch 15/100\n",
      "320/320 [==============================] - 2s 5ms/step - loss: 0.0258 - accuracy: 0.9980\n",
      "Epoch 16/100\n",
      "320/320 [==============================] - 1s 5ms/step - loss: 0.0235 - accuracy: 0.9980\n",
      "Epoch 17/100\n",
      "320/320 [==============================] - 1s 5ms/step - loss: 0.0215 - accuracy: 0.9980\n",
      "Epoch 18/100\n",
      "320/320 [==============================] - 2s 5ms/step - loss: 0.0200 - accuracy: 0.9980\n",
      "Epoch 19/100\n",
      "320/320 [==============================] - 2s 5ms/step - loss: 0.0186 - accuracy: 0.9980\n",
      "Epoch 20/100\n",
      "320/320 [==============================] - 2s 5ms/step - loss: 0.0175 - accuracy: 0.9980\n",
      "Epoch 21/100\n",
      "320/320 [==============================] - 2s 5ms/step - loss: 0.0166 - accuracy: 0.9980\n",
      "Epoch 22/100\n",
      "320/320 [==============================] - 2s 5ms/step - loss: 0.0157 - accuracy: 0.9980\n",
      "Epoch 23/100\n",
      "320/320 [==============================] - 1s 5ms/step - loss: 0.0151 - accuracy: 0.9980\n",
      "Epoch 24/100\n",
      "320/320 [==============================] - 1s 4ms/step - loss: 0.0145 - accuracy: 0.9980\n",
      "Epoch 25/100\n",
      "320/320 [==============================] - 2s 5ms/step - loss: 0.0140 - accuracy: 0.9980\n",
      "Epoch 26/100\n",
      "320/320 [==============================] - 2s 5ms/step - loss: 0.0134 - accuracy: 0.9980\n",
      "Epoch 27/100\n",
      "320/320 [==============================] - 2s 5ms/step - loss: 0.0132 - accuracy: 0.9980\n",
      "Epoch 28/100\n",
      "320/320 [==============================] - 2s 5ms/step - loss: 0.0129 - accuracy: 0.9980\n",
      "Epoch 29/100\n",
      "320/320 [==============================] - 2s 5ms/step - loss: 0.0128 - accuracy: 0.9980\n",
      "Epoch 30/100\n",
      "320/320 [==============================] - 1s 4ms/step - loss: 0.0126 - accuracy: 0.9980\n",
      "Epoch 31/100\n",
      "320/320 [==============================] - 2s 5ms/step - loss: 0.0123 - accuracy: 0.9980\n",
      "Epoch 32/100\n",
      "320/320 [==============================] - 1s 5ms/step - loss: 0.0122 - accuracy: 0.9980\n",
      "Epoch 33/100\n",
      "320/320 [==============================] - 2s 5ms/step - loss: 0.0120 - accuracy: 0.9980\n",
      "Epoch 34/100\n",
      "320/320 [==============================] - 1s 5ms/step - loss: 0.0120 - accuracy: 0.9980\n",
      "Epoch 35/100\n",
      "320/320 [==============================] - 2s 5ms/step - loss: 0.0119 - accuracy: 0.9980\n",
      "Epoch 36/100\n",
      "320/320 [==============================] - 1s 5ms/step - loss: 0.0115 - accuracy: 0.9980\n",
      "Epoch 37/100\n",
      "320/320 [==============================] - 2s 6ms/step - loss: 0.0119 - accuracy: 0.9980\n",
      "Epoch 38/100\n",
      "320/320 [==============================] - 1s 5ms/step - loss: 0.0117 - accuracy: 0.9980\n",
      "Epoch 39/100\n",
      "320/320 [==============================] - 2s 5ms/step - loss: 0.0116 - accuracy: 0.9980\n",
      "Epoch 40/100\n",
      "320/320 [==============================] - 2s 5ms/step - loss: 0.0115 - accuracy: 0.9980\n",
      "Epoch 41/100\n",
      "320/320 [==============================] - 1s 5ms/step - loss: 0.0115 - accuracy: 0.9980\n",
      "Epoch 42/100\n",
      "320/320 [==============================] - 2s 5ms/step - loss: 0.0114 - accuracy: 0.9980\n",
      "Epoch 43/100\n",
      "320/320 [==============================] - 1s 5ms/step - loss: 0.0114 - accuracy: 0.9980\n",
      "Epoch 44/100\n",
      "320/320 [==============================] - 2s 5ms/step - loss: 0.0114 - accuracy: 0.9980\n",
      "Epoch 45/100\n",
      "320/320 [==============================] - 2s 5ms/step - loss: 0.0111 - accuracy: 0.9980\n",
      "Epoch 46/100\n",
      "320/320 [==============================] - 1s 4ms/step - loss: 0.0111 - accuracy: 0.9980\n",
      "Epoch 47/100\n",
      "320/320 [==============================] - 2s 5ms/step - loss: 0.0111 - accuracy: 0.9980\n",
      "Epoch 48/100\n",
      "320/320 [==============================] - 1s 5ms/step - loss: 0.0111 - accuracy: 0.9980\n",
      "Epoch 49/100\n",
      "320/320 [==============================] - 2s 5ms/step - loss: 0.0110 - accuracy: 0.9980\n",
      "Epoch 50/100\n",
      "320/320 [==============================] - 1s 4ms/step - loss: 0.0110 - accuracy: 0.9980\n",
      "Epoch 51/100\n",
      "320/320 [==============================] - 1s 4ms/step - loss: 0.0109 - accuracy: 0.9980\n",
      "Epoch 52/100\n",
      "320/320 [==============================] - 1s 5ms/step - loss: 0.0108 - accuracy: 0.9980\n",
      "Epoch 53/100\n",
      "320/320 [==============================] - 2s 5ms/step - loss: 0.0107 - accuracy: 0.9980\n",
      "Epoch 54/100\n",
      "320/320 [==============================] - 2s 5ms/step - loss: 0.0108 - accuracy: 0.9980\n",
      "Epoch 55/100\n",
      "320/320 [==============================] - 2s 5ms/step - loss: 0.0106 - accuracy: 0.9981\n",
      "Epoch 56/100\n",
      "320/320 [==============================] - 1s 5ms/step - loss: 0.0107 - accuracy: 0.9980\n",
      "Epoch 57/100\n",
      "320/320 [==============================] - 2s 5ms/step - loss: 0.0103 - accuracy: 0.9981\n",
      "Epoch 58/100\n",
      "320/320 [==============================] - 2s 5ms/step - loss: 0.0103 - accuracy: 0.9980\n",
      "Epoch 59/100\n",
      "320/320 [==============================] - 2s 5ms/step - loss: 0.0102 - accuracy: 0.9980\n",
      "Epoch 60/100\n",
      "320/320 [==============================] - 2s 5ms/step - loss: 0.0102 - accuracy: 0.9980\n",
      "Epoch 61/100\n",
      "320/320 [==============================] - 2s 5ms/step - loss: 0.0101 - accuracy: 0.9980\n",
      "Epoch 62/100\n",
      "320/320 [==============================] - 2s 5ms/step - loss: 0.0100 - accuracy: 0.9980\n",
      "Epoch 63/100\n",
      "320/320 [==============================] - 1s 5ms/step - loss: 0.0099 - accuracy: 0.9981\n",
      "Epoch 64/100\n",
      "320/320 [==============================] - 2s 5ms/step - loss: 0.0099 - accuracy: 0.9980\n",
      "Epoch 65/100\n",
      "320/320 [==============================] - 2s 5ms/step - loss: 0.0099 - accuracy: 0.9981\n",
      "Epoch 66/100\n",
      "320/320 [==============================] - 2s 5ms/step - loss: 0.0097 - accuracy: 0.9980\n",
      "Epoch 67/100\n",
      "320/320 [==============================] - 1s 4ms/step - loss: 0.0097 - accuracy: 0.9981\n",
      "Epoch 68/100\n",
      "320/320 [==============================] - 2s 5ms/step - loss: 0.0097 - accuracy: 0.9981\n",
      "Epoch 69/100\n",
      "320/320 [==============================] - 1s 5ms/step - loss: 0.0095 - accuracy: 0.9980\n",
      "Epoch 70/100\n",
      "320/320 [==============================] - 2s 5ms/step - loss: 0.0097 - accuracy: 0.9981\n",
      "Epoch 71/100\n",
      "320/320 [==============================] - 1s 4ms/step - loss: 0.0096 - accuracy: 0.9981\n",
      "Epoch 72/100\n",
      "320/320 [==============================] - 1s 5ms/step - loss: 0.0095 - accuracy: 0.9981\n",
      "Epoch 73/100\n",
      "320/320 [==============================] - 1s 5ms/step - loss: 0.0096 - accuracy: 0.9981\n",
      "Epoch 74/100\n",
      "320/320 [==============================] - 2s 5ms/step - loss: 0.0094 - accuracy: 0.9981\n",
      "Epoch 75/100\n",
      "320/320 [==============================] - 1s 4ms/step - loss: 0.0095 - accuracy: 0.9981\n",
      "Epoch 76/100\n",
      "320/320 [==============================] - 2s 5ms/step - loss: 0.0094 - accuracy: 0.9981\n",
      "Epoch 77/100\n",
      "320/320 [==============================] - 1s 5ms/step - loss: 0.0093 - accuracy: 0.9983\n",
      "Epoch 78/100\n",
      "320/320 [==============================] - 1s 5ms/step - loss: 0.0093 - accuracy: 0.9983\n",
      "Epoch 79/100\n",
      "320/320 [==============================] - 1s 5ms/step - loss: 0.0092 - accuracy: 0.9983\n",
      "Epoch 80/100\n",
      "320/320 [==============================] - 2s 5ms/step - loss: 0.0092 - accuracy: 0.9981\n",
      "Epoch 81/100\n",
      "320/320 [==============================] - 1s 4ms/step - loss: 0.0092 - accuracy: 0.9983\n",
      "Epoch 82/100\n",
      "320/320 [==============================] - 1s 4ms/step - loss: 0.0092 - accuracy: 0.9983\n",
      "Epoch 83/100\n",
      "320/320 [==============================] - 1s 4ms/step - loss: 0.0092 - accuracy: 0.9983\n",
      "Epoch 84/100\n",
      "320/320 [==============================] - 2s 5ms/step - loss: 0.0089 - accuracy: 0.9983\n",
      "Epoch 85/100\n",
      "320/320 [==============================] - 1s 5ms/step - loss: 0.0092 - accuracy: 0.9983\n",
      "Epoch 86/100\n",
      "320/320 [==============================] - 1s 4ms/step - loss: 0.0091 - accuracy: 0.9983\n",
      "Epoch 87/100\n",
      "320/320 [==============================] - 1s 5ms/step - loss: 0.0090 - accuracy: 0.9983\n",
      "Epoch 88/100\n",
      "320/320 [==============================] - 1s 4ms/step - loss: 0.0090 - accuracy: 0.9981\n",
      "Epoch 89/100\n",
      "320/320 [==============================] - 1s 5ms/step - loss: 0.0089 - accuracy: 0.9983\n",
      "Epoch 90/100\n",
      "320/320 [==============================] - 1s 4ms/step - loss: 0.0090 - accuracy: 0.9983\n",
      "Epoch 91/100\n",
      "320/320 [==============================] - 2s 5ms/step - loss: 0.0089 - accuracy: 0.9983\n",
      "Epoch 92/100\n",
      "320/320 [==============================] - 1s 5ms/step - loss: 0.0088 - accuracy: 0.9983\n",
      "Epoch 93/100\n",
      "320/320 [==============================] - 1s 4ms/step - loss: 0.0088 - accuracy: 0.9983\n",
      "Epoch 94/100\n",
      "320/320 [==============================] - 2s 5ms/step - loss: 0.0089 - accuracy: 0.9983\n",
      "Epoch 95/100\n",
      "320/320 [==============================] - 1s 4ms/step - loss: 0.0086 - accuracy: 0.9983\n",
      "Epoch 96/100\n",
      "320/320 [==============================] - 2s 5ms/step - loss: 0.0087 - accuracy: 0.9983\n",
      "Epoch 97/100\n",
      "320/320 [==============================] - 1s 5ms/step - loss: 0.0087 - accuracy: 0.9983\n",
      "Epoch 98/100\n",
      "320/320 [==============================] - 2s 5ms/step - loss: 0.0085 - accuracy: 0.9983\n",
      "Epoch 99/100\n",
      "320/320 [==============================] - 1s 5ms/step - loss: 0.0087 - accuracy: 0.9983\n",
      "Epoch 100/100\n",
      "320/320 [==============================] - 1s 5ms/step - loss: 0.0086 - accuracy: 0.9983\n",
      "80/80 [==============================] - 1s 4ms/step\n",
      "WARNING:tensorflow:Detecting that an object or model or tf.train.Checkpoint is being deleted with unrestored values. See the following logs for the specific values in question. To silence these warnings, use `status.expect_partial()`. See https://www.tensorflow.org/api_docs/python/tf/train/Checkpoint#restorefor details about the status object returned by the restore function.\n"
     ]
    },
    {
     "name": "stderr",
     "output_type": "stream",
     "text": [
      "WARNING:tensorflow:Detecting that an object or model or tf.train.Checkpoint is being deleted with unrestored values. See the following logs for the specific values in question. To silence these warnings, use `status.expect_partial()`. See https://www.tensorflow.org/api_docs/python/tf/train/Checkpoint#restorefor details about the status object returned by the restore function.\n"
     ]
    },
    {
     "name": "stdout",
     "output_type": "stream",
     "text": [
      "WARNING:tensorflow:Value in checkpoint could not be found in the restored object: (root).keras_api.metrics.0.total\n"
     ]
    },
    {
     "name": "stderr",
     "output_type": "stream",
     "text": [
      "WARNING:tensorflow:Value in checkpoint could not be found in the restored object: (root).keras_api.metrics.0.total\n"
     ]
    },
    {
     "name": "stdout",
     "output_type": "stream",
     "text": [
      "WARNING:tensorflow:Value in checkpoint could not be found in the restored object: (root).keras_api.metrics.0.count\n"
     ]
    },
    {
     "name": "stderr",
     "output_type": "stream",
     "text": [
      "WARNING:tensorflow:Value in checkpoint could not be found in the restored object: (root).keras_api.metrics.0.count\n"
     ]
    },
    {
     "name": "stdout",
     "output_type": "stream",
     "text": [
      "WARNING:tensorflow:Value in checkpoint could not be found in the restored object: (root).keras_api.metrics.1.total\n"
     ]
    },
    {
     "name": "stderr",
     "output_type": "stream",
     "text": [
      "WARNING:tensorflow:Value in checkpoint could not be found in the restored object: (root).keras_api.metrics.1.total\n"
     ]
    },
    {
     "name": "stdout",
     "output_type": "stream",
     "text": [
      "WARNING:tensorflow:Value in checkpoint could not be found in the restored object: (root).keras_api.metrics.1.count\n"
     ]
    },
    {
     "name": "stderr",
     "output_type": "stream",
     "text": [
      "WARNING:tensorflow:Value in checkpoint could not be found in the restored object: (root).keras_api.metrics.1.count\n"
     ]
    },
    {
     "name": "stdout",
     "output_type": "stream",
     "text": [
      "WARNING:tensorflow:Detecting that an object or model or tf.train.Checkpoint is being deleted with unrestored values. See the following logs for the specific values in question. To silence these warnings, use `status.expect_partial()`. See https://www.tensorflow.org/api_docs/python/tf/train/Checkpoint#restorefor details about the status object returned by the restore function.\n"
     ]
    },
    {
     "name": "stderr",
     "output_type": "stream",
     "text": [
      "WARNING:tensorflow:Detecting that an object or model or tf.train.Checkpoint is being deleted with unrestored values. See the following logs for the specific values in question. To silence these warnings, use `status.expect_partial()`. See https://www.tensorflow.org/api_docs/python/tf/train/Checkpoint#restorefor details about the status object returned by the restore function.\n"
     ]
    },
    {
     "name": "stdout",
     "output_type": "stream",
     "text": [
      "WARNING:tensorflow:Value in checkpoint could not be found in the restored object: (root).keras_api.metrics.0.total\n"
     ]
    },
    {
     "name": "stderr",
     "output_type": "stream",
     "text": [
      "WARNING:tensorflow:Value in checkpoint could not be found in the restored object: (root).keras_api.metrics.0.total\n"
     ]
    },
    {
     "name": "stdout",
     "output_type": "stream",
     "text": [
      "WARNING:tensorflow:Value in checkpoint could not be found in the restored object: (root).keras_api.metrics.0.count\n"
     ]
    },
    {
     "name": "stderr",
     "output_type": "stream",
     "text": [
      "WARNING:tensorflow:Value in checkpoint could not be found in the restored object: (root).keras_api.metrics.0.count\n"
     ]
    },
    {
     "name": "stdout",
     "output_type": "stream",
     "text": [
      "WARNING:tensorflow:Value in checkpoint could not be found in the restored object: (root).keras_api.metrics.1.total\n"
     ]
    },
    {
     "name": "stderr",
     "output_type": "stream",
     "text": [
      "WARNING:tensorflow:Value in checkpoint could not be found in the restored object: (root).keras_api.metrics.1.total\n"
     ]
    },
    {
     "name": "stdout",
     "output_type": "stream",
     "text": [
      "WARNING:tensorflow:Value in checkpoint could not be found in the restored object: (root).keras_api.metrics.1.count\n"
     ]
    },
    {
     "name": "stderr",
     "output_type": "stream",
     "text": [
      "WARNING:tensorflow:Value in checkpoint could not be found in the restored object: (root).keras_api.metrics.1.count\n"
     ]
    },
    {
     "name": "stdout",
     "output_type": "stream",
     "text": [
      "WARNING:tensorflow:Detecting that an object or model or tf.train.Checkpoint is being deleted with unrestored values. See the following logs for the specific values in question. To silence these warnings, use `status.expect_partial()`. See https://www.tensorflow.org/api_docs/python/tf/train/Checkpoint#restorefor details about the status object returned by the restore function.\n"
     ]
    },
    {
     "name": "stderr",
     "output_type": "stream",
     "text": [
      "WARNING:tensorflow:Detecting that an object or model or tf.train.Checkpoint is being deleted with unrestored values. See the following logs for the specific values in question. To silence these warnings, use `status.expect_partial()`. See https://www.tensorflow.org/api_docs/python/tf/train/Checkpoint#restorefor details about the status object returned by the restore function.\n"
     ]
    },
    {
     "name": "stdout",
     "output_type": "stream",
     "text": [
      "WARNING:tensorflow:Value in checkpoint could not be found in the restored object: (root).keras_api.metrics.0.total\n"
     ]
    },
    {
     "name": "stderr",
     "output_type": "stream",
     "text": [
      "WARNING:tensorflow:Value in checkpoint could not be found in the restored object: (root).keras_api.metrics.0.total\n"
     ]
    },
    {
     "name": "stdout",
     "output_type": "stream",
     "text": [
      "WARNING:tensorflow:Value in checkpoint could not be found in the restored object: (root).keras_api.metrics.0.count\n"
     ]
    },
    {
     "name": "stderr",
     "output_type": "stream",
     "text": [
      "WARNING:tensorflow:Value in checkpoint could not be found in the restored object: (root).keras_api.metrics.0.count\n"
     ]
    },
    {
     "name": "stdout",
     "output_type": "stream",
     "text": [
      "WARNING:tensorflow:Value in checkpoint could not be found in the restored object: (root).keras_api.metrics.1.total\n"
     ]
    },
    {
     "name": "stderr",
     "output_type": "stream",
     "text": [
      "WARNING:tensorflow:Value in checkpoint could not be found in the restored object: (root).keras_api.metrics.1.total\n"
     ]
    },
    {
     "name": "stdout",
     "output_type": "stream",
     "text": [
      "WARNING:tensorflow:Value in checkpoint could not be found in the restored object: (root).keras_api.metrics.1.count\n"
     ]
    },
    {
     "name": "stderr",
     "output_type": "stream",
     "text": [
      "WARNING:tensorflow:Value in checkpoint could not be found in the restored object: (root).keras_api.metrics.1.count\n"
     ]
    },
    {
     "name": "stdout",
     "output_type": "stream",
     "text": [
      "WARNING:tensorflow:Detecting that an object or model or tf.train.Checkpoint is being deleted with unrestored values. See the following logs for the specific values in question. To silence these warnings, use `status.expect_partial()`. See https://www.tensorflow.org/api_docs/python/tf/train/Checkpoint#restorefor details about the status object returned by the restore function.\n"
     ]
    },
    {
     "name": "stderr",
     "output_type": "stream",
     "text": [
      "WARNING:tensorflow:Detecting that an object or model or tf.train.Checkpoint is being deleted with unrestored values. See the following logs for the specific values in question. To silence these warnings, use `status.expect_partial()`. See https://www.tensorflow.org/api_docs/python/tf/train/Checkpoint#restorefor details about the status object returned by the restore function.\n"
     ]
    },
    {
     "name": "stdout",
     "output_type": "stream",
     "text": [
      "WARNING:tensorflow:Value in checkpoint could not be found in the restored object: (root).keras_api.metrics.0.total\n"
     ]
    },
    {
     "name": "stderr",
     "output_type": "stream",
     "text": [
      "WARNING:tensorflow:Value in checkpoint could not be found in the restored object: (root).keras_api.metrics.0.total\n"
     ]
    },
    {
     "name": "stdout",
     "output_type": "stream",
     "text": [
      "WARNING:tensorflow:Value in checkpoint could not be found in the restored object: (root).keras_api.metrics.0.count\n"
     ]
    },
    {
     "name": "stderr",
     "output_type": "stream",
     "text": [
      "WARNING:tensorflow:Value in checkpoint could not be found in the restored object: (root).keras_api.metrics.0.count\n"
     ]
    },
    {
     "name": "stdout",
     "output_type": "stream",
     "text": [
      "WARNING:tensorflow:Value in checkpoint could not be found in the restored object: (root).keras_api.metrics.1.total\n"
     ]
    },
    {
     "name": "stderr",
     "output_type": "stream",
     "text": [
      "WARNING:tensorflow:Value in checkpoint could not be found in the restored object: (root).keras_api.metrics.1.total\n"
     ]
    },
    {
     "name": "stdout",
     "output_type": "stream",
     "text": [
      "WARNING:tensorflow:Value in checkpoint could not be found in the restored object: (root).keras_api.metrics.1.count\n"
     ]
    },
    {
     "name": "stderr",
     "output_type": "stream",
     "text": [
      "WARNING:tensorflow:Value in checkpoint could not be found in the restored object: (root).keras_api.metrics.1.count\n"
     ]
    },
    {
     "name": "stdout",
     "output_type": "stream",
     "text": [
      "WARNING:tensorflow:Detecting that an object or model or tf.train.Checkpoint is being deleted with unrestored values. See the following logs for the specific values in question. To silence these warnings, use `status.expect_partial()`. See https://www.tensorflow.org/api_docs/python/tf/train/Checkpoint#restorefor details about the status object returned by the restore function.\n"
     ]
    },
    {
     "name": "stderr",
     "output_type": "stream",
     "text": [
      "WARNING:tensorflow:Detecting that an object or model or tf.train.Checkpoint is being deleted with unrestored values. See the following logs for the specific values in question. To silence these warnings, use `status.expect_partial()`. See https://www.tensorflow.org/api_docs/python/tf/train/Checkpoint#restorefor details about the status object returned by the restore function.\n"
     ]
    },
    {
     "name": "stdout",
     "output_type": "stream",
     "text": [
      "WARNING:tensorflow:Value in checkpoint could not be found in the restored object: (root).keras_api.metrics.0.total\n"
     ]
    },
    {
     "name": "stderr",
     "output_type": "stream",
     "text": [
      "WARNING:tensorflow:Value in checkpoint could not be found in the restored object: (root).keras_api.metrics.0.total\n"
     ]
    },
    {
     "name": "stdout",
     "output_type": "stream",
     "text": [
      "WARNING:tensorflow:Value in checkpoint could not be found in the restored object: (root).keras_api.metrics.0.count\n"
     ]
    },
    {
     "name": "stderr",
     "output_type": "stream",
     "text": [
      "WARNING:tensorflow:Value in checkpoint could not be found in the restored object: (root).keras_api.metrics.0.count\n"
     ]
    },
    {
     "name": "stdout",
     "output_type": "stream",
     "text": [
      "WARNING:tensorflow:Value in checkpoint could not be found in the restored object: (root).keras_api.metrics.1.total\n"
     ]
    },
    {
     "name": "stderr",
     "output_type": "stream",
     "text": [
      "WARNING:tensorflow:Value in checkpoint could not be found in the restored object: (root).keras_api.metrics.1.total\n"
     ]
    },
    {
     "name": "stdout",
     "output_type": "stream",
     "text": [
      "WARNING:tensorflow:Value in checkpoint could not be found in the restored object: (root).keras_api.metrics.1.count\n"
     ]
    },
    {
     "name": "stderr",
     "output_type": "stream",
     "text": [
      "WARNING:tensorflow:Value in checkpoint could not be found in the restored object: (root).keras_api.metrics.1.count\n",
      "WARNING:absl:Found untraced functions such as _update_step_xla while saving (showing 1 of 1). These functions will not be directly callable after loading.\n"
     ]
    },
    {
     "name": "stdout",
     "output_type": "stream",
     "text": [
      "INFO:tensorflow:Assets written to: C:\\Users\\shubh\\AppData\\Local\\Temp\\tmp4krs24b1\\assets\n"
     ]
    },
    {
     "name": "stderr",
     "output_type": "stream",
     "text": [
      "INFO:tensorflow:Assets written to: C:\\Users\\shubh\\AppData\\Local\\Temp\\tmp4krs24b1\\assets\n"
     ]
    },
    {
     "name": "stdout",
     "output_type": "stream",
     "text": [
      "Epoch 1/100\n",
      "320/320 [==============================] - 4s 5ms/step - loss: 0.4764 - accuracy: 0.7947\n",
      "Epoch 2/100\n",
      "320/320 [==============================] - 2s 5ms/step - loss: 0.1806 - accuracy: 0.8295\n",
      "Epoch 3/100\n",
      "320/320 [==============================] - 2s 5ms/step - loss: 0.1324 - accuracy: 0.9975\n",
      "Epoch 4/100\n",
      "320/320 [==============================] - 2s 5ms/step - loss: 0.1111 - accuracy: 0.9987\n",
      "Epoch 5/100\n",
      "320/320 [==============================] - 1s 5ms/step - loss: 0.0937 - accuracy: 0.9987\n",
      "Epoch 6/100\n",
      "320/320 [==============================] - 2s 5ms/step - loss: 0.0792 - accuracy: 0.9987\n",
      "Epoch 7/100\n",
      "320/320 [==============================] - 2s 5ms/step - loss: 0.0673 - accuracy: 0.9987\n",
      "Epoch 8/100\n",
      "320/320 [==============================] - 2s 5ms/step - loss: 0.0574 - accuracy: 0.9987\n",
      "Epoch 9/100\n",
      "320/320 [==============================] - 2s 6ms/step - loss: 0.0492 - accuracy: 0.9987\n",
      "Epoch 10/100\n",
      "320/320 [==============================] - 1s 5ms/step - loss: 0.0423 - accuracy: 0.9987\n",
      "Epoch 11/100\n",
      "320/320 [==============================] - 2s 5ms/step - loss: 0.0368 - accuracy: 0.9987\n",
      "Epoch 12/100\n",
      "320/320 [==============================] - 1s 5ms/step - loss: 0.0320 - accuracy: 0.9987\n",
      "Epoch 13/100\n",
      "320/320 [==============================] - 1s 5ms/step - loss: 0.0281 - accuracy: 0.9987\n",
      "Epoch 14/100\n",
      "320/320 [==============================] - 1s 5ms/step - loss: 0.0247 - accuracy: 0.9987\n",
      "Epoch 15/100\n",
      "320/320 [==============================] - 1s 5ms/step - loss: 0.0220 - accuracy: 0.9987\n",
      "Epoch 16/100\n",
      "320/320 [==============================] - 2s 5ms/step - loss: 0.0196 - accuracy: 0.9987\n",
      "Epoch 17/100\n",
      "320/320 [==============================] - 2s 5ms/step - loss: 0.0175 - accuracy: 0.9989\n",
      "Epoch 18/100\n",
      "320/320 [==============================] - 2s 5ms/step - loss: 0.0160 - accuracy: 0.9987\n",
      "Epoch 19/100\n",
      "320/320 [==============================] - 2s 5ms/step - loss: 0.0145 - accuracy: 0.9987\n",
      "Epoch 20/100\n",
      "320/320 [==============================] - 1s 5ms/step - loss: 0.0133 - accuracy: 0.9989\n",
      "Epoch 21/100\n",
      "320/320 [==============================] - 2s 5ms/step - loss: 0.0123 - accuracy: 0.9987\n",
      "Epoch 22/100\n",
      "320/320 [==============================] - 1s 5ms/step - loss: 0.0114 - accuracy: 0.9989\n",
      "Epoch 23/100\n",
      "320/320 [==============================] - 2s 5ms/step - loss: 0.0107 - accuracy: 0.9989\n",
      "Epoch 24/100\n",
      "320/320 [==============================] - 1s 5ms/step - loss: 0.0100 - accuracy: 0.9989\n",
      "Epoch 25/100\n",
      "320/320 [==============================] - 2s 5ms/step - loss: 0.0095 - accuracy: 0.9989\n",
      "Epoch 26/100\n",
      "320/320 [==============================] - 1s 5ms/step - loss: 0.0091 - accuracy: 0.9989\n",
      "Epoch 27/100\n",
      "320/320 [==============================] - 1s 5ms/step - loss: 0.0087 - accuracy: 0.9989\n",
      "Epoch 28/100\n",
      "320/320 [==============================] - 2s 5ms/step - loss: 0.0084 - accuracy: 0.9989\n",
      "Epoch 29/100\n",
      "320/320 [==============================] - 1s 5ms/step - loss: 0.0081 - accuracy: 0.9989\n",
      "Epoch 30/100\n",
      "320/320 [==============================] - 2s 5ms/step - loss: 0.0080 - accuracy: 0.9989\n",
      "Epoch 31/100\n",
      "320/320 [==============================] - 2s 5ms/step - loss: 0.0078 - accuracy: 0.9989\n",
      "Epoch 32/100\n",
      "320/320 [==============================] - 2s 5ms/step - loss: 0.0076 - accuracy: 0.9989\n",
      "Epoch 33/100\n",
      "320/320 [==============================] - 2s 5ms/step - loss: 0.0075 - accuracy: 0.9989\n",
      "Epoch 34/100\n",
      "320/320 [==============================] - 1s 5ms/step - loss: 0.0074 - accuracy: 0.9989\n",
      "Epoch 35/100\n",
      "320/320 [==============================] - 2s 5ms/step - loss: 0.0073 - accuracy: 0.9989\n",
      "Epoch 36/100\n",
      "320/320 [==============================] - 2s 5ms/step - loss: 0.0072 - accuracy: 0.9989\n",
      "Epoch 37/100\n",
      "320/320 [==============================] - 2s 5ms/step - loss: 0.0072 - accuracy: 0.9989\n",
      "Epoch 38/100\n",
      "320/320 [==============================] - 2s 5ms/step - loss: 0.0071 - accuracy: 0.9989\n",
      "Epoch 39/100\n",
      "320/320 [==============================] - 2s 5ms/step - loss: 0.0071 - accuracy: 0.9989\n",
      "Epoch 40/100\n",
      "320/320 [==============================] - 2s 5ms/step - loss: 0.0071 - accuracy: 0.9989\n",
      "Epoch 41/100\n",
      "320/320 [==============================] - 2s 6ms/step - loss: 0.0070 - accuracy: 0.9989\n",
      "Epoch 42/100\n",
      "320/320 [==============================] - 2s 5ms/step - loss: 0.0070 - accuracy: 0.9989\n",
      "Epoch 43/100\n",
      "320/320 [==============================] - 1s 5ms/step - loss: 0.0070 - accuracy: 0.9989\n",
      "Epoch 44/100\n",
      "320/320 [==============================] - 2s 5ms/step - loss: 0.0070 - accuracy: 0.9989\n",
      "Epoch 45/100\n",
      "320/320 [==============================] - 2s 5ms/step - loss: 0.0069 - accuracy: 0.9989\n",
      "Epoch 46/100\n",
      "320/320 [==============================] - 2s 5ms/step - loss: 0.0069 - accuracy: 0.9989\n",
      "Epoch 47/100\n",
      "320/320 [==============================] - 2s 5ms/step - loss: 0.0069 - accuracy: 0.9989\n",
      "Epoch 48/100\n",
      "320/320 [==============================] - 2s 5ms/step - loss: 0.0069 - accuracy: 0.9989\n",
      "Epoch 49/100\n",
      "320/320 [==============================] - 1s 5ms/step - loss: 0.0069 - accuracy: 0.9989\n",
      "Epoch 50/100\n",
      "320/320 [==============================] - 2s 5ms/step - loss: 0.0069 - accuracy: 0.9989\n",
      "Epoch 51/100\n",
      "320/320 [==============================] - 1s 5ms/step - loss: 0.0069 - accuracy: 0.9989\n",
      "Epoch 52/100\n",
      "320/320 [==============================] - 2s 5ms/step - loss: 0.0069 - accuracy: 0.9989\n",
      "Epoch 53/100\n",
      "320/320 [==============================] - 1s 5ms/step - loss: 0.0069 - accuracy: 0.9989\n",
      "Epoch 54/100\n",
      "320/320 [==============================] - 1s 5ms/step - loss: 0.0069 - accuracy: 0.9989\n",
      "Epoch 55/100\n",
      "320/320 [==============================] - 1s 5ms/step - loss: 0.0069 - accuracy: 0.9989\n",
      "Epoch 56/100\n",
      "320/320 [==============================] - 2s 5ms/step - loss: 0.0069 - accuracy: 0.9989\n",
      "Epoch 57/100\n",
      "320/320 [==============================] - 1s 5ms/step - loss: 0.0069 - accuracy: 0.9989\n",
      "Epoch 58/100\n",
      "320/320 [==============================] - 2s 5ms/step - loss: 0.0068 - accuracy: 0.9989\n",
      "Epoch 59/100\n",
      "320/320 [==============================] - 1s 5ms/step - loss: 0.0068 - accuracy: 0.9989\n",
      "Epoch 60/100\n",
      "320/320 [==============================] - 2s 5ms/step - loss: 0.0068 - accuracy: 0.9989\n",
      "Epoch 61/100\n",
      "320/320 [==============================] - 2s 5ms/step - loss: 0.0068 - accuracy: 0.9989\n",
      "Epoch 62/100\n",
      "320/320 [==============================] - 1s 5ms/step - loss: 0.0068 - accuracy: 0.9989\n",
      "Epoch 63/100\n",
      "320/320 [==============================] - 2s 5ms/step - loss: 0.0068 - accuracy: 0.9989\n",
      "Epoch 64/100\n",
      "320/320 [==============================] - 2s 5ms/step - loss: 0.0068 - accuracy: 0.9989\n",
      "Epoch 65/100\n",
      "320/320 [==============================] - 2s 5ms/step - loss: 0.0068 - accuracy: 0.9989\n",
      "Epoch 66/100\n",
      "320/320 [==============================] - 2s 5ms/step - loss: 0.0068 - accuracy: 0.9989\n",
      "Epoch 67/100\n",
      "320/320 [==============================] - 1s 5ms/step - loss: 0.0068 - accuracy: 0.9989\n",
      "Epoch 68/100\n",
      "320/320 [==============================] - 2s 5ms/step - loss: 0.0068 - accuracy: 0.9989\n",
      "Epoch 69/100\n",
      "320/320 [==============================] - 2s 5ms/step - loss: 0.0068 - accuracy: 0.9989\n",
      "Epoch 70/100\n",
      "320/320 [==============================] - 2s 5ms/step - loss: 0.0069 - accuracy: 0.9989\n",
      "Epoch 71/100\n",
      "320/320 [==============================] - 2s 5ms/step - loss: 0.0068 - accuracy: 0.9989\n",
      "Epoch 72/100\n",
      "320/320 [==============================] - 1s 5ms/step - loss: 0.0068 - accuracy: 0.9989\n",
      "Epoch 73/100\n",
      "320/320 [==============================] - 2s 5ms/step - loss: 0.0068 - accuracy: 0.9989\n",
      "Epoch 74/100\n",
      "320/320 [==============================] - 2s 5ms/step - loss: 0.0068 - accuracy: 0.9989\n",
      "Epoch 75/100\n",
      "320/320 [==============================] - 2s 5ms/step - loss: 0.0068 - accuracy: 0.9989\n",
      "Epoch 76/100\n",
      "320/320 [==============================] - 1s 5ms/step - loss: 0.0068 - accuracy: 0.9989\n",
      "Epoch 77/100\n",
      "320/320 [==============================] - 2s 5ms/step - loss: 0.0068 - accuracy: 0.9989\n",
      "Epoch 78/100\n",
      "320/320 [==============================] - 1s 5ms/step - loss: 0.0068 - accuracy: 0.9989\n",
      "Epoch 79/100\n",
      "320/320 [==============================] - 2s 5ms/step - loss: 0.0068 - accuracy: 0.9989\n",
      "Epoch 80/100\n",
      "320/320 [==============================] - 1s 5ms/step - loss: 0.0068 - accuracy: 0.9989\n",
      "Epoch 81/100\n",
      "320/320 [==============================] - 2s 5ms/step - loss: 0.0068 - accuracy: 0.9989\n",
      "Epoch 82/100\n",
      "320/320 [==============================] - 2s 5ms/step - loss: 0.0068 - accuracy: 0.9989\n",
      "Epoch 83/100\n",
      "320/320 [==============================] - 1s 5ms/step - loss: 0.0068 - accuracy: 0.9989\n",
      "Epoch 84/100\n",
      "320/320 [==============================] - 1s 5ms/step - loss: 0.0068 - accuracy: 0.9989\n",
      "Epoch 85/100\n",
      "320/320 [==============================] - 2s 5ms/step - loss: 0.0068 - accuracy: 0.9989\n",
      "Epoch 86/100\n",
      "320/320 [==============================] - 1s 5ms/step - loss: 0.0068 - accuracy: 0.9989\n",
      "Epoch 87/100\n",
      "320/320 [==============================] - 1s 5ms/step - loss: 0.0068 - accuracy: 0.9989\n",
      "Epoch 88/100\n",
      "320/320 [==============================] - 2s 5ms/step - loss: 0.0068 - accuracy: 0.9989\n",
      "Epoch 89/100\n",
      "320/320 [==============================] - 2s 5ms/step - loss: 0.0068 - accuracy: 0.9989\n",
      "Epoch 90/100\n",
      "320/320 [==============================] - 1s 5ms/step - loss: 0.0068 - accuracy: 0.9989\n",
      "Epoch 91/100\n",
      "320/320 [==============================] - 2s 5ms/step - loss: 0.0068 - accuracy: 0.9989\n",
      "Epoch 92/100\n",
      "320/320 [==============================] - 1s 5ms/step - loss: 0.0068 - accuracy: 0.9989\n",
      "Epoch 93/100\n",
      "320/320 [==============================] - 2s 6ms/step - loss: 0.0068 - accuracy: 0.9989\n",
      "Epoch 94/100\n",
      "320/320 [==============================] - 1s 5ms/step - loss: 0.0068 - accuracy: 0.9989\n",
      "Epoch 95/100\n",
      "320/320 [==============================] - 1s 5ms/step - loss: 0.0068 - accuracy: 0.9989\n",
      "Epoch 96/100\n",
      "320/320 [==============================] - 1s 5ms/step - loss: 0.0068 - accuracy: 0.9989\n",
      "Epoch 97/100\n",
      "320/320 [==============================] - 1s 5ms/step - loss: 0.0068 - accuracy: 0.9989\n",
      "Epoch 98/100\n",
      "320/320 [==============================] - 2s 5ms/step - loss: 0.0068 - accuracy: 0.9989\n",
      "Epoch 99/100\n",
      "320/320 [==============================] - 2s 6ms/step - loss: 0.0075 - accuracy: 0.9987\n",
      "Epoch 100/100\n",
      "320/320 [==============================] - 1s 5ms/step - loss: 0.0068 - accuracy: 0.9989\n",
      "80/80 [==============================] - 1s 4ms/step\n"
     ]
    },
    {
     "name": "stderr",
     "output_type": "stream",
     "text": [
      "WARNING:absl:Found untraced functions such as _update_step_xla while saving (showing 1 of 1). These functions will not be directly callable after loading.\n"
     ]
    },
    {
     "name": "stdout",
     "output_type": "stream",
     "text": [
      "INFO:tensorflow:Assets written to: C:\\Users\\shubh\\AppData\\Local\\Temp\\tmpf8o7sp_k\\assets\n"
     ]
    },
    {
     "name": "stderr",
     "output_type": "stream",
     "text": [
      "INFO:tensorflow:Assets written to: C:\\Users\\shubh\\AppData\\Local\\Temp\\tmpf8o7sp_k\\assets\n"
     ]
    },
    {
     "name": "stdout",
     "output_type": "stream",
     "text": [
      "Epoch 1/100\n",
      "320/320 [==============================] - 3s 5ms/step - loss: 0.4789 - accuracy: 0.7958\n",
      "Epoch 2/100\n",
      "320/320 [==============================] - 1s 5ms/step - loss: 0.1802 - accuracy: 0.8297\n",
      "Epoch 3/100\n",
      "320/320 [==============================] - 2s 5ms/step - loss: 0.1342 - accuracy: 0.9978\n",
      "Epoch 4/100\n",
      "320/320 [==============================] - 2s 5ms/step - loss: 0.1133 - accuracy: 0.9984\n",
      "Epoch 5/100\n",
      "320/320 [==============================] - 2s 5ms/step - loss: 0.0959 - accuracy: 0.9984\n",
      "Epoch 6/100\n",
      "320/320 [==============================] - 1s 4ms/step - loss: 0.0816 - accuracy: 0.9984\n",
      "Epoch 7/100\n",
      "320/320 [==============================] - 2s 5ms/step - loss: 0.0697 - accuracy: 0.9984\n",
      "Epoch 8/100\n",
      "320/320 [==============================] - 1s 5ms/step - loss: 0.0598 - accuracy: 0.9984\n",
      "Epoch 9/100\n",
      "320/320 [==============================] - 2s 5ms/step - loss: 0.0517 - accuracy: 0.9984\n",
      "Epoch 10/100\n",
      "320/320 [==============================] - 1s 5ms/step - loss: 0.0449 - accuracy: 0.9984\n",
      "Epoch 11/100\n",
      "320/320 [==============================] - 1s 5ms/step - loss: 0.0392 - accuracy: 0.9984\n",
      "Epoch 12/100\n",
      "320/320 [==============================] - 1s 5ms/step - loss: 0.0346 - accuracy: 0.9984\n",
      "Epoch 13/100\n",
      "320/320 [==============================] - 2s 5ms/step - loss: 0.0307 - accuracy: 0.9984\n",
      "Epoch 14/100\n",
      "320/320 [==============================] - 1s 5ms/step - loss: 0.0274 - accuracy: 0.9984\n",
      "Epoch 15/100\n",
      "320/320 [==============================] - 1s 5ms/step - loss: 0.0246 - accuracy: 0.9984\n",
      "Epoch 16/100\n",
      "320/320 [==============================] - 2s 5ms/step - loss: 0.0221 - accuracy: 0.9984\n",
      "Epoch 17/100\n",
      "320/320 [==============================] - 2s 5ms/step - loss: 0.0203 - accuracy: 0.9984\n",
      "Epoch 18/100\n",
      "320/320 [==============================] - 1s 4ms/step - loss: 0.0186 - accuracy: 0.9984\n",
      "Epoch 19/100\n",
      "320/320 [==============================] - 2s 5ms/step - loss: 0.0172 - accuracy: 0.9984\n",
      "Epoch 20/100\n",
      "320/320 [==============================] - 2s 5ms/step - loss: 0.0160 - accuracy: 0.9984\n",
      "Epoch 21/100\n",
      "320/320 [==============================] - 2s 5ms/step - loss: 0.0149 - accuracy: 0.9984\n",
      "Epoch 22/100\n",
      "320/320 [==============================] - 2s 5ms/step - loss: 0.0141 - accuracy: 0.9984\n",
      "Epoch 23/100\n",
      "320/320 [==============================] - 1s 5ms/step - loss: 0.0134 - accuracy: 0.9984\n",
      "Epoch 24/100\n",
      "320/320 [==============================] - 2s 5ms/step - loss: 0.0126 - accuracy: 0.9984\n",
      "Epoch 25/100\n",
      "320/320 [==============================] - 1s 5ms/step - loss: 0.0123 - accuracy: 0.9984\n",
      "Epoch 26/100\n",
      "320/320 [==============================] - 2s 5ms/step - loss: 0.0118 - accuracy: 0.9984\n",
      "Epoch 27/100\n",
      "320/320 [==============================] - 1s 5ms/step - loss: 0.0114 - accuracy: 0.9984\n",
      "Epoch 28/100\n",
      "320/320 [==============================] - 1s 5ms/step - loss: 0.0112 - accuracy: 0.9984\n",
      "Epoch 29/100\n",
      "320/320 [==============================] - 1s 5ms/step - loss: 0.0107 - accuracy: 0.9984\n",
      "Epoch 30/100\n",
      "320/320 [==============================] - 2s 5ms/step - loss: 0.0107 - accuracy: 0.9984\n",
      "Epoch 31/100\n",
      "320/320 [==============================] - 2s 6ms/step - loss: 0.0104 - accuracy: 0.9984\n",
      "Epoch 32/100\n",
      "320/320 [==============================] - 1s 5ms/step - loss: 0.0104 - accuracy: 0.9984\n",
      "Epoch 33/100\n",
      "320/320 [==============================] - 2s 5ms/step - loss: 0.0102 - accuracy: 0.9983\n",
      "Epoch 34/100\n",
      "320/320 [==============================] - 1s 5ms/step - loss: 0.0102 - accuracy: 0.9984\n",
      "Epoch 35/100\n",
      "320/320 [==============================] - 2s 5ms/step - loss: 0.0100 - accuracy: 0.9984\n",
      "Epoch 36/100\n",
      "320/320 [==============================] - 1s 5ms/step - loss: 0.0100 - accuracy: 0.9984\n",
      "Epoch 37/100\n",
      "320/320 [==============================] - 2s 5ms/step - loss: 0.0100 - accuracy: 0.9984\n",
      "Epoch 38/100\n",
      "320/320 [==============================] - 2s 5ms/step - loss: 0.0099 - accuracy: 0.9984\n",
      "Epoch 39/100\n",
      "320/320 [==============================] - 2s 5ms/step - loss: 0.0098 - accuracy: 0.9984\n",
      "Epoch 40/100\n",
      "320/320 [==============================] - 2s 5ms/step - loss: 0.0097 - accuracy: 0.9984\n",
      "Epoch 41/100\n",
      "320/320 [==============================] - 2s 5ms/step - loss: 0.0097 - accuracy: 0.9984\n",
      "Epoch 42/100\n",
      "320/320 [==============================] - 2s 5ms/step - loss: 0.0096 - accuracy: 0.9984\n",
      "Epoch 43/100\n",
      "320/320 [==============================] - 2s 5ms/step - loss: 0.0096 - accuracy: 0.9984\n",
      "Epoch 44/100\n",
      "320/320 [==============================] - 2s 5ms/step - loss: 0.0097 - accuracy: 0.9984\n",
      "Epoch 45/100\n",
      "320/320 [==============================] - 2s 5ms/step - loss: 0.0095 - accuracy: 0.9984\n",
      "Epoch 46/100\n",
      "320/320 [==============================] - 2s 5ms/step - loss: 0.0096 - accuracy: 0.9984\n",
      "Epoch 47/100\n",
      "320/320 [==============================] - 2s 5ms/step - loss: 0.0096 - accuracy: 0.9984\n",
      "Epoch 48/100\n",
      "320/320 [==============================] - 2s 5ms/step - loss: 0.0096 - accuracy: 0.9984\n",
      "Epoch 49/100\n",
      "320/320 [==============================] - 2s 5ms/step - loss: 0.0092 - accuracy: 0.9984\n",
      "Epoch 50/100\n",
      "320/320 [==============================] - 2s 5ms/step - loss: 0.0096 - accuracy: 0.9984\n",
      "Epoch 51/100\n",
      "320/320 [==============================] - 2s 5ms/step - loss: 0.0096 - accuracy: 0.9984\n",
      "Epoch 52/100\n",
      "320/320 [==============================] - 2s 5ms/step - loss: 0.0094 - accuracy: 0.9984\n",
      "Epoch 53/100\n",
      "320/320 [==============================] - 2s 5ms/step - loss: 0.0094 - accuracy: 0.9984\n",
      "Epoch 54/100\n",
      "320/320 [==============================] - 2s 5ms/step - loss: 0.0095 - accuracy: 0.9984\n",
      "Epoch 55/100\n",
      "320/320 [==============================] - 1s 5ms/step - loss: 0.0092 - accuracy: 0.9983\n",
      "Epoch 56/100\n",
      "320/320 [==============================] - 2s 5ms/step - loss: 0.0095 - accuracy: 0.9984\n",
      "Epoch 57/100\n",
      "320/320 [==============================] - 1s 5ms/step - loss: 0.0093 - accuracy: 0.9984\n",
      "Epoch 58/100\n",
      "320/320 [==============================] - 2s 5ms/step - loss: 0.0095 - accuracy: 0.9984\n",
      "Epoch 59/100\n",
      "320/320 [==============================] - 1s 4ms/step - loss: 0.0095 - accuracy: 0.9984\n",
      "Epoch 60/100\n",
      "320/320 [==============================] - 2s 5ms/step - loss: 0.0094 - accuracy: 0.9984\n",
      "Epoch 61/100\n",
      "320/320 [==============================] - 2s 5ms/step - loss: 0.0093 - accuracy: 0.9984\n",
      "Epoch 62/100\n",
      "320/320 [==============================] - 1s 5ms/step - loss: 0.0094 - accuracy: 0.9984\n",
      "Epoch 63/100\n",
      "320/320 [==============================] - 2s 5ms/step - loss: 0.0093 - accuracy: 0.9984\n",
      "Epoch 64/100\n",
      "320/320 [==============================] - 1s 5ms/step - loss: 0.0093 - accuracy: 0.9984\n",
      "Epoch 65/100\n",
      "320/320 [==============================] - 2s 6ms/step - loss: 0.0093 - accuracy: 0.9984\n",
      "Epoch 66/100\n",
      "320/320 [==============================] - 1s 5ms/step - loss: 0.0093 - accuracy: 0.9984\n",
      "Epoch 67/100\n",
      "320/320 [==============================] - 1s 5ms/step - loss: 0.0093 - accuracy: 0.9984\n",
      "Epoch 68/100\n",
      "320/320 [==============================] - 2s 5ms/step - loss: 0.0094 - accuracy: 0.9984\n",
      "Epoch 69/100\n",
      "320/320 [==============================] - 1s 5ms/step - loss: 0.0093 - accuracy: 0.9984\n",
      "Epoch 70/100\n",
      "320/320 [==============================] - 2s 5ms/step - loss: 0.0093 - accuracy: 0.9984\n",
      "Epoch 71/100\n",
      "320/320 [==============================] - 1s 5ms/step - loss: 0.0093 - accuracy: 0.9984\n",
      "Epoch 72/100\n",
      "320/320 [==============================] - 2s 5ms/step - loss: 0.0092 - accuracy: 0.9984\n",
      "Epoch 73/100\n",
      "320/320 [==============================] - 1s 5ms/step - loss: 0.0093 - accuracy: 0.9984\n",
      "Epoch 74/100\n",
      "320/320 [==============================] - 1s 5ms/step - loss: 0.0093 - accuracy: 0.9984\n",
      "Epoch 75/100\n",
      "320/320 [==============================] - 1s 4ms/step - loss: 0.0093 - accuracy: 0.9984\n",
      "Epoch 76/100\n",
      "320/320 [==============================] - 1s 4ms/step - loss: 0.0093 - accuracy: 0.9984\n",
      "Epoch 77/100\n",
      "320/320 [==============================] - 1s 5ms/step - loss: 0.0092 - accuracy: 0.9984\n",
      "Epoch 78/100\n",
      "320/320 [==============================] - 2s 5ms/step - loss: 0.0093 - accuracy: 0.9984\n",
      "Epoch 79/100\n",
      "320/320 [==============================] - 2s 5ms/step - loss: 0.0092 - accuracy: 0.9984\n",
      "Epoch 80/100\n",
      "320/320 [==============================] - 2s 5ms/step - loss: 0.0093 - accuracy: 0.9984\n",
      "Epoch 81/100\n",
      "320/320 [==============================] - 1s 5ms/step - loss: 0.0091 - accuracy: 0.9984\n",
      "Epoch 82/100\n",
      "320/320 [==============================] - 2s 5ms/step - loss: 0.0092 - accuracy: 0.9983\n",
      "Epoch 83/100\n",
      "320/320 [==============================] - 1s 5ms/step - loss: 0.0092 - accuracy: 0.9984\n",
      "Epoch 84/100\n",
      "320/320 [==============================] - 1s 4ms/step - loss: 0.0091 - accuracy: 0.9984\n",
      "Epoch 85/100\n",
      "320/320 [==============================] - 2s 5ms/step - loss: 0.0092 - accuracy: 0.9984\n",
      "Epoch 86/100\n",
      "320/320 [==============================] - 1s 4ms/step - loss: 0.0092 - accuracy: 0.9984\n",
      "Epoch 87/100\n",
      "320/320 [==============================] - 2s 5ms/step - loss: 0.0090 - accuracy: 0.9984\n",
      "Epoch 88/100\n",
      "320/320 [==============================] - 1s 5ms/step - loss: 0.0091 - accuracy: 0.9984\n",
      "Epoch 89/100\n",
      "320/320 [==============================] - 1s 5ms/step - loss: 0.0090 - accuracy: 0.9984\n",
      "Epoch 90/100\n",
      "320/320 [==============================] - 2s 5ms/step - loss: 0.0092 - accuracy: 0.9984\n",
      "Epoch 91/100\n",
      "320/320 [==============================] - 1s 5ms/step - loss: 0.0091 - accuracy: 0.9984\n",
      "Epoch 92/100\n",
      "320/320 [==============================] - 1s 5ms/step - loss: 0.0090 - accuracy: 0.9984\n",
      "Epoch 93/100\n",
      "320/320 [==============================] - 2s 5ms/step - loss: 0.0092 - accuracy: 0.9984\n",
      "Epoch 94/100\n",
      "320/320 [==============================] - 1s 5ms/step - loss: 0.0091 - accuracy: 0.9984\n",
      "Epoch 95/100\n",
      "320/320 [==============================] - 1s 5ms/step - loss: 0.0091 - accuracy: 0.9984\n",
      "Epoch 96/100\n",
      "320/320 [==============================] - 1s 5ms/step - loss: 0.0091 - accuracy: 0.9986\n",
      "Epoch 97/100\n",
      "320/320 [==============================] - 2s 6ms/step - loss: 0.0091 - accuracy: 0.9984\n",
      "Epoch 98/100\n",
      "320/320 [==============================] - 1s 5ms/step - loss: 0.0090 - accuracy: 0.9984\n",
      "Epoch 99/100\n",
      "320/320 [==============================] - 2s 5ms/step - loss: 0.0091 - accuracy: 0.9984\n",
      "Epoch 100/100\n",
      "320/320 [==============================] - 2s 5ms/step - loss: 0.0090 - accuracy: 0.9984\n",
      "80/80 [==============================] - 1s 3ms/step\n"
     ]
    },
    {
     "name": "stderr",
     "output_type": "stream",
     "text": [
      "WARNING:absl:Found untraced functions such as _update_step_xla while saving (showing 1 of 1). These functions will not be directly callable after loading.\n"
     ]
    },
    {
     "name": "stdout",
     "output_type": "stream",
     "text": [
      "INFO:tensorflow:Assets written to: C:\\Users\\shubh\\AppData\\Local\\Temp\\tmpnqry5l6d\\assets\n"
     ]
    },
    {
     "name": "stderr",
     "output_type": "stream",
     "text": [
      "INFO:tensorflow:Assets written to: C:\\Users\\shubh\\AppData\\Local\\Temp\\tmpnqry5l6d\\assets\n"
     ]
    },
    {
     "name": "stdout",
     "output_type": "stream",
     "text": [
      "Epoch 1/100\n",
      "320/320 [==============================] - 3s 5ms/step - loss: 0.4814 - accuracy: 0.7947\n",
      "Epoch 2/100\n",
      "320/320 [==============================] - 2s 5ms/step - loss: 0.1800 - accuracy: 0.8288\n",
      "Epoch 3/100\n",
      "320/320 [==============================] - 2s 5ms/step - loss: 0.1345 - accuracy: 0.9975\n",
      "Epoch 4/100\n",
      "320/320 [==============================] - 2s 5ms/step - loss: 0.1139 - accuracy: 0.9983\n",
      "Epoch 5/100\n",
      "320/320 [==============================] - 2s 5ms/step - loss: 0.0969 - accuracy: 0.9983\n",
      "Epoch 6/100\n",
      "320/320 [==============================] - 2s 5ms/step - loss: 0.0826 - accuracy: 0.9983\n",
      "Epoch 7/100\n",
      "320/320 [==============================] - 1s 5ms/step - loss: 0.0706 - accuracy: 0.9983\n",
      "Epoch 8/100\n",
      "320/320 [==============================] - 1s 5ms/step - loss: 0.0606 - accuracy: 0.9983\n",
      "Epoch 9/100\n",
      "320/320 [==============================] - 2s 5ms/step - loss: 0.0525 - accuracy: 0.9983\n",
      "Epoch 10/100\n",
      "320/320 [==============================] - 2s 5ms/step - loss: 0.0457 - accuracy: 0.9983\n",
      "Epoch 11/100\n",
      "320/320 [==============================] - 2s 5ms/step - loss: 0.0400 - accuracy: 0.9983\n",
      "Epoch 12/100\n",
      "320/320 [==============================] - 2s 5ms/step - loss: 0.0353 - accuracy: 0.9983\n",
      "Epoch 13/100\n",
      "320/320 [==============================] - 2s 5ms/step - loss: 0.0313 - accuracy: 0.9983\n",
      "Epoch 14/100\n",
      "320/320 [==============================] - 1s 5ms/step - loss: 0.0280 - accuracy: 0.9983\n",
      "Epoch 15/100\n",
      "320/320 [==============================] - 1s 5ms/step - loss: 0.0252 - accuracy: 0.9983\n",
      "Epoch 16/100\n",
      "320/320 [==============================] - 2s 5ms/step - loss: 0.0229 - accuracy: 0.9983\n",
      "Epoch 17/100\n",
      "320/320 [==============================] - 2s 5ms/step - loss: 0.0209 - accuracy: 0.9983\n",
      "Epoch 18/100\n",
      "320/320 [==============================] - 2s 5ms/step - loss: 0.0191 - accuracy: 0.9983\n",
      "Epoch 19/100\n",
      "320/320 [==============================] - 2s 6ms/step - loss: 0.0177 - accuracy: 0.9983\n",
      "Epoch 20/100\n",
      "320/320 [==============================] - 1s 5ms/step - loss: 0.0167 - accuracy: 0.9983\n",
      "Epoch 21/100\n",
      "320/320 [==============================] - 2s 5ms/step - loss: 0.0155 - accuracy: 0.9983\n",
      "Epoch 22/100\n",
      "320/320 [==============================] - 2s 5ms/step - loss: 0.0147 - accuracy: 0.9983\n",
      "Epoch 23/100\n",
      "320/320 [==============================] - 2s 5ms/step - loss: 0.0140 - accuracy: 0.9983\n",
      "Epoch 24/100\n",
      "320/320 [==============================] - 2s 5ms/step - loss: 0.0135 - accuracy: 0.9983\n",
      "Epoch 25/100\n",
      "320/320 [==============================] - 2s 5ms/step - loss: 0.0129 - accuracy: 0.9983\n",
      "Epoch 26/100\n",
      "320/320 [==============================] - 1s 5ms/step - loss: 0.0125 - accuracy: 0.9983\n",
      "Epoch 27/100\n",
      "320/320 [==============================] - 2s 5ms/step - loss: 0.0121 - accuracy: 0.9983\n",
      "Epoch 28/100\n",
      "320/320 [==============================] - 2s 5ms/step - loss: 0.0119 - accuracy: 0.9983\n",
      "Epoch 29/100\n",
      "320/320 [==============================] - 2s 5ms/step - loss: 0.0115 - accuracy: 0.9983\n",
      "Epoch 30/100\n",
      "320/320 [==============================] - 2s 5ms/step - loss: 0.0114 - accuracy: 0.9983\n",
      "Epoch 31/100\n",
      "320/320 [==============================] - 2s 5ms/step - loss: 0.0110 - accuracy: 0.9983\n",
      "Epoch 32/100\n",
      "320/320 [==============================] - 2s 5ms/step - loss: 0.0110 - accuracy: 0.9983\n",
      "Epoch 33/100\n",
      "320/320 [==============================] - 2s 5ms/step - loss: 0.0109 - accuracy: 0.9983\n",
      "Epoch 34/100\n",
      "320/320 [==============================] - 2s 5ms/step - loss: 0.0108 - accuracy: 0.9983\n",
      "Epoch 35/100\n",
      "320/320 [==============================] - 2s 5ms/step - loss: 0.0107 - accuracy: 0.9983\n",
      "Epoch 36/100\n",
      "320/320 [==============================] - 2s 5ms/step - loss: 0.0106 - accuracy: 0.9983\n",
      "Epoch 37/100\n",
      "320/320 [==============================] - 2s 5ms/step - loss: 0.0105 - accuracy: 0.9983\n",
      "Epoch 38/100\n",
      "320/320 [==============================] - 2s 5ms/step - loss: 0.0104 - accuracy: 0.9983\n",
      "Epoch 39/100\n",
      "320/320 [==============================] - 2s 5ms/step - loss: 0.0104 - accuracy: 0.9983\n",
      "Epoch 40/100\n",
      "320/320 [==============================] - 2s 5ms/step - loss: 0.0104 - accuracy: 0.9983\n",
      "Epoch 41/100\n",
      "320/320 [==============================] - 2s 5ms/step - loss: 0.0103 - accuracy: 0.9983\n",
      "Epoch 42/100\n",
      "320/320 [==============================] - 2s 5ms/step - loss: 0.0102 - accuracy: 0.9983\n",
      "Epoch 43/100\n",
      "320/320 [==============================] - 2s 5ms/step - loss: 0.0102 - accuracy: 0.9983\n",
      "Epoch 44/100\n",
      "320/320 [==============================] - 2s 5ms/step - loss: 0.0102 - accuracy: 0.9983\n",
      "Epoch 45/100\n",
      "320/320 [==============================] - 2s 5ms/step - loss: 0.0101 - accuracy: 0.9983\n",
      "Epoch 46/100\n",
      "320/320 [==============================] - 2s 5ms/step - loss: 0.0101 - accuracy: 0.9983\n",
      "Epoch 47/100\n",
      "320/320 [==============================] - 1s 5ms/step - loss: 0.0102 - accuracy: 0.9983\n",
      "Epoch 48/100\n",
      "320/320 [==============================] - 2s 5ms/step - loss: 0.0100 - accuracy: 0.9983\n",
      "Epoch 49/100\n",
      "320/320 [==============================] - 2s 5ms/step - loss: 0.0101 - accuracy: 0.9983\n",
      "Epoch 50/100\n",
      "320/320 [==============================] - 2s 5ms/step - loss: 0.0100 - accuracy: 0.9983\n",
      "Epoch 51/100\n",
      "320/320 [==============================] - 2s 5ms/step - loss: 0.0099 - accuracy: 0.9983\n",
      "Epoch 52/100\n",
      "320/320 [==============================] - 1s 5ms/step - loss: 0.0099 - accuracy: 0.9983\n",
      "Epoch 53/100\n",
      "320/320 [==============================] - 1s 5ms/step - loss: 0.0099 - accuracy: 0.9984\n",
      "Epoch 54/100\n",
      "320/320 [==============================] - 2s 5ms/step - loss: 0.0100 - accuracy: 0.9983\n",
      "Epoch 55/100\n",
      "320/320 [==============================] - 1s 5ms/step - loss: 0.0098 - accuracy: 0.9983\n",
      "Epoch 56/100\n",
      "320/320 [==============================] - 1s 5ms/step - loss: 0.0098 - accuracy: 0.9983\n",
      "Epoch 57/100\n",
      "320/320 [==============================] - 2s 5ms/step - loss: 0.0098 - accuracy: 0.9983\n",
      "Epoch 58/100\n",
      "320/320 [==============================] - 2s 5ms/step - loss: 0.0098 - accuracy: 0.9983\n",
      "Epoch 59/100\n",
      "320/320 [==============================] - 2s 5ms/step - loss: 0.0098 - accuracy: 0.9983\n",
      "Epoch 60/100\n",
      "320/320 [==============================] - 2s 6ms/step - loss: 0.0098 - accuracy: 0.9983\n",
      "Epoch 61/100\n",
      "320/320 [==============================] - 2s 5ms/step - loss: 0.0097 - accuracy: 0.9983\n",
      "Epoch 62/100\n",
      "320/320 [==============================] - 2s 5ms/step - loss: 0.0096 - accuracy: 0.9983\n",
      "Epoch 63/100\n",
      "320/320 [==============================] - 2s 5ms/step - loss: 0.0097 - accuracy: 0.9983\n",
      "Epoch 64/100\n",
      "320/320 [==============================] - 2s 5ms/step - loss: 0.0097 - accuracy: 0.9983\n",
      "Epoch 65/100\n",
      "320/320 [==============================] - 2s 5ms/step - loss: 0.0095 - accuracy: 0.9983\n",
      "Epoch 66/100\n",
      "320/320 [==============================] - 2s 5ms/step - loss: 0.0096 - accuracy: 0.9983\n",
      "Epoch 67/100\n",
      "320/320 [==============================] - 1s 5ms/step - loss: 0.0096 - accuracy: 0.9984\n",
      "Epoch 68/100\n",
      "320/320 [==============================] - 1s 5ms/step - loss: 0.0096 - accuracy: 0.9983\n",
      "Epoch 69/100\n",
      "320/320 [==============================] - 2s 5ms/step - loss: 0.0094 - accuracy: 0.9983\n",
      "Epoch 70/100\n",
      "320/320 [==============================] - 1s 5ms/step - loss: 0.0095 - accuracy: 0.9984\n",
      "Epoch 71/100\n",
      "320/320 [==============================] - 2s 5ms/step - loss: 0.0093 - accuracy: 0.9984\n",
      "Epoch 72/100\n",
      "320/320 [==============================] - 1s 5ms/step - loss: 0.0096 - accuracy: 0.9983\n",
      "Epoch 73/100\n",
      "320/320 [==============================] - 2s 5ms/step - loss: 0.0094 - accuracy: 0.9983\n",
      "Epoch 74/100\n",
      "320/320 [==============================] - 1s 5ms/step - loss: 0.0095 - accuracy: 0.9983\n",
      "Epoch 75/100\n",
      "320/320 [==============================] - 2s 5ms/step - loss: 0.0094 - accuracy: 0.9984\n",
      "Epoch 76/100\n",
      "320/320 [==============================] - 2s 5ms/step - loss: 0.0093 - accuracy: 0.9983\n",
      "Epoch 77/100\n",
      "320/320 [==============================] - 2s 5ms/step - loss: 0.0095 - accuracy: 0.9983\n",
      "Epoch 78/100\n",
      "320/320 [==============================] - 2s 5ms/step - loss: 0.0091 - accuracy: 0.9984\n",
      "Epoch 79/100\n",
      "320/320 [==============================] - 2s 5ms/step - loss: 0.0095 - accuracy: 0.9984\n",
      "Epoch 80/100\n",
      "320/320 [==============================] - 2s 5ms/step - loss: 0.0093 - accuracy: 0.9983\n",
      "Epoch 81/100\n",
      "320/320 [==============================] - 2s 5ms/step - loss: 0.0093 - accuracy: 0.9984\n",
      "Epoch 82/100\n",
      "320/320 [==============================] - 2s 5ms/step - loss: 0.0092 - accuracy: 0.9984\n",
      "Epoch 83/100\n",
      "320/320 [==============================] - 1s 5ms/step - loss: 0.0094 - accuracy: 0.9983\n",
      "Epoch 84/100\n",
      "320/320 [==============================] - 1s 5ms/step - loss: 0.0093 - accuracy: 0.9984\n",
      "Epoch 85/100\n",
      "320/320 [==============================] - 2s 5ms/step - loss: 0.0091 - accuracy: 0.9984\n",
      "Epoch 86/100\n",
      "320/320 [==============================] - 2s 5ms/step - loss: 0.0093 - accuracy: 0.9983\n",
      "Epoch 87/100\n",
      "320/320 [==============================] - 2s 5ms/step - loss: 0.0091 - accuracy: 0.9984\n",
      "Epoch 88/100\n",
      "320/320 [==============================] - 1s 5ms/step - loss: 0.0092 - accuracy: 0.9984\n",
      "Epoch 89/100\n",
      "320/320 [==============================] - 2s 5ms/step - loss: 0.0091 - accuracy: 0.9984\n",
      "Epoch 90/100\n",
      "320/320 [==============================] - 2s 5ms/step - loss: 0.0091 - accuracy: 0.9983\n",
      "Epoch 91/100\n",
      "320/320 [==============================] - 2s 5ms/step - loss: 0.0092 - accuracy: 0.9984\n",
      "Epoch 92/100\n",
      "320/320 [==============================] - 2s 5ms/step - loss: 0.0091 - accuracy: 0.9984\n",
      "Epoch 93/100\n",
      "320/320 [==============================] - 2s 5ms/step - loss: 0.0091 - accuracy: 0.9984\n",
      "Epoch 94/100\n",
      "320/320 [==============================] - 1s 5ms/step - loss: 0.0090 - accuracy: 0.9984\n",
      "Epoch 95/100\n",
      "320/320 [==============================] - 1s 5ms/step - loss: 0.0091 - accuracy: 0.9984\n",
      "Epoch 96/100\n",
      "320/320 [==============================] - 1s 5ms/step - loss: 0.0089 - accuracy: 0.9984\n",
      "Epoch 97/100\n",
      "320/320 [==============================] - 2s 5ms/step - loss: 0.0091 - accuracy: 0.9984\n",
      "Epoch 98/100\n",
      "320/320 [==============================] - 2s 5ms/step - loss: 0.0089 - accuracy: 0.9984\n",
      "Epoch 99/100\n",
      "320/320 [==============================] - 1s 5ms/step - loss: 0.0090 - accuracy: 0.9984\n",
      "Epoch 100/100\n",
      "320/320 [==============================] - 2s 5ms/step - loss: 0.0090 - accuracy: 0.9983\n",
      "80/80 [==============================] - 1s 3ms/step\n"
     ]
    },
    {
     "name": "stderr",
     "output_type": "stream",
     "text": [
      "WARNING:absl:Found untraced functions such as _update_step_xla while saving (showing 1 of 1). These functions will not be directly callable after loading.\n"
     ]
    },
    {
     "name": "stdout",
     "output_type": "stream",
     "text": [
      "INFO:tensorflow:Assets written to: C:\\Users\\shubh\\AppData\\Local\\Temp\\tmp42m3mbry\\assets\n"
     ]
    },
    {
     "name": "stderr",
     "output_type": "stream",
     "text": [
      "INFO:tensorflow:Assets written to: C:\\Users\\shubh\\AppData\\Local\\Temp\\tmp42m3mbry\\assets\n"
     ]
    },
    {
     "name": "stdout",
     "output_type": "stream",
     "text": [
      "Epoch 1/100\n",
      "320/320 [==============================] - 3s 5ms/step - loss: 0.4801 - accuracy: 0.7952\n",
      "Epoch 2/100\n",
      "320/320 [==============================] - 1s 4ms/step - loss: 0.1787 - accuracy: 0.8322\n",
      "Epoch 3/100\n",
      "320/320 [==============================] - 1s 5ms/step - loss: 0.1334 - accuracy: 0.9977\n",
      "Epoch 4/100\n",
      "320/320 [==============================] - 1s 4ms/step - loss: 0.1126 - accuracy: 0.9984\n",
      "Epoch 5/100\n",
      "320/320 [==============================] - 2s 5ms/step - loss: 0.0954 - accuracy: 0.9984\n",
      "Epoch 6/100\n",
      "320/320 [==============================] - 1s 5ms/step - loss: 0.0811 - accuracy: 0.9984\n",
      "Epoch 7/100\n",
      "320/320 [==============================] - 2s 5ms/step - loss: 0.0693 - accuracy: 0.9984\n",
      "Epoch 8/100\n",
      "320/320 [==============================] - 1s 5ms/step - loss: 0.0595 - accuracy: 0.9984\n",
      "Epoch 9/100\n",
      "320/320 [==============================] - 1s 5ms/step - loss: 0.0513 - accuracy: 0.9984\n",
      "Epoch 10/100\n",
      "320/320 [==============================] - 2s 5ms/step - loss: 0.0446 - accuracy: 0.9984\n",
      "Epoch 11/100\n",
      "320/320 [==============================] - 1s 4ms/step - loss: 0.0389 - accuracy: 0.9984\n",
      "Epoch 12/100\n",
      "320/320 [==============================] - 2s 5ms/step - loss: 0.0343 - accuracy: 0.9984\n",
      "Epoch 13/100\n",
      "320/320 [==============================] - 2s 5ms/step - loss: 0.0303 - accuracy: 0.9984\n",
      "Epoch 14/100\n",
      "320/320 [==============================] - 1s 5ms/step - loss: 0.0270 - accuracy: 0.9984\n",
      "Epoch 15/100\n",
      "320/320 [==============================] - 1s 5ms/step - loss: 0.0243 - accuracy: 0.9984\n",
      "Epoch 16/100\n",
      "320/320 [==============================] - 2s 5ms/step - loss: 0.0218 - accuracy: 0.9984\n",
      "Epoch 17/100\n",
      "320/320 [==============================] - 2s 5ms/step - loss: 0.0200 - accuracy: 0.9984\n",
      "Epoch 18/100\n",
      "320/320 [==============================] - 1s 4ms/step - loss: 0.0183 - accuracy: 0.9984\n",
      "Epoch 19/100\n",
      "320/320 [==============================] - 2s 5ms/step - loss: 0.0168 - accuracy: 0.9984\n",
      "Epoch 20/100\n",
      "320/320 [==============================] - 2s 5ms/step - loss: 0.0156 - accuracy: 0.9984\n",
      "Epoch 21/100\n",
      "320/320 [==============================] - 2s 5ms/step - loss: 0.0147 - accuracy: 0.9984\n",
      "Epoch 22/100\n",
      "320/320 [==============================] - 1s 4ms/step - loss: 0.0138 - accuracy: 0.9984\n",
      "Epoch 23/100\n",
      "320/320 [==============================] - 2s 5ms/step - loss: 0.0131 - accuracy: 0.9984\n",
      "Epoch 24/100\n",
      "320/320 [==============================] - 1s 5ms/step - loss: 0.0125 - accuracy: 0.9984\n",
      "Epoch 25/100\n",
      "320/320 [==============================] - 1s 5ms/step - loss: 0.0119 - accuracy: 0.9984\n",
      "Epoch 26/100\n",
      "320/320 [==============================] - 2s 5ms/step - loss: 0.0115 - accuracy: 0.9984\n",
      "Epoch 27/100\n",
      "320/320 [==============================] - 2s 5ms/step - loss: 0.0111 - accuracy: 0.9984\n",
      "Epoch 28/100\n",
      "320/320 [==============================] - 2s 5ms/step - loss: 0.0108 - accuracy: 0.9984\n",
      "Epoch 29/100\n",
      "320/320 [==============================] - 2s 5ms/step - loss: 0.0105 - accuracy: 0.9984\n",
      "Epoch 30/100\n",
      "320/320 [==============================] - 2s 5ms/step - loss: 0.0102 - accuracy: 0.9984\n",
      "Epoch 31/100\n",
      "320/320 [==============================] - 2s 6ms/step - loss: 0.0100 - accuracy: 0.9984\n",
      "Epoch 32/100\n",
      "320/320 [==============================] - 1s 5ms/step - loss: 0.0097 - accuracy: 0.9984\n",
      "Epoch 33/100\n",
      "320/320 [==============================] - 1s 5ms/step - loss: 0.0098 - accuracy: 0.9984\n",
      "Epoch 34/100\n",
      "320/320 [==============================] - 1s 5ms/step - loss: 0.0096 - accuracy: 0.9984\n",
      "Epoch 35/100\n",
      "320/320 [==============================] - 1s 4ms/step - loss: 0.0095 - accuracy: 0.9984\n",
      "Epoch 36/100\n",
      "320/320 [==============================] - 1s 5ms/step - loss: 0.0094 - accuracy: 0.9984\n",
      "Epoch 37/100\n",
      "320/320 [==============================] - 1s 5ms/step - loss: 0.0093 - accuracy: 0.9984\n",
      "Epoch 38/100\n",
      "320/320 [==============================] - 2s 5ms/step - loss: 0.0092 - accuracy: 0.9984\n",
      "Epoch 39/100\n",
      "320/320 [==============================] - 2s 5ms/step - loss: 0.0091 - accuracy: 0.9984\n",
      "Epoch 40/100\n",
      "320/320 [==============================] - 1s 5ms/step - loss: 0.0091 - accuracy: 0.9984\n",
      "Epoch 41/100\n",
      "320/320 [==============================] - 2s 5ms/step - loss: 0.0091 - accuracy: 0.9984\n",
      "Epoch 42/100\n",
      "320/320 [==============================] - 1s 5ms/step - loss: 0.0090 - accuracy: 0.9984\n",
      "Epoch 43/100\n",
      "320/320 [==============================] - 2s 5ms/step - loss: 0.0089 - accuracy: 0.9984\n",
      "Epoch 44/100\n",
      "320/320 [==============================] - 2s 5ms/step - loss: 0.0089 - accuracy: 0.9984\n",
      "Epoch 45/100\n",
      "320/320 [==============================] - 2s 5ms/step - loss: 0.0089 - accuracy: 0.9984\n",
      "Epoch 46/100\n",
      "320/320 [==============================] - 2s 5ms/step - loss: 0.0089 - accuracy: 0.9984\n",
      "Epoch 47/100\n",
      "320/320 [==============================] - 2s 5ms/step - loss: 0.0088 - accuracy: 0.9984\n",
      "Epoch 48/100\n",
      "320/320 [==============================] - 2s 5ms/step - loss: 0.0088 - accuracy: 0.9984\n",
      "Epoch 49/100\n",
      "320/320 [==============================] - 2s 5ms/step - loss: 0.0088 - accuracy: 0.9984\n",
      "Epoch 50/100\n",
      "320/320 [==============================] - 2s 5ms/step - loss: 0.0088 - accuracy: 0.9984\n",
      "Epoch 51/100\n",
      "320/320 [==============================] - 1s 5ms/step - loss: 0.0086 - accuracy: 0.9984\n",
      "Epoch 52/100\n",
      "320/320 [==============================] - 2s 5ms/step - loss: 0.0088 - accuracy: 0.9984\n",
      "Epoch 53/100\n",
      "320/320 [==============================] - 2s 5ms/step - loss: 0.0087 - accuracy: 0.9984\n",
      "Epoch 54/100\n",
      "320/320 [==============================] - 2s 5ms/step - loss: 0.0087 - accuracy: 0.9984\n",
      "Epoch 55/100\n",
      "320/320 [==============================] - 2s 5ms/step - loss: 0.0087 - accuracy: 0.9984\n",
      "Epoch 56/100\n",
      "320/320 [==============================] - 2s 5ms/step - loss: 0.0087 - accuracy: 0.9984\n",
      "Epoch 57/100\n",
      "320/320 [==============================] - 2s 5ms/step - loss: 0.0086 - accuracy: 0.9984\n",
      "Epoch 58/100\n",
      "320/320 [==============================] - 2s 5ms/step - loss: 0.0086 - accuracy: 0.9984\n",
      "Epoch 59/100\n",
      "320/320 [==============================] - 2s 5ms/step - loss: 0.0086 - accuracy: 0.9984\n",
      "Epoch 60/100\n",
      "320/320 [==============================] - 1s 5ms/step - loss: 0.0086 - accuracy: 0.9984\n",
      "Epoch 61/100\n",
      "320/320 [==============================] - 2s 5ms/step - loss: 0.0085 - accuracy: 0.9984\n",
      "Epoch 62/100\n",
      "320/320 [==============================] - 2s 6ms/step - loss: 0.0085 - accuracy: 0.9984\n",
      "Epoch 63/100\n",
      "320/320 [==============================] - 1s 5ms/step - loss: 0.0086 - accuracy: 0.9984\n",
      "Epoch 64/100\n",
      "320/320 [==============================] - 1s 5ms/step - loss: 0.0085 - accuracy: 0.9984\n",
      "Epoch 65/100\n",
      "320/320 [==============================] - 2s 5ms/step - loss: 0.0084 - accuracy: 0.9984\n",
      "Epoch 66/100\n",
      "320/320 [==============================] - 2s 5ms/step - loss: 0.0085 - accuracy: 0.9984\n",
      "Epoch 67/100\n",
      "320/320 [==============================] - 2s 5ms/step - loss: 0.0085 - accuracy: 0.9984\n",
      "Epoch 68/100\n",
      "320/320 [==============================] - 1s 5ms/step - loss: 0.0085 - accuracy: 0.9984\n",
      "Epoch 69/100\n",
      "320/320 [==============================] - 2s 5ms/step - loss: 0.0084 - accuracy: 0.9984\n",
      "Epoch 70/100\n",
      "320/320 [==============================] - 1s 4ms/step - loss: 0.0085 - accuracy: 0.9984\n",
      "Epoch 71/100\n",
      "320/320 [==============================] - 2s 5ms/step - loss: 0.0083 - accuracy: 0.9986\n",
      "Epoch 72/100\n",
      "320/320 [==============================] - 2s 5ms/step - loss: 0.0082 - accuracy: 0.9984\n",
      "Epoch 73/100\n",
      "320/320 [==============================] - 2s 5ms/step - loss: 0.0084 - accuracy: 0.9984\n",
      "Epoch 74/100\n",
      "320/320 [==============================] - 1s 5ms/step - loss: 0.0084 - accuracy: 0.9984\n",
      "Epoch 75/100\n",
      "320/320 [==============================] - 2s 5ms/step - loss: 0.0084 - accuracy: 0.9986\n",
      "Epoch 76/100\n",
      "320/320 [==============================] - 1s 5ms/step - loss: 0.0084 - accuracy: 0.9984\n",
      "Epoch 77/100\n",
      "320/320 [==============================] - 2s 5ms/step - loss: 0.0081 - accuracy: 0.9984\n",
      "Epoch 78/100\n",
      "320/320 [==============================] - 2s 5ms/step - loss: 0.0085 - accuracy: 0.9984\n",
      "Epoch 79/100\n",
      "320/320 [==============================] - 1s 5ms/step - loss: 0.0083 - accuracy: 0.9986\n",
      "Epoch 80/100\n",
      "320/320 [==============================] - 2s 5ms/step - loss: 0.0083 - accuracy: 0.9984\n",
      "Epoch 81/100\n",
      "320/320 [==============================] - 2s 5ms/step - loss: 0.0083 - accuracy: 0.9984\n",
      "Epoch 82/100\n",
      "320/320 [==============================] - 2s 5ms/step - loss: 0.0083 - accuracy: 0.9986\n",
      "Epoch 83/100\n",
      "320/320 [==============================] - 2s 5ms/step - loss: 0.0083 - accuracy: 0.9984\n",
      "Epoch 84/100\n",
      "320/320 [==============================] - 2s 5ms/step - loss: 0.0083 - accuracy: 0.9986\n",
      "Epoch 85/100\n",
      "320/320 [==============================] - 1s 5ms/step - loss: 0.0083 - accuracy: 0.9986\n",
      "Epoch 86/100\n",
      "320/320 [==============================] - 1s 5ms/step - loss: 0.0083 - accuracy: 0.9986\n",
      "Epoch 87/100\n",
      "320/320 [==============================] - 2s 5ms/step - loss: 0.0082 - accuracy: 0.9984\n",
      "Epoch 88/100\n",
      "320/320 [==============================] - 2s 5ms/step - loss: 0.0081 - accuracy: 0.9986\n",
      "Epoch 89/100\n",
      "320/320 [==============================] - 1s 5ms/step - loss: 0.0082 - accuracy: 0.9984\n",
      "Epoch 90/100\n",
      "320/320 [==============================] - 1s 4ms/step - loss: 0.0082 - accuracy: 0.9984\n",
      "Epoch 91/100\n",
      "320/320 [==============================] - 2s 5ms/step - loss: 0.0082 - accuracy: 0.9986\n",
      "Epoch 92/100\n",
      "320/320 [==============================] - 2s 6ms/step - loss: 0.0082 - accuracy: 0.9986\n",
      "Epoch 93/100\n",
      "320/320 [==============================] - 2s 5ms/step - loss: 0.0081 - accuracy: 0.9986\n",
      "Epoch 94/100\n",
      "320/320 [==============================] - 2s 5ms/step - loss: 0.0082 - accuracy: 0.9984\n",
      "Epoch 95/100\n",
      "320/320 [==============================] - 1s 5ms/step - loss: 0.0080 - accuracy: 0.9984\n",
      "Epoch 96/100\n",
      "320/320 [==============================] - 1s 5ms/step - loss: 0.0082 - accuracy: 0.9986\n",
      "Epoch 97/100\n",
      "320/320 [==============================] - 2s 5ms/step - loss: 0.0081 - accuracy: 0.9986\n",
      "Epoch 98/100\n",
      "320/320 [==============================] - 1s 5ms/step - loss: 0.0080 - accuracy: 0.9986\n",
      "Epoch 99/100\n",
      "320/320 [==============================] - 2s 5ms/step - loss: 0.0081 - accuracy: 0.9986\n",
      "Epoch 100/100\n",
      "320/320 [==============================] - 2s 5ms/step - loss: 0.0080 - accuracy: 0.9986\n",
      "80/80 [==============================] - 1s 4ms/step\n"
     ]
    },
    {
     "name": "stderr",
     "output_type": "stream",
     "text": [
      "WARNING:absl:Found untraced functions such as _update_step_xla while saving (showing 1 of 1). These functions will not be directly callable after loading.\n"
     ]
    },
    {
     "name": "stdout",
     "output_type": "stream",
     "text": [
      "INFO:tensorflow:Assets written to: C:\\Users\\shubh\\AppData\\Local\\Temp\\tmp1m7keoy4\\assets\n"
     ]
    },
    {
     "name": "stderr",
     "output_type": "stream",
     "text": [
      "INFO:tensorflow:Assets written to: C:\\Users\\shubh\\AppData\\Local\\Temp\\tmp1m7keoy4\\assets\n"
     ]
    },
    {
     "name": "stdout",
     "output_type": "stream",
     "text": [
      "Epoch 1/100\n",
      "320/320 [==============================] - 4s 6ms/step - loss: 0.4786 - accuracy: 0.7953\n",
      "Epoch 2/100\n",
      "320/320 [==============================] - 2s 5ms/step - loss: 0.1817 - accuracy: 0.8261\n",
      "Epoch 3/100\n",
      "320/320 [==============================] - 1s 4ms/step - loss: 0.1349 - accuracy: 0.9973\n",
      "Epoch 4/100\n",
      "320/320 [==============================] - 1s 4ms/step - loss: 0.1141 - accuracy: 0.9980\n",
      "Epoch 5/100\n",
      "320/320 [==============================] - 1s 5ms/step - loss: 0.0969 - accuracy: 0.9980\n",
      "Epoch 6/100\n",
      "320/320 [==============================] - 1s 5ms/step - loss: 0.0826 - accuracy: 0.9980\n",
      "Epoch 7/100\n",
      "320/320 [==============================] - 2s 5ms/step - loss: 0.0707 - accuracy: 0.9980\n",
      "Epoch 8/100\n",
      "320/320 [==============================] - 1s 4ms/step - loss: 0.0608 - accuracy: 0.9980\n",
      "Epoch 9/100\n",
      "320/320 [==============================] - 1s 5ms/step - loss: 0.0527 - accuracy: 0.9980\n",
      "Epoch 10/100\n",
      "320/320 [==============================] - 2s 5ms/step - loss: 0.0460 - accuracy: 0.9980\n",
      "Epoch 11/100\n",
      "320/320 [==============================] - 1s 4ms/step - loss: 0.0404 - accuracy: 0.9980\n",
      "Epoch 12/100\n",
      "320/320 [==============================] - 2s 5ms/step - loss: 0.0358 - accuracy: 0.9980\n",
      "Epoch 13/100\n",
      "320/320 [==============================] - 1s 4ms/step - loss: 0.0319 - accuracy: 0.9980\n",
      "Epoch 14/100\n",
      "320/320 [==============================] - 1s 5ms/step - loss: 0.0286 - accuracy: 0.9980\n",
      "Epoch 15/100\n",
      "320/320 [==============================] - 1s 5ms/step - loss: 0.0259 - accuracy: 0.9980\n",
      "Epoch 16/100\n",
      "320/320 [==============================] - 2s 5ms/step - loss: 0.0237 - accuracy: 0.9980\n",
      "Epoch 17/100\n",
      "320/320 [==============================] - 1s 5ms/step - loss: 0.0218 - accuracy: 0.9980\n",
      "Epoch 18/100\n",
      "320/320 [==============================] - 2s 5ms/step - loss: 0.0201 - accuracy: 0.9980\n",
      "Epoch 19/100\n",
      "320/320 [==============================] - 1s 5ms/step - loss: 0.0188 - accuracy: 0.9980\n",
      "Epoch 20/100\n",
      "320/320 [==============================] - 1s 5ms/step - loss: 0.0176 - accuracy: 0.9980\n",
      "Epoch 21/100\n",
      "320/320 [==============================] - 1s 4ms/step - loss: 0.0168 - accuracy: 0.9980\n",
      "Epoch 22/100\n",
      "320/320 [==============================] - 2s 5ms/step - loss: 0.0159 - accuracy: 0.9980\n",
      "Epoch 23/100\n",
      "320/320 [==============================] - 1s 4ms/step - loss: 0.0152 - accuracy: 0.9980\n",
      "Epoch 24/100\n",
      "320/320 [==============================] - 2s 5ms/step - loss: 0.0145 - accuracy: 0.9980\n",
      "Epoch 25/100\n",
      "320/320 [==============================] - 1s 5ms/step - loss: 0.0142 - accuracy: 0.9980\n",
      "Epoch 26/100\n",
      "320/320 [==============================] - 2s 5ms/step - loss: 0.0138 - accuracy: 0.9980\n",
      "Epoch 27/100\n",
      "320/320 [==============================] - 2s 5ms/step - loss: 0.0135 - accuracy: 0.9980\n",
      "Epoch 28/100\n",
      "320/320 [==============================] - 2s 5ms/step - loss: 0.0132 - accuracy: 0.9980\n",
      "Epoch 29/100\n",
      "320/320 [==============================] - 1s 5ms/step - loss: 0.0130 - accuracy: 0.9980\n",
      "Epoch 30/100\n",
      "320/320 [==============================] - 2s 5ms/step - loss: 0.0128 - accuracy: 0.9980\n",
      "Epoch 31/100\n",
      "320/320 [==============================] - 1s 4ms/step - loss: 0.0127 - accuracy: 0.9978\n",
      "Epoch 32/100\n",
      "320/320 [==============================] - 2s 5ms/step - loss: 0.0126 - accuracy: 0.9980\n",
      "Epoch 33/100\n",
      "320/320 [==============================] - 2s 5ms/step - loss: 0.0124 - accuracy: 0.9980\n",
      "Epoch 34/100\n",
      "320/320 [==============================] - 1s 5ms/step - loss: 0.0124 - accuracy: 0.9980\n",
      "Epoch 35/100\n",
      "320/320 [==============================] - 2s 5ms/step - loss: 0.0121 - accuracy: 0.9980\n",
      "Epoch 36/100\n",
      "320/320 [==============================] - 2s 5ms/step - loss: 0.0123 - accuracy: 0.9980\n",
      "Epoch 37/100\n",
      "320/320 [==============================] - 1s 5ms/step - loss: 0.0121 - accuracy: 0.9980\n",
      "Epoch 38/100\n",
      "320/320 [==============================] - 2s 6ms/step - loss: 0.0120 - accuracy: 0.9980\n",
      "Epoch 39/100\n",
      "320/320 [==============================] - 1s 5ms/step - loss: 0.0120 - accuracy: 0.9980\n",
      "Epoch 40/100\n",
      "320/320 [==============================] - 1s 5ms/step - loss: 0.0121 - accuracy: 0.9980\n",
      "Epoch 41/100\n",
      "320/320 [==============================] - 1s 5ms/step - loss: 0.0118 - accuracy: 0.9980\n",
      "Epoch 42/100\n",
      "320/320 [==============================] - 2s 5ms/step - loss: 0.0120 - accuracy: 0.9980\n",
      "Epoch 43/100\n",
      "320/320 [==============================] - 1s 5ms/step - loss: 0.0118 - accuracy: 0.9980\n",
      "Epoch 44/100\n",
      "320/320 [==============================] - 1s 5ms/step - loss: 0.0119 - accuracy: 0.9980\n",
      "Epoch 45/100\n",
      "320/320 [==============================] - 2s 5ms/step - loss: 0.0118 - accuracy: 0.9980\n",
      "Epoch 46/100\n",
      "320/320 [==============================] - 1s 5ms/step - loss: 0.0117 - accuracy: 0.9980\n",
      "Epoch 47/100\n",
      "320/320 [==============================] - 1s 5ms/step - loss: 0.0117 - accuracy: 0.9980\n",
      "Epoch 48/100\n",
      "320/320 [==============================] - 2s 5ms/step - loss: 0.0116 - accuracy: 0.9980\n",
      "Epoch 49/100\n",
      "320/320 [==============================] - 2s 5ms/step - loss: 0.0117 - accuracy: 0.9980\n",
      "Epoch 50/100\n",
      "320/320 [==============================] - 1s 5ms/step - loss: 0.0116 - accuracy: 0.9980\n",
      "Epoch 51/100\n",
      "320/320 [==============================] - 2s 5ms/step - loss: 0.0117 - accuracy: 0.9980\n",
      "Epoch 52/100\n",
      "320/320 [==============================] - 2s 5ms/step - loss: 0.0116 - accuracy: 0.9980\n",
      "Epoch 53/100\n",
      "320/320 [==============================] - 2s 5ms/step - loss: 0.0115 - accuracy: 0.9980\n",
      "Epoch 54/100\n",
      "320/320 [==============================] - 1s 5ms/step - loss: 0.0116 - accuracy: 0.9980\n",
      "Epoch 55/100\n",
      "320/320 [==============================] - 2s 5ms/step - loss: 0.0115 - accuracy: 0.9980\n",
      "Epoch 56/100\n",
      "320/320 [==============================] - 1s 5ms/step - loss: 0.0115 - accuracy: 0.9980\n",
      "Epoch 57/100\n",
      "320/320 [==============================] - 2s 5ms/step - loss: 0.0115 - accuracy: 0.9980\n",
      "Epoch 58/100\n",
      "320/320 [==============================] - 2s 5ms/step - loss: 0.0115 - accuracy: 0.9980\n",
      "Epoch 59/100\n",
      "320/320 [==============================] - 2s 5ms/step - loss: 0.0113 - accuracy: 0.9980\n",
      "Epoch 60/100\n",
      "320/320 [==============================] - 2s 5ms/step - loss: 0.0115 - accuracy: 0.9980\n",
      "Epoch 61/100\n",
      "320/320 [==============================] - 2s 5ms/step - loss: 0.0114 - accuracy: 0.9980\n",
      "Epoch 62/100\n",
      "320/320 [==============================] - 1s 5ms/step - loss: 0.0113 - accuracy: 0.9980\n",
      "Epoch 63/100\n",
      "320/320 [==============================] - 1s 5ms/step - loss: 0.0115 - accuracy: 0.9980\n",
      "Epoch 64/100\n",
      "320/320 [==============================] - 1s 5ms/step - loss: 0.0113 - accuracy: 0.9980\n",
      "Epoch 65/100\n",
      "320/320 [==============================] - 2s 5ms/step - loss: 0.0115 - accuracy: 0.9980\n",
      "Epoch 66/100\n",
      "320/320 [==============================] - 2s 5ms/step - loss: 0.0113 - accuracy: 0.9980\n",
      "Epoch 67/100\n",
      "320/320 [==============================] - 2s 5ms/step - loss: 0.0112 - accuracy: 0.9980\n",
      "Epoch 68/100\n",
      "320/320 [==============================] - 2s 5ms/step - loss: 0.0113 - accuracy: 0.9980\n",
      "Epoch 69/100\n",
      "320/320 [==============================] - 2s 5ms/step - loss: 0.0112 - accuracy: 0.9980\n",
      "Epoch 70/100\n",
      "320/320 [==============================] - 1s 5ms/step - loss: 0.0114 - accuracy: 0.9980\n",
      "Epoch 71/100\n",
      "320/320 [==============================] - 2s 5ms/step - loss: 0.0112 - accuracy: 0.9980\n",
      "Epoch 72/100\n",
      "320/320 [==============================] - 2s 5ms/step - loss: 0.0111 - accuracy: 0.9980\n",
      "Epoch 73/100\n",
      "320/320 [==============================] - 2s 5ms/step - loss: 0.0112 - accuracy: 0.9980\n",
      "Epoch 74/100\n",
      "320/320 [==============================] - 1s 5ms/step - loss: 0.0113 - accuracy: 0.9980\n",
      "Epoch 75/100\n",
      "320/320 [==============================] - 2s 5ms/step - loss: 0.0113 - accuracy: 0.9980\n",
      "Epoch 76/100\n",
      "320/320 [==============================] - 2s 5ms/step - loss: 0.0112 - accuracy: 0.9980\n",
      "Epoch 77/100\n",
      "320/320 [==============================] - 1s 5ms/step - loss: 0.0112 - accuracy: 0.9980\n",
      "Epoch 78/100\n",
      "320/320 [==============================] - 2s 5ms/step - loss: 0.0112 - accuracy: 0.9980\n",
      "Epoch 79/100\n",
      "320/320 [==============================] - 1s 5ms/step - loss: 0.0112 - accuracy: 0.9980\n",
      "Epoch 80/100\n",
      "320/320 [==============================] - 2s 5ms/step - loss: 0.0110 - accuracy: 0.9981\n",
      "Epoch 81/100\n",
      "320/320 [==============================] - 1s 5ms/step - loss: 0.0112 - accuracy: 0.9980\n",
      "Epoch 82/100\n",
      "320/320 [==============================] - 2s 5ms/step - loss: 0.0111 - accuracy: 0.9980\n",
      "Epoch 83/100\n",
      "320/320 [==============================] - 1s 5ms/step - loss: 0.0111 - accuracy: 0.9980\n",
      "Epoch 84/100\n",
      "320/320 [==============================] - 2s 5ms/step - loss: 0.0108 - accuracy: 0.9981\n",
      "Epoch 85/100\n",
      "320/320 [==============================] - 2s 5ms/step - loss: 0.0111 - accuracy: 0.9980\n",
      "Epoch 86/100\n",
      "320/320 [==============================] - 1s 5ms/step - loss: 0.0110 - accuracy: 0.9980\n",
      "Epoch 87/100\n",
      "320/320 [==============================] - 1s 4ms/step - loss: 0.0110 - accuracy: 0.9980\n",
      "Epoch 88/100\n",
      "320/320 [==============================] - 2s 5ms/step - loss: 0.0108 - accuracy: 0.9980\n",
      "Epoch 89/100\n",
      "320/320 [==============================] - 2s 5ms/step - loss: 0.0111 - accuracy: 0.9981\n",
      "Epoch 90/100\n",
      "320/320 [==============================] - 2s 5ms/step - loss: 0.0109 - accuracy: 0.9980\n",
      "Epoch 91/100\n",
      "320/320 [==============================] - 1s 5ms/step - loss: 0.0110 - accuracy: 0.9980\n",
      "Epoch 92/100\n",
      "320/320 [==============================] - 2s 5ms/step - loss: 0.0110 - accuracy: 0.9980\n",
      "Epoch 93/100\n",
      "320/320 [==============================] - 1s 4ms/step - loss: 0.0109 - accuracy: 0.9980\n",
      "Epoch 94/100\n",
      "320/320 [==============================] - 2s 5ms/step - loss: 0.0111 - accuracy: 0.9980\n",
      "Epoch 95/100\n",
      "320/320 [==============================] - 2s 5ms/step - loss: 0.0109 - accuracy: 0.9980\n",
      "Epoch 96/100\n",
      "320/320 [==============================] - 2s 5ms/step - loss: 0.0108 - accuracy: 0.9980\n",
      "Epoch 97/100\n",
      "320/320 [==============================] - 1s 4ms/step - loss: 0.0109 - accuracy: 0.9980\n",
      "Epoch 98/100\n",
      "320/320 [==============================] - 2s 5ms/step - loss: 0.0109 - accuracy: 0.9980\n",
      "Epoch 99/100\n",
      "320/320 [==============================] - 1s 5ms/step - loss: 0.0108 - accuracy: 0.9980\n",
      "Epoch 100/100\n",
      "320/320 [==============================] - 1s 5ms/step - loss: 0.0107 - accuracy: 0.9980\n",
      "80/80 [==============================] - 0s 4ms/step\n",
      "WARNING:tensorflow:Detecting that an object or model or tf.train.Checkpoint is being deleted with unrestored values. See the following logs for the specific values in question. To silence these warnings, use `status.expect_partial()`. See https://www.tensorflow.org/api_docs/python/tf/train/Checkpoint#restorefor details about the status object returned by the restore function.\n"
     ]
    },
    {
     "name": "stderr",
     "output_type": "stream",
     "text": [
      "WARNING:tensorflow:Detecting that an object or model or tf.train.Checkpoint is being deleted with unrestored values. See the following logs for the specific values in question. To silence these warnings, use `status.expect_partial()`. See https://www.tensorflow.org/api_docs/python/tf/train/Checkpoint#restorefor details about the status object returned by the restore function.\n"
     ]
    },
    {
     "name": "stdout",
     "output_type": "stream",
     "text": [
      "WARNING:tensorflow:Value in checkpoint could not be found in the restored object: (root).keras_api.metrics.0.total\n"
     ]
    },
    {
     "name": "stderr",
     "output_type": "stream",
     "text": [
      "WARNING:tensorflow:Value in checkpoint could not be found in the restored object: (root).keras_api.metrics.0.total\n"
     ]
    },
    {
     "name": "stdout",
     "output_type": "stream",
     "text": [
      "WARNING:tensorflow:Value in checkpoint could not be found in the restored object: (root).keras_api.metrics.0.count\n"
     ]
    },
    {
     "name": "stderr",
     "output_type": "stream",
     "text": [
      "WARNING:tensorflow:Value in checkpoint could not be found in the restored object: (root).keras_api.metrics.0.count\n"
     ]
    },
    {
     "name": "stdout",
     "output_type": "stream",
     "text": [
      "WARNING:tensorflow:Value in checkpoint could not be found in the restored object: (root).keras_api.metrics.1.total\n"
     ]
    },
    {
     "name": "stderr",
     "output_type": "stream",
     "text": [
      "WARNING:tensorflow:Value in checkpoint could not be found in the restored object: (root).keras_api.metrics.1.total\n"
     ]
    },
    {
     "name": "stdout",
     "output_type": "stream",
     "text": [
      "WARNING:tensorflow:Value in checkpoint could not be found in the restored object: (root).keras_api.metrics.1.count\n"
     ]
    },
    {
     "name": "stderr",
     "output_type": "stream",
     "text": [
      "WARNING:tensorflow:Value in checkpoint could not be found in the restored object: (root).keras_api.metrics.1.count\n"
     ]
    },
    {
     "name": "stdout",
     "output_type": "stream",
     "text": [
      "WARNING:tensorflow:Detecting that an object or model or tf.train.Checkpoint is being deleted with unrestored values. See the following logs for the specific values in question. To silence these warnings, use `status.expect_partial()`. See https://www.tensorflow.org/api_docs/python/tf/train/Checkpoint#restorefor details about the status object returned by the restore function.\n"
     ]
    },
    {
     "name": "stderr",
     "output_type": "stream",
     "text": [
      "WARNING:tensorflow:Detecting that an object or model or tf.train.Checkpoint is being deleted with unrestored values. See the following logs for the specific values in question. To silence these warnings, use `status.expect_partial()`. See https://www.tensorflow.org/api_docs/python/tf/train/Checkpoint#restorefor details about the status object returned by the restore function.\n"
     ]
    },
    {
     "name": "stdout",
     "output_type": "stream",
     "text": [
      "WARNING:tensorflow:Value in checkpoint could not be found in the restored object: (root).keras_api.metrics.0.total\n"
     ]
    },
    {
     "name": "stderr",
     "output_type": "stream",
     "text": [
      "WARNING:tensorflow:Value in checkpoint could not be found in the restored object: (root).keras_api.metrics.0.total\n"
     ]
    },
    {
     "name": "stdout",
     "output_type": "stream",
     "text": [
      "WARNING:tensorflow:Value in checkpoint could not be found in the restored object: (root).keras_api.metrics.0.count\n"
     ]
    },
    {
     "name": "stderr",
     "output_type": "stream",
     "text": [
      "WARNING:tensorflow:Value in checkpoint could not be found in the restored object: (root).keras_api.metrics.0.count\n"
     ]
    },
    {
     "name": "stdout",
     "output_type": "stream",
     "text": [
      "WARNING:tensorflow:Value in checkpoint could not be found in the restored object: (root).keras_api.metrics.1.total\n"
     ]
    },
    {
     "name": "stderr",
     "output_type": "stream",
     "text": [
      "WARNING:tensorflow:Value in checkpoint could not be found in the restored object: (root).keras_api.metrics.1.total\n"
     ]
    },
    {
     "name": "stdout",
     "output_type": "stream",
     "text": [
      "WARNING:tensorflow:Value in checkpoint could not be found in the restored object: (root).keras_api.metrics.1.count\n"
     ]
    },
    {
     "name": "stderr",
     "output_type": "stream",
     "text": [
      "WARNING:tensorflow:Value in checkpoint could not be found in the restored object: (root).keras_api.metrics.1.count\n"
     ]
    },
    {
     "name": "stdout",
     "output_type": "stream",
     "text": [
      "WARNING:tensorflow:Detecting that an object or model or tf.train.Checkpoint is being deleted with unrestored values. See the following logs for the specific values in question. To silence these warnings, use `status.expect_partial()`. See https://www.tensorflow.org/api_docs/python/tf/train/Checkpoint#restorefor details about the status object returned by the restore function.\n"
     ]
    },
    {
     "name": "stderr",
     "output_type": "stream",
     "text": [
      "WARNING:tensorflow:Detecting that an object or model or tf.train.Checkpoint is being deleted with unrestored values. See the following logs for the specific values in question. To silence these warnings, use `status.expect_partial()`. See https://www.tensorflow.org/api_docs/python/tf/train/Checkpoint#restorefor details about the status object returned by the restore function.\n"
     ]
    },
    {
     "name": "stdout",
     "output_type": "stream",
     "text": [
      "WARNING:tensorflow:Value in checkpoint could not be found in the restored object: (root).keras_api.metrics.0.total\n"
     ]
    },
    {
     "name": "stderr",
     "output_type": "stream",
     "text": [
      "WARNING:tensorflow:Value in checkpoint could not be found in the restored object: (root).keras_api.metrics.0.total\n"
     ]
    },
    {
     "name": "stdout",
     "output_type": "stream",
     "text": [
      "WARNING:tensorflow:Value in checkpoint could not be found in the restored object: (root).keras_api.metrics.0.count\n"
     ]
    },
    {
     "name": "stderr",
     "output_type": "stream",
     "text": [
      "WARNING:tensorflow:Value in checkpoint could not be found in the restored object: (root).keras_api.metrics.0.count\n"
     ]
    },
    {
     "name": "stdout",
     "output_type": "stream",
     "text": [
      "WARNING:tensorflow:Value in checkpoint could not be found in the restored object: (root).keras_api.metrics.1.total\n"
     ]
    },
    {
     "name": "stderr",
     "output_type": "stream",
     "text": [
      "WARNING:tensorflow:Value in checkpoint could not be found in the restored object: (root).keras_api.metrics.1.total\n"
     ]
    },
    {
     "name": "stdout",
     "output_type": "stream",
     "text": [
      "WARNING:tensorflow:Value in checkpoint could not be found in the restored object: (root).keras_api.metrics.1.count\n"
     ]
    },
    {
     "name": "stderr",
     "output_type": "stream",
     "text": [
      "WARNING:tensorflow:Value in checkpoint could not be found in the restored object: (root).keras_api.metrics.1.count\n"
     ]
    },
    {
     "name": "stdout",
     "output_type": "stream",
     "text": [
      "WARNING:tensorflow:Detecting that an object or model or tf.train.Checkpoint is being deleted with unrestored values. See the following logs for the specific values in question. To silence these warnings, use `status.expect_partial()`. See https://www.tensorflow.org/api_docs/python/tf/train/Checkpoint#restorefor details about the status object returned by the restore function.\n"
     ]
    },
    {
     "name": "stderr",
     "output_type": "stream",
     "text": [
      "WARNING:tensorflow:Detecting that an object or model or tf.train.Checkpoint is being deleted with unrestored values. See the following logs for the specific values in question. To silence these warnings, use `status.expect_partial()`. See https://www.tensorflow.org/api_docs/python/tf/train/Checkpoint#restorefor details about the status object returned by the restore function.\n"
     ]
    },
    {
     "name": "stdout",
     "output_type": "stream",
     "text": [
      "WARNING:tensorflow:Value in checkpoint could not be found in the restored object: (root).keras_api.metrics.0.total\n"
     ]
    },
    {
     "name": "stderr",
     "output_type": "stream",
     "text": [
      "WARNING:tensorflow:Value in checkpoint could not be found in the restored object: (root).keras_api.metrics.0.total\n"
     ]
    },
    {
     "name": "stdout",
     "output_type": "stream",
     "text": [
      "WARNING:tensorflow:Value in checkpoint could not be found in the restored object: (root).keras_api.metrics.0.count\n"
     ]
    },
    {
     "name": "stderr",
     "output_type": "stream",
     "text": [
      "WARNING:tensorflow:Value in checkpoint could not be found in the restored object: (root).keras_api.metrics.0.count\n"
     ]
    },
    {
     "name": "stdout",
     "output_type": "stream",
     "text": [
      "WARNING:tensorflow:Value in checkpoint could not be found in the restored object: (root).keras_api.metrics.1.total\n"
     ]
    },
    {
     "name": "stderr",
     "output_type": "stream",
     "text": [
      "WARNING:tensorflow:Value in checkpoint could not be found in the restored object: (root).keras_api.metrics.1.total\n"
     ]
    },
    {
     "name": "stdout",
     "output_type": "stream",
     "text": [
      "WARNING:tensorflow:Value in checkpoint could not be found in the restored object: (root).keras_api.metrics.1.count\n"
     ]
    },
    {
     "name": "stderr",
     "output_type": "stream",
     "text": [
      "WARNING:tensorflow:Value in checkpoint could not be found in the restored object: (root).keras_api.metrics.1.count\n"
     ]
    },
    {
     "name": "stdout",
     "output_type": "stream",
     "text": [
      "WARNING:tensorflow:Detecting that an object or model or tf.train.Checkpoint is being deleted with unrestored values. See the following logs for the specific values in question. To silence these warnings, use `status.expect_partial()`. See https://www.tensorflow.org/api_docs/python/tf/train/Checkpoint#restorefor details about the status object returned by the restore function.\n"
     ]
    },
    {
     "name": "stderr",
     "output_type": "stream",
     "text": [
      "WARNING:tensorflow:Detecting that an object or model or tf.train.Checkpoint is being deleted with unrestored values. See the following logs for the specific values in question. To silence these warnings, use `status.expect_partial()`. See https://www.tensorflow.org/api_docs/python/tf/train/Checkpoint#restorefor details about the status object returned by the restore function.\n"
     ]
    },
    {
     "name": "stdout",
     "output_type": "stream",
     "text": [
      "WARNING:tensorflow:Value in checkpoint could not be found in the restored object: (root).keras_api.metrics.0.total\n"
     ]
    },
    {
     "name": "stderr",
     "output_type": "stream",
     "text": [
      "WARNING:tensorflow:Value in checkpoint could not be found in the restored object: (root).keras_api.metrics.0.total\n"
     ]
    },
    {
     "name": "stdout",
     "output_type": "stream",
     "text": [
      "WARNING:tensorflow:Value in checkpoint could not be found in the restored object: (root).keras_api.metrics.0.count\n"
     ]
    },
    {
     "name": "stderr",
     "output_type": "stream",
     "text": [
      "WARNING:tensorflow:Value in checkpoint could not be found in the restored object: (root).keras_api.metrics.0.count\n"
     ]
    },
    {
     "name": "stdout",
     "output_type": "stream",
     "text": [
      "WARNING:tensorflow:Value in checkpoint could not be found in the restored object: (root).keras_api.metrics.1.total\n"
     ]
    },
    {
     "name": "stderr",
     "output_type": "stream",
     "text": [
      "WARNING:tensorflow:Value in checkpoint could not be found in the restored object: (root).keras_api.metrics.1.total\n"
     ]
    },
    {
     "name": "stdout",
     "output_type": "stream",
     "text": [
      "WARNING:tensorflow:Value in checkpoint could not be found in the restored object: (root).keras_api.metrics.1.count\n"
     ]
    },
    {
     "name": "stderr",
     "output_type": "stream",
     "text": [
      "WARNING:tensorflow:Value in checkpoint could not be found in the restored object: (root).keras_api.metrics.1.count\n",
      "WARNING:absl:Found untraced functions such as _update_step_xla while saving (showing 1 of 1). These functions will not be directly callable after loading.\n"
     ]
    },
    {
     "name": "stdout",
     "output_type": "stream",
     "text": [
      "INFO:tensorflow:Assets written to: C:\\Users\\shubh\\AppData\\Local\\Temp\\tmp_38jovta\\assets\n"
     ]
    },
    {
     "name": "stderr",
     "output_type": "stream",
     "text": [
      "INFO:tensorflow:Assets written to: C:\\Users\\shubh\\AppData\\Local\\Temp\\tmp_38jovta\\assets\n"
     ]
    },
    {
     "name": "stdout",
     "output_type": "stream",
     "text": [
      "Epoch 1/50\n",
      "200/200 [==============================] - 3s 5ms/step - loss: 0.5795 - accuracy: 0.7958\n",
      "Epoch 2/50\n",
      "200/200 [==============================] - 1s 4ms/step - loss: 0.2724 - accuracy: 0.7958\n",
      "Epoch 3/50\n",
      "200/200 [==============================] - 1s 5ms/step - loss: 0.1675 - accuracy: 0.8195\n",
      "Epoch 4/50\n",
      "200/200 [==============================] - 1s 5ms/step - loss: 0.1391 - accuracy: 0.9964\n",
      "Epoch 5/50\n",
      "200/200 [==============================] - 1s 5ms/step - loss: 0.1237 - accuracy: 0.9987\n",
      "Epoch 6/50\n",
      "200/200 [==============================] - 1s 5ms/step - loss: 0.1106 - accuracy: 0.9987\n",
      "Epoch 7/50\n",
      "200/200 [==============================] - 1s 5ms/step - loss: 0.0991 - accuracy: 0.9987\n",
      "Epoch 8/50\n",
      "200/200 [==============================] - 1s 5ms/step - loss: 0.0889 - accuracy: 0.9987\n",
      "Epoch 9/50\n",
      "200/200 [==============================] - 1s 5ms/step - loss: 0.0798 - accuracy: 0.9987\n",
      "Epoch 10/50\n",
      "200/200 [==============================] - 1s 5ms/step - loss: 0.0718 - accuracy: 0.9987\n",
      "Epoch 11/50\n",
      "200/200 [==============================] - 1s 5ms/step - loss: 0.0647 - accuracy: 0.9987\n",
      "Epoch 12/50\n",
      "200/200 [==============================] - 1s 5ms/step - loss: 0.0584 - accuracy: 0.9987\n",
      "Epoch 13/50\n",
      "200/200 [==============================] - 1s 5ms/step - loss: 0.0529 - accuracy: 0.9987\n",
      "Epoch 14/50\n",
      "200/200 [==============================] - 1s 5ms/step - loss: 0.0479 - accuracy: 0.9987\n",
      "Epoch 15/50\n",
      "200/200 [==============================] - 1s 5ms/step - loss: 0.0436 - accuracy: 0.9987\n",
      "Epoch 16/50\n",
      "200/200 [==============================] - 1s 5ms/step - loss: 0.0397 - accuracy: 0.9987\n",
      "Epoch 17/50\n",
      "200/200 [==============================] - 1s 5ms/step - loss: 0.0363 - accuracy: 0.9987\n",
      "Epoch 18/50\n",
      "200/200 [==============================] - 1s 5ms/step - loss: 0.0331 - accuracy: 0.9987\n",
      "Epoch 19/50\n",
      "200/200 [==============================] - 1s 5ms/step - loss: 0.0304 - accuracy: 0.9987\n",
      "Epoch 20/50\n",
      "200/200 [==============================] - 1s 5ms/step - loss: 0.0280 - accuracy: 0.9987\n",
      "Epoch 21/50\n",
      "200/200 [==============================] - 1s 5ms/step - loss: 0.0258 - accuracy: 0.9987\n",
      "Epoch 22/50\n",
      "200/200 [==============================] - 1s 5ms/step - loss: 0.0238 - accuracy: 0.9989\n",
      "Epoch 23/50\n",
      "200/200 [==============================] - 1s 5ms/step - loss: 0.0221 - accuracy: 0.9987\n",
      "Epoch 24/50\n",
      "200/200 [==============================] - 1s 5ms/step - loss: 0.0205 - accuracy: 0.9987\n",
      "Epoch 25/50\n",
      "200/200 [==============================] - 1s 5ms/step - loss: 0.0192 - accuracy: 0.9987\n",
      "Epoch 26/50\n",
      "200/200 [==============================] - 1s 5ms/step - loss: 0.0178 - accuracy: 0.9989\n",
      "Epoch 27/50\n",
      "200/200 [==============================] - 1s 5ms/step - loss: 0.0167 - accuracy: 0.9987\n",
      "Epoch 28/50\n",
      "200/200 [==============================] - 1s 5ms/step - loss: 0.0157 - accuracy: 0.9989\n",
      "Epoch 29/50\n",
      "200/200 [==============================] - 1s 5ms/step - loss: 0.0148 - accuracy: 0.9989\n",
      "Epoch 30/50\n",
      "200/200 [==============================] - 1s 5ms/step - loss: 0.0139 - accuracy: 0.9987\n",
      "Epoch 31/50\n",
      "200/200 [==============================] - 1s 5ms/step - loss: 0.0132 - accuracy: 0.9989\n",
      "Epoch 32/50\n",
      "200/200 [==============================] - 1s 5ms/step - loss: 0.0125 - accuracy: 0.9989\n",
      "Epoch 33/50\n",
      "200/200 [==============================] - 1s 5ms/step - loss: 0.0119 - accuracy: 0.9989\n",
      "Epoch 34/50\n",
      "200/200 [==============================] - 1s 5ms/step - loss: 0.0114 - accuracy: 0.9989\n",
      "Epoch 35/50\n",
      "200/200 [==============================] - 1s 5ms/step - loss: 0.0108 - accuracy: 0.9989\n",
      "Epoch 36/50\n",
      "200/200 [==============================] - 1s 5ms/step - loss: 0.0104 - accuracy: 0.9989\n",
      "Epoch 37/50\n",
      "200/200 [==============================] - 1s 5ms/step - loss: 0.0100 - accuracy: 0.9989\n",
      "Epoch 38/50\n",
      "200/200 [==============================] - 1s 5ms/step - loss: 0.0097 - accuracy: 0.9989\n",
      "Epoch 39/50\n",
      "200/200 [==============================] - 1s 5ms/step - loss: 0.0094 - accuracy: 0.9989\n",
      "Epoch 40/50\n",
      "200/200 [==============================] - 1s 5ms/step - loss: 0.0091 - accuracy: 0.9989\n",
      "Epoch 41/50\n",
      "200/200 [==============================] - 1s 6ms/step - loss: 0.0088 - accuracy: 0.9989\n",
      "Epoch 42/50\n",
      "200/200 [==============================] - 1s 5ms/step - loss: 0.0086 - accuracy: 0.9989\n",
      "Epoch 43/50\n",
      "200/200 [==============================] - 1s 5ms/step - loss: 0.0084 - accuracy: 0.9989\n",
      "Epoch 44/50\n",
      "200/200 [==============================] - 1s 5ms/step - loss: 0.0082 - accuracy: 0.9989\n",
      "Epoch 45/50\n",
      "200/200 [==============================] - 1s 5ms/step - loss: 0.0081 - accuracy: 0.9989\n",
      "Epoch 46/50\n",
      "200/200 [==============================] - 1s 5ms/step - loss: 0.0079 - accuracy: 0.9989\n",
      "Epoch 47/50\n",
      "200/200 [==============================] - 1s 5ms/step - loss: 0.0078 - accuracy: 0.9989\n",
      "Epoch 48/50\n",
      "200/200 [==============================] - 1s 4ms/step - loss: 0.0077 - accuracy: 0.9989\n",
      "Epoch 49/50\n",
      "200/200 [==============================] - 1s 5ms/step - loss: 0.0076 - accuracy: 0.9989\n",
      "Epoch 50/50\n",
      "200/200 [==============================] - 1s 5ms/step - loss: 0.0075 - accuracy: 0.9989\n",
      "50/50 [==============================] - 0s 4ms/step\n"
     ]
    },
    {
     "name": "stderr",
     "output_type": "stream",
     "text": [
      "WARNING:absl:Found untraced functions such as _update_step_xla while saving (showing 1 of 1). These functions will not be directly callable after loading.\n"
     ]
    },
    {
     "name": "stdout",
     "output_type": "stream",
     "text": [
      "INFO:tensorflow:Assets written to: C:\\Users\\shubh\\AppData\\Local\\Temp\\tmpcvi50t_z\\assets\n"
     ]
    },
    {
     "name": "stderr",
     "output_type": "stream",
     "text": [
      "INFO:tensorflow:Assets written to: C:\\Users\\shubh\\AppData\\Local\\Temp\\tmpcvi50t_z\\assets\n"
     ]
    },
    {
     "name": "stdout",
     "output_type": "stream",
     "text": [
      "Epoch 1/50\n",
      "200/200 [==============================] - 3s 5ms/step - loss: 0.5816 - accuracy: 0.7945\n",
      "Epoch 2/50\n",
      "200/200 [==============================] - 1s 5ms/step - loss: 0.2713 - accuracy: 0.7958\n",
      "Epoch 3/50\n",
      "200/200 [==============================] - 1s 4ms/step - loss: 0.1676 - accuracy: 0.8258\n",
      "Epoch 4/50\n",
      "200/200 [==============================] - 1s 5ms/step - loss: 0.1403 - accuracy: 0.9961\n",
      "Epoch 5/50\n",
      "200/200 [==============================] - 1s 4ms/step - loss: 0.1252 - accuracy: 0.9983\n",
      "Epoch 6/50\n",
      "200/200 [==============================] - 1s 5ms/step - loss: 0.1124 - accuracy: 0.9984\n",
      "Epoch 7/50\n",
      "200/200 [==============================] - 1s 5ms/step - loss: 0.1010 - accuracy: 0.9984\n",
      "Epoch 8/50\n",
      "200/200 [==============================] - 1s 5ms/step - loss: 0.0909 - accuracy: 0.9984\n",
      "Epoch 9/50\n",
      "200/200 [==============================] - 1s 6ms/step - loss: 0.0819 - accuracy: 0.9984\n",
      "Epoch 10/50\n",
      "200/200 [==============================] - 1s 5ms/step - loss: 0.0739 - accuracy: 0.9984\n",
      "Epoch 11/50\n",
      "200/200 [==============================] - 1s 5ms/step - loss: 0.0669 - accuracy: 0.9984\n",
      "Epoch 12/50\n",
      "200/200 [==============================] - 1s 5ms/step - loss: 0.0606 - accuracy: 0.9984\n",
      "Epoch 13/50\n",
      "200/200 [==============================] - 1s 5ms/step - loss: 0.0551 - accuracy: 0.9984\n",
      "Epoch 14/50\n",
      "200/200 [==============================] - 1s 5ms/step - loss: 0.0502 - accuracy: 0.9984\n",
      "Epoch 15/50\n",
      "200/200 [==============================] - 1s 5ms/step - loss: 0.0459 - accuracy: 0.9984\n",
      "Epoch 16/50\n",
      "200/200 [==============================] - 1s 5ms/step - loss: 0.0420 - accuracy: 0.9984\n",
      "Epoch 17/50\n",
      "200/200 [==============================] - 1s 5ms/step - loss: 0.0386 - accuracy: 0.9984\n",
      "Epoch 18/50\n",
      "200/200 [==============================] - 1s 5ms/step - loss: 0.0355 - accuracy: 0.9984\n",
      "Epoch 19/50\n",
      "200/200 [==============================] - 1s 5ms/step - loss: 0.0328 - accuracy: 0.9984\n",
      "Epoch 20/50\n",
      "200/200 [==============================] - 1s 6ms/step - loss: 0.0304 - accuracy: 0.9984\n",
      "Epoch 21/50\n",
      "200/200 [==============================] - 1s 5ms/step - loss: 0.0282 - accuracy: 0.9984\n",
      "Epoch 22/50\n",
      "200/200 [==============================] - 1s 5ms/step - loss: 0.0263 - accuracy: 0.9984\n",
      "Epoch 23/50\n",
      "200/200 [==============================] - 1s 5ms/step - loss: 0.0246 - accuracy: 0.9984\n",
      "Epoch 24/50\n",
      "200/200 [==============================] - 1s 5ms/step - loss: 0.0230 - accuracy: 0.9984\n",
      "Epoch 25/50\n",
      "200/200 [==============================] - 1s 5ms/step - loss: 0.0216 - accuracy: 0.9984\n",
      "Epoch 26/50\n",
      "200/200 [==============================] - 1s 5ms/step - loss: 0.0203 - accuracy: 0.9984\n",
      "Epoch 27/50\n",
      "200/200 [==============================] - 1s 4ms/step - loss: 0.0192 - accuracy: 0.9984\n",
      "Epoch 28/50\n",
      "200/200 [==============================] - 1s 5ms/step - loss: 0.0182 - accuracy: 0.9984\n",
      "Epoch 29/50\n",
      "200/200 [==============================] - 1s 5ms/step - loss: 0.0173 - accuracy: 0.9984\n",
      "Epoch 30/50\n",
      "200/200 [==============================] - 1s 5ms/step - loss: 0.0164 - accuracy: 0.9984\n",
      "Epoch 31/50\n",
      "200/200 [==============================] - 1s 4ms/step - loss: 0.0157 - accuracy: 0.9984\n",
      "Epoch 32/50\n",
      "200/200 [==============================] - 1s 5ms/step - loss: 0.0151 - accuracy: 0.9984\n",
      "Epoch 33/50\n",
      "200/200 [==============================] - 1s 5ms/step - loss: 0.0144 - accuracy: 0.9984\n",
      "Epoch 34/50\n",
      "200/200 [==============================] - 1s 5ms/step - loss: 0.0139 - accuracy: 0.9984\n",
      "Epoch 35/50\n",
      "200/200 [==============================] - 1s 5ms/step - loss: 0.0134 - accuracy: 0.9984\n",
      "Epoch 36/50\n",
      "200/200 [==============================] - 1s 6ms/step - loss: 0.0130 - accuracy: 0.9984\n",
      "Epoch 37/50\n",
      "200/200 [==============================] - 1s 5ms/step - loss: 0.0125 - accuracy: 0.9984\n",
      "Epoch 38/50\n",
      "200/200 [==============================] - 1s 5ms/step - loss: 0.0122 - accuracy: 0.9984\n",
      "Epoch 39/50\n",
      "200/200 [==============================] - 1s 5ms/step - loss: 0.0118 - accuracy: 0.9984\n",
      "Epoch 40/50\n",
      "200/200 [==============================] - 1s 5ms/step - loss: 0.0116 - accuracy: 0.9984\n",
      "Epoch 41/50\n",
      "200/200 [==============================] - 1s 5ms/step - loss: 0.0114 - accuracy: 0.9984\n",
      "Epoch 42/50\n",
      "200/200 [==============================] - 1s 5ms/step - loss: 0.0111 - accuracy: 0.9984\n",
      "Epoch 43/50\n",
      "200/200 [==============================] - 1s 5ms/step - loss: 0.0109 - accuracy: 0.9984\n",
      "Epoch 44/50\n",
      "200/200 [==============================] - 1s 5ms/step - loss: 0.0107 - accuracy: 0.9984\n",
      "Epoch 45/50\n",
      "200/200 [==============================] - 1s 5ms/step - loss: 0.0105 - accuracy: 0.9984\n",
      "Epoch 46/50\n",
      "200/200 [==============================] - 1s 5ms/step - loss: 0.0102 - accuracy: 0.9984\n",
      "Epoch 47/50\n",
      "200/200 [==============================] - 1s 5ms/step - loss: 0.0103 - accuracy: 0.9984\n",
      "Epoch 48/50\n",
      "200/200 [==============================] - 1s 5ms/step - loss: 0.0100 - accuracy: 0.9984\n",
      "Epoch 49/50\n",
      "200/200 [==============================] - 1s 5ms/step - loss: 0.0101 - accuracy: 0.9984\n",
      "Epoch 50/50\n",
      "200/200 [==============================] - 1s 5ms/step - loss: 0.0099 - accuracy: 0.9984\n",
      "50/50 [==============================] - 0s 4ms/step\n"
     ]
    },
    {
     "name": "stderr",
     "output_type": "stream",
     "text": [
      "WARNING:absl:Found untraced functions such as _update_step_xla while saving (showing 1 of 1). These functions will not be directly callable after loading.\n"
     ]
    },
    {
     "name": "stdout",
     "output_type": "stream",
     "text": [
      "INFO:tensorflow:Assets written to: C:\\Users\\shubh\\AppData\\Local\\Temp\\tmpatwyofvu\\assets\n"
     ]
    },
    {
     "name": "stderr",
     "output_type": "stream",
     "text": [
      "INFO:tensorflow:Assets written to: C:\\Users\\shubh\\AppData\\Local\\Temp\\tmpatwyofvu\\assets\n"
     ]
    },
    {
     "name": "stdout",
     "output_type": "stream",
     "text": [
      "Epoch 1/50\n",
      "200/200 [==============================] - 3s 5ms/step - loss: 0.5799 - accuracy: 0.7956\n",
      "Epoch 2/50\n",
      "200/200 [==============================] - 1s 5ms/step - loss: 0.2726 - accuracy: 0.7959\n",
      "Epoch 3/50\n",
      "200/200 [==============================] - 1s 5ms/step - loss: 0.1689 - accuracy: 0.8214\n",
      "Epoch 4/50\n",
      "200/200 [==============================] - 1s 5ms/step - loss: 0.1407 - accuracy: 0.9959\n",
      "Epoch 5/50\n",
      "200/200 [==============================] - 1s 5ms/step - loss: 0.1254 - accuracy: 0.9983\n",
      "Epoch 6/50\n",
      "200/200 [==============================] - 1s 5ms/step - loss: 0.1124 - accuracy: 0.9983\n",
      "Epoch 7/50\n",
      "200/200 [==============================] - 1s 5ms/step - loss: 0.1010 - accuracy: 0.9983\n",
      "Epoch 8/50\n",
      "200/200 [==============================] - 1s 5ms/step - loss: 0.0908 - accuracy: 0.9983\n",
      "Epoch 9/50\n",
      "200/200 [==============================] - 1s 5ms/step - loss: 0.0818 - accuracy: 0.9983\n",
      "Epoch 10/50\n",
      "200/200 [==============================] - 1s 5ms/step - loss: 0.0739 - accuracy: 0.9983\n",
      "Epoch 11/50\n",
      "200/200 [==============================] - 1s 5ms/step - loss: 0.0668 - accuracy: 0.9983\n",
      "Epoch 12/50\n",
      "200/200 [==============================] - 1s 5ms/step - loss: 0.0606 - accuracy: 0.9983\n",
      "Epoch 13/50\n",
      "200/200 [==============================] - 1s 5ms/step - loss: 0.0551 - accuracy: 0.9983\n",
      "Epoch 14/50\n",
      "200/200 [==============================] - 1s 5ms/step - loss: 0.0502 - accuracy: 0.9983\n",
      "Epoch 15/50\n",
      "200/200 [==============================] - 1s 5ms/step - loss: 0.0459 - accuracy: 0.9983\n",
      "Epoch 16/50\n",
      "200/200 [==============================] - 1s 5ms/step - loss: 0.0421 - accuracy: 0.9983\n",
      "Epoch 17/50\n",
      "200/200 [==============================] - 1s 5ms/step - loss: 0.0387 - accuracy: 0.9983\n",
      "Epoch 18/50\n",
      "200/200 [==============================] - 1s 5ms/step - loss: 0.0358 - accuracy: 0.9983\n",
      "Epoch 19/50\n",
      "200/200 [==============================] - 1s 5ms/step - loss: 0.0330 - accuracy: 0.9983\n",
      "Epoch 20/50\n",
      "200/200 [==============================] - 1s 5ms/step - loss: 0.0306 - accuracy: 0.9983\n",
      "Epoch 21/50\n",
      "200/200 [==============================] - 1s 5ms/step - loss: 0.0285 - accuracy: 0.9983\n",
      "Epoch 22/50\n",
      "200/200 [==============================] - 1s 5ms/step - loss: 0.0266 - accuracy: 0.9983\n",
      "Epoch 23/50\n",
      "200/200 [==============================] - 1s 5ms/step - loss: 0.0248 - accuracy: 0.9983\n",
      "Epoch 24/50\n",
      "200/200 [==============================] - 1s 5ms/step - loss: 0.0233 - accuracy: 0.9983\n",
      "Epoch 25/50\n",
      "200/200 [==============================] - 1s 5ms/step - loss: 0.0219 - accuracy: 0.9983\n",
      "Epoch 26/50\n",
      "200/200 [==============================] - 1s 5ms/step - loss: 0.0207 - accuracy: 0.9983\n",
      "Epoch 27/50\n",
      "200/200 [==============================] - 1s 5ms/step - loss: 0.0196 - accuracy: 0.9983\n",
      "Epoch 28/50\n",
      "200/200 [==============================] - 1s 5ms/step - loss: 0.0186 - accuracy: 0.9983\n",
      "Epoch 29/50\n",
      "200/200 [==============================] - 1s 5ms/step - loss: 0.0176 - accuracy: 0.9983\n",
      "Epoch 30/50\n",
      "200/200 [==============================] - 1s 4ms/step - loss: 0.0169 - accuracy: 0.9983\n",
      "Epoch 31/50\n",
      "200/200 [==============================] - 1s 5ms/step - loss: 0.0161 - accuracy: 0.9983\n",
      "Epoch 32/50\n",
      "200/200 [==============================] - 1s 5ms/step - loss: 0.0155 - accuracy: 0.9983\n",
      "Epoch 33/50\n",
      "200/200 [==============================] - 1s 5ms/step - loss: 0.0149 - accuracy: 0.9983\n",
      "Epoch 34/50\n",
      "200/200 [==============================] - 1s 5ms/step - loss: 0.0144 - accuracy: 0.9983\n",
      "Epoch 35/50\n",
      "200/200 [==============================] - 1s 5ms/step - loss: 0.0139 - accuracy: 0.9983\n",
      "Epoch 36/50\n",
      "200/200 [==============================] - 1s 5ms/step - loss: 0.0135 - accuracy: 0.9983\n",
      "Epoch 37/50\n",
      "200/200 [==============================] - 1s 5ms/step - loss: 0.0131 - accuracy: 0.9983\n",
      "Epoch 38/50\n",
      "200/200 [==============================] - 1s 5ms/step - loss: 0.0128 - accuracy: 0.9983\n",
      "Epoch 39/50\n",
      "200/200 [==============================] - 1s 5ms/step - loss: 0.0125 - accuracy: 0.9983\n",
      "Epoch 40/50\n",
      "200/200 [==============================] - 1s 5ms/step - loss: 0.0121 - accuracy: 0.9983\n",
      "Epoch 41/50\n",
      "200/200 [==============================] - 1s 5ms/step - loss: 0.0119 - accuracy: 0.9983\n",
      "Epoch 42/50\n",
      "200/200 [==============================] - 1s 5ms/step - loss: 0.0117 - accuracy: 0.9983\n",
      "Epoch 43/50\n",
      "200/200 [==============================] - 1s 5ms/step - loss: 0.0113 - accuracy: 0.9983\n",
      "Epoch 44/50\n",
      "200/200 [==============================] - 1s 6ms/step - loss: 0.0113 - accuracy: 0.9983\n",
      "Epoch 45/50\n",
      "200/200 [==============================] - 1s 4ms/step - loss: 0.0111 - accuracy: 0.9983\n",
      "Epoch 46/50\n",
      "200/200 [==============================] - 1s 5ms/step - loss: 0.0109 - accuracy: 0.9983\n",
      "Epoch 47/50\n",
      "200/200 [==============================] - 1s 5ms/step - loss: 0.0108 - accuracy: 0.9983\n",
      "Epoch 48/50\n",
      "200/200 [==============================] - 1s 5ms/step - loss: 0.0106 - accuracy: 0.9983\n",
      "Epoch 49/50\n",
      "200/200 [==============================] - 1s 5ms/step - loss: 0.0106 - accuracy: 0.9983\n",
      "Epoch 50/50\n",
      "200/200 [==============================] - 1s 5ms/step - loss: 0.0104 - accuracy: 0.9983\n",
      "50/50 [==============================] - 0s 4ms/step\n"
     ]
    },
    {
     "name": "stderr",
     "output_type": "stream",
     "text": [
      "WARNING:absl:Found untraced functions such as _update_step_xla while saving (showing 1 of 1). These functions will not be directly callable after loading.\n"
     ]
    },
    {
     "name": "stdout",
     "output_type": "stream",
     "text": [
      "INFO:tensorflow:Assets written to: C:\\Users\\shubh\\AppData\\Local\\Temp\\tmped4oy9po\\assets\n"
     ]
    },
    {
     "name": "stderr",
     "output_type": "stream",
     "text": [
      "INFO:tensorflow:Assets written to: C:\\Users\\shubh\\AppData\\Local\\Temp\\tmped4oy9po\\assets\n"
     ]
    },
    {
     "name": "stdout",
     "output_type": "stream",
     "text": [
      "Epoch 1/50\n",
      "200/200 [==============================] - 3s 5ms/step - loss: 0.5781 - accuracy: 0.7952\n",
      "Epoch 2/50\n",
      "200/200 [==============================] - 1s 5ms/step - loss: 0.2712 - accuracy: 0.7959\n",
      "Epoch 3/50\n",
      "200/200 [==============================] - 1s 5ms/step - loss: 0.1682 - accuracy: 0.8202\n",
      "Epoch 4/50\n",
      "200/200 [==============================] - 1s 5ms/step - loss: 0.1401 - accuracy: 0.9956\n",
      "Epoch 5/50\n",
      "200/200 [==============================] - 1s 5ms/step - loss: 0.1248 - accuracy: 0.9983\n",
      "Epoch 6/50\n",
      "200/200 [==============================] - 1s 5ms/step - loss: 0.1117 - accuracy: 0.9984\n",
      "Epoch 7/50\n",
      "200/200 [==============================] - 1s 4ms/step - loss: 0.1003 - accuracy: 0.9984\n",
      "Epoch 8/50\n",
      "200/200 [==============================] - 1s 5ms/step - loss: 0.0902 - accuracy: 0.9984\n",
      "Epoch 9/50\n",
      "200/200 [==============================] - 1s 5ms/step - loss: 0.0812 - accuracy: 0.9984\n",
      "Epoch 10/50\n",
      "200/200 [==============================] - 1s 5ms/step - loss: 0.0732 - accuracy: 0.9984\n",
      "Epoch 11/50\n",
      "200/200 [==============================] - 1s 5ms/step - loss: 0.0662 - accuracy: 0.9984\n",
      "Epoch 12/50\n",
      "200/200 [==============================] - 1s 5ms/step - loss: 0.0599 - accuracy: 0.9984\n",
      "Epoch 13/50\n",
      "200/200 [==============================] - 1s 5ms/step - loss: 0.0544 - accuracy: 0.9984\n",
      "Epoch 14/50\n",
      "200/200 [==============================] - 1s 5ms/step - loss: 0.0496 - accuracy: 0.9984\n",
      "Epoch 15/50\n",
      "200/200 [==============================] - 1s 5ms/step - loss: 0.0453 - accuracy: 0.9984\n",
      "Epoch 16/50\n",
      "200/200 [==============================] - 1s 5ms/step - loss: 0.0414 - accuracy: 0.9984\n",
      "Epoch 17/50\n",
      "200/200 [==============================] - 1s 4ms/step - loss: 0.0380 - accuracy: 0.9984\n",
      "Epoch 18/50\n",
      "200/200 [==============================] - 1s 5ms/step - loss: 0.0350 - accuracy: 0.9984\n",
      "Epoch 19/50\n",
      "200/200 [==============================] - 1s 5ms/step - loss: 0.0323 - accuracy: 0.9984\n",
      "Epoch 20/50\n",
      "200/200 [==============================] - 1s 5ms/step - loss: 0.0299 - accuracy: 0.9984\n",
      "Epoch 21/50\n",
      "200/200 [==============================] - 1s 5ms/step - loss: 0.0278 - accuracy: 0.9984\n",
      "Epoch 22/50\n",
      "200/200 [==============================] - 1s 5ms/step - loss: 0.0258 - accuracy: 0.9984\n",
      "Epoch 23/50\n",
      "200/200 [==============================] - 1s 5ms/step - loss: 0.0241 - accuracy: 0.9984\n",
      "Epoch 24/50\n",
      "200/200 [==============================] - 1s 5ms/step - loss: 0.0226 - accuracy: 0.9984\n",
      "Epoch 25/50\n",
      "200/200 [==============================] - 1s 5ms/step - loss: 0.0212 - accuracy: 0.9984\n",
      "Epoch 26/50\n",
      "200/200 [==============================] - 1s 5ms/step - loss: 0.0200 - accuracy: 0.9984\n",
      "Epoch 27/50\n",
      "200/200 [==============================] - 1s 5ms/step - loss: 0.0188 - accuracy: 0.9984\n",
      "Epoch 28/50\n",
      "200/200 [==============================] - 1s 6ms/step - loss: 0.0178 - accuracy: 0.9984\n",
      "Epoch 29/50\n",
      "200/200 [==============================] - 1s 5ms/step - loss: 0.0170 - accuracy: 0.9984\n",
      "Epoch 30/50\n",
      "200/200 [==============================] - 1s 4ms/step - loss: 0.0161 - accuracy: 0.9984\n",
      "Epoch 31/50\n",
      "200/200 [==============================] - 1s 5ms/step - loss: 0.0154 - accuracy: 0.9984\n",
      "Epoch 32/50\n",
      "200/200 [==============================] - 1s 5ms/step - loss: 0.0148 - accuracy: 0.9984\n",
      "Epoch 33/50\n",
      "200/200 [==============================] - 1s 5ms/step - loss: 0.0142 - accuracy: 0.9984\n",
      "Epoch 34/50\n",
      "200/200 [==============================] - 1s 5ms/step - loss: 0.0137 - accuracy: 0.9984\n",
      "Epoch 35/50\n",
      "200/200 [==============================] - 1s 5ms/step - loss: 0.0132 - accuracy: 0.9984\n",
      "Epoch 36/50\n",
      "200/200 [==============================] - 1s 5ms/step - loss: 0.0128 - accuracy: 0.9984\n",
      "Epoch 37/50\n",
      "200/200 [==============================] - 1s 5ms/step - loss: 0.0124 - accuracy: 0.9984\n",
      "Epoch 38/50\n",
      "200/200 [==============================] - 1s 5ms/step - loss: 0.0121 - accuracy: 0.9984\n",
      "Epoch 39/50\n",
      "200/200 [==============================] - 1s 5ms/step - loss: 0.0118 - accuracy: 0.9984\n",
      "Epoch 40/50\n",
      "200/200 [==============================] - 1s 5ms/step - loss: 0.0115 - accuracy: 0.9984\n",
      "Epoch 41/50\n",
      "200/200 [==============================] - 1s 5ms/step - loss: 0.0113 - accuracy: 0.9984\n",
      "Epoch 42/50\n",
      "200/200 [==============================] - 1s 5ms/step - loss: 0.0111 - accuracy: 0.9984\n",
      "Epoch 43/50\n",
      "200/200 [==============================] - 1s 5ms/step - loss: 0.0109 - accuracy: 0.9984\n",
      "Epoch 44/50\n",
      "200/200 [==============================] - 1s 5ms/step - loss: 0.0106 - accuracy: 0.9984\n",
      "Epoch 45/50\n",
      "200/200 [==============================] - 1s 5ms/step - loss: 0.0106 - accuracy: 0.9984\n",
      "Epoch 46/50\n",
      "200/200 [==============================] - 1s 5ms/step - loss: 0.0104 - accuracy: 0.9984\n",
      "Epoch 47/50\n",
      "200/200 [==============================] - 1s 5ms/step - loss: 0.0104 - accuracy: 0.9984\n",
      "Epoch 48/50\n",
      "200/200 [==============================] - 1s 5ms/step - loss: 0.0102 - accuracy: 0.9984\n",
      "Epoch 49/50\n",
      "200/200 [==============================] - 1s 4ms/step - loss: 0.0101 - accuracy: 0.9984\n",
      "Epoch 50/50\n",
      "200/200 [==============================] - 1s 5ms/step - loss: 0.0100 - accuracy: 0.9984\n",
      "50/50 [==============================] - 1s 3ms/step\n"
     ]
    },
    {
     "name": "stderr",
     "output_type": "stream",
     "text": [
      "WARNING:absl:Found untraced functions such as _update_step_xla while saving (showing 1 of 1). These functions will not be directly callable after loading.\n"
     ]
    },
    {
     "name": "stdout",
     "output_type": "stream",
     "text": [
      "INFO:tensorflow:Assets written to: C:\\Users\\shubh\\AppData\\Local\\Temp\\tmp8c2b1odm\\assets\n"
     ]
    },
    {
     "name": "stderr",
     "output_type": "stream",
     "text": [
      "INFO:tensorflow:Assets written to: C:\\Users\\shubh\\AppData\\Local\\Temp\\tmp8c2b1odm\\assets\n"
     ]
    },
    {
     "name": "stdout",
     "output_type": "stream",
     "text": [
      "WARNING:tensorflow:Detecting that an object or model or tf.train.Checkpoint is being deleted with unrestored values. See the following logs for the specific values in question. To silence these warnings, use `status.expect_partial()`. See https://www.tensorflow.org/api_docs/python/tf/train/Checkpoint#restorefor details about the status object returned by the restore function.\n"
     ]
    },
    {
     "name": "stderr",
     "output_type": "stream",
     "text": [
      "WARNING:tensorflow:Detecting that an object or model or tf.train.Checkpoint is being deleted with unrestored values. See the following logs for the specific values in question. To silence these warnings, use `status.expect_partial()`. See https://www.tensorflow.org/api_docs/python/tf/train/Checkpoint#restorefor details about the status object returned by the restore function.\n"
     ]
    },
    {
     "name": "stdout",
     "output_type": "stream",
     "text": [
      "WARNING:tensorflow:Value in checkpoint could not be found in the restored object: (root).keras_api.metrics.0.total\n"
     ]
    },
    {
     "name": "stderr",
     "output_type": "stream",
     "text": [
      "WARNING:tensorflow:Value in checkpoint could not be found in the restored object: (root).keras_api.metrics.0.total\n"
     ]
    },
    {
     "name": "stdout",
     "output_type": "stream",
     "text": [
      "WARNING:tensorflow:Value in checkpoint could not be found in the restored object: (root).keras_api.metrics.0.count\n"
     ]
    },
    {
     "name": "stderr",
     "output_type": "stream",
     "text": [
      "WARNING:tensorflow:Value in checkpoint could not be found in the restored object: (root).keras_api.metrics.0.count\n"
     ]
    },
    {
     "name": "stdout",
     "output_type": "stream",
     "text": [
      "WARNING:tensorflow:Value in checkpoint could not be found in the restored object: (root).keras_api.metrics.1.total\n"
     ]
    },
    {
     "name": "stderr",
     "output_type": "stream",
     "text": [
      "WARNING:tensorflow:Value in checkpoint could not be found in the restored object: (root).keras_api.metrics.1.total\n"
     ]
    },
    {
     "name": "stdout",
     "output_type": "stream",
     "text": [
      "WARNING:tensorflow:Value in checkpoint could not be found in the restored object: (root).keras_api.metrics.1.count\n"
     ]
    },
    {
     "name": "stderr",
     "output_type": "stream",
     "text": [
      "WARNING:tensorflow:Value in checkpoint could not be found in the restored object: (root).keras_api.metrics.1.count\n"
     ]
    },
    {
     "name": "stdout",
     "output_type": "stream",
     "text": [
      "WARNING:tensorflow:Detecting that an object or model or tf.train.Checkpoint is being deleted with unrestored values. See the following logs for the specific values in question. To silence these warnings, use `status.expect_partial()`. See https://www.tensorflow.org/api_docs/python/tf/train/Checkpoint#restorefor details about the status object returned by the restore function.\n"
     ]
    },
    {
     "name": "stderr",
     "output_type": "stream",
     "text": [
      "WARNING:tensorflow:Detecting that an object or model or tf.train.Checkpoint is being deleted with unrestored values. See the following logs for the specific values in question. To silence these warnings, use `status.expect_partial()`. See https://www.tensorflow.org/api_docs/python/tf/train/Checkpoint#restorefor details about the status object returned by the restore function.\n"
     ]
    },
    {
     "name": "stdout",
     "output_type": "stream",
     "text": [
      "WARNING:tensorflow:Value in checkpoint could not be found in the restored object: (root).keras_api.metrics.0.total\n"
     ]
    },
    {
     "name": "stderr",
     "output_type": "stream",
     "text": [
      "WARNING:tensorflow:Value in checkpoint could not be found in the restored object: (root).keras_api.metrics.0.total\n"
     ]
    },
    {
     "name": "stdout",
     "output_type": "stream",
     "text": [
      "WARNING:tensorflow:Value in checkpoint could not be found in the restored object: (root).keras_api.metrics.0.count\n"
     ]
    },
    {
     "name": "stderr",
     "output_type": "stream",
     "text": [
      "WARNING:tensorflow:Value in checkpoint could not be found in the restored object: (root).keras_api.metrics.0.count\n"
     ]
    },
    {
     "name": "stdout",
     "output_type": "stream",
     "text": [
      "WARNING:tensorflow:Value in checkpoint could not be found in the restored object: (root).keras_api.metrics.1.total\n"
     ]
    },
    {
     "name": "stderr",
     "output_type": "stream",
     "text": [
      "WARNING:tensorflow:Value in checkpoint could not be found in the restored object: (root).keras_api.metrics.1.total\n"
     ]
    },
    {
     "name": "stdout",
     "output_type": "stream",
     "text": [
      "WARNING:tensorflow:Value in checkpoint could not be found in the restored object: (root).keras_api.metrics.1.count\n"
     ]
    },
    {
     "name": "stderr",
     "output_type": "stream",
     "text": [
      "WARNING:tensorflow:Value in checkpoint could not be found in the restored object: (root).keras_api.metrics.1.count\n"
     ]
    },
    {
     "name": "stdout",
     "output_type": "stream",
     "text": [
      "WARNING:tensorflow:Detecting that an object or model or tf.train.Checkpoint is being deleted with unrestored values. See the following logs for the specific values in question. To silence these warnings, use `status.expect_partial()`. See https://www.tensorflow.org/api_docs/python/tf/train/Checkpoint#restorefor details about the status object returned by the restore function.\n"
     ]
    },
    {
     "name": "stderr",
     "output_type": "stream",
     "text": [
      "WARNING:tensorflow:Detecting that an object or model or tf.train.Checkpoint is being deleted with unrestored values. See the following logs for the specific values in question. To silence these warnings, use `status.expect_partial()`. See https://www.tensorflow.org/api_docs/python/tf/train/Checkpoint#restorefor details about the status object returned by the restore function.\n"
     ]
    },
    {
     "name": "stdout",
     "output_type": "stream",
     "text": [
      "WARNING:tensorflow:Value in checkpoint could not be found in the restored object: (root).keras_api.metrics.0.total\n"
     ]
    },
    {
     "name": "stderr",
     "output_type": "stream",
     "text": [
      "WARNING:tensorflow:Value in checkpoint could not be found in the restored object: (root).keras_api.metrics.0.total\n"
     ]
    },
    {
     "name": "stdout",
     "output_type": "stream",
     "text": [
      "WARNING:tensorflow:Value in checkpoint could not be found in the restored object: (root).keras_api.metrics.0.count\n"
     ]
    },
    {
     "name": "stderr",
     "output_type": "stream",
     "text": [
      "WARNING:tensorflow:Value in checkpoint could not be found in the restored object: (root).keras_api.metrics.0.count\n"
     ]
    },
    {
     "name": "stdout",
     "output_type": "stream",
     "text": [
      "WARNING:tensorflow:Value in checkpoint could not be found in the restored object: (root).keras_api.metrics.1.total\n"
     ]
    },
    {
     "name": "stderr",
     "output_type": "stream",
     "text": [
      "WARNING:tensorflow:Value in checkpoint could not be found in the restored object: (root).keras_api.metrics.1.total\n"
     ]
    },
    {
     "name": "stdout",
     "output_type": "stream",
     "text": [
      "WARNING:tensorflow:Value in checkpoint could not be found in the restored object: (root).keras_api.metrics.1.count\n"
     ]
    },
    {
     "name": "stderr",
     "output_type": "stream",
     "text": [
      "WARNING:tensorflow:Value in checkpoint could not be found in the restored object: (root).keras_api.metrics.1.count\n"
     ]
    },
    {
     "name": "stdout",
     "output_type": "stream",
     "text": [
      "WARNING:tensorflow:Detecting that an object or model or tf.train.Checkpoint is being deleted with unrestored values. See the following logs for the specific values in question. To silence these warnings, use `status.expect_partial()`. See https://www.tensorflow.org/api_docs/python/tf/train/Checkpoint#restorefor details about the status object returned by the restore function.\n"
     ]
    },
    {
     "name": "stderr",
     "output_type": "stream",
     "text": [
      "WARNING:tensorflow:Detecting that an object or model or tf.train.Checkpoint is being deleted with unrestored values. See the following logs for the specific values in question. To silence these warnings, use `status.expect_partial()`. See https://www.tensorflow.org/api_docs/python/tf/train/Checkpoint#restorefor details about the status object returned by the restore function.\n"
     ]
    },
    {
     "name": "stdout",
     "output_type": "stream",
     "text": [
      "WARNING:tensorflow:Value in checkpoint could not be found in the restored object: (root).keras_api.metrics.0.total\n"
     ]
    },
    {
     "name": "stderr",
     "output_type": "stream",
     "text": [
      "WARNING:tensorflow:Value in checkpoint could not be found in the restored object: (root).keras_api.metrics.0.total\n"
     ]
    },
    {
     "name": "stdout",
     "output_type": "stream",
     "text": [
      "WARNING:tensorflow:Value in checkpoint could not be found in the restored object: (root).keras_api.metrics.0.count\n"
     ]
    },
    {
     "name": "stderr",
     "output_type": "stream",
     "text": [
      "WARNING:tensorflow:Value in checkpoint could not be found in the restored object: (root).keras_api.metrics.0.count\n"
     ]
    },
    {
     "name": "stdout",
     "output_type": "stream",
     "text": [
      "WARNING:tensorflow:Value in checkpoint could not be found in the restored object: (root).keras_api.metrics.1.total\n"
     ]
    },
    {
     "name": "stderr",
     "output_type": "stream",
     "text": [
      "WARNING:tensorflow:Value in checkpoint could not be found in the restored object: (root).keras_api.metrics.1.total\n"
     ]
    },
    {
     "name": "stdout",
     "output_type": "stream",
     "text": [
      "WARNING:tensorflow:Value in checkpoint could not be found in the restored object: (root).keras_api.metrics.1.count\n"
     ]
    },
    {
     "name": "stderr",
     "output_type": "stream",
     "text": [
      "WARNING:tensorflow:Value in checkpoint could not be found in the restored object: (root).keras_api.metrics.1.count\n"
     ]
    },
    {
     "name": "stdout",
     "output_type": "stream",
     "text": [
      "Epoch 1/50\n",
      "200/200 [==============================] - 3s 5ms/step - loss: 0.5813 - accuracy: 0.7947\n",
      "Epoch 2/50\n",
      "200/200 [==============================] - 1s 5ms/step - loss: 0.2707 - accuracy: 0.7959\n",
      "Epoch 3/50\n",
      "200/200 [==============================] - 1s 5ms/step - loss: 0.1672 - accuracy: 0.8234\n",
      "Epoch 4/50\n",
      "200/200 [==============================] - 1s 5ms/step - loss: 0.1405 - accuracy: 0.9958\n",
      "Epoch 5/50\n",
      "200/200 [==============================] - 1s 5ms/step - loss: 0.1254 - accuracy: 0.9977\n",
      "Epoch 6/50\n",
      "200/200 [==============================] - 1s 5ms/step - loss: 0.1126 - accuracy: 0.9980\n",
      "Epoch 7/50\n",
      "200/200 [==============================] - 1s 5ms/step - loss: 0.1012 - accuracy: 0.9980\n",
      "Epoch 8/50\n",
      "200/200 [==============================] - 1s 5ms/step - loss: 0.0912 - accuracy: 0.9980\n",
      "Epoch 9/50\n",
      "200/200 [==============================] - 1s 5ms/step - loss: 0.0823 - accuracy: 0.9980\n",
      "Epoch 10/50\n",
      "200/200 [==============================] - 1s 5ms/step - loss: 0.0744 - accuracy: 0.9980\n",
      "Epoch 11/50\n",
      "200/200 [==============================] - 1s 5ms/step - loss: 0.0673 - accuracy: 0.9980\n",
      "Epoch 12/50\n",
      "200/200 [==============================] - 1s 5ms/step - loss: 0.0611 - accuracy: 0.9980\n",
      "Epoch 13/50\n",
      "200/200 [==============================] - 1s 5ms/step - loss: 0.0557 - accuracy: 0.9980\n",
      "Epoch 14/50\n",
      "200/200 [==============================] - 1s 5ms/step - loss: 0.0509 - accuracy: 0.9980\n",
      "Epoch 15/50\n",
      "200/200 [==============================] - 1s 5ms/step - loss: 0.0466 - accuracy: 0.9980\n",
      "Epoch 16/50\n",
      "200/200 [==============================] - 1s 5ms/step - loss: 0.0428 - accuracy: 0.9980\n",
      "Epoch 17/50\n",
      "200/200 [==============================] - 1s 5ms/step - loss: 0.0394 - accuracy: 0.9980\n",
      "Epoch 18/50\n",
      "200/200 [==============================] - 1s 5ms/step - loss: 0.0364 - accuracy: 0.9980\n",
      "Epoch 19/50\n",
      "200/200 [==============================] - 1s 5ms/step - loss: 0.0338 - accuracy: 0.9980\n",
      "Epoch 20/50\n",
      "200/200 [==============================] - 1s 5ms/step - loss: 0.0314 - accuracy: 0.9980\n",
      "Epoch 21/50\n",
      "200/200 [==============================] - 1s 5ms/step - loss: 0.0292 - accuracy: 0.9980\n",
      "Epoch 22/50\n",
      "200/200 [==============================] - 1s 5ms/step - loss: 0.0274 - accuracy: 0.9980\n",
      "Epoch 23/50\n",
      "200/200 [==============================] - 1s 5ms/step - loss: 0.0257 - accuracy: 0.9980\n",
      "Epoch 24/50\n",
      "200/200 [==============================] - 1s 5ms/step - loss: 0.0242 - accuracy: 0.9980\n",
      "Epoch 25/50\n",
      "200/200 [==============================] - 1s 5ms/step - loss: 0.0228 - accuracy: 0.9980\n",
      "Epoch 26/50\n",
      "200/200 [==============================] - 1s 5ms/step - loss: 0.0216 - accuracy: 0.9980\n",
      "Epoch 27/50\n",
      "200/200 [==============================] - 1s 5ms/step - loss: 0.0204 - accuracy: 0.9980\n",
      "Epoch 28/50\n",
      "200/200 [==============================] - 1s 5ms/step - loss: 0.0195 - accuracy: 0.9980\n",
      "Epoch 29/50\n",
      "200/200 [==============================] - 1s 5ms/step - loss: 0.0186 - accuracy: 0.9980\n",
      "Epoch 30/50\n",
      "200/200 [==============================] - 1s 5ms/step - loss: 0.0178 - accuracy: 0.9980\n",
      "Epoch 31/50\n",
      "200/200 [==============================] - 1s 5ms/step - loss: 0.0172 - accuracy: 0.9980\n",
      "Epoch 32/50\n",
      "200/200 [==============================] - 1s 5ms/step - loss: 0.0165 - accuracy: 0.9980\n",
      "Epoch 33/50\n",
      "200/200 [==============================] - 1s 5ms/step - loss: 0.0159 - accuracy: 0.9980\n",
      "Epoch 34/50\n",
      "200/200 [==============================] - 1s 5ms/step - loss: 0.0154 - accuracy: 0.9980\n",
      "Epoch 35/50\n",
      "200/200 [==============================] - 1s 5ms/step - loss: 0.0149 - accuracy: 0.9980\n",
      "Epoch 36/50\n",
      "200/200 [==============================] - 1s 5ms/step - loss: 0.0145 - accuracy: 0.9980\n",
      "Epoch 37/50\n",
      "200/200 [==============================] - 1s 5ms/step - loss: 0.0141 - accuracy: 0.9980\n",
      "Epoch 38/50\n",
      "200/200 [==============================] - 1s 5ms/step - loss: 0.0138 - accuracy: 0.9980\n",
      "Epoch 39/50\n",
      "200/200 [==============================] - 1s 5ms/step - loss: 0.0135 - accuracy: 0.9980\n",
      "Epoch 40/50\n",
      "200/200 [==============================] - 1s 5ms/step - loss: 0.0132 - accuracy: 0.9980\n",
      "Epoch 41/50\n",
      "200/200 [==============================] - 1s 5ms/step - loss: 0.0128 - accuracy: 0.9980\n",
      "Epoch 42/50\n",
      "200/200 [==============================] - 1s 5ms/step - loss: 0.0128 - accuracy: 0.9980\n",
      "Epoch 43/50\n",
      "200/200 [==============================] - 1s 5ms/step - loss: 0.0126 - accuracy: 0.9980\n",
      "Epoch 44/50\n",
      "200/200 [==============================] - 1s 5ms/step - loss: 0.0123 - accuracy: 0.9980\n",
      "Epoch 45/50\n",
      "200/200 [==============================] - 1s 5ms/step - loss: 0.0121 - accuracy: 0.9980\n",
      "Epoch 46/50\n",
      "200/200 [==============================] - 1s 5ms/step - loss: 0.0120 - accuracy: 0.9980\n",
      "Epoch 47/50\n",
      "200/200 [==============================] - 1s 5ms/step - loss: 0.0118 - accuracy: 0.9980\n",
      "Epoch 48/50\n",
      "200/200 [==============================] - 1s 5ms/step - loss: 0.0118 - accuracy: 0.9980\n",
      "Epoch 49/50\n",
      "200/200 [==============================] - 1s 5ms/step - loss: 0.0116 - accuracy: 0.9980\n",
      "Epoch 50/50\n",
      "200/200 [==============================] - 1s 5ms/step - loss: 0.0115 - accuracy: 0.9980\n",
      "50/50 [==============================] - 0s 3ms/step\n"
     ]
    },
    {
     "name": "stderr",
     "output_type": "stream",
     "text": [
      "WARNING:absl:Found untraced functions such as _update_step_xla while saving (showing 1 of 1). These functions will not be directly callable after loading.\n"
     ]
    },
    {
     "name": "stdout",
     "output_type": "stream",
     "text": [
      "INFO:tensorflow:Assets written to: C:\\Users\\shubh\\AppData\\Local\\Temp\\tmp168yt_3d\\assets\n"
     ]
    },
    {
     "name": "stderr",
     "output_type": "stream",
     "text": [
      "INFO:tensorflow:Assets written to: C:\\Users\\shubh\\AppData\\Local\\Temp\\tmp168yt_3d\\assets\n"
     ]
    },
    {
     "name": "stdout",
     "output_type": "stream",
     "text": [
      "Epoch 1/50\n",
      "200/200 [==============================] - 3s 5ms/step - loss: 0.5797 - accuracy: 0.7947\n",
      "Epoch 2/50\n",
      "200/200 [==============================] - 1s 5ms/step - loss: 0.2726 - accuracy: 0.7958\n",
      "Epoch 3/50\n",
      "200/200 [==============================] - 1s 5ms/step - loss: 0.1677 - accuracy: 0.8161\n",
      "Epoch 4/50\n",
      "200/200 [==============================] - 1s 5ms/step - loss: 0.1393 - accuracy: 0.9975\n",
      "Epoch 5/50\n",
      "200/200 [==============================] - 1s 5ms/step - loss: 0.1239 - accuracy: 0.9986\n",
      "Epoch 6/50\n",
      "200/200 [==============================] - 1s 5ms/step - loss: 0.1108 - accuracy: 0.9987\n",
      "Epoch 7/50\n",
      "200/200 [==============================] - 1s 5ms/step - loss: 0.0993 - accuracy: 0.9987\n",
      "Epoch 8/50\n",
      "200/200 [==============================] - 1s 5ms/step - loss: 0.0890 - accuracy: 0.9987\n",
      "Epoch 9/50\n",
      "200/200 [==============================] - 1s 5ms/step - loss: 0.0799 - accuracy: 0.9987\n",
      "Epoch 10/50\n",
      "200/200 [==============================] - 1s 5ms/step - loss: 0.0719 - accuracy: 0.9987\n",
      "Epoch 11/50\n",
      "200/200 [==============================] - 1s 5ms/step - loss: 0.0647 - accuracy: 0.9987\n",
      "Epoch 12/50\n",
      "200/200 [==============================] - 1s 5ms/step - loss: 0.0584 - accuracy: 0.9987\n",
      "Epoch 13/50\n",
      "200/200 [==============================] - 1s 5ms/step - loss: 0.0529 - accuracy: 0.9987\n",
      "Epoch 14/50\n",
      "200/200 [==============================] - 1s 5ms/step - loss: 0.0479 - accuracy: 0.9987\n",
      "Epoch 15/50\n",
      "200/200 [==============================] - 1s 6ms/step - loss: 0.0436 - accuracy: 0.9987\n",
      "Epoch 16/50\n",
      "200/200 [==============================] - 1s 6ms/step - loss: 0.0397 - accuracy: 0.9987\n",
      "Epoch 17/50\n",
      "200/200 [==============================] - 1s 5ms/step - loss: 0.0362 - accuracy: 0.9987\n",
      "Epoch 18/50\n",
      "200/200 [==============================] - 1s 5ms/step - loss: 0.0332 - accuracy: 0.9987\n",
      "Epoch 19/50\n",
      "200/200 [==============================] - 1s 5ms/step - loss: 0.0304 - accuracy: 0.9987\n",
      "Epoch 20/50\n",
      "200/200 [==============================] - 1s 5ms/step - loss: 0.0279 - accuracy: 0.9987\n",
      "Epoch 21/50\n",
      "200/200 [==============================] - 1s 5ms/step - loss: 0.0257 - accuracy: 0.9987\n",
      "Epoch 22/50\n",
      "200/200 [==============================] - 1s 5ms/step - loss: 0.0238 - accuracy: 0.9987\n",
      "Epoch 23/50\n",
      "200/200 [==============================] - 1s 5ms/step - loss: 0.0220 - accuracy: 0.9987\n",
      "Epoch 24/50\n",
      "200/200 [==============================] - 1s 5ms/step - loss: 0.0204 - accuracy: 0.9987\n",
      "Epoch 25/50\n",
      "200/200 [==============================] - 1s 5ms/step - loss: 0.0190 - accuracy: 0.9987\n",
      "Epoch 26/50\n",
      "200/200 [==============================] - 1s 5ms/step - loss: 0.0177 - accuracy: 0.9987\n",
      "Epoch 27/50\n",
      "200/200 [==============================] - 1s 5ms/step - loss: 0.0165 - accuracy: 0.9989\n",
      "Epoch 28/50\n",
      "200/200 [==============================] - 1s 5ms/step - loss: 0.0156 - accuracy: 0.9987\n",
      "Epoch 29/50\n",
      "200/200 [==============================] - 1s 5ms/step - loss: 0.0146 - accuracy: 0.9989\n",
      "Epoch 30/50\n",
      "200/200 [==============================] - 1s 5ms/step - loss: 0.0138 - accuracy: 0.9989\n",
      "Epoch 31/50\n",
      "200/200 [==============================] - 1s 4ms/step - loss: 0.0130 - accuracy: 0.9989\n",
      "Epoch 32/50\n",
      "200/200 [==============================] - 1s 5ms/step - loss: 0.0123 - accuracy: 0.9989\n",
      "Epoch 33/50\n",
      "200/200 [==============================] - 1s 5ms/step - loss: 0.0117 - accuracy: 0.9989\n",
      "Epoch 34/50\n",
      "200/200 [==============================] - 1s 5ms/step - loss: 0.0112 - accuracy: 0.9989\n",
      "Epoch 35/50\n",
      "200/200 [==============================] - 1s 5ms/step - loss: 0.0106 - accuracy: 0.9989\n",
      "Epoch 36/50\n",
      "200/200 [==============================] - 1s 5ms/step - loss: 0.0101 - accuracy: 0.9989\n",
      "Epoch 37/50\n",
      "200/200 [==============================] - 1s 5ms/step - loss: 0.0098 - accuracy: 0.9989\n",
      "Epoch 38/50\n",
      "200/200 [==============================] - 1s 5ms/step - loss: 0.0094 - accuracy: 0.9989\n",
      "Epoch 39/50\n",
      "200/200 [==============================] - 1s 5ms/step - loss: 0.0090 - accuracy: 0.9989\n",
      "Epoch 40/50\n",
      "200/200 [==============================] - 1s 5ms/step - loss: 0.0087 - accuracy: 0.9989\n",
      "Epoch 41/50\n",
      "200/200 [==============================] - 1s 4ms/step - loss: 0.0085 - accuracy: 0.9989\n",
      "Epoch 42/50\n",
      "200/200 [==============================] - 1s 5ms/step - loss: 0.0082 - accuracy: 0.9989\n",
      "Epoch 43/50\n",
      "200/200 [==============================] - 1s 5ms/step - loss: 0.0080 - accuracy: 0.9989\n",
      "Epoch 44/50\n",
      "200/200 [==============================] - 1s 5ms/step - loss: 0.0078 - accuracy: 0.9989\n",
      "Epoch 45/50\n",
      "200/200 [==============================] - 1s 4ms/step - loss: 0.0076 - accuracy: 0.9989\n",
      "Epoch 46/50\n",
      "200/200 [==============================] - 1s 5ms/step - loss: 0.0075 - accuracy: 0.9989\n",
      "Epoch 47/50\n",
      "200/200 [==============================] - 1s 5ms/step - loss: 0.0073 - accuracy: 0.9989\n",
      "Epoch 48/50\n",
      "200/200 [==============================] - 1s 5ms/step - loss: 0.0072 - accuracy: 0.9989\n",
      "Epoch 49/50\n",
      "200/200 [==============================] - 1s 5ms/step - loss: 0.0071 - accuracy: 0.9989\n",
      "Epoch 50/50\n",
      "200/200 [==============================] - 1s 5ms/step - loss: 0.0070 - accuracy: 0.9989\n",
      "50/50 [==============================] - 0s 5ms/step\n"
     ]
    },
    {
     "name": "stderr",
     "output_type": "stream",
     "text": [
      "WARNING:absl:Found untraced functions such as _update_step_xla while saving (showing 1 of 1). These functions will not be directly callable after loading.\n"
     ]
    },
    {
     "name": "stdout",
     "output_type": "stream",
     "text": [
      "INFO:tensorflow:Assets written to: C:\\Users\\shubh\\AppData\\Local\\Temp\\tmpkjuhgg9j\\assets\n"
     ]
    },
    {
     "name": "stderr",
     "output_type": "stream",
     "text": [
      "INFO:tensorflow:Assets written to: C:\\Users\\shubh\\AppData\\Local\\Temp\\tmpkjuhgg9j\\assets\n"
     ]
    },
    {
     "name": "stdout",
     "output_type": "stream",
     "text": [
      "Epoch 1/50\n",
      "200/200 [==============================] - 3s 5ms/step - loss: 0.5796 - accuracy: 0.7945\n",
      "Epoch 2/50\n",
      "200/200 [==============================] - 1s 5ms/step - loss: 0.2733 - accuracy: 0.7958\n",
      "Epoch 3/50\n",
      "200/200 [==============================] - 1s 5ms/step - loss: 0.1686 - accuracy: 0.8200\n",
      "Epoch 4/50\n",
      "200/200 [==============================] - 1s 5ms/step - loss: 0.1405 - accuracy: 0.9964\n",
      "Epoch 5/50\n",
      "200/200 [==============================] - 1s 5ms/step - loss: 0.1252 - accuracy: 0.9984\n",
      "Epoch 6/50\n",
      "200/200 [==============================] - 1s 5ms/step - loss: 0.1122 - accuracy: 0.9984\n",
      "Epoch 7/50\n",
      "200/200 [==============================] - 1s 5ms/step - loss: 0.1008 - accuracy: 0.9984\n",
      "Epoch 8/50\n",
      "200/200 [==============================] - 1s 5ms/step - loss: 0.0906 - accuracy: 0.9984\n",
      "Epoch 9/50\n",
      "200/200 [==============================] - 1s 5ms/step - loss: 0.0815 - accuracy: 0.9984\n",
      "Epoch 10/50\n",
      "200/200 [==============================] - 1s 5ms/step - loss: 0.0736 - accuracy: 0.9984\n",
      "Epoch 11/50\n",
      "200/200 [==============================] - 1s 5ms/step - loss: 0.0665 - accuracy: 0.9984\n",
      "Epoch 12/50\n",
      "200/200 [==============================] - 1s 5ms/step - loss: 0.0603 - accuracy: 0.9984\n",
      "Epoch 13/50\n",
      "200/200 [==============================] - 1s 5ms/step - loss: 0.0548 - accuracy: 0.9984\n",
      "Epoch 14/50\n",
      "200/200 [==============================] - 1s 5ms/step - loss: 0.0499 - accuracy: 0.9984\n",
      "Epoch 15/50\n",
      "200/200 [==============================] - 1s 5ms/step - loss: 0.0455 - accuracy: 0.9984\n",
      "Epoch 16/50\n",
      "200/200 [==============================] - 1s 5ms/step - loss: 0.0417 - accuracy: 0.9984\n",
      "Epoch 17/50\n",
      "200/200 [==============================] - 1s 5ms/step - loss: 0.0383 - accuracy: 0.9984\n",
      "Epoch 18/50\n",
      "200/200 [==============================] - 1s 5ms/step - loss: 0.0353 - accuracy: 0.9984\n",
      "Epoch 19/50\n",
      "200/200 [==============================] - 1s 5ms/step - loss: 0.0326 - accuracy: 0.9984\n",
      "Epoch 20/50\n",
      "200/200 [==============================] - 1s 5ms/step - loss: 0.0302 - accuracy: 0.9984\n",
      "Epoch 21/50\n",
      "200/200 [==============================] - 1s 5ms/step - loss: 0.0280 - accuracy: 0.9984\n",
      "Epoch 22/50\n",
      "200/200 [==============================] - 1s 5ms/step - loss: 0.0261 - accuracy: 0.9984\n",
      "Epoch 23/50\n",
      "200/200 [==============================] - 1s 6ms/step - loss: 0.0244 - accuracy: 0.9984\n",
      "Epoch 24/50\n",
      "200/200 [==============================] - 2s 9ms/step - loss: 0.0228 - accuracy: 0.9984\n",
      "Epoch 25/50\n",
      "200/200 [==============================] - 1s 6ms/step - loss: 0.0214 - accuracy: 0.9984\n",
      "Epoch 26/50\n",
      "200/200 [==============================] - 1s 7ms/step - loss: 0.0202 - accuracy: 0.9984\n",
      "Epoch 27/50\n",
      "200/200 [==============================] - 1s 7ms/step - loss: 0.0191 - accuracy: 0.9984\n",
      "Epoch 28/50\n",
      "200/200 [==============================] - 1s 6ms/step - loss: 0.0181 - accuracy: 0.9984\n",
      "Epoch 29/50\n",
      "200/200 [==============================] - 1s 6ms/step - loss: 0.0171 - accuracy: 0.9984\n",
      "Epoch 30/50\n",
      "200/200 [==============================] - 1s 6ms/step - loss: 0.0163 - accuracy: 0.9984\n",
      "Epoch 31/50\n",
      "200/200 [==============================] - 1s 6ms/step - loss: 0.0157 - accuracy: 0.9984\n",
      "Epoch 32/50\n",
      "200/200 [==============================] - 1s 6ms/step - loss: 0.0150 - accuracy: 0.9984\n",
      "Epoch 33/50\n",
      "200/200 [==============================] - 1s 6ms/step - loss: 0.0143 - accuracy: 0.9984\n",
      "Epoch 34/50\n",
      "200/200 [==============================] - 1s 6ms/step - loss: 0.0138 - accuracy: 0.9984\n",
      "Epoch 35/50\n",
      "200/200 [==============================] - 1s 5ms/step - loss: 0.0134 - accuracy: 0.9984\n",
      "Epoch 36/50\n",
      "200/200 [==============================] - 1s 6ms/step - loss: 0.0129 - accuracy: 0.9984\n",
      "Epoch 37/50\n",
      "200/200 [==============================] - 1s 6ms/step - loss: 0.0125 - accuracy: 0.9984\n",
      "Epoch 38/50\n",
      "200/200 [==============================] - 1s 6ms/step - loss: 0.0122 - accuracy: 0.9984\n",
      "Epoch 39/50\n",
      "200/200 [==============================] - 1s 7ms/step - loss: 0.0119 - accuracy: 0.9984\n",
      "Epoch 40/50\n",
      "200/200 [==============================] - 1s 5ms/step - loss: 0.0115 - accuracy: 0.9984\n",
      "Epoch 41/50\n",
      "200/200 [==============================] - 1s 5ms/step - loss: 0.0114 - accuracy: 0.9984\n",
      "Epoch 42/50\n",
      "200/200 [==============================] - 1s 5ms/step - loss: 0.0111 - accuracy: 0.9984\n",
      "Epoch 43/50\n",
      "200/200 [==============================] - 1s 5ms/step - loss: 0.0109 - accuracy: 0.9984\n",
      "Epoch 44/50\n",
      "200/200 [==============================] - 1s 5ms/step - loss: 0.0108 - accuracy: 0.9984\n",
      "Epoch 45/50\n",
      "200/200 [==============================] - 1s 5ms/step - loss: 0.0105 - accuracy: 0.9984\n",
      "Epoch 46/50\n",
      "200/200 [==============================] - 1s 5ms/step - loss: 0.0104 - accuracy: 0.9984\n",
      "Epoch 47/50\n",
      "200/200 [==============================] - 1s 5ms/step - loss: 0.0103 - accuracy: 0.9984\n",
      "Epoch 48/50\n",
      "200/200 [==============================] - 1s 5ms/step - loss: 0.0102 - accuracy: 0.9984\n",
      "Epoch 49/50\n",
      "200/200 [==============================] - 1s 5ms/step - loss: 0.0100 - accuracy: 0.9984\n",
      "Epoch 50/50\n",
      "200/200 [==============================] - 1s 5ms/step - loss: 0.0099 - accuracy: 0.9984\n",
      "50/50 [==============================] - 0s 4ms/step\n"
     ]
    },
    {
     "name": "stderr",
     "output_type": "stream",
     "text": [
      "WARNING:absl:Found untraced functions such as _update_step_xla while saving (showing 1 of 1). These functions will not be directly callable after loading.\n"
     ]
    },
    {
     "name": "stdout",
     "output_type": "stream",
     "text": [
      "INFO:tensorflow:Assets written to: C:\\Users\\shubh\\AppData\\Local\\Temp\\tmpbyxrbuor\\assets\n"
     ]
    },
    {
     "name": "stderr",
     "output_type": "stream",
     "text": [
      "INFO:tensorflow:Assets written to: C:\\Users\\shubh\\AppData\\Local\\Temp\\tmpbyxrbuor\\assets\n"
     ]
    },
    {
     "name": "stdout",
     "output_type": "stream",
     "text": [
      "Epoch 1/50\n",
      "200/200 [==============================] - 3s 5ms/step - loss: 0.5822 - accuracy: 0.7953\n",
      "Epoch 2/50\n",
      "200/200 [==============================] - 1s 5ms/step - loss: 0.2717 - accuracy: 0.7959\n",
      "Epoch 3/50\n",
      "200/200 [==============================] - 1s 5ms/step - loss: 0.1679 - accuracy: 0.8233\n",
      "Epoch 4/50\n",
      "200/200 [==============================] - 1s 5ms/step - loss: 0.1405 - accuracy: 0.9962\n",
      "Epoch 5/50\n",
      "200/200 [==============================] - 1s 5ms/step - loss: 0.1254 - accuracy: 0.9983\n",
      "Epoch 6/50\n",
      "200/200 [==============================] - 1s 5ms/step - loss: 0.1126 - accuracy: 0.9983\n",
      "Epoch 7/50\n",
      "200/200 [==============================] - 1s 5ms/step - loss: 0.1012 - accuracy: 0.9983\n",
      "Epoch 8/50\n",
      "200/200 [==============================] - 1s 5ms/step - loss: 0.0911 - accuracy: 0.9983\n",
      "Epoch 9/50\n",
      "200/200 [==============================] - 1s 5ms/step - loss: 0.0821 - accuracy: 0.9983\n",
      "Epoch 10/50\n",
      "200/200 [==============================] - 1s 5ms/step - loss: 0.0742 - accuracy: 0.9983\n",
      "Epoch 11/50\n",
      "200/200 [==============================] - 1s 5ms/step - loss: 0.0671 - accuracy: 0.9983\n",
      "Epoch 12/50\n",
      "200/200 [==============================] - 1s 5ms/step - loss: 0.0609 - accuracy: 0.9983\n",
      "Epoch 13/50\n",
      "200/200 [==============================] - 1s 5ms/step - loss: 0.0554 - accuracy: 0.9983\n",
      "Epoch 14/50\n",
      "200/200 [==============================] - 1s 5ms/step - loss: 0.0505 - accuracy: 0.9983\n",
      "Epoch 15/50\n",
      "200/200 [==============================] - 1s 5ms/step - loss: 0.0462 - accuracy: 0.9983\n",
      "Epoch 16/50\n",
      "200/200 [==============================] - 1s 5ms/step - loss: 0.0423 - accuracy: 0.9983\n",
      "Epoch 17/50\n",
      "200/200 [==============================] - 1s 5ms/step - loss: 0.0389 - accuracy: 0.9983\n",
      "Epoch 18/50\n",
      "200/200 [==============================] - 1s 5ms/step - loss: 0.0359 - accuracy: 0.9983\n",
      "Epoch 19/50\n",
      "200/200 [==============================] - 1s 5ms/step - loss: 0.0332 - accuracy: 0.9983\n",
      "Epoch 20/50\n",
      "200/200 [==============================] - 1s 4ms/step - loss: 0.0308 - accuracy: 0.9983\n",
      "Epoch 21/50\n",
      "200/200 [==============================] - 1s 5ms/step - loss: 0.0286 - accuracy: 0.9983\n",
      "Epoch 22/50\n",
      "200/200 [==============================] - 1s 5ms/step - loss: 0.0267 - accuracy: 0.9983\n",
      "Epoch 23/50\n",
      "200/200 [==============================] - 1s 5ms/step - loss: 0.0250 - accuracy: 0.9983\n",
      "Epoch 24/50\n",
      "200/200 [==============================] - 1s 5ms/step - loss: 0.0234 - accuracy: 0.9983\n",
      "Epoch 25/50\n",
      "200/200 [==============================] - 1s 5ms/step - loss: 0.0220 - accuracy: 0.9983\n",
      "Epoch 26/50\n",
      "200/200 [==============================] - 1s 5ms/step - loss: 0.0208 - accuracy: 0.9983\n",
      "Epoch 27/50\n",
      "200/200 [==============================] - 1s 5ms/step - loss: 0.0196 - accuracy: 0.9983\n",
      "Epoch 28/50\n",
      "200/200 [==============================] - 1s 6ms/step - loss: 0.0186 - accuracy: 0.9983\n",
      "Epoch 29/50\n",
      "200/200 [==============================] - 1s 5ms/step - loss: 0.0177 - accuracy: 0.9983\n",
      "Epoch 30/50\n",
      "200/200 [==============================] - 1s 5ms/step - loss: 0.0169 - accuracy: 0.9983\n",
      "Epoch 31/50\n",
      "200/200 [==============================] - 1s 5ms/step - loss: 0.0161 - accuracy: 0.9983\n",
      "Epoch 32/50\n",
      "200/200 [==============================] - 1s 5ms/step - loss: 0.0156 - accuracy: 0.9983\n",
      "Epoch 33/50\n",
      "200/200 [==============================] - 1s 4ms/step - loss: 0.0150 - accuracy: 0.9983\n",
      "Epoch 34/50\n",
      "200/200 [==============================] - 1s 5ms/step - loss: 0.0145 - accuracy: 0.9983\n",
      "Epoch 35/50\n",
      "200/200 [==============================] - 1s 5ms/step - loss: 0.0139 - accuracy: 0.9983\n",
      "Epoch 36/50\n",
      "200/200 [==============================] - 1s 5ms/step - loss: 0.0136 - accuracy: 0.9983\n",
      "Epoch 37/50\n",
      "200/200 [==============================] - 1s 5ms/step - loss: 0.0131 - accuracy: 0.9983\n",
      "Epoch 38/50\n",
      "200/200 [==============================] - 1s 5ms/step - loss: 0.0129 - accuracy: 0.9983\n",
      "Epoch 39/50\n",
      "200/200 [==============================] - 1s 4ms/step - loss: 0.0125 - accuracy: 0.9983\n",
      "Epoch 40/50\n",
      "200/200 [==============================] - 1s 5ms/step - loss: 0.0123 - accuracy: 0.9983\n",
      "Epoch 41/50\n",
      "200/200 [==============================] - 1s 4ms/step - loss: 0.0118 - accuracy: 0.9983\n",
      "Epoch 42/50\n",
      "200/200 [==============================] - 1s 5ms/step - loss: 0.0119 - accuracy: 0.9983\n",
      "Epoch 43/50\n",
      "200/200 [==============================] - 1s 5ms/step - loss: 0.0116 - accuracy: 0.9983\n",
      "Epoch 44/50\n",
      "200/200 [==============================] - 1s 5ms/step - loss: 0.0113 - accuracy: 0.9983\n",
      "Epoch 45/50\n",
      "200/200 [==============================] - 1s 5ms/step - loss: 0.0112 - accuracy: 0.9983\n",
      "Epoch 46/50\n",
      "200/200 [==============================] - 1s 4ms/step - loss: 0.0112 - accuracy: 0.9983\n",
      "Epoch 47/50\n",
      "200/200 [==============================] - 1s 5ms/step - loss: 0.0110 - accuracy: 0.9983\n",
      "Epoch 48/50\n",
      "200/200 [==============================] - 1s 5ms/step - loss: 0.0109 - accuracy: 0.9983\n",
      "Epoch 49/50\n",
      "200/200 [==============================] - 1s 5ms/step - loss: 0.0108 - accuracy: 0.9983\n",
      "Epoch 50/50\n",
      "200/200 [==============================] - 1s 5ms/step - loss: 0.0107 - accuracy: 0.9983\n",
      "50/50 [==============================] - 0s 3ms/step\n"
     ]
    },
    {
     "name": "stderr",
     "output_type": "stream",
     "text": [
      "WARNING:absl:Found untraced functions such as _update_step_xla while saving (showing 1 of 1). These functions will not be directly callable after loading.\n"
     ]
    },
    {
     "name": "stdout",
     "output_type": "stream",
     "text": [
      "INFO:tensorflow:Assets written to: C:\\Users\\shubh\\AppData\\Local\\Temp\\tmp6lj27sxb\\assets\n"
     ]
    },
    {
     "name": "stderr",
     "output_type": "stream",
     "text": [
      "INFO:tensorflow:Assets written to: C:\\Users\\shubh\\AppData\\Local\\Temp\\tmp6lj27sxb\\assets\n"
     ]
    },
    {
     "name": "stdout",
     "output_type": "stream",
     "text": [
      "Epoch 1/50\n",
      "200/200 [==============================] - 3s 6ms/step - loss: 0.5790 - accuracy: 0.7947\n",
      "Epoch 2/50\n",
      "200/200 [==============================] - 1s 5ms/step - loss: 0.2712 - accuracy: 0.7959\n",
      "Epoch 3/50\n",
      "200/200 [==============================] - 1s 5ms/step - loss: 0.1680 - accuracy: 0.8213\n",
      "Epoch 4/50\n",
      "200/200 [==============================] - 1s 5ms/step - loss: 0.1398 - accuracy: 0.9964\n",
      "Epoch 5/50\n",
      "200/200 [==============================] - 1s 5ms/step - loss: 0.1246 - accuracy: 0.9983\n",
      "Epoch 6/50\n",
      "200/200 [==============================] - 1s 5ms/step - loss: 0.1116 - accuracy: 0.9984\n",
      "Epoch 7/50\n",
      "200/200 [==============================] - 1s 5ms/step - loss: 0.1002 - accuracy: 0.9984\n",
      "Epoch 8/50\n",
      "200/200 [==============================] - 1s 5ms/step - loss: 0.0901 - accuracy: 0.9984\n",
      "Epoch 9/50\n",
      "200/200 [==============================] - 1s 5ms/step - loss: 0.0811 - accuracy: 0.9984\n",
      "Epoch 10/50\n",
      "200/200 [==============================] - 1s 5ms/step - loss: 0.0731 - accuracy: 0.9984\n",
      "Epoch 11/50\n",
      "200/200 [==============================] - 1s 5ms/step - loss: 0.0661 - accuracy: 0.9984\n",
      "Epoch 12/50\n",
      "200/200 [==============================] - 1s 5ms/step - loss: 0.0599 - accuracy: 0.9984\n",
      "Epoch 13/50\n",
      "200/200 [==============================] - 1s 5ms/step - loss: 0.0544 - accuracy: 0.9984\n",
      "Epoch 14/50\n",
      "200/200 [==============================] - 1s 5ms/step - loss: 0.0496 - accuracy: 0.9984\n",
      "Epoch 15/50\n",
      "200/200 [==============================] - 1s 5ms/step - loss: 0.0452 - accuracy: 0.9984\n",
      "Epoch 16/50\n",
      "200/200 [==============================] - 1s 5ms/step - loss: 0.0414 - accuracy: 0.9984\n",
      "Epoch 17/50\n",
      "200/200 [==============================] - 1s 5ms/step - loss: 0.0380 - accuracy: 0.9984\n",
      "Epoch 18/50\n",
      "200/200 [==============================] - 1s 4ms/step - loss: 0.0350 - accuracy: 0.9984\n",
      "Epoch 19/50\n",
      "200/200 [==============================] - 1s 5ms/step - loss: 0.0324 - accuracy: 0.9984\n",
      "Epoch 20/50\n",
      "200/200 [==============================] - 1s 5ms/step - loss: 0.0299 - accuracy: 0.9984\n",
      "Epoch 21/50\n",
      "200/200 [==============================] - 1s 5ms/step - loss: 0.0278 - accuracy: 0.9984\n",
      "Epoch 22/50\n",
      "200/200 [==============================] - 1s 4ms/step - loss: 0.0258 - accuracy: 0.9984\n",
      "Epoch 23/50\n",
      "200/200 [==============================] - 1s 5ms/step - loss: 0.0242 - accuracy: 0.9984\n",
      "Epoch 24/50\n",
      "200/200 [==============================] - 1s 5ms/step - loss: 0.0226 - accuracy: 0.9984\n",
      "Epoch 25/50\n",
      "200/200 [==============================] - 1s 6ms/step - loss: 0.0212 - accuracy: 0.9984\n",
      "Epoch 26/50\n",
      "200/200 [==============================] - 1s 5ms/step - loss: 0.0200 - accuracy: 0.9984\n",
      "Epoch 27/50\n",
      "200/200 [==============================] - 1s 5ms/step - loss: 0.0189 - accuracy: 0.9984\n",
      "Epoch 28/50\n",
      "200/200 [==============================] - 1s 5ms/step - loss: 0.0179 - accuracy: 0.9984\n",
      "Epoch 29/50\n",
      "200/200 [==============================] - 1s 5ms/step - loss: 0.0169 - accuracy: 0.9984\n",
      "Epoch 30/50\n",
      "200/200 [==============================] - 1s 5ms/step - loss: 0.0162 - accuracy: 0.9984\n",
      "Epoch 31/50\n",
      "200/200 [==============================] - 1s 5ms/step - loss: 0.0154 - accuracy: 0.9984\n",
      "Epoch 32/50\n",
      "200/200 [==============================] - 1s 5ms/step - loss: 0.0148 - accuracy: 0.9984\n",
      "Epoch 33/50\n",
      "200/200 [==============================] - 1s 5ms/step - loss: 0.0142 - accuracy: 0.9984\n",
      "Epoch 34/50\n",
      "200/200 [==============================] - 1s 5ms/step - loss: 0.0136 - accuracy: 0.9984\n",
      "Epoch 35/50\n",
      "200/200 [==============================] - 1s 5ms/step - loss: 0.0132 - accuracy: 0.9984\n",
      "Epoch 36/50\n",
      "200/200 [==============================] - 1s 5ms/step - loss: 0.0128 - accuracy: 0.9984\n",
      "Epoch 37/50\n",
      "200/200 [==============================] - 1s 5ms/step - loss: 0.0124 - accuracy: 0.9984\n",
      "Epoch 38/50\n",
      "200/200 [==============================] - 1s 5ms/step - loss: 0.0121 - accuracy: 0.9984\n",
      "Epoch 39/50\n",
      "200/200 [==============================] - 1s 5ms/step - loss: 0.0118 - accuracy: 0.9984\n",
      "Epoch 40/50\n",
      "200/200 [==============================] - 1s 5ms/step - loss: 0.0115 - accuracy: 0.9984\n",
      "Epoch 41/50\n",
      "200/200 [==============================] - 1s 5ms/step - loss: 0.0113 - accuracy: 0.9984\n",
      "Epoch 42/50\n",
      "200/200 [==============================] - 1s 5ms/step - loss: 0.0110 - accuracy: 0.9984\n",
      "Epoch 43/50\n",
      "200/200 [==============================] - 1s 5ms/step - loss: 0.0108 - accuracy: 0.9984\n",
      "Epoch 44/50\n",
      "200/200 [==============================] - 1s 5ms/step - loss: 0.0106 - accuracy: 0.9984\n",
      "Epoch 45/50\n",
      "200/200 [==============================] - 1s 5ms/step - loss: 0.0105 - accuracy: 0.9984\n",
      "Epoch 46/50\n",
      "200/200 [==============================] - 1s 5ms/step - loss: 0.0104 - accuracy: 0.9984\n",
      "Epoch 47/50\n",
      "200/200 [==============================] - 1s 5ms/step - loss: 0.0102 - accuracy: 0.9984\n",
      "Epoch 48/50\n",
      "200/200 [==============================] - 1s 7ms/step - loss: 0.0101 - accuracy: 0.9984\n",
      "Epoch 49/50\n",
      "200/200 [==============================] - 1s 5ms/step - loss: 0.0101 - accuracy: 0.9984\n",
      "Epoch 50/50\n",
      "200/200 [==============================] - 1s 5ms/step - loss: 0.0099 - accuracy: 0.9984\n",
      "50/50 [==============================] - 0s 4ms/step\n"
     ]
    },
    {
     "name": "stderr",
     "output_type": "stream",
     "text": [
      "WARNING:absl:Found untraced functions such as _update_step_xla while saving (showing 1 of 1). These functions will not be directly callable after loading.\n"
     ]
    },
    {
     "name": "stdout",
     "output_type": "stream",
     "text": [
      "INFO:tensorflow:Assets written to: C:\\Users\\shubh\\AppData\\Local\\Temp\\tmpm47356tt\\assets\n"
     ]
    },
    {
     "name": "stderr",
     "output_type": "stream",
     "text": [
      "INFO:tensorflow:Assets written to: C:\\Users\\shubh\\AppData\\Local\\Temp\\tmpm47356tt\\assets\n"
     ]
    },
    {
     "name": "stdout",
     "output_type": "stream",
     "text": [
      "WARNING:tensorflow:Detecting that an object or model or tf.train.Checkpoint is being deleted with unrestored values. See the following logs for the specific values in question. To silence these warnings, use `status.expect_partial()`. See https://www.tensorflow.org/api_docs/python/tf/train/Checkpoint#restorefor details about the status object returned by the restore function.\n"
     ]
    },
    {
     "name": "stderr",
     "output_type": "stream",
     "text": [
      "WARNING:tensorflow:Detecting that an object or model or tf.train.Checkpoint is being deleted with unrestored values. See the following logs for the specific values in question. To silence these warnings, use `status.expect_partial()`. See https://www.tensorflow.org/api_docs/python/tf/train/Checkpoint#restorefor details about the status object returned by the restore function.\n"
     ]
    },
    {
     "name": "stdout",
     "output_type": "stream",
     "text": [
      "WARNING:tensorflow:Value in checkpoint could not be found in the restored object: (root).keras_api.metrics.0.total\n"
     ]
    },
    {
     "name": "stderr",
     "output_type": "stream",
     "text": [
      "WARNING:tensorflow:Value in checkpoint could not be found in the restored object: (root).keras_api.metrics.0.total\n"
     ]
    },
    {
     "name": "stdout",
     "output_type": "stream",
     "text": [
      "WARNING:tensorflow:Value in checkpoint could not be found in the restored object: (root).keras_api.metrics.0.count\n"
     ]
    },
    {
     "name": "stderr",
     "output_type": "stream",
     "text": [
      "WARNING:tensorflow:Value in checkpoint could not be found in the restored object: (root).keras_api.metrics.0.count\n"
     ]
    },
    {
     "name": "stdout",
     "output_type": "stream",
     "text": [
      "WARNING:tensorflow:Value in checkpoint could not be found in the restored object: (root).keras_api.metrics.1.total\n"
     ]
    },
    {
     "name": "stderr",
     "output_type": "stream",
     "text": [
      "WARNING:tensorflow:Value in checkpoint could not be found in the restored object: (root).keras_api.metrics.1.total\n"
     ]
    },
    {
     "name": "stdout",
     "output_type": "stream",
     "text": [
      "WARNING:tensorflow:Value in checkpoint could not be found in the restored object: (root).keras_api.metrics.1.count\n"
     ]
    },
    {
     "name": "stderr",
     "output_type": "stream",
     "text": [
      "WARNING:tensorflow:Value in checkpoint could not be found in the restored object: (root).keras_api.metrics.1.count\n"
     ]
    },
    {
     "name": "stdout",
     "output_type": "stream",
     "text": [
      "WARNING:tensorflow:Detecting that an object or model or tf.train.Checkpoint is being deleted with unrestored values. See the following logs for the specific values in question. To silence these warnings, use `status.expect_partial()`. See https://www.tensorflow.org/api_docs/python/tf/train/Checkpoint#restorefor details about the status object returned by the restore function.\n"
     ]
    },
    {
     "name": "stderr",
     "output_type": "stream",
     "text": [
      "WARNING:tensorflow:Detecting that an object or model or tf.train.Checkpoint is being deleted with unrestored values. See the following logs for the specific values in question. To silence these warnings, use `status.expect_partial()`. See https://www.tensorflow.org/api_docs/python/tf/train/Checkpoint#restorefor details about the status object returned by the restore function.\n"
     ]
    },
    {
     "name": "stdout",
     "output_type": "stream",
     "text": [
      "WARNING:tensorflow:Value in checkpoint could not be found in the restored object: (root).keras_api.metrics.0.total\n"
     ]
    },
    {
     "name": "stderr",
     "output_type": "stream",
     "text": [
      "WARNING:tensorflow:Value in checkpoint could not be found in the restored object: (root).keras_api.metrics.0.total\n"
     ]
    },
    {
     "name": "stdout",
     "output_type": "stream",
     "text": [
      "WARNING:tensorflow:Value in checkpoint could not be found in the restored object: (root).keras_api.metrics.0.count\n"
     ]
    },
    {
     "name": "stderr",
     "output_type": "stream",
     "text": [
      "WARNING:tensorflow:Value in checkpoint could not be found in the restored object: (root).keras_api.metrics.0.count\n"
     ]
    },
    {
     "name": "stdout",
     "output_type": "stream",
     "text": [
      "WARNING:tensorflow:Value in checkpoint could not be found in the restored object: (root).keras_api.metrics.1.total\n"
     ]
    },
    {
     "name": "stderr",
     "output_type": "stream",
     "text": [
      "WARNING:tensorflow:Value in checkpoint could not be found in the restored object: (root).keras_api.metrics.1.total\n"
     ]
    },
    {
     "name": "stdout",
     "output_type": "stream",
     "text": [
      "WARNING:tensorflow:Value in checkpoint could not be found in the restored object: (root).keras_api.metrics.1.count\n"
     ]
    },
    {
     "name": "stderr",
     "output_type": "stream",
     "text": [
      "WARNING:tensorflow:Value in checkpoint could not be found in the restored object: (root).keras_api.metrics.1.count\n"
     ]
    },
    {
     "name": "stdout",
     "output_type": "stream",
     "text": [
      "WARNING:tensorflow:Detecting that an object or model or tf.train.Checkpoint is being deleted with unrestored values. See the following logs for the specific values in question. To silence these warnings, use `status.expect_partial()`. See https://www.tensorflow.org/api_docs/python/tf/train/Checkpoint#restorefor details about the status object returned by the restore function.\n"
     ]
    },
    {
     "name": "stderr",
     "output_type": "stream",
     "text": [
      "WARNING:tensorflow:Detecting that an object or model or tf.train.Checkpoint is being deleted with unrestored values. See the following logs for the specific values in question. To silence these warnings, use `status.expect_partial()`. See https://www.tensorflow.org/api_docs/python/tf/train/Checkpoint#restorefor details about the status object returned by the restore function.\n"
     ]
    },
    {
     "name": "stdout",
     "output_type": "stream",
     "text": [
      "WARNING:tensorflow:Value in checkpoint could not be found in the restored object: (root).keras_api.metrics.0.total\n"
     ]
    },
    {
     "name": "stderr",
     "output_type": "stream",
     "text": [
      "WARNING:tensorflow:Value in checkpoint could not be found in the restored object: (root).keras_api.metrics.0.total\n"
     ]
    },
    {
     "name": "stdout",
     "output_type": "stream",
     "text": [
      "WARNING:tensorflow:Value in checkpoint could not be found in the restored object: (root).keras_api.metrics.0.count\n"
     ]
    },
    {
     "name": "stderr",
     "output_type": "stream",
     "text": [
      "WARNING:tensorflow:Value in checkpoint could not be found in the restored object: (root).keras_api.metrics.0.count\n"
     ]
    },
    {
     "name": "stdout",
     "output_type": "stream",
     "text": [
      "WARNING:tensorflow:Value in checkpoint could not be found in the restored object: (root).keras_api.metrics.1.total\n"
     ]
    },
    {
     "name": "stderr",
     "output_type": "stream",
     "text": [
      "WARNING:tensorflow:Value in checkpoint could not be found in the restored object: (root).keras_api.metrics.1.total\n"
     ]
    },
    {
     "name": "stdout",
     "output_type": "stream",
     "text": [
      "WARNING:tensorflow:Value in checkpoint could not be found in the restored object: (root).keras_api.metrics.1.count\n"
     ]
    },
    {
     "name": "stderr",
     "output_type": "stream",
     "text": [
      "WARNING:tensorflow:Value in checkpoint could not be found in the restored object: (root).keras_api.metrics.1.count\n"
     ]
    },
    {
     "name": "stdout",
     "output_type": "stream",
     "text": [
      "WARNING:tensorflow:Detecting that an object or model or tf.train.Checkpoint is being deleted with unrestored values. See the following logs for the specific values in question. To silence these warnings, use `status.expect_partial()`. See https://www.tensorflow.org/api_docs/python/tf/train/Checkpoint#restorefor details about the status object returned by the restore function.\n"
     ]
    },
    {
     "name": "stderr",
     "output_type": "stream",
     "text": [
      "WARNING:tensorflow:Detecting that an object or model or tf.train.Checkpoint is being deleted with unrestored values. See the following logs for the specific values in question. To silence these warnings, use `status.expect_partial()`. See https://www.tensorflow.org/api_docs/python/tf/train/Checkpoint#restorefor details about the status object returned by the restore function.\n"
     ]
    },
    {
     "name": "stdout",
     "output_type": "stream",
     "text": [
      "WARNING:tensorflow:Value in checkpoint could not be found in the restored object: (root).keras_api.metrics.0.total\n"
     ]
    },
    {
     "name": "stderr",
     "output_type": "stream",
     "text": [
      "WARNING:tensorflow:Value in checkpoint could not be found in the restored object: (root).keras_api.metrics.0.total\n"
     ]
    },
    {
     "name": "stdout",
     "output_type": "stream",
     "text": [
      "WARNING:tensorflow:Value in checkpoint could not be found in the restored object: (root).keras_api.metrics.0.count\n"
     ]
    },
    {
     "name": "stderr",
     "output_type": "stream",
     "text": [
      "WARNING:tensorflow:Value in checkpoint could not be found in the restored object: (root).keras_api.metrics.0.count\n"
     ]
    },
    {
     "name": "stdout",
     "output_type": "stream",
     "text": [
      "WARNING:tensorflow:Value in checkpoint could not be found in the restored object: (root).keras_api.metrics.1.total\n"
     ]
    },
    {
     "name": "stderr",
     "output_type": "stream",
     "text": [
      "WARNING:tensorflow:Value in checkpoint could not be found in the restored object: (root).keras_api.metrics.1.total\n"
     ]
    },
    {
     "name": "stdout",
     "output_type": "stream",
     "text": [
      "WARNING:tensorflow:Value in checkpoint could not be found in the restored object: (root).keras_api.metrics.1.count\n"
     ]
    },
    {
     "name": "stderr",
     "output_type": "stream",
     "text": [
      "WARNING:tensorflow:Value in checkpoint could not be found in the restored object: (root).keras_api.metrics.1.count\n"
     ]
    },
    {
     "name": "stdout",
     "output_type": "stream",
     "text": [
      "WARNING:tensorflow:Detecting that an object or model or tf.train.Checkpoint is being deleted with unrestored values. See the following logs for the specific values in question. To silence these warnings, use `status.expect_partial()`. See https://www.tensorflow.org/api_docs/python/tf/train/Checkpoint#restorefor details about the status object returned by the restore function.\n"
     ]
    },
    {
     "name": "stderr",
     "output_type": "stream",
     "text": [
      "WARNING:tensorflow:Detecting that an object or model or tf.train.Checkpoint is being deleted with unrestored values. See the following logs for the specific values in question. To silence these warnings, use `status.expect_partial()`. See https://www.tensorflow.org/api_docs/python/tf/train/Checkpoint#restorefor details about the status object returned by the restore function.\n"
     ]
    },
    {
     "name": "stdout",
     "output_type": "stream",
     "text": [
      "WARNING:tensorflow:Value in checkpoint could not be found in the restored object: (root).keras_api.metrics.0.total\n"
     ]
    },
    {
     "name": "stderr",
     "output_type": "stream",
     "text": [
      "WARNING:tensorflow:Value in checkpoint could not be found in the restored object: (root).keras_api.metrics.0.total\n"
     ]
    },
    {
     "name": "stdout",
     "output_type": "stream",
     "text": [
      "WARNING:tensorflow:Value in checkpoint could not be found in the restored object: (root).keras_api.metrics.0.count\n"
     ]
    },
    {
     "name": "stderr",
     "output_type": "stream",
     "text": [
      "WARNING:tensorflow:Value in checkpoint could not be found in the restored object: (root).keras_api.metrics.0.count\n"
     ]
    },
    {
     "name": "stdout",
     "output_type": "stream",
     "text": [
      "WARNING:tensorflow:Value in checkpoint could not be found in the restored object: (root).keras_api.metrics.1.total\n"
     ]
    },
    {
     "name": "stderr",
     "output_type": "stream",
     "text": [
      "WARNING:tensorflow:Value in checkpoint could not be found in the restored object: (root).keras_api.metrics.1.total\n"
     ]
    },
    {
     "name": "stdout",
     "output_type": "stream",
     "text": [
      "WARNING:tensorflow:Value in checkpoint could not be found in the restored object: (root).keras_api.metrics.1.count\n"
     ]
    },
    {
     "name": "stderr",
     "output_type": "stream",
     "text": [
      "WARNING:tensorflow:Value in checkpoint could not be found in the restored object: (root).keras_api.metrics.1.count\n"
     ]
    },
    {
     "name": "stdout",
     "output_type": "stream",
     "text": [
      "Epoch 1/50\n",
      "200/200 [==============================] - 3s 5ms/step - loss: 0.5805 - accuracy: 0.7947\n",
      "Epoch 2/50\n",
      "200/200 [==============================] - 1s 5ms/step - loss: 0.2667 - accuracy: 0.7959\n",
      "Epoch 3/50\n",
      "200/200 [==============================] - 1s 5ms/step - loss: 0.1365 - accuracy: 0.9677\n",
      "Epoch 4/50\n",
      "200/200 [==============================] - 1s 5ms/step - loss: 0.0827 - accuracy: 0.9980\n",
      "Epoch 5/50\n",
      "200/200 [==============================] - 1s 5ms/step - loss: 0.0536 - accuracy: 0.9980\n",
      "Epoch 6/50\n",
      "200/200 [==============================] - 1s 5ms/step - loss: 0.0369 - accuracy: 0.9980\n",
      "Epoch 7/50\n",
      "200/200 [==============================] - 1s 5ms/step - loss: 0.0273 - accuracy: 0.9980\n",
      "Epoch 8/50\n",
      "200/200 [==============================] - 1s 5ms/step - loss: 0.0218 - accuracy: 0.9980\n",
      "Epoch 9/50\n",
      "200/200 [==============================] - 1s 5ms/step - loss: 0.0183 - accuracy: 0.9980\n",
      "Epoch 10/50\n",
      "200/200 [==============================] - 1s 5ms/step - loss: 0.0161 - accuracy: 0.9980\n",
      "Epoch 11/50\n",
      "200/200 [==============================] - 1s 5ms/step - loss: 0.0147 - accuracy: 0.9980\n",
      "Epoch 12/50\n",
      "200/200 [==============================] - 1s 5ms/step - loss: 0.0137 - accuracy: 0.9980\n",
      "Epoch 13/50\n",
      "200/200 [==============================] - 1s 5ms/step - loss: 0.0130 - accuracy: 0.9980\n",
      "Epoch 14/50\n",
      "200/200 [==============================] - 1s 5ms/step - loss: 0.0124 - accuracy: 0.9980\n",
      "Epoch 15/50\n",
      "200/200 [==============================] - 1s 5ms/step - loss: 0.0120 - accuracy: 0.9980\n",
      "Epoch 16/50\n",
      "200/200 [==============================] - 1s 5ms/step - loss: 0.0117 - accuracy: 0.9980\n",
      "Epoch 17/50\n",
      "200/200 [==============================] - 1s 5ms/step - loss: 0.0115 - accuracy: 0.9980\n",
      "Epoch 18/50\n",
      "200/200 [==============================] - 1s 5ms/step - loss: 0.0112 - accuracy: 0.9980\n",
      "Epoch 19/50\n",
      "200/200 [==============================] - 1s 5ms/step - loss: 0.0110 - accuracy: 0.9980\n",
      "Epoch 20/50\n",
      "200/200 [==============================] - 1s 5ms/step - loss: 0.0109 - accuracy: 0.9980\n",
      "Epoch 21/50\n",
      "200/200 [==============================] - 1s 5ms/step - loss: 0.0108 - accuracy: 0.9980\n",
      "Epoch 22/50\n",
      "200/200 [==============================] - 1s 6ms/step - loss: 0.0107 - accuracy: 0.9980\n",
      "Epoch 23/50\n",
      "200/200 [==============================] - 1s 5ms/step - loss: 0.0107 - accuracy: 0.9980\n",
      "Epoch 24/50\n",
      "200/200 [==============================] - 1s 5ms/step - loss: 0.0105 - accuracy: 0.9980\n",
      "Epoch 25/50\n",
      "200/200 [==============================] - 1s 5ms/step - loss: 0.0103 - accuracy: 0.9981\n",
      "Epoch 26/50\n",
      "200/200 [==============================] - 1s 5ms/step - loss: 0.0103 - accuracy: 0.9980\n",
      "Epoch 27/50\n",
      "200/200 [==============================] - 1s 5ms/step - loss: 0.0102 - accuracy: 0.9980\n",
      "Epoch 28/50\n",
      "200/200 [==============================] - 1s 5ms/step - loss: 0.0100 - accuracy: 0.9981\n",
      "Epoch 29/50\n",
      "200/200 [==============================] - 1s 5ms/step - loss: 0.0102 - accuracy: 0.9980\n",
      "Epoch 30/50\n",
      "200/200 [==============================] - 1s 5ms/step - loss: 0.0101 - accuracy: 0.9981\n",
      "Epoch 31/50\n",
      "200/200 [==============================] - 1s 5ms/step - loss: 0.0100 - accuracy: 0.9980\n",
      "Epoch 32/50\n",
      "200/200 [==============================] - 1s 5ms/step - loss: 0.0099 - accuracy: 0.9981\n",
      "Epoch 33/50\n",
      "200/200 [==============================] - 1s 5ms/step - loss: 0.0098 - accuracy: 0.9980\n",
      "Epoch 34/50\n",
      "200/200 [==============================] - 1s 5ms/step - loss: 0.0099 - accuracy: 0.9980\n",
      "Epoch 35/50\n",
      "200/200 [==============================] - 1s 5ms/step - loss: 0.0097 - accuracy: 0.9980\n",
      "Epoch 36/50\n",
      "200/200 [==============================] - 1s 4ms/step - loss: 0.0096 - accuracy: 0.9981\n",
      "Epoch 37/50\n",
      "200/200 [==============================] - 1s 5ms/step - loss: 0.0094 - accuracy: 0.9980\n",
      "Epoch 38/50\n",
      "200/200 [==============================] - 1s 6ms/step - loss: 0.0094 - accuracy: 0.9981\n",
      "Epoch 39/50\n",
      "200/200 [==============================] - 1s 6ms/step - loss: 0.0095 - accuracy: 0.9981\n",
      "Epoch 40/50\n",
      "200/200 [==============================] - 1s 6ms/step - loss: 0.0093 - accuracy: 0.9980\n",
      "Epoch 41/50\n",
      "200/200 [==============================] - 1s 7ms/step - loss: 0.0093 - accuracy: 0.9981\n",
      "Epoch 42/50\n",
      "200/200 [==============================] - 1s 5ms/step - loss: 0.0091 - accuracy: 0.9983\n",
      "Epoch 43/50\n",
      "200/200 [==============================] - 1s 5ms/step - loss: 0.0092 - accuracy: 0.9980\n",
      "Epoch 44/50\n",
      "200/200 [==============================] - 1s 5ms/step - loss: 0.0092 - accuracy: 0.9981\n",
      "Epoch 45/50\n",
      "200/200 [==============================] - 1s 5ms/step - loss: 0.0091 - accuracy: 0.9981\n",
      "Epoch 46/50\n",
      "200/200 [==============================] - 1s 5ms/step - loss: 0.0089 - accuracy: 0.9983\n",
      "Epoch 47/50\n",
      "200/200 [==============================] - 1s 5ms/step - loss: 0.0090 - accuracy: 0.9981\n",
      "Epoch 48/50\n",
      "200/200 [==============================] - 1s 5ms/step - loss: 0.0090 - accuracy: 0.9981\n",
      "Epoch 49/50\n",
      "200/200 [==============================] - 1s 5ms/step - loss: 0.0089 - accuracy: 0.9983\n",
      "Epoch 50/50\n",
      "200/200 [==============================] - 1s 5ms/step - loss: 0.0088 - accuracy: 0.9983\n",
      "50/50 [==============================] - 0s 4ms/step\n"
     ]
    },
    {
     "name": "stderr",
     "output_type": "stream",
     "text": [
      "WARNING:absl:Found untraced functions such as _update_step_xla while saving (showing 1 of 1). These functions will not be directly callable after loading.\n"
     ]
    },
    {
     "name": "stdout",
     "output_type": "stream",
     "text": [
      "INFO:tensorflow:Assets written to: C:\\Users\\shubh\\AppData\\Local\\Temp\\tmp1z4afx2k\\assets\n"
     ]
    },
    {
     "name": "stderr",
     "output_type": "stream",
     "text": [
      "INFO:tensorflow:Assets written to: C:\\Users\\shubh\\AppData\\Local\\Temp\\tmp1z4afx2k\\assets\n"
     ]
    },
    {
     "name": "stdout",
     "output_type": "stream",
     "text": [
      "Epoch 1/100\n",
      "200/200 [==============================] - 3s 5ms/step - loss: 0.5791 - accuracy: 0.7941\n",
      "Epoch 2/100\n",
      "200/200 [==============================] - 1s 5ms/step - loss: 0.2703 - accuracy: 0.7958\n",
      "Epoch 3/100\n",
      "200/200 [==============================] - 1s 5ms/step - loss: 0.1671 - accuracy: 0.8225\n",
      "Epoch 4/100\n",
      "200/200 [==============================] - 1s 5ms/step - loss: 0.1389 - accuracy: 0.9967\n",
      "Epoch 5/100\n",
      "200/200 [==============================] - 1s 5ms/step - loss: 0.1235 - accuracy: 0.9987\n",
      "Epoch 6/100\n",
      "200/200 [==============================] - 1s 5ms/step - loss: 0.1103 - accuracy: 0.9987\n",
      "Epoch 7/100\n",
      "200/200 [==============================] - 1s 5ms/step - loss: 0.0988 - accuracy: 0.9987\n",
      "Epoch 8/100\n",
      "200/200 [==============================] - 1s 5ms/step - loss: 0.0886 - accuracy: 0.9987\n",
      "Epoch 9/100\n",
      "200/200 [==============================] - 1s 5ms/step - loss: 0.0796 - accuracy: 0.9987\n",
      "Epoch 10/100\n",
      "200/200 [==============================] - 1s 5ms/step - loss: 0.0716 - accuracy: 0.9987\n",
      "Epoch 11/100\n",
      "200/200 [==============================] - 1s 5ms/step - loss: 0.0645 - accuracy: 0.9987\n",
      "Epoch 12/100\n",
      "200/200 [==============================] - 1s 5ms/step - loss: 0.0582 - accuracy: 0.9987\n",
      "Epoch 13/100\n",
      "200/200 [==============================] - 1s 5ms/step - loss: 0.0527 - accuracy: 0.9987\n",
      "Epoch 14/100\n",
      "200/200 [==============================] - 1s 5ms/step - loss: 0.0478 - accuracy: 0.9987\n",
      "Epoch 15/100\n",
      "200/200 [==============================] - 1s 5ms/step - loss: 0.0434 - accuracy: 0.9987\n",
      "Epoch 16/100\n",
      "200/200 [==============================] - 1s 5ms/step - loss: 0.0396 - accuracy: 0.9987\n",
      "Epoch 17/100\n",
      "200/200 [==============================] - 1s 5ms/step - loss: 0.0361 - accuracy: 0.9987\n",
      "Epoch 18/100\n",
      "200/200 [==============================] - 1s 5ms/step - loss: 0.0331 - accuracy: 0.9987\n",
      "Epoch 19/100\n",
      "200/200 [==============================] - 1s 5ms/step - loss: 0.0303 - accuracy: 0.9987\n",
      "Epoch 20/100\n",
      "200/200 [==============================] - 1s 5ms/step - loss: 0.0279 - accuracy: 0.9987\n",
      "Epoch 21/100\n",
      "200/200 [==============================] - 1s 5ms/step - loss: 0.0257 - accuracy: 0.9987\n",
      "Epoch 22/100\n",
      "200/200 [==============================] - 1s 5ms/step - loss: 0.0238 - accuracy: 0.9987\n",
      "Epoch 23/100\n",
      "200/200 [==============================] - 1s 5ms/step - loss: 0.0220 - accuracy: 0.9987\n",
      "Epoch 24/100\n",
      "200/200 [==============================] - 1s 5ms/step - loss: 0.0205 - accuracy: 0.9989\n",
      "Epoch 25/100\n",
      "200/200 [==============================] - 1s 5ms/step - loss: 0.0191 - accuracy: 0.9987\n",
      "Epoch 26/100\n",
      "200/200 [==============================] - 1s 5ms/step - loss: 0.0178 - accuracy: 0.9989\n",
      "Epoch 27/100\n",
      "200/200 [==============================] - 1s 5ms/step - loss: 0.0166 - accuracy: 0.9989\n",
      "Epoch 28/100\n",
      "200/200 [==============================] - 1s 5ms/step - loss: 0.0157 - accuracy: 0.9989\n",
      "Epoch 29/100\n",
      "200/200 [==============================] - 1s 5ms/step - loss: 0.0147 - accuracy: 0.9987\n",
      "Epoch 30/100\n",
      "200/200 [==============================] - 1s 5ms/step - loss: 0.0139 - accuracy: 0.9989\n",
      "Epoch 31/100\n",
      "200/200 [==============================] - 1s 5ms/step - loss: 0.0132 - accuracy: 0.9987\n",
      "Epoch 32/100\n",
      "200/200 [==============================] - 1s 5ms/step - loss: 0.0125 - accuracy: 0.9989\n",
      "Epoch 33/100\n",
      "200/200 [==============================] - 1s 5ms/step - loss: 0.0119 - accuracy: 0.9989\n",
      "Epoch 34/100\n",
      "200/200 [==============================] - 1s 5ms/step - loss: 0.0114 - accuracy: 0.9989\n",
      "Epoch 35/100\n",
      "200/200 [==============================] - 1s 5ms/step - loss: 0.0109 - accuracy: 0.9989\n",
      "Epoch 36/100\n",
      "200/200 [==============================] - 1s 5ms/step - loss: 0.0104 - accuracy: 0.9989\n",
      "Epoch 37/100\n",
      "200/200 [==============================] - 1s 7ms/step - loss: 0.0100 - accuracy: 0.9989\n",
      "Epoch 38/100\n",
      "200/200 [==============================] - 1s 5ms/step - loss: 0.0097 - accuracy: 0.9989\n",
      "Epoch 39/100\n",
      "200/200 [==============================] - 1s 4ms/step - loss: 0.0093 - accuracy: 0.9989\n",
      "Epoch 40/100\n",
      "200/200 [==============================] - 1s 5ms/step - loss: 0.0091 - accuracy: 0.9989\n",
      "Epoch 41/100\n",
      "200/200 [==============================] - 1s 5ms/step - loss: 0.0088 - accuracy: 0.9989\n",
      "Epoch 42/100\n",
      "200/200 [==============================] - 1s 4ms/step - loss: 0.0086 - accuracy: 0.9989\n",
      "Epoch 43/100\n",
      "200/200 [==============================] - 1s 5ms/step - loss: 0.0084 - accuracy: 0.9989\n",
      "Epoch 44/100\n",
      "200/200 [==============================] - 1s 5ms/step - loss: 0.0082 - accuracy: 0.9989\n",
      "Epoch 45/100\n",
      "200/200 [==============================] - 1s 5ms/step - loss: 0.0080 - accuracy: 0.9989\n",
      "Epoch 46/100\n",
      "200/200 [==============================] - 1s 5ms/step - loss: 0.0079 - accuracy: 0.9989\n",
      "Epoch 47/100\n",
      "200/200 [==============================] - 1s 5ms/step - loss: 0.0078 - accuracy: 0.9989\n",
      "Epoch 48/100\n",
      "200/200 [==============================] - 1s 5ms/step - loss: 0.0077 - accuracy: 0.9989\n",
      "Epoch 49/100\n",
      "200/200 [==============================] - 1s 5ms/step - loss: 0.0076 - accuracy: 0.9989\n",
      "Epoch 50/100\n",
      "200/200 [==============================] - 1s 5ms/step - loss: 0.0075 - accuracy: 0.9989\n",
      "Epoch 51/100\n",
      "200/200 [==============================] - 1s 5ms/step - loss: 0.0074 - accuracy: 0.9989\n",
      "Epoch 52/100\n",
      "200/200 [==============================] - 1s 5ms/step - loss: 0.0074 - accuracy: 0.9989\n",
      "Epoch 53/100\n",
      "200/200 [==============================] - 1s 5ms/step - loss: 0.0073 - accuracy: 0.9989\n",
      "Epoch 54/100\n",
      "200/200 [==============================] - 1s 5ms/step - loss: 0.0072 - accuracy: 0.9989\n",
      "Epoch 55/100\n",
      "200/200 [==============================] - 1s 5ms/step - loss: 0.0072 - accuracy: 0.9989\n",
      "Epoch 56/100\n",
      "200/200 [==============================] - 1s 5ms/step - loss: 0.0072 - accuracy: 0.9989\n",
      "Epoch 57/100\n",
      "200/200 [==============================] - 1s 5ms/step - loss: 0.0071 - accuracy: 0.9989\n",
      "Epoch 58/100\n",
      "200/200 [==============================] - 1s 5ms/step - loss: 0.0071 - accuracy: 0.9989\n",
      "Epoch 59/100\n",
      "200/200 [==============================] - 1s 5ms/step - loss: 0.0071 - accuracy: 0.9989\n",
      "Epoch 60/100\n",
      "200/200 [==============================] - 1s 5ms/step - loss: 0.0070 - accuracy: 0.9989\n",
      "Epoch 61/100\n",
      "200/200 [==============================] - 1s 6ms/step - loss: 0.0070 - accuracy: 0.9989\n",
      "Epoch 62/100\n",
      "200/200 [==============================] - 1s 5ms/step - loss: 0.0070 - accuracy: 0.9989\n",
      "Epoch 63/100\n",
      "200/200 [==============================] - 1s 5ms/step - loss: 0.0070 - accuracy: 0.9989\n",
      "Epoch 64/100\n",
      "200/200 [==============================] - 1s 5ms/step - loss: 0.0070 - accuracy: 0.9989\n",
      "Epoch 65/100\n",
      "200/200 [==============================] - 1s 5ms/step - loss: 0.0070 - accuracy: 0.9989\n",
      "Epoch 66/100\n",
      "200/200 [==============================] - 1s 5ms/step - loss: 0.0069 - accuracy: 0.9989\n",
      "Epoch 67/100\n",
      "200/200 [==============================] - 1s 5ms/step - loss: 0.0069 - accuracy: 0.9989\n",
      "Epoch 68/100\n",
      "200/200 [==============================] - 1s 5ms/step - loss: 0.0069 - accuracy: 0.9989\n",
      "Epoch 69/100\n",
      "200/200 [==============================] - 1s 5ms/step - loss: 0.0069 - accuracy: 0.9989\n",
      "Epoch 70/100\n",
      "200/200 [==============================] - 1s 5ms/step - loss: 0.0069 - accuracy: 0.9989\n",
      "Epoch 71/100\n",
      "200/200 [==============================] - 1s 5ms/step - loss: 0.0069 - accuracy: 0.9989\n",
      "Epoch 72/100\n",
      "200/200 [==============================] - 1s 5ms/step - loss: 0.0069 - accuracy: 0.9989\n",
      "Epoch 73/100\n",
      "200/200 [==============================] - 1s 5ms/step - loss: 0.0069 - accuracy: 0.9989\n",
      "Epoch 74/100\n",
      "200/200 [==============================] - 1s 5ms/step - loss: 0.0069 - accuracy: 0.9989\n",
      "Epoch 75/100\n",
      "200/200 [==============================] - 1s 5ms/step - loss: 0.0069 - accuracy: 0.9989\n",
      "Epoch 76/100\n",
      "200/200 [==============================] - 1s 5ms/step - loss: 0.0069 - accuracy: 0.9989\n",
      "Epoch 77/100\n",
      "200/200 [==============================] - 1s 5ms/step - loss: 0.0069 - accuracy: 0.9989\n",
      "Epoch 78/100\n",
      "200/200 [==============================] - 1s 5ms/step - loss: 0.0069 - accuracy: 0.9989\n",
      "Epoch 79/100\n",
      "200/200 [==============================] - 1s 6ms/step - loss: 0.0069 - accuracy: 0.9989\n",
      "Epoch 80/100\n",
      "200/200 [==============================] - 1s 6ms/step - loss: 0.0069 - accuracy: 0.9989\n",
      "Epoch 81/100\n",
      "200/200 [==============================] - 1s 5ms/step - loss: 0.0068 - accuracy: 0.9989\n",
      "Epoch 82/100\n",
      "200/200 [==============================] - 1s 5ms/step - loss: 0.0068 - accuracy: 0.9989\n",
      "Epoch 83/100\n",
      "200/200 [==============================] - 1s 5ms/step - loss: 0.0068 - accuracy: 0.9989\n",
      "Epoch 84/100\n",
      "200/200 [==============================] - 1s 5ms/step - loss: 0.0068 - accuracy: 0.9989\n",
      "Epoch 85/100\n",
      "200/200 [==============================] - 1s 5ms/step - loss: 0.0068 - accuracy: 0.9989\n",
      "Epoch 86/100\n",
      "200/200 [==============================] - 1s 5ms/step - loss: 0.0068 - accuracy: 0.9989\n",
      "Epoch 87/100\n",
      "200/200 [==============================] - 1s 5ms/step - loss: 0.0068 - accuracy: 0.9989\n",
      "Epoch 88/100\n",
      "200/200 [==============================] - 1s 5ms/step - loss: 0.0068 - accuracy: 0.9989\n",
      "Epoch 89/100\n",
      "200/200 [==============================] - 1s 5ms/step - loss: 0.0068 - accuracy: 0.9989\n",
      "Epoch 90/100\n",
      "200/200 [==============================] - 1s 5ms/step - loss: 0.0068 - accuracy: 0.9989\n",
      "Epoch 91/100\n",
      "200/200 [==============================] - 1s 4ms/step - loss: 0.0068 - accuracy: 0.9989\n",
      "Epoch 92/100\n",
      "200/200 [==============================] - 1s 5ms/step - loss: 0.0068 - accuracy: 0.9989\n",
      "Epoch 93/100\n",
      "200/200 [==============================] - 1s 5ms/step - loss: 0.0068 - accuracy: 0.9989\n",
      "Epoch 94/100\n",
      "200/200 [==============================] - 1s 5ms/step - loss: 0.0068 - accuracy: 0.9989\n",
      "Epoch 95/100\n",
      "200/200 [==============================] - 1s 5ms/step - loss: 0.0068 - accuracy: 0.9989\n",
      "Epoch 96/100\n",
      "200/200 [==============================] - 1s 5ms/step - loss: 0.0068 - accuracy: 0.9989\n",
      "Epoch 97/100\n",
      "200/200 [==============================] - 1s 5ms/step - loss: 0.0068 - accuracy: 0.9989\n",
      "Epoch 98/100\n",
      "200/200 [==============================] - 1s 5ms/step - loss: 0.0068 - accuracy: 0.9989\n",
      "Epoch 99/100\n",
      "200/200 [==============================] - 1s 5ms/step - loss: 0.0072 - accuracy: 0.9987\n",
      "Epoch 100/100\n",
      "200/200 [==============================] - 1s 5ms/step - loss: 0.0068 - accuracy: 0.9989\n",
      "50/50 [==============================] - 0s 3ms/step\n"
     ]
    },
    {
     "name": "stderr",
     "output_type": "stream",
     "text": [
      "WARNING:absl:Found untraced functions such as _update_step_xla while saving (showing 1 of 1). These functions will not be directly callable after loading.\n"
     ]
    },
    {
     "name": "stdout",
     "output_type": "stream",
     "text": [
      "INFO:tensorflow:Assets written to: C:\\Users\\shubh\\AppData\\Local\\Temp\\tmpe6ce_4od\\assets\n"
     ]
    },
    {
     "name": "stderr",
     "output_type": "stream",
     "text": [
      "INFO:tensorflow:Assets written to: C:\\Users\\shubh\\AppData\\Local\\Temp\\tmpe6ce_4od\\assets\n"
     ]
    },
    {
     "name": "stdout",
     "output_type": "stream",
     "text": [
      "Epoch 1/100\n",
      "200/200 [==============================] - 3s 5ms/step - loss: 0.5817 - accuracy: 0.7942\n",
      "Epoch 2/100\n",
      "200/200 [==============================] - 1s 5ms/step - loss: 0.2718 - accuracy: 0.7958\n",
      "Epoch 3/100\n",
      "200/200 [==============================] - 1s 6ms/step - loss: 0.1681 - accuracy: 0.8233\n",
      "Epoch 4/100\n",
      "200/200 [==============================] - 1s 6ms/step - loss: 0.1403 - accuracy: 0.9958\n",
      "Epoch 5/100\n",
      "200/200 [==============================] - 1s 6ms/step - loss: 0.1251 - accuracy: 0.9983\n",
      "Epoch 6/100\n",
      "200/200 [==============================] - 1s 6ms/step - loss: 0.1122 - accuracy: 0.9984\n",
      "Epoch 7/100\n",
      "200/200 [==============================] - 1s 6ms/step - loss: 0.1008 - accuracy: 0.9984\n",
      "Epoch 8/100\n",
      "200/200 [==============================] - 1s 5ms/step - loss: 0.0907 - accuracy: 0.9984\n",
      "Epoch 9/100\n",
      "200/200 [==============================] - 1s 6ms/step - loss: 0.0816 - accuracy: 0.9984\n",
      "Epoch 10/100\n",
      "200/200 [==============================] - 1s 6ms/step - loss: 0.0737 - accuracy: 0.9984\n",
      "Epoch 11/100\n",
      "200/200 [==============================] - 1s 6ms/step - loss: 0.0666 - accuracy: 0.9984\n",
      "Epoch 12/100\n",
      "200/200 [==============================] - 1s 6ms/step - loss: 0.0604 - accuracy: 0.9984\n",
      "Epoch 13/100\n",
      "200/200 [==============================] - 1s 5ms/step - loss: 0.0549 - accuracy: 0.9984\n",
      "Epoch 14/100\n",
      "200/200 [==============================] - 1s 5ms/step - loss: 0.0500 - accuracy: 0.9984\n",
      "Epoch 15/100\n",
      "200/200 [==============================] - 1s 5ms/step - loss: 0.0457 - accuracy: 0.9984\n",
      "Epoch 16/100\n",
      "200/200 [==============================] - 1s 5ms/step - loss: 0.0418 - accuracy: 0.9984\n",
      "Epoch 17/100\n",
      "200/200 [==============================] - 1s 5ms/step - loss: 0.0384 - accuracy: 0.9984\n",
      "Epoch 18/100\n",
      "200/200 [==============================] - 1s 5ms/step - loss: 0.0354 - accuracy: 0.9984\n",
      "Epoch 19/100\n",
      "200/200 [==============================] - 1s 5ms/step - loss: 0.0327 - accuracy: 0.9984\n",
      "Epoch 20/100\n",
      "200/200 [==============================] - 1s 5ms/step - loss: 0.0302 - accuracy: 0.9984\n",
      "Epoch 21/100\n",
      "200/200 [==============================] - 1s 5ms/step - loss: 0.0281 - accuracy: 0.9984\n",
      "Epoch 22/100\n",
      "200/200 [==============================] - 1s 5ms/step - loss: 0.0261 - accuracy: 0.9984\n",
      "Epoch 23/100\n",
      "200/200 [==============================] - 1s 5ms/step - loss: 0.0244 - accuracy: 0.9984\n",
      "Epoch 24/100\n",
      "200/200 [==============================] - 1s 5ms/step - loss: 0.0228 - accuracy: 0.9984\n",
      "Epoch 25/100\n",
      "200/200 [==============================] - 1s 5ms/step - loss: 0.0215 - accuracy: 0.9984\n",
      "Epoch 26/100\n",
      "200/200 [==============================] - 1s 5ms/step - loss: 0.0202 - accuracy: 0.9984\n",
      "Epoch 27/100\n",
      "200/200 [==============================] - 1s 5ms/step - loss: 0.0191 - accuracy: 0.9984\n",
      "Epoch 28/100\n",
      "200/200 [==============================] - 1s 6ms/step - loss: 0.0180 - accuracy: 0.9984\n",
      "Epoch 29/100\n",
      "200/200 [==============================] - 1s 5ms/step - loss: 0.0171 - accuracy: 0.9984\n",
      "Epoch 30/100\n",
      "200/200 [==============================] - 1s 5ms/step - loss: 0.0163 - accuracy: 0.9984\n",
      "Epoch 31/100\n",
      "200/200 [==============================] - 1s 5ms/step - loss: 0.0155 - accuracy: 0.9984\n",
      "Epoch 32/100\n",
      "200/200 [==============================] - 1s 5ms/step - loss: 0.0148 - accuracy: 0.9984\n",
      "Epoch 33/100\n",
      "200/200 [==============================] - 1s 5ms/step - loss: 0.0142 - accuracy: 0.9984\n",
      "Epoch 34/100\n",
      "200/200 [==============================] - 1s 5ms/step - loss: 0.0135 - accuracy: 0.9984\n",
      "Epoch 35/100\n",
      "200/200 [==============================] - 1s 5ms/step - loss: 0.0131 - accuracy: 0.9984\n",
      "Epoch 36/100\n",
      "200/200 [==============================] - 1s 5ms/step - loss: 0.0126 - accuracy: 0.9984\n",
      "Epoch 37/100\n",
      "200/200 [==============================] - 1s 5ms/step - loss: 0.0121 - accuracy: 0.9984\n",
      "Epoch 38/100\n",
      "200/200 [==============================] - 1s 5ms/step - loss: 0.0118 - accuracy: 0.9984\n",
      "Epoch 39/100\n",
      "200/200 [==============================] - 1s 5ms/step - loss: 0.0114 - accuracy: 0.9984\n",
      "Epoch 40/100\n",
      "200/200 [==============================] - 1s 5ms/step - loss: 0.0111 - accuracy: 0.9984\n",
      "Epoch 41/100\n",
      "200/200 [==============================] - 1s 5ms/step - loss: 0.0108 - accuracy: 0.9984\n",
      "Epoch 42/100\n",
      "200/200 [==============================] - 1s 5ms/step - loss: 0.0106 - accuracy: 0.9984\n",
      "Epoch 43/100\n",
      "200/200 [==============================] - 1s 5ms/step - loss: 0.0105 - accuracy: 0.9984\n",
      "Epoch 44/100\n",
      "200/200 [==============================] - 1s 5ms/step - loss: 0.0101 - accuracy: 0.9984\n",
      "Epoch 45/100\n",
      "200/200 [==============================] - 1s 4ms/step - loss: 0.0100 - accuracy: 0.9984\n",
      "Epoch 46/100\n",
      "200/200 [==============================] - 1s 5ms/step - loss: 0.0098 - accuracy: 0.9984\n",
      "Epoch 47/100\n",
      "200/200 [==============================] - 1s 5ms/step - loss: 0.0096 - accuracy: 0.9984\n",
      "Epoch 48/100\n",
      "200/200 [==============================] - 1s 5ms/step - loss: 0.0095 - accuracy: 0.9984\n",
      "Epoch 49/100\n",
      "200/200 [==============================] - 1s 5ms/step - loss: 0.0094 - accuracy: 0.9984\n",
      "Epoch 50/100\n",
      "200/200 [==============================] - 1s 5ms/step - loss: 0.0092 - accuracy: 0.9984\n",
      "Epoch 51/100\n",
      "200/200 [==============================] - 1s 5ms/step - loss: 0.0091 - accuracy: 0.9984\n",
      "Epoch 52/100\n",
      "200/200 [==============================] - 1s 5ms/step - loss: 0.0091 - accuracy: 0.9984\n",
      "Epoch 53/100\n",
      "200/200 [==============================] - 1s 5ms/step - loss: 0.0089 - accuracy: 0.9984\n",
      "Epoch 54/100\n",
      "200/200 [==============================] - 1s 5ms/step - loss: 0.0088 - accuracy: 0.9984\n",
      "Epoch 55/100\n",
      "200/200 [==============================] - 1s 5ms/step - loss: 0.0088 - accuracy: 0.9984\n",
      "Epoch 56/100\n",
      "200/200 [==============================] - 1s 5ms/step - loss: 0.0087 - accuracy: 0.9984\n",
      "Epoch 57/100\n",
      "200/200 [==============================] - 1s 5ms/step - loss: 0.0086 - accuracy: 0.9986\n",
      "Epoch 58/100\n",
      "200/200 [==============================] - 1s 5ms/step - loss: 0.0086 - accuracy: 0.9984\n",
      "Epoch 59/100\n",
      "200/200 [==============================] - 1s 5ms/step - loss: 0.0085 - accuracy: 0.9984\n",
      "Epoch 60/100\n",
      "200/200 [==============================] - 1s 5ms/step - loss: 0.0085 - accuracy: 0.9984\n",
      "Epoch 61/100\n",
      "200/200 [==============================] - 1s 5ms/step - loss: 0.0085 - accuracy: 0.9984\n",
      "Epoch 62/100\n",
      "200/200 [==============================] - 1s 5ms/step - loss: 0.0082 - accuracy: 0.9986\n",
      "Epoch 63/100\n",
      "200/200 [==============================] - 1s 5ms/step - loss: 0.0083 - accuracy: 0.9984\n",
      "Epoch 64/100\n",
      "200/200 [==============================] - 1s 5ms/step - loss: 0.0082 - accuracy: 0.9984\n",
      "Epoch 65/100\n",
      "200/200 [==============================] - 1s 5ms/step - loss: 0.0082 - accuracy: 0.9986\n",
      "Epoch 66/100\n",
      "200/200 [==============================] - 1s 5ms/step - loss: 0.0081 - accuracy: 0.9984\n",
      "Epoch 67/100\n",
      "200/200 [==============================] - 1s 6ms/step - loss: 0.0081 - accuracy: 0.9986\n",
      "Epoch 68/100\n",
      "200/200 [==============================] - 1s 6ms/step - loss: 0.0080 - accuracy: 0.9984\n",
      "Epoch 69/100\n",
      "200/200 [==============================] - 1s 5ms/step - loss: 0.0081 - accuracy: 0.9984\n",
      "Epoch 70/100\n",
      "200/200 [==============================] - 1s 5ms/step - loss: 0.0079 - accuracy: 0.9986\n",
      "Epoch 71/100\n",
      "200/200 [==============================] - 1s 5ms/step - loss: 0.0080 - accuracy: 0.9986\n",
      "Epoch 72/100\n",
      "200/200 [==============================] - 1s 5ms/step - loss: 0.0079 - accuracy: 0.9984\n",
      "Epoch 73/100\n",
      "200/200 [==============================] - 1s 5ms/step - loss: 0.0079 - accuracy: 0.9984\n",
      "Epoch 74/100\n",
      "200/200 [==============================] - 1s 5ms/step - loss: 0.0077 - accuracy: 0.9986\n",
      "Epoch 75/100\n",
      "200/200 [==============================] - 1s 5ms/step - loss: 0.0077 - accuracy: 0.9986\n",
      "Epoch 76/100\n",
      "200/200 [==============================] - 1s 5ms/step - loss: 0.0078 - accuracy: 0.9987\n",
      "Epoch 77/100\n",
      "200/200 [==============================] - 1s 5ms/step - loss: 0.0076 - accuracy: 0.9986\n",
      "Epoch 78/100\n",
      "200/200 [==============================] - 1s 5ms/step - loss: 0.0077 - accuracy: 0.9986\n",
      "Epoch 79/100\n",
      "200/200 [==============================] - 1s 5ms/step - loss: 0.0077 - accuracy: 0.9987\n",
      "Epoch 80/100\n",
      "200/200 [==============================] - 1s 5ms/step - loss: 0.0075 - accuracy: 0.9987\n",
      "Epoch 81/100\n",
      "200/200 [==============================] - 1s 5ms/step - loss: 0.0076 - accuracy: 0.9987\n",
      "Epoch 82/100\n",
      "200/200 [==============================] - 1s 5ms/step - loss: 0.0075 - accuracy: 0.9987\n",
      "Epoch 83/100\n",
      "200/200 [==============================] - 1s 5ms/step - loss: 0.0074 - accuracy: 0.9987\n",
      "Epoch 84/100\n",
      "200/200 [==============================] - 1s 6ms/step - loss: 0.0075 - accuracy: 0.9987\n",
      "Epoch 85/100\n",
      "200/200 [==============================] - 1s 5ms/step - loss: 0.0075 - accuracy: 0.9987\n",
      "Epoch 86/100\n",
      "200/200 [==============================] - 1s 5ms/step - loss: 0.0075 - accuracy: 0.9987\n",
      "Epoch 87/100\n",
      "200/200 [==============================] - 1s 5ms/step - loss: 0.0074 - accuracy: 0.9987\n",
      "Epoch 88/100\n",
      "200/200 [==============================] - 1s 5ms/step - loss: 0.0073 - accuracy: 0.9986\n",
      "Epoch 89/100\n",
      "200/200 [==============================] - 1s 5ms/step - loss: 0.0073 - accuracy: 0.9987\n",
      "Epoch 90/100\n",
      "200/200 [==============================] - 1s 5ms/step - loss: 0.0074 - accuracy: 0.9987\n",
      "Epoch 91/100\n",
      "200/200 [==============================] - 1s 5ms/step - loss: 0.0073 - accuracy: 0.9987\n",
      "Epoch 92/100\n",
      "200/200 [==============================] - 1s 5ms/step - loss: 0.0073 - accuracy: 0.9987\n",
      "Epoch 93/100\n",
      "200/200 [==============================] - 1s 5ms/step - loss: 0.0073 - accuracy: 0.9987\n",
      "Epoch 94/100\n",
      "200/200 [==============================] - 1s 5ms/step - loss: 0.0072 - accuracy: 0.9987\n",
      "Epoch 95/100\n",
      "200/200 [==============================] - 1s 5ms/step - loss: 0.0070 - accuracy: 0.9987\n",
      "Epoch 96/100\n",
      "200/200 [==============================] - 1s 4ms/step - loss: 0.0073 - accuracy: 0.9987\n",
      "Epoch 97/100\n",
      "200/200 [==============================] - 1s 5ms/step - loss: 0.0071 - accuracy: 0.9987\n",
      "Epoch 98/100\n",
      "200/200 [==============================] - 1s 5ms/step - loss: 0.0070 - accuracy: 0.9987\n",
      "Epoch 99/100\n",
      "200/200 [==============================] - 1s 5ms/step - loss: 0.0071 - accuracy: 0.9987\n",
      "Epoch 100/100\n",
      "200/200 [==============================] - 1s 5ms/step - loss: 0.0070 - accuracy: 0.9987\n",
      "50/50 [==============================] - 0s 4ms/step\n"
     ]
    },
    {
     "name": "stderr",
     "output_type": "stream",
     "text": [
      "WARNING:absl:Found untraced functions such as _update_step_xla while saving (showing 1 of 1). These functions will not be directly callable after loading.\n"
     ]
    },
    {
     "name": "stdout",
     "output_type": "stream",
     "text": [
      "INFO:tensorflow:Assets written to: C:\\Users\\shubh\\AppData\\Local\\Temp\\tmpa8yxxep2\\assets\n"
     ]
    },
    {
     "name": "stderr",
     "output_type": "stream",
     "text": [
      "INFO:tensorflow:Assets written to: C:\\Users\\shubh\\AppData\\Local\\Temp\\tmpa8yxxep2\\assets\n"
     ]
    },
    {
     "name": "stdout",
     "output_type": "stream",
     "text": [
      "Epoch 1/100\n",
      "200/200 [==============================] - 3s 5ms/step - loss: 0.5814 - accuracy: 0.7944\n",
      "Epoch 2/100\n",
      "200/200 [==============================] - 1s 5ms/step - loss: 0.2714 - accuracy: 0.7959\n",
      "Epoch 3/100\n",
      "200/200 [==============================] - 1s 5ms/step - loss: 0.1681 - accuracy: 0.8191\n",
      "Epoch 4/100\n",
      "200/200 [==============================] - 1s 5ms/step - loss: 0.1407 - accuracy: 0.9959\n",
      "Epoch 5/100\n",
      "200/200 [==============================] - 1s 5ms/step - loss: 0.1257 - accuracy: 0.9981\n",
      "Epoch 6/100\n",
      "200/200 [==============================] - 1s 5ms/step - loss: 0.1128 - accuracy: 0.9983\n",
      "Epoch 7/100\n",
      "200/200 [==============================] - 1s 4ms/step - loss: 0.1014 - accuracy: 0.9983\n",
      "Epoch 8/100\n",
      "200/200 [==============================] - 1s 5ms/step - loss: 0.0913 - accuracy: 0.9983\n",
      "Epoch 9/100\n",
      "200/200 [==============================] - 1s 5ms/step - loss: 0.0823 - accuracy: 0.9983\n",
      "Epoch 10/100\n",
      "200/200 [==============================] - 1s 5ms/step - loss: 0.0742 - accuracy: 0.9983\n",
      "Epoch 11/100\n",
      "200/200 [==============================] - 1s 5ms/step - loss: 0.0672 - accuracy: 0.9983\n",
      "Epoch 12/100\n",
      "200/200 [==============================] - 1s 5ms/step - loss: 0.0610 - accuracy: 0.9983\n",
      "Epoch 13/100\n",
      "200/200 [==============================] - 1s 5ms/step - loss: 0.0554 - accuracy: 0.9983\n",
      "Epoch 14/100\n",
      "200/200 [==============================] - 1s 5ms/step - loss: 0.0505 - accuracy: 0.9983\n",
      "Epoch 15/100\n",
      "200/200 [==============================] - 1s 5ms/step - loss: 0.0462 - accuracy: 0.9983\n",
      "Epoch 16/100\n",
      "200/200 [==============================] - 1s 5ms/step - loss: 0.0423 - accuracy: 0.9983\n",
      "Epoch 17/100\n",
      "200/200 [==============================] - 1s 5ms/step - loss: 0.0389 - accuracy: 0.9983\n",
      "Epoch 18/100\n",
      "200/200 [==============================] - 1s 5ms/step - loss: 0.0359 - accuracy: 0.9983\n",
      "Epoch 19/100\n",
      "200/200 [==============================] - 1s 5ms/step - loss: 0.0332 - accuracy: 0.9983\n",
      "Epoch 20/100\n",
      "200/200 [==============================] - 1s 5ms/step - loss: 0.0307 - accuracy: 0.9983\n",
      "Epoch 21/100\n",
      "200/200 [==============================] - 1s 5ms/step - loss: 0.0286 - accuracy: 0.9983\n",
      "Epoch 22/100\n",
      "200/200 [==============================] - 1s 5ms/step - loss: 0.0266 - accuracy: 0.9983\n",
      "Epoch 23/100\n",
      "200/200 [==============================] - 1s 5ms/step - loss: 0.0249 - accuracy: 0.9983\n",
      "Epoch 24/100\n",
      "200/200 [==============================] - 1s 5ms/step - loss: 0.0234 - accuracy: 0.9983\n",
      "Epoch 25/100\n",
      "200/200 [==============================] - 1s 5ms/step - loss: 0.0220 - accuracy: 0.9983\n",
      "Epoch 26/100\n",
      "200/200 [==============================] - 1s 5ms/step - loss: 0.0207 - accuracy: 0.9983\n",
      "Epoch 27/100\n",
      "200/200 [==============================] - 1s 6ms/step - loss: 0.0196 - accuracy: 0.9983\n",
      "Epoch 28/100\n",
      "200/200 [==============================] - 1s 6ms/step - loss: 0.0185 - accuracy: 0.9983\n",
      "Epoch 29/100\n",
      "200/200 [==============================] - 1s 5ms/step - loss: 0.0177 - accuracy: 0.9983\n",
      "Epoch 30/100\n",
      "200/200 [==============================] - 1s 5ms/step - loss: 0.0169 - accuracy: 0.9983\n",
      "Epoch 31/100\n",
      "200/200 [==============================] - 1s 4ms/step - loss: 0.0162 - accuracy: 0.9983\n",
      "Epoch 32/100\n",
      "200/200 [==============================] - 1s 6ms/step - loss: 0.0154 - accuracy: 0.9983\n",
      "Epoch 33/100\n",
      "200/200 [==============================] - 1s 5ms/step - loss: 0.0148 - accuracy: 0.9983\n",
      "Epoch 34/100\n",
      "200/200 [==============================] - 1s 5ms/step - loss: 0.0144 - accuracy: 0.9983\n",
      "Epoch 35/100\n",
      "200/200 [==============================] - 1s 5ms/step - loss: 0.0139 - accuracy: 0.9983\n",
      "Epoch 36/100\n",
      "200/200 [==============================] - 1s 5ms/step - loss: 0.0134 - accuracy: 0.9983\n",
      "Epoch 37/100\n",
      "200/200 [==============================] - 1s 5ms/step - loss: 0.0130 - accuracy: 0.9983\n",
      "Epoch 38/100\n",
      "200/200 [==============================] - 1s 5ms/step - loss: 0.0127 - accuracy: 0.9983\n",
      "Epoch 39/100\n",
      "200/200 [==============================] - 1s 5ms/step - loss: 0.0124 - accuracy: 0.9983\n",
      "Epoch 40/100\n",
      "200/200 [==============================] - 1s 5ms/step - loss: 0.0121 - accuracy: 0.9983\n",
      "Epoch 41/100\n",
      "200/200 [==============================] - 1s 5ms/step - loss: 0.0119 - accuracy: 0.9983\n",
      "Epoch 42/100\n",
      "200/200 [==============================] - 1s 5ms/step - loss: 0.0116 - accuracy: 0.9983\n",
      "Epoch 43/100\n",
      "200/200 [==============================] - 1s 5ms/step - loss: 0.0114 - accuracy: 0.9983\n",
      "Epoch 44/100\n",
      "200/200 [==============================] - 1s 5ms/step - loss: 0.0113 - accuracy: 0.9983\n",
      "Epoch 45/100\n",
      "200/200 [==============================] - 1s 5ms/step - loss: 0.0111 - accuracy: 0.9983\n",
      "Epoch 46/100\n",
      "200/200 [==============================] - 1s 5ms/step - loss: 0.0110 - accuracy: 0.9983\n",
      "Epoch 47/100\n",
      "200/200 [==============================] - 1s 5ms/step - loss: 0.0108 - accuracy: 0.9983\n",
      "Epoch 48/100\n",
      "200/200 [==============================] - 1s 5ms/step - loss: 0.0107 - accuracy: 0.9983\n",
      "Epoch 49/100\n",
      "200/200 [==============================] - 1s 5ms/step - loss: 0.0107 - accuracy: 0.9983\n",
      "Epoch 50/100\n",
      "200/200 [==============================] - 1s 5ms/step - loss: 0.0105 - accuracy: 0.9983\n",
      "Epoch 51/100\n",
      "200/200 [==============================] - 1s 5ms/step - loss: 0.0104 - accuracy: 0.9983\n",
      "Epoch 52/100\n",
      "200/200 [==============================] - 1s 5ms/step - loss: 0.0103 - accuracy: 0.9983\n",
      "Epoch 53/100\n",
      "200/200 [==============================] - 1s 5ms/step - loss: 0.0103 - accuracy: 0.9983\n",
      "Epoch 54/100\n",
      "200/200 [==============================] - 1s 5ms/step - loss: 0.0103 - accuracy: 0.9983\n",
      "Epoch 55/100\n",
      "200/200 [==============================] - 1s 5ms/step - loss: 0.0101 - accuracy: 0.9983\n",
      "Epoch 56/100\n",
      "200/200 [==============================] - 1s 5ms/step - loss: 0.0101 - accuracy: 0.9983\n",
      "Epoch 57/100\n",
      "200/200 [==============================] - 1s 5ms/step - loss: 0.0100 - accuracy: 0.9983\n",
      "Epoch 58/100\n",
      "200/200 [==============================] - 1s 5ms/step - loss: 0.0100 - accuracy: 0.9983\n",
      "Epoch 59/100\n",
      "200/200 [==============================] - 1s 5ms/step - loss: 0.0100 - accuracy: 0.9983\n",
      "Epoch 60/100\n",
      "200/200 [==============================] - 1s 5ms/step - loss: 0.0099 - accuracy: 0.9983\n",
      "Epoch 61/100\n",
      "200/200 [==============================] - 1s 5ms/step - loss: 0.0097 - accuracy: 0.9984\n",
      "Epoch 62/100\n",
      "200/200 [==============================] - 1s 5ms/step - loss: 0.0098 - accuracy: 0.9983\n",
      "Epoch 63/100\n",
      "200/200 [==============================] - 1s 5ms/step - loss: 0.0098 - accuracy: 0.9983\n",
      "Epoch 64/100\n",
      "200/200 [==============================] - 1s 5ms/step - loss: 0.0097 - accuracy: 0.9983\n",
      "Epoch 65/100\n",
      "200/200 [==============================] - 1s 5ms/step - loss: 0.0098 - accuracy: 0.9983\n",
      "Epoch 66/100\n",
      "200/200 [==============================] - 1s 6ms/step - loss: 0.0096 - accuracy: 0.9983\n",
      "Epoch 67/100\n",
      "200/200 [==============================] - 1s 6ms/step - loss: 0.0097 - accuracy: 0.9983\n",
      "Epoch 68/100\n",
      "200/200 [==============================] - 1s 4ms/step - loss: 0.0097 - accuracy: 0.9983\n",
      "Epoch 69/100\n",
      "200/200 [==============================] - 1s 5ms/step - loss: 0.0095 - accuracy: 0.9984\n",
      "Epoch 70/100\n",
      "200/200 [==============================] - 1s 5ms/step - loss: 0.0095 - accuracy: 0.9983\n",
      "Epoch 71/100\n",
      "200/200 [==============================] - 1s 4ms/step - loss: 0.0095 - accuracy: 0.9984\n",
      "Epoch 72/100\n",
      "200/200 [==============================] - 1s 5ms/step - loss: 0.0095 - accuracy: 0.9983\n",
      "Epoch 73/100\n",
      "200/200 [==============================] - 1s 5ms/step - loss: 0.0094 - accuracy: 0.9984\n",
      "Epoch 74/100\n",
      "200/200 [==============================] - 1s 5ms/step - loss: 0.0095 - accuracy: 0.9983\n",
      "Epoch 75/100\n",
      "200/200 [==============================] - 1s 5ms/step - loss: 0.0094 - accuracy: 0.9983\n",
      "Epoch 76/100\n",
      "200/200 [==============================] - 1s 4ms/step - loss: 0.0095 - accuracy: 0.9983\n",
      "Epoch 77/100\n",
      "200/200 [==============================] - 1s 4ms/step - loss: 0.0094 - accuracy: 0.9984\n",
      "Epoch 78/100\n",
      "200/200 [==============================] - 1s 5ms/step - loss: 0.0094 - accuracy: 0.9984\n",
      "Epoch 79/100\n",
      "200/200 [==============================] - 1s 4ms/step - loss: 0.0093 - accuracy: 0.9984\n",
      "Epoch 80/100\n",
      "200/200 [==============================] - 1s 5ms/step - loss: 0.0094 - accuracy: 0.9983\n",
      "Epoch 81/100\n",
      "200/200 [==============================] - 1s 4ms/step - loss: 0.0094 - accuracy: 0.9983\n",
      "Epoch 82/100\n",
      "200/200 [==============================] - 1s 5ms/step - loss: 0.0093 - accuracy: 0.9984\n",
      "Epoch 83/100\n",
      "200/200 [==============================] - 1s 5ms/step - loss: 0.0092 - accuracy: 0.9984\n",
      "Epoch 84/100\n",
      "200/200 [==============================] - 1s 5ms/step - loss: 0.0093 - accuracy: 0.9984\n",
      "Epoch 85/100\n",
      "200/200 [==============================] - 1s 5ms/step - loss: 0.0092 - accuracy: 0.9984\n",
      "Epoch 86/100\n",
      "200/200 [==============================] - 1s 5ms/step - loss: 0.0093 - accuracy: 0.9984\n",
      "Epoch 87/100\n",
      "200/200 [==============================] - 1s 5ms/step - loss: 0.0091 - accuracy: 0.9984\n",
      "Epoch 88/100\n",
      "200/200 [==============================] - 1s 5ms/step - loss: 0.0092 - accuracy: 0.9984\n",
      "Epoch 89/100\n",
      "200/200 [==============================] - 1s 5ms/step - loss: 0.0092 - accuracy: 0.9984\n",
      "Epoch 90/100\n",
      "200/200 [==============================] - 1s 5ms/step - loss: 0.0092 - accuracy: 0.9984\n",
      "Epoch 91/100\n",
      "200/200 [==============================] - 1s 5ms/step - loss: 0.0092 - accuracy: 0.9984\n",
      "Epoch 92/100\n",
      "200/200 [==============================] - 1s 4ms/step - loss: 0.0091 - accuracy: 0.9984\n",
      "Epoch 93/100\n",
      "200/200 [==============================] - 1s 5ms/step - loss: 0.0090 - accuracy: 0.9983\n",
      "Epoch 94/100\n",
      "200/200 [==============================] - 1s 6ms/step - loss: 0.0090 - accuracy: 0.9984\n",
      "Epoch 95/100\n",
      "200/200 [==============================] - 1s 5ms/step - loss: 0.0092 - accuracy: 0.9984\n",
      "Epoch 96/100\n",
      "200/200 [==============================] - 1s 5ms/step - loss: 0.0090 - accuracy: 0.9984\n",
      "Epoch 97/100\n",
      "200/200 [==============================] - 1s 5ms/step - loss: 0.0092 - accuracy: 0.9983\n",
      "Epoch 98/100\n",
      "200/200 [==============================] - 1s 5ms/step - loss: 0.0090 - accuracy: 0.9984\n",
      "Epoch 99/100\n",
      "200/200 [==============================] - 1s 5ms/step - loss: 0.0090 - accuracy: 0.9984\n",
      "Epoch 100/100\n",
      "200/200 [==============================] - 1s 5ms/step - loss: 0.0090 - accuracy: 0.9984\n",
      "50/50 [==============================] - 0s 4ms/step\n"
     ]
    },
    {
     "name": "stderr",
     "output_type": "stream",
     "text": [
      "WARNING:absl:Found untraced functions such as _update_step_xla while saving (showing 1 of 1). These functions will not be directly callable after loading.\n"
     ]
    },
    {
     "name": "stdout",
     "output_type": "stream",
     "text": [
      "INFO:tensorflow:Assets written to: C:\\Users\\shubh\\AppData\\Local\\Temp\\tmpo_3lkwd6\\assets\n"
     ]
    },
    {
     "name": "stderr",
     "output_type": "stream",
     "text": [
      "INFO:tensorflow:Assets written to: C:\\Users\\shubh\\AppData\\Local\\Temp\\tmpo_3lkwd6\\assets\n"
     ]
    },
    {
     "name": "stdout",
     "output_type": "stream",
     "text": [
      "Epoch 1/100\n",
      "200/200 [==============================] - 3s 5ms/step - loss: 0.5802 - accuracy: 0.7937\n",
      "Epoch 2/100\n",
      "200/200 [==============================] - 1s 5ms/step - loss: 0.2704 - accuracy: 0.7959\n",
      "Epoch 3/100\n",
      "200/200 [==============================] - 1s 5ms/step - loss: 0.1443 - accuracy: 0.9456\n",
      "Epoch 4/100\n",
      "200/200 [==============================] - 1s 4ms/step - loss: 0.0869 - accuracy: 0.9984\n",
      "Epoch 5/100\n",
      "200/200 [==============================] - 1s 5ms/step - loss: 0.0548 - accuracy: 0.9984\n",
      "Epoch 6/100\n",
      "200/200 [==============================] - 1s 5ms/step - loss: 0.0364 - accuracy: 0.9984\n",
      "Epoch 7/100\n",
      "200/200 [==============================] - 1s 5ms/step - loss: 0.0261 - accuracy: 0.9984\n",
      "Epoch 8/100\n",
      "200/200 [==============================] - 1s 5ms/step - loss: 0.0202 - accuracy: 0.9984\n",
      "Epoch 9/100\n",
      "200/200 [==============================] - 1s 5ms/step - loss: 0.0166 - accuracy: 0.9984\n",
      "Epoch 10/100\n",
      "200/200 [==============================] - 1s 5ms/step - loss: 0.0144 - accuracy: 0.9984\n",
      "Epoch 11/100\n",
      "200/200 [==============================] - 1s 5ms/step - loss: 0.0129 - accuracy: 0.9984\n",
      "Epoch 12/100\n",
      "200/200 [==============================] - 1s 5ms/step - loss: 0.0119 - accuracy: 0.9984\n",
      "Epoch 13/100\n",
      "200/200 [==============================] - 1s 5ms/step - loss: 0.0112 - accuracy: 0.9984\n",
      "Epoch 14/100\n",
      "200/200 [==============================] - 1s 5ms/step - loss: 0.0107 - accuracy: 0.9984\n",
      "Epoch 15/100\n",
      "200/200 [==============================] - 1s 5ms/step - loss: 0.0104 - accuracy: 0.9984\n",
      "Epoch 16/100\n",
      "200/200 [==============================] - 1s 5ms/step - loss: 0.0100 - accuracy: 0.9984\n",
      "Epoch 17/100\n",
      "200/200 [==============================] - 1s 5ms/step - loss: 0.0100 - accuracy: 0.9984\n",
      "Epoch 18/100\n",
      "200/200 [==============================] - 1s 5ms/step - loss: 0.0098 - accuracy: 0.9984\n",
      "Epoch 19/100\n",
      "200/200 [==============================] - 1s 5ms/step - loss: 0.0097 - accuracy: 0.9984\n",
      "Epoch 20/100\n",
      "200/200 [==============================] - 1s 5ms/step - loss: 0.0096 - accuracy: 0.9984\n",
      "Epoch 21/100\n",
      "200/200 [==============================] - 1s 5ms/step - loss: 0.0095 - accuracy: 0.9984\n",
      "Epoch 22/100\n",
      "200/200 [==============================] - 1s 5ms/step - loss: 0.0095 - accuracy: 0.9984\n",
      "Epoch 23/100\n",
      "200/200 [==============================] - 1s 5ms/step - loss: 0.0095 - accuracy: 0.9984\n",
      "Epoch 24/100\n",
      "200/200 [==============================] - 1s 5ms/step - loss: 0.0094 - accuracy: 0.9984\n",
      "Epoch 25/100\n",
      "200/200 [==============================] - 1s 5ms/step - loss: 0.0094 - accuracy: 0.9984\n",
      "Epoch 26/100\n",
      "200/200 [==============================] - 1s 5ms/step - loss: 0.0093 - accuracy: 0.9984\n",
      "Epoch 27/100\n",
      "200/200 [==============================] - 1s 5ms/step - loss: 0.0093 - accuracy: 0.9984\n",
      "Epoch 28/100\n",
      "200/200 [==============================] - 1s 5ms/step - loss: 0.0093 - accuracy: 0.9984\n",
      "Epoch 29/100\n",
      "200/200 [==============================] - 1s 5ms/step - loss: 0.0093 - accuracy: 0.9984\n",
      "Epoch 30/100\n",
      "200/200 [==============================] - 1s 5ms/step - loss: 0.0093 - accuracy: 0.9984\n",
      "Epoch 31/100\n",
      "200/200 [==============================] - 1s 5ms/step - loss: 0.0093 - accuracy: 0.9984\n",
      "Epoch 32/100\n",
      "200/200 [==============================] - 1s 5ms/step - loss: 0.0092 - accuracy: 0.9984\n",
      "Epoch 33/100\n",
      "200/200 [==============================] - 1s 5ms/step - loss: 0.0091 - accuracy: 0.9984\n",
      "Epoch 34/100\n",
      "200/200 [==============================] - 1s 4ms/step - loss: 0.0092 - accuracy: 0.9984\n",
      "Epoch 35/100\n",
      "200/200 [==============================] - 1s 5ms/step - loss: 0.0091 - accuracy: 0.9984\n",
      "Epoch 36/100\n",
      "200/200 [==============================] - 1s 4ms/step - loss: 0.0091 - accuracy: 0.9984\n",
      "Epoch 37/100\n",
      "200/200 [==============================] - 1s 5ms/step - loss: 0.0092 - accuracy: 0.9984\n",
      "Epoch 38/100\n",
      "200/200 [==============================] - 1s 5ms/step - loss: 0.0090 - accuracy: 0.9984\n",
      "Epoch 39/100\n",
      "200/200 [==============================] - 1s 4ms/step - loss: 0.0091 - accuracy: 0.9984\n",
      "Epoch 40/100\n",
      "200/200 [==============================] - 1s 5ms/step - loss: 0.0090 - accuracy: 0.9984\n",
      "Epoch 41/100\n",
      "200/200 [==============================] - 1s 5ms/step - loss: 0.0090 - accuracy: 0.9984\n",
      "Epoch 42/100\n",
      "200/200 [==============================] - 1s 5ms/step - loss: 0.0090 - accuracy: 0.9984\n",
      "Epoch 43/100\n",
      "200/200 [==============================] - 1s 5ms/step - loss: 0.0090 - accuracy: 0.9984\n",
      "Epoch 44/100\n",
      "200/200 [==============================] - 1s 5ms/step - loss: 0.0089 - accuracy: 0.9986\n",
      "Epoch 45/100\n",
      "200/200 [==============================] - 1s 6ms/step - loss: 0.0090 - accuracy: 0.9984\n",
      "Epoch 46/100\n",
      "200/200 [==============================] - 1s 6ms/step - loss: 0.0089 - accuracy: 0.9984\n",
      "Epoch 47/100\n",
      "200/200 [==============================] - 1s 5ms/step - loss: 0.0089 - accuracy: 0.9986\n",
      "Epoch 48/100\n",
      "200/200 [==============================] - 1s 4ms/step - loss: 0.0090 - accuracy: 0.9984\n",
      "Epoch 49/100\n",
      "200/200 [==============================] - 1s 4ms/step - loss: 0.0088 - accuracy: 0.9986\n",
      "Epoch 50/100\n",
      "200/200 [==============================] - 1s 5ms/step - loss: 0.0089 - accuracy: 0.9984\n",
      "Epoch 51/100\n",
      "200/200 [==============================] - 1s 5ms/step - loss: 0.0088 - accuracy: 0.9984\n",
      "Epoch 52/100\n",
      "200/200 [==============================] - 1s 5ms/step - loss: 0.0088 - accuracy: 0.9984\n",
      "Epoch 53/100\n",
      "200/200 [==============================] - 1s 5ms/step - loss: 0.0088 - accuracy: 0.9984\n",
      "Epoch 54/100\n",
      "200/200 [==============================] - 1s 5ms/step - loss: 0.0088 - accuracy: 0.9986\n",
      "Epoch 55/100\n",
      "200/200 [==============================] - 1s 5ms/step - loss: 0.0088 - accuracy: 0.9984\n",
      "Epoch 56/100\n",
      "200/200 [==============================] - 1s 5ms/step - loss: 0.0087 - accuracy: 0.9984\n",
      "Epoch 57/100\n",
      "200/200 [==============================] - 1s 5ms/step - loss: 0.0087 - accuracy: 0.9984\n",
      "Epoch 58/100\n",
      "200/200 [==============================] - 1s 5ms/step - loss: 0.0086 - accuracy: 0.9986\n",
      "Epoch 59/100\n",
      "200/200 [==============================] - 1s 5ms/step - loss: 0.0087 - accuracy: 0.9984\n",
      "Epoch 60/100\n",
      "200/200 [==============================] - 1s 5ms/step - loss: 0.0086 - accuracy: 0.9984\n",
      "Epoch 61/100\n",
      "200/200 [==============================] - 1s 5ms/step - loss: 0.0088 - accuracy: 0.9984\n",
      "Epoch 62/100\n",
      "200/200 [==============================] - 1s 5ms/step - loss: 0.0086 - accuracy: 0.9986\n",
      "Epoch 63/100\n",
      "200/200 [==============================] - 1s 5ms/step - loss: 0.0086 - accuracy: 0.9984\n",
      "Epoch 64/100\n",
      "200/200 [==============================] - 1s 4ms/step - loss: 0.0086 - accuracy: 0.9984\n",
      "Epoch 65/100\n",
      "200/200 [==============================] - 1s 5ms/step - loss: 0.0085 - accuracy: 0.9986\n",
      "Epoch 66/100\n",
      "200/200 [==============================] - 1s 4ms/step - loss: 0.0085 - accuracy: 0.9986\n",
      "Epoch 67/100\n",
      "200/200 [==============================] - 1s 5ms/step - loss: 0.0084 - accuracy: 0.9986\n",
      "Epoch 68/100\n",
      "200/200 [==============================] - 1s 5ms/step - loss: 0.0085 - accuracy: 0.9986\n",
      "Epoch 69/100\n",
      "200/200 [==============================] - 1s 5ms/step - loss: 0.0085 - accuracy: 0.9984\n",
      "Epoch 70/100\n",
      "200/200 [==============================] - 1s 5ms/step - loss: 0.0083 - accuracy: 0.9986\n",
      "Epoch 71/100\n",
      "200/200 [==============================] - 1s 5ms/step - loss: 0.0085 - accuracy: 0.9984\n",
      "Epoch 72/100\n",
      "200/200 [==============================] - 1s 5ms/step - loss: 0.0085 - accuracy: 0.9984\n",
      "Epoch 73/100\n",
      "200/200 [==============================] - 1s 5ms/step - loss: 0.0084 - accuracy: 0.9986\n",
      "Epoch 74/100\n",
      "200/200 [==============================] - 1s 5ms/step - loss: 0.0083 - accuracy: 0.9986\n",
      "Epoch 75/100\n",
      "200/200 [==============================] - 1s 5ms/step - loss: 0.0084 - accuracy: 0.9986\n",
      "Epoch 76/100\n",
      "200/200 [==============================] - 1s 5ms/step - loss: 0.0083 - accuracy: 0.9986\n",
      "Epoch 77/100\n",
      "200/200 [==============================] - 1s 5ms/step - loss: 0.0084 - accuracy: 0.9984\n",
      "Epoch 78/100\n",
      "200/200 [==============================] - 1s 5ms/step - loss: 0.0083 - accuracy: 0.9986\n",
      "Epoch 79/100\n",
      "200/200 [==============================] - 1s 5ms/step - loss: 0.0083 - accuracy: 0.9986\n",
      "Epoch 80/100\n",
      "200/200 [==============================] - 1s 5ms/step - loss: 0.0083 - accuracy: 0.9984\n",
      "Epoch 81/100\n",
      "200/200 [==============================] - 1s 5ms/step - loss: 0.0082 - accuracy: 0.9986\n",
      "Epoch 82/100\n",
      "200/200 [==============================] - 1s 5ms/step - loss: 0.0084 - accuracy: 0.9986\n",
      "Epoch 83/100\n",
      "200/200 [==============================] - 1s 5ms/step - loss: 0.0082 - accuracy: 0.9986\n",
      "Epoch 84/100\n",
      "200/200 [==============================] - 1s 5ms/step - loss: 0.0082 - accuracy: 0.9986\n",
      "Epoch 85/100\n",
      "200/200 [==============================] - 1s 5ms/step - loss: 0.0083 - accuracy: 0.9984\n",
      "Epoch 86/100\n",
      "200/200 [==============================] - 1s 5ms/step - loss: 0.0083 - accuracy: 0.9984\n",
      "Epoch 87/100\n",
      "200/200 [==============================] - 1s 5ms/step - loss: 0.0081 - accuracy: 0.9986\n",
      "Epoch 88/100\n",
      "200/200 [==============================] - 1s 5ms/step - loss: 0.0082 - accuracy: 0.9986\n",
      "Epoch 89/100\n",
      "200/200 [==============================] - 1s 5ms/step - loss: 0.0082 - accuracy: 0.9984\n",
      "Epoch 90/100\n",
      "200/200 [==============================] - 1s 5ms/step - loss: 0.0082 - accuracy: 0.9986\n",
      "Epoch 91/100\n",
      "200/200 [==============================] - 1s 5ms/step - loss: 0.0081 - accuracy: 0.9986\n",
      "Epoch 92/100\n",
      "200/200 [==============================] - 1s 4ms/step - loss: 0.0081 - accuracy: 0.9986\n",
      "Epoch 93/100\n",
      "200/200 [==============================] - 1s 5ms/step - loss: 0.0082 - accuracy: 0.9986\n",
      "Epoch 94/100\n",
      "200/200 [==============================] - 1s 5ms/step - loss: 0.0081 - accuracy: 0.9986\n",
      "Epoch 95/100\n",
      "200/200 [==============================] - 1s 5ms/step - loss: 0.0081 - accuracy: 0.9986\n",
      "Epoch 96/100\n",
      "200/200 [==============================] - 1s 5ms/step - loss: 0.0081 - accuracy: 0.9986\n",
      "Epoch 97/100\n",
      "200/200 [==============================] - 1s 5ms/step - loss: 0.0081 - accuracy: 0.9986\n",
      "Epoch 98/100\n",
      "200/200 [==============================] - 1s 4ms/step - loss: 0.0080 - accuracy: 0.9986\n",
      "Epoch 99/100\n",
      "200/200 [==============================] - 1s 5ms/step - loss: 0.0080 - accuracy: 0.9986\n",
      "Epoch 100/100\n",
      "200/200 [==============================] - 1s 5ms/step - loss: 0.0080 - accuracy: 0.9986\n",
      "50/50 [==============================] - 0s 4ms/step\n"
     ]
    },
    {
     "name": "stderr",
     "output_type": "stream",
     "text": [
      "WARNING:absl:Found untraced functions such as _update_step_xla while saving (showing 1 of 1). These functions will not be directly callable after loading.\n"
     ]
    },
    {
     "name": "stdout",
     "output_type": "stream",
     "text": [
      "WARNING:tensorflow:Detecting that an object or model or tf.train.Checkpoint is being deleted with unrestored values. See the following logs for the specific values in question. To silence these warnings, use `status.expect_partial()`. See https://www.tensorflow.org/api_docs/python/tf/train/Checkpoint#restorefor details about the status object returned by the restore function.\n"
     ]
    },
    {
     "name": "stderr",
     "output_type": "stream",
     "text": [
      "WARNING:tensorflow:Detecting that an object or model or tf.train.Checkpoint is being deleted with unrestored values. See the following logs for the specific values in question. To silence these warnings, use `status.expect_partial()`. See https://www.tensorflow.org/api_docs/python/tf/train/Checkpoint#restorefor details about the status object returned by the restore function.\n"
     ]
    },
    {
     "name": "stdout",
     "output_type": "stream",
     "text": [
      "WARNING:tensorflow:Value in checkpoint could not be found in the restored object: (root).keras_api.metrics.0.total\n"
     ]
    },
    {
     "name": "stderr",
     "output_type": "stream",
     "text": [
      "WARNING:tensorflow:Value in checkpoint could not be found in the restored object: (root).keras_api.metrics.0.total\n"
     ]
    },
    {
     "name": "stdout",
     "output_type": "stream",
     "text": [
      "WARNING:tensorflow:Value in checkpoint could not be found in the restored object: (root).keras_api.metrics.0.count\n"
     ]
    },
    {
     "name": "stderr",
     "output_type": "stream",
     "text": [
      "WARNING:tensorflow:Value in checkpoint could not be found in the restored object: (root).keras_api.metrics.0.count\n"
     ]
    },
    {
     "name": "stdout",
     "output_type": "stream",
     "text": [
      "WARNING:tensorflow:Value in checkpoint could not be found in the restored object: (root).keras_api.metrics.1.total\n"
     ]
    },
    {
     "name": "stderr",
     "output_type": "stream",
     "text": [
      "WARNING:tensorflow:Value in checkpoint could not be found in the restored object: (root).keras_api.metrics.1.total\n"
     ]
    },
    {
     "name": "stdout",
     "output_type": "stream",
     "text": [
      "WARNING:tensorflow:Value in checkpoint could not be found in the restored object: (root).keras_api.metrics.1.count\n"
     ]
    },
    {
     "name": "stderr",
     "output_type": "stream",
     "text": [
      "WARNING:tensorflow:Value in checkpoint could not be found in the restored object: (root).keras_api.metrics.1.count\n"
     ]
    },
    {
     "name": "stdout",
     "output_type": "stream",
     "text": [
      "WARNING:tensorflow:Detecting that an object or model or tf.train.Checkpoint is being deleted with unrestored values. See the following logs for the specific values in question. To silence these warnings, use `status.expect_partial()`. See https://www.tensorflow.org/api_docs/python/tf/train/Checkpoint#restorefor details about the status object returned by the restore function.\n"
     ]
    },
    {
     "name": "stderr",
     "output_type": "stream",
     "text": [
      "WARNING:tensorflow:Detecting that an object or model or tf.train.Checkpoint is being deleted with unrestored values. See the following logs for the specific values in question. To silence these warnings, use `status.expect_partial()`. See https://www.tensorflow.org/api_docs/python/tf/train/Checkpoint#restorefor details about the status object returned by the restore function.\n"
     ]
    },
    {
     "name": "stdout",
     "output_type": "stream",
     "text": [
      "WARNING:tensorflow:Value in checkpoint could not be found in the restored object: (root).keras_api.metrics.0.total\n"
     ]
    },
    {
     "name": "stderr",
     "output_type": "stream",
     "text": [
      "WARNING:tensorflow:Value in checkpoint could not be found in the restored object: (root).keras_api.metrics.0.total\n"
     ]
    },
    {
     "name": "stdout",
     "output_type": "stream",
     "text": [
      "WARNING:tensorflow:Value in checkpoint could not be found in the restored object: (root).keras_api.metrics.0.count\n"
     ]
    },
    {
     "name": "stderr",
     "output_type": "stream",
     "text": [
      "WARNING:tensorflow:Value in checkpoint could not be found in the restored object: (root).keras_api.metrics.0.count\n"
     ]
    },
    {
     "name": "stdout",
     "output_type": "stream",
     "text": [
      "WARNING:tensorflow:Value in checkpoint could not be found in the restored object: (root).keras_api.metrics.1.total\n"
     ]
    },
    {
     "name": "stderr",
     "output_type": "stream",
     "text": [
      "WARNING:tensorflow:Value in checkpoint could not be found in the restored object: (root).keras_api.metrics.1.total\n"
     ]
    },
    {
     "name": "stdout",
     "output_type": "stream",
     "text": [
      "WARNING:tensorflow:Value in checkpoint could not be found in the restored object: (root).keras_api.metrics.1.count\n"
     ]
    },
    {
     "name": "stderr",
     "output_type": "stream",
     "text": [
      "WARNING:tensorflow:Value in checkpoint could not be found in the restored object: (root).keras_api.metrics.1.count\n"
     ]
    },
    {
     "name": "stdout",
     "output_type": "stream",
     "text": [
      "WARNING:tensorflow:Detecting that an object or model or tf.train.Checkpoint is being deleted with unrestored values. See the following logs for the specific values in question. To silence these warnings, use `status.expect_partial()`. See https://www.tensorflow.org/api_docs/python/tf/train/Checkpoint#restorefor details about the status object returned by the restore function.\n"
     ]
    },
    {
     "name": "stderr",
     "output_type": "stream",
     "text": [
      "WARNING:tensorflow:Detecting that an object or model or tf.train.Checkpoint is being deleted with unrestored values. See the following logs for the specific values in question. To silence these warnings, use `status.expect_partial()`. See https://www.tensorflow.org/api_docs/python/tf/train/Checkpoint#restorefor details about the status object returned by the restore function.\n"
     ]
    },
    {
     "name": "stdout",
     "output_type": "stream",
     "text": [
      "WARNING:tensorflow:Value in checkpoint could not be found in the restored object: (root).keras_api.metrics.0.total\n"
     ]
    },
    {
     "name": "stderr",
     "output_type": "stream",
     "text": [
      "WARNING:tensorflow:Value in checkpoint could not be found in the restored object: (root).keras_api.metrics.0.total\n"
     ]
    },
    {
     "name": "stdout",
     "output_type": "stream",
     "text": [
      "WARNING:tensorflow:Value in checkpoint could not be found in the restored object: (root).keras_api.metrics.0.count\n"
     ]
    },
    {
     "name": "stderr",
     "output_type": "stream",
     "text": [
      "WARNING:tensorflow:Value in checkpoint could not be found in the restored object: (root).keras_api.metrics.0.count\n"
     ]
    },
    {
     "name": "stdout",
     "output_type": "stream",
     "text": [
      "WARNING:tensorflow:Value in checkpoint could not be found in the restored object: (root).keras_api.metrics.1.total\n"
     ]
    },
    {
     "name": "stderr",
     "output_type": "stream",
     "text": [
      "WARNING:tensorflow:Value in checkpoint could not be found in the restored object: (root).keras_api.metrics.1.total\n"
     ]
    },
    {
     "name": "stdout",
     "output_type": "stream",
     "text": [
      "WARNING:tensorflow:Value in checkpoint could not be found in the restored object: (root).keras_api.metrics.1.count\n"
     ]
    },
    {
     "name": "stderr",
     "output_type": "stream",
     "text": [
      "WARNING:tensorflow:Value in checkpoint could not be found in the restored object: (root).keras_api.metrics.1.count\n"
     ]
    },
    {
     "name": "stdout",
     "output_type": "stream",
     "text": [
      "WARNING:tensorflow:Detecting that an object or model or tf.train.Checkpoint is being deleted with unrestored values. See the following logs for the specific values in question. To silence these warnings, use `status.expect_partial()`. See https://www.tensorflow.org/api_docs/python/tf/train/Checkpoint#restorefor details about the status object returned by the restore function.\n"
     ]
    },
    {
     "name": "stderr",
     "output_type": "stream",
     "text": [
      "WARNING:tensorflow:Detecting that an object or model or tf.train.Checkpoint is being deleted with unrestored values. See the following logs for the specific values in question. To silence these warnings, use `status.expect_partial()`. See https://www.tensorflow.org/api_docs/python/tf/train/Checkpoint#restorefor details about the status object returned by the restore function.\n"
     ]
    },
    {
     "name": "stdout",
     "output_type": "stream",
     "text": [
      "WARNING:tensorflow:Value in checkpoint could not be found in the restored object: (root).keras_api.metrics.0.total\n"
     ]
    },
    {
     "name": "stderr",
     "output_type": "stream",
     "text": [
      "WARNING:tensorflow:Value in checkpoint could not be found in the restored object: (root).keras_api.metrics.0.total\n"
     ]
    },
    {
     "name": "stdout",
     "output_type": "stream",
     "text": [
      "WARNING:tensorflow:Value in checkpoint could not be found in the restored object: (root).keras_api.metrics.0.count\n"
     ]
    },
    {
     "name": "stderr",
     "output_type": "stream",
     "text": [
      "WARNING:tensorflow:Value in checkpoint could not be found in the restored object: (root).keras_api.metrics.0.count\n"
     ]
    },
    {
     "name": "stdout",
     "output_type": "stream",
     "text": [
      "WARNING:tensorflow:Value in checkpoint could not be found in the restored object: (root).keras_api.metrics.1.total\n"
     ]
    },
    {
     "name": "stderr",
     "output_type": "stream",
     "text": [
      "WARNING:tensorflow:Value in checkpoint could not be found in the restored object: (root).keras_api.metrics.1.total\n"
     ]
    },
    {
     "name": "stdout",
     "output_type": "stream",
     "text": [
      "WARNING:tensorflow:Value in checkpoint could not be found in the restored object: (root).keras_api.metrics.1.count\n"
     ]
    },
    {
     "name": "stderr",
     "output_type": "stream",
     "text": [
      "WARNING:tensorflow:Value in checkpoint could not be found in the restored object: (root).keras_api.metrics.1.count\n"
     ]
    },
    {
     "name": "stdout",
     "output_type": "stream",
     "text": [
      "WARNING:tensorflow:Detecting that an object or model or tf.train.Checkpoint is being deleted with unrestored values. See the following logs for the specific values in question. To silence these warnings, use `status.expect_partial()`. See https://www.tensorflow.org/api_docs/python/tf/train/Checkpoint#restorefor details about the status object returned by the restore function.\n"
     ]
    },
    {
     "name": "stderr",
     "output_type": "stream",
     "text": [
      "WARNING:tensorflow:Detecting that an object or model or tf.train.Checkpoint is being deleted with unrestored values. See the following logs for the specific values in question. To silence these warnings, use `status.expect_partial()`. See https://www.tensorflow.org/api_docs/python/tf/train/Checkpoint#restorefor details about the status object returned by the restore function.\n"
     ]
    },
    {
     "name": "stdout",
     "output_type": "stream",
     "text": [
      "WARNING:tensorflow:Value in checkpoint could not be found in the restored object: (root).keras_api.metrics.0.total\n"
     ]
    },
    {
     "name": "stderr",
     "output_type": "stream",
     "text": [
      "WARNING:tensorflow:Value in checkpoint could not be found in the restored object: (root).keras_api.metrics.0.total\n"
     ]
    },
    {
     "name": "stdout",
     "output_type": "stream",
     "text": [
      "WARNING:tensorflow:Value in checkpoint could not be found in the restored object: (root).keras_api.metrics.0.count\n"
     ]
    },
    {
     "name": "stderr",
     "output_type": "stream",
     "text": [
      "WARNING:tensorflow:Value in checkpoint could not be found in the restored object: (root).keras_api.metrics.0.count\n"
     ]
    },
    {
     "name": "stdout",
     "output_type": "stream",
     "text": [
      "WARNING:tensorflow:Value in checkpoint could not be found in the restored object: (root).keras_api.metrics.1.total\n"
     ]
    },
    {
     "name": "stderr",
     "output_type": "stream",
     "text": [
      "WARNING:tensorflow:Value in checkpoint could not be found in the restored object: (root).keras_api.metrics.1.total\n"
     ]
    },
    {
     "name": "stdout",
     "output_type": "stream",
     "text": [
      "WARNING:tensorflow:Value in checkpoint could not be found in the restored object: (root).keras_api.metrics.1.count\n"
     ]
    },
    {
     "name": "stderr",
     "output_type": "stream",
     "text": [
      "WARNING:tensorflow:Value in checkpoint could not be found in the restored object: (root).keras_api.metrics.1.count\n"
     ]
    },
    {
     "name": "stdout",
     "output_type": "stream",
     "text": [
      "INFO:tensorflow:Assets written to: C:\\Users\\shubh\\AppData\\Local\\Temp\\tmpw4693wj8\\assets\n"
     ]
    },
    {
     "name": "stderr",
     "output_type": "stream",
     "text": [
      "INFO:tensorflow:Assets written to: C:\\Users\\shubh\\AppData\\Local\\Temp\\tmpw4693wj8\\assets\n"
     ]
    },
    {
     "name": "stdout",
     "output_type": "stream",
     "text": [
      "Epoch 1/100\n",
      "200/200 [==============================] - 3s 6ms/step - loss: 0.5793 - accuracy: 0.7941\n",
      "Epoch 2/100\n",
      "200/200 [==============================] - 1s 5ms/step - loss: 0.2675 - accuracy: 0.7959\n",
      "Epoch 3/100\n",
      "200/200 [==============================] - 1s 5ms/step - loss: 0.1378 - accuracy: 0.9631\n",
      "Epoch 4/100\n",
      "200/200 [==============================] - 1s 6ms/step - loss: 0.0831 - accuracy: 0.9980\n",
      "Epoch 5/100\n",
      "200/200 [==============================] - 1s 5ms/step - loss: 0.0536 - accuracy: 0.9980\n",
      "Epoch 6/100\n",
      "200/200 [==============================] - 1s 5ms/step - loss: 0.0368 - accuracy: 0.9980\n",
      "Epoch 7/100\n",
      "200/200 [==============================] - 1s 4ms/step - loss: 0.0273 - accuracy: 0.9980\n",
      "Epoch 8/100\n",
      "200/200 [==============================] - 1s 5ms/step - loss: 0.0217 - accuracy: 0.9980\n",
      "Epoch 9/100\n",
      "200/200 [==============================] - 1s 5ms/step - loss: 0.0183 - accuracy: 0.9980\n",
      "Epoch 10/100\n",
      "200/200 [==============================] - 1s 5ms/step - loss: 0.0161 - accuracy: 0.9980\n",
      "Epoch 11/100\n",
      "200/200 [==============================] - 1s 5ms/step - loss: 0.0146 - accuracy: 0.9980\n",
      "Epoch 12/100\n",
      "200/200 [==============================] - 1s 5ms/step - loss: 0.0135 - accuracy: 0.9980\n",
      "Epoch 13/100\n",
      "200/200 [==============================] - 1s 5ms/step - loss: 0.0129 - accuracy: 0.9980\n",
      "Epoch 14/100\n",
      "200/200 [==============================] - 1s 5ms/step - loss: 0.0123 - accuracy: 0.9980\n",
      "Epoch 15/100\n",
      "200/200 [==============================] - 1s 5ms/step - loss: 0.0119 - accuracy: 0.9980\n",
      "Epoch 16/100\n",
      "200/200 [==============================] - 1s 5ms/step - loss: 0.0116 - accuracy: 0.9980\n",
      "Epoch 17/100\n",
      "200/200 [==============================] - 1s 5ms/step - loss: 0.0114 - accuracy: 0.9980\n",
      "Epoch 18/100\n",
      "200/200 [==============================] - 1s 5ms/step - loss: 0.0111 - accuracy: 0.9980\n",
      "Epoch 19/100\n",
      "200/200 [==============================] - 1s 5ms/step - loss: 0.0110 - accuracy: 0.9980\n",
      "Epoch 20/100\n",
      "200/200 [==============================] - 1s 5ms/step - loss: 0.0107 - accuracy: 0.9980\n",
      "Epoch 21/100\n",
      "200/200 [==============================] - 1s 5ms/step - loss: 0.0107 - accuracy: 0.9980\n",
      "Epoch 22/100\n",
      "200/200 [==============================] - 1s 5ms/step - loss: 0.0105 - accuracy: 0.9980\n",
      "Epoch 23/100\n",
      "200/200 [==============================] - 1s 5ms/step - loss: 0.0105 - accuracy: 0.9980\n",
      "Epoch 24/100\n",
      "200/200 [==============================] - 1s 5ms/step - loss: 0.0104 - accuracy: 0.9980\n",
      "Epoch 25/100\n",
      "200/200 [==============================] - 1s 5ms/step - loss: 0.0103 - accuracy: 0.9980\n",
      "Epoch 26/100\n",
      "200/200 [==============================] - 1s 5ms/step - loss: 0.0101 - accuracy: 0.9981\n",
      "Epoch 27/100\n",
      "200/200 [==============================] - 1s 5ms/step - loss: 0.0102 - accuracy: 0.9980\n",
      "Epoch 28/100\n",
      "200/200 [==============================] - 1s 5ms/step - loss: 0.0101 - accuracy: 0.9980\n",
      "Epoch 29/100\n",
      "200/200 [==============================] - 1s 5ms/step - loss: 0.0100 - accuracy: 0.9981\n",
      "Epoch 30/100\n",
      "200/200 [==============================] - 1s 5ms/step - loss: 0.0099 - accuracy: 0.9980\n",
      "Epoch 31/100\n",
      "200/200 [==============================] - 1s 5ms/step - loss: 0.0099 - accuracy: 0.9980\n",
      "Epoch 32/100\n",
      "200/200 [==============================] - 1s 5ms/step - loss: 0.0099 - accuracy: 0.9981\n",
      "Epoch 33/100\n",
      "200/200 [==============================] - 1s 5ms/step - loss: 0.0098 - accuracy: 0.9980\n",
      "Epoch 34/100\n",
      "200/200 [==============================] - 1s 5ms/step - loss: 0.0098 - accuracy: 0.9981\n",
      "Epoch 35/100\n",
      "200/200 [==============================] - 1s 5ms/step - loss: 0.0097 - accuracy: 0.9980\n",
      "Epoch 36/100\n",
      "200/200 [==============================] - 1s 5ms/step - loss: 0.0096 - accuracy: 0.9981\n",
      "Epoch 37/100\n",
      "200/200 [==============================] - 1s 5ms/step - loss: 0.0096 - accuracy: 0.9981\n",
      "Epoch 38/100\n",
      "200/200 [==============================] - 1s 5ms/step - loss: 0.0095 - accuracy: 0.9981\n",
      "Epoch 39/100\n",
      "200/200 [==============================] - 1s 5ms/step - loss: 0.0094 - accuracy: 0.9980\n",
      "Epoch 40/100\n",
      "200/200 [==============================] - 1s 5ms/step - loss: 0.0093 - accuracy: 0.9981\n",
      "Epoch 41/100\n",
      "200/200 [==============================] - 1s 5ms/step - loss: 0.0092 - accuracy: 0.9983\n",
      "Epoch 42/100\n",
      "200/200 [==============================] - 1s 5ms/step - loss: 0.0091 - accuracy: 0.9981\n",
      "Epoch 43/100\n",
      "200/200 [==============================] - 1s 5ms/step - loss: 0.0090 - accuracy: 0.9983\n",
      "Epoch 44/100\n",
      "200/200 [==============================] - 1s 5ms/step - loss: 0.0090 - accuracy: 0.9981\n",
      "Epoch 45/100\n",
      "200/200 [==============================] - 1s 5ms/step - loss: 0.0089 - accuracy: 0.9983\n",
      "Epoch 46/100\n",
      "200/200 [==============================] - 1s 5ms/step - loss: 0.0088 - accuracy: 0.9981\n",
      "Epoch 47/100\n",
      "200/200 [==============================] - 1s 5ms/step - loss: 0.0087 - accuracy: 0.9983\n",
      "Epoch 48/100\n",
      "200/200 [==============================] - 1s 5ms/step - loss: 0.0088 - accuracy: 0.9980\n",
      "Epoch 49/100\n",
      "200/200 [==============================] - 1s 5ms/step - loss: 0.0087 - accuracy: 0.9981\n",
      "Epoch 50/100\n",
      "200/200 [==============================] - 1s 5ms/step - loss: 0.0086 - accuracy: 0.9983\n",
      "Epoch 51/100\n",
      "200/200 [==============================] - 1s 5ms/step - loss: 0.0085 - accuracy: 0.9983\n",
      "Epoch 52/100\n",
      "200/200 [==============================] - 1s 5ms/step - loss: 0.0085 - accuracy: 0.9983\n",
      "Epoch 53/100\n",
      "200/200 [==============================] - 1s 5ms/step - loss: 0.0085 - accuracy: 0.9984\n",
      "Epoch 54/100\n",
      "200/200 [==============================] - 1s 5ms/step - loss: 0.0085 - accuracy: 0.9983\n",
      "Epoch 55/100\n",
      "200/200 [==============================] - 1s 5ms/step - loss: 0.0084 - accuracy: 0.9983\n",
      "Epoch 56/100\n",
      "200/200 [==============================] - 1s 5ms/step - loss: 0.0083 - accuracy: 0.9983\n",
      "Epoch 57/100\n",
      "200/200 [==============================] - 1s 5ms/step - loss: 0.0083 - accuracy: 0.9983\n",
      "Epoch 58/100\n",
      "200/200 [==============================] - 1s 5ms/step - loss: 0.0083 - accuracy: 0.9984\n",
      "Epoch 59/100\n",
      "200/200 [==============================] - 1s 5ms/step - loss: 0.0082 - accuracy: 0.9983\n",
      "Epoch 60/100\n",
      "200/200 [==============================] - 1s 5ms/step - loss: 0.0080 - accuracy: 0.9984\n",
      "Epoch 61/100\n",
      "200/200 [==============================] - 1s 5ms/step - loss: 0.0084 - accuracy: 0.9983\n",
      "Epoch 62/100\n",
      "200/200 [==============================] - 1s 5ms/step - loss: 0.0081 - accuracy: 0.9983\n",
      "Epoch 63/100\n",
      "200/200 [==============================] - 1s 5ms/step - loss: 0.0080 - accuracy: 0.9984\n",
      "Epoch 64/100\n",
      "200/200 [==============================] - 1s 5ms/step - loss: 0.0080 - accuracy: 0.9983\n",
      "Epoch 65/100\n",
      "200/200 [==============================] - 1s 5ms/step - loss: 0.0080 - accuracy: 0.9983\n",
      "Epoch 66/100\n",
      "200/200 [==============================] - 1s 6ms/step - loss: 0.0079 - accuracy: 0.9984\n",
      "Epoch 67/100\n",
      "200/200 [==============================] - 1s 5ms/step - loss: 0.0079 - accuracy: 0.9984\n",
      "Epoch 68/100\n",
      "200/200 [==============================] - 1s 5ms/step - loss: 0.0079 - accuracy: 0.9983\n",
      "Epoch 69/100\n",
      "200/200 [==============================] - 1s 5ms/step - loss: 0.0078 - accuracy: 0.9984\n",
      "Epoch 70/100\n",
      "200/200 [==============================] - 1s 5ms/step - loss: 0.0078 - accuracy: 0.9984\n",
      "Epoch 71/100\n",
      "200/200 [==============================] - 1s 5ms/step - loss: 0.0078 - accuracy: 0.9983\n",
      "Epoch 72/100\n",
      "200/200 [==============================] - 1s 5ms/step - loss: 0.0078 - accuracy: 0.9983\n",
      "Epoch 73/100\n",
      "200/200 [==============================] - 1s 5ms/step - loss: 0.0077 - accuracy: 0.9984\n",
      "Epoch 74/100\n",
      "200/200 [==============================] - 1s 5ms/step - loss: 0.0077 - accuracy: 0.9984\n",
      "Epoch 75/100\n",
      "200/200 [==============================] - 1s 5ms/step - loss: 0.0076 - accuracy: 0.9984\n",
      "Epoch 76/100\n",
      "200/200 [==============================] - 1s 5ms/step - loss: 0.0076 - accuracy: 0.9983\n",
      "Epoch 77/100\n",
      "200/200 [==============================] - 1s 5ms/step - loss: 0.0077 - accuracy: 0.9984\n",
      "Epoch 78/100\n",
      "200/200 [==============================] - 1s 5ms/step - loss: 0.0075 - accuracy: 0.9984\n",
      "Epoch 79/100\n",
      "200/200 [==============================] - 1s 5ms/step - loss: 0.0075 - accuracy: 0.9984\n",
      "Epoch 80/100\n",
      "200/200 [==============================] - 1s 5ms/step - loss: 0.0076 - accuracy: 0.9984\n",
      "Epoch 81/100\n",
      "200/200 [==============================] - 1s 5ms/step - loss: 0.0075 - accuracy: 0.9983\n",
      "Epoch 82/100\n",
      "200/200 [==============================] - 1s 5ms/step - loss: 0.0075 - accuracy: 0.9984\n",
      "Epoch 83/100\n",
      "200/200 [==============================] - 1s 5ms/step - loss: 0.0074 - accuracy: 0.9983\n",
      "Epoch 84/100\n",
      "200/200 [==============================] - 1s 5ms/step - loss: 0.0074 - accuracy: 0.9984\n",
      "Epoch 85/100\n",
      "200/200 [==============================] - 1s 5ms/step - loss: 0.0073 - accuracy: 0.9984\n",
      "Epoch 86/100\n",
      "200/200 [==============================] - 1s 5ms/step - loss: 0.0074 - accuracy: 0.9983\n",
      "Epoch 87/100\n",
      "200/200 [==============================] - 1s 6ms/step - loss: 0.0073 - accuracy: 0.9984\n",
      "Epoch 88/100\n",
      "200/200 [==============================] - 1s 5ms/step - loss: 0.0073 - accuracy: 0.9984\n",
      "Epoch 89/100\n",
      "200/200 [==============================] - 1s 5ms/step - loss: 0.0072 - accuracy: 0.9984\n",
      "Epoch 90/100\n",
      "200/200 [==============================] - 1s 5ms/step - loss: 0.0072 - accuracy: 0.9984\n",
      "Epoch 91/100\n",
      "200/200 [==============================] - 1s 5ms/step - loss: 0.0073 - accuracy: 0.9984\n",
      "Epoch 92/100\n",
      "200/200 [==============================] - 1s 5ms/step - loss: 0.0072 - accuracy: 0.9984\n",
      "Epoch 93/100\n",
      "200/200 [==============================] - 1s 5ms/step - loss: 0.0072 - accuracy: 0.9984\n",
      "Epoch 94/100\n",
      "200/200 [==============================] - 1s 5ms/step - loss: 0.0071 - accuracy: 0.9984\n",
      "Epoch 95/100\n",
      "200/200 [==============================] - 1s 5ms/step - loss: 0.0071 - accuracy: 0.9984\n",
      "Epoch 96/100\n",
      "200/200 [==============================] - 1s 5ms/step - loss: 0.0071 - accuracy: 0.9984\n",
      "Epoch 97/100\n",
      "200/200 [==============================] - 1s 5ms/step - loss: 0.0071 - accuracy: 0.9984\n",
      "Epoch 98/100\n",
      "200/200 [==============================] - 1s 5ms/step - loss: 0.0071 - accuracy: 0.9984\n",
      "Epoch 99/100\n",
      "200/200 [==============================] - 1s 5ms/step - loss: 0.0070 - accuracy: 0.9984\n",
      "Epoch 100/100\n",
      "200/200 [==============================] - 1s 5ms/step - loss: 0.0070 - accuracy: 0.9984\n",
      "50/50 [==============================] - 0s 4ms/step\n"
     ]
    },
    {
     "name": "stderr",
     "output_type": "stream",
     "text": [
      "WARNING:absl:Found untraced functions such as _update_step_xla while saving (showing 1 of 1). These functions will not be directly callable after loading.\n"
     ]
    },
    {
     "name": "stdout",
     "output_type": "stream",
     "text": [
      "INFO:tensorflow:Assets written to: C:\\Users\\shubh\\AppData\\Local\\Temp\\tmp55199f3h\\assets\n"
     ]
    },
    {
     "name": "stderr",
     "output_type": "stream",
     "text": [
      "INFO:tensorflow:Assets written to: C:\\Users\\shubh\\AppData\\Local\\Temp\\tmp55199f3h\\assets\n"
     ]
    },
    {
     "name": "stdout",
     "output_type": "stream",
     "text": [
      "Epoch 1/100\n",
      "200/200 [==============================] - 3s 5ms/step - loss: 0.5795 - accuracy: 0.7948\n",
      "Epoch 2/100\n",
      "200/200 [==============================] - 1s 5ms/step - loss: 0.2734 - accuracy: 0.7958\n",
      "Epoch 3/100\n",
      "200/200 [==============================] - 1s 5ms/step - loss: 0.1683 - accuracy: 0.8150\n",
      "Epoch 4/100\n",
      "200/200 [==============================] - 1s 5ms/step - loss: 0.1395 - accuracy: 0.9959\n",
      "Epoch 5/100\n",
      "200/200 [==============================] - 1s 5ms/step - loss: 0.1239 - accuracy: 0.9987\n",
      "Epoch 6/100\n",
      "200/200 [==============================] - 1s 5ms/step - loss: 0.1108 - accuracy: 0.9987\n",
      "Epoch 7/100\n",
      "200/200 [==============================] - 1s 5ms/step - loss: 0.0993 - accuracy: 0.9987\n",
      "Epoch 8/100\n",
      "200/200 [==============================] - 1s 5ms/step - loss: 0.0890 - accuracy: 0.9987\n",
      "Epoch 9/100\n",
      "200/200 [==============================] - 1s 5ms/step - loss: 0.0799 - accuracy: 0.9987\n",
      "Epoch 10/100\n",
      "200/200 [==============================] - 1s 5ms/step - loss: 0.0719 - accuracy: 0.9987\n",
      "Epoch 11/100\n",
      "200/200 [==============================] - 1s 5ms/step - loss: 0.0648 - accuracy: 0.9987\n",
      "Epoch 12/100\n",
      "200/200 [==============================] - 1s 5ms/step - loss: 0.0585 - accuracy: 0.9987\n",
      "Epoch 13/100\n",
      "200/200 [==============================] - 1s 5ms/step - loss: 0.0530 - accuracy: 0.9987\n",
      "Epoch 14/100\n",
      "200/200 [==============================] - 1s 6ms/step - loss: 0.0480 - accuracy: 0.9987\n",
      "Epoch 15/100\n",
      "200/200 [==============================] - 1s 5ms/step - loss: 0.0436 - accuracy: 0.9987\n",
      "Epoch 16/100\n",
      "200/200 [==============================] - 1s 5ms/step - loss: 0.0398 - accuracy: 0.9987\n",
      "Epoch 17/100\n",
      "200/200 [==============================] - 1s 5ms/step - loss: 0.0362 - accuracy: 0.9987\n",
      "Epoch 18/100\n",
      "200/200 [==============================] - 1s 5ms/step - loss: 0.0332 - accuracy: 0.9987\n",
      "Epoch 19/100\n",
      "200/200 [==============================] - 1s 5ms/step - loss: 0.0305 - accuracy: 0.9987\n",
      "Epoch 20/100\n",
      "200/200 [==============================] - 1s 6ms/step - loss: 0.0280 - accuracy: 0.9987\n",
      "Epoch 21/100\n",
      "200/200 [==============================] - 1s 5ms/step - loss: 0.0258 - accuracy: 0.9987\n",
      "Epoch 22/100\n",
      "200/200 [==============================] - 1s 5ms/step - loss: 0.0239 - accuracy: 0.9987\n",
      "Epoch 23/100\n",
      "200/200 [==============================] - 1s 5ms/step - loss: 0.0222 - accuracy: 0.9987\n",
      "Epoch 24/100\n",
      "200/200 [==============================] - 1s 6ms/step - loss: 0.0205 - accuracy: 0.9989\n",
      "Epoch 25/100\n",
      "200/200 [==============================] - 1s 5ms/step - loss: 0.0192 - accuracy: 0.9987\n",
      "Epoch 26/100\n",
      "200/200 [==============================] - 1s 5ms/step - loss: 0.0179 - accuracy: 0.9987\n",
      "Epoch 27/100\n",
      "200/200 [==============================] - 1s 5ms/step - loss: 0.0167 - accuracy: 0.9989\n",
      "Epoch 28/100\n",
      "200/200 [==============================] - 1s 5ms/step - loss: 0.0158 - accuracy: 0.9987\n",
      "Epoch 29/100\n",
      "200/200 [==============================] - 1s 5ms/step - loss: 0.0148 - accuracy: 0.9989\n",
      "Epoch 30/100\n",
      "200/200 [==============================] - 1s 5ms/step - loss: 0.0140 - accuracy: 0.9987\n",
      "Epoch 31/100\n",
      "200/200 [==============================] - 1s 5ms/step - loss: 0.0132 - accuracy: 0.9989\n",
      "Epoch 32/100\n",
      "200/200 [==============================] - 1s 5ms/step - loss: 0.0125 - accuracy: 0.9989\n",
      "Epoch 33/100\n",
      "200/200 [==============================] - 1s 5ms/step - loss: 0.0119 - accuracy: 0.9989\n",
      "Epoch 34/100\n",
      "200/200 [==============================] - 1s 5ms/step - loss: 0.0114 - accuracy: 0.9989\n",
      "Epoch 35/100\n",
      "200/200 [==============================] - 1s 5ms/step - loss: 0.0109 - accuracy: 0.9989\n",
      "Epoch 36/100\n",
      "200/200 [==============================] - 1s 5ms/step - loss: 0.0104 - accuracy: 0.9989\n",
      "Epoch 37/100\n",
      "200/200 [==============================] - 1s 6ms/step - loss: 0.0100 - accuracy: 0.9989\n",
      "Epoch 38/100\n",
      "200/200 [==============================] - 1s 6ms/step - loss: 0.0097 - accuracy: 0.9989\n",
      "Epoch 39/100\n",
      "200/200 [==============================] - 1s 6ms/step - loss: 0.0094 - accuracy: 0.9989\n",
      "Epoch 40/100\n",
      "200/200 [==============================] - 1s 5ms/step - loss: 0.0091 - accuracy: 0.9989\n",
      "Epoch 41/100\n",
      "200/200 [==============================] - 1s 5ms/step - loss: 0.0088 - accuracy: 0.9989\n",
      "Epoch 42/100\n",
      "200/200 [==============================] - 1s 5ms/step - loss: 0.0086 - accuracy: 0.9989\n",
      "Epoch 43/100\n",
      "200/200 [==============================] - 1s 5ms/step - loss: 0.0084 - accuracy: 0.9989\n",
      "Epoch 44/100\n",
      "200/200 [==============================] - 1s 5ms/step - loss: 0.0082 - accuracy: 0.9989\n",
      "Epoch 45/100\n",
      "200/200 [==============================] - 1s 5ms/step - loss: 0.0081 - accuracy: 0.9989\n",
      "Epoch 46/100\n",
      "200/200 [==============================] - 1s 5ms/step - loss: 0.0079 - accuracy: 0.9989\n",
      "Epoch 47/100\n",
      "200/200 [==============================] - 1s 5ms/step - loss: 0.0078 - accuracy: 0.9989\n",
      "Epoch 48/100\n",
      "200/200 [==============================] - 1s 5ms/step - loss: 0.0077 - accuracy: 0.9989\n",
      "Epoch 49/100\n",
      "200/200 [==============================] - 1s 5ms/step - loss: 0.0076 - accuracy: 0.9989\n",
      "Epoch 50/100\n",
      "200/200 [==============================] - 1s 5ms/step - loss: 0.0075 - accuracy: 0.9989\n",
      "Epoch 51/100\n",
      "200/200 [==============================] - 1s 5ms/step - loss: 0.0074 - accuracy: 0.9989\n",
      "Epoch 52/100\n",
      "200/200 [==============================] - 1s 5ms/step - loss: 0.0074 - accuracy: 0.9989\n",
      "Epoch 53/100\n",
      "200/200 [==============================] - 1s 5ms/step - loss: 0.0073 - accuracy: 0.9989\n",
      "Epoch 54/100\n",
      "200/200 [==============================] - 1s 5ms/step - loss: 0.0072 - accuracy: 0.9989\n",
      "Epoch 55/100\n",
      "200/200 [==============================] - 1s 5ms/step - loss: 0.0072 - accuracy: 0.9989\n",
      "Epoch 56/100\n",
      "200/200 [==============================] - 1s 5ms/step - loss: 0.0072 - accuracy: 0.9989\n",
      "Epoch 57/100\n",
      "200/200 [==============================] - 1s 5ms/step - loss: 0.0071 - accuracy: 0.9989\n",
      "Epoch 58/100\n",
      "200/200 [==============================] - 1s 5ms/step - loss: 0.0071 - accuracy: 0.9989\n",
      "Epoch 59/100\n",
      "200/200 [==============================] - 1s 5ms/step - loss: 0.0071 - accuracy: 0.9989\n",
      "Epoch 60/100\n",
      "200/200 [==============================] - 1s 5ms/step - loss: 0.0070 - accuracy: 0.9989\n",
      "Epoch 61/100\n",
      "200/200 [==============================] - 1s 5ms/step - loss: 0.0070 - accuracy: 0.9989\n",
      "Epoch 62/100\n",
      "200/200 [==============================] - 1s 5ms/step - loss: 0.0070 - accuracy: 0.9989\n",
      "Epoch 63/100\n",
      "200/200 [==============================] - 1s 5ms/step - loss: 0.0070 - accuracy: 0.9989\n",
      "Epoch 64/100\n",
      "200/200 [==============================] - 1s 5ms/step - loss: 0.0070 - accuracy: 0.9989\n",
      "Epoch 65/100\n",
      "200/200 [==============================] - 1s 5ms/step - loss: 0.0069 - accuracy: 0.9989\n",
      "Epoch 66/100\n",
      "200/200 [==============================] - 1s 5ms/step - loss: 0.0069 - accuracy: 0.9989\n",
      "Epoch 67/100\n",
      "200/200 [==============================] - 1s 5ms/step - loss: 0.0069 - accuracy: 0.9989\n",
      "Epoch 68/100\n",
      "200/200 [==============================] - 1s 5ms/step - loss: 0.0069 - accuracy: 0.9989\n",
      "Epoch 69/100\n",
      "200/200 [==============================] - 1s 5ms/step - loss: 0.0069 - accuracy: 0.9989\n",
      "Epoch 70/100\n",
      "200/200 [==============================] - 1s 5ms/step - loss: 0.0069 - accuracy: 0.9989\n",
      "Epoch 71/100\n",
      "200/200 [==============================] - 1s 5ms/step - loss: 0.0069 - accuracy: 0.9989\n",
      "Epoch 72/100\n",
      "200/200 [==============================] - 1s 5ms/step - loss: 0.0069 - accuracy: 0.9989\n",
      "Epoch 73/100\n",
      "200/200 [==============================] - 1s 5ms/step - loss: 0.0069 - accuracy: 0.9989\n",
      "Epoch 74/100\n",
      "200/200 [==============================] - 1s 5ms/step - loss: 0.0069 - accuracy: 0.9989\n",
      "Epoch 75/100\n",
      "200/200 [==============================] - 1s 5ms/step - loss: 0.0069 - accuracy: 0.9989\n",
      "Epoch 76/100\n",
      "200/200 [==============================] - 1s 5ms/step - loss: 0.0069 - accuracy: 0.9989\n",
      "Epoch 77/100\n",
      "200/200 [==============================] - 1s 5ms/step - loss: 0.0069 - accuracy: 0.9989\n",
      "Epoch 78/100\n",
      "200/200 [==============================] - 1s 5ms/step - loss: 0.0069 - accuracy: 0.9989\n",
      "Epoch 79/100\n",
      "200/200 [==============================] - 1s 5ms/step - loss: 0.0069 - accuracy: 0.9989\n",
      "Epoch 80/100\n",
      "200/200 [==============================] - 1s 5ms/step - loss: 0.0069 - accuracy: 0.9989\n",
      "Epoch 81/100\n",
      "200/200 [==============================] - 1s 5ms/step - loss: 0.0068 - accuracy: 0.9989\n",
      "Epoch 82/100\n",
      "200/200 [==============================] - 1s 5ms/step - loss: 0.0068 - accuracy: 0.9989\n",
      "Epoch 83/100\n",
      "200/200 [==============================] - 1s 5ms/step - loss: 0.0068 - accuracy: 0.9989\n",
      "Epoch 84/100\n",
      "200/200 [==============================] - 1s 5ms/step - loss: 0.0068 - accuracy: 0.9989\n",
      "Epoch 85/100\n",
      "200/200 [==============================] - 1s 5ms/step - loss: 0.0068 - accuracy: 0.9989\n",
      "Epoch 86/100\n",
      "200/200 [==============================] - 1s 5ms/step - loss: 0.0069 - accuracy: 0.9989\n",
      "Epoch 87/100\n",
      "200/200 [==============================] - 1s 5ms/step - loss: 0.0069 - accuracy: 0.9989\n",
      "Epoch 88/100\n",
      "200/200 [==============================] - 1s 5ms/step - loss: 0.0069 - accuracy: 0.9989\n",
      "Epoch 89/100\n",
      "200/200 [==============================] - 1s 5ms/step - loss: 0.0068 - accuracy: 0.9989\n",
      "Epoch 90/100\n",
      "200/200 [==============================] - 1s 5ms/step - loss: 0.0068 - accuracy: 0.9989\n",
      "Epoch 91/100\n",
      "200/200 [==============================] - 1s 5ms/step - loss: 0.0068 - accuracy: 0.9989\n",
      "Epoch 92/100\n",
      "200/200 [==============================] - 1s 5ms/step - loss: 0.0068 - accuracy: 0.9989\n",
      "Epoch 93/100\n",
      "200/200 [==============================] - 1s 5ms/step - loss: 0.0068 - accuracy: 0.9989\n",
      "Epoch 94/100\n",
      "200/200 [==============================] - 1s 6ms/step - loss: 0.0068 - accuracy: 0.9989\n",
      "Epoch 95/100\n",
      "200/200 [==============================] - 1s 6ms/step - loss: 0.0068 - accuracy: 0.9989\n",
      "Epoch 96/100\n",
      "200/200 [==============================] - 1s 5ms/step - loss: 0.0068 - accuracy: 0.9989\n",
      "Epoch 97/100\n",
      "200/200 [==============================] - 1s 5ms/step - loss: 0.0068 - accuracy: 0.9989\n",
      "Epoch 98/100\n",
      "200/200 [==============================] - 1s 5ms/step - loss: 0.0068 - accuracy: 0.9989\n",
      "Epoch 99/100\n",
      "200/200 [==============================] - 1s 5ms/step - loss: 0.0068 - accuracy: 0.9989\n",
      "Epoch 100/100\n",
      "200/200 [==============================] - 1s 5ms/step - loss: 0.0068 - accuracy: 0.9989\n",
      "50/50 [==============================] - 0s 4ms/step\n"
     ]
    },
    {
     "name": "stderr",
     "output_type": "stream",
     "text": [
      "WARNING:absl:Found untraced functions such as _update_step_xla while saving (showing 1 of 1). These functions will not be directly callable after loading.\n"
     ]
    },
    {
     "name": "stdout",
     "output_type": "stream",
     "text": [
      "INFO:tensorflow:Assets written to: C:\\Users\\shubh\\AppData\\Local\\Temp\\tmpjx4qvpgz\\assets\n"
     ]
    },
    {
     "name": "stderr",
     "output_type": "stream",
     "text": [
      "INFO:tensorflow:Assets written to: C:\\Users\\shubh\\AppData\\Local\\Temp\\tmpjx4qvpgz\\assets\n"
     ]
    },
    {
     "name": "stdout",
     "output_type": "stream",
     "text": [
      "Epoch 1/100\n",
      "200/200 [==============================] - 3s 6ms/step - loss: 0.5789 - accuracy: 0.7944\n",
      "Epoch 2/100\n",
      "200/200 [==============================] - 1s 4ms/step - loss: 0.2727 - accuracy: 0.7958\n",
      "Epoch 3/100\n",
      "200/200 [==============================] - 1s 5ms/step - loss: 0.1689 - accuracy: 0.8183\n",
      "Epoch 4/100\n",
      "200/200 [==============================] - 1s 5ms/step - loss: 0.1409 - accuracy: 0.9959\n",
      "Epoch 5/100\n",
      "200/200 [==============================] - 1s 5ms/step - loss: 0.1256 - accuracy: 0.9983\n",
      "Epoch 6/100\n",
      "200/200 [==============================] - 1s 5ms/step - loss: 0.1126 - accuracy: 0.9984\n",
      "Epoch 7/100\n",
      "200/200 [==============================] - 1s 5ms/step - loss: 0.1011 - accuracy: 0.9984\n",
      "Epoch 8/100\n",
      "200/200 [==============================] - 1s 5ms/step - loss: 0.0910 - accuracy: 0.9984\n",
      "Epoch 9/100\n",
      "200/200 [==============================] - 1s 5ms/step - loss: 0.0820 - accuracy: 0.9984\n",
      "Epoch 10/100\n",
      "200/200 [==============================] - 1s 5ms/step - loss: 0.0740 - accuracy: 0.9984\n",
      "Epoch 11/100\n",
      "200/200 [==============================] - 1s 5ms/step - loss: 0.0669 - accuracy: 0.9984\n",
      "Epoch 12/100\n",
      "200/200 [==============================] - 1s 4ms/step - loss: 0.0606 - accuracy: 0.9984\n",
      "Epoch 13/100\n",
      "200/200 [==============================] - 1s 5ms/step - loss: 0.0551 - accuracy: 0.9984\n",
      "Epoch 14/100\n",
      "200/200 [==============================] - 1s 5ms/step - loss: 0.0502 - accuracy: 0.9984\n",
      "Epoch 15/100\n",
      "200/200 [==============================] - 1s 5ms/step - loss: 0.0458 - accuracy: 0.9984\n",
      "Epoch 16/100\n",
      "200/200 [==============================] - 1s 5ms/step - loss: 0.0420 - accuracy: 0.9984\n",
      "Epoch 17/100\n",
      "200/200 [==============================] - 1s 5ms/step - loss: 0.0385 - accuracy: 0.9984\n",
      "Epoch 18/100\n",
      "200/200 [==============================] - 1s 4ms/step - loss: 0.0355 - accuracy: 0.9984\n",
      "Epoch 19/100\n",
      "200/200 [==============================] - 1s 5ms/step - loss: 0.0328 - accuracy: 0.9984\n",
      "Epoch 20/100\n",
      "200/200 [==============================] - 1s 5ms/step - loss: 0.0303 - accuracy: 0.9984\n",
      "Epoch 21/100\n",
      "200/200 [==============================] - 1s 5ms/step - loss: 0.0282 - accuracy: 0.9984\n",
      "Epoch 22/100\n",
      "200/200 [==============================] - 1s 5ms/step - loss: 0.0262 - accuracy: 0.9984\n",
      "Epoch 23/100\n",
      "200/200 [==============================] - 1s 5ms/step - loss: 0.0245 - accuracy: 0.9984\n",
      "Epoch 24/100\n",
      "200/200 [==============================] - 1s 5ms/step - loss: 0.0229 - accuracy: 0.9984\n",
      "Epoch 25/100\n",
      "200/200 [==============================] - 1s 5ms/step - loss: 0.0216 - accuracy: 0.9984\n",
      "Epoch 26/100\n",
      "200/200 [==============================] - 1s 5ms/step - loss: 0.0202 - accuracy: 0.9984\n",
      "Epoch 27/100\n",
      "200/200 [==============================] - 1s 5ms/step - loss: 0.0192 - accuracy: 0.9984\n",
      "Epoch 28/100\n",
      "200/200 [==============================] - 1s 5ms/step - loss: 0.0181 - accuracy: 0.9984\n",
      "Epoch 29/100\n",
      "200/200 [==============================] - 1s 5ms/step - loss: 0.0172 - accuracy: 0.9984\n",
      "Epoch 30/100\n",
      "200/200 [==============================] - 1s 5ms/step - loss: 0.0164 - accuracy: 0.9984\n",
      "Epoch 31/100\n",
      "200/200 [==============================] - 1s 5ms/step - loss: 0.0156 - accuracy: 0.9984\n",
      "Epoch 32/100\n",
      "200/200 [==============================] - 1s 5ms/step - loss: 0.0150 - accuracy: 0.9984\n",
      "Epoch 33/100\n",
      "200/200 [==============================] - 1s 5ms/step - loss: 0.0144 - accuracy: 0.9984\n",
      "Epoch 34/100\n",
      "200/200 [==============================] - 1s 6ms/step - loss: 0.0138 - accuracy: 0.9984\n",
      "Epoch 35/100\n",
      "200/200 [==============================] - 1s 5ms/step - loss: 0.0134 - accuracy: 0.9984\n",
      "Epoch 36/100\n",
      "200/200 [==============================] - 1s 6ms/step - loss: 0.0129 - accuracy: 0.9984\n",
      "Epoch 37/100\n",
      "200/200 [==============================] - 1s 5ms/step - loss: 0.0126 - accuracy: 0.9984\n",
      "Epoch 38/100\n",
      "200/200 [==============================] - 1s 5ms/step - loss: 0.0122 - accuracy: 0.9984\n",
      "Epoch 39/100\n",
      "200/200 [==============================] - 1s 5ms/step - loss: 0.0118 - accuracy: 0.9984\n",
      "Epoch 40/100\n",
      "200/200 [==============================] - 1s 4ms/step - loss: 0.0116 - accuracy: 0.9984\n",
      "Epoch 41/100\n",
      "200/200 [==============================] - 1s 6ms/step - loss: 0.0113 - accuracy: 0.9984\n",
      "Epoch 42/100\n",
      "200/200 [==============================] - 1s 5ms/step - loss: 0.0111 - accuracy: 0.9984\n",
      "Epoch 43/100\n",
      "200/200 [==============================] - 1s 5ms/step - loss: 0.0109 - accuracy: 0.9984\n",
      "Epoch 44/100\n",
      "200/200 [==============================] - 1s 5ms/step - loss: 0.0107 - accuracy: 0.9984\n",
      "Epoch 45/100\n",
      "200/200 [==============================] - 1s 5ms/step - loss: 0.0105 - accuracy: 0.9984\n",
      "Epoch 46/100\n",
      "200/200 [==============================] - 1s 5ms/step - loss: 0.0104 - accuracy: 0.9984\n",
      "Epoch 47/100\n",
      "200/200 [==============================] - 1s 7ms/step - loss: 0.0102 - accuracy: 0.9984\n",
      "Epoch 48/100\n",
      "200/200 [==============================] - 1s 5ms/step - loss: 0.0102 - accuracy: 0.9984\n",
      "Epoch 49/100\n",
      "200/200 [==============================] - 1s 5ms/step - loss: 0.0100 - accuracy: 0.9984\n",
      "Epoch 50/100\n",
      "200/200 [==============================] - 1s 5ms/step - loss: 0.0099 - accuracy: 0.9984\n",
      "Epoch 51/100\n",
      "200/200 [==============================] - 1s 5ms/step - loss: 0.0097 - accuracy: 0.9984\n",
      "Epoch 52/100\n",
      "200/200 [==============================] - 1s 5ms/step - loss: 0.0098 - accuracy: 0.9984\n",
      "Epoch 53/100\n",
      "200/200 [==============================] - 1s 5ms/step - loss: 0.0096 - accuracy: 0.9984\n",
      "Epoch 54/100\n",
      "200/200 [==============================] - 1s 4ms/step - loss: 0.0095 - accuracy: 0.9984\n",
      "Epoch 55/100\n",
      "200/200 [==============================] - 1s 5ms/step - loss: 0.0096 - accuracy: 0.9984\n",
      "Epoch 56/100\n",
      "200/200 [==============================] - 1s 5ms/step - loss: 0.0094 - accuracy: 0.9984\n",
      "Epoch 57/100\n",
      "200/200 [==============================] - 1s 5ms/step - loss: 0.0095 - accuracy: 0.9984\n",
      "Epoch 58/100\n",
      "200/200 [==============================] - 1s 5ms/step - loss: 0.0094 - accuracy: 0.9984\n",
      "Epoch 59/100\n",
      "200/200 [==============================] - 1s 5ms/step - loss: 0.0092 - accuracy: 0.9984\n",
      "Epoch 60/100\n",
      "200/200 [==============================] - 1s 5ms/step - loss: 0.0093 - accuracy: 0.9984\n",
      "Epoch 61/100\n",
      "200/200 [==============================] - 1s 5ms/step - loss: 0.0092 - accuracy: 0.9984\n",
      "Epoch 62/100\n",
      "200/200 [==============================] - 1s 5ms/step - loss: 0.0092 - accuracy: 0.9984\n",
      "Epoch 63/100\n",
      "200/200 [==============================] - 1s 5ms/step - loss: 0.0091 - accuracy: 0.9984\n",
      "Epoch 64/100\n",
      "200/200 [==============================] - 1s 5ms/step - loss: 0.0090 - accuracy: 0.9984\n",
      "Epoch 65/100\n",
      "200/200 [==============================] - 1s 5ms/step - loss: 0.0091 - accuracy: 0.9984\n",
      "Epoch 66/100\n",
      "200/200 [==============================] - 1s 5ms/step - loss: 0.0090 - accuracy: 0.9984\n",
      "Epoch 67/100\n",
      "200/200 [==============================] - 1s 5ms/step - loss: 0.0090 - accuracy: 0.9984\n",
      "Epoch 68/100\n",
      "200/200 [==============================] - 1s 5ms/step - loss: 0.0089 - accuracy: 0.9984\n",
      "Epoch 69/100\n",
      "200/200 [==============================] - 1s 5ms/step - loss: 0.0089 - accuracy: 0.9984\n",
      "Epoch 70/100\n",
      "200/200 [==============================] - 1s 5ms/step - loss: 0.0089 - accuracy: 0.9986\n",
      "Epoch 71/100\n",
      "200/200 [==============================] - 1s 5ms/step - loss: 0.0087 - accuracy: 0.9984\n",
      "Epoch 72/100\n",
      "200/200 [==============================] - 1s 5ms/step - loss: 0.0089 - accuracy: 0.9984\n",
      "Epoch 73/100\n",
      "200/200 [==============================] - 1s 5ms/step - loss: 0.0088 - accuracy: 0.9984\n",
      "Epoch 74/100\n",
      "200/200 [==============================] - 1s 5ms/step - loss: 0.0088 - accuracy: 0.9986\n",
      "Epoch 75/100\n",
      "200/200 [==============================] - 1s 5ms/step - loss: 0.0087 - accuracy: 0.9986\n",
      "Epoch 76/100\n",
      "200/200 [==============================] - 1s 5ms/step - loss: 0.0088 - accuracy: 0.9984\n",
      "Epoch 77/100\n",
      "200/200 [==============================] - 1s 6ms/step - loss: 0.0086 - accuracy: 0.9984\n",
      "Epoch 78/100\n",
      "200/200 [==============================] - 1s 5ms/step - loss: 0.0086 - accuracy: 0.9986\n",
      "Epoch 79/100\n",
      "200/200 [==============================] - 1s 5ms/step - loss: 0.0085 - accuracy: 0.9986\n",
      "Epoch 80/100\n",
      "200/200 [==============================] - 1s 5ms/step - loss: 0.0086 - accuracy: 0.9984\n",
      "Epoch 81/100\n",
      "200/200 [==============================] - 1s 5ms/step - loss: 0.0083 - accuracy: 0.9984\n",
      "Epoch 82/100\n",
      "200/200 [==============================] - 1s 5ms/step - loss: 0.0085 - accuracy: 0.9986\n",
      "Epoch 83/100\n",
      "200/200 [==============================] - 1s 5ms/step - loss: 0.0085 - accuracy: 0.9984\n",
      "Epoch 84/100\n",
      "200/200 [==============================] - 1s 5ms/step - loss: 0.0083 - accuracy: 0.9986\n",
      "Epoch 85/100\n",
      "200/200 [==============================] - 1s 5ms/step - loss: 0.0084 - accuracy: 0.9986\n",
      "Epoch 86/100\n",
      "200/200 [==============================] - 1s 5ms/step - loss: 0.0083 - accuracy: 0.9984\n",
      "Epoch 87/100\n",
      "200/200 [==============================] - 1s 5ms/step - loss: 0.0084 - accuracy: 0.9986\n",
      "Epoch 88/100\n",
      "200/200 [==============================] - 1s 5ms/step - loss: 0.0083 - accuracy: 0.9984\n",
      "Epoch 89/100\n",
      "200/200 [==============================] - 1s 5ms/step - loss: 0.0083 - accuracy: 0.9986\n",
      "Epoch 90/100\n",
      "200/200 [==============================] - 1s 5ms/step - loss: 0.0084 - accuracy: 0.9986\n",
      "Epoch 91/100\n",
      "200/200 [==============================] - 1s 5ms/step - loss: 0.0081 - accuracy: 0.9986\n",
      "Epoch 92/100\n",
      "200/200 [==============================] - 1s 5ms/step - loss: 0.0084 - accuracy: 0.9986\n",
      "Epoch 93/100\n",
      "200/200 [==============================] - 1s 5ms/step - loss: 0.0081 - accuracy: 0.9986\n",
      "Epoch 94/100\n",
      "200/200 [==============================] - 1s 5ms/step - loss: 0.0082 - accuracy: 0.9986\n",
      "Epoch 95/100\n",
      "200/200 [==============================] - 1s 5ms/step - loss: 0.0082 - accuracy: 0.9986\n",
      "Epoch 96/100\n",
      "200/200 [==============================] - 1s 5ms/step - loss: 0.0081 - accuracy: 0.9986\n",
      "Epoch 97/100\n",
      "200/200 [==============================] - 1s 5ms/step - loss: 0.0081 - accuracy: 0.9986\n",
      "Epoch 98/100\n",
      "200/200 [==============================] - 1s 5ms/step - loss: 0.0081 - accuracy: 0.9986\n",
      "Epoch 99/100\n",
      "200/200 [==============================] - 1s 5ms/step - loss: 0.0081 - accuracy: 0.9986\n",
      "Epoch 100/100\n",
      "200/200 [==============================] - 1s 5ms/step - loss: 0.0081 - accuracy: 0.9986\n",
      "50/50 [==============================] - 0s 4ms/step\n"
     ]
    },
    {
     "name": "stderr",
     "output_type": "stream",
     "text": [
      "WARNING:absl:Found untraced functions such as _update_step_xla while saving (showing 1 of 1). These functions will not be directly callable after loading.\n"
     ]
    },
    {
     "name": "stdout",
     "output_type": "stream",
     "text": [
      "INFO:tensorflow:Assets written to: C:\\Users\\shubh\\AppData\\Local\\Temp\\tmp39wkh18k\\assets\n"
     ]
    },
    {
     "name": "stderr",
     "output_type": "stream",
     "text": [
      "INFO:tensorflow:Assets written to: C:\\Users\\shubh\\AppData\\Local\\Temp\\tmp39wkh18k\\assets\n"
     ]
    },
    {
     "name": "stdout",
     "output_type": "stream",
     "text": [
      "Epoch 1/100\n",
      "200/200 [==============================] - 3s 5ms/step - loss: 0.5795 - accuracy: 0.7942\n",
      "Epoch 2/100\n",
      "200/200 [==============================] - 1s 5ms/step - loss: 0.2713 - accuracy: 0.7959\n",
      "Epoch 3/100\n",
      "200/200 [==============================] - 1s 5ms/step - loss: 0.1677 - accuracy: 0.8219\n",
      "Epoch 4/100\n",
      "200/200 [==============================] - 1s 5ms/step - loss: 0.1403 - accuracy: 0.9966\n",
      "Epoch 5/100\n",
      "200/200 [==============================] - 1s 5ms/step - loss: 0.1252 - accuracy: 0.9983\n",
      "Epoch 6/100\n",
      "200/200 [==============================] - 1s 5ms/step - loss: 0.1123 - accuracy: 0.9983\n",
      "Epoch 7/100\n",
      "200/200 [==============================] - 1s 6ms/step - loss: 0.1009 - accuracy: 0.9983\n",
      "Epoch 8/100\n",
      "200/200 [==============================] - 1s 5ms/step - loss: 0.0908 - accuracy: 0.9983\n",
      "Epoch 9/100\n",
      "200/200 [==============================] - 1s 5ms/step - loss: 0.0819 - accuracy: 0.9983\n",
      "Epoch 10/100\n",
      "200/200 [==============================] - 1s 5ms/step - loss: 0.0739 - accuracy: 0.9983\n",
      "Epoch 11/100\n",
      "200/200 [==============================] - 1s 4ms/step - loss: 0.0669 - accuracy: 0.9983\n",
      "Epoch 12/100\n",
      "200/200 [==============================] - 1s 5ms/step - loss: 0.0606 - accuracy: 0.9983\n",
      "Epoch 13/100\n",
      "200/200 [==============================] - 1s 5ms/step - loss: 0.0552 - accuracy: 0.9983\n",
      "Epoch 14/100\n",
      "200/200 [==============================] - 1s 5ms/step - loss: 0.0503 - accuracy: 0.9983\n",
      "Epoch 15/100\n",
      "200/200 [==============================] - 1s 5ms/step - loss: 0.0460 - accuracy: 0.9983\n",
      "Epoch 16/100\n",
      "200/200 [==============================] - 1s 5ms/step - loss: 0.0422 - accuracy: 0.9983\n",
      "Epoch 17/100\n",
      "200/200 [==============================] - 1s 5ms/step - loss: 0.0388 - accuracy: 0.9983\n",
      "Epoch 18/100\n",
      "200/200 [==============================] - 1s 5ms/step - loss: 0.0358 - accuracy: 0.9983\n",
      "Epoch 19/100\n",
      "200/200 [==============================] - 1s 5ms/step - loss: 0.0330 - accuracy: 0.9983\n",
      "Epoch 20/100\n",
      "200/200 [==============================] - 1s 5ms/step - loss: 0.0307 - accuracy: 0.9983\n",
      "Epoch 21/100\n",
      "200/200 [==============================] - 1s 5ms/step - loss: 0.0285 - accuracy: 0.9983\n",
      "Epoch 22/100\n",
      "200/200 [==============================] - 1s 4ms/step - loss: 0.0266 - accuracy: 0.9983\n",
      "Epoch 23/100\n",
      "200/200 [==============================] - 1s 5ms/step - loss: 0.0249 - accuracy: 0.9983\n",
      "Epoch 24/100\n",
      "200/200 [==============================] - 1s 5ms/step - loss: 0.0233 - accuracy: 0.9983\n",
      "Epoch 25/100\n",
      "200/200 [==============================] - 1s 5ms/step - loss: 0.0220 - accuracy: 0.9983\n",
      "Epoch 26/100\n",
      "200/200 [==============================] - 1s 5ms/step - loss: 0.0207 - accuracy: 0.9983\n",
      "Epoch 27/100\n",
      "200/200 [==============================] - 1s 5ms/step - loss: 0.0196 - accuracy: 0.9983\n",
      "Epoch 28/100\n",
      "200/200 [==============================] - 1s 5ms/step - loss: 0.0186 - accuracy: 0.9983\n",
      "Epoch 29/100\n",
      "200/200 [==============================] - 1s 5ms/step - loss: 0.0177 - accuracy: 0.9983\n",
      "Epoch 30/100\n",
      "200/200 [==============================] - 1s 6ms/step - loss: 0.0169 - accuracy: 0.9983\n",
      "Epoch 31/100\n",
      "200/200 [==============================] - 1s 5ms/step - loss: 0.0162 - accuracy: 0.9983\n",
      "Epoch 32/100\n",
      "200/200 [==============================] - 1s 5ms/step - loss: 0.0156 - accuracy: 0.9983\n",
      "Epoch 33/100\n",
      "200/200 [==============================] - 1s 5ms/step - loss: 0.0149 - accuracy: 0.9983\n",
      "Epoch 34/100\n",
      "200/200 [==============================] - 1s 5ms/step - loss: 0.0144 - accuracy: 0.9983\n",
      "Epoch 35/100\n",
      "200/200 [==============================] - 1s 5ms/step - loss: 0.0140 - accuracy: 0.9983\n",
      "Epoch 36/100\n",
      "200/200 [==============================] - 1s 6ms/step - loss: 0.0135 - accuracy: 0.9983\n",
      "Epoch 37/100\n",
      "200/200 [==============================] - 1s 5ms/step - loss: 0.0132 - accuracy: 0.9983\n",
      "Epoch 38/100\n",
      "200/200 [==============================] - 1s 5ms/step - loss: 0.0128 - accuracy: 0.9983\n",
      "Epoch 39/100\n",
      "200/200 [==============================] - 1s 5ms/step - loss: 0.0125 - accuracy: 0.9983\n",
      "Epoch 40/100\n",
      "200/200 [==============================] - 1s 5ms/step - loss: 0.0123 - accuracy: 0.9983\n",
      "Epoch 41/100\n",
      "200/200 [==============================] - 1s 5ms/step - loss: 0.0120 - accuracy: 0.9983\n",
      "Epoch 42/100\n",
      "200/200 [==============================] - 1s 5ms/step - loss: 0.0118 - accuracy: 0.9983\n",
      "Epoch 43/100\n",
      "200/200 [==============================] - 1s 5ms/step - loss: 0.0117 - accuracy: 0.9983\n",
      "Epoch 44/100\n",
      "200/200 [==============================] - 1s 5ms/step - loss: 0.0114 - accuracy: 0.9983\n",
      "Epoch 45/100\n",
      "200/200 [==============================] - 1s 5ms/step - loss: 0.0113 - accuracy: 0.9983\n",
      "Epoch 46/100\n",
      "200/200 [==============================] - 1s 5ms/step - loss: 0.0112 - accuracy: 0.9983\n",
      "Epoch 47/100\n",
      "200/200 [==============================] - 1s 5ms/step - loss: 0.0110 - accuracy: 0.9983\n",
      "Epoch 48/100\n",
      "200/200 [==============================] - 1s 5ms/step - loss: 0.0110 - accuracy: 0.9983\n",
      "Epoch 49/100\n",
      "200/200 [==============================] - 1s 5ms/step - loss: 0.0108 - accuracy: 0.9983\n",
      "Epoch 50/100\n",
      "200/200 [==============================] - 1s 5ms/step - loss: 0.0108 - accuracy: 0.9983\n",
      "Epoch 51/100\n",
      "200/200 [==============================] - 1s 5ms/step - loss: 0.0107 - accuracy: 0.9983\n",
      "Epoch 52/100\n",
      "200/200 [==============================] - 1s 5ms/step - loss: 0.0106 - accuracy: 0.9983\n",
      "Epoch 53/100\n",
      "200/200 [==============================] - 1s 5ms/step - loss: 0.0106 - accuracy: 0.9983\n",
      "Epoch 54/100\n",
      "200/200 [==============================] - 1s 5ms/step - loss: 0.0105 - accuracy: 0.9983\n",
      "Epoch 55/100\n",
      "200/200 [==============================] - 1s 5ms/step - loss: 0.0105 - accuracy: 0.9983\n",
      "Epoch 56/100\n",
      "200/200 [==============================] - 1s 5ms/step - loss: 0.0105 - accuracy: 0.9983\n",
      "Epoch 57/100\n",
      "200/200 [==============================] - 1s 5ms/step - loss: 0.0105 - accuracy: 0.9983\n",
      "Epoch 58/100\n",
      "200/200 [==============================] - 1s 4ms/step - loss: 0.0104 - accuracy: 0.9983\n",
      "Epoch 59/100\n",
      "200/200 [==============================] - 1s 5ms/step - loss: 0.0104 - accuracy: 0.9983\n",
      "Epoch 60/100\n",
      "200/200 [==============================] - 1s 5ms/step - loss: 0.0103 - accuracy: 0.9983\n",
      "Epoch 61/100\n",
      "200/200 [==============================] - 1s 5ms/step - loss: 0.0103 - accuracy: 0.9983\n",
      "Epoch 62/100\n",
      "200/200 [==============================] - 1s 5ms/step - loss: 0.0103 - accuracy: 0.9983\n",
      "Epoch 63/100\n",
      "200/200 [==============================] - 1s 5ms/step - loss: 0.0103 - accuracy: 0.9983\n",
      "Epoch 64/100\n",
      "200/200 [==============================] - 1s 5ms/step - loss: 0.0102 - accuracy: 0.9983\n",
      "Epoch 65/100\n",
      "200/200 [==============================] - 1s 5ms/step - loss: 0.0103 - accuracy: 0.9983\n",
      "Epoch 66/100\n",
      "200/200 [==============================] - 1s 6ms/step - loss: 0.0103 - accuracy: 0.9981\n",
      "Epoch 67/100\n",
      "200/200 [==============================] - 1s 5ms/step - loss: 0.0102 - accuracy: 0.9983\n",
      "Epoch 68/100\n",
      "200/200 [==============================] - 1s 5ms/step - loss: 0.0102 - accuracy: 0.9983\n",
      "Epoch 69/100\n",
      "200/200 [==============================] - 1s 5ms/step - loss: 0.0101 - accuracy: 0.9983\n",
      "Epoch 70/100\n",
      "200/200 [==============================] - 1s 5ms/step - loss: 0.0101 - accuracy: 0.9983\n",
      "Epoch 71/100\n",
      "200/200 [==============================] - 1s 5ms/step - loss: 0.0102 - accuracy: 0.9983\n",
      "Epoch 72/100\n",
      "200/200 [==============================] - 1s 5ms/step - loss: 0.0102 - accuracy: 0.9983\n",
      "Epoch 73/100\n",
      "200/200 [==============================] - 1s 6ms/step - loss: 0.0102 - accuracy: 0.9983\n",
      "Epoch 74/100\n",
      "200/200 [==============================] - 1s 5ms/step - loss: 0.0102 - accuracy: 0.9983\n",
      "Epoch 75/100\n",
      "200/200 [==============================] - 1s 5ms/step - loss: 0.0100 - accuracy: 0.9981\n",
      "Epoch 76/100\n",
      "200/200 [==============================] - 1s 5ms/step - loss: 0.0101 - accuracy: 0.9983\n",
      "Epoch 77/100\n",
      "200/200 [==============================] - 1s 5ms/step - loss: 0.0102 - accuracy: 0.9983\n",
      "Epoch 78/100\n",
      "200/200 [==============================] - 1s 5ms/step - loss: 0.0100 - accuracy: 0.9981\n",
      "Epoch 79/100\n",
      "200/200 [==============================] - 1s 5ms/step - loss: 0.0101 - accuracy: 0.9983\n",
      "Epoch 80/100\n",
      "200/200 [==============================] - 1s 5ms/step - loss: 0.0102 - accuracy: 0.9983\n",
      "Epoch 81/100\n",
      "200/200 [==============================] - 1s 5ms/step - loss: 0.0101 - accuracy: 0.9983\n",
      "Epoch 82/100\n",
      "200/200 [==============================] - 1s 5ms/step - loss: 0.0101 - accuracy: 0.9983\n",
      "Epoch 83/100\n",
      "200/200 [==============================] - 1s 6ms/step - loss: 0.0100 - accuracy: 0.9983\n",
      "Epoch 84/100\n",
      "200/200 [==============================] - 1s 5ms/step - loss: 0.0101 - accuracy: 0.9983\n",
      "Epoch 85/100\n",
      "200/200 [==============================] - 1s 5ms/step - loss: 0.0101 - accuracy: 0.9983\n",
      "Epoch 86/100\n",
      "200/200 [==============================] - 1s 5ms/step - loss: 0.0101 - accuracy: 0.9983\n",
      "Epoch 87/100\n",
      "200/200 [==============================] - 1s 7ms/step - loss: 0.0101 - accuracy: 0.9983\n",
      "Epoch 88/100\n",
      "200/200 [==============================] - 1s 5ms/step - loss: 0.0101 - accuracy: 0.9983\n",
      "Epoch 89/100\n",
      "200/200 [==============================] - 1s 5ms/step - loss: 0.0101 - accuracy: 0.9983\n",
      "Epoch 90/100\n",
      "200/200 [==============================] - 1s 5ms/step - loss: 0.0100 - accuracy: 0.9983\n",
      "Epoch 91/100\n",
      "200/200 [==============================] - 1s 5ms/step - loss: 0.0100 - accuracy: 0.9983\n",
      "Epoch 92/100\n",
      "200/200 [==============================] - 1s 5ms/step - loss: 0.0101 - accuracy: 0.9983\n",
      "Epoch 93/100\n",
      "200/200 [==============================] - 1s 5ms/step - loss: 0.0101 - accuracy: 0.9981\n",
      "Epoch 94/100\n",
      "200/200 [==============================] - 1s 5ms/step - loss: 0.0101 - accuracy: 0.9983\n",
      "Epoch 95/100\n",
      "200/200 [==============================] - 1s 5ms/step - loss: 0.0100 - accuracy: 0.9983\n",
      "Epoch 96/100\n",
      "200/200 [==============================] - 1s 5ms/step - loss: 0.0100 - accuracy: 0.9983\n",
      "Epoch 97/100\n",
      "200/200 [==============================] - 1s 5ms/step - loss: 0.0099 - accuracy: 0.9983\n",
      "Epoch 98/100\n",
      "200/200 [==============================] - 1s 5ms/step - loss: 0.0101 - accuracy: 0.9983\n",
      "Epoch 99/100\n",
      "200/200 [==============================] - 1s 4ms/step - loss: 0.0101 - accuracy: 0.9983\n",
      "Epoch 100/100\n",
      "200/200 [==============================] - 1s 5ms/step - loss: 0.0100 - accuracy: 0.9983\n",
      "50/50 [==============================] - 0s 4ms/step\n"
     ]
    },
    {
     "name": "stderr",
     "output_type": "stream",
     "text": [
      "WARNING:absl:Found untraced functions such as _update_step_xla while saving (showing 1 of 1). These functions will not be directly callable after loading.\n"
     ]
    },
    {
     "name": "stdout",
     "output_type": "stream",
     "text": [
      "INFO:tensorflow:Assets written to: C:\\Users\\shubh\\AppData\\Local\\Temp\\tmpnp9dctgb\\assets\n"
     ]
    },
    {
     "name": "stderr",
     "output_type": "stream",
     "text": [
      "INFO:tensorflow:Assets written to: C:\\Users\\shubh\\AppData\\Local\\Temp\\tmpnp9dctgb\\assets\n"
     ]
    },
    {
     "name": "stdout",
     "output_type": "stream",
     "text": [
      "Epoch 1/100\n",
      "200/200 [==============================] - 3s 5ms/step - loss: 0.5803 - accuracy: 0.7953\n",
      "Epoch 2/100\n",
      "200/200 [==============================] - 1s 5ms/step - loss: 0.2723 - accuracy: 0.7959\n",
      "Epoch 3/100\n",
      "200/200 [==============================] - 1s 5ms/step - loss: 0.1679 - accuracy: 0.8198\n",
      "Epoch 4/100\n",
      "200/200 [==============================] - 1s 5ms/step - loss: 0.1401 - accuracy: 0.9959\n",
      "Epoch 5/100\n",
      "200/200 [==============================] - 1s 5ms/step - loss: 0.1248 - accuracy: 0.9984\n",
      "Epoch 6/100\n",
      "200/200 [==============================] - 1s 5ms/step - loss: 0.1119 - accuracy: 0.9984\n",
      "Epoch 7/100\n",
      "200/200 [==============================] - 1s 5ms/step - loss: 0.1005 - accuracy: 0.9984\n",
      "Epoch 8/100\n",
      "200/200 [==============================] - 1s 5ms/step - loss: 0.0904 - accuracy: 0.9984\n",
      "Epoch 9/100\n",
      "200/200 [==============================] - 1s 4ms/step - loss: 0.0814 - accuracy: 0.9984\n",
      "Epoch 10/100\n",
      "200/200 [==============================] - 1s 5ms/step - loss: 0.0734 - accuracy: 0.9984\n",
      "Epoch 11/100\n",
      "200/200 [==============================] - 1s 4ms/step - loss: 0.0664 - accuracy: 0.9984\n",
      "Epoch 12/100\n",
      "200/200 [==============================] - 1s 4ms/step - loss: 0.0601 - accuracy: 0.9984\n",
      "Epoch 13/100\n",
      "200/200 [==============================] - 1s 5ms/step - loss: 0.0546 - accuracy: 0.9984\n",
      "Epoch 14/100\n",
      "200/200 [==============================] - 1s 5ms/step - loss: 0.0497 - accuracy: 0.9984\n",
      "Epoch 15/100\n",
      "200/200 [==============================] - 2s 8ms/step - loss: 0.0454 - accuracy: 0.9984\n",
      "Epoch 16/100\n",
      "200/200 [==============================] - 1s 6ms/step - loss: 0.0415 - accuracy: 0.9984\n",
      "Epoch 17/100\n",
      "200/200 [==============================] - 1s 6ms/step - loss: 0.0381 - accuracy: 0.9984\n",
      "Epoch 18/100\n",
      "200/200 [==============================] - 1s 5ms/step - loss: 0.0351 - accuracy: 0.9984\n",
      "Epoch 19/100\n",
      "200/200 [==============================] - 1s 4ms/step - loss: 0.0324 - accuracy: 0.9984\n",
      "Epoch 20/100\n",
      "200/200 [==============================] - 1s 4ms/step - loss: 0.0300 - accuracy: 0.9984\n",
      "Epoch 21/100\n",
      "200/200 [==============================] - 1s 5ms/step - loss: 0.0278 - accuracy: 0.9984\n",
      "Epoch 22/100\n",
      "200/200 [==============================] - 1s 5ms/step - loss: 0.0259 - accuracy: 0.9984\n",
      "Epoch 23/100\n",
      "200/200 [==============================] - 1s 5ms/step - loss: 0.0241 - accuracy: 0.9984\n",
      "Epoch 24/100\n",
      "200/200 [==============================] - 1s 5ms/step - loss: 0.0227 - accuracy: 0.9984\n",
      "Epoch 25/100\n",
      "200/200 [==============================] - 1s 5ms/step - loss: 0.0213 - accuracy: 0.9984\n",
      "Epoch 26/100\n",
      "200/200 [==============================] - 1s 4ms/step - loss: 0.0200 - accuracy: 0.9984\n",
      "Epoch 27/100\n",
      "200/200 [==============================] - 1s 5ms/step - loss: 0.0188 - accuracy: 0.9984\n",
      "Epoch 28/100\n",
      "200/200 [==============================] - 1s 4ms/step - loss: 0.0179 - accuracy: 0.9984\n",
      "Epoch 29/100\n",
      "200/200 [==============================] - 1s 4ms/step - loss: 0.0170 - accuracy: 0.9984\n",
      "Epoch 30/100\n",
      "200/200 [==============================] - 1s 5ms/step - loss: 0.0162 - accuracy: 0.9984\n",
      "Epoch 31/100\n",
      "200/200 [==============================] - 1s 5ms/step - loss: 0.0155 - accuracy: 0.9984\n",
      "Epoch 32/100\n",
      "200/200 [==============================] - 1s 5ms/step - loss: 0.0147 - accuracy: 0.9984\n",
      "Epoch 33/100\n",
      "200/200 [==============================] - 1s 5ms/step - loss: 0.0142 - accuracy: 0.9984\n",
      "Epoch 34/100\n",
      "200/200 [==============================] - 1s 5ms/step - loss: 0.0137 - accuracy: 0.9984\n",
      "Epoch 35/100\n",
      "200/200 [==============================] - 1s 5ms/step - loss: 0.0132 - accuracy: 0.9984\n",
      "Epoch 36/100\n",
      "200/200 [==============================] - 1s 5ms/step - loss: 0.0128 - accuracy: 0.9984\n",
      "Epoch 37/100\n",
      "200/200 [==============================] - 1s 5ms/step - loss: 0.0124 - accuracy: 0.9984\n",
      "Epoch 38/100\n",
      "200/200 [==============================] - 1s 5ms/step - loss: 0.0121 - accuracy: 0.9984\n",
      "Epoch 39/100\n",
      "200/200 [==============================] - 1s 5ms/step - loss: 0.0117 - accuracy: 0.9984\n",
      "Epoch 40/100\n",
      "200/200 [==============================] - 1s 5ms/step - loss: 0.0115 - accuracy: 0.9984\n",
      "Epoch 41/100\n",
      "200/200 [==============================] - 1s 5ms/step - loss: 0.0113 - accuracy: 0.9984\n",
      "Epoch 42/100\n",
      "200/200 [==============================] - 1s 5ms/step - loss: 0.0110 - accuracy: 0.9984\n",
      "Epoch 43/100\n",
      "200/200 [==============================] - 1s 5ms/step - loss: 0.0108 - accuracy: 0.9984\n",
      "Epoch 44/100\n",
      "200/200 [==============================] - 1s 5ms/step - loss: 0.0107 - accuracy: 0.9984\n",
      "Epoch 45/100\n",
      "200/200 [==============================] - 1s 5ms/step - loss: 0.0105 - accuracy: 0.9984\n",
      "Epoch 46/100\n",
      "200/200 [==============================] - 1s 5ms/step - loss: 0.0103 - accuracy: 0.9984\n",
      "Epoch 47/100\n",
      "200/200 [==============================] - 1s 5ms/step - loss: 0.0102 - accuracy: 0.9984\n",
      "Epoch 48/100\n",
      "200/200 [==============================] - 1s 5ms/step - loss: 0.0101 - accuracy: 0.9984\n",
      "Epoch 49/100\n",
      "200/200 [==============================] - 1s 4ms/step - loss: 0.0100 - accuracy: 0.9984\n",
      "Epoch 50/100\n",
      "200/200 [==============================] - 1s 5ms/step - loss: 0.0099 - accuracy: 0.9984\n",
      "Epoch 51/100\n",
      "200/200 [==============================] - 1s 5ms/step - loss: 0.0098 - accuracy: 0.9984\n",
      "Epoch 52/100\n",
      "200/200 [==============================] - 1s 5ms/step - loss: 0.0098 - accuracy: 0.9984\n",
      "Epoch 53/100\n",
      "200/200 [==============================] - 1s 5ms/step - loss: 0.0097 - accuracy: 0.9984\n",
      "Epoch 54/100\n",
      "200/200 [==============================] - 1s 5ms/step - loss: 0.0096 - accuracy: 0.9984\n",
      "Epoch 55/100\n",
      "200/200 [==============================] - 1s 5ms/step - loss: 0.0095 - accuracy: 0.9984\n",
      "Epoch 56/100\n",
      "200/200 [==============================] - 1s 4ms/step - loss: 0.0095 - accuracy: 0.9984\n",
      "Epoch 57/100\n",
      "200/200 [==============================] - 1s 5ms/step - loss: 0.0094 - accuracy: 0.9984\n",
      "Epoch 58/100\n",
      "200/200 [==============================] - 1s 5ms/step - loss: 0.0095 - accuracy: 0.9984\n",
      "Epoch 59/100\n",
      "200/200 [==============================] - 1s 5ms/step - loss: 0.0094 - accuracy: 0.9984\n",
      "Epoch 60/100\n",
      "200/200 [==============================] - 1s 6ms/step - loss: 0.0094 - accuracy: 0.9984\n",
      "Epoch 61/100\n",
      "200/200 [==============================] - 1s 5ms/step - loss: 0.0094 - accuracy: 0.9984\n",
      "Epoch 62/100\n",
      "200/200 [==============================] - 1s 5ms/step - loss: 0.0092 - accuracy: 0.9984\n",
      "Epoch 63/100\n",
      "200/200 [==============================] - 1s 5ms/step - loss: 0.0092 - accuracy: 0.9984\n",
      "Epoch 64/100\n",
      "200/200 [==============================] - 1s 4ms/step - loss: 0.0092 - accuracy: 0.9984\n",
      "Epoch 65/100\n",
      "200/200 [==============================] - 1s 5ms/step - loss: 0.0092 - accuracy: 0.9984\n",
      "Epoch 66/100\n",
      "200/200 [==============================] - 1s 4ms/step - loss: 0.0093 - accuracy: 0.9984\n",
      "Epoch 67/100\n",
      "200/200 [==============================] - 1s 4ms/step - loss: 0.0092 - accuracy: 0.9984\n",
      "Epoch 68/100\n",
      "200/200 [==============================] - 1s 5ms/step - loss: 0.0091 - accuracy: 0.9984\n",
      "Epoch 69/100\n",
      "200/200 [==============================] - 1s 5ms/step - loss: 0.0092 - accuracy: 0.9984\n",
      "Epoch 70/100\n",
      "200/200 [==============================] - 1s 5ms/step - loss: 0.0092 - accuracy: 0.9984\n",
      "Epoch 71/100\n",
      "200/200 [==============================] - 1s 5ms/step - loss: 0.0091 - accuracy: 0.9984\n",
      "Epoch 72/100\n",
      "200/200 [==============================] - 1s 5ms/step - loss: 0.0091 - accuracy: 0.9984\n",
      "Epoch 73/100\n",
      "200/200 [==============================] - 1s 5ms/step - loss: 0.0089 - accuracy: 0.9984\n",
      "Epoch 74/100\n",
      "200/200 [==============================] - 1s 5ms/step - loss: 0.0092 - accuracy: 0.9984\n",
      "Epoch 75/100\n",
      "200/200 [==============================] - 1s 4ms/step - loss: 0.0090 - accuracy: 0.9984\n",
      "Epoch 76/100\n",
      "200/200 [==============================] - 1s 5ms/step - loss: 0.0090 - accuracy: 0.9984\n",
      "Epoch 77/100\n",
      "200/200 [==============================] - 1s 4ms/step - loss: 0.0090 - accuracy: 0.9984\n",
      "Epoch 78/100\n",
      "200/200 [==============================] - 1s 4ms/step - loss: 0.0091 - accuracy: 0.9984\n",
      "Epoch 79/100\n",
      "200/200 [==============================] - 1s 5ms/step - loss: 0.0090 - accuracy: 0.9984\n",
      "Epoch 80/100\n",
      "200/200 [==============================] - 1s 4ms/step - loss: 0.0090 - accuracy: 0.9984\n",
      "Epoch 81/100\n",
      "200/200 [==============================] - 1s 5ms/step - loss: 0.0089 - accuracy: 0.9984\n",
      "Epoch 82/100\n",
      "200/200 [==============================] - 1s 5ms/step - loss: 0.0090 - accuracy: 0.9984\n",
      "Epoch 83/100\n",
      "200/200 [==============================] - 1s 5ms/step - loss: 0.0091 - accuracy: 0.9984\n",
      "Epoch 84/100\n",
      "200/200 [==============================] - 1s 5ms/step - loss: 0.0088 - accuracy: 0.9984\n",
      "Epoch 85/100\n",
      "200/200 [==============================] - 1s 5ms/step - loss: 0.0090 - accuracy: 0.9984\n",
      "Epoch 86/100\n",
      "200/200 [==============================] - 1s 5ms/step - loss: 0.0089 - accuracy: 0.9984\n",
      "Epoch 87/100\n",
      "200/200 [==============================] - 1s 4ms/step - loss: 0.0090 - accuracy: 0.9984\n",
      "Epoch 88/100\n",
      "200/200 [==============================] - 1s 5ms/step - loss: 0.0088 - accuracy: 0.9984\n",
      "Epoch 89/100\n",
      "200/200 [==============================] - 1s 5ms/step - loss: 0.0089 - accuracy: 0.9984\n",
      "Epoch 90/100\n",
      "200/200 [==============================] - 1s 5ms/step - loss: 0.0089 - accuracy: 0.9984\n",
      "Epoch 91/100\n",
      "200/200 [==============================] - 1s 5ms/step - loss: 0.0088 - accuracy: 0.9984\n",
      "Epoch 92/100\n",
      "200/200 [==============================] - 1s 5ms/step - loss: 0.0089 - accuracy: 0.9984\n",
      "Epoch 93/100\n",
      "200/200 [==============================] - 1s 5ms/step - loss: 0.0088 - accuracy: 0.9984\n",
      "Epoch 94/100\n",
      "200/200 [==============================] - 1s 5ms/step - loss: 0.0086 - accuracy: 0.9984\n",
      "Epoch 95/100\n",
      "200/200 [==============================] - 1s 5ms/step - loss: 0.0089 - accuracy: 0.9984\n",
      "Epoch 96/100\n",
      "200/200 [==============================] - 1s 4ms/step - loss: 0.0086 - accuracy: 0.9984\n",
      "Epoch 97/100\n",
      "200/200 [==============================] - 1s 5ms/step - loss: 0.0089 - accuracy: 0.9984\n",
      "Epoch 98/100\n",
      "200/200 [==============================] - 1s 5ms/step - loss: 0.0088 - accuracy: 0.9984\n",
      "Epoch 99/100\n",
      "200/200 [==============================] - 1s 4ms/step - loss: 0.0088 - accuracy: 0.9984\n",
      "Epoch 100/100\n",
      "200/200 [==============================] - 1s 5ms/step - loss: 0.0088 - accuracy: 0.9984\n",
      "50/50 [==============================] - 0s 4ms/step\n",
      "WARNING:tensorflow:Detecting that an object or model or tf.train.Checkpoint is being deleted with unrestored values. See the following logs for the specific values in question. To silence these warnings, use `status.expect_partial()`. See https://www.tensorflow.org/api_docs/python/tf/train/Checkpoint#restorefor details about the status object returned by the restore function.\n"
     ]
    },
    {
     "name": "stderr",
     "output_type": "stream",
     "text": [
      "WARNING:tensorflow:Detecting that an object or model or tf.train.Checkpoint is being deleted with unrestored values. See the following logs for the specific values in question. To silence these warnings, use `status.expect_partial()`. See https://www.tensorflow.org/api_docs/python/tf/train/Checkpoint#restorefor details about the status object returned by the restore function.\n"
     ]
    },
    {
     "name": "stdout",
     "output_type": "stream",
     "text": [
      "WARNING:tensorflow:Value in checkpoint could not be found in the restored object: (root).keras_api.metrics.0.total\n"
     ]
    },
    {
     "name": "stderr",
     "output_type": "stream",
     "text": [
      "WARNING:tensorflow:Value in checkpoint could not be found in the restored object: (root).keras_api.metrics.0.total\n"
     ]
    },
    {
     "name": "stdout",
     "output_type": "stream",
     "text": [
      "WARNING:tensorflow:Value in checkpoint could not be found in the restored object: (root).keras_api.metrics.0.count\n"
     ]
    },
    {
     "name": "stderr",
     "output_type": "stream",
     "text": [
      "WARNING:tensorflow:Value in checkpoint could not be found in the restored object: (root).keras_api.metrics.0.count\n"
     ]
    },
    {
     "name": "stdout",
     "output_type": "stream",
     "text": [
      "WARNING:tensorflow:Value in checkpoint could not be found in the restored object: (root).keras_api.metrics.1.total\n"
     ]
    },
    {
     "name": "stderr",
     "output_type": "stream",
     "text": [
      "WARNING:tensorflow:Value in checkpoint could not be found in the restored object: (root).keras_api.metrics.1.total\n"
     ]
    },
    {
     "name": "stdout",
     "output_type": "stream",
     "text": [
      "WARNING:tensorflow:Value in checkpoint could not be found in the restored object: (root).keras_api.metrics.1.count\n"
     ]
    },
    {
     "name": "stderr",
     "output_type": "stream",
     "text": [
      "WARNING:tensorflow:Value in checkpoint could not be found in the restored object: (root).keras_api.metrics.1.count\n"
     ]
    },
    {
     "name": "stdout",
     "output_type": "stream",
     "text": [
      "WARNING:tensorflow:Detecting that an object or model or tf.train.Checkpoint is being deleted with unrestored values. See the following logs for the specific values in question. To silence these warnings, use `status.expect_partial()`. See https://www.tensorflow.org/api_docs/python/tf/train/Checkpoint#restorefor details about the status object returned by the restore function.\n"
     ]
    },
    {
     "name": "stderr",
     "output_type": "stream",
     "text": [
      "WARNING:tensorflow:Detecting that an object or model or tf.train.Checkpoint is being deleted with unrestored values. See the following logs for the specific values in question. To silence these warnings, use `status.expect_partial()`. See https://www.tensorflow.org/api_docs/python/tf/train/Checkpoint#restorefor details about the status object returned by the restore function.\n"
     ]
    },
    {
     "name": "stdout",
     "output_type": "stream",
     "text": [
      "WARNING:tensorflow:Value in checkpoint could not be found in the restored object: (root).keras_api.metrics.0.total\n"
     ]
    },
    {
     "name": "stderr",
     "output_type": "stream",
     "text": [
      "WARNING:tensorflow:Value in checkpoint could not be found in the restored object: (root).keras_api.metrics.0.total\n"
     ]
    },
    {
     "name": "stdout",
     "output_type": "stream",
     "text": [
      "WARNING:tensorflow:Value in checkpoint could not be found in the restored object: (root).keras_api.metrics.0.count\n"
     ]
    },
    {
     "name": "stderr",
     "output_type": "stream",
     "text": [
      "WARNING:tensorflow:Value in checkpoint could not be found in the restored object: (root).keras_api.metrics.0.count\n"
     ]
    },
    {
     "name": "stdout",
     "output_type": "stream",
     "text": [
      "WARNING:tensorflow:Value in checkpoint could not be found in the restored object: (root).keras_api.metrics.1.total\n"
     ]
    },
    {
     "name": "stderr",
     "output_type": "stream",
     "text": [
      "WARNING:tensorflow:Value in checkpoint could not be found in the restored object: (root).keras_api.metrics.1.total\n"
     ]
    },
    {
     "name": "stdout",
     "output_type": "stream",
     "text": [
      "WARNING:tensorflow:Value in checkpoint could not be found in the restored object: (root).keras_api.metrics.1.count\n"
     ]
    },
    {
     "name": "stderr",
     "output_type": "stream",
     "text": [
      "WARNING:tensorflow:Value in checkpoint could not be found in the restored object: (root).keras_api.metrics.1.count\n"
     ]
    },
    {
     "name": "stdout",
     "output_type": "stream",
     "text": [
      "WARNING:tensorflow:Detecting that an object or model or tf.train.Checkpoint is being deleted with unrestored values. See the following logs for the specific values in question. To silence these warnings, use `status.expect_partial()`. See https://www.tensorflow.org/api_docs/python/tf/train/Checkpoint#restorefor details about the status object returned by the restore function.\n"
     ]
    },
    {
     "name": "stderr",
     "output_type": "stream",
     "text": [
      "WARNING:tensorflow:Detecting that an object or model or tf.train.Checkpoint is being deleted with unrestored values. See the following logs for the specific values in question. To silence these warnings, use `status.expect_partial()`. See https://www.tensorflow.org/api_docs/python/tf/train/Checkpoint#restorefor details about the status object returned by the restore function.\n"
     ]
    },
    {
     "name": "stdout",
     "output_type": "stream",
     "text": [
      "WARNING:tensorflow:Value in checkpoint could not be found in the restored object: (root).keras_api.metrics.0.total\n"
     ]
    },
    {
     "name": "stderr",
     "output_type": "stream",
     "text": [
      "WARNING:tensorflow:Value in checkpoint could not be found in the restored object: (root).keras_api.metrics.0.total\n"
     ]
    },
    {
     "name": "stdout",
     "output_type": "stream",
     "text": [
      "WARNING:tensorflow:Value in checkpoint could not be found in the restored object: (root).keras_api.metrics.0.count\n"
     ]
    },
    {
     "name": "stderr",
     "output_type": "stream",
     "text": [
      "WARNING:tensorflow:Value in checkpoint could not be found in the restored object: (root).keras_api.metrics.0.count\n"
     ]
    },
    {
     "name": "stdout",
     "output_type": "stream",
     "text": [
      "WARNING:tensorflow:Value in checkpoint could not be found in the restored object: (root).keras_api.metrics.1.total\n"
     ]
    },
    {
     "name": "stderr",
     "output_type": "stream",
     "text": [
      "WARNING:tensorflow:Value in checkpoint could not be found in the restored object: (root).keras_api.metrics.1.total\n"
     ]
    },
    {
     "name": "stdout",
     "output_type": "stream",
     "text": [
      "WARNING:tensorflow:Value in checkpoint could not be found in the restored object: (root).keras_api.metrics.1.count\n"
     ]
    },
    {
     "name": "stderr",
     "output_type": "stream",
     "text": [
      "WARNING:tensorflow:Value in checkpoint could not be found in the restored object: (root).keras_api.metrics.1.count\n"
     ]
    },
    {
     "name": "stdout",
     "output_type": "stream",
     "text": [
      "WARNING:tensorflow:Detecting that an object or model or tf.train.Checkpoint is being deleted with unrestored values. See the following logs for the specific values in question. To silence these warnings, use `status.expect_partial()`. See https://www.tensorflow.org/api_docs/python/tf/train/Checkpoint#restorefor details about the status object returned by the restore function.\n"
     ]
    },
    {
     "name": "stderr",
     "output_type": "stream",
     "text": [
      "WARNING:tensorflow:Detecting that an object or model or tf.train.Checkpoint is being deleted with unrestored values. See the following logs for the specific values in question. To silence these warnings, use `status.expect_partial()`. See https://www.tensorflow.org/api_docs/python/tf/train/Checkpoint#restorefor details about the status object returned by the restore function.\n"
     ]
    },
    {
     "name": "stdout",
     "output_type": "stream",
     "text": [
      "WARNING:tensorflow:Value in checkpoint could not be found in the restored object: (root).keras_api.metrics.0.total\n"
     ]
    },
    {
     "name": "stderr",
     "output_type": "stream",
     "text": [
      "WARNING:tensorflow:Value in checkpoint could not be found in the restored object: (root).keras_api.metrics.0.total\n"
     ]
    },
    {
     "name": "stdout",
     "output_type": "stream",
     "text": [
      "WARNING:tensorflow:Value in checkpoint could not be found in the restored object: (root).keras_api.metrics.0.count\n"
     ]
    },
    {
     "name": "stderr",
     "output_type": "stream",
     "text": [
      "WARNING:tensorflow:Value in checkpoint could not be found in the restored object: (root).keras_api.metrics.0.count\n"
     ]
    },
    {
     "name": "stdout",
     "output_type": "stream",
     "text": [
      "WARNING:tensorflow:Value in checkpoint could not be found in the restored object: (root).keras_api.metrics.1.total\n"
     ]
    },
    {
     "name": "stderr",
     "output_type": "stream",
     "text": [
      "WARNING:tensorflow:Value in checkpoint could not be found in the restored object: (root).keras_api.metrics.1.total\n"
     ]
    },
    {
     "name": "stdout",
     "output_type": "stream",
     "text": [
      "WARNING:tensorflow:Value in checkpoint could not be found in the restored object: (root).keras_api.metrics.1.count\n"
     ]
    },
    {
     "name": "stderr",
     "output_type": "stream",
     "text": [
      "WARNING:tensorflow:Value in checkpoint could not be found in the restored object: (root).keras_api.metrics.1.count\n"
     ]
    },
    {
     "name": "stdout",
     "output_type": "stream",
     "text": [
      "WARNING:tensorflow:Detecting that an object or model or tf.train.Checkpoint is being deleted with unrestored values. See the following logs for the specific values in question. To silence these warnings, use `status.expect_partial()`. See https://www.tensorflow.org/api_docs/python/tf/train/Checkpoint#restorefor details about the status object returned by the restore function.\n"
     ]
    },
    {
     "name": "stderr",
     "output_type": "stream",
     "text": [
      "WARNING:tensorflow:Detecting that an object or model or tf.train.Checkpoint is being deleted with unrestored values. See the following logs for the specific values in question. To silence these warnings, use `status.expect_partial()`. See https://www.tensorflow.org/api_docs/python/tf/train/Checkpoint#restorefor details about the status object returned by the restore function.\n"
     ]
    },
    {
     "name": "stdout",
     "output_type": "stream",
     "text": [
      "WARNING:tensorflow:Value in checkpoint could not be found in the restored object: (root).keras_api.metrics.0.total\n"
     ]
    },
    {
     "name": "stderr",
     "output_type": "stream",
     "text": [
      "WARNING:tensorflow:Value in checkpoint could not be found in the restored object: (root).keras_api.metrics.0.total\n"
     ]
    },
    {
     "name": "stdout",
     "output_type": "stream",
     "text": [
      "WARNING:tensorflow:Value in checkpoint could not be found in the restored object: (root).keras_api.metrics.0.count\n"
     ]
    },
    {
     "name": "stderr",
     "output_type": "stream",
     "text": [
      "WARNING:tensorflow:Value in checkpoint could not be found in the restored object: (root).keras_api.metrics.0.count\n"
     ]
    },
    {
     "name": "stdout",
     "output_type": "stream",
     "text": [
      "WARNING:tensorflow:Value in checkpoint could not be found in the restored object: (root).keras_api.metrics.1.total\n"
     ]
    },
    {
     "name": "stderr",
     "output_type": "stream",
     "text": [
      "WARNING:tensorflow:Value in checkpoint could not be found in the restored object: (root).keras_api.metrics.1.total\n"
     ]
    },
    {
     "name": "stdout",
     "output_type": "stream",
     "text": [
      "WARNING:tensorflow:Value in checkpoint could not be found in the restored object: (root).keras_api.metrics.1.count\n"
     ]
    },
    {
     "name": "stderr",
     "output_type": "stream",
     "text": [
      "WARNING:tensorflow:Value in checkpoint could not be found in the restored object: (root).keras_api.metrics.1.count\n",
      "WARNING:absl:Found untraced functions such as _update_step_xla while saving (showing 1 of 1). These functions will not be directly callable after loading.\n"
     ]
    },
    {
     "name": "stdout",
     "output_type": "stream",
     "text": [
      "INFO:tensorflow:Assets written to: C:\\Users\\shubh\\AppData\\Local\\Temp\\tmpohyfjevf\\assets\n"
     ]
    },
    {
     "name": "stderr",
     "output_type": "stream",
     "text": [
      "INFO:tensorflow:Assets written to: C:\\Users\\shubh\\AppData\\Local\\Temp\\tmpohyfjevf\\assets\n"
     ]
    },
    {
     "name": "stdout",
     "output_type": "stream",
     "text": [
      "Epoch 1/100\n",
      "200/200 [==============================] - 3s 6ms/step - loss: 0.5790 - accuracy: 0.7945\n",
      "Epoch 2/100\n",
      "200/200 [==============================] - 1s 5ms/step - loss: 0.2705 - accuracy: 0.7959\n",
      "Epoch 3/100\n",
      "200/200 [==============================] - 1s 5ms/step - loss: 0.1451 - accuracy: 0.9436\n",
      "Epoch 4/100\n",
      "200/200 [==============================] - 1s 5ms/step - loss: 0.0878 - accuracy: 0.9980\n",
      "Epoch 5/100\n",
      "200/200 [==============================] - 1s 5ms/step - loss: 0.0560 - accuracy: 0.9980\n",
      "Epoch 6/100\n",
      "200/200 [==============================] - 1s 5ms/step - loss: 0.0379 - accuracy: 0.9980\n",
      "Epoch 7/100\n",
      "200/200 [==============================] - 1s 5ms/step - loss: 0.0277 - accuracy: 0.9980\n",
      "Epoch 8/100\n",
      "200/200 [==============================] - 1s 5ms/step - loss: 0.0220 - accuracy: 0.9980\n",
      "Epoch 9/100\n",
      "200/200 [==============================] - 1s 5ms/step - loss: 0.0184 - accuracy: 0.9980\n",
      "Epoch 10/100\n",
      "200/200 [==============================] - 1s 5ms/step - loss: 0.0162 - accuracy: 0.9980\n",
      "Epoch 11/100\n",
      "200/200 [==============================] - 1s 5ms/step - loss: 0.0148 - accuracy: 0.9980\n",
      "Epoch 12/100\n",
      "200/200 [==============================] - 1s 5ms/step - loss: 0.0138 - accuracy: 0.9980\n",
      "Epoch 13/100\n",
      "200/200 [==============================] - 1s 5ms/step - loss: 0.0132 - accuracy: 0.9980\n",
      "Epoch 14/100\n",
      "200/200 [==============================] - 1s 5ms/step - loss: 0.0128 - accuracy: 0.9980\n",
      "Epoch 15/100\n",
      "200/200 [==============================] - 1s 5ms/step - loss: 0.0124 - accuracy: 0.9980\n",
      "Epoch 16/100\n",
      "200/200 [==============================] - 1s 5ms/step - loss: 0.0122 - accuracy: 0.9980\n",
      "Epoch 17/100\n",
      "200/200 [==============================] - 1s 5ms/step - loss: 0.0120 - accuracy: 0.9980\n",
      "Epoch 18/100\n",
      "200/200 [==============================] - 1s 5ms/step - loss: 0.0119 - accuracy: 0.9980\n",
      "Epoch 19/100\n",
      "200/200 [==============================] - 1s 5ms/step - loss: 0.0118 - accuracy: 0.9980\n",
      "Epoch 20/100\n",
      "200/200 [==============================] - 1s 5ms/step - loss: 0.0116 - accuracy: 0.9980\n",
      "Epoch 21/100\n",
      "200/200 [==============================] - 1s 5ms/step - loss: 0.0117 - accuracy: 0.9980\n",
      "Epoch 22/100\n",
      "200/200 [==============================] - 1s 5ms/step - loss: 0.0116 - accuracy: 0.9980\n",
      "Epoch 23/100\n",
      "200/200 [==============================] - 1s 5ms/step - loss: 0.0115 - accuracy: 0.9980\n",
      "Epoch 24/100\n",
      "200/200 [==============================] - 1s 5ms/step - loss: 0.0114 - accuracy: 0.9980\n",
      "Epoch 25/100\n",
      "200/200 [==============================] - 1s 5ms/step - loss: 0.0112 - accuracy: 0.9980\n",
      "Epoch 26/100\n",
      "200/200 [==============================] - 1s 5ms/step - loss: 0.0112 - accuracy: 0.9980\n",
      "Epoch 27/100\n",
      "200/200 [==============================] - 1s 5ms/step - loss: 0.0109 - accuracy: 0.9980\n",
      "Epoch 28/100\n",
      "200/200 [==============================] - 1s 5ms/step - loss: 0.0109 - accuracy: 0.9980\n",
      "Epoch 29/100\n",
      "200/200 [==============================] - 1s 5ms/step - loss: 0.0107 - accuracy: 0.9980\n",
      "Epoch 30/100\n",
      "200/200 [==============================] - 1s 5ms/step - loss: 0.0105 - accuracy: 0.9981\n",
      "Epoch 31/100\n",
      "200/200 [==============================] - 1s 5ms/step - loss: 0.0105 - accuracy: 0.9980\n",
      "Epoch 32/100\n",
      "200/200 [==============================] - 1s 5ms/step - loss: 0.0104 - accuracy: 0.9980\n",
      "Epoch 33/100\n",
      "200/200 [==============================] - 1s 5ms/step - loss: 0.0103 - accuracy: 0.9981\n",
      "Epoch 34/100\n",
      "200/200 [==============================] - 1s 5ms/step - loss: 0.0103 - accuracy: 0.9980\n",
      "Epoch 35/100\n",
      "200/200 [==============================] - 1s 5ms/step - loss: 0.0102 - accuracy: 0.9980\n",
      "Epoch 36/100\n",
      "200/200 [==============================] - 1s 5ms/step - loss: 0.0101 - accuracy: 0.9980\n",
      "Epoch 37/100\n",
      "200/200 [==============================] - 1s 5ms/step - loss: 0.0101 - accuracy: 0.9980\n",
      "Epoch 38/100\n",
      "200/200 [==============================] - 1s 5ms/step - loss: 0.0099 - accuracy: 0.9981\n",
      "Epoch 39/100\n",
      "200/200 [==============================] - 1s 5ms/step - loss: 0.0101 - accuracy: 0.9980\n",
      "Epoch 40/100\n",
      "200/200 [==============================] - 1s 5ms/step - loss: 0.0100 - accuracy: 0.9980\n",
      "Epoch 41/100\n",
      "200/200 [==============================] - 1s 5ms/step - loss: 0.0099 - accuracy: 0.9981\n",
      "Epoch 42/100\n",
      "200/200 [==============================] - 1s 5ms/step - loss: 0.0098 - accuracy: 0.9980\n",
      "Epoch 43/100\n",
      "200/200 [==============================] - 1s 5ms/step - loss: 0.0100 - accuracy: 0.9980\n",
      "Epoch 44/100\n",
      "200/200 [==============================] - 1s 5ms/step - loss: 0.0098 - accuracy: 0.9980\n",
      "Epoch 45/100\n",
      "200/200 [==============================] - 1s 5ms/step - loss: 0.0098 - accuracy: 0.9981\n",
      "Epoch 46/100\n",
      "200/200 [==============================] - 1s 6ms/step - loss: 0.0096 - accuracy: 0.9981\n",
      "Epoch 47/100\n",
      "200/200 [==============================] - 1s 5ms/step - loss: 0.0097 - accuracy: 0.9980\n",
      "Epoch 48/100\n",
      "200/200 [==============================] - 1s 5ms/step - loss: 0.0095 - accuracy: 0.9980\n",
      "Epoch 49/100\n",
      "200/200 [==============================] - 1s 5ms/step - loss: 0.0095 - accuracy: 0.9981\n",
      "Epoch 50/100\n",
      "200/200 [==============================] - 1s 5ms/step - loss: 0.0095 - accuracy: 0.9981\n",
      "Epoch 51/100\n",
      "200/200 [==============================] - 1s 5ms/step - loss: 0.0094 - accuracy: 0.9981\n",
      "Epoch 52/100\n",
      "200/200 [==============================] - 1s 5ms/step - loss: 0.0093 - accuracy: 0.9981\n",
      "Epoch 53/100\n",
      "200/200 [==============================] - 1s 5ms/step - loss: 0.0093 - accuracy: 0.9981\n",
      "Epoch 54/100\n",
      "200/200 [==============================] - 1s 5ms/step - loss: 0.0093 - accuracy: 0.9981\n",
      "Epoch 55/100\n",
      "200/200 [==============================] - 1s 5ms/step - loss: 0.0092 - accuracy: 0.9983\n",
      "Epoch 56/100\n",
      "200/200 [==============================] - 1s 5ms/step - loss: 0.0092 - accuracy: 0.9981\n",
      "Epoch 57/100\n",
      "200/200 [==============================] - 1s 5ms/step - loss: 0.0091 - accuracy: 0.9981\n",
      "Epoch 58/100\n",
      "200/200 [==============================] - 1s 5ms/step - loss: 0.0091 - accuracy: 0.9981\n",
      "Epoch 59/100\n",
      "200/200 [==============================] - 1s 5ms/step - loss: 0.0090 - accuracy: 0.9984\n",
      "Epoch 60/100\n",
      "200/200 [==============================] - 1s 5ms/step - loss: 0.0090 - accuracy: 0.9983\n",
      "Epoch 61/100\n",
      "200/200 [==============================] - 1s 5ms/step - loss: 0.0089 - accuracy: 0.9983\n",
      "Epoch 62/100\n",
      "200/200 [==============================] - 1s 5ms/step - loss: 0.0089 - accuracy: 0.9983\n",
      "Epoch 63/100\n",
      "200/200 [==============================] - 1s 5ms/step - loss: 0.0089 - accuracy: 0.9984\n",
      "Epoch 64/100\n",
      "200/200 [==============================] - 1s 5ms/step - loss: 0.0088 - accuracy: 0.9983\n",
      "Epoch 65/100\n",
      "200/200 [==============================] - 1s 5ms/step - loss: 0.0087 - accuracy: 0.9984\n",
      "Epoch 66/100\n",
      "200/200 [==============================] - 1s 5ms/step - loss: 0.0088 - accuracy: 0.9983\n",
      "Epoch 67/100\n",
      "200/200 [==============================] - 1s 5ms/step - loss: 0.0087 - accuracy: 0.9983\n",
      "Epoch 68/100\n",
      "200/200 [==============================] - 1s 6ms/step - loss: 0.0087 - accuracy: 0.9984\n",
      "Epoch 69/100\n",
      "200/200 [==============================] - 1s 5ms/step - loss: 0.0086 - accuracy: 0.9986\n",
      "Epoch 70/100\n",
      "200/200 [==============================] - 1s 5ms/step - loss: 0.0085 - accuracy: 0.9983\n",
      "Epoch 71/100\n",
      "200/200 [==============================] - 1s 5ms/step - loss: 0.0086 - accuracy: 0.9984\n",
      "Epoch 72/100\n",
      "200/200 [==============================] - 1s 5ms/step - loss: 0.0086 - accuracy: 0.9984\n",
      "Epoch 73/100\n",
      "200/200 [==============================] - 1s 5ms/step - loss: 0.0084 - accuracy: 0.9986\n",
      "Epoch 74/100\n",
      "200/200 [==============================] - 1s 5ms/step - loss: 0.0085 - accuracy: 0.9983\n",
      "Epoch 75/100\n",
      "200/200 [==============================] - 1s 5ms/step - loss: 0.0084 - accuracy: 0.9986\n",
      "Epoch 76/100\n",
      "200/200 [==============================] - 1s 5ms/step - loss: 0.0085 - accuracy: 0.9984\n",
      "Epoch 77/100\n",
      "200/200 [==============================] - 1s 5ms/step - loss: 0.0084 - accuracy: 0.9984\n",
      "Epoch 78/100\n",
      "200/200 [==============================] - 1s 5ms/step - loss: 0.0083 - accuracy: 0.9986\n",
      "Epoch 79/100\n",
      "200/200 [==============================] - 1s 5ms/step - loss: 0.0083 - accuracy: 0.9984\n",
      "Epoch 80/100\n",
      "200/200 [==============================] - 1s 5ms/step - loss: 0.0083 - accuracy: 0.9984\n",
      "Epoch 81/100\n",
      "200/200 [==============================] - 1s 5ms/step - loss: 0.0083 - accuracy: 0.9984\n",
      "Epoch 82/100\n",
      "200/200 [==============================] - 1s 5ms/step - loss: 0.0083 - accuracy: 0.9984\n",
      "Epoch 83/100\n",
      "200/200 [==============================] - 1s 5ms/step - loss: 0.0083 - accuracy: 0.9986\n",
      "Epoch 84/100\n",
      "200/200 [==============================] - 1s 5ms/step - loss: 0.0081 - accuracy: 0.9986\n",
      "Epoch 85/100\n",
      "200/200 [==============================] - 1s 5ms/step - loss: 0.0082 - accuracy: 0.9986\n",
      "Epoch 86/100\n",
      "200/200 [==============================] - 1s 5ms/step - loss: 0.0082 - accuracy: 0.9986\n",
      "Epoch 87/100\n",
      "200/200 [==============================] - 1s 5ms/step - loss: 0.0082 - accuracy: 0.9986\n",
      "Epoch 88/100\n",
      "200/200 [==============================] - 1s 5ms/step - loss: 0.0081 - accuracy: 0.9984\n",
      "Epoch 89/100\n",
      "200/200 [==============================] - 1s 5ms/step - loss: 0.0081 - accuracy: 0.9986\n",
      "Epoch 90/100\n",
      "200/200 [==============================] - 1s 5ms/step - loss: 0.0081 - accuracy: 0.9984\n",
      "Epoch 91/100\n",
      "200/200 [==============================] - 1s 5ms/step - loss: 0.0080 - accuracy: 0.9986\n",
      "Epoch 92/100\n",
      "200/200 [==============================] - 1s 5ms/step - loss: 0.0081 - accuracy: 0.9984\n",
      "Epoch 93/100\n",
      "200/200 [==============================] - 1s 5ms/step - loss: 0.0081 - accuracy: 0.9984\n",
      "Epoch 94/100\n",
      "200/200 [==============================] - 1s 5ms/step - loss: 0.0081 - accuracy: 0.9984\n",
      "Epoch 95/100\n",
      "200/200 [==============================] - 1s 5ms/step - loss: 0.0079 - accuracy: 0.9986\n",
      "Epoch 96/100\n",
      "200/200 [==============================] - 1s 5ms/step - loss: 0.0080 - accuracy: 0.9984\n",
      "Epoch 97/100\n",
      "200/200 [==============================] - 1s 6ms/step - loss: 0.0080 - accuracy: 0.9986\n",
      "Epoch 98/100\n",
      "200/200 [==============================] - 1s 5ms/step - loss: 0.0079 - accuracy: 0.9986\n",
      "Epoch 99/100\n",
      "200/200 [==============================] - 1s 5ms/step - loss: 0.0080 - accuracy: 0.9984\n",
      "Epoch 100/100\n",
      "200/200 [==============================] - 1s 5ms/step - loss: 0.0079 - accuracy: 0.9986\n",
      "50/50 [==============================] - 0s 4ms/step\n"
     ]
    },
    {
     "name": "stderr",
     "output_type": "stream",
     "text": [
      "WARNING:absl:Found untraced functions such as _update_step_xla while saving (showing 1 of 1). These functions will not be directly callable after loading.\n"
     ]
    },
    {
     "name": "stdout",
     "output_type": "stream",
     "text": [
      "INFO:tensorflow:Assets written to: C:\\Users\\shubh\\AppData\\Local\\Temp\\tmp8v4dqh2t\\assets\n"
     ]
    },
    {
     "name": "stderr",
     "output_type": "stream",
     "text": [
      "INFO:tensorflow:Assets written to: C:\\Users\\shubh\\AppData\\Local\\Temp\\tmp8v4dqh2t\\assets\n"
     ]
    },
    {
     "name": "stdout",
     "output_type": "stream",
     "text": [
      "Epoch 1/50\n",
      "143/143 [==============================] - 3s 7ms/step - loss: 0.6342 - accuracy: 0.7934\n",
      "Epoch 2/50\n",
      "143/143 [==============================] - 1s 5ms/step - loss: 0.3685 - accuracy: 0.7958\n",
      "Epoch 3/50\n",
      "143/143 [==============================] - 1s 5ms/step - loss: 0.2183 - accuracy: 0.8027\n",
      "Epoch 4/50\n",
      "143/143 [==============================] - 1s 5ms/step - loss: 0.1310 - accuracy: 0.9920\n",
      "Epoch 5/50\n",
      "143/143 [==============================] - 1s 5ms/step - loss: 0.0895 - accuracy: 0.9987\n",
      "Epoch 6/50\n",
      "143/143 [==============================] - 1s 5ms/step - loss: 0.0635 - accuracy: 0.9987\n",
      "Epoch 7/50\n",
      "143/143 [==============================] - 1s 5ms/step - loss: 0.0459 - accuracy: 0.9987\n",
      "Epoch 8/50\n",
      "143/143 [==============================] - 1s 5ms/step - loss: 0.0343 - accuracy: 0.9987\n",
      "Epoch 9/50\n",
      "143/143 [==============================] - 1s 5ms/step - loss: 0.0267 - accuracy: 0.9987\n",
      "Epoch 10/50\n",
      "143/143 [==============================] - 1s 5ms/step - loss: 0.0213 - accuracy: 0.9987\n",
      "Epoch 11/50\n",
      "143/143 [==============================] - 1s 5ms/step - loss: 0.0176 - accuracy: 0.9987\n",
      "Epoch 12/50\n",
      "143/143 [==============================] - 1s 5ms/step - loss: 0.0150 - accuracy: 0.9987\n",
      "Epoch 13/50\n",
      "143/143 [==============================] - 1s 5ms/step - loss: 0.0131 - accuracy: 0.9987\n",
      "Epoch 14/50\n",
      "143/143 [==============================] - 1s 7ms/step - loss: 0.0117 - accuracy: 0.9987\n",
      "Epoch 15/50\n",
      "143/143 [==============================] - 1s 6ms/step - loss: 0.0106 - accuracy: 0.9987\n",
      "Epoch 16/50\n",
      "143/143 [==============================] - 1s 5ms/step - loss: 0.0098 - accuracy: 0.9987\n",
      "Epoch 17/50\n",
      "143/143 [==============================] - 1s 5ms/step - loss: 0.0091 - accuracy: 0.9987\n",
      "Epoch 18/50\n",
      "143/143 [==============================] - 1s 5ms/step - loss: 0.0086 - accuracy: 0.9987\n",
      "Epoch 19/50\n",
      "143/143 [==============================] - 1s 5ms/step - loss: 0.0082 - accuracy: 0.9987\n",
      "Epoch 20/50\n",
      "143/143 [==============================] - 1s 4ms/step - loss: 0.0079 - accuracy: 0.9987\n",
      "Epoch 21/50\n",
      "143/143 [==============================] - 1s 5ms/step - loss: 0.0076 - accuracy: 0.9987\n",
      "Epoch 22/50\n",
      "143/143 [==============================] - 1s 5ms/step - loss: 0.0074 - accuracy: 0.9987\n",
      "Epoch 23/50\n",
      "143/143 [==============================] - 1s 5ms/step - loss: 0.0072 - accuracy: 0.9989\n",
      "Epoch 24/50\n",
      "143/143 [==============================] - 1s 5ms/step - loss: 0.0071 - accuracy: 0.9987\n",
      "Epoch 25/50\n",
      "143/143 [==============================] - 1s 5ms/step - loss: 0.0070 - accuracy: 0.9989\n",
      "Epoch 26/50\n",
      "143/143 [==============================] - 1s 5ms/step - loss: 0.0069 - accuracy: 0.9989\n",
      "Epoch 27/50\n",
      "143/143 [==============================] - 1s 5ms/step - loss: 0.0068 - accuracy: 0.9989\n",
      "Epoch 28/50\n",
      "143/143 [==============================] - 1s 5ms/step - loss: 0.0067 - accuracy: 0.9987\n",
      "Epoch 29/50\n",
      "143/143 [==============================] - 1s 5ms/step - loss: 0.0067 - accuracy: 0.9989\n",
      "Epoch 30/50\n",
      "143/143 [==============================] - 1s 5ms/step - loss: 0.0066 - accuracy: 0.9989\n",
      "Epoch 31/50\n",
      "143/143 [==============================] - 1s 5ms/step - loss: 0.0065 - accuracy: 0.9989\n",
      "Epoch 32/50\n",
      "143/143 [==============================] - 1s 5ms/step - loss: 0.0065 - accuracy: 0.9989\n",
      "Epoch 33/50\n",
      "143/143 [==============================] - 1s 5ms/step - loss: 0.0065 - accuracy: 0.9989\n",
      "Epoch 34/50\n",
      "143/143 [==============================] - 1s 5ms/step - loss: 0.0064 - accuracy: 0.9989\n",
      "Epoch 35/50\n",
      "143/143 [==============================] - 1s 5ms/step - loss: 0.0064 - accuracy: 0.9989\n",
      "Epoch 36/50\n",
      "143/143 [==============================] - 1s 5ms/step - loss: 0.0064 - accuracy: 0.9989\n",
      "Epoch 37/50\n",
      "143/143 [==============================] - 1s 5ms/step - loss: 0.0064 - accuracy: 0.9989\n",
      "Epoch 38/50\n",
      "143/143 [==============================] - 1s 5ms/step - loss: 0.0064 - accuracy: 0.9989\n",
      "Epoch 39/50\n",
      "143/143 [==============================] - 1s 5ms/step - loss: 0.0063 - accuracy: 0.9989\n",
      "Epoch 40/50\n",
      "143/143 [==============================] - 1s 5ms/step - loss: 0.0063 - accuracy: 0.9989\n",
      "Epoch 41/50\n",
      "143/143 [==============================] - 1s 5ms/step - loss: 0.0063 - accuracy: 0.9989\n",
      "Epoch 42/50\n",
      "143/143 [==============================] - 1s 5ms/step - loss: 0.0063 - accuracy: 0.9989\n",
      "Epoch 43/50\n",
      "143/143 [==============================] - 1s 5ms/step - loss: 0.0063 - accuracy: 0.9989\n",
      "Epoch 44/50\n",
      "143/143 [==============================] - 1s 5ms/step - loss: 0.0063 - accuracy: 0.9989\n",
      "Epoch 45/50\n",
      "143/143 [==============================] - 1s 5ms/step - loss: 0.0063 - accuracy: 0.9989\n",
      "Epoch 46/50\n",
      "143/143 [==============================] - 1s 6ms/step - loss: 0.0063 - accuracy: 0.9991\n",
      "Epoch 47/50\n",
      "143/143 [==============================] - 1s 5ms/step - loss: 0.0062 - accuracy: 0.9989\n",
      "Epoch 48/50\n",
      "143/143 [==============================] - 1s 5ms/step - loss: 0.0062 - accuracy: 0.9991\n",
      "Epoch 49/50\n",
      "143/143 [==============================] - 1s 5ms/step - loss: 0.0062 - accuracy: 0.9991\n",
      "Epoch 50/50\n",
      "143/143 [==============================] - 1s 5ms/step - loss: 0.0062 - accuracy: 0.9989\n",
      "36/36 [==============================] - 0s 4ms/step\n"
     ]
    },
    {
     "name": "stderr",
     "output_type": "stream",
     "text": [
      "WARNING:absl:Found untraced functions such as _update_step_xla while saving (showing 1 of 1). These functions will not be directly callable after loading.\n"
     ]
    },
    {
     "name": "stdout",
     "output_type": "stream",
     "text": [
      "INFO:tensorflow:Assets written to: C:\\Users\\shubh\\AppData\\Local\\Temp\\tmpaa_2r6tz\\assets\n"
     ]
    },
    {
     "name": "stderr",
     "output_type": "stream",
     "text": [
      "INFO:tensorflow:Assets written to: C:\\Users\\shubh\\AppData\\Local\\Temp\\tmpaa_2r6tz\\assets\n"
     ]
    },
    {
     "name": "stdout",
     "output_type": "stream",
     "text": [
      "Epoch 1/50\n",
      "143/143 [==============================] - 3s 6ms/step - loss: 0.6333 - accuracy: 0.7950\n",
      "Epoch 2/50\n",
      "143/143 [==============================] - 1s 5ms/step - loss: 0.3678 - accuracy: 0.7958\n",
      "Epoch 3/50\n",
      "143/143 [==============================] - 1s 5ms/step - loss: 0.2306 - accuracy: 0.7958\n",
      "Epoch 4/50\n",
      "143/143 [==============================] - 1s 5ms/step - loss: 0.1664 - accuracy: 0.7962\n",
      "Epoch 5/50\n",
      "143/143 [==============================] - 1s 5ms/step - loss: 0.1454 - accuracy: 0.9931\n",
      "Epoch 6/50\n",
      "143/143 [==============================] - 1s 7ms/step - loss: 0.1331 - accuracy: 0.9975\n",
      "Epoch 7/50\n",
      "143/143 [==============================] - 1s 5ms/step - loss: 0.1227 - accuracy: 0.9984\n",
      "Epoch 8/50\n",
      "143/143 [==============================] - 1s 5ms/step - loss: 0.1134 - accuracy: 0.9984\n",
      "Epoch 9/50\n",
      "143/143 [==============================] - 1s 5ms/step - loss: 0.1048 - accuracy: 0.9984\n",
      "Epoch 10/50\n",
      "143/143 [==============================] - 1s 5ms/step - loss: 0.0970 - accuracy: 0.9984\n",
      "Epoch 11/50\n",
      "143/143 [==============================] - 1s 5ms/step - loss: 0.0898 - accuracy: 0.9984\n",
      "Epoch 12/50\n",
      "143/143 [==============================] - 1s 5ms/step - loss: 0.0832 - accuracy: 0.9984\n",
      "Epoch 13/50\n",
      "143/143 [==============================] - 1s 6ms/step - loss: 0.0772 - accuracy: 0.9984\n",
      "Epoch 14/50\n",
      "143/143 [==============================] - 1s 5ms/step - loss: 0.0717 - accuracy: 0.9984\n",
      "Epoch 15/50\n",
      "143/143 [==============================] - 1s 5ms/step - loss: 0.0667 - accuracy: 0.9984\n",
      "Epoch 16/50\n",
      "143/143 [==============================] - 1s 5ms/step - loss: 0.0621 - accuracy: 0.9984\n",
      "Epoch 17/50\n",
      "143/143 [==============================] - 1s 5ms/step - loss: 0.0578 - accuracy: 0.9984\n",
      "Epoch 18/50\n",
      "143/143 [==============================] - 1s 5ms/step - loss: 0.0540 - accuracy: 0.9984\n",
      "Epoch 19/50\n",
      "143/143 [==============================] - 1s 5ms/step - loss: 0.0504 - accuracy: 0.9984\n",
      "Epoch 20/50\n",
      "143/143 [==============================] - 1s 5ms/step - loss: 0.0472 - accuracy: 0.9984\n",
      "Epoch 21/50\n",
      "143/143 [==============================] - 1s 5ms/step - loss: 0.0442 - accuracy: 0.9984\n",
      "Epoch 22/50\n",
      "143/143 [==============================] - 1s 5ms/step - loss: 0.0415 - accuracy: 0.9984\n",
      "Epoch 23/50\n",
      "143/143 [==============================] - 1s 5ms/step - loss: 0.0390 - accuracy: 0.9984\n",
      "Epoch 24/50\n",
      "143/143 [==============================] - 1s 5ms/step - loss: 0.0367 - accuracy: 0.9984\n",
      "Epoch 25/50\n",
      "143/143 [==============================] - 1s 5ms/step - loss: 0.0346 - accuracy: 0.9984\n",
      "Epoch 26/50\n",
      "143/143 [==============================] - 1s 6ms/step - loss: 0.0327 - accuracy: 0.9984\n",
      "Epoch 27/50\n",
      "143/143 [==============================] - 1s 5ms/step - loss: 0.0309 - accuracy: 0.9984\n",
      "Epoch 28/50\n",
      "143/143 [==============================] - 1s 5ms/step - loss: 0.0293 - accuracy: 0.9984\n",
      "Epoch 29/50\n",
      "143/143 [==============================] - 1s 5ms/step - loss: 0.0278 - accuracy: 0.9984\n",
      "Epoch 30/50\n",
      "143/143 [==============================] - 1s 5ms/step - loss: 0.0263 - accuracy: 0.9984\n",
      "Epoch 31/50\n",
      "143/143 [==============================] - 1s 5ms/step - loss: 0.0251 - accuracy: 0.9984\n",
      "Epoch 32/50\n",
      "143/143 [==============================] - 1s 5ms/step - loss: 0.0238 - accuracy: 0.9984\n",
      "Epoch 33/50\n",
      "143/143 [==============================] - 1s 5ms/step - loss: 0.0228 - accuracy: 0.9984\n",
      "Epoch 34/50\n",
      "143/143 [==============================] - 1s 5ms/step - loss: 0.0218 - accuracy: 0.9984\n",
      "Epoch 35/50\n",
      "143/143 [==============================] - 1s 5ms/step - loss: 0.0207 - accuracy: 0.9984\n",
      "Epoch 36/50\n",
      "143/143 [==============================] - 1s 5ms/step - loss: 0.0199 - accuracy: 0.9984\n",
      "Epoch 37/50\n",
      "143/143 [==============================] - 1s 5ms/step - loss: 0.0191 - accuracy: 0.9984\n",
      "Epoch 38/50\n",
      "143/143 [==============================] - 1s 6ms/step - loss: 0.0183 - accuracy: 0.9984\n",
      "Epoch 39/50\n",
      "143/143 [==============================] - 1s 5ms/step - loss: 0.0176 - accuracy: 0.9984\n",
      "Epoch 40/50\n",
      "143/143 [==============================] - 1s 5ms/step - loss: 0.0169 - accuracy: 0.9984\n",
      "Epoch 41/50\n",
      "143/143 [==============================] - 1s 5ms/step - loss: 0.0163 - accuracy: 0.9984\n",
      "Epoch 42/50\n",
      "143/143 [==============================] - 1s 5ms/step - loss: 0.0157 - accuracy: 0.9984\n",
      "Epoch 43/50\n",
      "143/143 [==============================] - 1s 5ms/step - loss: 0.0151 - accuracy: 0.9984\n",
      "Epoch 44/50\n",
      "143/143 [==============================] - 1s 5ms/step - loss: 0.0147 - accuracy: 0.9984\n",
      "Epoch 45/50\n",
      "143/143 [==============================] - 1s 5ms/step - loss: 0.0142 - accuracy: 0.9984\n",
      "Epoch 46/50\n",
      "143/143 [==============================] - 1s 5ms/step - loss: 0.0137 - accuracy: 0.9984\n",
      "Epoch 47/50\n",
      "143/143 [==============================] - 1s 6ms/step - loss: 0.0133 - accuracy: 0.9984\n",
      "Epoch 48/50\n",
      "143/143 [==============================] - 1s 5ms/step - loss: 0.0130 - accuracy: 0.9984\n",
      "Epoch 49/50\n",
      "143/143 [==============================] - 1s 5ms/step - loss: 0.0126 - accuracy: 0.9984\n",
      "Epoch 50/50\n",
      "143/143 [==============================] - 1s 5ms/step - loss: 0.0123 - accuracy: 0.9984\n",
      "36/36 [==============================] - 0s 4ms/step\n"
     ]
    },
    {
     "name": "stderr",
     "output_type": "stream",
     "text": [
      "WARNING:absl:Found untraced functions such as _update_step_xla while saving (showing 1 of 1). These functions will not be directly callable after loading.\n"
     ]
    },
    {
     "name": "stdout",
     "output_type": "stream",
     "text": [
      "INFO:tensorflow:Assets written to: C:\\Users\\shubh\\AppData\\Local\\Temp\\tmplvm7dnmb\\assets\n"
     ]
    },
    {
     "name": "stderr",
     "output_type": "stream",
     "text": [
      "INFO:tensorflow:Assets written to: C:\\Users\\shubh\\AppData\\Local\\Temp\\tmplvm7dnmb\\assets\n"
     ]
    },
    {
     "name": "stdout",
     "output_type": "stream",
     "text": [
      "Epoch 1/50\n",
      "143/143 [==============================] - 3s 6ms/step - loss: 0.6351 - accuracy: 0.7933\n",
      "Epoch 2/50\n",
      "143/143 [==============================] - 1s 6ms/step - loss: 0.3673 - accuracy: 0.7959\n",
      "Epoch 3/50\n",
      "143/143 [==============================] - 1s 5ms/step - loss: 0.2266 - accuracy: 0.7959\n",
      "Epoch 4/50\n",
      "143/143 [==============================] - 1s 5ms/step - loss: 0.1645 - accuracy: 0.8067\n",
      "Epoch 5/50\n",
      "143/143 [==============================] - 1s 5ms/step - loss: 0.1445 - accuracy: 0.9942\n",
      "Epoch 6/50\n",
      "143/143 [==============================] - 1s 5ms/step - loss: 0.1324 - accuracy: 0.9978\n",
      "Epoch 7/50\n",
      "143/143 [==============================] - 1s 5ms/step - loss: 0.1221 - accuracy: 0.9983\n",
      "Epoch 8/50\n",
      "143/143 [==============================] - 1s 5ms/step - loss: 0.1129 - accuracy: 0.9983\n",
      "Epoch 9/50\n",
      "143/143 [==============================] - 1s 5ms/step - loss: 0.1044 - accuracy: 0.9983\n",
      "Epoch 10/50\n",
      "143/143 [==============================] - 1s 5ms/step - loss: 0.0967 - accuracy: 0.9983\n",
      "Epoch 11/50\n",
      "143/143 [==============================] - 1s 5ms/step - loss: 0.0896 - accuracy: 0.9983\n",
      "Epoch 12/50\n",
      "143/143 [==============================] - 1s 5ms/step - loss: 0.0831 - accuracy: 0.9983\n",
      "Epoch 13/50\n",
      "143/143 [==============================] - 1s 5ms/step - loss: 0.0771 - accuracy: 0.9983\n",
      "Epoch 14/50\n",
      "143/143 [==============================] - 1s 5ms/step - loss: 0.0716 - accuracy: 0.9983\n",
      "Epoch 15/50\n",
      "143/143 [==============================] - 1s 5ms/step - loss: 0.0666 - accuracy: 0.9983\n",
      "Epoch 16/50\n",
      "143/143 [==============================] - 1s 5ms/step - loss: 0.0621 - accuracy: 0.9983\n",
      "Epoch 17/50\n",
      "143/143 [==============================] - 1s 5ms/step - loss: 0.0579 - accuracy: 0.9983\n",
      "Epoch 18/50\n",
      "143/143 [==============================] - 1s 5ms/step - loss: 0.0541 - accuracy: 0.9983\n",
      "Epoch 19/50\n",
      "143/143 [==============================] - 1s 5ms/step - loss: 0.0505 - accuracy: 0.9983\n",
      "Epoch 20/50\n",
      "143/143 [==============================] - 1s 5ms/step - loss: 0.0474 - accuracy: 0.9983\n",
      "Epoch 21/50\n",
      "143/143 [==============================] - 1s 5ms/step - loss: 0.0444 - accuracy: 0.9983\n",
      "Epoch 22/50\n",
      "143/143 [==============================] - 1s 6ms/step - loss: 0.0417 - accuracy: 0.9983\n",
      "Epoch 23/50\n",
      "143/143 [==============================] - 1s 5ms/step - loss: 0.0393 - accuracy: 0.9983\n",
      "Epoch 24/50\n",
      "143/143 [==============================] - 1s 5ms/step - loss: 0.0370 - accuracy: 0.9983\n",
      "Epoch 25/50\n",
      "143/143 [==============================] - 1s 5ms/step - loss: 0.0349 - accuracy: 0.9983\n",
      "Epoch 26/50\n",
      "143/143 [==============================] - 1s 5ms/step - loss: 0.0330 - accuracy: 0.9983\n",
      "Epoch 27/50\n",
      "143/143 [==============================] - 1s 5ms/step - loss: 0.0312 - accuracy: 0.9983\n",
      "Epoch 28/50\n",
      "143/143 [==============================] - 1s 5ms/step - loss: 0.0296 - accuracy: 0.9983\n",
      "Epoch 29/50\n",
      "143/143 [==============================] - 1s 5ms/step - loss: 0.0281 - accuracy: 0.9983\n",
      "Epoch 30/50\n",
      "143/143 [==============================] - 1s 5ms/step - loss: 0.0267 - accuracy: 0.9983\n",
      "Epoch 31/50\n",
      "143/143 [==============================] - 1s 5ms/step - loss: 0.0254 - accuracy: 0.9983\n",
      "Epoch 32/50\n",
      "143/143 [==============================] - 1s 6ms/step - loss: 0.0243 - accuracy: 0.9983\n",
      "Epoch 33/50\n",
      "143/143 [==============================] - 1s 6ms/step - loss: 0.0232 - accuracy: 0.9983\n",
      "Epoch 34/50\n",
      "143/143 [==============================] - 1s 5ms/step - loss: 0.0221 - accuracy: 0.9983\n",
      "Epoch 35/50\n",
      "143/143 [==============================] - 1s 5ms/step - loss: 0.0212 - accuracy: 0.9983\n",
      "Epoch 36/50\n",
      "143/143 [==============================] - 1s 5ms/step - loss: 0.0204 - accuracy: 0.9983\n",
      "Epoch 37/50\n",
      "143/143 [==============================] - 1s 5ms/step - loss: 0.0196 - accuracy: 0.9983\n",
      "Epoch 38/50\n",
      "143/143 [==============================] - 1s 5ms/step - loss: 0.0188 - accuracy: 0.9983\n",
      "Epoch 39/50\n",
      "143/143 [==============================] - 1s 5ms/step - loss: 0.0182 - accuracy: 0.9983\n",
      "Epoch 40/50\n",
      "143/143 [==============================] - 1s 5ms/step - loss: 0.0173 - accuracy: 0.9983\n",
      "Epoch 41/50\n",
      "143/143 [==============================] - 1s 5ms/step - loss: 0.0170 - accuracy: 0.9983\n",
      "Epoch 42/50\n",
      "143/143 [==============================] - 1s 5ms/step - loss: 0.0164 - accuracy: 0.9983\n",
      "Epoch 43/50\n",
      "143/143 [==============================] - 1s 6ms/step - loss: 0.0157 - accuracy: 0.9983\n",
      "Epoch 44/50\n",
      "143/143 [==============================] - 1s 5ms/step - loss: 0.0154 - accuracy: 0.9983\n",
      "Epoch 45/50\n",
      "143/143 [==============================] - 1s 5ms/step - loss: 0.0149 - accuracy: 0.9983\n",
      "Epoch 46/50\n",
      "143/143 [==============================] - 1s 5ms/step - loss: 0.0146 - accuracy: 0.9983\n",
      "Epoch 47/50\n",
      "143/143 [==============================] - 1s 5ms/step - loss: 0.0142 - accuracy: 0.9983\n",
      "Epoch 48/50\n",
      "143/143 [==============================] - 1s 5ms/step - loss: 0.0138 - accuracy: 0.9983\n",
      "Epoch 49/50\n",
      "143/143 [==============================] - 1s 5ms/step - loss: 0.0135 - accuracy: 0.9983\n",
      "Epoch 50/50\n",
      "143/143 [==============================] - 1s 5ms/step - loss: 0.0132 - accuracy: 0.9983\n",
      "36/36 [==============================] - 0s 4ms/step\n"
     ]
    },
    {
     "name": "stderr",
     "output_type": "stream",
     "text": [
      "WARNING:absl:Found untraced functions such as _update_step_xla while saving (showing 1 of 1). These functions will not be directly callable after loading.\n"
     ]
    },
    {
     "name": "stdout",
     "output_type": "stream",
     "text": [
      "INFO:tensorflow:Assets written to: C:\\Users\\shubh\\AppData\\Local\\Temp\\tmpq3mo6ack\\assets\n"
     ]
    },
    {
     "name": "stderr",
     "output_type": "stream",
     "text": [
      "INFO:tensorflow:Assets written to: C:\\Users\\shubh\\AppData\\Local\\Temp\\tmpq3mo6ack\\assets\n"
     ]
    },
    {
     "name": "stdout",
     "output_type": "stream",
     "text": [
      "Epoch 1/50\n",
      "143/143 [==============================] - 3s 5ms/step - loss: 0.6340 - accuracy: 0.7936\n",
      "Epoch 2/50\n",
      "143/143 [==============================] - 1s 5ms/step - loss: 0.3672 - accuracy: 0.7959\n",
      "Epoch 3/50\n",
      "143/143 [==============================] - 1s 5ms/step - loss: 0.2138 - accuracy: 0.8170\n",
      "Epoch 4/50\n",
      "143/143 [==============================] - 1s 5ms/step - loss: 0.1283 - accuracy: 0.9931\n",
      "Epoch 5/50\n",
      "143/143 [==============================] - 1s 5ms/step - loss: 0.0881 - accuracy: 0.9984\n",
      "Epoch 6/50\n",
      "143/143 [==============================] - 1s 5ms/step - loss: 0.0635 - accuracy: 0.9984\n",
      "Epoch 7/50\n",
      "143/143 [==============================] - 1s 5ms/step - loss: 0.0467 - accuracy: 0.9984\n",
      "Epoch 8/50\n",
      "143/143 [==============================] - 1s 5ms/step - loss: 0.0355 - accuracy: 0.9984\n",
      "Epoch 9/50\n",
      "143/143 [==============================] - 1s 5ms/step - loss: 0.0281 - accuracy: 0.9984\n",
      "Epoch 10/50\n",
      "143/143 [==============================] - 1s 6ms/step - loss: 0.0230 - accuracy: 0.9984\n",
      "Epoch 11/50\n",
      "143/143 [==============================] - 1s 5ms/step - loss: 0.0194 - accuracy: 0.9984\n",
      "Epoch 12/50\n",
      "143/143 [==============================] - 1s 5ms/step - loss: 0.0170 - accuracy: 0.9984\n",
      "Epoch 13/50\n",
      "143/143 [==============================] - 1s 5ms/step - loss: 0.0151 - accuracy: 0.9984\n",
      "Epoch 14/50\n",
      "143/143 [==============================] - 1s 5ms/step - loss: 0.0137 - accuracy: 0.9984\n",
      "Epoch 15/50\n",
      "143/143 [==============================] - 1s 5ms/step - loss: 0.0127 - accuracy: 0.9984\n",
      "Epoch 16/50\n",
      "143/143 [==============================] - 1s 5ms/step - loss: 0.0119 - accuracy: 0.9984\n",
      "Epoch 17/50\n",
      "143/143 [==============================] - 1s 6ms/step - loss: 0.0114 - accuracy: 0.9984\n",
      "Epoch 18/50\n",
      "143/143 [==============================] - 1s 5ms/step - loss: 0.0109 - accuracy: 0.9984\n",
      "Epoch 19/50\n",
      "143/143 [==============================] - 1s 6ms/step - loss: 0.0105 - accuracy: 0.9984\n",
      "Epoch 20/50\n",
      "143/143 [==============================] - 1s 5ms/step - loss: 0.0102 - accuracy: 0.9984\n",
      "Epoch 21/50\n",
      "143/143 [==============================] - 1s 5ms/step - loss: 0.0100 - accuracy: 0.9984\n",
      "Epoch 22/50\n",
      "143/143 [==============================] - 1s 5ms/step - loss: 0.0098 - accuracy: 0.9984\n",
      "Epoch 23/50\n",
      "143/143 [==============================] - 1s 6ms/step - loss: 0.0096 - accuracy: 0.9984\n",
      "Epoch 24/50\n",
      "143/143 [==============================] - 1s 5ms/step - loss: 0.0095 - accuracy: 0.9984\n",
      "Epoch 25/50\n",
      "143/143 [==============================] - 1s 5ms/step - loss: 0.0094 - accuracy: 0.9984\n",
      "Epoch 26/50\n",
      "143/143 [==============================] - 1s 5ms/step - loss: 0.0093 - accuracy: 0.9984\n",
      "Epoch 27/50\n",
      "143/143 [==============================] - 1s 5ms/step - loss: 0.0092 - accuracy: 0.9984\n",
      "Epoch 28/50\n",
      "143/143 [==============================] - 1s 5ms/step - loss: 0.0091 - accuracy: 0.9984\n",
      "Epoch 29/50\n",
      "143/143 [==============================] - 1s 6ms/step - loss: 0.0091 - accuracy: 0.9984\n",
      "Epoch 30/50\n",
      "143/143 [==============================] - 1s 7ms/step - loss: 0.0089 - accuracy: 0.9984\n",
      "Epoch 31/50\n",
      "143/143 [==============================] - 1s 5ms/step - loss: 0.0089 - accuracy: 0.9984\n",
      "Epoch 32/50\n",
      "143/143 [==============================] - 1s 5ms/step - loss: 0.0089 - accuracy: 0.9984\n",
      "Epoch 33/50\n",
      "143/143 [==============================] - 1s 5ms/step - loss: 0.0088 - accuracy: 0.9984\n",
      "Epoch 34/50\n",
      "143/143 [==============================] - 1s 5ms/step - loss: 0.0088 - accuracy: 0.9984\n",
      "Epoch 35/50\n",
      "143/143 [==============================] - 1s 5ms/step - loss: 0.0087 - accuracy: 0.9984\n",
      "Epoch 36/50\n",
      "143/143 [==============================] - 1s 5ms/step - loss: 0.0087 - accuracy: 0.9984\n",
      "Epoch 37/50\n",
      "143/143 [==============================] - 1s 5ms/step - loss: 0.0086 - accuracy: 0.9984\n",
      "Epoch 38/50\n",
      "143/143 [==============================] - 1s 5ms/step - loss: 0.0086 - accuracy: 0.9984\n",
      "Epoch 39/50\n",
      "143/143 [==============================] - 1s 5ms/step - loss: 0.0086 - accuracy: 0.9984\n",
      "Epoch 40/50\n",
      "143/143 [==============================] - 1s 5ms/step - loss: 0.0085 - accuracy: 0.9984\n",
      "Epoch 41/50\n",
      "143/143 [==============================] - 1s 5ms/step - loss: 0.0084 - accuracy: 0.9984\n",
      "Epoch 42/50\n",
      "143/143 [==============================] - 1s 6ms/step - loss: 0.0085 - accuracy: 0.9984\n",
      "Epoch 43/50\n",
      "143/143 [==============================] - 1s 5ms/step - loss: 0.0084 - accuracy: 0.9984\n",
      "Epoch 44/50\n",
      "143/143 [==============================] - 1s 5ms/step - loss: 0.0085 - accuracy: 0.9984\n",
      "Epoch 45/50\n",
      "143/143 [==============================] - 1s 5ms/step - loss: 0.0084 - accuracy: 0.9984\n",
      "Epoch 46/50\n",
      "143/143 [==============================] - 1s 5ms/step - loss: 0.0084 - accuracy: 0.9984\n",
      "Epoch 47/50\n",
      "143/143 [==============================] - 1s 5ms/step - loss: 0.0084 - accuracy: 0.9984\n",
      "Epoch 48/50\n",
      "143/143 [==============================] - 1s 5ms/step - loss: 0.0084 - accuracy: 0.9984\n",
      "Epoch 49/50\n",
      "143/143 [==============================] - 1s 6ms/step - loss: 0.0083 - accuracy: 0.9984\n",
      "Epoch 50/50\n",
      "143/143 [==============================] - 1s 5ms/step - loss: 0.0083 - accuracy: 0.9984\n",
      "36/36 [==============================] - 0s 4ms/step\n",
      "WARNING:tensorflow:Detecting that an object or model or tf.train.Checkpoint is being deleted with unrestored values. See the following logs for the specific values in question. To silence these warnings, use `status.expect_partial()`. See https://www.tensorflow.org/api_docs/python/tf/train/Checkpoint#restorefor details about the status object returned by the restore function.\n"
     ]
    },
    {
     "name": "stderr",
     "output_type": "stream",
     "text": [
      "WARNING:tensorflow:Detecting that an object or model or tf.train.Checkpoint is being deleted with unrestored values. See the following logs for the specific values in question. To silence these warnings, use `status.expect_partial()`. See https://www.tensorflow.org/api_docs/python/tf/train/Checkpoint#restorefor details about the status object returned by the restore function.\n"
     ]
    },
    {
     "name": "stdout",
     "output_type": "stream",
     "text": [
      "WARNING:tensorflow:Value in checkpoint could not be found in the restored object: (root).keras_api.metrics.0.total\n"
     ]
    },
    {
     "name": "stderr",
     "output_type": "stream",
     "text": [
      "WARNING:tensorflow:Value in checkpoint could not be found in the restored object: (root).keras_api.metrics.0.total\n"
     ]
    },
    {
     "name": "stdout",
     "output_type": "stream",
     "text": [
      "WARNING:tensorflow:Value in checkpoint could not be found in the restored object: (root).keras_api.metrics.0.count\n"
     ]
    },
    {
     "name": "stderr",
     "output_type": "stream",
     "text": [
      "WARNING:tensorflow:Value in checkpoint could not be found in the restored object: (root).keras_api.metrics.0.count\n"
     ]
    },
    {
     "name": "stdout",
     "output_type": "stream",
     "text": [
      "WARNING:tensorflow:Value in checkpoint could not be found in the restored object: (root).keras_api.metrics.1.total\n"
     ]
    },
    {
     "name": "stderr",
     "output_type": "stream",
     "text": [
      "WARNING:tensorflow:Value in checkpoint could not be found in the restored object: (root).keras_api.metrics.1.total\n"
     ]
    },
    {
     "name": "stdout",
     "output_type": "stream",
     "text": [
      "WARNING:tensorflow:Value in checkpoint could not be found in the restored object: (root).keras_api.metrics.1.count\n"
     ]
    },
    {
     "name": "stderr",
     "output_type": "stream",
     "text": [
      "WARNING:tensorflow:Value in checkpoint could not be found in the restored object: (root).keras_api.metrics.1.count\n"
     ]
    },
    {
     "name": "stdout",
     "output_type": "stream",
     "text": [
      "WARNING:tensorflow:Detecting that an object or model or tf.train.Checkpoint is being deleted with unrestored values. See the following logs for the specific values in question. To silence these warnings, use `status.expect_partial()`. See https://www.tensorflow.org/api_docs/python/tf/train/Checkpoint#restorefor details about the status object returned by the restore function.\n"
     ]
    },
    {
     "name": "stderr",
     "output_type": "stream",
     "text": [
      "WARNING:tensorflow:Detecting that an object or model or tf.train.Checkpoint is being deleted with unrestored values. See the following logs for the specific values in question. To silence these warnings, use `status.expect_partial()`. See https://www.tensorflow.org/api_docs/python/tf/train/Checkpoint#restorefor details about the status object returned by the restore function.\n"
     ]
    },
    {
     "name": "stdout",
     "output_type": "stream",
     "text": [
      "WARNING:tensorflow:Value in checkpoint could not be found in the restored object: (root).keras_api.metrics.0.total\n"
     ]
    },
    {
     "name": "stderr",
     "output_type": "stream",
     "text": [
      "WARNING:tensorflow:Value in checkpoint could not be found in the restored object: (root).keras_api.metrics.0.total\n"
     ]
    },
    {
     "name": "stdout",
     "output_type": "stream",
     "text": [
      "WARNING:tensorflow:Value in checkpoint could not be found in the restored object: (root).keras_api.metrics.0.count\n"
     ]
    },
    {
     "name": "stderr",
     "output_type": "stream",
     "text": [
      "WARNING:tensorflow:Value in checkpoint could not be found in the restored object: (root).keras_api.metrics.0.count\n"
     ]
    },
    {
     "name": "stdout",
     "output_type": "stream",
     "text": [
      "WARNING:tensorflow:Value in checkpoint could not be found in the restored object: (root).keras_api.metrics.1.total\n"
     ]
    },
    {
     "name": "stderr",
     "output_type": "stream",
     "text": [
      "WARNING:tensorflow:Value in checkpoint could not be found in the restored object: (root).keras_api.metrics.1.total\n"
     ]
    },
    {
     "name": "stdout",
     "output_type": "stream",
     "text": [
      "WARNING:tensorflow:Value in checkpoint could not be found in the restored object: (root).keras_api.metrics.1.count\n"
     ]
    },
    {
     "name": "stderr",
     "output_type": "stream",
     "text": [
      "WARNING:tensorflow:Value in checkpoint could not be found in the restored object: (root).keras_api.metrics.1.count\n"
     ]
    },
    {
     "name": "stdout",
     "output_type": "stream",
     "text": [
      "WARNING:tensorflow:Detecting that an object or model or tf.train.Checkpoint is being deleted with unrestored values. See the following logs for the specific values in question. To silence these warnings, use `status.expect_partial()`. See https://www.tensorflow.org/api_docs/python/tf/train/Checkpoint#restorefor details about the status object returned by the restore function.\n"
     ]
    },
    {
     "name": "stderr",
     "output_type": "stream",
     "text": [
      "WARNING:tensorflow:Detecting that an object or model or tf.train.Checkpoint is being deleted with unrestored values. See the following logs for the specific values in question. To silence these warnings, use `status.expect_partial()`. See https://www.tensorflow.org/api_docs/python/tf/train/Checkpoint#restorefor details about the status object returned by the restore function.\n"
     ]
    },
    {
     "name": "stdout",
     "output_type": "stream",
     "text": [
      "WARNING:tensorflow:Value in checkpoint could not be found in the restored object: (root).keras_api.metrics.0.total\n"
     ]
    },
    {
     "name": "stderr",
     "output_type": "stream",
     "text": [
      "WARNING:tensorflow:Value in checkpoint could not be found in the restored object: (root).keras_api.metrics.0.total\n"
     ]
    },
    {
     "name": "stdout",
     "output_type": "stream",
     "text": [
      "WARNING:tensorflow:Value in checkpoint could not be found in the restored object: (root).keras_api.metrics.0.count\n"
     ]
    },
    {
     "name": "stderr",
     "output_type": "stream",
     "text": [
      "WARNING:tensorflow:Value in checkpoint could not be found in the restored object: (root).keras_api.metrics.0.count\n"
     ]
    },
    {
     "name": "stdout",
     "output_type": "stream",
     "text": [
      "WARNING:tensorflow:Value in checkpoint could not be found in the restored object: (root).keras_api.metrics.1.total\n"
     ]
    },
    {
     "name": "stderr",
     "output_type": "stream",
     "text": [
      "WARNING:tensorflow:Value in checkpoint could not be found in the restored object: (root).keras_api.metrics.1.total\n"
     ]
    },
    {
     "name": "stdout",
     "output_type": "stream",
     "text": [
      "WARNING:tensorflow:Value in checkpoint could not be found in the restored object: (root).keras_api.metrics.1.count\n"
     ]
    },
    {
     "name": "stderr",
     "output_type": "stream",
     "text": [
      "WARNING:tensorflow:Value in checkpoint could not be found in the restored object: (root).keras_api.metrics.1.count\n"
     ]
    },
    {
     "name": "stdout",
     "output_type": "stream",
     "text": [
      "WARNING:tensorflow:Detecting that an object or model or tf.train.Checkpoint is being deleted with unrestored values. See the following logs for the specific values in question. To silence these warnings, use `status.expect_partial()`. See https://www.tensorflow.org/api_docs/python/tf/train/Checkpoint#restorefor details about the status object returned by the restore function.\n"
     ]
    },
    {
     "name": "stderr",
     "output_type": "stream",
     "text": [
      "WARNING:tensorflow:Detecting that an object or model or tf.train.Checkpoint is being deleted with unrestored values. See the following logs for the specific values in question. To silence these warnings, use `status.expect_partial()`. See https://www.tensorflow.org/api_docs/python/tf/train/Checkpoint#restorefor details about the status object returned by the restore function.\n"
     ]
    },
    {
     "name": "stdout",
     "output_type": "stream",
     "text": [
      "WARNING:tensorflow:Value in checkpoint could not be found in the restored object: (root).keras_api.metrics.0.total\n"
     ]
    },
    {
     "name": "stderr",
     "output_type": "stream",
     "text": [
      "WARNING:tensorflow:Value in checkpoint could not be found in the restored object: (root).keras_api.metrics.0.total\n"
     ]
    },
    {
     "name": "stdout",
     "output_type": "stream",
     "text": [
      "WARNING:tensorflow:Value in checkpoint could not be found in the restored object: (root).keras_api.metrics.0.count\n"
     ]
    },
    {
     "name": "stderr",
     "output_type": "stream",
     "text": [
      "WARNING:tensorflow:Value in checkpoint could not be found in the restored object: (root).keras_api.metrics.0.count\n"
     ]
    },
    {
     "name": "stdout",
     "output_type": "stream",
     "text": [
      "WARNING:tensorflow:Value in checkpoint could not be found in the restored object: (root).keras_api.metrics.1.total\n"
     ]
    },
    {
     "name": "stderr",
     "output_type": "stream",
     "text": [
      "WARNING:tensorflow:Value in checkpoint could not be found in the restored object: (root).keras_api.metrics.1.total\n"
     ]
    },
    {
     "name": "stdout",
     "output_type": "stream",
     "text": [
      "WARNING:tensorflow:Value in checkpoint could not be found in the restored object: (root).keras_api.metrics.1.count\n"
     ]
    },
    {
     "name": "stderr",
     "output_type": "stream",
     "text": [
      "WARNING:tensorflow:Value in checkpoint could not be found in the restored object: (root).keras_api.metrics.1.count\n"
     ]
    },
    {
     "name": "stdout",
     "output_type": "stream",
     "text": [
      "WARNING:tensorflow:Detecting that an object or model or tf.train.Checkpoint is being deleted with unrestored values. See the following logs for the specific values in question. To silence these warnings, use `status.expect_partial()`. See https://www.tensorflow.org/api_docs/python/tf/train/Checkpoint#restorefor details about the status object returned by the restore function.\n"
     ]
    },
    {
     "name": "stderr",
     "output_type": "stream",
     "text": [
      "WARNING:tensorflow:Detecting that an object or model or tf.train.Checkpoint is being deleted with unrestored values. See the following logs for the specific values in question. To silence these warnings, use `status.expect_partial()`. See https://www.tensorflow.org/api_docs/python/tf/train/Checkpoint#restorefor details about the status object returned by the restore function.\n"
     ]
    },
    {
     "name": "stdout",
     "output_type": "stream",
     "text": [
      "WARNING:tensorflow:Value in checkpoint could not be found in the restored object: (root).keras_api.metrics.0.total\n"
     ]
    },
    {
     "name": "stderr",
     "output_type": "stream",
     "text": [
      "WARNING:tensorflow:Value in checkpoint could not be found in the restored object: (root).keras_api.metrics.0.total\n"
     ]
    },
    {
     "name": "stdout",
     "output_type": "stream",
     "text": [
      "WARNING:tensorflow:Value in checkpoint could not be found in the restored object: (root).keras_api.metrics.0.count\n"
     ]
    },
    {
     "name": "stderr",
     "output_type": "stream",
     "text": [
      "WARNING:tensorflow:Value in checkpoint could not be found in the restored object: (root).keras_api.metrics.0.count\n"
     ]
    },
    {
     "name": "stdout",
     "output_type": "stream",
     "text": [
      "WARNING:tensorflow:Value in checkpoint could not be found in the restored object: (root).keras_api.metrics.1.total\n"
     ]
    },
    {
     "name": "stderr",
     "output_type": "stream",
     "text": [
      "WARNING:tensorflow:Value in checkpoint could not be found in the restored object: (root).keras_api.metrics.1.total\n"
     ]
    },
    {
     "name": "stdout",
     "output_type": "stream",
     "text": [
      "WARNING:tensorflow:Value in checkpoint could not be found in the restored object: (root).keras_api.metrics.1.count\n"
     ]
    },
    {
     "name": "stderr",
     "output_type": "stream",
     "text": [
      "WARNING:tensorflow:Value in checkpoint could not be found in the restored object: (root).keras_api.metrics.1.count\n",
      "WARNING:absl:Found untraced functions such as _update_step_xla while saving (showing 1 of 1). These functions will not be directly callable after loading.\n"
     ]
    },
    {
     "name": "stdout",
     "output_type": "stream",
     "text": [
      "INFO:tensorflow:Assets written to: C:\\Users\\shubh\\AppData\\Local\\Temp\\tmp9otup9v5\\assets\n"
     ]
    },
    {
     "name": "stderr",
     "output_type": "stream",
     "text": [
      "INFO:tensorflow:Assets written to: C:\\Users\\shubh\\AppData\\Local\\Temp\\tmp9otup9v5\\assets\n"
     ]
    },
    {
     "name": "stdout",
     "output_type": "stream",
     "text": [
      "Epoch 1/50\n",
      "143/143 [==============================] - 3s 5ms/step - loss: 0.6341 - accuracy: 0.7936\n",
      "Epoch 2/50\n",
      "143/143 [==============================] - 1s 5ms/step - loss: 0.3686 - accuracy: 0.7959\n",
      "Epoch 3/50\n",
      "143/143 [==============================] - 1s 5ms/step - loss: 0.2298 - accuracy: 0.7959\n",
      "Epoch 4/50\n",
      "143/143 [==============================] - 1s 4ms/step - loss: 0.1667 - accuracy: 0.7972\n",
      "Epoch 5/50\n",
      "143/143 [==============================] - 1s 5ms/step - loss: 0.1457 - accuracy: 0.9917\n",
      "Epoch 6/50\n",
      "143/143 [==============================] - 1s 5ms/step - loss: 0.1334 - accuracy: 0.9970\n",
      "Epoch 7/50\n",
      "143/143 [==============================] - 1s 5ms/step - loss: 0.1231 - accuracy: 0.9980\n",
      "Epoch 8/50\n",
      "143/143 [==============================] - 1s 5ms/step - loss: 0.1138 - accuracy: 0.9980\n",
      "Epoch 9/50\n",
      "143/143 [==============================] - 1s 5ms/step - loss: 0.1054 - accuracy: 0.9980\n",
      "Epoch 10/50\n",
      "143/143 [==============================] - 1s 5ms/step - loss: 0.0976 - accuracy: 0.9980\n",
      "Epoch 11/50\n",
      "143/143 [==============================] - 1s 5ms/step - loss: 0.0904 - accuracy: 0.9980\n",
      "Epoch 12/50\n",
      "143/143 [==============================] - 1s 5ms/step - loss: 0.0839 - accuracy: 0.9980\n",
      "Epoch 13/50\n",
      "143/143 [==============================] - 1s 5ms/step - loss: 0.0779 - accuracy: 0.9980\n",
      "Epoch 14/50\n",
      "143/143 [==============================] - 1s 6ms/step - loss: 0.0724 - accuracy: 0.9980\n",
      "Epoch 15/50\n",
      "143/143 [==============================] - 1s 5ms/step - loss: 0.0675 - accuracy: 0.9980\n",
      "Epoch 16/50\n",
      "143/143 [==============================] - 1s 5ms/step - loss: 0.0629 - accuracy: 0.9980\n",
      "Epoch 17/50\n",
      "143/143 [==============================] - 1s 5ms/step - loss: 0.0587 - accuracy: 0.9980\n",
      "Epoch 18/50\n",
      "143/143 [==============================] - 1s 5ms/step - loss: 0.0549 - accuracy: 0.9980\n",
      "Epoch 19/50\n",
      "143/143 [==============================] - 1s 5ms/step - loss: 0.0514 - accuracy: 0.9980\n",
      "Epoch 20/50\n",
      "143/143 [==============================] - 1s 5ms/step - loss: 0.0482 - accuracy: 0.9980\n",
      "Epoch 21/50\n",
      "143/143 [==============================] - 1s 5ms/step - loss: 0.0452 - accuracy: 0.9980\n",
      "Epoch 22/50\n",
      "143/143 [==============================] - 1s 5ms/step - loss: 0.0425 - accuracy: 0.9980\n",
      "Epoch 23/50\n",
      "143/143 [==============================] - 1s 5ms/step - loss: 0.0401 - accuracy: 0.9980\n",
      "Epoch 24/50\n",
      "143/143 [==============================] - 1s 5ms/step - loss: 0.0378 - accuracy: 0.9980\n",
      "Epoch 25/50\n",
      "143/143 [==============================] - 1s 7ms/step - loss: 0.0356 - accuracy: 0.9980\n",
      "Epoch 26/50\n",
      "143/143 [==============================] - 1s 5ms/step - loss: 0.0339 - accuracy: 0.9980\n",
      "Epoch 27/50\n",
      "143/143 [==============================] - 1s 5ms/step - loss: 0.0321 - accuracy: 0.9980\n",
      "Epoch 28/50\n",
      "143/143 [==============================] - 1s 5ms/step - loss: 0.0305 - accuracy: 0.9980\n",
      "Epoch 29/50\n",
      "143/143 [==============================] - 1s 5ms/step - loss: 0.0290 - accuracy: 0.9980\n",
      "Epoch 30/50\n",
      "143/143 [==============================] - 1s 5ms/step - loss: 0.0276 - accuracy: 0.9980\n",
      "Epoch 31/50\n",
      "143/143 [==============================] - 1s 5ms/step - loss: 0.0264 - accuracy: 0.9980\n",
      "Epoch 32/50\n",
      "143/143 [==============================] - 1s 5ms/step - loss: 0.0252 - accuracy: 0.9980\n",
      "Epoch 33/50\n",
      "143/143 [==============================] - 1s 5ms/step - loss: 0.0241 - accuracy: 0.9980\n",
      "Epoch 34/50\n",
      "143/143 [==============================] - 1s 5ms/step - loss: 0.0230 - accuracy: 0.9980\n",
      "Epoch 35/50\n",
      "143/143 [==============================] - 1s 5ms/step - loss: 0.0222 - accuracy: 0.9980\n",
      "Epoch 36/50\n",
      "143/143 [==============================] - 1s 5ms/step - loss: 0.0213 - accuracy: 0.9980\n",
      "Epoch 37/50\n",
      "143/143 [==============================] - 1s 6ms/step - loss: 0.0206 - accuracy: 0.9980\n",
      "Epoch 38/50\n",
      "143/143 [==============================] - 1s 5ms/step - loss: 0.0199 - accuracy: 0.9980\n",
      "Epoch 39/50\n",
      "143/143 [==============================] - 1s 5ms/step - loss: 0.0191 - accuracy: 0.9980\n",
      "Epoch 40/50\n",
      "143/143 [==============================] - 1s 6ms/step - loss: 0.0185 - accuracy: 0.9980\n",
      "Epoch 41/50\n",
      "143/143 [==============================] - 1s 6ms/step - loss: 0.0179 - accuracy: 0.9980\n",
      "Epoch 42/50\n",
      "143/143 [==============================] - 1s 5ms/step - loss: 0.0174 - accuracy: 0.9980\n",
      "Epoch 43/50\n",
      "143/143 [==============================] - 1s 5ms/step - loss: 0.0170 - accuracy: 0.9980\n",
      "Epoch 44/50\n",
      "143/143 [==============================] - 1s 5ms/step - loss: 0.0165 - accuracy: 0.9980\n",
      "Epoch 45/50\n",
      "143/143 [==============================] - 1s 5ms/step - loss: 0.0160 - accuracy: 0.9980\n",
      "Epoch 46/50\n",
      "143/143 [==============================] - 1s 5ms/step - loss: 0.0156 - accuracy: 0.9980\n",
      "Epoch 47/50\n",
      "143/143 [==============================] - 1s 5ms/step - loss: 0.0153 - accuracy: 0.9980\n",
      "Epoch 48/50\n",
      "143/143 [==============================] - 1s 5ms/step - loss: 0.0149 - accuracy: 0.9980\n",
      "Epoch 49/50\n",
      "143/143 [==============================] - 1s 5ms/step - loss: 0.0146 - accuracy: 0.9980\n",
      "Epoch 50/50\n",
      "143/143 [==============================] - 1s 5ms/step - loss: 0.0144 - accuracy: 0.9980\n",
      "36/36 [==============================] - 0s 4ms/step\n"
     ]
    },
    {
     "name": "stderr",
     "output_type": "stream",
     "text": [
      "WARNING:absl:Found untraced functions such as _update_step_xla while saving (showing 1 of 1). These functions will not be directly callable after loading.\n"
     ]
    },
    {
     "name": "stdout",
     "output_type": "stream",
     "text": [
      "INFO:tensorflow:Assets written to: C:\\Users\\shubh\\AppData\\Local\\Temp\\tmp6q5_vtvn\\assets\n"
     ]
    },
    {
     "name": "stderr",
     "output_type": "stream",
     "text": [
      "INFO:tensorflow:Assets written to: C:\\Users\\shubh\\AppData\\Local\\Temp\\tmp6q5_vtvn\\assets\n"
     ]
    },
    {
     "name": "stdout",
     "output_type": "stream",
     "text": [
      "Epoch 1/50\n",
      "143/143 [==============================] - 3s 5ms/step - loss: 0.6329 - accuracy: 0.7948\n",
      "Epoch 2/50\n",
      "143/143 [==============================] - 1s 5ms/step - loss: 0.3700 - accuracy: 0.7958\n",
      "Epoch 3/50\n",
      "143/143 [==============================] - 1s 5ms/step - loss: 0.2304 - accuracy: 0.7958\n",
      "Epoch 4/50\n",
      "143/143 [==============================] - 1s 5ms/step - loss: 0.1646 - accuracy: 0.7998\n",
      "Epoch 5/50\n",
      "143/143 [==============================] - 1s 5ms/step - loss: 0.1434 - accuracy: 0.9941\n",
      "Epoch 6/50\n",
      "143/143 [==============================] - 1s 5ms/step - loss: 0.1311 - accuracy: 0.9983\n",
      "Epoch 7/50\n",
      "143/143 [==============================] - 1s 5ms/step - loss: 0.1206 - accuracy: 0.9987\n",
      "Epoch 8/50\n",
      "143/143 [==============================] - 1s 5ms/step - loss: 0.1113 - accuracy: 0.9987\n",
      "Epoch 9/50\n",
      "143/143 [==============================] - 1s 5ms/step - loss: 0.1027 - accuracy: 0.9987\n",
      "Epoch 10/50\n",
      "143/143 [==============================] - 1s 5ms/step - loss: 0.0947 - accuracy: 0.9987\n",
      "Epoch 11/50\n",
      "143/143 [==============================] - 1s 5ms/step - loss: 0.0875 - accuracy: 0.9987\n",
      "Epoch 12/50\n",
      "143/143 [==============================] - 1s 5ms/step - loss: 0.0809 - accuracy: 0.9987\n",
      "Epoch 13/50\n",
      "143/143 [==============================] - 1s 5ms/step - loss: 0.0750 - accuracy: 0.9987\n",
      "Epoch 14/50\n",
      "143/143 [==============================] - 1s 5ms/step - loss: 0.0694 - accuracy: 0.9987\n",
      "Epoch 15/50\n",
      "143/143 [==============================] - 1s 5ms/step - loss: 0.0644 - accuracy: 0.9987\n",
      "Epoch 16/50\n",
      "143/143 [==============================] - 1s 5ms/step - loss: 0.0598 - accuracy: 0.9987\n",
      "Epoch 17/50\n",
      "143/143 [==============================] - 1s 5ms/step - loss: 0.0555 - accuracy: 0.9987\n",
      "Epoch 18/50\n",
      "143/143 [==============================] - 1s 5ms/step - loss: 0.0517 - accuracy: 0.9987\n",
      "Epoch 19/50\n",
      "143/143 [==============================] - 1s 5ms/step - loss: 0.0481 - accuracy: 0.9987\n",
      "Epoch 20/50\n",
      "143/143 [==============================] - 1s 5ms/step - loss: 0.0448 - accuracy: 0.9987\n",
      "Epoch 21/50\n",
      "143/143 [==============================] - 1s 5ms/step - loss: 0.0419 - accuracy: 0.9987\n",
      "Epoch 22/50\n",
      "143/143 [==============================] - 1s 5ms/step - loss: 0.0392 - accuracy: 0.9987\n",
      "Epoch 23/50\n",
      "143/143 [==============================] - 1s 5ms/step - loss: 0.0366 - accuracy: 0.9987\n",
      "Epoch 24/50\n",
      "143/143 [==============================] - 1s 5ms/step - loss: 0.0344 - accuracy: 0.9987\n",
      "Epoch 25/50\n",
      "143/143 [==============================] - 1s 5ms/step - loss: 0.0322 - accuracy: 0.9987\n",
      "Epoch 26/50\n",
      "143/143 [==============================] - 1s 5ms/step - loss: 0.0303 - accuracy: 0.9987\n",
      "Epoch 27/50\n",
      "143/143 [==============================] - 1s 6ms/step - loss: 0.0284 - accuracy: 0.9989\n",
      "Epoch 28/50\n",
      "143/143 [==============================] - 1s 5ms/step - loss: 0.0268 - accuracy: 0.9987\n",
      "Epoch 29/50\n",
      "143/143 [==============================] - 1s 5ms/step - loss: 0.0253 - accuracy: 0.9987\n",
      "Epoch 30/50\n",
      "143/143 [==============================] - 1s 5ms/step - loss: 0.0239 - accuracy: 0.9987\n",
      "Epoch 31/50\n",
      "143/143 [==============================] - 1s 5ms/step - loss: 0.0225 - accuracy: 0.9989\n",
      "Epoch 32/50\n",
      "143/143 [==============================] - 1s 5ms/step - loss: 0.0214 - accuracy: 0.9987\n",
      "Epoch 33/50\n",
      "143/143 [==============================] - 1s 6ms/step - loss: 0.0203 - accuracy: 0.9989\n",
      "Epoch 34/50\n",
      "143/143 [==============================] - 1s 5ms/step - loss: 0.0192 - accuracy: 0.9989\n",
      "Epoch 35/50\n",
      "143/143 [==============================] - 1s 5ms/step - loss: 0.0183 - accuracy: 0.9987\n",
      "Epoch 36/50\n",
      "143/143 [==============================] - 1s 5ms/step - loss: 0.0174 - accuracy: 0.9989\n",
      "Epoch 37/50\n",
      "143/143 [==============================] - 1s 5ms/step - loss: 0.0166 - accuracy: 0.9989\n",
      "Epoch 38/50\n",
      "143/143 [==============================] - 1s 5ms/step - loss: 0.0158 - accuracy: 0.9989\n",
      "Epoch 39/50\n",
      "143/143 [==============================] - 1s 5ms/step - loss: 0.0151 - accuracy: 0.9989\n",
      "Epoch 40/50\n",
      "143/143 [==============================] - 1s 6ms/step - loss: 0.0144 - accuracy: 0.9989\n",
      "Epoch 41/50\n",
      "143/143 [==============================] - 1s 5ms/step - loss: 0.0140 - accuracy: 0.9987\n",
      "Epoch 42/50\n",
      "143/143 [==============================] - 1s 5ms/step - loss: 0.0133 - accuracy: 0.9989\n",
      "Epoch 43/50\n",
      "143/143 [==============================] - 1s 6ms/step - loss: 0.0127 - accuracy: 0.9989\n",
      "Epoch 44/50\n",
      "143/143 [==============================] - 1s 5ms/step - loss: 0.0122 - accuracy: 0.9989\n",
      "Epoch 45/50\n",
      "143/143 [==============================] - 1s 5ms/step - loss: 0.0118 - accuracy: 0.9989\n",
      "Epoch 46/50\n",
      "143/143 [==============================] - 1s 5ms/step - loss: 0.0114 - accuracy: 0.9989\n",
      "Epoch 47/50\n",
      "143/143 [==============================] - 1s 5ms/step - loss: 0.0110 - accuracy: 0.9989\n",
      "Epoch 48/50\n",
      "143/143 [==============================] - 1s 5ms/step - loss: 0.0106 - accuracy: 0.9989\n",
      "Epoch 49/50\n",
      "143/143 [==============================] - 1s 5ms/step - loss: 0.0103 - accuracy: 0.9989\n",
      "Epoch 50/50\n",
      "143/143 [==============================] - 1s 5ms/step - loss: 0.0099 - accuracy: 0.9989\n",
      "36/36 [==============================] - 0s 4ms/step\n"
     ]
    },
    {
     "name": "stderr",
     "output_type": "stream",
     "text": [
      "WARNING:absl:Found untraced functions such as _update_step_xla while saving (showing 1 of 1). These functions will not be directly callable after loading.\n"
     ]
    },
    {
     "name": "stdout",
     "output_type": "stream",
     "text": [
      "INFO:tensorflow:Assets written to: C:\\Users\\shubh\\AppData\\Local\\Temp\\tmp0zulsrt7\\assets\n"
     ]
    },
    {
     "name": "stderr",
     "output_type": "stream",
     "text": [
      "INFO:tensorflow:Assets written to: C:\\Users\\shubh\\AppData\\Local\\Temp\\tmp0zulsrt7\\assets\n"
     ]
    },
    {
     "name": "stdout",
     "output_type": "stream",
     "text": [
      "Epoch 1/50\n",
      "143/143 [==============================] - 3s 5ms/step - loss: 0.6340 - accuracy: 0.7937\n",
      "Epoch 2/50\n",
      "143/143 [==============================] - 1s 5ms/step - loss: 0.3670 - accuracy: 0.7958\n",
      "Epoch 3/50\n",
      "143/143 [==============================] - 1s 5ms/step - loss: 0.2283 - accuracy: 0.7958\n",
      "Epoch 4/50\n",
      "143/143 [==============================] - 1s 5ms/step - loss: 0.1652 - accuracy: 0.8047\n",
      "Epoch 5/50\n",
      "143/143 [==============================] - 1s 5ms/step - loss: 0.1447 - accuracy: 0.9933\n",
      "Epoch 6/50\n",
      "143/143 [==============================] - 1s 5ms/step - loss: 0.1325 - accuracy: 0.9975\n",
      "Epoch 7/50\n",
      "143/143 [==============================] - 1s 5ms/step - loss: 0.1221 - accuracy: 0.9983\n",
      "Epoch 8/50\n",
      "143/143 [==============================] - 1s 5ms/step - loss: 0.1128 - accuracy: 0.9984\n",
      "Epoch 9/50\n",
      "143/143 [==============================] - 1s 6ms/step - loss: 0.1042 - accuracy: 0.9984\n",
      "Epoch 10/50\n",
      "143/143 [==============================] - 1s 5ms/step - loss: 0.0964 - accuracy: 0.9984\n",
      "Epoch 11/50\n",
      "143/143 [==============================] - 1s 5ms/step - loss: 0.0893 - accuracy: 0.9984\n",
      "Epoch 12/50\n",
      "143/143 [==============================] - 1s 5ms/step - loss: 0.0828 - accuracy: 0.9984\n",
      "Epoch 13/50\n",
      "143/143 [==============================] - 1s 5ms/step - loss: 0.0768 - accuracy: 0.9984\n",
      "Epoch 14/50\n",
      "143/143 [==============================] - 1s 5ms/step - loss: 0.0713 - accuracy: 0.9984\n",
      "Epoch 15/50\n",
      "143/143 [==============================] - 1s 5ms/step - loss: 0.0663 - accuracy: 0.9984\n",
      "Epoch 16/50\n",
      "143/143 [==============================] - 1s 5ms/step - loss: 0.0617 - accuracy: 0.9984\n",
      "Epoch 17/50\n",
      "143/143 [==============================] - 1s 5ms/step - loss: 0.0575 - accuracy: 0.9984\n",
      "Epoch 18/50\n",
      "143/143 [==============================] - 1s 5ms/step - loss: 0.0537 - accuracy: 0.9984\n",
      "Epoch 19/50\n",
      "143/143 [==============================] - 1s 5ms/step - loss: 0.0502 - accuracy: 0.9984\n",
      "Epoch 20/50\n",
      "143/143 [==============================] - 1s 5ms/step - loss: 0.0470 - accuracy: 0.9984\n",
      "Epoch 21/50\n",
      "143/143 [==============================] - 1s 5ms/step - loss: 0.0440 - accuracy: 0.9984\n",
      "Epoch 22/50\n",
      "143/143 [==============================] - 1s 5ms/step - loss: 0.0413 - accuracy: 0.9984\n",
      "Epoch 23/50\n",
      "143/143 [==============================] - 1s 5ms/step - loss: 0.0388 - accuracy: 0.9984\n",
      "Epoch 24/50\n",
      "143/143 [==============================] - 1s 5ms/step - loss: 0.0366 - accuracy: 0.9984\n",
      "Epoch 25/50\n",
      "143/143 [==============================] - 1s 5ms/step - loss: 0.0344 - accuracy: 0.9984\n",
      "Epoch 26/50\n",
      "143/143 [==============================] - 1s 5ms/step - loss: 0.0326 - accuracy: 0.9984\n",
      "Epoch 27/50\n",
      "143/143 [==============================] - 1s 5ms/step - loss: 0.0307 - accuracy: 0.9984\n",
      "Epoch 28/50\n",
      "143/143 [==============================] - 1s 5ms/step - loss: 0.0291 - accuracy: 0.9984\n",
      "Epoch 29/50\n",
      "143/143 [==============================] - 1s 5ms/step - loss: 0.0276 - accuracy: 0.9984\n",
      "Epoch 30/50\n",
      "143/143 [==============================] - 1s 5ms/step - loss: 0.0262 - accuracy: 0.9984\n",
      "Epoch 31/50\n",
      "143/143 [==============================] - 1s 5ms/step - loss: 0.0249 - accuracy: 0.9984\n",
      "Epoch 32/50\n",
      "143/143 [==============================] - 1s 5ms/step - loss: 0.0238 - accuracy: 0.9984\n",
      "Epoch 33/50\n",
      "143/143 [==============================] - 1s 5ms/step - loss: 0.0227 - accuracy: 0.9984\n",
      "Epoch 34/50\n",
      "143/143 [==============================] - 1s 5ms/step - loss: 0.0217 - accuracy: 0.9984\n",
      "Epoch 35/50\n",
      "143/143 [==============================] - 1s 5ms/step - loss: 0.0207 - accuracy: 0.9984\n",
      "Epoch 36/50\n",
      "143/143 [==============================] - 1s 5ms/step - loss: 0.0198 - accuracy: 0.9984\n",
      "Epoch 37/50\n",
      "143/143 [==============================] - 1s 5ms/step - loss: 0.0190 - accuracy: 0.9984\n",
      "Epoch 38/50\n",
      "143/143 [==============================] - 1s 5ms/step - loss: 0.0183 - accuracy: 0.9984\n",
      "Epoch 39/50\n",
      "143/143 [==============================] - 1s 5ms/step - loss: 0.0176 - accuracy: 0.9984\n",
      "Epoch 40/50\n",
      "143/143 [==============================] - 1s 5ms/step - loss: 0.0170 - accuracy: 0.9984\n",
      "Epoch 41/50\n",
      "143/143 [==============================] - 1s 5ms/step - loss: 0.0163 - accuracy: 0.9984\n",
      "Epoch 42/50\n",
      "143/143 [==============================] - 1s 5ms/step - loss: 0.0158 - accuracy: 0.9984\n",
      "Epoch 43/50\n",
      "143/143 [==============================] - 1s 5ms/step - loss: 0.0152 - accuracy: 0.9984\n",
      "Epoch 44/50\n",
      "143/143 [==============================] - 1s 5ms/step - loss: 0.0149 - accuracy: 0.9984\n",
      "Epoch 45/50\n",
      "143/143 [==============================] - 1s 5ms/step - loss: 0.0144 - accuracy: 0.9984\n",
      "Epoch 46/50\n",
      "143/143 [==============================] - 1s 5ms/step - loss: 0.0140 - accuracy: 0.9984\n",
      "Epoch 47/50\n",
      "143/143 [==============================] - 1s 5ms/step - loss: 0.0136 - accuracy: 0.9984\n",
      "Epoch 48/50\n",
      "143/143 [==============================] - 1s 5ms/step - loss: 0.0132 - accuracy: 0.9984\n",
      "Epoch 49/50\n",
      "143/143 [==============================] - 1s 5ms/step - loss: 0.0129 - accuracy: 0.9984\n",
      "Epoch 50/50\n",
      "143/143 [==============================] - 1s 5ms/step - loss: 0.0126 - accuracy: 0.9984\n",
      "36/36 [==============================] - 0s 4ms/step\n"
     ]
    },
    {
     "name": "stderr",
     "output_type": "stream",
     "text": [
      "WARNING:absl:Found untraced functions such as _update_step_xla while saving (showing 1 of 1). These functions will not be directly callable after loading.\n"
     ]
    },
    {
     "name": "stdout",
     "output_type": "stream",
     "text": [
      "INFO:tensorflow:Assets written to: C:\\Users\\shubh\\AppData\\Local\\Temp\\tmpok8ovd7a\\assets\n"
     ]
    },
    {
     "name": "stderr",
     "output_type": "stream",
     "text": [
      "INFO:tensorflow:Assets written to: C:\\Users\\shubh\\AppData\\Local\\Temp\\tmpok8ovd7a\\assets\n"
     ]
    },
    {
     "name": "stdout",
     "output_type": "stream",
     "text": [
      "Epoch 1/50\n",
      "143/143 [==============================] - 3s 5ms/step - loss: 0.6349 - accuracy: 0.7941\n",
      "Epoch 2/50\n",
      "143/143 [==============================] - 1s 5ms/step - loss: 0.3679 - accuracy: 0.7959\n",
      "Epoch 3/50\n",
      "143/143 [==============================] - 1s 5ms/step - loss: 0.2284 - accuracy: 0.7959\n",
      "Epoch 4/50\n",
      "143/143 [==============================] - 1s 5ms/step - loss: 0.1654 - accuracy: 0.8031\n",
      "Epoch 5/50\n",
      "143/143 [==============================] - 1s 5ms/step - loss: 0.1450 - accuracy: 0.9939\n",
      "Epoch 6/50\n",
      "143/143 [==============================] - 1s 5ms/step - loss: 0.1328 - accuracy: 0.9975\n",
      "Epoch 7/50\n",
      "143/143 [==============================] - 1s 5ms/step - loss: 0.1225 - accuracy: 0.9983\n",
      "Epoch 8/50\n",
      "143/143 [==============================] - 1s 5ms/step - loss: 0.1133 - accuracy: 0.9983\n",
      "Epoch 9/50\n",
      "143/143 [==============================] - 1s 5ms/step - loss: 0.1048 - accuracy: 0.9983\n",
      "Epoch 10/50\n",
      "143/143 [==============================] - 1s 5ms/step - loss: 0.0970 - accuracy: 0.9983\n",
      "Epoch 11/50\n",
      "143/143 [==============================] - 1s 5ms/step - loss: 0.0899 - accuracy: 0.9983\n",
      "Epoch 12/50\n",
      "143/143 [==============================] - 1s 5ms/step - loss: 0.0833 - accuracy: 0.9983\n",
      "Epoch 13/50\n",
      "143/143 [==============================] - 1s 5ms/step - loss: 0.0773 - accuracy: 0.9983\n",
      "Epoch 14/50\n",
      "143/143 [==============================] - 1s 5ms/step - loss: 0.0718 - accuracy: 0.9983\n",
      "Epoch 15/50\n",
      "143/143 [==============================] - 1s 5ms/step - loss: 0.0668 - accuracy: 0.9983\n",
      "Epoch 16/50\n",
      "143/143 [==============================] - 1s 5ms/step - loss: 0.0622 - accuracy: 0.9983\n",
      "Epoch 17/50\n",
      "143/143 [==============================] - 1s 5ms/step - loss: 0.0580 - accuracy: 0.9983\n",
      "Epoch 18/50\n",
      "143/143 [==============================] - 1s 5ms/step - loss: 0.0542 - accuracy: 0.9983\n",
      "Epoch 19/50\n",
      "143/143 [==============================] - 1s 5ms/step - loss: 0.0507 - accuracy: 0.9983\n",
      "Epoch 20/50\n",
      "143/143 [==============================] - 1s 5ms/step - loss: 0.0475 - accuracy: 0.9983\n",
      "Epoch 21/50\n",
      "143/143 [==============================] - 1s 5ms/step - loss: 0.0445 - accuracy: 0.9983\n",
      "Epoch 22/50\n",
      "143/143 [==============================] - 1s 5ms/step - loss: 0.0418 - accuracy: 0.9983\n",
      "Epoch 23/50\n",
      "143/143 [==============================] - 1s 5ms/step - loss: 0.0394 - accuracy: 0.9983\n",
      "Epoch 24/50\n",
      "143/143 [==============================] - 1s 5ms/step - loss: 0.0371 - accuracy: 0.9983\n",
      "Epoch 25/50\n",
      "143/143 [==============================] - 1s 5ms/step - loss: 0.0350 - accuracy: 0.9983\n",
      "Epoch 26/50\n",
      "143/143 [==============================] - 1s 5ms/step - loss: 0.0330 - accuracy: 0.9983\n",
      "Epoch 27/50\n",
      "143/143 [==============================] - 1s 5ms/step - loss: 0.0312 - accuracy: 0.9983\n",
      "Epoch 28/50\n",
      "143/143 [==============================] - 1s 5ms/step - loss: 0.0296 - accuracy: 0.9983\n",
      "Epoch 29/50\n",
      "143/143 [==============================] - 1s 5ms/step - loss: 0.0281 - accuracy: 0.9983\n",
      "Epoch 30/50\n",
      "143/143 [==============================] - 1s 5ms/step - loss: 0.0267 - accuracy: 0.9983\n",
      "Epoch 31/50\n",
      "143/143 [==============================] - 1s 5ms/step - loss: 0.0254 - accuracy: 0.9983\n",
      "Epoch 32/50\n",
      "143/143 [==============================] - 1s 5ms/step - loss: 0.0242 - accuracy: 0.9983\n",
      "Epoch 33/50\n",
      "143/143 [==============================] - 1s 5ms/step - loss: 0.0231 - accuracy: 0.9983\n",
      "Epoch 34/50\n",
      "143/143 [==============================] - 1s 5ms/step - loss: 0.0221 - accuracy: 0.9983\n",
      "Epoch 35/50\n",
      "143/143 [==============================] - 1s 5ms/step - loss: 0.0212 - accuracy: 0.9983\n",
      "Epoch 36/50\n",
      "143/143 [==============================] - 1s 5ms/step - loss: 0.0202 - accuracy: 0.9983\n",
      "Epoch 37/50\n",
      "143/143 [==============================] - 1s 6ms/step - loss: 0.0195 - accuracy: 0.9983\n",
      "Epoch 38/50\n",
      "143/143 [==============================] - 1s 6ms/step - loss: 0.0187 - accuracy: 0.9983\n",
      "Epoch 39/50\n",
      "143/143 [==============================] - 1s 5ms/step - loss: 0.0180 - accuracy: 0.9983\n",
      "Epoch 40/50\n",
      "143/143 [==============================] - 1s 5ms/step - loss: 0.0174 - accuracy: 0.9983\n",
      "Epoch 41/50\n",
      "143/143 [==============================] - 1s 5ms/step - loss: 0.0168 - accuracy: 0.9983\n",
      "Epoch 42/50\n",
      "143/143 [==============================] - 1s 7ms/step - loss: 0.0161 - accuracy: 0.9983\n",
      "Epoch 43/50\n",
      "143/143 [==============================] - 1s 5ms/step - loss: 0.0157 - accuracy: 0.9983\n",
      "Epoch 44/50\n",
      "143/143 [==============================] - 1s 5ms/step - loss: 0.0152 - accuracy: 0.9983\n",
      "Epoch 45/50\n",
      "143/143 [==============================] - 1s 5ms/step - loss: 0.0148 - accuracy: 0.9983\n",
      "Epoch 46/50\n",
      "143/143 [==============================] - 1s 5ms/step - loss: 0.0143 - accuracy: 0.9983\n",
      "Epoch 47/50\n",
      "143/143 [==============================] - 1s 5ms/step - loss: 0.0139 - accuracy: 0.9983\n",
      "Epoch 48/50\n",
      "143/143 [==============================] - 1s 5ms/step - loss: 0.0135 - accuracy: 0.9983\n",
      "Epoch 49/50\n",
      "143/143 [==============================] - 1s 5ms/step - loss: 0.0132 - accuracy: 0.9983\n",
      "Epoch 50/50\n",
      "143/143 [==============================] - 1s 5ms/step - loss: 0.0128 - accuracy: 0.9983\n",
      "36/36 [==============================] - 0s 4ms/step\n"
     ]
    },
    {
     "name": "stderr",
     "output_type": "stream",
     "text": [
      "WARNING:absl:Found untraced functions such as _update_step_xla while saving (showing 1 of 1). These functions will not be directly callable after loading.\n"
     ]
    },
    {
     "name": "stdout",
     "output_type": "stream",
     "text": [
      "INFO:tensorflow:Assets written to: C:\\Users\\shubh\\AppData\\Local\\Temp\\tmp81zanpz3\\assets\n"
     ]
    },
    {
     "name": "stderr",
     "output_type": "stream",
     "text": [
      "INFO:tensorflow:Assets written to: C:\\Users\\shubh\\AppData\\Local\\Temp\\tmp81zanpz3\\assets\n"
     ]
    },
    {
     "name": "stdout",
     "output_type": "stream",
     "text": [
      "WARNING:tensorflow:Detecting that an object or model or tf.train.Checkpoint is being deleted with unrestored values. See the following logs for the specific values in question. To silence these warnings, use `status.expect_partial()`. See https://www.tensorflow.org/api_docs/python/tf/train/Checkpoint#restorefor details about the status object returned by the restore function.\n"
     ]
    },
    {
     "name": "stderr",
     "output_type": "stream",
     "text": [
      "WARNING:tensorflow:Detecting that an object or model or tf.train.Checkpoint is being deleted with unrestored values. See the following logs for the specific values in question. To silence these warnings, use `status.expect_partial()`. See https://www.tensorflow.org/api_docs/python/tf/train/Checkpoint#restorefor details about the status object returned by the restore function.\n"
     ]
    },
    {
     "name": "stdout",
     "output_type": "stream",
     "text": [
      "WARNING:tensorflow:Value in checkpoint could not be found in the restored object: (root).keras_api.metrics.0.total\n"
     ]
    },
    {
     "name": "stderr",
     "output_type": "stream",
     "text": [
      "WARNING:tensorflow:Value in checkpoint could not be found in the restored object: (root).keras_api.metrics.0.total\n"
     ]
    },
    {
     "name": "stdout",
     "output_type": "stream",
     "text": [
      "WARNING:tensorflow:Value in checkpoint could not be found in the restored object: (root).keras_api.metrics.0.count\n"
     ]
    },
    {
     "name": "stderr",
     "output_type": "stream",
     "text": [
      "WARNING:tensorflow:Value in checkpoint could not be found in the restored object: (root).keras_api.metrics.0.count\n"
     ]
    },
    {
     "name": "stdout",
     "output_type": "stream",
     "text": [
      "WARNING:tensorflow:Value in checkpoint could not be found in the restored object: (root).keras_api.metrics.1.total\n"
     ]
    },
    {
     "name": "stderr",
     "output_type": "stream",
     "text": [
      "WARNING:tensorflow:Value in checkpoint could not be found in the restored object: (root).keras_api.metrics.1.total\n"
     ]
    },
    {
     "name": "stdout",
     "output_type": "stream",
     "text": [
      "WARNING:tensorflow:Value in checkpoint could not be found in the restored object: (root).keras_api.metrics.1.count\n"
     ]
    },
    {
     "name": "stderr",
     "output_type": "stream",
     "text": [
      "WARNING:tensorflow:Value in checkpoint could not be found in the restored object: (root).keras_api.metrics.1.count\n"
     ]
    },
    {
     "name": "stdout",
     "output_type": "stream",
     "text": [
      "WARNING:tensorflow:Detecting that an object or model or tf.train.Checkpoint is being deleted with unrestored values. See the following logs for the specific values in question. To silence these warnings, use `status.expect_partial()`. See https://www.tensorflow.org/api_docs/python/tf/train/Checkpoint#restorefor details about the status object returned by the restore function.\n"
     ]
    },
    {
     "name": "stderr",
     "output_type": "stream",
     "text": [
      "WARNING:tensorflow:Detecting that an object or model or tf.train.Checkpoint is being deleted with unrestored values. See the following logs for the specific values in question. To silence these warnings, use `status.expect_partial()`. See https://www.tensorflow.org/api_docs/python/tf/train/Checkpoint#restorefor details about the status object returned by the restore function.\n"
     ]
    },
    {
     "name": "stdout",
     "output_type": "stream",
     "text": [
      "WARNING:tensorflow:Value in checkpoint could not be found in the restored object: (root).keras_api.metrics.0.total\n"
     ]
    },
    {
     "name": "stderr",
     "output_type": "stream",
     "text": [
      "WARNING:tensorflow:Value in checkpoint could not be found in the restored object: (root).keras_api.metrics.0.total\n"
     ]
    },
    {
     "name": "stdout",
     "output_type": "stream",
     "text": [
      "WARNING:tensorflow:Value in checkpoint could not be found in the restored object: (root).keras_api.metrics.0.count\n"
     ]
    },
    {
     "name": "stderr",
     "output_type": "stream",
     "text": [
      "WARNING:tensorflow:Value in checkpoint could not be found in the restored object: (root).keras_api.metrics.0.count\n"
     ]
    },
    {
     "name": "stdout",
     "output_type": "stream",
     "text": [
      "WARNING:tensorflow:Value in checkpoint could not be found in the restored object: (root).keras_api.metrics.1.total\n"
     ]
    },
    {
     "name": "stderr",
     "output_type": "stream",
     "text": [
      "WARNING:tensorflow:Value in checkpoint could not be found in the restored object: (root).keras_api.metrics.1.total\n"
     ]
    },
    {
     "name": "stdout",
     "output_type": "stream",
     "text": [
      "WARNING:tensorflow:Value in checkpoint could not be found in the restored object: (root).keras_api.metrics.1.count\n"
     ]
    },
    {
     "name": "stderr",
     "output_type": "stream",
     "text": [
      "WARNING:tensorflow:Value in checkpoint could not be found in the restored object: (root).keras_api.metrics.1.count\n"
     ]
    },
    {
     "name": "stdout",
     "output_type": "stream",
     "text": [
      "WARNING:tensorflow:Detecting that an object or model or tf.train.Checkpoint is being deleted with unrestored values. See the following logs for the specific values in question. To silence these warnings, use `status.expect_partial()`. See https://www.tensorflow.org/api_docs/python/tf/train/Checkpoint#restorefor details about the status object returned by the restore function.\n"
     ]
    },
    {
     "name": "stderr",
     "output_type": "stream",
     "text": [
      "WARNING:tensorflow:Detecting that an object or model or tf.train.Checkpoint is being deleted with unrestored values. See the following logs for the specific values in question. To silence these warnings, use `status.expect_partial()`. See https://www.tensorflow.org/api_docs/python/tf/train/Checkpoint#restorefor details about the status object returned by the restore function.\n"
     ]
    },
    {
     "name": "stdout",
     "output_type": "stream",
     "text": [
      "WARNING:tensorflow:Value in checkpoint could not be found in the restored object: (root).keras_api.metrics.0.total\n"
     ]
    },
    {
     "name": "stderr",
     "output_type": "stream",
     "text": [
      "WARNING:tensorflow:Value in checkpoint could not be found in the restored object: (root).keras_api.metrics.0.total\n"
     ]
    },
    {
     "name": "stdout",
     "output_type": "stream",
     "text": [
      "WARNING:tensorflow:Value in checkpoint could not be found in the restored object: (root).keras_api.metrics.0.count\n"
     ]
    },
    {
     "name": "stderr",
     "output_type": "stream",
     "text": [
      "WARNING:tensorflow:Value in checkpoint could not be found in the restored object: (root).keras_api.metrics.0.count\n"
     ]
    },
    {
     "name": "stdout",
     "output_type": "stream",
     "text": [
      "WARNING:tensorflow:Value in checkpoint could not be found in the restored object: (root).keras_api.metrics.1.total\n"
     ]
    },
    {
     "name": "stderr",
     "output_type": "stream",
     "text": [
      "WARNING:tensorflow:Value in checkpoint could not be found in the restored object: (root).keras_api.metrics.1.total\n"
     ]
    },
    {
     "name": "stdout",
     "output_type": "stream",
     "text": [
      "WARNING:tensorflow:Value in checkpoint could not be found in the restored object: (root).keras_api.metrics.1.count\n"
     ]
    },
    {
     "name": "stderr",
     "output_type": "stream",
     "text": [
      "WARNING:tensorflow:Value in checkpoint could not be found in the restored object: (root).keras_api.metrics.1.count\n"
     ]
    },
    {
     "name": "stdout",
     "output_type": "stream",
     "text": [
      "WARNING:tensorflow:Detecting that an object or model or tf.train.Checkpoint is being deleted with unrestored values. See the following logs for the specific values in question. To silence these warnings, use `status.expect_partial()`. See https://www.tensorflow.org/api_docs/python/tf/train/Checkpoint#restorefor details about the status object returned by the restore function.\n"
     ]
    },
    {
     "name": "stderr",
     "output_type": "stream",
     "text": [
      "WARNING:tensorflow:Detecting that an object or model or tf.train.Checkpoint is being deleted with unrestored values. See the following logs for the specific values in question. To silence these warnings, use `status.expect_partial()`. See https://www.tensorflow.org/api_docs/python/tf/train/Checkpoint#restorefor details about the status object returned by the restore function.\n"
     ]
    },
    {
     "name": "stdout",
     "output_type": "stream",
     "text": [
      "WARNING:tensorflow:Value in checkpoint could not be found in the restored object: (root).keras_api.metrics.0.total\n"
     ]
    },
    {
     "name": "stderr",
     "output_type": "stream",
     "text": [
      "WARNING:tensorflow:Value in checkpoint could not be found in the restored object: (root).keras_api.metrics.0.total\n"
     ]
    },
    {
     "name": "stdout",
     "output_type": "stream",
     "text": [
      "WARNING:tensorflow:Value in checkpoint could not be found in the restored object: (root).keras_api.metrics.0.count\n"
     ]
    },
    {
     "name": "stderr",
     "output_type": "stream",
     "text": [
      "WARNING:tensorflow:Value in checkpoint could not be found in the restored object: (root).keras_api.metrics.0.count\n"
     ]
    },
    {
     "name": "stdout",
     "output_type": "stream",
     "text": [
      "WARNING:tensorflow:Value in checkpoint could not be found in the restored object: (root).keras_api.metrics.1.total\n"
     ]
    },
    {
     "name": "stderr",
     "output_type": "stream",
     "text": [
      "WARNING:tensorflow:Value in checkpoint could not be found in the restored object: (root).keras_api.metrics.1.total\n"
     ]
    },
    {
     "name": "stdout",
     "output_type": "stream",
     "text": [
      "WARNING:tensorflow:Value in checkpoint could not be found in the restored object: (root).keras_api.metrics.1.count\n"
     ]
    },
    {
     "name": "stderr",
     "output_type": "stream",
     "text": [
      "WARNING:tensorflow:Value in checkpoint could not be found in the restored object: (root).keras_api.metrics.1.count\n"
     ]
    },
    {
     "name": "stdout",
     "output_type": "stream",
     "text": [
      "Epoch 1/50\n",
      "143/143 [==============================] - 3s 5ms/step - loss: 0.6346 - accuracy: 0.7947\n",
      "Epoch 2/50\n",
      "143/143 [==============================] - 1s 5ms/step - loss: 0.3683 - accuracy: 0.7959\n",
      "Epoch 3/50\n",
      "143/143 [==============================] - 1s 5ms/step - loss: 0.2289 - accuracy: 0.7959\n",
      "Epoch 4/50\n",
      "143/143 [==============================] - 1s 5ms/step - loss: 0.1648 - accuracy: 0.8016\n",
      "Epoch 5/50\n",
      "143/143 [==============================] - 1s 5ms/step - loss: 0.1443 - accuracy: 0.9927\n",
      "Epoch 6/50\n",
      "143/143 [==============================] - 1s 5ms/step - loss: 0.1320 - accuracy: 0.9977\n",
      "Epoch 7/50\n",
      "143/143 [==============================] - 1s 5ms/step - loss: 0.1216 - accuracy: 0.9983\n",
      "Epoch 8/50\n",
      "143/143 [==============================] - 1s 5ms/step - loss: 0.1122 - accuracy: 0.9984\n",
      "Epoch 9/50\n",
      "143/143 [==============================] - 1s 5ms/step - loss: 0.1037 - accuracy: 0.9984\n",
      "Epoch 10/50\n",
      "143/143 [==============================] - 1s 5ms/step - loss: 0.0959 - accuracy: 0.9984\n",
      "Epoch 11/50\n",
      "143/143 [==============================] - 1s 5ms/step - loss: 0.0888 - accuracy: 0.9984\n",
      "Epoch 12/50\n",
      "143/143 [==============================] - 1s 5ms/step - loss: 0.0823 - accuracy: 0.9984\n",
      "Epoch 13/50\n",
      "143/143 [==============================] - 1s 5ms/step - loss: 0.0762 - accuracy: 0.9984\n",
      "Epoch 14/50\n",
      "143/143 [==============================] - 1s 5ms/step - loss: 0.0707 - accuracy: 0.9984\n",
      "Epoch 15/50\n",
      "143/143 [==============================] - 1s 5ms/step - loss: 0.0657 - accuracy: 0.9984\n",
      "Epoch 16/50\n",
      "143/143 [==============================] - 1s 5ms/step - loss: 0.0612 - accuracy: 0.9984\n",
      "Epoch 17/50\n",
      "143/143 [==============================] - 1s 5ms/step - loss: 0.0570 - accuracy: 0.9984\n",
      "Epoch 18/50\n",
      "143/143 [==============================] - 1s 5ms/step - loss: 0.0531 - accuracy: 0.9984\n",
      "Epoch 19/50\n",
      "143/143 [==============================] - 1s 5ms/step - loss: 0.0496 - accuracy: 0.9984\n",
      "Epoch 20/50\n",
      "143/143 [==============================] - 1s 5ms/step - loss: 0.0464 - accuracy: 0.9984\n",
      "Epoch 21/50\n",
      "143/143 [==============================] - 1s 5ms/step - loss: 0.0435 - accuracy: 0.9984\n",
      "Epoch 22/50\n",
      "143/143 [==============================] - 1s 5ms/step - loss: 0.0408 - accuracy: 0.9984\n",
      "Epoch 23/50\n",
      "143/143 [==============================] - 1s 5ms/step - loss: 0.0383 - accuracy: 0.9984\n",
      "Epoch 24/50\n",
      "143/143 [==============================] - 1s 5ms/step - loss: 0.0361 - accuracy: 0.9984\n",
      "Epoch 25/50\n",
      "143/143 [==============================] - 1s 5ms/step - loss: 0.0340 - accuracy: 0.9984\n",
      "Epoch 26/50\n",
      "143/143 [==============================] - 1s 5ms/step - loss: 0.0321 - accuracy: 0.9984\n",
      "Epoch 27/50\n",
      "143/143 [==============================] - 1s 5ms/step - loss: 0.0303 - accuracy: 0.9984\n",
      "Epoch 28/50\n",
      "143/143 [==============================] - 1s 6ms/step - loss: 0.0288 - accuracy: 0.9984\n",
      "Epoch 29/50\n",
      "143/143 [==============================] - 1s 5ms/step - loss: 0.0272 - accuracy: 0.9984\n",
      "Epoch 30/50\n",
      "143/143 [==============================] - 1s 5ms/step - loss: 0.0258 - accuracy: 0.9984\n",
      "Epoch 31/50\n",
      "143/143 [==============================] - 1s 5ms/step - loss: 0.0245 - accuracy: 0.9984\n",
      "Epoch 32/50\n",
      "143/143 [==============================] - 1s 5ms/step - loss: 0.0233 - accuracy: 0.9984\n",
      "Epoch 33/50\n",
      "143/143 [==============================] - 1s 5ms/step - loss: 0.0222 - accuracy: 0.9984\n",
      "Epoch 34/50\n",
      "143/143 [==============================] - 1s 5ms/step - loss: 0.0212 - accuracy: 0.9984\n",
      "Epoch 35/50\n",
      "143/143 [==============================] - 1s 5ms/step - loss: 0.0203 - accuracy: 0.9984\n",
      "Epoch 36/50\n",
      "143/143 [==============================] - 1s 5ms/step - loss: 0.0194 - accuracy: 0.9984\n",
      "Epoch 37/50\n",
      "143/143 [==============================] - 1s 5ms/step - loss: 0.0186 - accuracy: 0.9984\n",
      "Epoch 38/50\n",
      "143/143 [==============================] - 1s 5ms/step - loss: 0.0178 - accuracy: 0.9984\n",
      "Epoch 39/50\n",
      "143/143 [==============================] - 1s 5ms/step - loss: 0.0171 - accuracy: 0.9984\n",
      "Epoch 40/50\n",
      "143/143 [==============================] - 1s 5ms/step - loss: 0.0165 - accuracy: 0.9984\n",
      "Epoch 41/50\n",
      "143/143 [==============================] - 1s 5ms/step - loss: 0.0158 - accuracy: 0.9984\n",
      "Epoch 42/50\n",
      "143/143 [==============================] - 1s 5ms/step - loss: 0.0153 - accuracy: 0.9984\n",
      "Epoch 43/50\n",
      "143/143 [==============================] - 1s 6ms/step - loss: 0.0148 - accuracy: 0.9984\n",
      "Epoch 44/50\n",
      "143/143 [==============================] - 1s 5ms/step - loss: 0.0143 - accuracy: 0.9984\n",
      "Epoch 45/50\n",
      "143/143 [==============================] - 1s 5ms/step - loss: 0.0138 - accuracy: 0.9984\n",
      "Epoch 46/50\n",
      "143/143 [==============================] - 1s 5ms/step - loss: 0.0134 - accuracy: 0.9984\n",
      "Epoch 47/50\n",
      "143/143 [==============================] - 1s 5ms/step - loss: 0.0130 - accuracy: 0.9984\n",
      "Epoch 48/50\n",
      "143/143 [==============================] - 1s 6ms/step - loss: 0.0126 - accuracy: 0.9984\n",
      "Epoch 49/50\n",
      "143/143 [==============================] - 1s 6ms/step - loss: 0.0123 - accuracy: 0.9984\n",
      "Epoch 50/50\n",
      "143/143 [==============================] - 1s 5ms/step - loss: 0.0120 - accuracy: 0.9984\n",
      "36/36 [==============================] - 0s 3ms/step\n"
     ]
    },
    {
     "name": "stderr",
     "output_type": "stream",
     "text": [
      "WARNING:absl:Found untraced functions such as _update_step_xla while saving (showing 1 of 1). These functions will not be directly callable after loading.\n"
     ]
    },
    {
     "name": "stdout",
     "output_type": "stream",
     "text": [
      "INFO:tensorflow:Assets written to: C:\\Users\\shubh\\AppData\\Local\\Temp\\tmpb84i2lp6\\assets\n"
     ]
    },
    {
     "name": "stderr",
     "output_type": "stream",
     "text": [
      "INFO:tensorflow:Assets written to: C:\\Users\\shubh\\AppData\\Local\\Temp\\tmpb84i2lp6\\assets\n"
     ]
    },
    {
     "name": "stdout",
     "output_type": "stream",
     "text": [
      "Epoch 1/50\n",
      "143/143 [==============================] - 3s 5ms/step - loss: 0.6347 - accuracy: 0.7944\n",
      "Epoch 2/50\n",
      "143/143 [==============================] - 1s 5ms/step - loss: 0.3671 - accuracy: 0.7959\n",
      "Epoch 3/50\n",
      "143/143 [==============================] - 1s 5ms/step - loss: 0.2288 - accuracy: 0.7959\n",
      "Epoch 4/50\n",
      "143/143 [==============================] - 1s 5ms/step - loss: 0.1659 - accuracy: 0.8033\n",
      "Epoch 5/50\n",
      "143/143 [==============================] - 1s 5ms/step - loss: 0.1453 - accuracy: 0.9916\n",
      "Epoch 6/50\n",
      "143/143 [==============================] - 1s 5ms/step - loss: 0.1332 - accuracy: 0.9972\n",
      "Epoch 7/50\n",
      "143/143 [==============================] - 1s 5ms/step - loss: 0.1228 - accuracy: 0.9980\n",
      "Epoch 8/50\n",
      "143/143 [==============================] - 1s 5ms/step - loss: 0.1136 - accuracy: 0.9980\n",
      "Epoch 9/50\n",
      "143/143 [==============================] - 1s 5ms/step - loss: 0.1051 - accuracy: 0.9980\n",
      "Epoch 10/50\n",
      "143/143 [==============================] - 1s 5ms/step - loss: 0.0973 - accuracy: 0.9980\n",
      "Epoch 11/50\n",
      "143/143 [==============================] - 1s 5ms/step - loss: 0.0902 - accuracy: 0.9980\n",
      "Epoch 12/50\n",
      "143/143 [==============================] - 1s 5ms/step - loss: 0.0836 - accuracy: 0.9980\n",
      "Epoch 13/50\n",
      "143/143 [==============================] - 1s 5ms/step - loss: 0.0777 - accuracy: 0.9980\n",
      "Epoch 14/50\n",
      "143/143 [==============================] - 1s 5ms/step - loss: 0.0722 - accuracy: 0.9980\n",
      "Epoch 15/50\n",
      "143/143 [==============================] - 1s 5ms/step - loss: 0.0672 - accuracy: 0.9980\n",
      "Epoch 16/50\n",
      "143/143 [==============================] - 1s 5ms/step - loss: 0.0626 - accuracy: 0.9980\n",
      "Epoch 17/50\n",
      "143/143 [==============================] - 1s 5ms/step - loss: 0.0584 - accuracy: 0.9980\n",
      "Epoch 18/50\n",
      "143/143 [==============================] - 1s 5ms/step - loss: 0.0546 - accuracy: 0.9980\n",
      "Epoch 19/50\n",
      "143/143 [==============================] - 1s 5ms/step - loss: 0.0512 - accuracy: 0.9980\n",
      "Epoch 20/50\n",
      "143/143 [==============================] - 1s 5ms/step - loss: 0.0479 - accuracy: 0.9980\n",
      "Epoch 21/50\n",
      "143/143 [==============================] - 1s 5ms/step - loss: 0.0450 - accuracy: 0.9980\n",
      "Epoch 22/50\n",
      "143/143 [==============================] - 1s 5ms/step - loss: 0.0424 - accuracy: 0.9980\n",
      "Epoch 23/50\n",
      "143/143 [==============================] - 1s 5ms/step - loss: 0.0399 - accuracy: 0.9980\n",
      "Epoch 24/50\n",
      "143/143 [==============================] - 1s 5ms/step - loss: 0.0376 - accuracy: 0.9980\n",
      "Epoch 25/50\n",
      "143/143 [==============================] - 1s 5ms/step - loss: 0.0356 - accuracy: 0.9980\n",
      "Epoch 26/50\n",
      "143/143 [==============================] - 1s 5ms/step - loss: 0.0337 - accuracy: 0.9980\n",
      "Epoch 27/50\n",
      "143/143 [==============================] - 1s 5ms/step - loss: 0.0319 - accuracy: 0.9980\n",
      "Epoch 28/50\n",
      "143/143 [==============================] - 1s 5ms/step - loss: 0.0303 - accuracy: 0.9980\n",
      "Epoch 29/50\n",
      "143/143 [==============================] - 1s 6ms/step - loss: 0.0288 - accuracy: 0.9980\n",
      "Epoch 30/50\n",
      "143/143 [==============================] - 1s 5ms/step - loss: 0.0274 - accuracy: 0.9980\n",
      "Epoch 31/50\n",
      "143/143 [==============================] - 1s 5ms/step - loss: 0.0262 - accuracy: 0.9980\n",
      "Epoch 32/50\n",
      "143/143 [==============================] - 1s 5ms/step - loss: 0.0250 - accuracy: 0.9980\n",
      "Epoch 33/50\n",
      "143/143 [==============================] - 1s 5ms/step - loss: 0.0240 - accuracy: 0.9980\n",
      "Epoch 34/50\n",
      "143/143 [==============================] - 1s 5ms/step - loss: 0.0229 - accuracy: 0.9980\n",
      "Epoch 35/50\n",
      "143/143 [==============================] - 1s 5ms/step - loss: 0.0221 - accuracy: 0.9980\n",
      "Epoch 36/50\n",
      "143/143 [==============================] - 1s 5ms/step - loss: 0.0212 - accuracy: 0.9980\n",
      "Epoch 37/50\n",
      "143/143 [==============================] - 1s 5ms/step - loss: 0.0204 - accuracy: 0.9980\n",
      "Epoch 38/50\n",
      "143/143 [==============================] - 1s 5ms/step - loss: 0.0197 - accuracy: 0.9980\n",
      "Epoch 39/50\n",
      "143/143 [==============================] - 1s 6ms/step - loss: 0.0190 - accuracy: 0.9980\n",
      "Epoch 40/50\n",
      "143/143 [==============================] - 1s 5ms/step - loss: 0.0184 - accuracy: 0.9980\n",
      "Epoch 41/50\n",
      "143/143 [==============================] - 1s 5ms/step - loss: 0.0178 - accuracy: 0.9980\n",
      "Epoch 42/50\n",
      "143/143 [==============================] - 1s 5ms/step - loss: 0.0172 - accuracy: 0.9980\n",
      "Epoch 43/50\n",
      "143/143 [==============================] - 1s 5ms/step - loss: 0.0168 - accuracy: 0.9980\n",
      "Epoch 44/50\n",
      "143/143 [==============================] - 1s 6ms/step - loss: 0.0163 - accuracy: 0.9980\n",
      "Epoch 45/50\n",
      "143/143 [==============================] - 1s 6ms/step - loss: 0.0159 - accuracy: 0.9980\n",
      "Epoch 46/50\n",
      "143/143 [==============================] - 1s 5ms/step - loss: 0.0155 - accuracy: 0.9980\n",
      "Epoch 47/50\n",
      "143/143 [==============================] - 1s 5ms/step - loss: 0.0152 - accuracy: 0.9980\n",
      "Epoch 48/50\n",
      "143/143 [==============================] - 1s 5ms/step - loss: 0.0148 - accuracy: 0.9980\n",
      "Epoch 49/50\n",
      "143/143 [==============================] - 1s 5ms/step - loss: 0.0144 - accuracy: 0.9980\n",
      "Epoch 50/50\n",
      "143/143 [==============================] - 1s 5ms/step - loss: 0.0141 - accuracy: 0.9980\n",
      "36/36 [==============================] - 0s 4ms/step\n"
     ]
    },
    {
     "name": "stderr",
     "output_type": "stream",
     "text": [
      "WARNING:absl:Found untraced functions such as _update_step_xla while saving (showing 1 of 1). These functions will not be directly callable after loading.\n"
     ]
    },
    {
     "name": "stdout",
     "output_type": "stream",
     "text": [
      "INFO:tensorflow:Assets written to: C:\\Users\\shubh\\AppData\\Local\\Temp\\tmpv1efoxq5\\assets\n"
     ]
    },
    {
     "name": "stderr",
     "output_type": "stream",
     "text": [
      "INFO:tensorflow:Assets written to: C:\\Users\\shubh\\AppData\\Local\\Temp\\tmpv1efoxq5\\assets\n"
     ]
    },
    {
     "name": "stdout",
     "output_type": "stream",
     "text": [
      "Epoch 1/100\n",
      "143/143 [==============================] - 3s 5ms/step - loss: 0.6324 - accuracy: 0.7950\n",
      "Epoch 2/100\n",
      "143/143 [==============================] - 1s 5ms/step - loss: 0.3670 - accuracy: 0.7958\n",
      "Epoch 3/100\n",
      "143/143 [==============================] - 1s 5ms/step - loss: 0.2285 - accuracy: 0.7958\n",
      "Epoch 4/100\n",
      "143/143 [==============================] - 1s 5ms/step - loss: 0.1646 - accuracy: 0.7997\n",
      "Epoch 5/100\n",
      "143/143 [==============================] - 1s 5ms/step - loss: 0.1435 - accuracy: 0.9941\n",
      "Epoch 6/100\n",
      "143/143 [==============================] - 1s 5ms/step - loss: 0.1310 - accuracy: 0.9984\n",
      "Epoch 7/100\n",
      "143/143 [==============================] - 1s 5ms/step - loss: 0.1205 - accuracy: 0.9987\n",
      "Epoch 8/100\n",
      "143/143 [==============================] - 1s 5ms/step - loss: 0.1111 - accuracy: 0.9987\n",
      "Epoch 9/100\n",
      "143/143 [==============================] - 1s 5ms/step - loss: 0.1025 - accuracy: 0.9987\n",
      "Epoch 10/100\n",
      "143/143 [==============================] - 1s 5ms/step - loss: 0.0946 - accuracy: 0.9987\n",
      "Epoch 11/100\n",
      "143/143 [==============================] - 1s 5ms/step - loss: 0.0874 - accuracy: 0.9987\n",
      "Epoch 12/100\n",
      "143/143 [==============================] - 1s 5ms/step - loss: 0.0808 - accuracy: 0.9987\n",
      "Epoch 13/100\n",
      "143/143 [==============================] - 1s 5ms/step - loss: 0.0748 - accuracy: 0.9987\n",
      "Epoch 14/100\n",
      "143/143 [==============================] - 1s 5ms/step - loss: 0.0693 - accuracy: 0.9987\n",
      "Epoch 15/100\n",
      "143/143 [==============================] - 1s 5ms/step - loss: 0.0642 - accuracy: 0.9987\n",
      "Epoch 16/100\n",
      "143/143 [==============================] - 1s 5ms/step - loss: 0.0596 - accuracy: 0.9987\n",
      "Epoch 17/100\n",
      "143/143 [==============================] - 1s 5ms/step - loss: 0.0554 - accuracy: 0.9987\n",
      "Epoch 18/100\n",
      "143/143 [==============================] - 1s 5ms/step - loss: 0.0516 - accuracy: 0.9987\n",
      "Epoch 19/100\n",
      "143/143 [==============================] - 1s 5ms/step - loss: 0.0480 - accuracy: 0.9987\n",
      "Epoch 20/100\n",
      "143/143 [==============================] - 1s 5ms/step - loss: 0.0448 - accuracy: 0.9987\n",
      "Epoch 21/100\n",
      "143/143 [==============================] - 1s 5ms/step - loss: 0.0418 - accuracy: 0.9987\n",
      "Epoch 22/100\n",
      "143/143 [==============================] - 1s 5ms/step - loss: 0.0391 - accuracy: 0.9987\n",
      "Epoch 23/100\n",
      "143/143 [==============================] - 1s 5ms/step - loss: 0.0366 - accuracy: 0.9987\n",
      "Epoch 24/100\n",
      "143/143 [==============================] - 1s 5ms/step - loss: 0.0343 - accuracy: 0.9987\n",
      "Epoch 25/100\n",
      " 46/143 [========>.....................] - ETA: 0s - loss: 0.0338 - accuracy: 0.9986"
     ]
    }
   ],
   "source": [
    "\n",
    "estimator = KerasClassifier(build_cross_classifier())\n",
    "param_grid = {\n",
    "    'batch_size':[10,20,32,45,51],\n",
    "     'epochs':[50,100],\n",
    "     'optimizer':['adam','rmsprop']}\n",
    "\n",
    "from sklearn.model_selection import GridSearchCV\n",
    "grid = GridSearchCV(estimator, param_grid, scoring='accuracy', cv=5)\n",
    "grid_result = grid.fit(x_train, y_train)"
   ]
  },
  {
   "cell_type": "code",
   "execution_count": null,
   "id": "ee93c0fe",
   "metadata": {},
   "outputs": [],
   "source": []
  }
 ],
 "metadata": {
  "kernelspec": {
   "display_name": "Python 3 (ipykernel)",
   "language": "python",
   "name": "python3"
  },
  "language_info": {
   "codemirror_mode": {
    "name": "ipython",
    "version": 3
   },
   "file_extension": ".py",
   "mimetype": "text/x-python",
   "name": "python",
   "nbconvert_exporter": "python",
   "pygments_lexer": "ipython3",
   "version": "3.9.13"
  }
 },
 "nbformat": 4,
 "nbformat_minor": 5
}
